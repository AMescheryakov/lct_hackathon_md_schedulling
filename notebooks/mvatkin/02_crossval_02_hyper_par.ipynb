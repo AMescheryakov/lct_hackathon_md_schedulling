{
 "cells": [
  {
   "cell_type": "code",
   "execution_count": 1,
   "metadata": {
    "tags": []
   },
   "outputs": [],
   "source": [
    "%matplotlib inline\n",
    "\n",
    "import pandas as pd\n",
    "import numpy as np\n",
    "import matplotlib.pyplot as plt\n",
    "\n",
    "from pathlib import Path\n",
    "from darts import TimeSeries\n",
    "from darts.metrics import mape\n"
   ]
  },
  {
   "cell_type": "code",
   "execution_count": 79,
   "metadata": {
    "tags": []
   },
   "outputs": [],
   "source": [
    "DATA_ROOT = Path('../../data/')\n",
    "INPUT_DS_PATH = DATA_ROOT / 'processed' / 'dataset.parquet'\n",
    "RES_DS_PATH = DATA_ROOT / 'processed' / 'preds_hyp.xls'\n",
    "RES_PREDICTS_PATH = DATA_ROOT / 'processed' / 'res_predicts.csv'"
   ]
  },
  {
   "cell_type": "code",
   "execution_count": 24,
   "metadata": {
    "tags": []
   },
   "outputs": [
    {
     "data": {
      "text/html": [
       "<div>\n",
       "<style scoped>\n",
       "    .dataframe tbody tr th:only-of-type {\n",
       "        vertical-align: middle;\n",
       "    }\n",
       "\n",
       "    .dataframe tbody tr th {\n",
       "        vertical-align: top;\n",
       "    }\n",
       "\n",
       "    .dataframe thead th {\n",
       "        text-align: right;\n",
       "    }\n",
       "</style>\n",
       "<table border=\"1\" class=\"dataframe\">\n",
       "  <thead>\n",
       "    <tr style=\"text-align: right;\">\n",
       "      <th></th>\n",
       "      <th>Денситометр</th>\n",
       "      <th>КТ</th>\n",
       "      <th>КТ с КУ 1 зона</th>\n",
       "      <th>КТ с КУ 2 и более зон</th>\n",
       "      <th>ММГ</th>\n",
       "      <th>МРТ</th>\n",
       "      <th>МРТ с КУ 1 зона</th>\n",
       "      <th>МРТ с КУ 2 и более зон</th>\n",
       "      <th>РГ</th>\n",
       "      <th>Флюорограф</th>\n",
       "      <th>ds</th>\n",
       "      <th>feat_КТ с КУ 1 зона_lag-4_КТ</th>\n",
       "      <th>feat_КТ_lag-1_КТ с КУ 1 зона</th>\n",
       "      <th>feat_МРТ_lag-6_КТ с КУ 2 и более зон</th>\n",
       "      <th>feat_МРТ с КУ 1 зона_lag-1_МРТ</th>\n",
       "      <th>feat_МРТ_lag-1_МРТ с КУ 1 зона</th>\n",
       "      <th>feat_КТ с КУ 1 зона_lag-1_ММГ</th>\n",
       "    </tr>\n",
       "  </thead>\n",
       "  <tbody>\n",
       "    <tr>\n",
       "      <th>106</th>\n",
       "      <td>1427.0</td>\n",
       "      <td>3317</td>\n",
       "      <td>431.0</td>\n",
       "      <td>369.0</td>\n",
       "      <td>13964</td>\n",
       "      <td>1461</td>\n",
       "      <td>593.0</td>\n",
       "      <td>12.0</td>\n",
       "      <td>80644</td>\n",
       "      <td>5394.0</td>\n",
       "      <td>2024-01-08</td>\n",
       "      <td>4764.0</td>\n",
       "      <td>70.0</td>\n",
       "      <td>743.0</td>\n",
       "      <td>544.0</td>\n",
       "      <td>131.0</td>\n",
       "      <td>1185.0</td>\n",
       "    </tr>\n",
       "    <tr>\n",
       "      <th>107</th>\n",
       "      <td>1816.0</td>\n",
       "      <td>3939</td>\n",
       "      <td>563.0</td>\n",
       "      <td>518.0</td>\n",
       "      <td>17769</td>\n",
       "      <td>1712</td>\n",
       "      <td>809.0</td>\n",
       "      <td>17.0</td>\n",
       "      <td>98705</td>\n",
       "      <td>6580.0</td>\n",
       "      <td>2024-01-15</td>\n",
       "      <td>4087.0</td>\n",
       "      <td>431.0</td>\n",
       "      <td>782.0</td>\n",
       "      <td>1461.0</td>\n",
       "      <td>593.0</td>\n",
       "      <td>13964.0</td>\n",
       "    </tr>\n",
       "    <tr>\n",
       "      <th>108</th>\n",
       "      <td>2102.0</td>\n",
       "      <td>4533</td>\n",
       "      <td>533.0</td>\n",
       "      <td>566.0</td>\n",
       "      <td>18770</td>\n",
       "      <td>1878</td>\n",
       "      <td>755.0</td>\n",
       "      <td>17.0</td>\n",
       "      <td>99858</td>\n",
       "      <td>7591.0</td>\n",
       "      <td>2024-01-22</td>\n",
       "      <td>3313.0</td>\n",
       "      <td>563.0</td>\n",
       "      <td>765.0</td>\n",
       "      <td>1712.0</td>\n",
       "      <td>809.0</td>\n",
       "      <td>17769.0</td>\n",
       "    </tr>\n",
       "  </tbody>\n",
       "</table>\n",
       "</div>"
      ],
      "text/plain": [
       "     Денситометр    КТ  КТ с КУ 1 зона  КТ с КУ 2 и более зон    ММГ   МРТ  \\\n",
       "106       1427.0  3317           431.0                  369.0  13964  1461   \n",
       "107       1816.0  3939           563.0                  518.0  17769  1712   \n",
       "108       2102.0  4533           533.0                  566.0  18770  1878   \n",
       "\n",
       "     МРТ с КУ 1 зона  МРТ с КУ 2 и более зон     РГ  Флюорограф         ds  \\\n",
       "106            593.0                    12.0  80644      5394.0 2024-01-08   \n",
       "107            809.0                    17.0  98705      6580.0 2024-01-15   \n",
       "108            755.0                    17.0  99858      7591.0 2024-01-22   \n",
       "\n",
       "     feat_КТ с КУ 1 зона_lag-4_КТ  feat_КТ_lag-1_КТ с КУ 1 зона  \\\n",
       "106                        4764.0                          70.0   \n",
       "107                        4087.0                         431.0   \n",
       "108                        3313.0                         563.0   \n",
       "\n",
       "     feat_МРТ_lag-6_КТ с КУ 2 и более зон  feat_МРТ с КУ 1 зона_lag-1_МРТ  \\\n",
       "106                                 743.0                           544.0   \n",
       "107                                 782.0                          1461.0   \n",
       "108                                 765.0                          1712.0   \n",
       "\n",
       "     feat_МРТ_lag-1_МРТ с КУ 1 зона  feat_КТ с КУ 1 зона_lag-1_ММГ  \n",
       "106                           131.0                         1185.0  \n",
       "107                           593.0                        13964.0  \n",
       "108                           809.0                        17769.0  "
      ]
     },
     "execution_count": 24,
     "metadata": {},
     "output_type": "execute_result"
    }
   ],
   "source": [
    "df_ds = pd.read_parquet(INPUT_DS_PATH)\n",
    "df_ds.tail(3)"
   ]
  },
  {
   "cell_type": "code",
   "execution_count": 4,
   "metadata": {
    "tags": []
   },
   "outputs": [],
   "source": [
    "value_cols=[\n",
    "    'Денситометр',\n",
    "    'КТ',\n",
    "    'КТ с КУ 1 зона',\n",
    "    'КТ с КУ 2 и более зон',\n",
    "    'ММГ',\n",
    "    'МРТ',\n",
    "    'МРТ с КУ 1 зона',\n",
    "    'МРТ с КУ 2 и более зон',\n",
    "    'РГ',\n",
    "    'Флюорограф'\n",
    "]\n"
   ]
  },
  {
   "cell_type": "code",
   "execution_count": 27,
   "metadata": {
    "tags": []
   },
   "outputs": [],
   "source": [
    "# remove 1-st week of the year\n",
    "df_ds_orig = df_ds.copy()\n",
    "df_ds.loc[df_ds['ds'].dt.isocalendar().week == 1, value_cols] = df_ds.shift(-1)"
   ]
  },
  {
   "cell_type": "code",
   "execution_count": 28,
   "metadata": {
    "tags": []
   },
   "outputs": [
    {
     "data": {
      "text/html": [
       "<div><svg style=\"position: absolute; width: 0; height: 0; overflow: hidden\">\n",
       "<defs>\n",
       "<symbol id=\"icon-database\" viewBox=\"0 0 32 32\">\n",
       "<path d=\"M16 0c-8.837 0-16 2.239-16 5v4c0 2.761 7.163 5 16 5s16-2.239 16-5v-4c0-2.761-7.163-5-16-5z\"></path>\n",
       "<path d=\"M16 17c-8.837 0-16-2.239-16-5v6c0 2.761 7.163 5 16 5s16-2.239 16-5v-6c0 2.761-7.163 5-16 5z\"></path>\n",
       "<path d=\"M16 26c-8.837 0-16-2.239-16-5v6c0 2.761 7.163 5 16 5s16-2.239 16-5v-6c0 2.761-7.163 5-16 5z\"></path>\n",
       "</symbol>\n",
       "<symbol id=\"icon-file-text2\" viewBox=\"0 0 32 32\">\n",
       "<path d=\"M28.681 7.159c-0.694-0.947-1.662-2.053-2.724-3.116s-2.169-2.030-3.116-2.724c-1.612-1.182-2.393-1.319-2.841-1.319h-15.5c-1.378 0-2.5 1.121-2.5 2.5v27c0 1.378 1.122 2.5 2.5 2.5h23c1.378 0 2.5-1.122 2.5-2.5v-19.5c0-0.448-0.137-1.23-1.319-2.841zM24.543 5.457c0.959 0.959 1.712 1.825 2.268 2.543h-4.811v-4.811c0.718 0.556 1.584 1.309 2.543 2.268zM28 29.5c0 0.271-0.229 0.5-0.5 0.5h-23c-0.271 0-0.5-0.229-0.5-0.5v-27c0-0.271 0.229-0.5 0.5-0.5 0 0 15.499-0 15.5 0v7c0 0.552 0.448 1 1 1h7v19.5z\"></path>\n",
       "<path d=\"M23 26h-14c-0.552 0-1-0.448-1-1s0.448-1 1-1h14c0.552 0 1 0.448 1 1s-0.448 1-1 1z\"></path>\n",
       "<path d=\"M23 22h-14c-0.552 0-1-0.448-1-1s0.448-1 1-1h14c0.552 0 1 0.448 1 1s-0.448 1-1 1z\"></path>\n",
       "<path d=\"M23 18h-14c-0.552 0-1-0.448-1-1s0.448-1 1-1h14c0.552 0 1 0.448 1 1s-0.448 1-1 1z\"></path>\n",
       "</symbol>\n",
       "</defs>\n",
       "</svg>\n",
       "<style>/* CSS stylesheet for displaying xarray objects in jupyterlab.\n",
       " *\n",
       " */\n",
       "\n",
       ":root {\n",
       "  --xr-font-color0: var(--jp-content-font-color0, rgba(0, 0, 0, 1));\n",
       "  --xr-font-color2: var(--jp-content-font-color2, rgba(0, 0, 0, 0.54));\n",
       "  --xr-font-color3: var(--jp-content-font-color3, rgba(0, 0, 0, 0.38));\n",
       "  --xr-border-color: var(--jp-border-color2, #e0e0e0);\n",
       "  --xr-disabled-color: var(--jp-layout-color3, #bdbdbd);\n",
       "  --xr-background-color: var(--jp-layout-color0, white);\n",
       "  --xr-background-color-row-even: var(--jp-layout-color1, white);\n",
       "  --xr-background-color-row-odd: var(--jp-layout-color2, #eeeeee);\n",
       "}\n",
       "\n",
       "html[theme=dark],\n",
       "body[data-theme=dark],\n",
       "body.vscode-dark {\n",
       "  --xr-font-color0: rgba(255, 255, 255, 1);\n",
       "  --xr-font-color2: rgba(255, 255, 255, 0.54);\n",
       "  --xr-font-color3: rgba(255, 255, 255, 0.38);\n",
       "  --xr-border-color: #1F1F1F;\n",
       "  --xr-disabled-color: #515151;\n",
       "  --xr-background-color: #111111;\n",
       "  --xr-background-color-row-even: #111111;\n",
       "  --xr-background-color-row-odd: #313131;\n",
       "}\n",
       "\n",
       ".xr-wrap {\n",
       "  display: block !important;\n",
       "  min-width: 300px;\n",
       "  max-width: 700px;\n",
       "}\n",
       "\n",
       ".xr-text-repr-fallback {\n",
       "  /* fallback to plain text repr when CSS is not injected (untrusted notebook) */\n",
       "  display: none;\n",
       "}\n",
       "\n",
       ".xr-header {\n",
       "  padding-top: 6px;\n",
       "  padding-bottom: 6px;\n",
       "  margin-bottom: 4px;\n",
       "  border-bottom: solid 1px var(--xr-border-color);\n",
       "}\n",
       "\n",
       ".xr-header > div,\n",
       ".xr-header > ul {\n",
       "  display: inline;\n",
       "  margin-top: 0;\n",
       "  margin-bottom: 0;\n",
       "}\n",
       "\n",
       ".xr-obj-type,\n",
       ".xr-array-name {\n",
       "  margin-left: 2px;\n",
       "  margin-right: 10px;\n",
       "}\n",
       "\n",
       ".xr-obj-type {\n",
       "  color: var(--xr-font-color2);\n",
       "}\n",
       "\n",
       ".xr-sections {\n",
       "  padding-left: 0 !important;\n",
       "  display: grid;\n",
       "  grid-template-columns: 150px auto auto 1fr 20px 20px;\n",
       "}\n",
       "\n",
       ".xr-section-item {\n",
       "  display: contents;\n",
       "}\n",
       "\n",
       ".xr-section-item input {\n",
       "  display: none;\n",
       "}\n",
       "\n",
       ".xr-section-item input + label {\n",
       "  color: var(--xr-disabled-color);\n",
       "}\n",
       "\n",
       ".xr-section-item input:enabled + label {\n",
       "  cursor: pointer;\n",
       "  color: var(--xr-font-color2);\n",
       "}\n",
       "\n",
       ".xr-section-item input:enabled + label:hover {\n",
       "  color: var(--xr-font-color0);\n",
       "}\n",
       "\n",
       ".xr-section-summary {\n",
       "  grid-column: 1;\n",
       "  color: var(--xr-font-color2);\n",
       "  font-weight: 500;\n",
       "}\n",
       "\n",
       ".xr-section-summary > span {\n",
       "  display: inline-block;\n",
       "  padding-left: 0.5em;\n",
       "}\n",
       "\n",
       ".xr-section-summary-in:disabled + label {\n",
       "  color: var(--xr-font-color2);\n",
       "}\n",
       "\n",
       ".xr-section-summary-in + label:before {\n",
       "  display: inline-block;\n",
       "  content: '►';\n",
       "  font-size: 11px;\n",
       "  width: 15px;\n",
       "  text-align: center;\n",
       "}\n",
       "\n",
       ".xr-section-summary-in:disabled + label:before {\n",
       "  color: var(--xr-disabled-color);\n",
       "}\n",
       "\n",
       ".xr-section-summary-in:checked + label:before {\n",
       "  content: '▼';\n",
       "}\n",
       "\n",
       ".xr-section-summary-in:checked + label > span {\n",
       "  display: none;\n",
       "}\n",
       "\n",
       ".xr-section-summary,\n",
       ".xr-section-inline-details {\n",
       "  padding-top: 4px;\n",
       "  padding-bottom: 4px;\n",
       "}\n",
       "\n",
       ".xr-section-inline-details {\n",
       "  grid-column: 2 / -1;\n",
       "}\n",
       "\n",
       ".xr-section-details {\n",
       "  display: none;\n",
       "  grid-column: 1 / -1;\n",
       "  margin-bottom: 5px;\n",
       "}\n",
       "\n",
       ".xr-section-summary-in:checked ~ .xr-section-details {\n",
       "  display: contents;\n",
       "}\n",
       "\n",
       ".xr-array-wrap {\n",
       "  grid-column: 1 / -1;\n",
       "  display: grid;\n",
       "  grid-template-columns: 20px auto;\n",
       "}\n",
       "\n",
       ".xr-array-wrap > label {\n",
       "  grid-column: 1;\n",
       "  vertical-align: top;\n",
       "}\n",
       "\n",
       ".xr-preview {\n",
       "  color: var(--xr-font-color3);\n",
       "}\n",
       "\n",
       ".xr-array-preview,\n",
       ".xr-array-data {\n",
       "  padding: 0 5px !important;\n",
       "  grid-column: 2;\n",
       "}\n",
       "\n",
       ".xr-array-data,\n",
       ".xr-array-in:checked ~ .xr-array-preview {\n",
       "  display: none;\n",
       "}\n",
       "\n",
       ".xr-array-in:checked ~ .xr-array-data,\n",
       ".xr-array-preview {\n",
       "  display: inline-block;\n",
       "}\n",
       "\n",
       ".xr-dim-list {\n",
       "  display: inline-block !important;\n",
       "  list-style: none;\n",
       "  padding: 0 !important;\n",
       "  margin: 0;\n",
       "}\n",
       "\n",
       ".xr-dim-list li {\n",
       "  display: inline-block;\n",
       "  padding: 0;\n",
       "  margin: 0;\n",
       "}\n",
       "\n",
       ".xr-dim-list:before {\n",
       "  content: '(';\n",
       "}\n",
       "\n",
       ".xr-dim-list:after {\n",
       "  content: ')';\n",
       "}\n",
       "\n",
       ".xr-dim-list li:not(:last-child):after {\n",
       "  content: ',';\n",
       "  padding-right: 5px;\n",
       "}\n",
       "\n",
       ".xr-has-index {\n",
       "  font-weight: bold;\n",
       "}\n",
       "\n",
       ".xr-var-list,\n",
       ".xr-var-item {\n",
       "  display: contents;\n",
       "}\n",
       "\n",
       ".xr-var-item > div,\n",
       ".xr-var-item label,\n",
       ".xr-var-item > .xr-var-name span {\n",
       "  background-color: var(--xr-background-color-row-even);\n",
       "  margin-bottom: 0;\n",
       "}\n",
       "\n",
       ".xr-var-item > .xr-var-name:hover span {\n",
       "  padding-right: 5px;\n",
       "}\n",
       "\n",
       ".xr-var-list > li:nth-child(odd) > div,\n",
       ".xr-var-list > li:nth-child(odd) > label,\n",
       ".xr-var-list > li:nth-child(odd) > .xr-var-name span {\n",
       "  background-color: var(--xr-background-color-row-odd);\n",
       "}\n",
       "\n",
       ".xr-var-name {\n",
       "  grid-column: 1;\n",
       "}\n",
       "\n",
       ".xr-var-dims {\n",
       "  grid-column: 2;\n",
       "}\n",
       "\n",
       ".xr-var-dtype {\n",
       "  grid-column: 3;\n",
       "  text-align: right;\n",
       "  color: var(--xr-font-color2);\n",
       "}\n",
       "\n",
       ".xr-var-preview {\n",
       "  grid-column: 4;\n",
       "}\n",
       "\n",
       ".xr-index-preview {\n",
       "  grid-column: 2 / 5;\n",
       "  color: var(--xr-font-color2);\n",
       "}\n",
       "\n",
       ".xr-var-name,\n",
       ".xr-var-dims,\n",
       ".xr-var-dtype,\n",
       ".xr-preview,\n",
       ".xr-attrs dt {\n",
       "  white-space: nowrap;\n",
       "  overflow: hidden;\n",
       "  text-overflow: ellipsis;\n",
       "  padding-right: 10px;\n",
       "}\n",
       "\n",
       ".xr-var-name:hover,\n",
       ".xr-var-dims:hover,\n",
       ".xr-var-dtype:hover,\n",
       ".xr-attrs dt:hover {\n",
       "  overflow: visible;\n",
       "  width: auto;\n",
       "  z-index: 1;\n",
       "}\n",
       "\n",
       ".xr-var-attrs,\n",
       ".xr-var-data,\n",
       ".xr-index-data {\n",
       "  display: none;\n",
       "  background-color: var(--xr-background-color) !important;\n",
       "  padding-bottom: 5px !important;\n",
       "}\n",
       "\n",
       ".xr-var-attrs-in:checked ~ .xr-var-attrs,\n",
       ".xr-var-data-in:checked ~ .xr-var-data,\n",
       ".xr-index-data-in:checked ~ .xr-index-data {\n",
       "  display: block;\n",
       "}\n",
       "\n",
       ".xr-var-data > table {\n",
       "  float: right;\n",
       "}\n",
       "\n",
       ".xr-var-name span,\n",
       ".xr-var-data,\n",
       ".xr-index-name div,\n",
       ".xr-index-data,\n",
       ".xr-attrs {\n",
       "  padding-left: 25px !important;\n",
       "}\n",
       "\n",
       ".xr-attrs,\n",
       ".xr-var-attrs,\n",
       ".xr-var-data,\n",
       ".xr-index-data {\n",
       "  grid-column: 1 / -1;\n",
       "}\n",
       "\n",
       "dl.xr-attrs {\n",
       "  padding: 0;\n",
       "  margin: 0;\n",
       "  display: grid;\n",
       "  grid-template-columns: 125px auto;\n",
       "}\n",
       "\n",
       ".xr-attrs dt,\n",
       ".xr-attrs dd {\n",
       "  padding: 0;\n",
       "  margin: 0;\n",
       "  float: left;\n",
       "  padding-right: 10px;\n",
       "  width: auto;\n",
       "}\n",
       "\n",
       ".xr-attrs dt {\n",
       "  font-weight: normal;\n",
       "  grid-column: 1;\n",
       "}\n",
       "\n",
       ".xr-attrs dt:hover span {\n",
       "  display: inline-block;\n",
       "  background: var(--xr-background-color);\n",
       "  padding-right: 10px;\n",
       "}\n",
       "\n",
       ".xr-attrs dd {\n",
       "  grid-column: 2;\n",
       "  white-space: pre-wrap;\n",
       "  word-break: break-all;\n",
       "}\n",
       "\n",
       ".xr-icon-database,\n",
       ".xr-icon-file-text2,\n",
       ".xr-no-icon {\n",
       "  display: inline-block;\n",
       "  vertical-align: middle;\n",
       "  width: 1em;\n",
       "  height: 1.5em !important;\n",
       "  stroke-width: 0;\n",
       "  stroke: currentColor;\n",
       "  fill: currentColor;\n",
       "}\n",
       "</style><pre class='xr-text-repr-fallback'>&lt;TimeSeries (DataArray) (ds: 108, component: 10, sample: 1)&gt; Size: 9kB\n",
       "array([[[1.0260e+03],\n",
       "        [1.0868e+04],\n",
       "        [4.2400e+02],\n",
       "        ...,\n",
       "        [9.0000e+00],\n",
       "        [4.8904e+04],\n",
       "        [2.2626e+04]],\n",
       "\n",
       "       [[1.0260e+03],\n",
       "        [1.0868e+04],\n",
       "        [4.2400e+02],\n",
       "        ...,\n",
       "        [9.0000e+00],\n",
       "        [4.8904e+04],\n",
       "        [2.2626e+04]],\n",
       "\n",
       "       [[9.1000e+02],\n",
       "        [1.2266e+04],\n",
       "        [4.3000e+02],\n",
       "        ...,\n",
       "...\n",
       "        ...,\n",
       "        [1.2000e+01],\n",
       "        [8.0644e+04],\n",
       "        [5.3940e+03]],\n",
       "\n",
       "       [[1.8160e+03],\n",
       "        [3.9390e+03],\n",
       "        [5.6300e+02],\n",
       "        ...,\n",
       "        [1.7000e+01],\n",
       "        [9.8705e+04],\n",
       "        [6.5800e+03]],\n",
       "\n",
       "       [[2.1020e+03],\n",
       "        [4.5330e+03],\n",
       "        [5.3300e+02],\n",
       "        ...,\n",
       "        [1.7000e+01],\n",
       "        [9.9858e+04],\n",
       "        [7.5910e+03]]])\n",
       "Coordinates:\n",
       "  * ds         (ds) datetime64[ns] 864B 2022-01-03 2022-01-10 ... 2024-01-22\n",
       "  * component  (component) object 80B &#x27;Денситометр&#x27; &#x27;КТ&#x27; ... &#x27;РГ&#x27; &#x27;Флюорограф&#x27;\n",
       "Dimensions without coordinates: sample\n",
       "Attributes:\n",
       "    static_covariates:  None\n",
       "    hierarchy:          None</pre><div class='xr-wrap' style='display:none'><div class='xr-header'><div class='xr-obj-type'>TimeSeries (DataArray)</div><div class='xr-array-name'></div><ul class='xr-dim-list'><li><span class='xr-has-index'>ds</span>: 108</li><li><span class='xr-has-index'>component</span>: 10</li><li><span>sample</span>: 1</li></ul></div><ul class='xr-sections'><li class='xr-section-item'><div class='xr-array-wrap'><input id='section-187223d5-36a0-4621-b0ed-093fedcc6f86' class='xr-array-in' type='checkbox' checked><label for='section-187223d5-36a0-4621-b0ed-093fedcc6f86' title='Show/hide data repr'><svg class='icon xr-icon-database'><use xlink:href='#icon-database'></use></svg></label><div class='xr-array-preview xr-preview'><span>1.026e+03 1.087e+04 424.0 451.0 ... 755.0 17.0 9.986e+04 7.591e+03</span></div><div class='xr-array-data'><pre>array([[[1.0260e+03],\n",
       "        [1.0868e+04],\n",
       "        [4.2400e+02],\n",
       "        ...,\n",
       "        [9.0000e+00],\n",
       "        [4.8904e+04],\n",
       "        [2.2626e+04]],\n",
       "\n",
       "       [[1.0260e+03],\n",
       "        [1.0868e+04],\n",
       "        [4.2400e+02],\n",
       "        ...,\n",
       "        [9.0000e+00],\n",
       "        [4.8904e+04],\n",
       "        [2.2626e+04]],\n",
       "\n",
       "       [[9.1000e+02],\n",
       "        [1.2266e+04],\n",
       "        [4.3000e+02],\n",
       "        ...,\n",
       "...\n",
       "        ...,\n",
       "        [1.2000e+01],\n",
       "        [8.0644e+04],\n",
       "        [5.3940e+03]],\n",
       "\n",
       "       [[1.8160e+03],\n",
       "        [3.9390e+03],\n",
       "        [5.6300e+02],\n",
       "        ...,\n",
       "        [1.7000e+01],\n",
       "        [9.8705e+04],\n",
       "        [6.5800e+03]],\n",
       "\n",
       "       [[2.1020e+03],\n",
       "        [4.5330e+03],\n",
       "        [5.3300e+02],\n",
       "        ...,\n",
       "        [1.7000e+01],\n",
       "        [9.9858e+04],\n",
       "        [7.5910e+03]]])</pre></div></div></li><li class='xr-section-item'><input id='section-ab9e635d-5cc1-4a1b-a5c1-56b0a10942de' class='xr-section-summary-in' type='checkbox'  checked><label for='section-ab9e635d-5cc1-4a1b-a5c1-56b0a10942de' class='xr-section-summary' >Coordinates: <span>(2)</span></label><div class='xr-section-inline-details'></div><div class='xr-section-details'><ul class='xr-var-list'><li class='xr-var-item'><div class='xr-var-name'><span class='xr-has-index'>ds</span></div><div class='xr-var-dims'>(ds)</div><div class='xr-var-dtype'>datetime64[ns]</div><div class='xr-var-preview xr-preview'>2022-01-03 ... 2024-01-22</div><input id='attrs-785b733d-572f-4c1a-b57c-334fd468b3ed' class='xr-var-attrs-in' type='checkbox' disabled><label for='attrs-785b733d-572f-4c1a-b57c-334fd468b3ed' title='Show/Hide attributes'><svg class='icon xr-icon-file-text2'><use xlink:href='#icon-file-text2'></use></svg></label><input id='data-08cfcbbb-2188-4374-b8bf-b88dc20fe46a' class='xr-var-data-in' type='checkbox'><label for='data-08cfcbbb-2188-4374-b8bf-b88dc20fe46a' title='Show/Hide data repr'><svg class='icon xr-icon-database'><use xlink:href='#icon-database'></use></svg></label><div class='xr-var-attrs'><dl class='xr-attrs'></dl></div><div class='xr-var-data'><pre>array([&#x27;2022-01-03T00:00:00.000000000&#x27;, &#x27;2022-01-10T00:00:00.000000000&#x27;,\n",
       "       &#x27;2022-01-17T00:00:00.000000000&#x27;, &#x27;2022-01-24T00:00:00.000000000&#x27;,\n",
       "       &#x27;2022-01-31T00:00:00.000000000&#x27;, &#x27;2022-02-07T00:00:00.000000000&#x27;,\n",
       "       &#x27;2022-02-14T00:00:00.000000000&#x27;, &#x27;2022-02-21T00:00:00.000000000&#x27;,\n",
       "       &#x27;2022-02-28T00:00:00.000000000&#x27;, &#x27;2022-03-07T00:00:00.000000000&#x27;,\n",
       "       &#x27;2022-03-14T00:00:00.000000000&#x27;, &#x27;2022-03-21T00:00:00.000000000&#x27;,\n",
       "       &#x27;2022-03-28T00:00:00.000000000&#x27;, &#x27;2022-04-04T00:00:00.000000000&#x27;,\n",
       "       &#x27;2022-04-11T00:00:00.000000000&#x27;, &#x27;2022-04-18T00:00:00.000000000&#x27;,\n",
       "       &#x27;2022-04-25T00:00:00.000000000&#x27;, &#x27;2022-05-02T00:00:00.000000000&#x27;,\n",
       "       &#x27;2022-05-09T00:00:00.000000000&#x27;, &#x27;2022-05-16T00:00:00.000000000&#x27;,\n",
       "       &#x27;2022-05-23T00:00:00.000000000&#x27;, &#x27;2022-05-30T00:00:00.000000000&#x27;,\n",
       "       &#x27;2022-06-06T00:00:00.000000000&#x27;, &#x27;2022-06-13T00:00:00.000000000&#x27;,\n",
       "       &#x27;2022-06-20T00:00:00.000000000&#x27;, &#x27;2022-06-27T00:00:00.000000000&#x27;,\n",
       "       &#x27;2022-07-04T00:00:00.000000000&#x27;, &#x27;2022-07-11T00:00:00.000000000&#x27;,\n",
       "       &#x27;2022-07-18T00:00:00.000000000&#x27;, &#x27;2022-07-25T00:00:00.000000000&#x27;,\n",
       "       &#x27;2022-08-01T00:00:00.000000000&#x27;, &#x27;2022-08-08T00:00:00.000000000&#x27;,\n",
       "       &#x27;2022-08-15T00:00:00.000000000&#x27;, &#x27;2022-08-22T00:00:00.000000000&#x27;,\n",
       "       &#x27;2022-08-29T00:00:00.000000000&#x27;, &#x27;2022-09-05T00:00:00.000000000&#x27;,\n",
       "       &#x27;2022-09-12T00:00:00.000000000&#x27;, &#x27;2022-09-19T00:00:00.000000000&#x27;,\n",
       "       &#x27;2022-09-26T00:00:00.000000000&#x27;, &#x27;2022-10-03T00:00:00.000000000&#x27;,\n",
       "       &#x27;2022-10-10T00:00:00.000000000&#x27;, &#x27;2022-10-17T00:00:00.000000000&#x27;,\n",
       "       &#x27;2022-10-24T00:00:00.000000000&#x27;, &#x27;2022-10-31T00:00:00.000000000&#x27;,\n",
       "       &#x27;2022-11-07T00:00:00.000000000&#x27;, &#x27;2022-11-14T00:00:00.000000000&#x27;,\n",
       "       &#x27;2022-11-21T00:00:00.000000000&#x27;, &#x27;2022-11-28T00:00:00.000000000&#x27;,\n",
       "       &#x27;2022-12-05T00:00:00.000000000&#x27;, &#x27;2022-12-12T00:00:00.000000000&#x27;,\n",
       "       &#x27;2022-12-19T00:00:00.000000000&#x27;, &#x27;2022-12-26T00:00:00.000000000&#x27;,\n",
       "       &#x27;2023-01-02T00:00:00.000000000&#x27;, &#x27;2023-01-09T00:00:00.000000000&#x27;,\n",
       "       &#x27;2023-01-16T00:00:00.000000000&#x27;, &#x27;2023-01-23T00:00:00.000000000&#x27;,\n",
       "       &#x27;2023-01-30T00:00:00.000000000&#x27;, &#x27;2023-02-06T00:00:00.000000000&#x27;,\n",
       "       &#x27;2023-02-13T00:00:00.000000000&#x27;, &#x27;2023-02-20T00:00:00.000000000&#x27;,\n",
       "       &#x27;2023-02-27T00:00:00.000000000&#x27;, &#x27;2023-03-06T00:00:00.000000000&#x27;,\n",
       "       &#x27;2023-03-13T00:00:00.000000000&#x27;, &#x27;2023-03-20T00:00:00.000000000&#x27;,\n",
       "       &#x27;2023-03-27T00:00:00.000000000&#x27;, &#x27;2023-04-03T00:00:00.000000000&#x27;,\n",
       "       &#x27;2023-04-10T00:00:00.000000000&#x27;, &#x27;2023-04-17T00:00:00.000000000&#x27;,\n",
       "       &#x27;2023-04-24T00:00:00.000000000&#x27;, &#x27;2023-05-01T00:00:00.000000000&#x27;,\n",
       "       &#x27;2023-05-08T00:00:00.000000000&#x27;, &#x27;2023-05-15T00:00:00.000000000&#x27;,\n",
       "       &#x27;2023-05-22T00:00:00.000000000&#x27;, &#x27;2023-05-29T00:00:00.000000000&#x27;,\n",
       "       &#x27;2023-06-05T00:00:00.000000000&#x27;, &#x27;2023-06-12T00:00:00.000000000&#x27;,\n",
       "       &#x27;2023-06-19T00:00:00.000000000&#x27;, &#x27;2023-06-26T00:00:00.000000000&#x27;,\n",
       "       &#x27;2023-07-03T00:00:00.000000000&#x27;, &#x27;2023-07-10T00:00:00.000000000&#x27;,\n",
       "       &#x27;2023-07-17T00:00:00.000000000&#x27;, &#x27;2023-07-24T00:00:00.000000000&#x27;,\n",
       "       &#x27;2023-07-31T00:00:00.000000000&#x27;, &#x27;2023-08-07T00:00:00.000000000&#x27;,\n",
       "       &#x27;2023-08-14T00:00:00.000000000&#x27;, &#x27;2023-08-21T00:00:00.000000000&#x27;,\n",
       "       &#x27;2023-08-28T00:00:00.000000000&#x27;, &#x27;2023-09-04T00:00:00.000000000&#x27;,\n",
       "       &#x27;2023-09-11T00:00:00.000000000&#x27;, &#x27;2023-09-18T00:00:00.000000000&#x27;,\n",
       "       &#x27;2023-09-25T00:00:00.000000000&#x27;, &#x27;2023-10-02T00:00:00.000000000&#x27;,\n",
       "       &#x27;2023-10-09T00:00:00.000000000&#x27;, &#x27;2023-10-16T00:00:00.000000000&#x27;,\n",
       "       &#x27;2023-10-23T00:00:00.000000000&#x27;, &#x27;2023-10-30T00:00:00.000000000&#x27;,\n",
       "       &#x27;2023-11-06T00:00:00.000000000&#x27;, &#x27;2023-11-13T00:00:00.000000000&#x27;,\n",
       "       &#x27;2023-11-20T00:00:00.000000000&#x27;, &#x27;2023-11-27T00:00:00.000000000&#x27;,\n",
       "       &#x27;2023-12-04T00:00:00.000000000&#x27;, &#x27;2023-12-11T00:00:00.000000000&#x27;,\n",
       "       &#x27;2023-12-18T00:00:00.000000000&#x27;, &#x27;2023-12-25T00:00:00.000000000&#x27;,\n",
       "       &#x27;2024-01-01T00:00:00.000000000&#x27;, &#x27;2024-01-08T00:00:00.000000000&#x27;,\n",
       "       &#x27;2024-01-15T00:00:00.000000000&#x27;, &#x27;2024-01-22T00:00:00.000000000&#x27;],\n",
       "      dtype=&#x27;datetime64[ns]&#x27;)</pre></div></li><li class='xr-var-item'><div class='xr-var-name'><span class='xr-has-index'>component</span></div><div class='xr-var-dims'>(component)</div><div class='xr-var-dtype'>object</div><div class='xr-var-preview xr-preview'>&#x27;Денситометр&#x27; &#x27;КТ&#x27; ... &#x27;Флюорограф&#x27;</div><input id='attrs-1c1e29e9-c61e-4ddc-bfd5-e2f7e4a7c0c2' class='xr-var-attrs-in' type='checkbox' disabled><label for='attrs-1c1e29e9-c61e-4ddc-bfd5-e2f7e4a7c0c2' title='Show/Hide attributes'><svg class='icon xr-icon-file-text2'><use xlink:href='#icon-file-text2'></use></svg></label><input id='data-d1d2f80d-28e5-4799-9894-d21dc47644dd' class='xr-var-data-in' type='checkbox'><label for='data-d1d2f80d-28e5-4799-9894-d21dc47644dd' title='Show/Hide data repr'><svg class='icon xr-icon-database'><use xlink:href='#icon-database'></use></svg></label><div class='xr-var-attrs'><dl class='xr-attrs'></dl></div><div class='xr-var-data'><pre>array([&#x27;Денситометр&#x27;, &#x27;КТ&#x27;, &#x27;КТ с КУ 1 зона&#x27;, &#x27;КТ с КУ 2 и более зон&#x27;, &#x27;ММГ&#x27;,\n",
       "       &#x27;МРТ&#x27;, &#x27;МРТ с КУ 1 зона&#x27;, &#x27;МРТ с КУ 2 и более зон&#x27;, &#x27;РГ&#x27;, &#x27;Флюорограф&#x27;],\n",
       "      dtype=object)</pre></div></li></ul></div></li><li class='xr-section-item'><input id='section-b8e1d810-77f2-4b6b-a78c-624b10628409' class='xr-section-summary-in' type='checkbox'  ><label for='section-b8e1d810-77f2-4b6b-a78c-624b10628409' class='xr-section-summary' >Indexes: <span>(2)</span></label><div class='xr-section-inline-details'></div><div class='xr-section-details'><ul class='xr-var-list'><li class='xr-var-item'><div class='xr-index-name'><div>ds</div></div><div class='xr-index-preview'>PandasIndex</div><div></div><input id='index-3d22deac-23dc-40df-93f5-82c6ec263c3d' class='xr-index-data-in' type='checkbox'/><label for='index-3d22deac-23dc-40df-93f5-82c6ec263c3d' title='Show/Hide index repr'><svg class='icon xr-icon-database'><use xlink:href='#icon-database'></use></svg></label><div class='xr-index-data'><pre>PandasIndex(DatetimeIndex([&#x27;2022-01-03&#x27;, &#x27;2022-01-10&#x27;, &#x27;2022-01-17&#x27;, &#x27;2022-01-24&#x27;,\n",
       "               &#x27;2022-01-31&#x27;, &#x27;2022-02-07&#x27;, &#x27;2022-02-14&#x27;, &#x27;2022-02-21&#x27;,\n",
       "               &#x27;2022-02-28&#x27;, &#x27;2022-03-07&#x27;,\n",
       "               ...\n",
       "               &#x27;2023-11-20&#x27;, &#x27;2023-11-27&#x27;, &#x27;2023-12-04&#x27;, &#x27;2023-12-11&#x27;,\n",
       "               &#x27;2023-12-18&#x27;, &#x27;2023-12-25&#x27;, &#x27;2024-01-01&#x27;, &#x27;2024-01-08&#x27;,\n",
       "               &#x27;2024-01-15&#x27;, &#x27;2024-01-22&#x27;],\n",
       "              dtype=&#x27;datetime64[ns]&#x27;, name=&#x27;ds&#x27;, length=108, freq=&#x27;W-MON&#x27;))</pre></div></li><li class='xr-var-item'><div class='xr-index-name'><div>component</div></div><div class='xr-index-preview'>PandasIndex</div><div></div><input id='index-6d0a072a-f137-45ab-8865-9b5a020a0a46' class='xr-index-data-in' type='checkbox'/><label for='index-6d0a072a-f137-45ab-8865-9b5a020a0a46' title='Show/Hide index repr'><svg class='icon xr-icon-database'><use xlink:href='#icon-database'></use></svg></label><div class='xr-index-data'><pre>PandasIndex(Index([&#x27;Денситометр&#x27;, &#x27;КТ&#x27;, &#x27;КТ с КУ 1 зона&#x27;, &#x27;КТ с КУ 2 и более зон&#x27;, &#x27;ММГ&#x27;,\n",
       "       &#x27;МРТ&#x27;, &#x27;МРТ с КУ 1 зона&#x27;, &#x27;МРТ с КУ 2 и более зон&#x27;, &#x27;РГ&#x27;, &#x27;Флюорограф&#x27;],\n",
       "      dtype=&#x27;object&#x27;, name=&#x27;component&#x27;))</pre></div></li></ul></div></li><li class='xr-section-item'><input id='section-3f38a479-9ed9-4612-8b57-8ae39d18f648' class='xr-section-summary-in' type='checkbox'  checked><label for='section-3f38a479-9ed9-4612-8b57-8ae39d18f648' class='xr-section-summary' >Attributes: <span>(2)</span></label><div class='xr-section-inline-details'></div><div class='xr-section-details'><dl class='xr-attrs'><dt><span>static_covariates :</span></dt><dd>None</dd><dt><span>hierarchy :</span></dt><dd>None</dd></dl></div></li></ul></div></div>"
      ],
      "text/plain": [
       "<TimeSeries (DataArray) (ds: 108, component: 10, sample: 1)> Size: 9kB\n",
       "array([[[1.0260e+03],\n",
       "        [1.0868e+04],\n",
       "        [4.2400e+02],\n",
       "        ...,\n",
       "        [9.0000e+00],\n",
       "        [4.8904e+04],\n",
       "        [2.2626e+04]],\n",
       "\n",
       "       [[1.0260e+03],\n",
       "        [1.0868e+04],\n",
       "        [4.2400e+02],\n",
       "        ...,\n",
       "        [9.0000e+00],\n",
       "        [4.8904e+04],\n",
       "        [2.2626e+04]],\n",
       "\n",
       "       [[9.1000e+02],\n",
       "        [1.2266e+04],\n",
       "        [4.3000e+02],\n",
       "        ...,\n",
       "...\n",
       "        ...,\n",
       "        [1.2000e+01],\n",
       "        [8.0644e+04],\n",
       "        [5.3940e+03]],\n",
       "\n",
       "       [[1.8160e+03],\n",
       "        [3.9390e+03],\n",
       "        [5.6300e+02],\n",
       "        ...,\n",
       "        [1.7000e+01],\n",
       "        [9.8705e+04],\n",
       "        [6.5800e+03]],\n",
       "\n",
       "       [[2.1020e+03],\n",
       "        [4.5330e+03],\n",
       "        [5.3300e+02],\n",
       "        ...,\n",
       "        [1.7000e+01],\n",
       "        [9.9858e+04],\n",
       "        [7.5910e+03]]])\n",
       "Coordinates:\n",
       "  * ds         (ds) datetime64[ns] 864B 2022-01-03 2022-01-10 ... 2024-01-22\n",
       "  * component  (component) object 80B 'Денситометр' 'КТ' ... 'РГ' 'Флюорограф'\n",
       "Dimensions without coordinates: sample\n",
       "Attributes:\n",
       "    static_covariates:  None\n",
       "    hierarchy:          None"
      ]
     },
     "execution_count": 28,
     "metadata": {},
     "output_type": "execute_result"
    }
   ],
   "source": [
    "ts_dset_orig = TimeSeries.from_dataframe(df_ds_orig, time_col='ds', value_cols=value_cols, fill_missing_dates=True)\n",
    "ts_dset = TimeSeries.from_dataframe(df_ds, time_col='ds', value_cols=value_cols, fill_missing_dates=True)\n",
    "ts_dset"
   ]
  },
  {
   "cell_type": "code",
   "execution_count": 12,
   "metadata": {
    "tags": []
   },
   "outputs": [
    {
     "name": "stdout",
     "output_type": "stream",
     "text": [
      "Model name:NaiveSeasonal__{'K': 52}\n",
      "Model name:StatsForecastAutoTheta__{'season_length': 4}\n",
      "Model name:StatsForecastAutoTheta__{'season_length': 13}\n",
      "Model name:StatsForecastAutoTheta__{'season_length': 26}\n",
      "Model name:StatsForecastAutoTheta__{'season_length': 52}\n"
     ]
    },
    {
     "data": {
      "text/plain": [
       "{\"NaiveSeasonal__{'K': 52}\": NaiveSeasonal(K=52),\n",
       " \"StatsForecastAutoTheta__{'season_length': 4}\": StatsForecastAutoTheta(season_length=4),\n",
       " \"StatsForecastAutoTheta__{'season_length': 13}\": StatsForecastAutoTheta(season_length=13),\n",
       " \"StatsForecastAutoTheta__{'season_length': 26}\": StatsForecastAutoTheta(season_length=26),\n",
       " \"StatsForecastAutoTheta__{'season_length': 52}\": StatsForecastAutoTheta(season_length=52)}"
      ]
     },
     "execution_count": 12,
     "metadata": {},
     "output_type": "execute_result"
    }
   ],
   "source": [
    "from darts.models import (StatsForecastAutoARIMA, StatsForecastAutoETS, \n",
    "                          StatsForecastAutoTheta, StatsForecastAutoCES,\n",
    "                          FourTheta, KalmanForecaster, CatBoostModel, Croston,\n",
    "                          Prophet\n",
    "                         )\n",
    "from darts.models.forecasting.theta import SeasonalityMode, ModelMode, TrendMode\n",
    "\n",
    "from itertools import product\n",
    "\n",
    "model_grid = {\n",
    "    NaiveSeasonal: dict(K=[52]),\n",
    "    StatsForecastAutoTheta: dict(season_length=[4, 13, 26, 52]), \n",
    "}\n",
    "\n",
    "def create_model(cls, args):\n",
    "    name = f\"{cls.__name__}__{str(args)}\"\n",
    "    print(f\"Model name:{name}\")\n",
    "    return {name: cls(**args)}\n",
    "models = {}\n",
    "for cls, args in model_grid.items():\n",
    "    if len(args) == 0:\n",
    "        models.update(create_model(cls, dict()))\n",
    "    else:\n",
    "        for arg in product(*(args.values())):\n",
    "            p = create_model(cls, dict( zip(args.keys(),arg) ))\n",
    "            #print(p)\n",
    "            models.update(p)\n",
    "                       \n",
    "models"
   ]
  },
  {
   "cell_type": "code",
   "execution_count": 13,
   "metadata": {
    "tags": []
   },
   "outputs": [
    {
     "data": {
      "text/plain": [
       "(array([[ 1.,  3.],\n",
       "        [ 2., nan],\n",
       "        [nan,  4.]]),\n",
       " array([[ 1.,  3.],\n",
       "        [ 2., nan],\n",
       "        [ 2., nan],\n",
       "        [nan,  4.]]))"
      ]
     },
     "execution_count": 13,
     "metadata": {},
     "output_type": "execute_result"
    }
   ],
   "source": [
    "from numpy.lib.stride_tricks import sliding_window_view\n",
    "a = np.asanyarray([[1,2,np.NAN],[3,np.NAN,4]]).T\n",
    "a.shape\n",
    "a, sliding_window_view(a,(2,2)).reshape((-1,2))"
   ]
  },
  {
   "cell_type": "code",
   "execution_count": 15,
   "metadata": {
    "tags": []
   },
   "outputs": [
    {
     "data": {
      "text/html": [
       "<div>\n",
       "<style scoped>\n",
       "    .dataframe tbody tr th:only-of-type {\n",
       "        vertical-align: middle;\n",
       "    }\n",
       "\n",
       "    .dataframe tbody tr th {\n",
       "        vertical-align: top;\n",
       "    }\n",
       "\n",
       "    .dataframe thead th {\n",
       "        text-align: right;\n",
       "    }\n",
       "</style>\n",
       "<table border=\"1\" class=\"dataframe\">\n",
       "  <thead>\n",
       "    <tr style=\"text-align: right;\">\n",
       "      <th></th>\n",
       "      <th>ds</th>\n",
       "      <th>Денситометр</th>\n",
       "      <th>КТ</th>\n",
       "      <th>КТ с КУ 1 зона</th>\n",
       "      <th>КТ с КУ 2 и более зон</th>\n",
       "      <th>ММГ</th>\n",
       "      <th>МРТ</th>\n",
       "      <th>МРТ с КУ 1 зона</th>\n",
       "      <th>МРТ с КУ 2 и более зон</th>\n",
       "      <th>РГ</th>\n",
       "      <th>Флюорограф</th>\n",
       "    </tr>\n",
       "  </thead>\n",
       "  <tbody>\n",
       "    <tr>\n",
       "      <th>0</th>\n",
       "      <td>2022-01-03</td>\n",
       "      <td>1026.0</td>\n",
       "      <td>10868</td>\n",
       "      <td>424.0</td>\n",
       "      <td>451.0</td>\n",
       "      <td>9567</td>\n",
       "      <td>2156</td>\n",
       "      <td>669.0</td>\n",
       "      <td>9.0</td>\n",
       "      <td>48904</td>\n",
       "      <td>22626.0</td>\n",
       "    </tr>\n",
       "    <tr>\n",
       "      <th>1</th>\n",
       "      <td>2022-01-10</td>\n",
       "      <td>1026.0</td>\n",
       "      <td>10868</td>\n",
       "      <td>424.0</td>\n",
       "      <td>451.0</td>\n",
       "      <td>9567</td>\n",
       "      <td>2156</td>\n",
       "      <td>669.0</td>\n",
       "      <td>9.0</td>\n",
       "      <td>48904</td>\n",
       "      <td>22626.0</td>\n",
       "    </tr>\n",
       "    <tr>\n",
       "      <th>2</th>\n",
       "      <td>2022-01-17</td>\n",
       "      <td>910.0</td>\n",
       "      <td>12266</td>\n",
       "      <td>430.0</td>\n",
       "      <td>490.0</td>\n",
       "      <td>8791</td>\n",
       "      <td>2162</td>\n",
       "      <td>710.0</td>\n",
       "      <td>14.0</td>\n",
       "      <td>47364</td>\n",
       "      <td>20496.0</td>\n",
       "    </tr>\n",
       "    <tr>\n",
       "      <th>3</th>\n",
       "      <td>2022-01-24</td>\n",
       "      <td>679.0</td>\n",
       "      <td>12793</td>\n",
       "      <td>336.0</td>\n",
       "      <td>471.0</td>\n",
       "      <td>7465</td>\n",
       "      <td>2066</td>\n",
       "      <td>667.0</td>\n",
       "      <td>7.0</td>\n",
       "      <td>40234</td>\n",
       "      <td>15227.0</td>\n",
       "    </tr>\n",
       "    <tr>\n",
       "      <th>4</th>\n",
       "      <td>2022-01-10</td>\n",
       "      <td>1026.0</td>\n",
       "      <td>10868</td>\n",
       "      <td>424.0</td>\n",
       "      <td>451.0</td>\n",
       "      <td>9567</td>\n",
       "      <td>2156</td>\n",
       "      <td>669.0</td>\n",
       "      <td>9.0</td>\n",
       "      <td>48904</td>\n",
       "      <td>22626.0</td>\n",
       "    </tr>\n",
       "  </tbody>\n",
       "</table>\n",
       "</div>"
      ],
      "text/plain": [
       "          ds Денситометр     КТ КТ с КУ 1 зона КТ с КУ 2 и более зон   ММГ  \\\n",
       "0 2022-01-03      1026.0  10868          424.0                 451.0  9567   \n",
       "1 2022-01-10      1026.0  10868          424.0                 451.0  9567   \n",
       "2 2022-01-17       910.0  12266          430.0                 490.0  8791   \n",
       "3 2022-01-24       679.0  12793          336.0                 471.0  7465   \n",
       "4 2022-01-10      1026.0  10868          424.0                 451.0  9567   \n",
       "\n",
       "    МРТ МРТ с КУ 1 зона МРТ с КУ 2 и более зон     РГ Флюорограф  \n",
       "0  2156           669.0                    9.0  48904    22626.0  \n",
       "1  2156           669.0                    9.0  48904    22626.0  \n",
       "2  2162           710.0                   14.0  47364    20496.0  \n",
       "3  2066           667.0                    7.0  40234    15227.0  \n",
       "4  2156           669.0                    9.0  48904    22626.0  "
      ]
     },
     "execution_count": 15,
     "metadata": {},
     "output_type": "execute_result"
    }
   ],
   "source": [
    "# make GT\n",
    "from numpy.lib.stride_tricks import sliding_window_view\n",
    "\n",
    "gt_vals = []\n",
    "cols = ['ds'] + value_cols\n",
    "\n",
    "dd = df_ds[cols].values\n",
    "s = dd.shape\n",
    "data = sliding_window_view(dd,(4,s[1])).reshape((-1,s[1]))\n",
    "# l = dd.shape[0]\n",
    "# true = np.concatenate([\n",
    "#             dd[l-3-i:l-i+1] for i in range(p_len, 0, -1)\n",
    "#         ], axis=1)\n",
    "\n",
    "df_gt = pd.DataFrame(data,columns=['ds'] + [c for c in value_cols])\n",
    "df_gt.head(5)"
   ]
  },
  {
   "cell_type": "code",
   "execution_count": 16,
   "metadata": {
    "scrolled": true,
    "tags": []
   },
   "outputs": [
    {
     "name": "stdout",
     "output_type": "stream",
     "text": [
      "Model: NaiveSeasonal__{'K': 52}\n"
     ]
    },
    {
     "data": {
      "application/vnd.jupyter.widget-view+json": {
       "model_id": "a36d6887355e4e34998357e6a7d1388c",
       "version_major": 2,
       "version_minor": 0
      },
      "text/plain": [
       "  0%|          | 0/23 [00:00<?, ?it/s]"
      ]
     },
     "metadata": {},
     "output_type": "display_data"
    },
    {
     "data": {
      "application/vnd.jupyter.widget-view+json": {
       "model_id": "f93c21176bb14db29e2f3d7c3244e9b3",
       "version_major": 2,
       "version_minor": 0
      },
      "text/plain": [
       "  0%|          | 0/22 [00:00<?, ?it/s]"
      ]
     },
     "metadata": {},
     "output_type": "display_data"
    },
    {
     "data": {
      "application/vnd.jupyter.widget-view+json": {
       "model_id": "a5452a6db68e4e0cac5bb00d853da2dc",
       "version_major": 2,
       "version_minor": 0
      },
      "text/plain": [
       "  0%|          | 0/21 [00:00<?, ?it/s]"
      ]
     },
     "metadata": {},
     "output_type": "display_data"
    },
    {
     "data": {
      "application/vnd.jupyter.widget-view+json": {
       "model_id": "c99fd72679e6456cbd23c4c1a6143bdb",
       "version_major": 2,
       "version_minor": 0
      },
      "text/plain": [
       "  0%|          | 0/20 [00:00<?, ?it/s]"
      ]
     },
     "metadata": {},
     "output_type": "display_data"
    },
    {
     "data": {
      "application/vnd.jupyter.widget-view+json": {
       "model_id": "97619c4b13a34c2e96cc61eb55348d6d",
       "version_major": 2,
       "version_minor": 0
      },
      "text/plain": [
       "  0%|          | 0/23 [00:00<?, ?it/s]"
      ]
     },
     "metadata": {},
     "output_type": "display_data"
    },
    {
     "data": {
      "application/vnd.jupyter.widget-view+json": {
       "model_id": "e9c9ad80a0ed406884ab1c5c0e8cbf26",
       "version_major": 2,
       "version_minor": 0
      },
      "text/plain": [
       "  0%|          | 0/22 [00:00<?, ?it/s]"
      ]
     },
     "metadata": {},
     "output_type": "display_data"
    },
    {
     "data": {
      "application/vnd.jupyter.widget-view+json": {
       "model_id": "90cd8551d4f54ec99c8e3304c780a041",
       "version_major": 2,
       "version_minor": 0
      },
      "text/plain": [
       "  0%|          | 0/21 [00:00<?, ?it/s]"
      ]
     },
     "metadata": {},
     "output_type": "display_data"
    },
    {
     "data": {
      "application/vnd.jupyter.widget-view+json": {
       "model_id": "317b16c9bbe043b0960efdd5fa6dfe32",
       "version_major": 2,
       "version_minor": 0
      },
      "text/plain": [
       "  0%|          | 0/20 [00:00<?, ?it/s]"
      ]
     },
     "metadata": {},
     "output_type": "display_data"
    },
    {
     "data": {
      "application/vnd.jupyter.widget-view+json": {
       "model_id": "2cd635082d064fc29a6f6521446e7cb3",
       "version_major": 2,
       "version_minor": 0
      },
      "text/plain": [
       "  0%|          | 0/23 [00:00<?, ?it/s]"
      ]
     },
     "metadata": {},
     "output_type": "display_data"
    },
    {
     "data": {
      "application/vnd.jupyter.widget-view+json": {
       "model_id": "90fec0307e2e4f7f9edfcdb913e2cca4",
       "version_major": 2,
       "version_minor": 0
      },
      "text/plain": [
       "  0%|          | 0/22 [00:00<?, ?it/s]"
      ]
     },
     "metadata": {},
     "output_type": "display_data"
    },
    {
     "data": {
      "application/vnd.jupyter.widget-view+json": {
       "model_id": "85d76baf7af74e06b97a5f86120b5067",
       "version_major": 2,
       "version_minor": 0
      },
      "text/plain": [
       "  0%|          | 0/21 [00:00<?, ?it/s]"
      ]
     },
     "metadata": {},
     "output_type": "display_data"
    },
    {
     "data": {
      "application/vnd.jupyter.widget-view+json": {
       "model_id": "71fd74aa973646629e3e296432dcb312",
       "version_major": 2,
       "version_minor": 0
      },
      "text/plain": [
       "  0%|          | 0/20 [00:00<?, ?it/s]"
      ]
     },
     "metadata": {},
     "output_type": "display_data"
    },
    {
     "data": {
      "application/vnd.jupyter.widget-view+json": {
       "model_id": "a5ae59cea4ab489a9908d802dede4712",
       "version_major": 2,
       "version_minor": 0
      },
      "text/plain": [
       "  0%|          | 0/23 [00:00<?, ?it/s]"
      ]
     },
     "metadata": {},
     "output_type": "display_data"
    },
    {
     "data": {
      "application/vnd.jupyter.widget-view+json": {
       "model_id": "33c41e14375740bf935752a67ef3af8b",
       "version_major": 2,
       "version_minor": 0
      },
      "text/plain": [
       "  0%|          | 0/22 [00:00<?, ?it/s]"
      ]
     },
     "metadata": {},
     "output_type": "display_data"
    },
    {
     "data": {
      "application/vnd.jupyter.widget-view+json": {
       "model_id": "47f30a383c5f408cb26c5431e7f7ff36",
       "version_major": 2,
       "version_minor": 0
      },
      "text/plain": [
       "  0%|          | 0/21 [00:00<?, ?it/s]"
      ]
     },
     "metadata": {},
     "output_type": "display_data"
    },
    {
     "data": {
      "application/vnd.jupyter.widget-view+json": {
       "model_id": "d75048f0f4bf4c7eae39871d7a52d5f2",
       "version_major": 2,
       "version_minor": 0
      },
      "text/plain": [
       "  0%|          | 0/20 [00:00<?, ?it/s]"
      ]
     },
     "metadata": {},
     "output_type": "display_data"
    },
    {
     "data": {
      "application/vnd.jupyter.widget-view+json": {
       "model_id": "5d589b54b61a4ea88a2e78ff4fa5ad06",
       "version_major": 2,
       "version_minor": 0
      },
      "text/plain": [
       "  0%|          | 0/23 [00:00<?, ?it/s]"
      ]
     },
     "metadata": {},
     "output_type": "display_data"
    },
    {
     "data": {
      "application/vnd.jupyter.widget-view+json": {
       "model_id": "ea641abb800843cfb23fccb6585c45da",
       "version_major": 2,
       "version_minor": 0
      },
      "text/plain": [
       "  0%|          | 0/22 [00:00<?, ?it/s]"
      ]
     },
     "metadata": {},
     "output_type": "display_data"
    },
    {
     "data": {
      "application/vnd.jupyter.widget-view+json": {
       "model_id": "a31bf4778bfa4a2397fd82a0e01caeac",
       "version_major": 2,
       "version_minor": 0
      },
      "text/plain": [
       "  0%|          | 0/21 [00:00<?, ?it/s]"
      ]
     },
     "metadata": {},
     "output_type": "display_data"
    },
    {
     "data": {
      "application/vnd.jupyter.widget-view+json": {
       "model_id": "35206c8c40cd4229a6f37cefd1ce33e9",
       "version_major": 2,
       "version_minor": 0
      },
      "text/plain": [
       "  0%|          | 0/20 [00:00<?, ?it/s]"
      ]
     },
     "metadata": {},
     "output_type": "display_data"
    },
    {
     "data": {
      "application/vnd.jupyter.widget-view+json": {
       "model_id": "fc12080a2ca042949015e25e0d384345",
       "version_major": 2,
       "version_minor": 0
      },
      "text/plain": [
       "  0%|          | 0/23 [00:00<?, ?it/s]"
      ]
     },
     "metadata": {},
     "output_type": "display_data"
    },
    {
     "data": {
      "application/vnd.jupyter.widget-view+json": {
       "model_id": "9c6ac1f21300400aad6cdaf96206cbea",
       "version_major": 2,
       "version_minor": 0
      },
      "text/plain": [
       "  0%|          | 0/22 [00:00<?, ?it/s]"
      ]
     },
     "metadata": {},
     "output_type": "display_data"
    },
    {
     "data": {
      "application/vnd.jupyter.widget-view+json": {
       "model_id": "2f170ff4312f4e2db4d26d92e1864ecc",
       "version_major": 2,
       "version_minor": 0
      },
      "text/plain": [
       "  0%|          | 0/21 [00:00<?, ?it/s]"
      ]
     },
     "metadata": {},
     "output_type": "display_data"
    },
    {
     "data": {
      "application/vnd.jupyter.widget-view+json": {
       "model_id": "97c9606d7e5747ed9969c7fc9fb565ba",
       "version_major": 2,
       "version_minor": 0
      },
      "text/plain": [
       "  0%|          | 0/20 [00:00<?, ?it/s]"
      ]
     },
     "metadata": {},
     "output_type": "display_data"
    },
    {
     "data": {
      "application/vnd.jupyter.widget-view+json": {
       "model_id": "6516b03659934626913d74090171a1ee",
       "version_major": 2,
       "version_minor": 0
      },
      "text/plain": [
       "  0%|          | 0/23 [00:00<?, ?it/s]"
      ]
     },
     "metadata": {},
     "output_type": "display_data"
    },
    {
     "data": {
      "application/vnd.jupyter.widget-view+json": {
       "model_id": "42bc073763d442fb9077a5f2859264f4",
       "version_major": 2,
       "version_minor": 0
      },
      "text/plain": [
       "  0%|          | 0/22 [00:00<?, ?it/s]"
      ]
     },
     "metadata": {},
     "output_type": "display_data"
    },
    {
     "data": {
      "application/vnd.jupyter.widget-view+json": {
       "model_id": "fb54cf9857704ff4897a74857f3d27c1",
       "version_major": 2,
       "version_minor": 0
      },
      "text/plain": [
       "  0%|          | 0/21 [00:00<?, ?it/s]"
      ]
     },
     "metadata": {},
     "output_type": "display_data"
    },
    {
     "data": {
      "application/vnd.jupyter.widget-view+json": {
       "model_id": "9ae1ee9d417b4f7baba026c3da908fd0",
       "version_major": 2,
       "version_minor": 0
      },
      "text/plain": [
       "  0%|          | 0/20 [00:00<?, ?it/s]"
      ]
     },
     "metadata": {},
     "output_type": "display_data"
    },
    {
     "data": {
      "application/vnd.jupyter.widget-view+json": {
       "model_id": "f0f2e20e24404edcb84869046e2fdfe6",
       "version_major": 2,
       "version_minor": 0
      },
      "text/plain": [
       "  0%|          | 0/23 [00:00<?, ?it/s]"
      ]
     },
     "metadata": {},
     "output_type": "display_data"
    },
    {
     "data": {
      "application/vnd.jupyter.widget-view+json": {
       "model_id": "9853cf8bf3a54a9ebaae1b311ac869cd",
       "version_major": 2,
       "version_minor": 0
      },
      "text/plain": [
       "  0%|          | 0/22 [00:00<?, ?it/s]"
      ]
     },
     "metadata": {},
     "output_type": "display_data"
    },
    {
     "data": {
      "application/vnd.jupyter.widget-view+json": {
       "model_id": "1eaddd627f9f4b5e86fe1dd98fe85924",
       "version_major": 2,
       "version_minor": 0
      },
      "text/plain": [
       "  0%|          | 0/21 [00:00<?, ?it/s]"
      ]
     },
     "metadata": {},
     "output_type": "display_data"
    },
    {
     "data": {
      "application/vnd.jupyter.widget-view+json": {
       "model_id": "39714cac3df64e75807bf7b9ce22c367",
       "version_major": 2,
       "version_minor": 0
      },
      "text/plain": [
       "  0%|          | 0/20 [00:00<?, ?it/s]"
      ]
     },
     "metadata": {},
     "output_type": "display_data"
    },
    {
     "data": {
      "application/vnd.jupyter.widget-view+json": {
       "model_id": "d12729ffdff7461fb103eb45507eb251",
       "version_major": 2,
       "version_minor": 0
      },
      "text/plain": [
       "  0%|          | 0/23 [00:00<?, ?it/s]"
      ]
     },
     "metadata": {},
     "output_type": "display_data"
    },
    {
     "data": {
      "application/vnd.jupyter.widget-view+json": {
       "model_id": "78b36b27d90547d983e758d47808f307",
       "version_major": 2,
       "version_minor": 0
      },
      "text/plain": [
       "  0%|          | 0/22 [00:00<?, ?it/s]"
      ]
     },
     "metadata": {},
     "output_type": "display_data"
    },
    {
     "data": {
      "application/vnd.jupyter.widget-view+json": {
       "model_id": "c9e41782fe0a4ece875e1ab02327d3d5",
       "version_major": 2,
       "version_minor": 0
      },
      "text/plain": [
       "  0%|          | 0/21 [00:00<?, ?it/s]"
      ]
     },
     "metadata": {},
     "output_type": "display_data"
    },
    {
     "data": {
      "application/vnd.jupyter.widget-view+json": {
       "model_id": "7c60991bb8974762bb026ba1426c6a02",
       "version_major": 2,
       "version_minor": 0
      },
      "text/plain": [
       "  0%|          | 0/20 [00:00<?, ?it/s]"
      ]
     },
     "metadata": {},
     "output_type": "display_data"
    },
    {
     "data": {
      "application/vnd.jupyter.widget-view+json": {
       "model_id": "d18bd97d418e4407ae2a74c8175f6885",
       "version_major": 2,
       "version_minor": 0
      },
      "text/plain": [
       "  0%|          | 0/23 [00:00<?, ?it/s]"
      ]
     },
     "metadata": {},
     "output_type": "display_data"
    },
    {
     "data": {
      "application/vnd.jupyter.widget-view+json": {
       "model_id": "cc64a24bcd3f4cf1a4035cd6e42e4ea0",
       "version_major": 2,
       "version_minor": 0
      },
      "text/plain": [
       "  0%|          | 0/22 [00:00<?, ?it/s]"
      ]
     },
     "metadata": {},
     "output_type": "display_data"
    },
    {
     "data": {
      "application/vnd.jupyter.widget-view+json": {
       "model_id": "152d96e0e61d464eb3644f82b499b470",
       "version_major": 2,
       "version_minor": 0
      },
      "text/plain": [
       "  0%|          | 0/21 [00:00<?, ?it/s]"
      ]
     },
     "metadata": {},
     "output_type": "display_data"
    },
    {
     "data": {
      "application/vnd.jupyter.widget-view+json": {
       "model_id": "ac5440ad173543e7bcdf10d1beb4d21e",
       "version_major": 2,
       "version_minor": 0
      },
      "text/plain": [
       "  0%|          | 0/20 [00:00<?, ?it/s]"
      ]
     },
     "metadata": {},
     "output_type": "display_data"
    },
    {
     "name": "stdout",
     "output_type": "stream",
     "text": [
      "Model: StatsForecastAutoTheta__{'season_length': 4}\n"
     ]
    },
    {
     "data": {
      "application/vnd.jupyter.widget-view+json": {
       "model_id": "816b83050c584b7e9d2118e5a245d747",
       "version_major": 2,
       "version_minor": 0
      },
      "text/plain": [
       "  0%|          | 0/23 [00:00<?, ?it/s]"
      ]
     },
     "metadata": {},
     "output_type": "display_data"
    },
    {
     "data": {
      "application/vnd.jupyter.widget-view+json": {
       "model_id": "8d39fd04608843f2b1e8fbbc83e633a4",
       "version_major": 2,
       "version_minor": 0
      },
      "text/plain": [
       "  0%|          | 0/22 [00:00<?, ?it/s]"
      ]
     },
     "metadata": {},
     "output_type": "display_data"
    },
    {
     "data": {
      "application/vnd.jupyter.widget-view+json": {
       "model_id": "70343590738a4c4bbde179c84aaec9ed",
       "version_major": 2,
       "version_minor": 0
      },
      "text/plain": [
       "  0%|          | 0/21 [00:00<?, ?it/s]"
      ]
     },
     "metadata": {},
     "output_type": "display_data"
    },
    {
     "data": {
      "application/vnd.jupyter.widget-view+json": {
       "model_id": "3ea04705a3de49de9cc137f396177203",
       "version_major": 2,
       "version_minor": 0
      },
      "text/plain": [
       "  0%|          | 0/20 [00:00<?, ?it/s]"
      ]
     },
     "metadata": {},
     "output_type": "display_data"
    },
    {
     "data": {
      "application/vnd.jupyter.widget-view+json": {
       "model_id": "d064686a1cae4d26929d013714355606",
       "version_major": 2,
       "version_minor": 0
      },
      "text/plain": [
       "  0%|          | 0/23 [00:00<?, ?it/s]"
      ]
     },
     "metadata": {},
     "output_type": "display_data"
    },
    {
     "data": {
      "application/vnd.jupyter.widget-view+json": {
       "model_id": "386da31cede2476ea6887810b893f760",
       "version_major": 2,
       "version_minor": 0
      },
      "text/plain": [
       "  0%|          | 0/22 [00:00<?, ?it/s]"
      ]
     },
     "metadata": {},
     "output_type": "display_data"
    },
    {
     "data": {
      "application/vnd.jupyter.widget-view+json": {
       "model_id": "bd030434fbdf45f4aadbbd6a68c0ebce",
       "version_major": 2,
       "version_minor": 0
      },
      "text/plain": [
       "  0%|          | 0/21 [00:00<?, ?it/s]"
      ]
     },
     "metadata": {},
     "output_type": "display_data"
    },
    {
     "data": {
      "application/vnd.jupyter.widget-view+json": {
       "model_id": "7230126f73b64ceb9080d498b7f89499",
       "version_major": 2,
       "version_minor": 0
      },
      "text/plain": [
       "  0%|          | 0/20 [00:00<?, ?it/s]"
      ]
     },
     "metadata": {},
     "output_type": "display_data"
    },
    {
     "data": {
      "application/vnd.jupyter.widget-view+json": {
       "model_id": "5de699c4ee2c4018b90ca7dbc429e8e0",
       "version_major": 2,
       "version_minor": 0
      },
      "text/plain": [
       "  0%|          | 0/23 [00:00<?, ?it/s]"
      ]
     },
     "metadata": {},
     "output_type": "display_data"
    },
    {
     "data": {
      "application/vnd.jupyter.widget-view+json": {
       "model_id": "b443bc83de4d4dfd84ccd565449838ae",
       "version_major": 2,
       "version_minor": 0
      },
      "text/plain": [
       "  0%|          | 0/22 [00:00<?, ?it/s]"
      ]
     },
     "metadata": {},
     "output_type": "display_data"
    },
    {
     "data": {
      "application/vnd.jupyter.widget-view+json": {
       "model_id": "4c79a3f4db3b4b929597128dadf9388b",
       "version_major": 2,
       "version_minor": 0
      },
      "text/plain": [
       "  0%|          | 0/21 [00:00<?, ?it/s]"
      ]
     },
     "metadata": {},
     "output_type": "display_data"
    },
    {
     "data": {
      "application/vnd.jupyter.widget-view+json": {
       "model_id": "cdb85b49b365439783f38c523c297621",
       "version_major": 2,
       "version_minor": 0
      },
      "text/plain": [
       "  0%|          | 0/20 [00:00<?, ?it/s]"
      ]
     },
     "metadata": {},
     "output_type": "display_data"
    },
    {
     "data": {
      "application/vnd.jupyter.widget-view+json": {
       "model_id": "b364459407dc44cba241c752e089aa7a",
       "version_major": 2,
       "version_minor": 0
      },
      "text/plain": [
       "  0%|          | 0/23 [00:00<?, ?it/s]"
      ]
     },
     "metadata": {},
     "output_type": "display_data"
    },
    {
     "data": {
      "application/vnd.jupyter.widget-view+json": {
       "model_id": "545acd327b304d54b7243fa00054bb5a",
       "version_major": 2,
       "version_minor": 0
      },
      "text/plain": [
       "  0%|          | 0/22 [00:00<?, ?it/s]"
      ]
     },
     "metadata": {},
     "output_type": "display_data"
    },
    {
     "data": {
      "application/vnd.jupyter.widget-view+json": {
       "model_id": "12bc4662b5d3419582aed2e9d36346cd",
       "version_major": 2,
       "version_minor": 0
      },
      "text/plain": [
       "  0%|          | 0/21 [00:00<?, ?it/s]"
      ]
     },
     "metadata": {},
     "output_type": "display_data"
    },
    {
     "data": {
      "application/vnd.jupyter.widget-view+json": {
       "model_id": "46d8a12d3deb4eb687ebc603b59a511c",
       "version_major": 2,
       "version_minor": 0
      },
      "text/plain": [
       "  0%|          | 0/20 [00:00<?, ?it/s]"
      ]
     },
     "metadata": {},
     "output_type": "display_data"
    },
    {
     "data": {
      "application/vnd.jupyter.widget-view+json": {
       "model_id": "86d4a6466df64f00af04e926963dd99b",
       "version_major": 2,
       "version_minor": 0
      },
      "text/plain": [
       "  0%|          | 0/23 [00:00<?, ?it/s]"
      ]
     },
     "metadata": {},
     "output_type": "display_data"
    },
    {
     "data": {
      "application/vnd.jupyter.widget-view+json": {
       "model_id": "752bd5f7c56240a79d552ba4870fef5a",
       "version_major": 2,
       "version_minor": 0
      },
      "text/plain": [
       "  0%|          | 0/22 [00:00<?, ?it/s]"
      ]
     },
     "metadata": {},
     "output_type": "display_data"
    },
    {
     "data": {
      "application/vnd.jupyter.widget-view+json": {
       "model_id": "9cb7236af5b248cb9297298b52c94625",
       "version_major": 2,
       "version_minor": 0
      },
      "text/plain": [
       "  0%|          | 0/21 [00:00<?, ?it/s]"
      ]
     },
     "metadata": {},
     "output_type": "display_data"
    },
    {
     "data": {
      "application/vnd.jupyter.widget-view+json": {
       "model_id": "c2f082928ff341b19b85b956bd0fd44e",
       "version_major": 2,
       "version_minor": 0
      },
      "text/plain": [
       "  0%|          | 0/20 [00:00<?, ?it/s]"
      ]
     },
     "metadata": {},
     "output_type": "display_data"
    },
    {
     "data": {
      "application/vnd.jupyter.widget-view+json": {
       "model_id": "60c4546c923c4747975c65bb4befa463",
       "version_major": 2,
       "version_minor": 0
      },
      "text/plain": [
       "  0%|          | 0/23 [00:00<?, ?it/s]"
      ]
     },
     "metadata": {},
     "output_type": "display_data"
    },
    {
     "data": {
      "application/vnd.jupyter.widget-view+json": {
       "model_id": "96bf9f00d282471a9da07deb7468c6c4",
       "version_major": 2,
       "version_minor": 0
      },
      "text/plain": [
       "  0%|          | 0/22 [00:00<?, ?it/s]"
      ]
     },
     "metadata": {},
     "output_type": "display_data"
    },
    {
     "data": {
      "application/vnd.jupyter.widget-view+json": {
       "model_id": "bd193b6d82524508928eb6246d945b9f",
       "version_major": 2,
       "version_minor": 0
      },
      "text/plain": [
       "  0%|          | 0/21 [00:00<?, ?it/s]"
      ]
     },
     "metadata": {},
     "output_type": "display_data"
    },
    {
     "data": {
      "application/vnd.jupyter.widget-view+json": {
       "model_id": "4ceb4b2bcfcc44e686c99eeb8e43f517",
       "version_major": 2,
       "version_minor": 0
      },
      "text/plain": [
       "  0%|          | 0/20 [00:00<?, ?it/s]"
      ]
     },
     "metadata": {},
     "output_type": "display_data"
    },
    {
     "data": {
      "application/vnd.jupyter.widget-view+json": {
       "model_id": "c8a87e1ccda249189fb5c6f9feae2ca8",
       "version_major": 2,
       "version_minor": 0
      },
      "text/plain": [
       "  0%|          | 0/23 [00:00<?, ?it/s]"
      ]
     },
     "metadata": {},
     "output_type": "display_data"
    },
    {
     "data": {
      "application/vnd.jupyter.widget-view+json": {
       "model_id": "15adaee945134220a170c9d382def8a7",
       "version_major": 2,
       "version_minor": 0
      },
      "text/plain": [
       "  0%|          | 0/22 [00:00<?, ?it/s]"
      ]
     },
     "metadata": {},
     "output_type": "display_data"
    },
    {
     "data": {
      "application/vnd.jupyter.widget-view+json": {
       "model_id": "df2211170faf4cdf846bcb676183d8a0",
       "version_major": 2,
       "version_minor": 0
      },
      "text/plain": [
       "  0%|          | 0/21 [00:00<?, ?it/s]"
      ]
     },
     "metadata": {},
     "output_type": "display_data"
    },
    {
     "data": {
      "application/vnd.jupyter.widget-view+json": {
       "model_id": "c7e19848026142aa89fcb51734f94828",
       "version_major": 2,
       "version_minor": 0
      },
      "text/plain": [
       "  0%|          | 0/20 [00:00<?, ?it/s]"
      ]
     },
     "metadata": {},
     "output_type": "display_data"
    },
    {
     "data": {
      "application/vnd.jupyter.widget-view+json": {
       "model_id": "e8cf9b52b13e465b958db47a59930821",
       "version_major": 2,
       "version_minor": 0
      },
      "text/plain": [
       "  0%|          | 0/23 [00:00<?, ?it/s]"
      ]
     },
     "metadata": {},
     "output_type": "display_data"
    },
    {
     "data": {
      "application/vnd.jupyter.widget-view+json": {
       "model_id": "45c2a2b2a3874c7982f677634adc1827",
       "version_major": 2,
       "version_minor": 0
      },
      "text/plain": [
       "  0%|          | 0/22 [00:00<?, ?it/s]"
      ]
     },
     "metadata": {},
     "output_type": "display_data"
    },
    {
     "data": {
      "application/vnd.jupyter.widget-view+json": {
       "model_id": "0b7451a508b74705983edea928f18aa4",
       "version_major": 2,
       "version_minor": 0
      },
      "text/plain": [
       "  0%|          | 0/21 [00:00<?, ?it/s]"
      ]
     },
     "metadata": {},
     "output_type": "display_data"
    },
    {
     "data": {
      "application/vnd.jupyter.widget-view+json": {
       "model_id": "99f1fe958e404c3c8f559022ff54db6b",
       "version_major": 2,
       "version_minor": 0
      },
      "text/plain": [
       "  0%|          | 0/20 [00:00<?, ?it/s]"
      ]
     },
     "metadata": {},
     "output_type": "display_data"
    },
    {
     "data": {
      "application/vnd.jupyter.widget-view+json": {
       "model_id": "98edec0140d8416b861847498d73f37c",
       "version_major": 2,
       "version_minor": 0
      },
      "text/plain": [
       "  0%|          | 0/23 [00:00<?, ?it/s]"
      ]
     },
     "metadata": {},
     "output_type": "display_data"
    },
    {
     "data": {
      "application/vnd.jupyter.widget-view+json": {
       "model_id": "d9b293ce0e764b37900a2ebff871f1be",
       "version_major": 2,
       "version_minor": 0
      },
      "text/plain": [
       "  0%|          | 0/22 [00:00<?, ?it/s]"
      ]
     },
     "metadata": {},
     "output_type": "display_data"
    },
    {
     "data": {
      "application/vnd.jupyter.widget-view+json": {
       "model_id": "d5bb9ce8806e4bfc90592b147804372b",
       "version_major": 2,
       "version_minor": 0
      },
      "text/plain": [
       "  0%|          | 0/21 [00:00<?, ?it/s]"
      ]
     },
     "metadata": {},
     "output_type": "display_data"
    },
    {
     "data": {
      "application/vnd.jupyter.widget-view+json": {
       "model_id": "021f69e6cc564fb2909c27085cd3da6a",
       "version_major": 2,
       "version_minor": 0
      },
      "text/plain": [
       "  0%|          | 0/20 [00:00<?, ?it/s]"
      ]
     },
     "metadata": {},
     "output_type": "display_data"
    },
    {
     "data": {
      "application/vnd.jupyter.widget-view+json": {
       "model_id": "3ca8099d865b495f95df94918b8f1c9b",
       "version_major": 2,
       "version_minor": 0
      },
      "text/plain": [
       "  0%|          | 0/23 [00:00<?, ?it/s]"
      ]
     },
     "metadata": {},
     "output_type": "display_data"
    },
    {
     "data": {
      "application/vnd.jupyter.widget-view+json": {
       "model_id": "5464794caf1b4abcbdc198d6119e0d57",
       "version_major": 2,
       "version_minor": 0
      },
      "text/plain": [
       "  0%|          | 0/22 [00:00<?, ?it/s]"
      ]
     },
     "metadata": {},
     "output_type": "display_data"
    },
    {
     "data": {
      "application/vnd.jupyter.widget-view+json": {
       "model_id": "43fb4510c3ea4dc9a1fa71380d3b62cb",
       "version_major": 2,
       "version_minor": 0
      },
      "text/plain": [
       "  0%|          | 0/21 [00:00<?, ?it/s]"
      ]
     },
     "metadata": {},
     "output_type": "display_data"
    },
    {
     "data": {
      "application/vnd.jupyter.widget-view+json": {
       "model_id": "11e459d74fc94af1b01c0d68eb6ea77b",
       "version_major": 2,
       "version_minor": 0
      },
      "text/plain": [
       "  0%|          | 0/20 [00:00<?, ?it/s]"
      ]
     },
     "metadata": {},
     "output_type": "display_data"
    },
    {
     "name": "stdout",
     "output_type": "stream",
     "text": [
      "Model: StatsForecastAutoTheta__{'season_length': 13}\n"
     ]
    },
    {
     "data": {
      "application/vnd.jupyter.widget-view+json": {
       "model_id": "e3ec668863734599b4871a1847b9a428",
       "version_major": 2,
       "version_minor": 0
      },
      "text/plain": [
       "  0%|          | 0/23 [00:00<?, ?it/s]"
      ]
     },
     "metadata": {},
     "output_type": "display_data"
    },
    {
     "data": {
      "application/vnd.jupyter.widget-view+json": {
       "model_id": "0a6ef7fa58bc4866acc4aafec0046cf5",
       "version_major": 2,
       "version_minor": 0
      },
      "text/plain": [
       "  0%|          | 0/22 [00:00<?, ?it/s]"
      ]
     },
     "metadata": {},
     "output_type": "display_data"
    },
    {
     "data": {
      "application/vnd.jupyter.widget-view+json": {
       "model_id": "da5aa7f750874ee79368cde4740e7131",
       "version_major": 2,
       "version_minor": 0
      },
      "text/plain": [
       "  0%|          | 0/21 [00:00<?, ?it/s]"
      ]
     },
     "metadata": {},
     "output_type": "display_data"
    },
    {
     "data": {
      "application/vnd.jupyter.widget-view+json": {
       "model_id": "08ffe07a919740a880a840f5630ca000",
       "version_major": 2,
       "version_minor": 0
      },
      "text/plain": [
       "  0%|          | 0/20 [00:00<?, ?it/s]"
      ]
     },
     "metadata": {},
     "output_type": "display_data"
    },
    {
     "data": {
      "application/vnd.jupyter.widget-view+json": {
       "model_id": "949671e1a0004b4ba92999dbf14f5293",
       "version_major": 2,
       "version_minor": 0
      },
      "text/plain": [
       "  0%|          | 0/23 [00:00<?, ?it/s]"
      ]
     },
     "metadata": {},
     "output_type": "display_data"
    },
    {
     "data": {
      "application/vnd.jupyter.widget-view+json": {
       "model_id": "6ad11165b4744925bce9b24b0e2d002a",
       "version_major": 2,
       "version_minor": 0
      },
      "text/plain": [
       "  0%|          | 0/22 [00:00<?, ?it/s]"
      ]
     },
     "metadata": {},
     "output_type": "display_data"
    },
    {
     "data": {
      "application/vnd.jupyter.widget-view+json": {
       "model_id": "18430a76b315498984e9348aa3446184",
       "version_major": 2,
       "version_minor": 0
      },
      "text/plain": [
       "  0%|          | 0/21 [00:00<?, ?it/s]"
      ]
     },
     "metadata": {},
     "output_type": "display_data"
    },
    {
     "data": {
      "application/vnd.jupyter.widget-view+json": {
       "model_id": "12ae41f843f8406da8f61df751e50cf6",
       "version_major": 2,
       "version_minor": 0
      },
      "text/plain": [
       "  0%|          | 0/20 [00:00<?, ?it/s]"
      ]
     },
     "metadata": {},
     "output_type": "display_data"
    },
    {
     "data": {
      "application/vnd.jupyter.widget-view+json": {
       "model_id": "89fd6aedb48c454cb2e4990f10cd8644",
       "version_major": 2,
       "version_minor": 0
      },
      "text/plain": [
       "  0%|          | 0/23 [00:00<?, ?it/s]"
      ]
     },
     "metadata": {},
     "output_type": "display_data"
    },
    {
     "data": {
      "application/vnd.jupyter.widget-view+json": {
       "model_id": "b08ca243c05a4ed7aa059ff6ea69829f",
       "version_major": 2,
       "version_minor": 0
      },
      "text/plain": [
       "  0%|          | 0/22 [00:00<?, ?it/s]"
      ]
     },
     "metadata": {},
     "output_type": "display_data"
    },
    {
     "data": {
      "application/vnd.jupyter.widget-view+json": {
       "model_id": "de95fa24313d4aeb8de2cc26fd53daf9",
       "version_major": 2,
       "version_minor": 0
      },
      "text/plain": [
       "  0%|          | 0/21 [00:00<?, ?it/s]"
      ]
     },
     "metadata": {},
     "output_type": "display_data"
    },
    {
     "data": {
      "application/vnd.jupyter.widget-view+json": {
       "model_id": "f714407a48db46219dda98dd02b4f464",
       "version_major": 2,
       "version_minor": 0
      },
      "text/plain": [
       "  0%|          | 0/20 [00:00<?, ?it/s]"
      ]
     },
     "metadata": {},
     "output_type": "display_data"
    },
    {
     "data": {
      "application/vnd.jupyter.widget-view+json": {
       "model_id": "5f1c902f6d7f4e06b6ad72a79334a7cb",
       "version_major": 2,
       "version_minor": 0
      },
      "text/plain": [
       "  0%|          | 0/23 [00:00<?, ?it/s]"
      ]
     },
     "metadata": {},
     "output_type": "display_data"
    },
    {
     "data": {
      "application/vnd.jupyter.widget-view+json": {
       "model_id": "c104bed9ca1b44148aa8689793b6cd15",
       "version_major": 2,
       "version_minor": 0
      },
      "text/plain": [
       "  0%|          | 0/22 [00:00<?, ?it/s]"
      ]
     },
     "metadata": {},
     "output_type": "display_data"
    },
    {
     "data": {
      "application/vnd.jupyter.widget-view+json": {
       "model_id": "fc22bb46d7024a30a91c287409f5997b",
       "version_major": 2,
       "version_minor": 0
      },
      "text/plain": [
       "  0%|          | 0/21 [00:00<?, ?it/s]"
      ]
     },
     "metadata": {},
     "output_type": "display_data"
    },
    {
     "data": {
      "application/vnd.jupyter.widget-view+json": {
       "model_id": "08d927b765de4a8994964c0a86a8f7a2",
       "version_major": 2,
       "version_minor": 0
      },
      "text/plain": [
       "  0%|          | 0/20 [00:00<?, ?it/s]"
      ]
     },
     "metadata": {},
     "output_type": "display_data"
    },
    {
     "data": {
      "application/vnd.jupyter.widget-view+json": {
       "model_id": "9fc10fe5b36b4ae8bb46723dfa72a0f5",
       "version_major": 2,
       "version_minor": 0
      },
      "text/plain": [
       "  0%|          | 0/23 [00:00<?, ?it/s]"
      ]
     },
     "metadata": {},
     "output_type": "display_data"
    },
    {
     "data": {
      "application/vnd.jupyter.widget-view+json": {
       "model_id": "9aa2e1bd3324463b86efb70fce512a7e",
       "version_major": 2,
       "version_minor": 0
      },
      "text/plain": [
       "  0%|          | 0/22 [00:00<?, ?it/s]"
      ]
     },
     "metadata": {},
     "output_type": "display_data"
    },
    {
     "data": {
      "application/vnd.jupyter.widget-view+json": {
       "model_id": "efea27aaef8b4b379269d7b5ac769d0f",
       "version_major": 2,
       "version_minor": 0
      },
      "text/plain": [
       "  0%|          | 0/21 [00:00<?, ?it/s]"
      ]
     },
     "metadata": {},
     "output_type": "display_data"
    },
    {
     "data": {
      "application/vnd.jupyter.widget-view+json": {
       "model_id": "c958cc2797e34344859be5f548a8b45b",
       "version_major": 2,
       "version_minor": 0
      },
      "text/plain": [
       "  0%|          | 0/20 [00:00<?, ?it/s]"
      ]
     },
     "metadata": {},
     "output_type": "display_data"
    },
    {
     "data": {
      "application/vnd.jupyter.widget-view+json": {
       "model_id": "01169ac80b924b42a93074a3e2824275",
       "version_major": 2,
       "version_minor": 0
      },
      "text/plain": [
       "  0%|          | 0/23 [00:00<?, ?it/s]"
      ]
     },
     "metadata": {},
     "output_type": "display_data"
    },
    {
     "data": {
      "application/vnd.jupyter.widget-view+json": {
       "model_id": "4fdf1f0e052a43a39bb79aa4d3a0c312",
       "version_major": 2,
       "version_minor": 0
      },
      "text/plain": [
       "  0%|          | 0/22 [00:00<?, ?it/s]"
      ]
     },
     "metadata": {},
     "output_type": "display_data"
    },
    {
     "data": {
      "application/vnd.jupyter.widget-view+json": {
       "model_id": "56ae06ecf20f43d1ab3f635e68371769",
       "version_major": 2,
       "version_minor": 0
      },
      "text/plain": [
       "  0%|          | 0/21 [00:00<?, ?it/s]"
      ]
     },
     "metadata": {},
     "output_type": "display_data"
    },
    {
     "data": {
      "application/vnd.jupyter.widget-view+json": {
       "model_id": "52c6920acb7848ffb04b53a5f3f0c6c1",
       "version_major": 2,
       "version_minor": 0
      },
      "text/plain": [
       "  0%|          | 0/20 [00:00<?, ?it/s]"
      ]
     },
     "metadata": {},
     "output_type": "display_data"
    },
    {
     "data": {
      "application/vnd.jupyter.widget-view+json": {
       "model_id": "5e962c99abc1458996fed92a2c1c7507",
       "version_major": 2,
       "version_minor": 0
      },
      "text/plain": [
       "  0%|          | 0/23 [00:00<?, ?it/s]"
      ]
     },
     "metadata": {},
     "output_type": "display_data"
    },
    {
     "data": {
      "application/vnd.jupyter.widget-view+json": {
       "model_id": "b8c8212600754dda86c7199883471e3e",
       "version_major": 2,
       "version_minor": 0
      },
      "text/plain": [
       "  0%|          | 0/22 [00:00<?, ?it/s]"
      ]
     },
     "metadata": {},
     "output_type": "display_data"
    },
    {
     "data": {
      "application/vnd.jupyter.widget-view+json": {
       "model_id": "e4ff13e0cd7e478f83adc5336466840a",
       "version_major": 2,
       "version_minor": 0
      },
      "text/plain": [
       "  0%|          | 0/21 [00:00<?, ?it/s]"
      ]
     },
     "metadata": {},
     "output_type": "display_data"
    },
    {
     "data": {
      "application/vnd.jupyter.widget-view+json": {
       "model_id": "5f19b8d498a24173a56b26cf28b08710",
       "version_major": 2,
       "version_minor": 0
      },
      "text/plain": [
       "  0%|          | 0/20 [00:00<?, ?it/s]"
      ]
     },
     "metadata": {},
     "output_type": "display_data"
    },
    {
     "data": {
      "application/vnd.jupyter.widget-view+json": {
       "model_id": "91be18c5c34245738bbfd6c1894db605",
       "version_major": 2,
       "version_minor": 0
      },
      "text/plain": [
       "  0%|          | 0/23 [00:00<?, ?it/s]"
      ]
     },
     "metadata": {},
     "output_type": "display_data"
    },
    {
     "data": {
      "application/vnd.jupyter.widget-view+json": {
       "model_id": "02a97ab68ce1404d8208399c0a56957f",
       "version_major": 2,
       "version_minor": 0
      },
      "text/plain": [
       "  0%|          | 0/22 [00:00<?, ?it/s]"
      ]
     },
     "metadata": {},
     "output_type": "display_data"
    },
    {
     "data": {
      "application/vnd.jupyter.widget-view+json": {
       "model_id": "66d88b215f5148479c5231348256afeb",
       "version_major": 2,
       "version_minor": 0
      },
      "text/plain": [
       "  0%|          | 0/21 [00:00<?, ?it/s]"
      ]
     },
     "metadata": {},
     "output_type": "display_data"
    },
    {
     "data": {
      "application/vnd.jupyter.widget-view+json": {
       "model_id": "aee12c2539ba42b9aefd04c5dbe605f1",
       "version_major": 2,
       "version_minor": 0
      },
      "text/plain": [
       "  0%|          | 0/20 [00:00<?, ?it/s]"
      ]
     },
     "metadata": {},
     "output_type": "display_data"
    },
    {
     "data": {
      "application/vnd.jupyter.widget-view+json": {
       "model_id": "5f6837e26b04493588a5daa6c4215df8",
       "version_major": 2,
       "version_minor": 0
      },
      "text/plain": [
       "  0%|          | 0/23 [00:00<?, ?it/s]"
      ]
     },
     "metadata": {},
     "output_type": "display_data"
    },
    {
     "data": {
      "application/vnd.jupyter.widget-view+json": {
       "model_id": "38c8889fe2814d5ea213ac374384a610",
       "version_major": 2,
       "version_minor": 0
      },
      "text/plain": [
       "  0%|          | 0/22 [00:00<?, ?it/s]"
      ]
     },
     "metadata": {},
     "output_type": "display_data"
    },
    {
     "data": {
      "application/vnd.jupyter.widget-view+json": {
       "model_id": "c3f6e716017c427d8872befabb14e7f7",
       "version_major": 2,
       "version_minor": 0
      },
      "text/plain": [
       "  0%|          | 0/21 [00:00<?, ?it/s]"
      ]
     },
     "metadata": {},
     "output_type": "display_data"
    },
    {
     "data": {
      "application/vnd.jupyter.widget-view+json": {
       "model_id": "99e2b803f3cc4bef919bf5a95640e685",
       "version_major": 2,
       "version_minor": 0
      },
      "text/plain": [
       "  0%|          | 0/20 [00:00<?, ?it/s]"
      ]
     },
     "metadata": {},
     "output_type": "display_data"
    },
    {
     "data": {
      "application/vnd.jupyter.widget-view+json": {
       "model_id": "feaad5a0e78d48a58e17f54c4f0a2ef4",
       "version_major": 2,
       "version_minor": 0
      },
      "text/plain": [
       "  0%|          | 0/23 [00:00<?, ?it/s]"
      ]
     },
     "metadata": {},
     "output_type": "display_data"
    },
    {
     "data": {
      "application/vnd.jupyter.widget-view+json": {
       "model_id": "5441cc3bf85d4ed0b87448d3817a14fb",
       "version_major": 2,
       "version_minor": 0
      },
      "text/plain": [
       "  0%|          | 0/22 [00:00<?, ?it/s]"
      ]
     },
     "metadata": {},
     "output_type": "display_data"
    },
    {
     "data": {
      "application/vnd.jupyter.widget-view+json": {
       "model_id": "2d4a2875f9054168974104a4775b22b0",
       "version_major": 2,
       "version_minor": 0
      },
      "text/plain": [
       "  0%|          | 0/21 [00:00<?, ?it/s]"
      ]
     },
     "metadata": {},
     "output_type": "display_data"
    },
    {
     "data": {
      "application/vnd.jupyter.widget-view+json": {
       "model_id": "861f16a1457a4000b14718d92669ff80",
       "version_major": 2,
       "version_minor": 0
      },
      "text/plain": [
       "  0%|          | 0/20 [00:00<?, ?it/s]"
      ]
     },
     "metadata": {},
     "output_type": "display_data"
    },
    {
     "name": "stdout",
     "output_type": "stream",
     "text": [
      "Model: StatsForecastAutoTheta__{'season_length': 26}\n"
     ]
    },
    {
     "data": {
      "application/vnd.jupyter.widget-view+json": {
       "model_id": "d06259c01e88429d9479ad0289738c6e",
       "version_major": 2,
       "version_minor": 0
      },
      "text/plain": [
       "  0%|          | 0/23 [00:00<?, ?it/s]"
      ]
     },
     "metadata": {},
     "output_type": "display_data"
    },
    {
     "data": {
      "application/vnd.jupyter.widget-view+json": {
       "model_id": "8a7d504f7b074a2583e7d5f7837797e0",
       "version_major": 2,
       "version_minor": 0
      },
      "text/plain": [
       "  0%|          | 0/22 [00:00<?, ?it/s]"
      ]
     },
     "metadata": {},
     "output_type": "display_data"
    },
    {
     "data": {
      "application/vnd.jupyter.widget-view+json": {
       "model_id": "091d8978d1464738b61868623aec331d",
       "version_major": 2,
       "version_minor": 0
      },
      "text/plain": [
       "  0%|          | 0/21 [00:00<?, ?it/s]"
      ]
     },
     "metadata": {},
     "output_type": "display_data"
    },
    {
     "data": {
      "application/vnd.jupyter.widget-view+json": {
       "model_id": "712c6c5c13724e9c84e9d60880100983",
       "version_major": 2,
       "version_minor": 0
      },
      "text/plain": [
       "  0%|          | 0/20 [00:00<?, ?it/s]"
      ]
     },
     "metadata": {},
     "output_type": "display_data"
    },
    {
     "data": {
      "application/vnd.jupyter.widget-view+json": {
       "model_id": "6c2ea4cddc394ca9aedcd20c28aa3768",
       "version_major": 2,
       "version_minor": 0
      },
      "text/plain": [
       "  0%|          | 0/23 [00:00<?, ?it/s]"
      ]
     },
     "metadata": {},
     "output_type": "display_data"
    },
    {
     "data": {
      "application/vnd.jupyter.widget-view+json": {
       "model_id": "aaefeace89964e99abc01952c441f721",
       "version_major": 2,
       "version_minor": 0
      },
      "text/plain": [
       "  0%|          | 0/22 [00:00<?, ?it/s]"
      ]
     },
     "metadata": {},
     "output_type": "display_data"
    },
    {
     "data": {
      "application/vnd.jupyter.widget-view+json": {
       "model_id": "19a6e7716f074169a5e05ca1378bcdc5",
       "version_major": 2,
       "version_minor": 0
      },
      "text/plain": [
       "  0%|          | 0/21 [00:00<?, ?it/s]"
      ]
     },
     "metadata": {},
     "output_type": "display_data"
    },
    {
     "data": {
      "application/vnd.jupyter.widget-view+json": {
       "model_id": "efbd2d9efa434aa1b4b89c951fd5fec5",
       "version_major": 2,
       "version_minor": 0
      },
      "text/plain": [
       "  0%|          | 0/20 [00:00<?, ?it/s]"
      ]
     },
     "metadata": {},
     "output_type": "display_data"
    },
    {
     "data": {
      "application/vnd.jupyter.widget-view+json": {
       "model_id": "444da8da6eab4df8937cdc9856f29b01",
       "version_major": 2,
       "version_minor": 0
      },
      "text/plain": [
       "  0%|          | 0/23 [00:00<?, ?it/s]"
      ]
     },
     "metadata": {},
     "output_type": "display_data"
    },
    {
     "data": {
      "application/vnd.jupyter.widget-view+json": {
       "model_id": "722fdb785de146af8d7817f246c54a46",
       "version_major": 2,
       "version_minor": 0
      },
      "text/plain": [
       "  0%|          | 0/22 [00:00<?, ?it/s]"
      ]
     },
     "metadata": {},
     "output_type": "display_data"
    },
    {
     "data": {
      "application/vnd.jupyter.widget-view+json": {
       "model_id": "1d65e1489d7c4472be03af3c8019174c",
       "version_major": 2,
       "version_minor": 0
      },
      "text/plain": [
       "  0%|          | 0/21 [00:00<?, ?it/s]"
      ]
     },
     "metadata": {},
     "output_type": "display_data"
    },
    {
     "data": {
      "application/vnd.jupyter.widget-view+json": {
       "model_id": "41ef7a1adb564842b9306ce0b65c11ae",
       "version_major": 2,
       "version_minor": 0
      },
      "text/plain": [
       "  0%|          | 0/20 [00:00<?, ?it/s]"
      ]
     },
     "metadata": {},
     "output_type": "display_data"
    },
    {
     "data": {
      "application/vnd.jupyter.widget-view+json": {
       "model_id": "3e3f84a3f5b14f60ba4c90ffb307aef2",
       "version_major": 2,
       "version_minor": 0
      },
      "text/plain": [
       "  0%|          | 0/23 [00:00<?, ?it/s]"
      ]
     },
     "metadata": {},
     "output_type": "display_data"
    },
    {
     "data": {
      "application/vnd.jupyter.widget-view+json": {
       "model_id": "d7d422ea9fef455e9940f3db7974f531",
       "version_major": 2,
       "version_minor": 0
      },
      "text/plain": [
       "  0%|          | 0/22 [00:00<?, ?it/s]"
      ]
     },
     "metadata": {},
     "output_type": "display_data"
    },
    {
     "data": {
      "application/vnd.jupyter.widget-view+json": {
       "model_id": "c2effb875d6944cb83c15ea689678413",
       "version_major": 2,
       "version_minor": 0
      },
      "text/plain": [
       "  0%|          | 0/21 [00:00<?, ?it/s]"
      ]
     },
     "metadata": {},
     "output_type": "display_data"
    },
    {
     "data": {
      "application/vnd.jupyter.widget-view+json": {
       "model_id": "6a85ea45963c493d8e48533da79d4d22",
       "version_major": 2,
       "version_minor": 0
      },
      "text/plain": [
       "  0%|          | 0/20 [00:00<?, ?it/s]"
      ]
     },
     "metadata": {},
     "output_type": "display_data"
    },
    {
     "data": {
      "application/vnd.jupyter.widget-view+json": {
       "model_id": "f4dc73cb059b4133835a2dd6f6a2f49a",
       "version_major": 2,
       "version_minor": 0
      },
      "text/plain": [
       "  0%|          | 0/23 [00:00<?, ?it/s]"
      ]
     },
     "metadata": {},
     "output_type": "display_data"
    },
    {
     "data": {
      "application/vnd.jupyter.widget-view+json": {
       "model_id": "467693aa4db34fc4afe68072c8b1c762",
       "version_major": 2,
       "version_minor": 0
      },
      "text/plain": [
       "  0%|          | 0/22 [00:00<?, ?it/s]"
      ]
     },
     "metadata": {},
     "output_type": "display_data"
    },
    {
     "data": {
      "application/vnd.jupyter.widget-view+json": {
       "model_id": "2f46ce41dd8943349035e906090f330b",
       "version_major": 2,
       "version_minor": 0
      },
      "text/plain": [
       "  0%|          | 0/21 [00:00<?, ?it/s]"
      ]
     },
     "metadata": {},
     "output_type": "display_data"
    },
    {
     "data": {
      "application/vnd.jupyter.widget-view+json": {
       "model_id": "eb648ad8994e4e29b1f16198e42cd415",
       "version_major": 2,
       "version_minor": 0
      },
      "text/plain": [
       "  0%|          | 0/20 [00:00<?, ?it/s]"
      ]
     },
     "metadata": {},
     "output_type": "display_data"
    },
    {
     "data": {
      "application/vnd.jupyter.widget-view+json": {
       "model_id": "510283d8ce7e4dea8be3e62ede847948",
       "version_major": 2,
       "version_minor": 0
      },
      "text/plain": [
       "  0%|          | 0/23 [00:00<?, ?it/s]"
      ]
     },
     "metadata": {},
     "output_type": "display_data"
    },
    {
     "data": {
      "application/vnd.jupyter.widget-view+json": {
       "model_id": "2e803342475e4f1faf53e322ed962e89",
       "version_major": 2,
       "version_minor": 0
      },
      "text/plain": [
       "  0%|          | 0/22 [00:00<?, ?it/s]"
      ]
     },
     "metadata": {},
     "output_type": "display_data"
    },
    {
     "data": {
      "application/vnd.jupyter.widget-view+json": {
       "model_id": "5722deb4be0a41db8fcbd5a6f7aec12d",
       "version_major": 2,
       "version_minor": 0
      },
      "text/plain": [
       "  0%|          | 0/21 [00:00<?, ?it/s]"
      ]
     },
     "metadata": {},
     "output_type": "display_data"
    },
    {
     "data": {
      "application/vnd.jupyter.widget-view+json": {
       "model_id": "0a15bb5f4d1c44aeac9ad36d2ccdbfda",
       "version_major": 2,
       "version_minor": 0
      },
      "text/plain": [
       "  0%|          | 0/20 [00:00<?, ?it/s]"
      ]
     },
     "metadata": {},
     "output_type": "display_data"
    },
    {
     "data": {
      "application/vnd.jupyter.widget-view+json": {
       "model_id": "0ff198182e2542b38116e3533b91ff3c",
       "version_major": 2,
       "version_minor": 0
      },
      "text/plain": [
       "  0%|          | 0/23 [00:00<?, ?it/s]"
      ]
     },
     "metadata": {},
     "output_type": "display_data"
    },
    {
     "data": {
      "application/vnd.jupyter.widget-view+json": {
       "model_id": "c0934f7a37724e4089ff8f6e5b00d7fa",
       "version_major": 2,
       "version_minor": 0
      },
      "text/plain": [
       "  0%|          | 0/22 [00:00<?, ?it/s]"
      ]
     },
     "metadata": {},
     "output_type": "display_data"
    },
    {
     "data": {
      "application/vnd.jupyter.widget-view+json": {
       "model_id": "fa85338aaa3b45a2bd3532cdaf853599",
       "version_major": 2,
       "version_minor": 0
      },
      "text/plain": [
       "  0%|          | 0/21 [00:00<?, ?it/s]"
      ]
     },
     "metadata": {},
     "output_type": "display_data"
    },
    {
     "data": {
      "application/vnd.jupyter.widget-view+json": {
       "model_id": "cf503ca9e8a64db9b33f409b1287bd02",
       "version_major": 2,
       "version_minor": 0
      },
      "text/plain": [
       "  0%|          | 0/20 [00:00<?, ?it/s]"
      ]
     },
     "metadata": {},
     "output_type": "display_data"
    },
    {
     "data": {
      "application/vnd.jupyter.widget-view+json": {
       "model_id": "15d8883fa2e648799af858ae4e87cd41",
       "version_major": 2,
       "version_minor": 0
      },
      "text/plain": [
       "  0%|          | 0/23 [00:00<?, ?it/s]"
      ]
     },
     "metadata": {},
     "output_type": "display_data"
    },
    {
     "data": {
      "application/vnd.jupyter.widget-view+json": {
       "model_id": "91a96d01873641eebf1edb24ccd826fd",
       "version_major": 2,
       "version_minor": 0
      },
      "text/plain": [
       "  0%|          | 0/22 [00:00<?, ?it/s]"
      ]
     },
     "metadata": {},
     "output_type": "display_data"
    },
    {
     "data": {
      "application/vnd.jupyter.widget-view+json": {
       "model_id": "f0b65571fbdd4fa6aef373d866b305e9",
       "version_major": 2,
       "version_minor": 0
      },
      "text/plain": [
       "  0%|          | 0/21 [00:00<?, ?it/s]"
      ]
     },
     "metadata": {},
     "output_type": "display_data"
    },
    {
     "data": {
      "application/vnd.jupyter.widget-view+json": {
       "model_id": "a6e64ce8473747609cd94d19168e4555",
       "version_major": 2,
       "version_minor": 0
      },
      "text/plain": [
       "  0%|          | 0/20 [00:00<?, ?it/s]"
      ]
     },
     "metadata": {},
     "output_type": "display_data"
    },
    {
     "data": {
      "application/vnd.jupyter.widget-view+json": {
       "model_id": "647394b173dd4fbebf35170da102801a",
       "version_major": 2,
       "version_minor": 0
      },
      "text/plain": [
       "  0%|          | 0/23 [00:00<?, ?it/s]"
      ]
     },
     "metadata": {},
     "output_type": "display_data"
    },
    {
     "data": {
      "application/vnd.jupyter.widget-view+json": {
       "model_id": "869eecef84c944f99c5b907dc9df89b4",
       "version_major": 2,
       "version_minor": 0
      },
      "text/plain": [
       "  0%|          | 0/22 [00:00<?, ?it/s]"
      ]
     },
     "metadata": {},
     "output_type": "display_data"
    },
    {
     "data": {
      "application/vnd.jupyter.widget-view+json": {
       "model_id": "8bcd7a8687a341e6971262f0f6ffe4b6",
       "version_major": 2,
       "version_minor": 0
      },
      "text/plain": [
       "  0%|          | 0/21 [00:00<?, ?it/s]"
      ]
     },
     "metadata": {},
     "output_type": "display_data"
    },
    {
     "data": {
      "application/vnd.jupyter.widget-view+json": {
       "model_id": "ecf9d64bc56c49f183603d39dcbf2caa",
       "version_major": 2,
       "version_minor": 0
      },
      "text/plain": [
       "  0%|          | 0/20 [00:00<?, ?it/s]"
      ]
     },
     "metadata": {},
     "output_type": "display_data"
    },
    {
     "data": {
      "application/vnd.jupyter.widget-view+json": {
       "model_id": "4cc1c009d6494957a3bb76cc2e78cf5c",
       "version_major": 2,
       "version_minor": 0
      },
      "text/plain": [
       "  0%|          | 0/23 [00:00<?, ?it/s]"
      ]
     },
     "metadata": {},
     "output_type": "display_data"
    },
    {
     "data": {
      "application/vnd.jupyter.widget-view+json": {
       "model_id": "402fa078a0b746c6a9c1bf48e4443a89",
       "version_major": 2,
       "version_minor": 0
      },
      "text/plain": [
       "  0%|          | 0/22 [00:00<?, ?it/s]"
      ]
     },
     "metadata": {},
     "output_type": "display_data"
    },
    {
     "data": {
      "application/vnd.jupyter.widget-view+json": {
       "model_id": "6feebc5142914d48868ec294418b43d8",
       "version_major": 2,
       "version_minor": 0
      },
      "text/plain": [
       "  0%|          | 0/21 [00:00<?, ?it/s]"
      ]
     },
     "metadata": {},
     "output_type": "display_data"
    },
    {
     "data": {
      "application/vnd.jupyter.widget-view+json": {
       "model_id": "6fcd2ad80e1948c79519ebb6b6822d29",
       "version_major": 2,
       "version_minor": 0
      },
      "text/plain": [
       "  0%|          | 0/20 [00:00<?, ?it/s]"
      ]
     },
     "metadata": {},
     "output_type": "display_data"
    },
    {
     "name": "stdout",
     "output_type": "stream",
     "text": [
      "Model: StatsForecastAutoTheta__{'season_length': 52}\n"
     ]
    },
    {
     "data": {
      "application/vnd.jupyter.widget-view+json": {
       "model_id": "738b3a19dea54c7ab734c2eb2cfc1dd0",
       "version_major": 2,
       "version_minor": 0
      },
      "text/plain": [
       "  0%|          | 0/23 [00:00<?, ?it/s]"
      ]
     },
     "metadata": {},
     "output_type": "display_data"
    },
    {
     "data": {
      "application/vnd.jupyter.widget-view+json": {
       "model_id": "efd0dbb5e5e34bc1870695da3afe00c9",
       "version_major": 2,
       "version_minor": 0
      },
      "text/plain": [
       "  0%|          | 0/22 [00:00<?, ?it/s]"
      ]
     },
     "metadata": {},
     "output_type": "display_data"
    },
    {
     "data": {
      "application/vnd.jupyter.widget-view+json": {
       "model_id": "6368a5a0657646a9a3f554ab1fd38281",
       "version_major": 2,
       "version_minor": 0
      },
      "text/plain": [
       "  0%|          | 0/21 [00:00<?, ?it/s]"
      ]
     },
     "metadata": {},
     "output_type": "display_data"
    },
    {
     "data": {
      "application/vnd.jupyter.widget-view+json": {
       "model_id": "99b9a12f7f334a5bb28b791900879bcb",
       "version_major": 2,
       "version_minor": 0
      },
      "text/plain": [
       "  0%|          | 0/20 [00:00<?, ?it/s]"
      ]
     },
     "metadata": {},
     "output_type": "display_data"
    },
    {
     "data": {
      "application/vnd.jupyter.widget-view+json": {
       "model_id": "2064059a48b64d6a8caeb6dd7016a4a7",
       "version_major": 2,
       "version_minor": 0
      },
      "text/plain": [
       "  0%|          | 0/23 [00:00<?, ?it/s]"
      ]
     },
     "metadata": {},
     "output_type": "display_data"
    },
    {
     "data": {
      "application/vnd.jupyter.widget-view+json": {
       "model_id": "33fcef211c714c239de5fd52add9fbcb",
       "version_major": 2,
       "version_minor": 0
      },
      "text/plain": [
       "  0%|          | 0/22 [00:00<?, ?it/s]"
      ]
     },
     "metadata": {},
     "output_type": "display_data"
    },
    {
     "data": {
      "application/vnd.jupyter.widget-view+json": {
       "model_id": "c3efea0322e94871a83025b837d69e80",
       "version_major": 2,
       "version_minor": 0
      },
      "text/plain": [
       "  0%|          | 0/21 [00:00<?, ?it/s]"
      ]
     },
     "metadata": {},
     "output_type": "display_data"
    },
    {
     "data": {
      "application/vnd.jupyter.widget-view+json": {
       "model_id": "26b0707570c946cca0a6517c3ecbee70",
       "version_major": 2,
       "version_minor": 0
      },
      "text/plain": [
       "  0%|          | 0/20 [00:00<?, ?it/s]"
      ]
     },
     "metadata": {},
     "output_type": "display_data"
    },
    {
     "data": {
      "application/vnd.jupyter.widget-view+json": {
       "model_id": "05130e7b2c414e0a8f4f60986945cde4",
       "version_major": 2,
       "version_minor": 0
      },
      "text/plain": [
       "  0%|          | 0/23 [00:00<?, ?it/s]"
      ]
     },
     "metadata": {},
     "output_type": "display_data"
    },
    {
     "data": {
      "application/vnd.jupyter.widget-view+json": {
       "model_id": "6f192b215e1049bfbcb530fc6dee56e6",
       "version_major": 2,
       "version_minor": 0
      },
      "text/plain": [
       "  0%|          | 0/22 [00:00<?, ?it/s]"
      ]
     },
     "metadata": {},
     "output_type": "display_data"
    },
    {
     "data": {
      "application/vnd.jupyter.widget-view+json": {
       "model_id": "2ee3ceba90194fae9f0b5c24043e07a4",
       "version_major": 2,
       "version_minor": 0
      },
      "text/plain": [
       "  0%|          | 0/21 [00:00<?, ?it/s]"
      ]
     },
     "metadata": {},
     "output_type": "display_data"
    },
    {
     "data": {
      "application/vnd.jupyter.widget-view+json": {
       "model_id": "82b08e02f50a4762a23f0ae92f740b80",
       "version_major": 2,
       "version_minor": 0
      },
      "text/plain": [
       "  0%|          | 0/20 [00:00<?, ?it/s]"
      ]
     },
     "metadata": {},
     "output_type": "display_data"
    },
    {
     "data": {
      "application/vnd.jupyter.widget-view+json": {
       "model_id": "a0716a6c7bbb4356a03c1519be355ffe",
       "version_major": 2,
       "version_minor": 0
      },
      "text/plain": [
       "  0%|          | 0/23 [00:00<?, ?it/s]"
      ]
     },
     "metadata": {},
     "output_type": "display_data"
    },
    {
     "data": {
      "application/vnd.jupyter.widget-view+json": {
       "model_id": "24f828fa9ea94d89b3abb5f41507f302",
       "version_major": 2,
       "version_minor": 0
      },
      "text/plain": [
       "  0%|          | 0/22 [00:00<?, ?it/s]"
      ]
     },
     "metadata": {},
     "output_type": "display_data"
    },
    {
     "data": {
      "application/vnd.jupyter.widget-view+json": {
       "model_id": "c14f7533183044569c356264542c5b9f",
       "version_major": 2,
       "version_minor": 0
      },
      "text/plain": [
       "  0%|          | 0/21 [00:00<?, ?it/s]"
      ]
     },
     "metadata": {},
     "output_type": "display_data"
    },
    {
     "data": {
      "application/vnd.jupyter.widget-view+json": {
       "model_id": "09d7400f0d9d4768b0bff2aaf97e6566",
       "version_major": 2,
       "version_minor": 0
      },
      "text/plain": [
       "  0%|          | 0/20 [00:00<?, ?it/s]"
      ]
     },
     "metadata": {},
     "output_type": "display_data"
    },
    {
     "data": {
      "application/vnd.jupyter.widget-view+json": {
       "model_id": "d2a2948157af4736acc5a91a4809f2ce",
       "version_major": 2,
       "version_minor": 0
      },
      "text/plain": [
       "  0%|          | 0/23 [00:00<?, ?it/s]"
      ]
     },
     "metadata": {},
     "output_type": "display_data"
    },
    {
     "data": {
      "application/vnd.jupyter.widget-view+json": {
       "model_id": "11259d0481804a5abaf5db8f9f451a5a",
       "version_major": 2,
       "version_minor": 0
      },
      "text/plain": [
       "  0%|          | 0/22 [00:00<?, ?it/s]"
      ]
     },
     "metadata": {},
     "output_type": "display_data"
    },
    {
     "data": {
      "application/vnd.jupyter.widget-view+json": {
       "model_id": "b85524ee9a924ec8bc73cd1b705d8d7d",
       "version_major": 2,
       "version_minor": 0
      },
      "text/plain": [
       "  0%|          | 0/21 [00:00<?, ?it/s]"
      ]
     },
     "metadata": {},
     "output_type": "display_data"
    },
    {
     "data": {
      "application/vnd.jupyter.widget-view+json": {
       "model_id": "d500f6727b3349df9afbdced3e29616b",
       "version_major": 2,
       "version_minor": 0
      },
      "text/plain": [
       "  0%|          | 0/20 [00:00<?, ?it/s]"
      ]
     },
     "metadata": {},
     "output_type": "display_data"
    },
    {
     "data": {
      "application/vnd.jupyter.widget-view+json": {
       "model_id": "81ce04d208444252836e281969b81017",
       "version_major": 2,
       "version_minor": 0
      },
      "text/plain": [
       "  0%|          | 0/23 [00:00<?, ?it/s]"
      ]
     },
     "metadata": {},
     "output_type": "display_data"
    },
    {
     "data": {
      "application/vnd.jupyter.widget-view+json": {
       "model_id": "7d106493e684455eac4a18b993bd7b57",
       "version_major": 2,
       "version_minor": 0
      },
      "text/plain": [
       "  0%|          | 0/22 [00:00<?, ?it/s]"
      ]
     },
     "metadata": {},
     "output_type": "display_data"
    },
    {
     "data": {
      "application/vnd.jupyter.widget-view+json": {
       "model_id": "c1fad77c481246e4a2a6e40cf248c351",
       "version_major": 2,
       "version_minor": 0
      },
      "text/plain": [
       "  0%|          | 0/21 [00:00<?, ?it/s]"
      ]
     },
     "metadata": {},
     "output_type": "display_data"
    },
    {
     "data": {
      "application/vnd.jupyter.widget-view+json": {
       "model_id": "0ffe3ae005c1445da912dc66428cd556",
       "version_major": 2,
       "version_minor": 0
      },
      "text/plain": [
       "  0%|          | 0/20 [00:00<?, ?it/s]"
      ]
     },
     "metadata": {},
     "output_type": "display_data"
    },
    {
     "data": {
      "application/vnd.jupyter.widget-view+json": {
       "model_id": "0fbd65da911b4572a1dbee9009ed26d3",
       "version_major": 2,
       "version_minor": 0
      },
      "text/plain": [
       "  0%|          | 0/23 [00:00<?, ?it/s]"
      ]
     },
     "metadata": {},
     "output_type": "display_data"
    },
    {
     "data": {
      "application/vnd.jupyter.widget-view+json": {
       "model_id": "425713952bda4103ba37398982bb0ce2",
       "version_major": 2,
       "version_minor": 0
      },
      "text/plain": [
       "  0%|          | 0/22 [00:00<?, ?it/s]"
      ]
     },
     "metadata": {},
     "output_type": "display_data"
    },
    {
     "data": {
      "application/vnd.jupyter.widget-view+json": {
       "model_id": "04167eba29a84ee89a908e1182a573cc",
       "version_major": 2,
       "version_minor": 0
      },
      "text/plain": [
       "  0%|          | 0/21 [00:00<?, ?it/s]"
      ]
     },
     "metadata": {},
     "output_type": "display_data"
    },
    {
     "data": {
      "application/vnd.jupyter.widget-view+json": {
       "model_id": "8b1f919662bf4db2b9deabea98d9b91e",
       "version_major": 2,
       "version_minor": 0
      },
      "text/plain": [
       "  0%|          | 0/20 [00:00<?, ?it/s]"
      ]
     },
     "metadata": {},
     "output_type": "display_data"
    },
    {
     "data": {
      "application/vnd.jupyter.widget-view+json": {
       "model_id": "fbc5feeb984e4509a92d39852d14408a",
       "version_major": 2,
       "version_minor": 0
      },
      "text/plain": [
       "  0%|          | 0/23 [00:00<?, ?it/s]"
      ]
     },
     "metadata": {},
     "output_type": "display_data"
    },
    {
     "data": {
      "application/vnd.jupyter.widget-view+json": {
       "model_id": "9e8f88a430304c4789aeca3985c5a45d",
       "version_major": 2,
       "version_minor": 0
      },
      "text/plain": [
       "  0%|          | 0/22 [00:00<?, ?it/s]"
      ]
     },
     "metadata": {},
     "output_type": "display_data"
    },
    {
     "data": {
      "application/vnd.jupyter.widget-view+json": {
       "model_id": "2012689350424aabb38627da89e0b45c",
       "version_major": 2,
       "version_minor": 0
      },
      "text/plain": [
       "  0%|          | 0/21 [00:00<?, ?it/s]"
      ]
     },
     "metadata": {},
     "output_type": "display_data"
    },
    {
     "data": {
      "application/vnd.jupyter.widget-view+json": {
       "model_id": "1988e68ef5364133aeb54b31d4a5b8a5",
       "version_major": 2,
       "version_minor": 0
      },
      "text/plain": [
       "  0%|          | 0/20 [00:00<?, ?it/s]"
      ]
     },
     "metadata": {},
     "output_type": "display_data"
    },
    {
     "data": {
      "application/vnd.jupyter.widget-view+json": {
       "model_id": "b858f09f4f894730b0691148d57f818f",
       "version_major": 2,
       "version_minor": 0
      },
      "text/plain": [
       "  0%|          | 0/23 [00:00<?, ?it/s]"
      ]
     },
     "metadata": {},
     "output_type": "display_data"
    },
    {
     "data": {
      "application/vnd.jupyter.widget-view+json": {
       "model_id": "e206e0949bec42cb8b0327a840c73349",
       "version_major": 2,
       "version_minor": 0
      },
      "text/plain": [
       "  0%|          | 0/22 [00:00<?, ?it/s]"
      ]
     },
     "metadata": {},
     "output_type": "display_data"
    },
    {
     "data": {
      "application/vnd.jupyter.widget-view+json": {
       "model_id": "2e59bb1f9a9a4b03902ee70e298f3464",
       "version_major": 2,
       "version_minor": 0
      },
      "text/plain": [
       "  0%|          | 0/21 [00:00<?, ?it/s]"
      ]
     },
     "metadata": {},
     "output_type": "display_data"
    },
    {
     "data": {
      "application/vnd.jupyter.widget-view+json": {
       "model_id": "376b70d3bd524efe889518cdfe33ffa9",
       "version_major": 2,
       "version_minor": 0
      },
      "text/plain": [
       "  0%|          | 0/20 [00:00<?, ?it/s]"
      ]
     },
     "metadata": {},
     "output_type": "display_data"
    },
    {
     "data": {
      "application/vnd.jupyter.widget-view+json": {
       "model_id": "1be6a07919324789abe3c3e646e8b989",
       "version_major": 2,
       "version_minor": 0
      },
      "text/plain": [
       "  0%|          | 0/23 [00:00<?, ?it/s]"
      ]
     },
     "metadata": {},
     "output_type": "display_data"
    },
    {
     "data": {
      "application/vnd.jupyter.widget-view+json": {
       "model_id": "10784411cec841d293346ddb6925727c",
       "version_major": 2,
       "version_minor": 0
      },
      "text/plain": [
       "  0%|          | 0/22 [00:00<?, ?it/s]"
      ]
     },
     "metadata": {},
     "output_type": "display_data"
    },
    {
     "data": {
      "application/vnd.jupyter.widget-view+json": {
       "model_id": "be9a65c00e9f4e208cd481d444a97b4a",
       "version_major": 2,
       "version_minor": 0
      },
      "text/plain": [
       "  0%|          | 0/21 [00:00<?, ?it/s]"
      ]
     },
     "metadata": {},
     "output_type": "display_data"
    },
    {
     "data": {
      "application/vnd.jupyter.widget-view+json": {
       "model_id": "d2a084bd44c341f5847c5af920853204",
       "version_major": 2,
       "version_minor": 0
      },
      "text/plain": [
       "  0%|          | 0/20 [00:00<?, ?it/s]"
      ]
     },
     "metadata": {},
     "output_type": "display_data"
    }
   ],
   "source": [
    "from sklearn.metrics import mean_absolute_percentage_error\n",
    "SATRT = 0.95 # 4-ре недели с конца\n",
    "SATRT = 0.8 # 20 недель с конца\n",
    "SW = False\n",
    "\n",
    "mapes=[]\n",
    "preds=[]\n",
    "data_m, data_p = [], []\n",
    "for n, m in models.items():\n",
    "\n",
    "    start = SATRT\n",
    "    print(f\"Model: {n}\")\n",
    "    for c in value_cols:\n",
    "        _d = ts_dset[c]\n",
    "        _p1 = m.historical_forecasts(_d, start=start, forecast_horizon=1, verbose=True,show_warnings=SW).values()\n",
    "        _p2 = m.historical_forecasts(_d, start=start, forecast_horizon=2, verbose=True,show_warnings=SW).values()\n",
    "        _p3 = m.historical_forecasts(_d, start=start, forecast_horizon=3, verbose=True,show_warnings=SW).values()\n",
    "        _p4 = m.historical_forecasts(_d, start=start, forecast_horizon=4, verbose=True,show_warnings=SW).values()\n",
    "        p_len = _p4.shape[0]\n",
    "        pred = np.concatenate([\n",
    "            _p1[:p_len],\n",
    "            _p2[:p_len],\n",
    "            _p3[:p_len],\n",
    "            _p4\n",
    "        ], axis=1).ravel()\n",
    "\n",
    "        # print(f\"{_p1=}, \\n{_p2=}, \\n{_p3=}, \\n{_p4=}\")\n",
    "        # print(f\"{_p4.shape=}, {_p1[:p_len].shape=}\")\n",
    "        # print(f\"{true=}\")\n",
    "        #print(f\"{pred=}\")\n",
    "        #preds.append(pd.Series(data=pred, name=(n, f\"pr_{c}\"), index=df_gt.iloc[-pred.shape[0]:]['ds']))\n",
    "        preds.append(pd.Series(data=pred, name=(n, c) ))\n",
    "        #print(f'{preds=}')\n",
    "\n"
   ]
  },
  {
   "cell_type": "code",
   "execution_count": 17,
   "metadata": {
    "tags": []
   },
   "outputs": [
    {
     "data": {
      "text/html": [
       "<div>\n",
       "<style scoped>\n",
       "    .dataframe tbody tr th:only-of-type {\n",
       "        vertical-align: middle;\n",
       "    }\n",
       "\n",
       "    .dataframe tbody tr th {\n",
       "        vertical-align: top;\n",
       "    }\n",
       "\n",
       "    .dataframe thead tr th {\n",
       "        text-align: left;\n",
       "    }\n",
       "</style>\n",
       "<table border=\"1\" class=\"dataframe\">\n",
       "  <thead>\n",
       "    <tr>\n",
       "      <th></th>\n",
       "      <th colspan=\"10\" halign=\"left\">NaiveSeasonal__{'K': 52}</th>\n",
       "      <th>...</th>\n",
       "      <th colspan=\"10\" halign=\"left\">StatsForecastAutoTheta__{'season_length': 52}</th>\n",
       "    </tr>\n",
       "    <tr>\n",
       "      <th></th>\n",
       "      <th>Денситометр</th>\n",
       "      <th>КТ</th>\n",
       "      <th>КТ с КУ 1 зона</th>\n",
       "      <th>КТ с КУ 2 и более зон</th>\n",
       "      <th>ММГ</th>\n",
       "      <th>МРТ</th>\n",
       "      <th>МРТ с КУ 1 зона</th>\n",
       "      <th>МРТ с КУ 2 и более зон</th>\n",
       "      <th>РГ</th>\n",
       "      <th>Флюорограф</th>\n",
       "      <th>...</th>\n",
       "      <th>Денситометр</th>\n",
       "      <th>КТ</th>\n",
       "      <th>КТ с КУ 1 зона</th>\n",
       "      <th>КТ с КУ 2 и более зон</th>\n",
       "      <th>ММГ</th>\n",
       "      <th>МРТ</th>\n",
       "      <th>МРТ с КУ 1 зона</th>\n",
       "      <th>МРТ с КУ 2 и более зон</th>\n",
       "      <th>РГ</th>\n",
       "      <th>Флюорограф</th>\n",
       "    </tr>\n",
       "  </thead>\n",
       "  <tbody>\n",
       "    <tr>\n",
       "      <th>0</th>\n",
       "      <td>1059.0</td>\n",
       "      <td>4136.0</td>\n",
       "      <td>480.0</td>\n",
       "      <td>476.0</td>\n",
       "      <td>12199.0</td>\n",
       "      <td>1820.0</td>\n",
       "      <td>718.0</td>\n",
       "      <td>8.0</td>\n",
       "      <td>46641.0</td>\n",
       "      <td>20380.0</td>\n",
       "      <td>...</td>\n",
       "      <td>1471.577026</td>\n",
       "      <td>3037.380371</td>\n",
       "      <td>489.328278</td>\n",
       "      <td>642.305969</td>\n",
       "      <td>15628.857422</td>\n",
       "      <td>1789.814697</td>\n",
       "      <td>770.197266</td>\n",
       "      <td>10.041844</td>\n",
       "      <td>58314.875000</td>\n",
       "      <td>16128.747070</td>\n",
       "    </tr>\n",
       "    <tr>\n",
       "      <th>1</th>\n",
       "      <td>896.0</td>\n",
       "      <td>4131.0</td>\n",
       "      <td>444.0</td>\n",
       "      <td>456.0</td>\n",
       "      <td>12446.0</td>\n",
       "      <td>1798.0</td>\n",
       "      <td>786.0</td>\n",
       "      <td>7.0</td>\n",
       "      <td>46749.0</td>\n",
       "      <td>19369.0</td>\n",
       "      <td>...</td>\n",
       "      <td>1471.577026</td>\n",
       "      <td>2997.670654</td>\n",
       "      <td>489.328278</td>\n",
       "      <td>643.289307</td>\n",
       "      <td>15628.857422</td>\n",
       "      <td>1789.814697</td>\n",
       "      <td>770.201965</td>\n",
       "      <td>10.041844</td>\n",
       "      <td>58314.875000</td>\n",
       "      <td>16128.747070</td>\n",
       "    </tr>\n",
       "    <tr>\n",
       "      <th>2</th>\n",
       "      <td>974.0</td>\n",
       "      <td>4499.0</td>\n",
       "      <td>413.0</td>\n",
       "      <td>506.0</td>\n",
       "      <td>12262.0</td>\n",
       "      <td>1824.0</td>\n",
       "      <td>740.0</td>\n",
       "      <td>4.0</td>\n",
       "      <td>46779.0</td>\n",
       "      <td>18481.0</td>\n",
       "      <td>...</td>\n",
       "      <td>1471.577026</td>\n",
       "      <td>2957.960938</td>\n",
       "      <td>489.328278</td>\n",
       "      <td>644.272644</td>\n",
       "      <td>15628.857422</td>\n",
       "      <td>1789.814697</td>\n",
       "      <td>770.206482</td>\n",
       "      <td>10.041844</td>\n",
       "      <td>58314.875000</td>\n",
       "      <td>16128.747070</td>\n",
       "    </tr>\n",
       "    <tr>\n",
       "      <th>3</th>\n",
       "      <td>1020.0</td>\n",
       "      <td>4671.0</td>\n",
       "      <td>478.0</td>\n",
       "      <td>477.0</td>\n",
       "      <td>12730.0</td>\n",
       "      <td>1913.0</td>\n",
       "      <td>738.0</td>\n",
       "      <td>3.0</td>\n",
       "      <td>48811.0</td>\n",
       "      <td>18390.0</td>\n",
       "      <td>...</td>\n",
       "      <td>1471.577026</td>\n",
       "      <td>2918.251221</td>\n",
       "      <td>489.328278</td>\n",
       "      <td>645.255981</td>\n",
       "      <td>15628.857422</td>\n",
       "      <td>1789.814697</td>\n",
       "      <td>770.210693</td>\n",
       "      <td>10.041844</td>\n",
       "      <td>58314.875000</td>\n",
       "      <td>16128.747070</td>\n",
       "    </tr>\n",
       "    <tr>\n",
       "      <th>4</th>\n",
       "      <td>896.0</td>\n",
       "      <td>4131.0</td>\n",
       "      <td>444.0</td>\n",
       "      <td>456.0</td>\n",
       "      <td>12446.0</td>\n",
       "      <td>1798.0</td>\n",
       "      <td>786.0</td>\n",
       "      <td>7.0</td>\n",
       "      <td>46749.0</td>\n",
       "      <td>19369.0</td>\n",
       "      <td>...</td>\n",
       "      <td>1476.190063</td>\n",
       "      <td>3061.351562</td>\n",
       "      <td>499.846466</td>\n",
       "      <td>616.766663</td>\n",
       "      <td>16106.823242</td>\n",
       "      <td>1740.809082</td>\n",
       "      <td>782.055664</td>\n",
       "      <td>11.618273</td>\n",
       "      <td>59859.746094</td>\n",
       "      <td>16721.869141</td>\n",
       "    </tr>\n",
       "    <tr>\n",
       "      <th>5</th>\n",
       "      <td>974.0</td>\n",
       "      <td>4499.0</td>\n",
       "      <td>413.0</td>\n",
       "      <td>506.0</td>\n",
       "      <td>12262.0</td>\n",
       "      <td>1824.0</td>\n",
       "      <td>740.0</td>\n",
       "      <td>4.0</td>\n",
       "      <td>46779.0</td>\n",
       "      <td>18481.0</td>\n",
       "      <td>...</td>\n",
       "      <td>1476.190063</td>\n",
       "      <td>3021.352295</td>\n",
       "      <td>499.846466</td>\n",
       "      <td>617.707214</td>\n",
       "      <td>16106.823242</td>\n",
       "      <td>1740.809082</td>\n",
       "      <td>782.056580</td>\n",
       "      <td>11.618273</td>\n",
       "      <td>59859.746094</td>\n",
       "      <td>16721.869141</td>\n",
       "    </tr>\n",
       "  </tbody>\n",
       "</table>\n",
       "<p>6 rows × 50 columns</p>\n",
       "</div>"
      ],
      "text/plain": [
       "  NaiveSeasonal__{'K': 52}                                               \\\n",
       "               Денситометр      КТ КТ с КУ 1 зона КТ с КУ 2 и более зон   \n",
       "0                   1059.0  4136.0          480.0                 476.0   \n",
       "1                    896.0  4131.0          444.0                 456.0   \n",
       "2                    974.0  4499.0          413.0                 506.0   \n",
       "3                   1020.0  4671.0          478.0                 477.0   \n",
       "4                    896.0  4131.0          444.0                 456.0   \n",
       "5                    974.0  4499.0          413.0                 506.0   \n",
       "\n",
       "                                                                               \\\n",
       "       ММГ     МРТ МРТ с КУ 1 зона МРТ с КУ 2 и более зон       РГ Флюорограф   \n",
       "0  12199.0  1820.0           718.0                    8.0  46641.0    20380.0   \n",
       "1  12446.0  1798.0           786.0                    7.0  46749.0    19369.0   \n",
       "2  12262.0  1824.0           740.0                    4.0  46779.0    18481.0   \n",
       "3  12730.0  1913.0           738.0                    3.0  48811.0    18390.0   \n",
       "4  12446.0  1798.0           786.0                    7.0  46749.0    19369.0   \n",
       "5  12262.0  1824.0           740.0                    4.0  46779.0    18481.0   \n",
       "\n",
       "   ... StatsForecastAutoTheta__{'season_length': 52}               \\\n",
       "   ...                                   Денситометр           КТ   \n",
       "0  ...                                   1471.577026  3037.380371   \n",
       "1  ...                                   1471.577026  2997.670654   \n",
       "2  ...                                   1471.577026  2957.960938   \n",
       "3  ...                                   1471.577026  2918.251221   \n",
       "4  ...                                   1476.190063  3061.351562   \n",
       "5  ...                                   1476.190063  3021.352295   \n",
       "\n",
       "                                                                   \\\n",
       "  КТ с КУ 1 зона КТ с КУ 2 и более зон           ММГ          МРТ   \n",
       "0     489.328278            642.305969  15628.857422  1789.814697   \n",
       "1     489.328278            643.289307  15628.857422  1789.814697   \n",
       "2     489.328278            644.272644  15628.857422  1789.814697   \n",
       "3     489.328278            645.255981  15628.857422  1789.814697   \n",
       "4     499.846466            616.766663  16106.823242  1740.809082   \n",
       "5     499.846466            617.707214  16106.823242  1740.809082   \n",
       "\n",
       "                                                                      \n",
       "  МРТ с КУ 1 зона МРТ с КУ 2 и более зон            РГ    Флюорограф  \n",
       "0      770.197266              10.041844  58314.875000  16128.747070  \n",
       "1      770.201965              10.041844  58314.875000  16128.747070  \n",
       "2      770.206482              10.041844  58314.875000  16128.747070  \n",
       "3      770.210693              10.041844  58314.875000  16128.747070  \n",
       "4      782.055664              11.618273  59859.746094  16721.869141  \n",
       "5      782.056580              11.618273  59859.746094  16721.869141  \n",
       "\n",
       "[6 rows x 50 columns]"
      ]
     },
     "execution_count": 17,
     "metadata": {},
     "output_type": "execute_result"
    }
   ],
   "source": [
    "df_pred = pd.concat(preds, axis=1).reset_index(drop=True)\n",
    "df_pred[:6]"
   ]
  },
  {
   "cell_type": "code",
   "execution_count": 18,
   "metadata": {
    "tags": []
   },
   "outputs": [
    {
     "data": {
      "text/html": [
       "<div>\n",
       "<style scoped>\n",
       "    .dataframe tbody tr th:only-of-type {\n",
       "        vertical-align: middle;\n",
       "    }\n",
       "\n",
       "    .dataframe tbody tr th {\n",
       "        vertical-align: top;\n",
       "    }\n",
       "\n",
       "    .dataframe thead tr th {\n",
       "        text-align: left;\n",
       "    }\n",
       "</style>\n",
       "<table border=\"1\" class=\"dataframe\">\n",
       "  <thead>\n",
       "    <tr>\n",
       "      <th></th>\n",
       "      <th>ds</th>\n",
       "      <th>pred_id</th>\n",
       "      <th colspan=\"8\" halign=\"left\">NaiveSeasonal__{'K': 52}</th>\n",
       "      <th>...</th>\n",
       "      <th colspan=\"10\" halign=\"left\">GT</th>\n",
       "    </tr>\n",
       "    <tr>\n",
       "      <th></th>\n",
       "      <th></th>\n",
       "      <th></th>\n",
       "      <th>Денситометр</th>\n",
       "      <th>КТ</th>\n",
       "      <th>КТ с КУ 1 зона</th>\n",
       "      <th>КТ с КУ 2 и более зон</th>\n",
       "      <th>ММГ</th>\n",
       "      <th>МРТ</th>\n",
       "      <th>МРТ с КУ 1 зона</th>\n",
       "      <th>МРТ с КУ 2 и более зон</th>\n",
       "      <th>...</th>\n",
       "      <th>Денситометр</th>\n",
       "      <th>КТ</th>\n",
       "      <th>КТ с КУ 1 зона</th>\n",
       "      <th>КТ с КУ 2 и более зон</th>\n",
       "      <th>ММГ</th>\n",
       "      <th>МРТ</th>\n",
       "      <th>МРТ с КУ 1 зона</th>\n",
       "      <th>МРТ с КУ 2 и более зон</th>\n",
       "      <th>РГ</th>\n",
       "      <th>Флюорограф</th>\n",
       "    </tr>\n",
       "  </thead>\n",
       "  <tbody>\n",
       "    <tr>\n",
       "      <th>0</th>\n",
       "      <td>2023-08-21</td>\n",
       "      <td>1</td>\n",
       "      <td>1059.0</td>\n",
       "      <td>4136.0</td>\n",
       "      <td>480.0</td>\n",
       "      <td>476.0</td>\n",
       "      <td>12199.0</td>\n",
       "      <td>1820.0</td>\n",
       "      <td>718.0</td>\n",
       "      <td>8.0</td>\n",
       "      <td>...</td>\n",
       "      <td>1480.0</td>\n",
       "      <td>3102</td>\n",
       "      <td>510.0</td>\n",
       "      <td>591.0</td>\n",
       "      <td>16546</td>\n",
       "      <td>1678</td>\n",
       "      <td>792.0</td>\n",
       "      <td>16.0</td>\n",
       "      <td>62771</td>\n",
       "      <td>17133.0</td>\n",
       "    </tr>\n",
       "    <tr>\n",
       "      <th>1</th>\n",
       "      <td>2023-08-28</td>\n",
       "      <td>1</td>\n",
       "      <td>896.0</td>\n",
       "      <td>4131.0</td>\n",
       "      <td>444.0</td>\n",
       "      <td>456.0</td>\n",
       "      <td>12446.0</td>\n",
       "      <td>1798.0</td>\n",
       "      <td>786.0</td>\n",
       "      <td>7.0</td>\n",
       "      <td>...</td>\n",
       "      <td>1487.0</td>\n",
       "      <td>3572</td>\n",
       "      <td>495.0</td>\n",
       "      <td>634.0</td>\n",
       "      <td>17260</td>\n",
       "      <td>1668</td>\n",
       "      <td>752.0</td>\n",
       "      <td>15.0</td>\n",
       "      <td>65026</td>\n",
       "      <td>17528.0</td>\n",
       "    </tr>\n",
       "    <tr>\n",
       "      <th>2</th>\n",
       "      <td>2023-09-04</td>\n",
       "      <td>1</td>\n",
       "      <td>974.0</td>\n",
       "      <td>4499.0</td>\n",
       "      <td>413.0</td>\n",
       "      <td>506.0</td>\n",
       "      <td>12262.0</td>\n",
       "      <td>1824.0</td>\n",
       "      <td>740.0</td>\n",
       "      <td>4.0</td>\n",
       "      <td>...</td>\n",
       "      <td>1481.0</td>\n",
       "      <td>3835</td>\n",
       "      <td>521.0</td>\n",
       "      <td>679.0</td>\n",
       "      <td>16384</td>\n",
       "      <td>1758</td>\n",
       "      <td>786.0</td>\n",
       "      <td>11.0</td>\n",
       "      <td>65924</td>\n",
       "      <td>17111.0</td>\n",
       "    </tr>\n",
       "    <tr>\n",
       "      <th>3</th>\n",
       "      <td>2023-09-11</td>\n",
       "      <td>1</td>\n",
       "      <td>1020.0</td>\n",
       "      <td>4671.0</td>\n",
       "      <td>478.0</td>\n",
       "      <td>477.0</td>\n",
       "      <td>12730.0</td>\n",
       "      <td>1913.0</td>\n",
       "      <td>738.0</td>\n",
       "      <td>3.0</td>\n",
       "      <td>...</td>\n",
       "      <td>1474.0</td>\n",
       "      <td>4038</td>\n",
       "      <td>495.0</td>\n",
       "      <td>670.0</td>\n",
       "      <td>17013</td>\n",
       "      <td>1680</td>\n",
       "      <td>790.0</td>\n",
       "      <td>8.0</td>\n",
       "      <td>70998</td>\n",
       "      <td>16406.0</td>\n",
       "    </tr>\n",
       "    <tr>\n",
       "      <th>4</th>\n",
       "      <td>2023-08-28</td>\n",
       "      <td>2</td>\n",
       "      <td>896.0</td>\n",
       "      <td>4131.0</td>\n",
       "      <td>444.0</td>\n",
       "      <td>456.0</td>\n",
       "      <td>12446.0</td>\n",
       "      <td>1798.0</td>\n",
       "      <td>786.0</td>\n",
       "      <td>7.0</td>\n",
       "      <td>...</td>\n",
       "      <td>1487.0</td>\n",
       "      <td>3572</td>\n",
       "      <td>495.0</td>\n",
       "      <td>634.0</td>\n",
       "      <td>17260</td>\n",
       "      <td>1668</td>\n",
       "      <td>752.0</td>\n",
       "      <td>15.0</td>\n",
       "      <td>65026</td>\n",
       "      <td>17528.0</td>\n",
       "    </tr>\n",
       "  </tbody>\n",
       "</table>\n",
       "<p>5 rows × 62 columns</p>\n",
       "</div>"
      ],
      "text/plain": [
       "          ds pred_id NaiveSeasonal__{'K': 52}                         \\\n",
       "                                  Денситометр      КТ КТ с КУ 1 зона   \n",
       "0 2023-08-21       1                   1059.0  4136.0          480.0   \n",
       "1 2023-08-28       1                    896.0  4131.0          444.0   \n",
       "2 2023-09-04       1                    974.0  4499.0          413.0   \n",
       "3 2023-09-11       1                   1020.0  4671.0          478.0   \n",
       "4 2023-08-28       2                    896.0  4131.0          444.0   \n",
       "\n",
       "                                                          \\\n",
       "  КТ с КУ 2 и более зон      ММГ     МРТ МРТ с КУ 1 зона   \n",
       "0                 476.0  12199.0  1820.0           718.0   \n",
       "1                 456.0  12446.0  1798.0           786.0   \n",
       "2                 506.0  12262.0  1824.0           740.0   \n",
       "3                 477.0  12730.0  1913.0           738.0   \n",
       "4                 456.0  12446.0  1798.0           786.0   \n",
       "\n",
       "                          ...          GT                       \\\n",
       "  МРТ с КУ 2 и более зон  ... Денситометр    КТ КТ с КУ 1 зона   \n",
       "0                    8.0  ...      1480.0  3102          510.0   \n",
       "1                    7.0  ...      1487.0  3572          495.0   \n",
       "2                    4.0  ...      1481.0  3835          521.0   \n",
       "3                    3.0  ...      1474.0  4038          495.0   \n",
       "4                    7.0  ...      1487.0  3572          495.0   \n",
       "\n",
       "                                                                             \\\n",
       "  КТ с КУ 2 и более зон    ММГ   МРТ МРТ с КУ 1 зона МРТ с КУ 2 и более зон   \n",
       "0                 591.0  16546  1678           792.0                   16.0   \n",
       "1                 634.0  17260  1668           752.0                   15.0   \n",
       "2                 679.0  16384  1758           786.0                   11.0   \n",
       "3                 670.0  17013  1680           790.0                    8.0   \n",
       "4                 634.0  17260  1668           752.0                   15.0   \n",
       "\n",
       "                     \n",
       "      РГ Флюорограф  \n",
       "0  62771    17133.0  \n",
       "1  65026    17528.0  \n",
       "2  65924    17111.0  \n",
       "3  70998    16406.0  \n",
       "4  65026    17528.0  \n",
       "\n",
       "[5 rows x 62 columns]"
      ]
     },
     "execution_count": 18,
     "metadata": {},
     "output_type": "execute_result"
    }
   ],
   "source": [
    "true = df_gt.iloc[-len(df_pred):].reset_index(drop=True)\n",
    "ds = true['ds'].to_frame()\n",
    "ds.columns = pd.MultiIndex.from_product([['ds']] + [['']])\n",
    "\n",
    "pred_mask = (ds - ds.shift(1)).astype(int)\n",
    "pred_mask[(pred_mask>=0)|(pred_mask.isnull())] = 0\n",
    "pred_mask[(pred_mask<0)] = 1\n",
    "pred_id = pred_mask.cumsum()\n",
    "pred_id.columns = pd.MultiIndex.from_product([['pred_id']] + [['']])\n",
    "\n",
    "true = true[true.columns[1:]]\n",
    "true.columns = pd.MultiIndex.from_product([['GT']] + [true.columns])\n",
    "\n",
    "df_res = pd.concat([ds, pred_id, df_pred, true], axis=1)\n",
    "df_res.head(5)"
   ]
  },
  {
   "cell_type": "code",
   "execution_count": 19,
   "metadata": {
    "tags": []
   },
   "outputs": [],
   "source": [
    "df_res.to_excel(RES_DS_PATH)\n",
    "# df_res.to_csv(RES_DS_PATH.with_suffix('.csv'))"
   ]
  },
  {
   "cell_type": "code",
   "execution_count": 20,
   "metadata": {
    "tags": []
   },
   "outputs": [
    {
     "data": {
      "text/plain": [
       "('ds', '')"
      ]
     },
     "execution_count": 20,
     "metadata": {},
     "output_type": "execute_result"
    }
   ],
   "source": [
    "df_res.columns[0]#.levels"
   ]
  },
  {
   "cell_type": "code",
   "execution_count": 21,
   "metadata": {
    "tags": []
   },
   "outputs": [
    {
     "name": "stderr",
     "output_type": "stream",
     "text": [
      "/tmp/ipykernel_1990050/854833868.py:11: DeprecationWarning: DataFrameGroupBy.apply operated on the grouping columns. This behavior is deprecated, and in a future version of pandas the grouping columns will be excluded from the operation. Either pass `include_groups=False` to exclude the groupings or explicitly select the grouping columns after groupby to silence this warning.\n",
      "  metrics = df_res.groupby(('pred_id','')).apply(agg_map).reset_index(drop=True)\n"
     ]
    },
    {
     "data": {
      "text/html": [
       "<div>\n",
       "<style scoped>\n",
       "    .dataframe tbody tr th:only-of-type {\n",
       "        vertical-align: middle;\n",
       "    }\n",
       "\n",
       "    .dataframe tbody tr th {\n",
       "        vertical-align: top;\n",
       "    }\n",
       "\n",
       "    .dataframe thead tr th {\n",
       "        text-align: left;\n",
       "    }\n",
       "</style>\n",
       "<table border=\"1\" class=\"dataframe\">\n",
       "  <thead>\n",
       "    <tr>\n",
       "      <th></th>\n",
       "      <th>ds</th>\n",
       "      <th colspan=\"9\" halign=\"left\">NaiveSeasonal__{'K': 52}</th>\n",
       "      <th>...</th>\n",
       "      <th colspan=\"10\" halign=\"left\">StatsForecastAutoTheta__{'season_length': 52}</th>\n",
       "    </tr>\n",
       "    <tr>\n",
       "      <th></th>\n",
       "      <th></th>\n",
       "      <th>Денситометр</th>\n",
       "      <th>КТ</th>\n",
       "      <th>КТ с КУ 1 зона</th>\n",
       "      <th>КТ с КУ 2 и более зон</th>\n",
       "      <th>ММГ</th>\n",
       "      <th>МРТ</th>\n",
       "      <th>МРТ с КУ 1 зона</th>\n",
       "      <th>МРТ с КУ 2 и более зон</th>\n",
       "      <th>РГ</th>\n",
       "      <th>...</th>\n",
       "      <th>Денситометр</th>\n",
       "      <th>КТ</th>\n",
       "      <th>КТ с КУ 1 зона</th>\n",
       "      <th>КТ с КУ 2 и более зон</th>\n",
       "      <th>ММГ</th>\n",
       "      <th>МРТ</th>\n",
       "      <th>МРТ с КУ 1 зона</th>\n",
       "      <th>МРТ с КУ 2 и более зон</th>\n",
       "      <th>РГ</th>\n",
       "      <th>Флюорограф</th>\n",
       "    </tr>\n",
       "  </thead>\n",
       "  <tbody>\n",
       "    <tr>\n",
       "      <th>0</th>\n",
       "      <td>2023-08-21</td>\n",
       "      <td>0.333061</td>\n",
       "      <td>0.204933</td>\n",
       "      <td>0.100873</td>\n",
       "      <td>0.254547</td>\n",
       "      <td>0.261242</td>\n",
       "      <td>0.084699</td>\n",
       "      <td>0.065749</td>\n",
       "      <td>0.573674</td>\n",
       "      <td>0.285237</td>\n",
       "      <td>...</td>\n",
       "      <td>0.006017</td>\n",
       "      <td>0.171904</td>\n",
       "      <td>0.031060</td>\n",
       "      <td>0.047385</td>\n",
       "      <td>0.069346</td>\n",
       "      <td>0.055782</td>\n",
       "      <td>0.024219</td>\n",
       "      <td>0.261316</td>\n",
       "      <td>0.117065</td>\n",
       "      <td>0.053187</td>\n",
       "    </tr>\n",
       "    <tr>\n",
       "      <th>1</th>\n",
       "      <td>2023-08-28</td>\n",
       "      <td>0.275116</td>\n",
       "      <td>0.126175</td>\n",
       "      <td>0.095266</td>\n",
       "      <td>0.279949</td>\n",
       "      <td>0.197236</td>\n",
       "      <td>0.096964</td>\n",
       "      <td>0.069949</td>\n",
       "      <td>0.625145</td>\n",
       "      <td>0.251292</td>\n",
       "      <td>...</td>\n",
       "      <td>0.071695</td>\n",
       "      <td>0.242052</td>\n",
       "      <td>0.025656</td>\n",
       "      <td>0.080051</td>\n",
       "      <td>0.087190</td>\n",
       "      <td>0.026465</td>\n",
       "      <td>0.020340</td>\n",
       "      <td>0.262628</td>\n",
       "      <td>0.091743</td>\n",
       "      <td>0.101973</td>\n",
       "    </tr>\n",
       "    <tr>\n",
       "      <th>2</th>\n",
       "      <td>2023-09-04</td>\n",
       "      <td>0.269600</td>\n",
       "      <td>0.094666</td>\n",
       "      <td>0.103460</td>\n",
       "      <td>0.278980</td>\n",
       "      <td>0.209205</td>\n",
       "      <td>0.088836</td>\n",
       "      <td>0.085248</td>\n",
       "      <td>0.541811</td>\n",
       "      <td>0.260254</td>\n",
       "      <td>...</td>\n",
       "      <td>0.094635</td>\n",
       "      <td>0.173359</td>\n",
       "      <td>0.054947</td>\n",
       "      <td>0.102473</td>\n",
       "      <td>0.093339</td>\n",
       "      <td>0.022217</td>\n",
       "      <td>0.019701</td>\n",
       "      <td>0.318281</td>\n",
       "      <td>0.112835</td>\n",
       "      <td>0.108597</td>\n",
       "    </tr>\n",
       "    <tr>\n",
       "      <th>3</th>\n",
       "      <td>2023-09-11</td>\n",
       "      <td>0.244786</td>\n",
       "      <td>0.055882</td>\n",
       "      <td>0.091745</td>\n",
       "      <td>0.296891</td>\n",
       "      <td>0.213853</td>\n",
       "      <td>0.090636</td>\n",
       "      <td>0.108863</td>\n",
       "      <td>0.521609</td>\n",
       "      <td>0.251670</td>\n",
       "      <td>...</td>\n",
       "      <td>0.116383</td>\n",
       "      <td>0.151157</td>\n",
       "      <td>0.090723</td>\n",
       "      <td>0.105993</td>\n",
       "      <td>0.116577</td>\n",
       "      <td>0.067847</td>\n",
       "      <td>0.041717</td>\n",
       "      <td>0.345949</td>\n",
       "      <td>0.133024</td>\n",
       "      <td>0.112250</td>\n",
       "    </tr>\n",
       "    <tr>\n",
       "      <th>4</th>\n",
       "      <td>2023-09-18</td>\n",
       "      <td>0.264619</td>\n",
       "      <td>0.038251</td>\n",
       "      <td>0.150206</td>\n",
       "      <td>0.321669</td>\n",
       "      <td>0.213366</td>\n",
       "      <td>0.070191</td>\n",
       "      <td>0.129921</td>\n",
       "      <td>0.498693</td>\n",
       "      <td>0.233569</td>\n",
       "      <td>...</td>\n",
       "      <td>0.150996</td>\n",
       "      <td>0.145497</td>\n",
       "      <td>0.163452</td>\n",
       "      <td>0.151043</td>\n",
       "      <td>0.134931</td>\n",
       "      <td>0.120774</td>\n",
       "      <td>0.068513</td>\n",
       "      <td>0.239847</td>\n",
       "      <td>0.134049</td>\n",
       "      <td>0.101552</td>\n",
       "    </tr>\n",
       "    <tr>\n",
       "      <th>5</th>\n",
       "      <td>2023-09-25</td>\n",
       "      <td>0.345944</td>\n",
       "      <td>0.045802</td>\n",
       "      <td>0.198828</td>\n",
       "      <td>0.306314</td>\n",
       "      <td>0.279212</td>\n",
       "      <td>0.049270</td>\n",
       "      <td>0.132733</td>\n",
       "      <td>0.462847</td>\n",
       "      <td>0.277737</td>\n",
       "      <td>...</td>\n",
       "      <td>0.230997</td>\n",
       "      <td>0.061096</td>\n",
       "      <td>0.200709</td>\n",
       "      <td>0.144677</td>\n",
       "      <td>0.199129</td>\n",
       "      <td>0.188446</td>\n",
       "      <td>0.101935</td>\n",
       "      <td>0.254645</td>\n",
       "      <td>0.183711</td>\n",
       "      <td>0.134808</td>\n",
       "    </tr>\n",
       "    <tr>\n",
       "      <th>6</th>\n",
       "      <td>2023-10-02</td>\n",
       "      <td>0.338121</td>\n",
       "      <td>0.059805</td>\n",
       "      <td>0.196224</td>\n",
       "      <td>0.313228</td>\n",
       "      <td>0.263660</td>\n",
       "      <td>0.061147</td>\n",
       "      <td>0.137154</td>\n",
       "      <td>0.559906</td>\n",
       "      <td>0.278329</td>\n",
       "      <td>...</td>\n",
       "      <td>0.151497</td>\n",
       "      <td>0.094964</td>\n",
       "      <td>0.187795</td>\n",
       "      <td>0.149913</td>\n",
       "      <td>0.136595</td>\n",
       "      <td>0.235540</td>\n",
       "      <td>0.145320</td>\n",
       "      <td>0.271645</td>\n",
       "      <td>0.141964</td>\n",
       "      <td>0.053227</td>\n",
       "    </tr>\n",
       "    <tr>\n",
       "      <th>7</th>\n",
       "      <td>2023-10-09</td>\n",
       "      <td>0.398070</td>\n",
       "      <td>0.091369</td>\n",
       "      <td>0.226086</td>\n",
       "      <td>0.342150</td>\n",
       "      <td>0.291288</td>\n",
       "      <td>0.085274</td>\n",
       "      <td>0.141377</td>\n",
       "      <td>0.561642</td>\n",
       "      <td>0.308613</td>\n",
       "      <td>...</td>\n",
       "      <td>0.131609</td>\n",
       "      <td>0.074059</td>\n",
       "      <td>0.124546</td>\n",
       "      <td>0.106741</td>\n",
       "      <td>0.102479</td>\n",
       "      <td>0.163478</td>\n",
       "      <td>0.091883</td>\n",
       "      <td>0.291683</td>\n",
       "      <td>0.109131</td>\n",
       "      <td>0.039449</td>\n",
       "    </tr>\n",
       "    <tr>\n",
       "      <th>8</th>\n",
       "      <td>2023-10-16</td>\n",
       "      <td>0.401951</td>\n",
       "      <td>0.083046</td>\n",
       "      <td>0.190613</td>\n",
       "      <td>0.305670</td>\n",
       "      <td>0.263541</td>\n",
       "      <td>0.089250</td>\n",
       "      <td>0.108845</td>\n",
       "      <td>0.583071</td>\n",
       "      <td>0.300278</td>\n",
       "      <td>...</td>\n",
       "      <td>0.109644</td>\n",
       "      <td>0.024596</td>\n",
       "      <td>0.052138</td>\n",
       "      <td>0.064311</td>\n",
       "      <td>0.061466</td>\n",
       "      <td>0.107028</td>\n",
       "      <td>0.054480</td>\n",
       "      <td>0.304702</td>\n",
       "      <td>0.066821</td>\n",
       "      <td>0.084918</td>\n",
       "    </tr>\n",
       "    <tr>\n",
       "      <th>9</th>\n",
       "      <td>2023-10-23</td>\n",
       "      <td>0.386154</td>\n",
       "      <td>0.080462</td>\n",
       "      <td>0.146328</td>\n",
       "      <td>0.298316</td>\n",
       "      <td>0.265430</td>\n",
       "      <td>0.086577</td>\n",
       "      <td>0.091208</td>\n",
       "      <td>0.542446</td>\n",
       "      <td>0.301056</td>\n",
       "      <td>...</td>\n",
       "      <td>0.083596</td>\n",
       "      <td>0.008655</td>\n",
       "      <td>0.068257</td>\n",
       "      <td>0.066568</td>\n",
       "      <td>0.065836</td>\n",
       "      <td>0.039026</td>\n",
       "      <td>0.067039</td>\n",
       "      <td>0.244370</td>\n",
       "      <td>0.051711</td>\n",
       "      <td>0.060461</td>\n",
       "    </tr>\n",
       "    <tr>\n",
       "      <th>10</th>\n",
       "      <td>2023-10-30</td>\n",
       "      <td>0.359946</td>\n",
       "      <td>0.077163</td>\n",
       "      <td>0.126770</td>\n",
       "      <td>0.315306</td>\n",
       "      <td>0.271613</td>\n",
       "      <td>0.079189</td>\n",
       "      <td>0.071222</td>\n",
       "      <td>0.484673</td>\n",
       "      <td>0.294687</td>\n",
       "      <td>...</td>\n",
       "      <td>0.077335</td>\n",
       "      <td>0.026166</td>\n",
       "      <td>0.075021</td>\n",
       "      <td>0.079391</td>\n",
       "      <td>0.058800</td>\n",
       "      <td>0.022969</td>\n",
       "      <td>0.039034</td>\n",
       "      <td>0.145551</td>\n",
       "      <td>0.054492</td>\n",
       "      <td>0.062003</td>\n",
       "    </tr>\n",
       "    <tr>\n",
       "      <th>11</th>\n",
       "      <td>2023-11-06</td>\n",
       "      <td>0.299838</td>\n",
       "      <td>0.089108</td>\n",
       "      <td>0.072184</td>\n",
       "      <td>0.244481</td>\n",
       "      <td>0.247932</td>\n",
       "      <td>0.046966</td>\n",
       "      <td>0.050970</td>\n",
       "      <td>0.555586</td>\n",
       "      <td>0.279966</td>\n",
       "      <td>...</td>\n",
       "      <td>0.080734</td>\n",
       "      <td>0.031949</td>\n",
       "      <td>0.092533</td>\n",
       "      <td>0.141579</td>\n",
       "      <td>0.054249</td>\n",
       "      <td>0.017668</td>\n",
       "      <td>0.050593</td>\n",
       "      <td>0.121975</td>\n",
       "      <td>0.073510</td>\n",
       "      <td>0.107689</td>\n",
       "    </tr>\n",
       "    <tr>\n",
       "      <th>12</th>\n",
       "      <td>2023-11-13</td>\n",
       "      <td>0.248675</td>\n",
       "      <td>0.120420</td>\n",
       "      <td>0.058087</td>\n",
       "      <td>0.232442</td>\n",
       "      <td>0.277919</td>\n",
       "      <td>0.054111</td>\n",
       "      <td>0.063940</td>\n",
       "      <td>0.588324</td>\n",
       "      <td>0.309446</td>\n",
       "      <td>...</td>\n",
       "      <td>0.029904</td>\n",
       "      <td>0.056899</td>\n",
       "      <td>0.030559</td>\n",
       "      <td>0.091530</td>\n",
       "      <td>0.063084</td>\n",
       "      <td>0.022635</td>\n",
       "      <td>0.035631</td>\n",
       "      <td>0.119684</td>\n",
       "      <td>0.109331</td>\n",
       "      <td>0.094285</td>\n",
       "    </tr>\n",
       "    <tr>\n",
       "      <th>13</th>\n",
       "      <td>2023-11-20</td>\n",
       "      <td>0.232775</td>\n",
       "      <td>0.113922</td>\n",
       "      <td>0.051070</td>\n",
       "      <td>0.229795</td>\n",
       "      <td>0.278058</td>\n",
       "      <td>0.045118</td>\n",
       "      <td>0.095176</td>\n",
       "      <td>0.726961</td>\n",
       "      <td>0.310728</td>\n",
       "      <td>...</td>\n",
       "      <td>0.028464</td>\n",
       "      <td>0.064543</td>\n",
       "      <td>0.058392</td>\n",
       "      <td>0.060611</td>\n",
       "      <td>0.053439</td>\n",
       "      <td>0.047776</td>\n",
       "      <td>0.035232</td>\n",
       "      <td>0.159492</td>\n",
       "      <td>0.072512</td>\n",
       "      <td>0.190701</td>\n",
       "    </tr>\n",
       "    <tr>\n",
       "      <th>14</th>\n",
       "      <td>2023-11-27</td>\n",
       "      <td>0.205115</td>\n",
       "      <td>0.120499</td>\n",
       "      <td>0.123848</td>\n",
       "      <td>0.140494</td>\n",
       "      <td>0.267511</td>\n",
       "      <td>0.088017</td>\n",
       "      <td>0.087615</td>\n",
       "      <td>0.804341</td>\n",
       "      <td>0.324653</td>\n",
       "      <td>...</td>\n",
       "      <td>0.070585</td>\n",
       "      <td>0.045098</td>\n",
       "      <td>0.134696</td>\n",
       "      <td>0.188559</td>\n",
       "      <td>0.117580</td>\n",
       "      <td>0.124672</td>\n",
       "      <td>0.047369</td>\n",
       "      <td>0.167965</td>\n",
       "      <td>0.068751</td>\n",
       "      <td>0.432052</td>\n",
       "    </tr>\n",
       "    <tr>\n",
       "      <th>15</th>\n",
       "      <td>2023-12-04</td>\n",
       "      <td>0.146051</td>\n",
       "      <td>0.184925</td>\n",
       "      <td>0.176691</td>\n",
       "      <td>0.139656</td>\n",
       "      <td>0.278798</td>\n",
       "      <td>0.101129</td>\n",
       "      <td>0.081483</td>\n",
       "      <td>0.820076</td>\n",
       "      <td>0.330400</td>\n",
       "      <td>...</td>\n",
       "      <td>0.158178</td>\n",
       "      <td>0.123801</td>\n",
       "      <td>0.190861</td>\n",
       "      <td>0.285554</td>\n",
       "      <td>0.201341</td>\n",
       "      <td>0.298700</td>\n",
       "      <td>0.108312</td>\n",
       "      <td>0.231615</td>\n",
       "      <td>0.054278</td>\n",
       "      <td>0.681786</td>\n",
       "    </tr>\n",
       "    <tr>\n",
       "      <th>16</th>\n",
       "      <td>2023-12-11</td>\n",
       "      <td>0.105608</td>\n",
       "      <td>0.275362</td>\n",
       "      <td>0.296105</td>\n",
       "      <td>0.223496</td>\n",
       "      <td>0.247693</td>\n",
       "      <td>0.167157</td>\n",
       "      <td>0.157965</td>\n",
       "      <td>0.757576</td>\n",
       "      <td>0.302937</td>\n",
       "      <td>...</td>\n",
       "      <td>0.233742</td>\n",
       "      <td>0.167495</td>\n",
       "      <td>0.315128</td>\n",
       "      <td>0.569274</td>\n",
       "      <td>0.258290</td>\n",
       "      <td>0.459338</td>\n",
       "      <td>0.243672</td>\n",
       "      <td>0.275820</td>\n",
       "      <td>0.052383</td>\n",
       "      <td>0.947269</td>\n",
       "    </tr>\n",
       "    <tr>\n",
       "      <th>17</th>\n",
       "      <td>2023-12-18</td>\n",
       "      <td>0.051921</td>\n",
       "      <td>0.407305</td>\n",
       "      <td>0.426577</td>\n",
       "      <td>0.306917</td>\n",
       "      <td>0.211732</td>\n",
       "      <td>0.257698</td>\n",
       "      <td>0.208430</td>\n",
       "      <td>0.643939</td>\n",
       "      <td>0.280117</td>\n",
       "      <td>...</td>\n",
       "      <td>0.309733</td>\n",
       "      <td>0.346358</td>\n",
       "      <td>0.483379</td>\n",
       "      <td>0.827677</td>\n",
       "      <td>0.288819</td>\n",
       "      <td>0.497182</td>\n",
       "      <td>0.422935</td>\n",
       "      <td>0.343194</td>\n",
       "      <td>0.071205</td>\n",
       "      <td>1.023202</td>\n",
       "    </tr>\n",
       "    <tr>\n",
       "      <th>18</th>\n",
       "      <td>2023-12-25</td>\n",
       "      <td>0.067398</td>\n",
       "      <td>0.450129</td>\n",
       "      <td>0.403733</td>\n",
       "      <td>0.333981</td>\n",
       "      <td>0.208874</td>\n",
       "      <td>0.257511</td>\n",
       "      <td>0.228440</td>\n",
       "      <td>0.639037</td>\n",
       "      <td>0.279630</td>\n",
       "      <td>...</td>\n",
       "      <td>0.231519</td>\n",
       "      <td>0.165663</td>\n",
       "      <td>0.211597</td>\n",
       "      <td>0.513401</td>\n",
       "      <td>0.180032</td>\n",
       "      <td>0.287012</td>\n",
       "      <td>0.364253</td>\n",
       "      <td>0.347686</td>\n",
       "      <td>0.101484</td>\n",
       "      <td>0.733331</td>\n",
       "    </tr>\n",
       "    <tr>\n",
       "      <th>19</th>\n",
       "      <td>2024-01-01</td>\n",
       "      <td>0.131266</td>\n",
       "      <td>0.363780</td>\n",
       "      <td>0.397888</td>\n",
       "      <td>0.311017</td>\n",
       "      <td>0.179652</td>\n",
       "      <td>0.265404</td>\n",
       "      <td>0.262356</td>\n",
       "      <td>0.573529</td>\n",
       "      <td>0.277006</td>\n",
       "      <td>...</td>\n",
       "      <td>0.140487</td>\n",
       "      <td>0.123780</td>\n",
       "      <td>0.130641</td>\n",
       "      <td>0.249736</td>\n",
       "      <td>0.135140</td>\n",
       "      <td>0.179922</td>\n",
       "      <td>0.194498</td>\n",
       "      <td>0.191086</td>\n",
       "      <td>0.099845</td>\n",
       "      <td>0.233662</td>\n",
       "    </tr>\n",
       "  </tbody>\n",
       "</table>\n",
       "<p>20 rows × 51 columns</p>\n",
       "</div>"
      ],
      "text/plain": [
       "           ds NaiveSeasonal__{'K': 52}                           \\\n",
       "                           Денситометр        КТ КТ с КУ 1 зона   \n",
       "0  2023-08-21                 0.333061  0.204933       0.100873   \n",
       "1  2023-08-28                 0.275116  0.126175       0.095266   \n",
       "2  2023-09-04                 0.269600  0.094666       0.103460   \n",
       "3  2023-09-11                 0.244786  0.055882       0.091745   \n",
       "4  2023-09-18                 0.264619  0.038251       0.150206   \n",
       "5  2023-09-25                 0.345944  0.045802       0.198828   \n",
       "6  2023-10-02                 0.338121  0.059805       0.196224   \n",
       "7  2023-10-09                 0.398070  0.091369       0.226086   \n",
       "8  2023-10-16                 0.401951  0.083046       0.190613   \n",
       "9  2023-10-23                 0.386154  0.080462       0.146328   \n",
       "10 2023-10-30                 0.359946  0.077163       0.126770   \n",
       "11 2023-11-06                 0.299838  0.089108       0.072184   \n",
       "12 2023-11-13                 0.248675  0.120420       0.058087   \n",
       "13 2023-11-20                 0.232775  0.113922       0.051070   \n",
       "14 2023-11-27                 0.205115  0.120499       0.123848   \n",
       "15 2023-12-04                 0.146051  0.184925       0.176691   \n",
       "16 2023-12-11                 0.105608  0.275362       0.296105   \n",
       "17 2023-12-18                 0.051921  0.407305       0.426577   \n",
       "18 2023-12-25                 0.067398  0.450129       0.403733   \n",
       "19 2024-01-01                 0.131266  0.363780       0.397888   \n",
       "\n",
       "                                                              \\\n",
       "   КТ с КУ 2 и более зон       ММГ       МРТ МРТ с КУ 1 зона   \n",
       "0               0.254547  0.261242  0.084699        0.065749   \n",
       "1               0.279949  0.197236  0.096964        0.069949   \n",
       "2               0.278980  0.209205  0.088836        0.085248   \n",
       "3               0.296891  0.213853  0.090636        0.108863   \n",
       "4               0.321669  0.213366  0.070191        0.129921   \n",
       "5               0.306314  0.279212  0.049270        0.132733   \n",
       "6               0.313228  0.263660  0.061147        0.137154   \n",
       "7               0.342150  0.291288  0.085274        0.141377   \n",
       "8               0.305670  0.263541  0.089250        0.108845   \n",
       "9               0.298316  0.265430  0.086577        0.091208   \n",
       "10              0.315306  0.271613  0.079189        0.071222   \n",
       "11              0.244481  0.247932  0.046966        0.050970   \n",
       "12              0.232442  0.277919  0.054111        0.063940   \n",
       "13              0.229795  0.278058  0.045118        0.095176   \n",
       "14              0.140494  0.267511  0.088017        0.087615   \n",
       "15              0.139656  0.278798  0.101129        0.081483   \n",
       "16              0.223496  0.247693  0.167157        0.157965   \n",
       "17              0.306917  0.211732  0.257698        0.208430   \n",
       "18              0.333981  0.208874  0.257511        0.228440   \n",
       "19              0.311017  0.179652  0.265404        0.262356   \n",
       "\n",
       "                                     ...  \\\n",
       "   МРТ с КУ 2 и более зон        РГ  ...   \n",
       "0                0.573674  0.285237  ...   \n",
       "1                0.625145  0.251292  ...   \n",
       "2                0.541811  0.260254  ...   \n",
       "3                0.521609  0.251670  ...   \n",
       "4                0.498693  0.233569  ...   \n",
       "5                0.462847  0.277737  ...   \n",
       "6                0.559906  0.278329  ...   \n",
       "7                0.561642  0.308613  ...   \n",
       "8                0.583071  0.300278  ...   \n",
       "9                0.542446  0.301056  ...   \n",
       "10               0.484673  0.294687  ...   \n",
       "11               0.555586  0.279966  ...   \n",
       "12               0.588324  0.309446  ...   \n",
       "13               0.726961  0.310728  ...   \n",
       "14               0.804341  0.324653  ...   \n",
       "15               0.820076  0.330400  ...   \n",
       "16               0.757576  0.302937  ...   \n",
       "17               0.643939  0.280117  ...   \n",
       "18               0.639037  0.279630  ...   \n",
       "19               0.573529  0.277006  ...   \n",
       "\n",
       "   StatsForecastAutoTheta__{'season_length': 52}                           \\\n",
       "                                     Денситометр        КТ КТ с КУ 1 зона   \n",
       "0                                       0.006017  0.171904       0.031060   \n",
       "1                                       0.071695  0.242052       0.025656   \n",
       "2                                       0.094635  0.173359       0.054947   \n",
       "3                                       0.116383  0.151157       0.090723   \n",
       "4                                       0.150996  0.145497       0.163452   \n",
       "5                                       0.230997  0.061096       0.200709   \n",
       "6                                       0.151497  0.094964       0.187795   \n",
       "7                                       0.131609  0.074059       0.124546   \n",
       "8                                       0.109644  0.024596       0.052138   \n",
       "9                                       0.083596  0.008655       0.068257   \n",
       "10                                      0.077335  0.026166       0.075021   \n",
       "11                                      0.080734  0.031949       0.092533   \n",
       "12                                      0.029904  0.056899       0.030559   \n",
       "13                                      0.028464  0.064543       0.058392   \n",
       "14                                      0.070585  0.045098       0.134696   \n",
       "15                                      0.158178  0.123801       0.190861   \n",
       "16                                      0.233742  0.167495       0.315128   \n",
       "17                                      0.309733  0.346358       0.483379   \n",
       "18                                      0.231519  0.165663       0.211597   \n",
       "19                                      0.140487  0.123780       0.130641   \n",
       "\n",
       "                                                              \\\n",
       "   КТ с КУ 2 и более зон       ММГ       МРТ МРТ с КУ 1 зона   \n",
       "0               0.047385  0.069346  0.055782        0.024219   \n",
       "1               0.080051  0.087190  0.026465        0.020340   \n",
       "2               0.102473  0.093339  0.022217        0.019701   \n",
       "3               0.105993  0.116577  0.067847        0.041717   \n",
       "4               0.151043  0.134931  0.120774        0.068513   \n",
       "5               0.144677  0.199129  0.188446        0.101935   \n",
       "6               0.149913  0.136595  0.235540        0.145320   \n",
       "7               0.106741  0.102479  0.163478        0.091883   \n",
       "8               0.064311  0.061466  0.107028        0.054480   \n",
       "9               0.066568  0.065836  0.039026        0.067039   \n",
       "10              0.079391  0.058800  0.022969        0.039034   \n",
       "11              0.141579  0.054249  0.017668        0.050593   \n",
       "12              0.091530  0.063084  0.022635        0.035631   \n",
       "13              0.060611  0.053439  0.047776        0.035232   \n",
       "14              0.188559  0.117580  0.124672        0.047369   \n",
       "15              0.285554  0.201341  0.298700        0.108312   \n",
       "16              0.569274  0.258290  0.459338        0.243672   \n",
       "17              0.827677  0.288819  0.497182        0.422935   \n",
       "18              0.513401  0.180032  0.287012        0.364253   \n",
       "19              0.249736  0.135140  0.179922        0.194498   \n",
       "\n",
       "                                                \n",
       "   МРТ с КУ 2 и более зон        РГ Флюорограф  \n",
       "0                0.261316  0.117065   0.053187  \n",
       "1                0.262628  0.091743   0.101973  \n",
       "2                0.318281  0.112835   0.108597  \n",
       "3                0.345949  0.133024   0.112250  \n",
       "4                0.239847  0.134049   0.101552  \n",
       "5                0.254645  0.183711   0.134808  \n",
       "6                0.271645  0.141964   0.053227  \n",
       "7                0.291683  0.109131   0.039449  \n",
       "8                0.304702  0.066821   0.084918  \n",
       "9                0.244370  0.051711   0.060461  \n",
       "10               0.145551  0.054492   0.062003  \n",
       "11               0.121975  0.073510   0.107689  \n",
       "12               0.119684  0.109331   0.094285  \n",
       "13               0.159492  0.072512   0.190701  \n",
       "14               0.167965  0.068751   0.432052  \n",
       "15               0.231615  0.054278   0.681786  \n",
       "16               0.275820  0.052383   0.947269  \n",
       "17               0.343194  0.071205   1.023202  \n",
       "18               0.347686  0.101484   0.733331  \n",
       "19               0.191086  0.099845   0.233662  \n",
       "\n",
       "[20 rows x 51 columns]"
      ]
     },
     "execution_count": 21,
     "metadata": {},
     "output_type": "execute_result"
    }
   ],
   "source": [
    "def agg_map(df):\n",
    "\n",
    "    ds = df[('ds','')].head(1).reset_index(drop=True)\n",
    "    cols = [c for c  in df.columns if c[0] not in (\"GT\", \"ds\", \"pred_id\")]\n",
    "    data = [mean_absolute_percentage_error(df[(\"GT\",c[1])], df[c]) for c  in cols]\n",
    "    #print(f\"{data=}\")\n",
    "    v = pd.Series(data, index=pd.MultiIndex.from_tuples(cols)).to_frame().T\n",
    "    #print(f\"{v=}\")\n",
    "    return pd.concat([ds, v], axis=1)\n",
    "\n",
    "metrics = df_res.groupby(('pred_id','')).apply(agg_map).reset_index(drop=True)\n",
    "metrics"
   ]
  },
  {
   "cell_type": "code",
   "execution_count": 22,
   "metadata": {
    "tags": []
   },
   "outputs": [
    {
     "data": {
      "text/html": [
       "<div>\n",
       "<style scoped>\n",
       "    .dataframe tbody tr th:only-of-type {\n",
       "        vertical-align: middle;\n",
       "    }\n",
       "\n",
       "    .dataframe tbody tr th {\n",
       "        vertical-align: top;\n",
       "    }\n",
       "\n",
       "    .dataframe thead th {\n",
       "        text-align: right;\n",
       "    }\n",
       "</style>\n",
       "<table border=\"1\" class=\"dataframe\">\n",
       "  <thead>\n",
       "    <tr style=\"text-align: right;\">\n",
       "      <th></th>\n",
       "      <th></th>\n",
       "      <th>count</th>\n",
       "      <th>mean</th>\n",
       "      <th>std</th>\n",
       "      <th>min</th>\n",
       "      <th>25%</th>\n",
       "      <th>50%</th>\n",
       "      <th>75%</th>\n",
       "      <th>max</th>\n",
       "    </tr>\n",
       "  </thead>\n",
       "  <tbody>\n",
       "    <tr>\n",
       "      <th rowspan=\"10\" valign=\"top\">NaiveSeasonal__{'K': 52}</th>\n",
       "      <th>Денситометр</th>\n",
       "      <td>20.0</td>\n",
       "      <td>0.255301</td>\n",
       "      <td>0.108417</td>\n",
       "      <td>0.051921</td>\n",
       "      <td>0.190349</td>\n",
       "      <td>0.267110</td>\n",
       "      <td>0.340077</td>\n",
       "      <td>0.401951</td>\n",
       "    </tr>\n",
       "    <tr>\n",
       "      <th>КТ</th>\n",
       "      <td>20.0</td>\n",
       "      <td>0.154150</td>\n",
       "      <td>0.123625</td>\n",
       "      <td>0.038251</td>\n",
       "      <td>0.079637</td>\n",
       "      <td>0.104294</td>\n",
       "      <td>0.189927</td>\n",
       "      <td>0.450129</td>\n",
       "    </tr>\n",
       "    <tr>\n",
       "      <th>КТ с КУ 1 зона</th>\n",
       "      <td>20.0</td>\n",
       "      <td>0.181629</td>\n",
       "      <td>0.115355</td>\n",
       "      <td>0.051070</td>\n",
       "      <td>0.099471</td>\n",
       "      <td>0.148267</td>\n",
       "      <td>0.205642</td>\n",
       "      <td>0.426577</td>\n",
       "    </tr>\n",
       "    <tr>\n",
       "      <th>КТ с КУ 2 и более зон</th>\n",
       "      <td>20.0</td>\n",
       "      <td>0.273765</td>\n",
       "      <td>0.057486</td>\n",
       "      <td>0.139656</td>\n",
       "      <td>0.241471</td>\n",
       "      <td>0.297604</td>\n",
       "      <td>0.311570</td>\n",
       "      <td>0.342150</td>\n",
       "    </tr>\n",
       "    <tr>\n",
       "      <th>ММГ</th>\n",
       "      <td>20.0</td>\n",
       "      <td>0.246391</td>\n",
       "      <td>0.033571</td>\n",
       "      <td>0.179652</td>\n",
       "      <td>0.212957</td>\n",
       "      <td>0.262392</td>\n",
       "      <td>0.273190</td>\n",
       "      <td>0.291288</td>\n",
       "    </tr>\n",
       "    <tr>\n",
       "      <th>МРТ</th>\n",
       "      <td>20.0</td>\n",
       "      <td>0.108257</td>\n",
       "      <td>0.070573</td>\n",
       "      <td>0.045118</td>\n",
       "      <td>0.067930</td>\n",
       "      <td>0.087297</td>\n",
       "      <td>0.098005</td>\n",
       "      <td>0.265404</td>\n",
       "    </tr>\n",
       "    <tr>\n",
       "      <th>МРТ с КУ 1 зона</th>\n",
       "      <td>20.0</td>\n",
       "      <td>0.118932</td>\n",
       "      <td>0.057785</td>\n",
       "      <td>0.050970</td>\n",
       "      <td>0.078918</td>\n",
       "      <td>0.102011</td>\n",
       "      <td>0.138210</td>\n",
       "      <td>0.262356</td>\n",
       "    </tr>\n",
       "    <tr>\n",
       "      <th>МРТ с КУ 2 и более зон</th>\n",
       "      <td>20.0</td>\n",
       "      <td>0.603244</td>\n",
       "      <td>0.101851</td>\n",
       "      <td>0.462847</td>\n",
       "      <td>0.542287</td>\n",
       "      <td>0.573602</td>\n",
       "      <td>0.640263</td>\n",
       "      <td>0.820076</td>\n",
       "    </tr>\n",
       "    <tr>\n",
       "      <th>РГ</th>\n",
       "      <td>20.0</td>\n",
       "      <td>0.286880</td>\n",
       "      <td>0.025163</td>\n",
       "      <td>0.233569</td>\n",
       "      <td>0.277554</td>\n",
       "      <td>0.282677</td>\n",
       "      <td>0.304356</td>\n",
       "      <td>0.330400</td>\n",
       "    </tr>\n",
       "    <tr>\n",
       "      <th>Флюорограф</th>\n",
       "      <td>20.0</td>\n",
       "      <td>0.694198</td>\n",
       "      <td>0.653712</td>\n",
       "      <td>0.123887</td>\n",
       "      <td>0.264186</td>\n",
       "      <td>0.449559</td>\n",
       "      <td>0.716808</td>\n",
       "      <td>2.276394</td>\n",
       "    </tr>\n",
       "    <tr>\n",
       "      <th rowspan=\"10\" valign=\"top\">StatsForecastAutoTheta__{'season_length': 4}</th>\n",
       "      <th>Денситометр</th>\n",
       "      <td>20.0</td>\n",
       "      <td>0.129312</td>\n",
       "      <td>0.075275</td>\n",
       "      <td>0.024432</td>\n",
       "      <td>0.078733</td>\n",
       "      <td>0.116534</td>\n",
       "      <td>0.159731</td>\n",
       "      <td>0.306369</td>\n",
       "    </tr>\n",
       "    <tr>\n",
       "      <th>КТ</th>\n",
       "      <td>20.0</td>\n",
       "      <td>0.117869</td>\n",
       "      <td>0.084028</td>\n",
       "      <td>0.018255</td>\n",
       "      <td>0.053631</td>\n",
       "      <td>0.102007</td>\n",
       "      <td>0.159207</td>\n",
       "      <td>0.344462</td>\n",
       "    </tr>\n",
       "    <tr>\n",
       "      <th>КТ с КУ 1 зона</th>\n",
       "      <td>20.0</td>\n",
       "      <td>0.142247</td>\n",
       "      <td>0.108065</td>\n",
       "      <td>0.030458</td>\n",
       "      <td>0.071852</td>\n",
       "      <td>0.109187</td>\n",
       "      <td>0.183864</td>\n",
       "      <td>0.488662</td>\n",
       "    </tr>\n",
       "    <tr>\n",
       "      <th>КТ с КУ 2 и более зон</th>\n",
       "      <td>20.0</td>\n",
       "      <td>0.201173</td>\n",
       "      <td>0.206901</td>\n",
       "      <td>0.040520</td>\n",
       "      <td>0.080006</td>\n",
       "      <td>0.124236</td>\n",
       "      <td>0.204004</td>\n",
       "      <td>0.843416</td>\n",
       "    </tr>\n",
       "    <tr>\n",
       "      <th>ММГ</th>\n",
       "      <td>20.0</td>\n",
       "      <td>0.127714</td>\n",
       "      <td>0.066437</td>\n",
       "      <td>0.056687</td>\n",
       "      <td>0.082969</td>\n",
       "      <td>0.098708</td>\n",
       "      <td>0.151132</td>\n",
       "      <td>0.295869</td>\n",
       "    </tr>\n",
       "    <tr>\n",
       "      <th>МРТ</th>\n",
       "      <td>20.0</td>\n",
       "      <td>0.144916</td>\n",
       "      <td>0.143623</td>\n",
       "      <td>0.017668</td>\n",
       "      <td>0.035886</td>\n",
       "      <td>0.100400</td>\n",
       "      <td>0.200219</td>\n",
       "      <td>0.497182</td>\n",
       "    </tr>\n",
       "    <tr>\n",
       "      <th>МРТ с КУ 1 зона</th>\n",
       "      <td>20.0</td>\n",
       "      <td>0.108834</td>\n",
       "      <td>0.114172</td>\n",
       "      <td>0.019701</td>\n",
       "      <td>0.038183</td>\n",
       "      <td>0.060759</td>\n",
       "      <td>0.117564</td>\n",
       "      <td>0.422935</td>\n",
       "    </tr>\n",
       "    <tr>\n",
       "      <th>МРТ с КУ 2 и более зон</th>\n",
       "      <td>20.0</td>\n",
       "      <td>0.250439</td>\n",
       "      <td>0.063304</td>\n",
       "      <td>0.135961</td>\n",
       "      <td>0.198379</td>\n",
       "      <td>0.243866</td>\n",
       "      <td>0.290048</td>\n",
       "      <td>0.358935</td>\n",
       "    </tr>\n",
       "    <tr>\n",
       "      <th>РГ</th>\n",
       "      <td>20.0</td>\n",
       "      <td>0.094729</td>\n",
       "      <td>0.033870</td>\n",
       "      <td>0.041595</td>\n",
       "      <td>0.067472</td>\n",
       "      <td>0.090920</td>\n",
       "      <td>0.118733</td>\n",
       "      <td>0.183294</td>\n",
       "    </tr>\n",
       "    <tr>\n",
       "      <th>Флюорограф</th>\n",
       "      <td>20.0</td>\n",
       "      <td>0.265721</td>\n",
       "      <td>0.310836</td>\n",
       "      <td>0.039449</td>\n",
       "      <td>0.079190</td>\n",
       "      <td>0.108143</td>\n",
       "      <td>0.286659</td>\n",
       "      <td>1.019615</td>\n",
       "    </tr>\n",
       "    <tr>\n",
       "      <th rowspan=\"10\" valign=\"top\">StatsForecastAutoTheta__{'season_length': 13}</th>\n",
       "      <th>Денситометр</th>\n",
       "      <td>20.0</td>\n",
       "      <td>0.125387</td>\n",
       "      <td>0.078402</td>\n",
       "      <td>0.006017</td>\n",
       "      <td>0.075925</td>\n",
       "      <td>0.113013</td>\n",
       "      <td>0.153167</td>\n",
       "      <td>0.309733</td>\n",
       "    </tr>\n",
       "    <tr>\n",
       "      <th>КТ</th>\n",
       "      <td>20.0</td>\n",
       "      <td>0.114955</td>\n",
       "      <td>0.084008</td>\n",
       "      <td>0.008655</td>\n",
       "      <td>0.053949</td>\n",
       "      <td>0.109372</td>\n",
       "      <td>0.166121</td>\n",
       "      <td>0.346358</td>\n",
       "    </tr>\n",
       "    <tr>\n",
       "      <th>КТ с КУ 1 зона</th>\n",
       "      <td>20.0</td>\n",
       "      <td>0.136104</td>\n",
       "      <td>0.111319</td>\n",
       "      <td>0.025656</td>\n",
       "      <td>0.057531</td>\n",
       "      <td>0.108539</td>\n",
       "      <td>0.188562</td>\n",
       "      <td>0.483379</td>\n",
       "    </tr>\n",
       "    <tr>\n",
       "      <th>КТ с КУ 2 и более зон</th>\n",
       "      <td>20.0</td>\n",
       "      <td>0.201323</td>\n",
       "      <td>0.204748</td>\n",
       "      <td>0.047385</td>\n",
       "      <td>0.079886</td>\n",
       "      <td>0.124160</td>\n",
       "      <td>0.203854</td>\n",
       "      <td>0.827677</td>\n",
       "    </tr>\n",
       "    <tr>\n",
       "      <th>ММГ</th>\n",
       "      <td>20.0</td>\n",
       "      <td>0.123883</td>\n",
       "      <td>0.069323</td>\n",
       "      <td>0.053439</td>\n",
       "      <td>0.065148</td>\n",
       "      <td>0.109528</td>\n",
       "      <td>0.147454</td>\n",
       "      <td>0.288819</td>\n",
       "    </tr>\n",
       "    <tr>\n",
       "      <th>МРТ</th>\n",
       "      <td>20.0</td>\n",
       "      <td>0.144916</td>\n",
       "      <td>0.143623</td>\n",
       "      <td>0.017668</td>\n",
       "      <td>0.035886</td>\n",
       "      <td>0.100400</td>\n",
       "      <td>0.200219</td>\n",
       "      <td>0.497182</td>\n",
       "    </tr>\n",
       "    <tr>\n",
       "      <th>МРТ с КУ 1 зона</th>\n",
       "      <td>20.0</td>\n",
       "      <td>0.108834</td>\n",
       "      <td>0.114172</td>\n",
       "      <td>0.019701</td>\n",
       "      <td>0.038183</td>\n",
       "      <td>0.060759</td>\n",
       "      <td>0.117564</td>\n",
       "      <td>0.422935</td>\n",
       "    </tr>\n",
       "    <tr>\n",
       "      <th>МРТ с КУ 2 и более зон</th>\n",
       "      <td>20.0</td>\n",
       "      <td>0.244957</td>\n",
       "      <td>0.072877</td>\n",
       "      <td>0.119684</td>\n",
       "      <td>0.185306</td>\n",
       "      <td>0.257981</td>\n",
       "      <td>0.294938</td>\n",
       "      <td>0.347686</td>\n",
       "    </tr>\n",
       "    <tr>\n",
       "      <th>РГ</th>\n",
       "      <td>20.0</td>\n",
       "      <td>0.094992</td>\n",
       "      <td>0.035791</td>\n",
       "      <td>0.051711</td>\n",
       "      <td>0.068269</td>\n",
       "      <td>0.095794</td>\n",
       "      <td>0.113892</td>\n",
       "      <td>0.183711</td>\n",
       "    </tr>\n",
       "    <tr>\n",
       "      <th>Флюорограф</th>\n",
       "      <td>20.0</td>\n",
       "      <td>0.267820</td>\n",
       "      <td>0.315865</td>\n",
       "      <td>0.039449</td>\n",
       "      <td>0.079190</td>\n",
       "      <td>0.108143</td>\n",
       "      <td>0.283260</td>\n",
       "      <td>1.023202</td>\n",
       "    </tr>\n",
       "    <tr>\n",
       "      <th rowspan=\"10\" valign=\"top\">StatsForecastAutoTheta__{'season_length': 26}</th>\n",
       "      <th>Денситометр</th>\n",
       "      <td>20.0</td>\n",
       "      <td>0.125387</td>\n",
       "      <td>0.078402</td>\n",
       "      <td>0.006017</td>\n",
       "      <td>0.075925</td>\n",
       "      <td>0.113013</td>\n",
       "      <td>0.153167</td>\n",
       "      <td>0.309733</td>\n",
       "    </tr>\n",
       "    <tr>\n",
       "      <th>КТ</th>\n",
       "      <td>20.0</td>\n",
       "      <td>0.114955</td>\n",
       "      <td>0.084008</td>\n",
       "      <td>0.008655</td>\n",
       "      <td>0.053949</td>\n",
       "      <td>0.109372</td>\n",
       "      <td>0.166121</td>\n",
       "      <td>0.346358</td>\n",
       "    </tr>\n",
       "    <tr>\n",
       "      <th>КТ с КУ 1 зона</th>\n",
       "      <td>20.0</td>\n",
       "      <td>0.136104</td>\n",
       "      <td>0.111319</td>\n",
       "      <td>0.025656</td>\n",
       "      <td>0.057531</td>\n",
       "      <td>0.108539</td>\n",
       "      <td>0.188562</td>\n",
       "      <td>0.483379</td>\n",
       "    </tr>\n",
       "    <tr>\n",
       "      <th>КТ с КУ 2 и более зон</th>\n",
       "      <td>20.0</td>\n",
       "      <td>0.201323</td>\n",
       "      <td>0.204748</td>\n",
       "      <td>0.047385</td>\n",
       "      <td>0.079886</td>\n",
       "      <td>0.124160</td>\n",
       "      <td>0.203854</td>\n",
       "      <td>0.827677</td>\n",
       "    </tr>\n",
       "    <tr>\n",
       "      <th>ММГ</th>\n",
       "      <td>20.0</td>\n",
       "      <td>0.123883</td>\n",
       "      <td>0.069323</td>\n",
       "      <td>0.053439</td>\n",
       "      <td>0.065148</td>\n",
       "      <td>0.109528</td>\n",
       "      <td>0.147454</td>\n",
       "      <td>0.288819</td>\n",
       "    </tr>\n",
       "    <tr>\n",
       "      <th>МРТ</th>\n",
       "      <td>20.0</td>\n",
       "      <td>0.144916</td>\n",
       "      <td>0.143623</td>\n",
       "      <td>0.017668</td>\n",
       "      <td>0.035886</td>\n",
       "      <td>0.100400</td>\n",
       "      <td>0.200219</td>\n",
       "      <td>0.497182</td>\n",
       "    </tr>\n",
       "    <tr>\n",
       "      <th>МРТ с КУ 1 зона</th>\n",
       "      <td>20.0</td>\n",
       "      <td>0.108834</td>\n",
       "      <td>0.114172</td>\n",
       "      <td>0.019701</td>\n",
       "      <td>0.038183</td>\n",
       "      <td>0.060759</td>\n",
       "      <td>0.117564</td>\n",
       "      <td>0.422935</td>\n",
       "    </tr>\n",
       "    <tr>\n",
       "      <th>МРТ с КУ 2 и более зон</th>\n",
       "      <td>20.0</td>\n",
       "      <td>0.244957</td>\n",
       "      <td>0.072877</td>\n",
       "      <td>0.119684</td>\n",
       "      <td>0.185306</td>\n",
       "      <td>0.257981</td>\n",
       "      <td>0.294938</td>\n",
       "      <td>0.347686</td>\n",
       "    </tr>\n",
       "    <tr>\n",
       "      <th>РГ</th>\n",
       "      <td>20.0</td>\n",
       "      <td>0.094992</td>\n",
       "      <td>0.035791</td>\n",
       "      <td>0.051711</td>\n",
       "      <td>0.068269</td>\n",
       "      <td>0.095794</td>\n",
       "      <td>0.113892</td>\n",
       "      <td>0.183711</td>\n",
       "    </tr>\n",
       "    <tr>\n",
       "      <th>Флюорограф</th>\n",
       "      <td>20.0</td>\n",
       "      <td>0.267820</td>\n",
       "      <td>0.315865</td>\n",
       "      <td>0.039449</td>\n",
       "      <td>0.079190</td>\n",
       "      <td>0.108143</td>\n",
       "      <td>0.283260</td>\n",
       "      <td>1.023202</td>\n",
       "    </tr>\n",
       "    <tr>\n",
       "      <th rowspan=\"10\" valign=\"top\">StatsForecastAutoTheta__{'season_length': 52}</th>\n",
       "      <th>Денситометр</th>\n",
       "      <td>20.0</td>\n",
       "      <td>0.125387</td>\n",
       "      <td>0.078402</td>\n",
       "      <td>0.006017</td>\n",
       "      <td>0.075925</td>\n",
       "      <td>0.113013</td>\n",
       "      <td>0.153167</td>\n",
       "      <td>0.309733</td>\n",
       "    </tr>\n",
       "    <tr>\n",
       "      <th>КТ</th>\n",
       "      <td>20.0</td>\n",
       "      <td>0.114955</td>\n",
       "      <td>0.084008</td>\n",
       "      <td>0.008655</td>\n",
       "      <td>0.053949</td>\n",
       "      <td>0.109372</td>\n",
       "      <td>0.166121</td>\n",
       "      <td>0.346358</td>\n",
       "    </tr>\n",
       "    <tr>\n",
       "      <th>КТ с КУ 1 зона</th>\n",
       "      <td>20.0</td>\n",
       "      <td>0.136104</td>\n",
       "      <td>0.111319</td>\n",
       "      <td>0.025656</td>\n",
       "      <td>0.057531</td>\n",
       "      <td>0.108539</td>\n",
       "      <td>0.188562</td>\n",
       "      <td>0.483379</td>\n",
       "    </tr>\n",
       "    <tr>\n",
       "      <th>КТ с КУ 2 и более зон</th>\n",
       "      <td>20.0</td>\n",
       "      <td>0.201323</td>\n",
       "      <td>0.204748</td>\n",
       "      <td>0.047385</td>\n",
       "      <td>0.079886</td>\n",
       "      <td>0.124160</td>\n",
       "      <td>0.203854</td>\n",
       "      <td>0.827677</td>\n",
       "    </tr>\n",
       "    <tr>\n",
       "      <th>ММГ</th>\n",
       "      <td>20.0</td>\n",
       "      <td>0.123883</td>\n",
       "      <td>0.069323</td>\n",
       "      <td>0.053439</td>\n",
       "      <td>0.065148</td>\n",
       "      <td>0.109528</td>\n",
       "      <td>0.147454</td>\n",
       "      <td>0.288819</td>\n",
       "    </tr>\n",
       "    <tr>\n",
       "      <th>МРТ</th>\n",
       "      <td>20.0</td>\n",
       "      <td>0.149224</td>\n",
       "      <td>0.143300</td>\n",
       "      <td>0.017668</td>\n",
       "      <td>0.035886</td>\n",
       "      <td>0.113901</td>\n",
       "      <td>0.200219</td>\n",
       "      <td>0.497182</td>\n",
       "    </tr>\n",
       "    <tr>\n",
       "      <th>МРТ с КУ 1 зона</th>\n",
       "      <td>20.0</td>\n",
       "      <td>0.108834</td>\n",
       "      <td>0.114172</td>\n",
       "      <td>0.019701</td>\n",
       "      <td>0.038183</td>\n",
       "      <td>0.060759</td>\n",
       "      <td>0.117564</td>\n",
       "      <td>0.422935</td>\n",
       "    </tr>\n",
       "    <tr>\n",
       "      <th>МРТ с КУ 2 и более зон</th>\n",
       "      <td>20.0</td>\n",
       "      <td>0.244957</td>\n",
       "      <td>0.072877</td>\n",
       "      <td>0.119684</td>\n",
       "      <td>0.185306</td>\n",
       "      <td>0.257981</td>\n",
       "      <td>0.294938</td>\n",
       "      <td>0.347686</td>\n",
       "    </tr>\n",
       "    <tr>\n",
       "      <th>РГ</th>\n",
       "      <td>20.0</td>\n",
       "      <td>0.094992</td>\n",
       "      <td>0.035791</td>\n",
       "      <td>0.051711</td>\n",
       "      <td>0.068269</td>\n",
       "      <td>0.095794</td>\n",
       "      <td>0.113892</td>\n",
       "      <td>0.183711</td>\n",
       "    </tr>\n",
       "    <tr>\n",
       "      <th>Флюорограф</th>\n",
       "      <td>20.0</td>\n",
       "      <td>0.267820</td>\n",
       "      <td>0.315865</td>\n",
       "      <td>0.039449</td>\n",
       "      <td>0.079190</td>\n",
       "      <td>0.108143</td>\n",
       "      <td>0.283260</td>\n",
       "      <td>1.023202</td>\n",
       "    </tr>\n",
       "  </tbody>\n",
       "</table>\n",
       "</div>"
      ],
      "text/plain": [
       "                                                                      count  \\\n",
       "NaiveSeasonal__{'K': 52}                      Денситометр              20.0   \n",
       "                                              КТ                       20.0   \n",
       "                                              КТ с КУ 1 зона           20.0   \n",
       "                                              КТ с КУ 2 и более зон    20.0   \n",
       "                                              ММГ                      20.0   \n",
       "                                              МРТ                      20.0   \n",
       "                                              МРТ с КУ 1 зона          20.0   \n",
       "                                              МРТ с КУ 2 и более зон   20.0   \n",
       "                                              РГ                       20.0   \n",
       "                                              Флюорограф               20.0   \n",
       "StatsForecastAutoTheta__{'season_length': 4}  Денситометр              20.0   \n",
       "                                              КТ                       20.0   \n",
       "                                              КТ с КУ 1 зона           20.0   \n",
       "                                              КТ с КУ 2 и более зон    20.0   \n",
       "                                              ММГ                      20.0   \n",
       "                                              МРТ                      20.0   \n",
       "                                              МРТ с КУ 1 зона          20.0   \n",
       "                                              МРТ с КУ 2 и более зон   20.0   \n",
       "                                              РГ                       20.0   \n",
       "                                              Флюорограф               20.0   \n",
       "StatsForecastAutoTheta__{'season_length': 13} Денситометр              20.0   \n",
       "                                              КТ                       20.0   \n",
       "                                              КТ с КУ 1 зона           20.0   \n",
       "                                              КТ с КУ 2 и более зон    20.0   \n",
       "                                              ММГ                      20.0   \n",
       "                                              МРТ                      20.0   \n",
       "                                              МРТ с КУ 1 зона          20.0   \n",
       "                                              МРТ с КУ 2 и более зон   20.0   \n",
       "                                              РГ                       20.0   \n",
       "                                              Флюорограф               20.0   \n",
       "StatsForecastAutoTheta__{'season_length': 26} Денситометр              20.0   \n",
       "                                              КТ                       20.0   \n",
       "                                              КТ с КУ 1 зона           20.0   \n",
       "                                              КТ с КУ 2 и более зон    20.0   \n",
       "                                              ММГ                      20.0   \n",
       "                                              МРТ                      20.0   \n",
       "                                              МРТ с КУ 1 зона          20.0   \n",
       "                                              МРТ с КУ 2 и более зон   20.0   \n",
       "                                              РГ                       20.0   \n",
       "                                              Флюорограф               20.0   \n",
       "StatsForecastAutoTheta__{'season_length': 52} Денситометр              20.0   \n",
       "                                              КТ                       20.0   \n",
       "                                              КТ с КУ 1 зона           20.0   \n",
       "                                              КТ с КУ 2 и более зон    20.0   \n",
       "                                              ММГ                      20.0   \n",
       "                                              МРТ                      20.0   \n",
       "                                              МРТ с КУ 1 зона          20.0   \n",
       "                                              МРТ с КУ 2 и более зон   20.0   \n",
       "                                              РГ                       20.0   \n",
       "                                              Флюорограф               20.0   \n",
       "\n",
       "                                                                          mean  \\\n",
       "NaiveSeasonal__{'K': 52}                      Денситометр             0.255301   \n",
       "                                              КТ                      0.154150   \n",
       "                                              КТ с КУ 1 зона          0.181629   \n",
       "                                              КТ с КУ 2 и более зон   0.273765   \n",
       "                                              ММГ                     0.246391   \n",
       "                                              МРТ                     0.108257   \n",
       "                                              МРТ с КУ 1 зона         0.118932   \n",
       "                                              МРТ с КУ 2 и более зон  0.603244   \n",
       "                                              РГ                      0.286880   \n",
       "                                              Флюорограф              0.694198   \n",
       "StatsForecastAutoTheta__{'season_length': 4}  Денситометр             0.129312   \n",
       "                                              КТ                      0.117869   \n",
       "                                              КТ с КУ 1 зона          0.142247   \n",
       "                                              КТ с КУ 2 и более зон   0.201173   \n",
       "                                              ММГ                     0.127714   \n",
       "                                              МРТ                     0.144916   \n",
       "                                              МРТ с КУ 1 зона         0.108834   \n",
       "                                              МРТ с КУ 2 и более зон  0.250439   \n",
       "                                              РГ                      0.094729   \n",
       "                                              Флюорограф              0.265721   \n",
       "StatsForecastAutoTheta__{'season_length': 13} Денситометр             0.125387   \n",
       "                                              КТ                      0.114955   \n",
       "                                              КТ с КУ 1 зона          0.136104   \n",
       "                                              КТ с КУ 2 и более зон   0.201323   \n",
       "                                              ММГ                     0.123883   \n",
       "                                              МРТ                     0.144916   \n",
       "                                              МРТ с КУ 1 зона         0.108834   \n",
       "                                              МРТ с КУ 2 и более зон  0.244957   \n",
       "                                              РГ                      0.094992   \n",
       "                                              Флюорограф              0.267820   \n",
       "StatsForecastAutoTheta__{'season_length': 26} Денситометр             0.125387   \n",
       "                                              КТ                      0.114955   \n",
       "                                              КТ с КУ 1 зона          0.136104   \n",
       "                                              КТ с КУ 2 и более зон   0.201323   \n",
       "                                              ММГ                     0.123883   \n",
       "                                              МРТ                     0.144916   \n",
       "                                              МРТ с КУ 1 зона         0.108834   \n",
       "                                              МРТ с КУ 2 и более зон  0.244957   \n",
       "                                              РГ                      0.094992   \n",
       "                                              Флюорограф              0.267820   \n",
       "StatsForecastAutoTheta__{'season_length': 52} Денситометр             0.125387   \n",
       "                                              КТ                      0.114955   \n",
       "                                              КТ с КУ 1 зона          0.136104   \n",
       "                                              КТ с КУ 2 и более зон   0.201323   \n",
       "                                              ММГ                     0.123883   \n",
       "                                              МРТ                     0.149224   \n",
       "                                              МРТ с КУ 1 зона         0.108834   \n",
       "                                              МРТ с КУ 2 и более зон  0.244957   \n",
       "                                              РГ                      0.094992   \n",
       "                                              Флюорограф              0.267820   \n",
       "\n",
       "                                                                           std  \\\n",
       "NaiveSeasonal__{'K': 52}                      Денситометр             0.108417   \n",
       "                                              КТ                      0.123625   \n",
       "                                              КТ с КУ 1 зона          0.115355   \n",
       "                                              КТ с КУ 2 и более зон   0.057486   \n",
       "                                              ММГ                     0.033571   \n",
       "                                              МРТ                     0.070573   \n",
       "                                              МРТ с КУ 1 зона         0.057785   \n",
       "                                              МРТ с КУ 2 и более зон  0.101851   \n",
       "                                              РГ                      0.025163   \n",
       "                                              Флюорограф              0.653712   \n",
       "StatsForecastAutoTheta__{'season_length': 4}  Денситометр             0.075275   \n",
       "                                              КТ                      0.084028   \n",
       "                                              КТ с КУ 1 зона          0.108065   \n",
       "                                              КТ с КУ 2 и более зон   0.206901   \n",
       "                                              ММГ                     0.066437   \n",
       "                                              МРТ                     0.143623   \n",
       "                                              МРТ с КУ 1 зона         0.114172   \n",
       "                                              МРТ с КУ 2 и более зон  0.063304   \n",
       "                                              РГ                      0.033870   \n",
       "                                              Флюорограф              0.310836   \n",
       "StatsForecastAutoTheta__{'season_length': 13} Денситометр             0.078402   \n",
       "                                              КТ                      0.084008   \n",
       "                                              КТ с КУ 1 зона          0.111319   \n",
       "                                              КТ с КУ 2 и более зон   0.204748   \n",
       "                                              ММГ                     0.069323   \n",
       "                                              МРТ                     0.143623   \n",
       "                                              МРТ с КУ 1 зона         0.114172   \n",
       "                                              МРТ с КУ 2 и более зон  0.072877   \n",
       "                                              РГ                      0.035791   \n",
       "                                              Флюорограф              0.315865   \n",
       "StatsForecastAutoTheta__{'season_length': 26} Денситометр             0.078402   \n",
       "                                              КТ                      0.084008   \n",
       "                                              КТ с КУ 1 зона          0.111319   \n",
       "                                              КТ с КУ 2 и более зон   0.204748   \n",
       "                                              ММГ                     0.069323   \n",
       "                                              МРТ                     0.143623   \n",
       "                                              МРТ с КУ 1 зона         0.114172   \n",
       "                                              МРТ с КУ 2 и более зон  0.072877   \n",
       "                                              РГ                      0.035791   \n",
       "                                              Флюорограф              0.315865   \n",
       "StatsForecastAutoTheta__{'season_length': 52} Денситометр             0.078402   \n",
       "                                              КТ                      0.084008   \n",
       "                                              КТ с КУ 1 зона          0.111319   \n",
       "                                              КТ с КУ 2 и более зон   0.204748   \n",
       "                                              ММГ                     0.069323   \n",
       "                                              МРТ                     0.143300   \n",
       "                                              МРТ с КУ 1 зона         0.114172   \n",
       "                                              МРТ с КУ 2 и более зон  0.072877   \n",
       "                                              РГ                      0.035791   \n",
       "                                              Флюорограф              0.315865   \n",
       "\n",
       "                                                                           min  \\\n",
       "NaiveSeasonal__{'K': 52}                      Денситометр             0.051921   \n",
       "                                              КТ                      0.038251   \n",
       "                                              КТ с КУ 1 зона          0.051070   \n",
       "                                              КТ с КУ 2 и более зон   0.139656   \n",
       "                                              ММГ                     0.179652   \n",
       "                                              МРТ                     0.045118   \n",
       "                                              МРТ с КУ 1 зона         0.050970   \n",
       "                                              МРТ с КУ 2 и более зон  0.462847   \n",
       "                                              РГ                      0.233569   \n",
       "                                              Флюорограф              0.123887   \n",
       "StatsForecastAutoTheta__{'season_length': 4}  Денситометр             0.024432   \n",
       "                                              КТ                      0.018255   \n",
       "                                              КТ с КУ 1 зона          0.030458   \n",
       "                                              КТ с КУ 2 и более зон   0.040520   \n",
       "                                              ММГ                     0.056687   \n",
       "                                              МРТ                     0.017668   \n",
       "                                              МРТ с КУ 1 зона         0.019701   \n",
       "                                              МРТ с КУ 2 и более зон  0.135961   \n",
       "                                              РГ                      0.041595   \n",
       "                                              Флюорограф              0.039449   \n",
       "StatsForecastAutoTheta__{'season_length': 13} Денситометр             0.006017   \n",
       "                                              КТ                      0.008655   \n",
       "                                              КТ с КУ 1 зона          0.025656   \n",
       "                                              КТ с КУ 2 и более зон   0.047385   \n",
       "                                              ММГ                     0.053439   \n",
       "                                              МРТ                     0.017668   \n",
       "                                              МРТ с КУ 1 зона         0.019701   \n",
       "                                              МРТ с КУ 2 и более зон  0.119684   \n",
       "                                              РГ                      0.051711   \n",
       "                                              Флюорограф              0.039449   \n",
       "StatsForecastAutoTheta__{'season_length': 26} Денситометр             0.006017   \n",
       "                                              КТ                      0.008655   \n",
       "                                              КТ с КУ 1 зона          0.025656   \n",
       "                                              КТ с КУ 2 и более зон   0.047385   \n",
       "                                              ММГ                     0.053439   \n",
       "                                              МРТ                     0.017668   \n",
       "                                              МРТ с КУ 1 зона         0.019701   \n",
       "                                              МРТ с КУ 2 и более зон  0.119684   \n",
       "                                              РГ                      0.051711   \n",
       "                                              Флюорограф              0.039449   \n",
       "StatsForecastAutoTheta__{'season_length': 52} Денситометр             0.006017   \n",
       "                                              КТ                      0.008655   \n",
       "                                              КТ с КУ 1 зона          0.025656   \n",
       "                                              КТ с КУ 2 и более зон   0.047385   \n",
       "                                              ММГ                     0.053439   \n",
       "                                              МРТ                     0.017668   \n",
       "                                              МРТ с КУ 1 зона         0.019701   \n",
       "                                              МРТ с КУ 2 и более зон  0.119684   \n",
       "                                              РГ                      0.051711   \n",
       "                                              Флюорограф              0.039449   \n",
       "\n",
       "                                                                           25%  \\\n",
       "NaiveSeasonal__{'K': 52}                      Денситометр             0.190349   \n",
       "                                              КТ                      0.079637   \n",
       "                                              КТ с КУ 1 зона          0.099471   \n",
       "                                              КТ с КУ 2 и более зон   0.241471   \n",
       "                                              ММГ                     0.212957   \n",
       "                                              МРТ                     0.067930   \n",
       "                                              МРТ с КУ 1 зона         0.078918   \n",
       "                                              МРТ с КУ 2 и более зон  0.542287   \n",
       "                                              РГ                      0.277554   \n",
       "                                              Флюорограф              0.264186   \n",
       "StatsForecastAutoTheta__{'season_length': 4}  Денситометр             0.078733   \n",
       "                                              КТ                      0.053631   \n",
       "                                              КТ с КУ 1 зона          0.071852   \n",
       "                                              КТ с КУ 2 и более зон   0.080006   \n",
       "                                              ММГ                     0.082969   \n",
       "                                              МРТ                     0.035886   \n",
       "                                              МРТ с КУ 1 зона         0.038183   \n",
       "                                              МРТ с КУ 2 и более зон  0.198379   \n",
       "                                              РГ                      0.067472   \n",
       "                                              Флюорограф              0.079190   \n",
       "StatsForecastAutoTheta__{'season_length': 13} Денситометр             0.075925   \n",
       "                                              КТ                      0.053949   \n",
       "                                              КТ с КУ 1 зона          0.057531   \n",
       "                                              КТ с КУ 2 и более зон   0.079886   \n",
       "                                              ММГ                     0.065148   \n",
       "                                              МРТ                     0.035886   \n",
       "                                              МРТ с КУ 1 зона         0.038183   \n",
       "                                              МРТ с КУ 2 и более зон  0.185306   \n",
       "                                              РГ                      0.068269   \n",
       "                                              Флюорограф              0.079190   \n",
       "StatsForecastAutoTheta__{'season_length': 26} Денситометр             0.075925   \n",
       "                                              КТ                      0.053949   \n",
       "                                              КТ с КУ 1 зона          0.057531   \n",
       "                                              КТ с КУ 2 и более зон   0.079886   \n",
       "                                              ММГ                     0.065148   \n",
       "                                              МРТ                     0.035886   \n",
       "                                              МРТ с КУ 1 зона         0.038183   \n",
       "                                              МРТ с КУ 2 и более зон  0.185306   \n",
       "                                              РГ                      0.068269   \n",
       "                                              Флюорограф              0.079190   \n",
       "StatsForecastAutoTheta__{'season_length': 52} Денситометр             0.075925   \n",
       "                                              КТ                      0.053949   \n",
       "                                              КТ с КУ 1 зона          0.057531   \n",
       "                                              КТ с КУ 2 и более зон   0.079886   \n",
       "                                              ММГ                     0.065148   \n",
       "                                              МРТ                     0.035886   \n",
       "                                              МРТ с КУ 1 зона         0.038183   \n",
       "                                              МРТ с КУ 2 и более зон  0.185306   \n",
       "                                              РГ                      0.068269   \n",
       "                                              Флюорограф              0.079190   \n",
       "\n",
       "                                                                           50%  \\\n",
       "NaiveSeasonal__{'K': 52}                      Денситометр             0.267110   \n",
       "                                              КТ                      0.104294   \n",
       "                                              КТ с КУ 1 зона          0.148267   \n",
       "                                              КТ с КУ 2 и более зон   0.297604   \n",
       "                                              ММГ                     0.262392   \n",
       "                                              МРТ                     0.087297   \n",
       "                                              МРТ с КУ 1 зона         0.102011   \n",
       "                                              МРТ с КУ 2 и более зон  0.573602   \n",
       "                                              РГ                      0.282677   \n",
       "                                              Флюорограф              0.449559   \n",
       "StatsForecastAutoTheta__{'season_length': 4}  Денситометр             0.116534   \n",
       "                                              КТ                      0.102007   \n",
       "                                              КТ с КУ 1 зона          0.109187   \n",
       "                                              КТ с КУ 2 и более зон   0.124236   \n",
       "                                              ММГ                     0.098708   \n",
       "                                              МРТ                     0.100400   \n",
       "                                              МРТ с КУ 1 зона         0.060759   \n",
       "                                              МРТ с КУ 2 и более зон  0.243866   \n",
       "                                              РГ                      0.090920   \n",
       "                                              Флюорограф              0.108143   \n",
       "StatsForecastAutoTheta__{'season_length': 13} Денситометр             0.113013   \n",
       "                                              КТ                      0.109372   \n",
       "                                              КТ с КУ 1 зона          0.108539   \n",
       "                                              КТ с КУ 2 и более зон   0.124160   \n",
       "                                              ММГ                     0.109528   \n",
       "                                              МРТ                     0.100400   \n",
       "                                              МРТ с КУ 1 зона         0.060759   \n",
       "                                              МРТ с КУ 2 и более зон  0.257981   \n",
       "                                              РГ                      0.095794   \n",
       "                                              Флюорограф              0.108143   \n",
       "StatsForecastAutoTheta__{'season_length': 26} Денситометр             0.113013   \n",
       "                                              КТ                      0.109372   \n",
       "                                              КТ с КУ 1 зона          0.108539   \n",
       "                                              КТ с КУ 2 и более зон   0.124160   \n",
       "                                              ММГ                     0.109528   \n",
       "                                              МРТ                     0.100400   \n",
       "                                              МРТ с КУ 1 зона         0.060759   \n",
       "                                              МРТ с КУ 2 и более зон  0.257981   \n",
       "                                              РГ                      0.095794   \n",
       "                                              Флюорограф              0.108143   \n",
       "StatsForecastAutoTheta__{'season_length': 52} Денситометр             0.113013   \n",
       "                                              КТ                      0.109372   \n",
       "                                              КТ с КУ 1 зона          0.108539   \n",
       "                                              КТ с КУ 2 и более зон   0.124160   \n",
       "                                              ММГ                     0.109528   \n",
       "                                              МРТ                     0.113901   \n",
       "                                              МРТ с КУ 1 зона         0.060759   \n",
       "                                              МРТ с КУ 2 и более зон  0.257981   \n",
       "                                              РГ                      0.095794   \n",
       "                                              Флюорограф              0.108143   \n",
       "\n",
       "                                                                           75%  \\\n",
       "NaiveSeasonal__{'K': 52}                      Денситометр             0.340077   \n",
       "                                              КТ                      0.189927   \n",
       "                                              КТ с КУ 1 зона          0.205642   \n",
       "                                              КТ с КУ 2 и более зон   0.311570   \n",
       "                                              ММГ                     0.273190   \n",
       "                                              МРТ                     0.098005   \n",
       "                                              МРТ с КУ 1 зона         0.138210   \n",
       "                                              МРТ с КУ 2 и более зон  0.640263   \n",
       "                                              РГ                      0.304356   \n",
       "                                              Флюорограф              0.716808   \n",
       "StatsForecastAutoTheta__{'season_length': 4}  Денситометр             0.159731   \n",
       "                                              КТ                      0.159207   \n",
       "                                              КТ с КУ 1 зона          0.183864   \n",
       "                                              КТ с КУ 2 и более зон   0.204004   \n",
       "                                              ММГ                     0.151132   \n",
       "                                              МРТ                     0.200219   \n",
       "                                              МРТ с КУ 1 зона         0.117564   \n",
       "                                              МРТ с КУ 2 и более зон  0.290048   \n",
       "                                              РГ                      0.118733   \n",
       "                                              Флюорограф              0.286659   \n",
       "StatsForecastAutoTheta__{'season_length': 13} Денситометр             0.153167   \n",
       "                                              КТ                      0.166121   \n",
       "                                              КТ с КУ 1 зона          0.188562   \n",
       "                                              КТ с КУ 2 и более зон   0.203854   \n",
       "                                              ММГ                     0.147454   \n",
       "                                              МРТ                     0.200219   \n",
       "                                              МРТ с КУ 1 зона         0.117564   \n",
       "                                              МРТ с КУ 2 и более зон  0.294938   \n",
       "                                              РГ                      0.113892   \n",
       "                                              Флюорограф              0.283260   \n",
       "StatsForecastAutoTheta__{'season_length': 26} Денситометр             0.153167   \n",
       "                                              КТ                      0.166121   \n",
       "                                              КТ с КУ 1 зона          0.188562   \n",
       "                                              КТ с КУ 2 и более зон   0.203854   \n",
       "                                              ММГ                     0.147454   \n",
       "                                              МРТ                     0.200219   \n",
       "                                              МРТ с КУ 1 зона         0.117564   \n",
       "                                              МРТ с КУ 2 и более зон  0.294938   \n",
       "                                              РГ                      0.113892   \n",
       "                                              Флюорограф              0.283260   \n",
       "StatsForecastAutoTheta__{'season_length': 52} Денситометр             0.153167   \n",
       "                                              КТ                      0.166121   \n",
       "                                              КТ с КУ 1 зона          0.188562   \n",
       "                                              КТ с КУ 2 и более зон   0.203854   \n",
       "                                              ММГ                     0.147454   \n",
       "                                              МРТ                     0.200219   \n",
       "                                              МРТ с КУ 1 зона         0.117564   \n",
       "                                              МРТ с КУ 2 и более зон  0.294938   \n",
       "                                              РГ                      0.113892   \n",
       "                                              Флюорограф              0.283260   \n",
       "\n",
       "                                                                           max  \n",
       "NaiveSeasonal__{'K': 52}                      Денситометр             0.401951  \n",
       "                                              КТ                      0.450129  \n",
       "                                              КТ с КУ 1 зона          0.426577  \n",
       "                                              КТ с КУ 2 и более зон   0.342150  \n",
       "                                              ММГ                     0.291288  \n",
       "                                              МРТ                     0.265404  \n",
       "                                              МРТ с КУ 1 зона         0.262356  \n",
       "                                              МРТ с КУ 2 и более зон  0.820076  \n",
       "                                              РГ                      0.330400  \n",
       "                                              Флюорограф              2.276394  \n",
       "StatsForecastAutoTheta__{'season_length': 4}  Денситометр             0.306369  \n",
       "                                              КТ                      0.344462  \n",
       "                                              КТ с КУ 1 зона          0.488662  \n",
       "                                              КТ с КУ 2 и более зон   0.843416  \n",
       "                                              ММГ                     0.295869  \n",
       "                                              МРТ                     0.497182  \n",
       "                                              МРТ с КУ 1 зона         0.422935  \n",
       "                                              МРТ с КУ 2 и более зон  0.358935  \n",
       "                                              РГ                      0.183294  \n",
       "                                              Флюорограф              1.019615  \n",
       "StatsForecastAutoTheta__{'season_length': 13} Денситометр             0.309733  \n",
       "                                              КТ                      0.346358  \n",
       "                                              КТ с КУ 1 зона          0.483379  \n",
       "                                              КТ с КУ 2 и более зон   0.827677  \n",
       "                                              ММГ                     0.288819  \n",
       "                                              МРТ                     0.497182  \n",
       "                                              МРТ с КУ 1 зона         0.422935  \n",
       "                                              МРТ с КУ 2 и более зон  0.347686  \n",
       "                                              РГ                      0.183711  \n",
       "                                              Флюорограф              1.023202  \n",
       "StatsForecastAutoTheta__{'season_length': 26} Денситометр             0.309733  \n",
       "                                              КТ                      0.346358  \n",
       "                                              КТ с КУ 1 зона          0.483379  \n",
       "                                              КТ с КУ 2 и более зон   0.827677  \n",
       "                                              ММГ                     0.288819  \n",
       "                                              МРТ                     0.497182  \n",
       "                                              МРТ с КУ 1 зона         0.422935  \n",
       "                                              МРТ с КУ 2 и более зон  0.347686  \n",
       "                                              РГ                      0.183711  \n",
       "                                              Флюорограф              1.023202  \n",
       "StatsForecastAutoTheta__{'season_length': 52} Денситометр             0.309733  \n",
       "                                              КТ                      0.346358  \n",
       "                                              КТ с КУ 1 зона          0.483379  \n",
       "                                              КТ с КУ 2 и более зон   0.827677  \n",
       "                                              ММГ                     0.288819  \n",
       "                                              МРТ                     0.497182  \n",
       "                                              МРТ с КУ 1 зона         0.422935  \n",
       "                                              МРТ с КУ 2 и более зон  0.347686  \n",
       "                                              РГ                      0.183711  \n",
       "                                              Флюорограф              1.023202  "
      ]
     },
     "execution_count": 22,
     "metadata": {},
     "output_type": "execute_result"
    }
   ],
   "source": [
    "pd.set_option('display.max_rows', None)\n",
    "res = metrics.drop(columns=[('ds','')]).describe().T\n",
    "res"
   ]
  },
  {
   "cell_type": "code",
   "execution_count": 23,
   "metadata": {
    "tags": []
   },
   "outputs": [
    {
     "data": {
      "text/html": [
       "<div>\n",
       "<style scoped>\n",
       "    .dataframe tbody tr th:only-of-type {\n",
       "        vertical-align: middle;\n",
       "    }\n",
       "\n",
       "    .dataframe tbody tr th {\n",
       "        vertical-align: top;\n",
       "    }\n",
       "\n",
       "    .dataframe thead th {\n",
       "        text-align: right;\n",
       "    }\n",
       "</style>\n",
       "<table border=\"1\" class=\"dataframe\">\n",
       "  <thead>\n",
       "    <tr style=\"text-align: right;\">\n",
       "      <th></th>\n",
       "      <th>count</th>\n",
       "      <th>mean</th>\n",
       "      <th>std</th>\n",
       "      <th>min</th>\n",
       "      <th>25%</th>\n",
       "      <th>50%</th>\n",
       "      <th>75%</th>\n",
       "      <th>max</th>\n",
       "    </tr>\n",
       "    <tr>\n",
       "      <th>model</th>\n",
       "      <th></th>\n",
       "      <th></th>\n",
       "      <th></th>\n",
       "      <th></th>\n",
       "      <th></th>\n",
       "      <th></th>\n",
       "      <th></th>\n",
       "      <th></th>\n",
       "    </tr>\n",
       "  </thead>\n",
       "  <tbody>\n",
       "    <tr>\n",
       "      <th>NaiveSeasonal__{'K': 52}</th>\n",
       "      <td>20.0</td>\n",
       "      <td>0.292275</td>\n",
       "      <td>0.134754</td>\n",
       "      <td>0.137694</td>\n",
       "      <td>0.205476</td>\n",
       "      <td>0.257481</td>\n",
       "      <td>0.321805</td>\n",
       "      <td>0.586672</td>\n",
       "    </tr>\n",
       "    <tr>\n",
       "      <th>StatsForecastAutoTheta__{'season_length': 13}</th>\n",
       "      <td>20.0</td>\n",
       "      <td>0.156317</td>\n",
       "      <td>0.123013</td>\n",
       "      <td>0.038936</td>\n",
       "      <td>0.073927</td>\n",
       "      <td>0.118769</td>\n",
       "      <td>0.186903</td>\n",
       "      <td>0.473068</td>\n",
       "    </tr>\n",
       "    <tr>\n",
       "      <th>StatsForecastAutoTheta__{'season_length': 26}</th>\n",
       "      <td>20.0</td>\n",
       "      <td>0.156317</td>\n",
       "      <td>0.123013</td>\n",
       "      <td>0.038936</td>\n",
       "      <td>0.073927</td>\n",
       "      <td>0.118769</td>\n",
       "      <td>0.186903</td>\n",
       "      <td>0.473068</td>\n",
       "    </tr>\n",
       "    <tr>\n",
       "      <th>StatsForecastAutoTheta__{'season_length': 4}</th>\n",
       "      <td>20.0</td>\n",
       "      <td>0.158295</td>\n",
       "      <td>0.120651</td>\n",
       "      <td>0.042473</td>\n",
       "      <td>0.078630</td>\n",
       "      <td>0.115476</td>\n",
       "      <td>0.187116</td>\n",
       "      <td>0.476074</td>\n",
       "    </tr>\n",
       "    <tr>\n",
       "      <th>StatsForecastAutoTheta__{'season_length': 52}</th>\n",
       "      <td>20.0</td>\n",
       "      <td>0.156748</td>\n",
       "      <td>0.122980</td>\n",
       "      <td>0.038936</td>\n",
       "      <td>0.073927</td>\n",
       "      <td>0.120119</td>\n",
       "      <td>0.186903</td>\n",
       "      <td>0.473068</td>\n",
       "    </tr>\n",
       "  </tbody>\n",
       "</table>\n",
       "</div>"
      ],
      "text/plain": [
       "                                               count      mean       std  \\\n",
       "model                                                                      \n",
       "NaiveSeasonal__{'K': 52}                        20.0  0.292275  0.134754   \n",
       "StatsForecastAutoTheta__{'season_length': 13}   20.0  0.156317  0.123013   \n",
       "StatsForecastAutoTheta__{'season_length': 26}   20.0  0.156317  0.123013   \n",
       "StatsForecastAutoTheta__{'season_length': 4}    20.0  0.158295  0.120651   \n",
       "StatsForecastAutoTheta__{'season_length': 52}   20.0  0.156748  0.122980   \n",
       "\n",
       "                                                    min       25%       50%  \\\n",
       "model                                                                         \n",
       "NaiveSeasonal__{'K': 52}                       0.137694  0.205476  0.257481   \n",
       "StatsForecastAutoTheta__{'season_length': 13}  0.038936  0.073927  0.118769   \n",
       "StatsForecastAutoTheta__{'season_length': 26}  0.038936  0.073927  0.118769   \n",
       "StatsForecastAutoTheta__{'season_length': 4}   0.042473  0.078630  0.115476   \n",
       "StatsForecastAutoTheta__{'season_length': 52}  0.038936  0.073927  0.120119   \n",
       "\n",
       "                                                    75%       max  \n",
       "model                                                              \n",
       "NaiveSeasonal__{'K': 52}                       0.321805  0.586672  \n",
       "StatsForecastAutoTheta__{'season_length': 13}  0.186903  0.473068  \n",
       "StatsForecastAutoTheta__{'season_length': 26}  0.186903  0.473068  \n",
       "StatsForecastAutoTheta__{'season_length': 4}   0.187116  0.476074  \n",
       "StatsForecastAutoTheta__{'season_length': 52}  0.186903  0.473068  "
      ]
     },
     "execution_count": 23,
     "metadata": {},
     "output_type": "execute_result"
    }
   ],
   "source": [
    "res.index.set_names(['model','modality'], inplace=True)\n",
    "#res.reset_index()#.drop(columns='modality')\n",
    "res.groupby('model').mean()"
   ]
  },
  {
   "cell_type": "code",
   "execution_count": null,
   "metadata": {},
   "outputs": [],
   "source": []
  },
  {
   "cell_type": "markdown",
   "metadata": {},
   "source": [
    "# Make Predicts"
   ]
  },
  {
   "cell_type": "code",
   "execution_count": 30,
   "metadata": {
    "tags": []
   },
   "outputs": [],
   "source": [
    "model_ns = models[\"NaiveSeasonal__{'K': 52}\"]\n",
    "model_ath = models[\"StatsForecastAutoTheta__{'season_length': 52}\"]"
   ]
  },
  {
   "cell_type": "code",
   "execution_count": 75,
   "metadata": {},
   "outputs": [],
   "source": [
    "from copy import deepcopy\n",
    "pred_1 = model_ns.fit(ts_dset_orig).predict(1)\n",
    "model_ath_fit = {c: deepcopy(model_ath.fit(ts_dset[c])) for c in value_cols}\n",
    "pred_4l = [m.predict(4).tail(size=3, axis=0) for m in model_ath_fit.values()]"
   ]
  },
  {
   "cell_type": "code",
   "execution_count": 76,
   "metadata": {
    "tags": []
   },
   "outputs": [],
   "source": [
    "def stack_ts(pred):\n",
    "    res = pred[0]\n",
    "    for p in pred[1:]:\n",
    "        res = res.stack(p)\n",
    "    return res\n",
    "\n",
    "pred_4 = stack_ts(pred_4l)"
   ]
  },
  {
   "cell_type": "code",
   "execution_count": 80,
   "metadata": {
    "tags": []
   },
   "outputs": [],
   "source": [
    "res_pred = pred_1.append(pred_4)"
   ]
  },
  {
   "cell_type": "code",
   "execution_count": 81,
   "metadata": {
    "tags": []
   },
   "outputs": [],
   "source": [
    "res_pred.to_csv(RES_PREDICTS_PATH)"
   ]
  },
  {
   "cell_type": "code",
   "execution_count": null,
   "metadata": {},
   "outputs": [],
   "source": []
  }
 ],
 "metadata": {
  "kernelspec": {
   "display_name": "hack_doctor_schedul",
   "language": "python",
   "name": "hack_doctor_schedul"
  },
  "language_info": {
   "codemirror_mode": {
    "name": "ipython",
    "version": 3
   },
   "file_extension": ".py",
   "mimetype": "text/x-python",
   "name": "python",
   "nbconvert_exporter": "python",
   "pygments_lexer": "ipython3",
   "version": "3.10.0"
  },
  "widgets": {
   "application/vnd.jupyter.widget-state+json": {
    "state": {
     "000d0556840e4a3d87689bc3251a3d3c": {
      "model_module": "@jupyter-widgets/base",
      "model_module_version": "2.0.0",
      "model_name": "LayoutModel",
      "state": {}
     },
     "0011ddaa97b64302ba2de606a1be9b02": {
      "model_module": "@jupyter-widgets/controls",
      "model_module_version": "2.0.0",
      "model_name": "FloatProgressModel",
      "state": {
       "bar_style": "success",
       "layout": "IPY_MODEL_f83e52406eca423f9c398a48b454d975",
       "max": 20,
       "style": "IPY_MODEL_9ec0871c4b334021beff8019f22e3054",
       "value": 20
      }
     },
     "004f440e1a654a61b834d9ec2668bea0": {
      "model_module": "@jupyter-widgets/controls",
      "model_module_version": "2.0.0",
      "model_name": "HTMLModel",
      "state": {
       "layout": "IPY_MODEL_902cfa639dc64d289204cb44cf6e845f",
       "style": "IPY_MODEL_ee982804246743b48d94f068127e741e",
       "value": " 20/20 [00:00&lt;00:00, 307.24it/s]"
      }
     },
     "0068ae2e0e32462e91bdda0b360fbc53": {
      "model_module": "@jupyter-widgets/controls",
      "model_module_version": "2.0.0",
      "model_name": "ProgressStyleModel",
      "state": {
       "description_width": ""
      }
     },
     "0072cba209004332abb8c5f9ac52ffeb": {
      "model_module": "@jupyter-widgets/controls",
      "model_module_version": "2.0.0",
      "model_name": "HTMLStyleModel",
      "state": {
       "description_width": "",
       "font_size": null,
       "text_color": null
      }
     },
     "007dc280d1414799b65e7549a51e7af2": {
      "model_module": "@jupyter-widgets/controls",
      "model_module_version": "2.0.0",
      "model_name": "HTMLStyleModel",
      "state": {
       "description_width": "",
       "font_size": null,
       "text_color": null
      }
     },
     "008063787ae948bfb1b2d535a34e4170": {
      "model_module": "@jupyter-widgets/controls",
      "model_module_version": "2.0.0",
      "model_name": "HTMLModel",
      "state": {
       "layout": "IPY_MODEL_556c251689864c769bce1c8774016f2e",
       "style": "IPY_MODEL_37de5f8518bc47b18ab41e251af998de",
       "value": "100%"
      }
     },
     "008420ba0d204b85b211dc34759f609d": {
      "model_module": "@jupyter-widgets/controls",
      "model_module_version": "2.0.0",
      "model_name": "HTMLModel",
      "state": {
       "layout": "IPY_MODEL_3b6ba07a6aa540b3837b8d42ff4a6675",
       "style": "IPY_MODEL_9f649342273c44ee92773ca91d7048cd",
       "value": "100%"
      }
     },
     "00b89261dfc84854945dcab9da85345c": {
      "model_module": "@jupyter-widgets/controls",
      "model_module_version": "2.0.0",
      "model_name": "HTMLStyleModel",
      "state": {
       "description_width": "",
       "font_size": null,
       "text_color": null
      }
     },
     "00bcb1fee720405b83dad4e68f104bb0": {
      "model_module": "@jupyter-widgets/base",
      "model_module_version": "2.0.0",
      "model_name": "LayoutModel",
      "state": {}
     },
     "00e290e1a70043eaa52c61cf613ae1e9": {
      "model_module": "@jupyter-widgets/base",
      "model_module_version": "2.0.0",
      "model_name": "LayoutModel",
      "state": {}
     },
     "00f2ac40ebc047a889cb0ae3ca5011d9": {
      "model_module": "@jupyter-widgets/base",
      "model_module_version": "2.0.0",
      "model_name": "LayoutModel",
      "state": {}
     },
     "010cd0528d1f4395bd5c9c33668823b8": {
      "model_module": "@jupyter-widgets/controls",
      "model_module_version": "2.0.0",
      "model_name": "FloatProgressModel",
      "state": {
       "bar_style": "success",
       "layout": "IPY_MODEL_2eedfb722ce44bcebd64be10387dda2d",
       "max": 22,
       "style": "IPY_MODEL_78a5330932234b1892a7114939ab8060",
       "value": 22
      }
     },
     "01169ac80b924b42a93074a3e2824275": {
      "model_module": "@jupyter-widgets/controls",
      "model_module_version": "2.0.0",
      "model_name": "HBoxModel",
      "state": {
       "children": [
        "IPY_MODEL_ab111839d4f1473ebab0a5ef08799bf1",
        "IPY_MODEL_e059dbb9258749f2a76166ca3b274dbb",
        "IPY_MODEL_9c7f519364b0463793d86e4b53386e31"
       ],
       "layout": "IPY_MODEL_e7c38797f5dd49f1bb370877bf82d3cb"
      }
     },
     "01485f2c3bde47cd9f66055bf9faef28": {
      "model_module": "@jupyter-widgets/base",
      "model_module_version": "2.0.0",
      "model_name": "LayoutModel",
      "state": {}
     },
     "0163c4c90573432fa0dbb6b26cf24532": {
      "model_module": "@jupyter-widgets/controls",
      "model_module_version": "2.0.0",
      "model_name": "HTMLModel",
      "state": {
       "layout": "IPY_MODEL_c03cd09c6d9c4406aaf2fbabceb38da4",
       "style": "IPY_MODEL_af63fdba135b4455873a9ae93e2a0b22",
       "value": " 21/21 [00:00&lt;00:00, 384.04it/s]"
      }
     },
     "0196334d7f014848b99e0d1e077a0357": {
      "model_module": "@jupyter-widgets/controls",
      "model_module_version": "2.0.0",
      "model_name": "HTMLModel",
      "state": {
       "layout": "IPY_MODEL_8cf1c6015e1d471094067f69c9357948",
       "style": "IPY_MODEL_5e03f8767a10469bacc38cb20067eea9",
       "value": "100%"
      }
     },
     "01f53edf8d614a01bdb76623101b99ed": {
      "model_module": "@jupyter-widgets/base",
      "model_module_version": "2.0.0",
      "model_name": "LayoutModel",
      "state": {}
     },
     "01f8fd409b214479a6212e1fec7bbb48": {
      "model_module": "@jupyter-widgets/controls",
      "model_module_version": "2.0.0",
      "model_name": "HTMLModel",
      "state": {
       "layout": "IPY_MODEL_c9f0dbd532b344d9beefdd3a7510cc0f",
       "style": "IPY_MODEL_0cf62ee412f040b5bef3647f3e0aa49c",
       "value": "100%"
      }
     },
     "021f69e6cc564fb2909c27085cd3da6a": {
      "model_module": "@jupyter-widgets/controls",
      "model_module_version": "2.0.0",
      "model_name": "HBoxModel",
      "state": {
       "children": [
        "IPY_MODEL_9b3bc586fff2434ba3ae2b4b1c2fad7a",
        "IPY_MODEL_31ed9f7bf6144607a546892fec780b0b",
        "IPY_MODEL_c884b061b79749f2852571fe342c9951"
       ],
       "layout": "IPY_MODEL_9081b13e72594893a387ab10e67b0960"
      }
     },
     "02302431c9b54b868c851f01288f3230": {
      "model_module": "@jupyter-widgets/controls",
      "model_module_version": "2.0.0",
      "model_name": "HTMLStyleModel",
      "state": {
       "description_width": "",
       "font_size": null,
       "text_color": null
      }
     },
     "023f8bbcd94c47e6bf14f5ec6fb8e877": {
      "model_module": "@jupyter-widgets/controls",
      "model_module_version": "2.0.0",
      "model_name": "FloatProgressModel",
      "state": {
       "bar_style": "success",
       "layout": "IPY_MODEL_c8f13afd89eb4e49b023168808450726",
       "max": 21,
       "style": "IPY_MODEL_1a54ab96916544358ba1f295508040c5",
       "value": 21
      }
     },
     "024a81a3800f445d93661817fe7e67b3": {
      "model_module": "@jupyter-widgets/controls",
      "model_module_version": "2.0.0",
      "model_name": "HTMLModel",
      "state": {
       "layout": "IPY_MODEL_7f50dc4d5bac473baac3be5ef01d38b6",
       "style": "IPY_MODEL_797b792e6a184121a7be0dc3afac9287",
       "value": "100%"
      }
     },
     "0253610a17d447d494e6a221de8c391c": {
      "model_module": "@jupyter-widgets/controls",
      "model_module_version": "2.0.0",
      "model_name": "ProgressStyleModel",
      "state": {
       "description_width": ""
      }
     },
     "0274cfa3f06840ad90bfac59982a68bd": {
      "model_module": "@jupyter-widgets/base",
      "model_module_version": "2.0.0",
      "model_name": "LayoutModel",
      "state": {}
     },
     "0276e2b9405e4ccf93a6b3206b69edd8": {
      "model_module": "@jupyter-widgets/controls",
      "model_module_version": "2.0.0",
      "model_name": "HTMLModel",
      "state": {
       "layout": "IPY_MODEL_b29f8ea8ef464ae1a3eeac722d2463d6",
       "style": "IPY_MODEL_57e32e0136b747098e9e3774de4b6a76",
       "value": " 21/21 [00:00&lt;00:00, 20.39it/s]"
      }
     },
     "02a97ab68ce1404d8208399c0a56957f": {
      "model_module": "@jupyter-widgets/controls",
      "model_module_version": "2.0.0",
      "model_name": "HBoxModel",
      "state": {
       "children": [
        "IPY_MODEL_ea4e13ddd4504d04ba003d6cb12c16cf",
        "IPY_MODEL_2f8d8a0a417d4e90878f14217209cadf",
        "IPY_MODEL_2cb221b70db84f5c98d7be72dd880203"
       ],
       "layout": "IPY_MODEL_7c856ea2d0a74275bcda2710018b1c3c"
      }
     },
     "02ebeffee60d4fea8a810aa20e64682b": {
      "model_module": "@jupyter-widgets/controls",
      "model_module_version": "2.0.0",
      "model_name": "FloatProgressModel",
      "state": {
       "bar_style": "success",
       "layout": "IPY_MODEL_890d50ab038e47798f7bca66202d26a4",
       "max": 23,
       "style": "IPY_MODEL_ef8a91b7b87b4fe2847be6f936223d58",
       "value": 23
      }
     },
     "034a76f06cab4a7e8bf0146f0c71fa8d": {
      "model_module": "@jupyter-widgets/base",
      "model_module_version": "2.0.0",
      "model_name": "LayoutModel",
      "state": {}
     },
     "034a804055474b3cba0447543e26024e": {
      "model_module": "@jupyter-widgets/base",
      "model_module_version": "2.0.0",
      "model_name": "LayoutModel",
      "state": {}
     },
     "03683941087b4ec6af359f8b30b82e18": {
      "model_module": "@jupyter-widgets/controls",
      "model_module_version": "2.0.0",
      "model_name": "HTMLStyleModel",
      "state": {
       "description_width": "",
       "font_size": null,
       "text_color": null
      }
     },
     "03720eed3c02485dba3b708b85aa1fe5": {
      "model_module": "@jupyter-widgets/controls",
      "model_module_version": "2.0.0",
      "model_name": "ProgressStyleModel",
      "state": {
       "description_width": ""
      }
     },
     "037d0d40cad44736b5eaa287484364ea": {
      "model_module": "@jupyter-widgets/base",
      "model_module_version": "2.0.0",
      "model_name": "LayoutModel",
      "state": {}
     },
     "03be1f89a3a149dea4f3bb019cbf174b": {
      "model_module": "@jupyter-widgets/controls",
      "model_module_version": "2.0.0",
      "model_name": "HTMLStyleModel",
      "state": {
       "description_width": "",
       "font_size": null,
       "text_color": null
      }
     },
     "03d3639933414e12922ad62caab58c5a": {
      "model_module": "@jupyter-widgets/controls",
      "model_module_version": "2.0.0",
      "model_name": "HTMLStyleModel",
      "state": {
       "description_width": "",
       "font_size": null,
       "text_color": null
      }
     },
     "03de9eed7ac74cd796ec052a0c5442b3": {
      "model_module": "@jupyter-widgets/controls",
      "model_module_version": "2.0.0",
      "model_name": "ProgressStyleModel",
      "state": {
       "description_width": ""
      }
     },
     "03e626160cca464fa3a1b00bd91d6b4c": {
      "model_module": "@jupyter-widgets/controls",
      "model_module_version": "2.0.0",
      "model_name": "HTMLModel",
      "state": {
       "layout": "IPY_MODEL_096fef47b2ab43ebaa11e9fbe696f5c6",
       "style": "IPY_MODEL_2d2cab5db7f147f0845a2168bd4bc0fb",
       "value": " 21/21 [00:00&lt;00:00, 375.97it/s]"
      }
     },
     "03f104dd4fe44b0fb64b12f6fa9dff07": {
      "model_module": "@jupyter-widgets/controls",
      "model_module_version": "2.0.0",
      "model_name": "FloatProgressModel",
      "state": {
       "bar_style": "success",
       "layout": "IPY_MODEL_9ceedc28a2564b6d8d1537a53e8dd7b1",
       "max": 20,
       "style": "IPY_MODEL_3da897c3a2c148eea610a346dfd03d89",
       "value": 20
      }
     },
     "04028b0b345d4df8a13af3fe2efd7b4a": {
      "model_module": "@jupyter-widgets/base",
      "model_module_version": "2.0.0",
      "model_name": "LayoutModel",
      "state": {}
     },
     "04167eba29a84ee89a908e1182a573cc": {
      "model_module": "@jupyter-widgets/controls",
      "model_module_version": "2.0.0",
      "model_name": "HBoxModel",
      "state": {
       "children": [
        "IPY_MODEL_73f22001b0964d4598029fa0d4429bed",
        "IPY_MODEL_3ada34a620c04815a81cf51134f9c769",
        "IPY_MODEL_d0463ed3ab9e44df8085db1c141315d1"
       ],
       "layout": "IPY_MODEL_51a28a4f757441548ee19e5e0ecf79c8"
      }
     },
     "043749c03de7400a9f35fa091009527d": {
      "model_module": "@jupyter-widgets/base",
      "model_module_version": "2.0.0",
      "model_name": "LayoutModel",
      "state": {}
     },
     "0438179efe264daa8ac739d47aca0a60": {
      "model_module": "@jupyter-widgets/controls",
      "model_module_version": "2.0.0",
      "model_name": "FloatProgressModel",
      "state": {
       "bar_style": "success",
       "layout": "IPY_MODEL_463f04fa1777427ba2406f0144863557",
       "max": 22,
       "style": "IPY_MODEL_7378f5241138440facdfc2c78befbaa9",
       "value": 22
      }
     },
     "045e45d858a44b7cad99642dc632d4c7": {
      "model_module": "@jupyter-widgets/controls",
      "model_module_version": "2.0.0",
      "model_name": "HTMLStyleModel",
      "state": {
       "description_width": "",
       "font_size": null,
       "text_color": null
      }
     },
     "049b581696e443d1b44ef6c8a61afbc8": {
      "model_module": "@jupyter-widgets/controls",
      "model_module_version": "2.0.0",
      "model_name": "HTMLModel",
      "state": {
       "layout": "IPY_MODEL_cb3470b37aaf40ac85e5516b75437a84",
       "style": "IPY_MODEL_47e9fbce9aa943118f09aa3a945f8d84",
       "value": " 23/23 [00:00&lt;00:00, 22.50it/s]"
      }
     },
     "049da396c62246dcac8782430ebaed0a": {
      "model_module": "@jupyter-widgets/controls",
      "model_module_version": "2.0.0",
      "model_name": "HTMLStyleModel",
      "state": {
       "description_width": "",
       "font_size": null,
       "text_color": null
      }
     },
     "04a06792012d45e1b14d9c7740e1b70e": {
      "model_module": "@jupyter-widgets/controls",
      "model_module_version": "2.0.0",
      "model_name": "HTMLModel",
      "state": {
       "layout": "IPY_MODEL_1ad9f2dc893e4b68aba5b147da95dd6b",
       "style": "IPY_MODEL_bfc0196b894a45d8b21002055a685be7",
       "value": "100%"
      }
     },
     "04b4931234f14fcebd1ee9f30bb34913": {
      "model_module": "@jupyter-widgets/controls",
      "model_module_version": "2.0.0",
      "model_name": "HTMLStyleModel",
      "state": {
       "description_width": "",
       "font_size": null,
       "text_color": null
      }
     },
     "04cf976c61634c7ba5a9acfac7d352f6": {
      "model_module": "@jupyter-widgets/base",
      "model_module_version": "2.0.0",
      "model_name": "LayoutModel",
      "state": {}
     },
     "04e427e5f8164e9b98552dbf9b0022bf": {
      "model_module": "@jupyter-widgets/controls",
      "model_module_version": "2.0.0",
      "model_name": "HTMLStyleModel",
      "state": {
       "description_width": "",
       "font_size": null,
       "text_color": null
      }
     },
     "04ea98fa17394e6a852195ccaa31e6ce": {
      "model_module": "@jupyter-widgets/controls",
      "model_module_version": "2.0.0",
      "model_name": "HTMLModel",
      "state": {
       "layout": "IPY_MODEL_f98e416e34424f7da3884b344bd7f13d",
       "style": "IPY_MODEL_2d2f10c19095429b8e7b1b1eac9000a9",
       "value": "100%"
      }
     },
     "05130e7b2c414e0a8f4f60986945cde4": {
      "model_module": "@jupyter-widgets/controls",
      "model_module_version": "2.0.0",
      "model_name": "HBoxModel",
      "state": {
       "children": [
        "IPY_MODEL_b3d359d903144a6eb42a3fab5263003a",
        "IPY_MODEL_27d7e7bd9bf34979ab28610706f6c319",
        "IPY_MODEL_2311d732fdfc41ad8c4e252f787fa36d"
       ],
       "layout": "IPY_MODEL_f03505623137483ab5203a9f7d444693"
      }
     },
     "053ea62716054397b5d3d7812f3e4933": {
      "model_module": "@jupyter-widgets/controls",
      "model_module_version": "2.0.0",
      "model_name": "ProgressStyleModel",
      "state": {
       "description_width": ""
      }
     },
     "0549261006184b4b9bab0817b8ffdff3": {
      "model_module": "@jupyter-widgets/controls",
      "model_module_version": "2.0.0",
      "model_name": "HTMLModel",
      "state": {
       "layout": "IPY_MODEL_fe69ef6164de4e2284f9715c03a0daea",
       "style": "IPY_MODEL_b60b06794f72443889bae233e577e017",
       "value": "100%"
      }
     },
     "056a98d8ef6f4543b1cfc5ffee6dded9": {
      "model_module": "@jupyter-widgets/base",
      "model_module_version": "2.0.0",
      "model_name": "LayoutModel",
      "state": {}
     },
     "057a3d9e7b2f48288a23db5722c7c3a0": {
      "model_module": "@jupyter-widgets/controls",
      "model_module_version": "2.0.0",
      "model_name": "HTMLModel",
      "state": {
       "layout": "IPY_MODEL_89712e2a70f442e1a239373e00b88ebd",
       "style": "IPY_MODEL_f35bd80a23904f9b8f1b44a1e8c273e0",
       "value": "100%"
      }
     },
     "057be9bb1404438ba024b15f91f147af": {
      "model_module": "@jupyter-widgets/controls",
      "model_module_version": "2.0.0",
      "model_name": "HTMLModel",
      "state": {
       "layout": "IPY_MODEL_e30e6d119f05498384bd9eeaff9ad4ba",
       "style": "IPY_MODEL_a1deb65aa29542f0b5261784241c8179",
       "value": " 21/21 [00:00&lt;00:00, 31.68it/s]"
      }
     },
     "05ea0051e72b4d7398a57d024ab57ff1": {
      "model_module": "@jupyter-widgets/base",
      "model_module_version": "2.0.0",
      "model_name": "LayoutModel",
      "state": {}
     },
     "0610c34be7354ef38e5499df40caba43": {
      "model_module": "@jupyter-widgets/controls",
      "model_module_version": "2.0.0",
      "model_name": "FloatProgressModel",
      "state": {
       "bar_style": "success",
       "layout": "IPY_MODEL_862cb9f09ae64944ad7edaa2608283b3",
       "max": 20,
       "style": "IPY_MODEL_e08cbe741ad84811b4696c4b1a272203",
       "value": 20
      }
     },
     "06167b66760c44f1a15203f35c4832a0": {
      "model_module": "@jupyter-widgets/base",
      "model_module_version": "2.0.0",
      "model_name": "LayoutModel",
      "state": {}
     },
     "064626868d7448f39a6952f3b4396585": {
      "model_module": "@jupyter-widgets/controls",
      "model_module_version": "2.0.0",
      "model_name": "HTMLModel",
      "state": {
       "layout": "IPY_MODEL_c57e062a726149b985881546894181e1",
       "style": "IPY_MODEL_99fb5ce728184c44aeeff279f781e078",
       "value": " 21/21 [00:00&lt;00:00, 30.80it/s]"
      }
     },
     "064885bf3f8041c4b9ec18aa586f1244": {
      "model_module": "@jupyter-widgets/controls",
      "model_module_version": "2.0.0",
      "model_name": "HTMLStyleModel",
      "state": {
       "description_width": "",
       "font_size": null,
       "text_color": null
      }
     },
     "064a7da9d5b547fdbb6adc0df6b52112": {
      "model_module": "@jupyter-widgets/controls",
      "model_module_version": "2.0.0",
      "model_name": "ProgressStyleModel",
      "state": {
       "description_width": ""
      }
     },
     "064d4244f2144ed4b6f31694865cd8bc": {
      "model_module": "@jupyter-widgets/base",
      "model_module_version": "2.0.0",
      "model_name": "LayoutModel",
      "state": {}
     },
     "06626d855a4e4753aafe57e27df9beea": {
      "model_module": "@jupyter-widgets/base",
      "model_module_version": "2.0.0",
      "model_name": "LayoutModel",
      "state": {}
     },
     "06a88a3f7a804bbd81115cdeb9bef043": {
      "model_module": "@jupyter-widgets/controls",
      "model_module_version": "2.0.0",
      "model_name": "HTMLStyleModel",
      "state": {
       "description_width": "",
       "font_size": null,
       "text_color": null
      }
     },
     "06e36aae196249958cc5e601e215773e": {
      "model_module": "@jupyter-widgets/controls",
      "model_module_version": "2.0.0",
      "model_name": "HTMLModel",
      "state": {
       "layout": "IPY_MODEL_9ace82690f8e4f33929572206eaa34d3",
       "style": "IPY_MODEL_facd61ed08e1484e80450b373c8433df",
       "value": "100%"
      }
     },
     "06e5dbe6b3404d81badf41f97812c1be": {
      "model_module": "@jupyter-widgets/controls",
      "model_module_version": "2.0.0",
      "model_name": "ProgressStyleModel",
      "state": {
       "description_width": ""
      }
     },
     "06f3d92149824e97a951c71879c5fbc5": {
      "model_module": "@jupyter-widgets/base",
      "model_module_version": "2.0.0",
      "model_name": "LayoutModel",
      "state": {}
     },
     "07009820049b44a39bc747acda27ff4c": {
      "model_module": "@jupyter-widgets/controls",
      "model_module_version": "2.0.0",
      "model_name": "HTMLStyleModel",
      "state": {
       "description_width": "",
       "font_size": null,
       "text_color": null
      }
     },
     "071c9e9077504904ae457ef4fea4caa6": {
      "model_module": "@jupyter-widgets/controls",
      "model_module_version": "2.0.0",
      "model_name": "HTMLStyleModel",
      "state": {
       "description_width": "",
       "font_size": null,
       "text_color": null
      }
     },
     "072baf0ce18c490da90418a30d834709": {
      "model_module": "@jupyter-widgets/base",
      "model_module_version": "2.0.0",
      "model_name": "LayoutModel",
      "state": {}
     },
     "0739dc867072400fb3d5566e7fc61ee5": {
      "model_module": "@jupyter-widgets/controls",
      "model_module_version": "2.0.0",
      "model_name": "HTMLModel",
      "state": {
       "layout": "IPY_MODEL_94e106df10024b28a72030dbfa33f6f4",
       "style": "IPY_MODEL_180685eefe1146f58e651ff0950396ba",
       "value": "100%"
      }
     },
     "074954463b354b4d95e2591a6c6089c2": {
      "model_module": "@jupyter-widgets/base",
      "model_module_version": "2.0.0",
      "model_name": "LayoutModel",
      "state": {}
     },
     "074d2bd510ed46b68b6d24fe9ebde7a5": {
      "model_module": "@jupyter-widgets/base",
      "model_module_version": "2.0.0",
      "model_name": "LayoutModel",
      "state": {}
     },
     "074eb1bc9e344362bd0b478adeb8b469": {
      "model_module": "@jupyter-widgets/controls",
      "model_module_version": "2.0.0",
      "model_name": "FloatProgressModel",
      "state": {
       "bar_style": "success",
       "layout": "IPY_MODEL_88006ccbda614c9089c98c8c3b50ec5c",
       "max": 20,
       "style": "IPY_MODEL_94e43495343f41c3b3e981d7fc24b32e",
       "value": 20
      }
     },
     "0762651c99b14e98a7e2d738404cec38": {
      "model_module": "@jupyter-widgets/base",
      "model_module_version": "2.0.0",
      "model_name": "LayoutModel",
      "state": {}
     },
     "077403a3a3124fa0807924c7b1c65963": {
      "model_module": "@jupyter-widgets/controls",
      "model_module_version": "2.0.0",
      "model_name": "ProgressStyleModel",
      "state": {
       "description_width": ""
      }
     },
     "0790465c53d84d098d97d4ebf8d9532c": {
      "model_module": "@jupyter-widgets/controls",
      "model_module_version": "2.0.0",
      "model_name": "HTMLStyleModel",
      "state": {
       "description_width": "",
       "font_size": null,
       "text_color": null
      }
     },
     "07b76b8ead3f44b9b848083af25d0ab0": {
      "model_module": "@jupyter-widgets/controls",
      "model_module_version": "2.0.0",
      "model_name": "HTMLStyleModel",
      "state": {
       "description_width": "",
       "font_size": null,
       "text_color": null
      }
     },
     "080ab066d4c14bb2bee7853b80068c26": {
      "model_module": "@jupyter-widgets/controls",
      "model_module_version": "2.0.0",
      "model_name": "HTMLModel",
      "state": {
       "layout": "IPY_MODEL_70380fd8da50458cac997265771d09cf",
       "style": "IPY_MODEL_8d6f8462b2454f009ccbd4857bae5a8d",
       "value": "100%"
      }
     },
     "080ba726b39e475ba6e1b34dce1230fe": {
      "model_module": "@jupyter-widgets/controls",
      "model_module_version": "2.0.0",
      "model_name": "HTMLStyleModel",
      "state": {
       "description_width": "",
       "font_size": null,
       "text_color": null
      }
     },
     "082eda71926c424dba8b2046caef8b35": {
      "model_module": "@jupyter-widgets/controls",
      "model_module_version": "2.0.0",
      "model_name": "FloatProgressModel",
      "state": {
       "bar_style": "success",
       "layout": "IPY_MODEL_ca226345670149d6b48b92b8caa5ddb0",
       "max": 23,
       "style": "IPY_MODEL_bff3c8a4d0cb41b989b410a390c2d0dc",
       "value": 23
      }
     },
     "08662451717b44edb69a32f103b2ee85": {
      "model_module": "@jupyter-widgets/controls",
      "model_module_version": "2.0.0",
      "model_name": "HTMLStyleModel",
      "state": {
       "description_width": "",
       "font_size": null,
       "text_color": null
      }
     },
     "089947d17cf04ea3b219f0e8070a4767": {
      "model_module": "@jupyter-widgets/base",
      "model_module_version": "2.0.0",
      "model_name": "LayoutModel",
      "state": {}
     },
     "08d927b765de4a8994964c0a86a8f7a2": {
      "model_module": "@jupyter-widgets/controls",
      "model_module_version": "2.0.0",
      "model_name": "HBoxModel",
      "state": {
       "children": [
        "IPY_MODEL_5fc454dbff27464c8761b29787ca7317",
        "IPY_MODEL_7ceacfc90ff3451dae33b196551d09e5",
        "IPY_MODEL_473dd1c545ef4898823286700de78451"
       ],
       "layout": "IPY_MODEL_ec1760d8b8a44060a55625f8cd361151"
      }
     },
     "08f87d3b99bc4d2e9df4bb444fbd10e5": {
      "model_module": "@jupyter-widgets/base",
      "model_module_version": "2.0.0",
      "model_name": "LayoutModel",
      "state": {}
     },
     "08ffe07a919740a880a840f5630ca000": {
      "model_module": "@jupyter-widgets/controls",
      "model_module_version": "2.0.0",
      "model_name": "HBoxModel",
      "state": {
       "children": [
        "IPY_MODEL_008063787ae948bfb1b2d535a34e4170",
        "IPY_MODEL_9cbf5cdbe16a4eed9cff0c0665a6426b",
        "IPY_MODEL_bc8da392912d4f4bacb301ff9a10c55b"
       ],
       "layout": "IPY_MODEL_d6eef81982374180a09cf381b44ecd1a"
      }
     },
     "09088c61df57416f82929c95e9d34fe1": {
      "model_module": "@jupyter-widgets/controls",
      "model_module_version": "2.0.0",
      "model_name": "HTMLModel",
      "state": {
       "layout": "IPY_MODEL_91860661530e42fc9aae1bd298d3cb37",
       "style": "IPY_MODEL_8ffa5c1ec49b42cf9d31b1553ec462b3",
       "value": " 20/20 [00:00&lt;00:00, 44.62it/s]"
      }
     },
     "091d8978d1464738b61868623aec331d": {
      "model_module": "@jupyter-widgets/controls",
      "model_module_version": "2.0.0",
      "model_name": "HBoxModel",
      "state": {
       "children": [
        "IPY_MODEL_b0e3ca3181f74b9aa61a07c244a021f7",
        "IPY_MODEL_21ed205483694fe8a3dcbfee4b650752",
        "IPY_MODEL_739b608e3e7849a8beb68db8db994aa8"
       ],
       "layout": "IPY_MODEL_9a7e947319e843f2a3cd1057b5246338"
      }
     },
     "095134ca4f8c4592a0d064a163ae30f9": {
      "model_module": "@jupyter-widgets/controls",
      "model_module_version": "2.0.0",
      "model_name": "FloatProgressModel",
      "state": {
       "bar_style": "success",
       "layout": "IPY_MODEL_bf9cff8f9650407b8c82e4feb29c2992",
       "max": 22,
       "style": "IPY_MODEL_415f36ff90cf4aafbb139cafef3cec4c",
       "value": 22
      }
     },
     "095ba8b14e8a4acf99b8e6b737bfc67b": {
      "model_module": "@jupyter-widgets/base",
      "model_module_version": "2.0.0",
      "model_name": "LayoutModel",
      "state": {}
     },
     "095d8bfb50f74ad2b49a108a2f5ca083": {
      "model_module": "@jupyter-widgets/base",
      "model_module_version": "2.0.0",
      "model_name": "LayoutModel",
      "state": {}
     },
     "096f1e8b95594d88b5e5750ab43ae546": {
      "model_module": "@jupyter-widgets/controls",
      "model_module_version": "2.0.0",
      "model_name": "HTMLModel",
      "state": {
       "layout": "IPY_MODEL_c58c837f5d1e4124855478275bcea6cb",
       "style": "IPY_MODEL_8d91a79530344ed1aa0a480193847cc7",
       "value": " 22/22 [00:00&lt;00:00, 37.45it/s]"
      }
     },
     "096fef47b2ab43ebaa11e9fbe696f5c6": {
      "model_module": "@jupyter-widgets/base",
      "model_module_version": "2.0.0",
      "model_name": "LayoutModel",
      "state": {}
     },
     "09a1bea22b5b4af2a7056a909648fdb1": {
      "model_module": "@jupyter-widgets/controls",
      "model_module_version": "2.0.0",
      "model_name": "ProgressStyleModel",
      "state": {
       "description_width": ""
      }
     },
     "09d7400f0d9d4768b0bff2aaf97e6566": {
      "model_module": "@jupyter-widgets/controls",
      "model_module_version": "2.0.0",
      "model_name": "HBoxModel",
      "state": {
       "children": [
        "IPY_MODEL_0a0e6bcc3f984af5bbbf133b41b9f0d8",
        "IPY_MODEL_f1ba2db291c04c9eac1a9f87e92efbb9",
        "IPY_MODEL_bd5b5212a4cb4d07a3547405cb96aadd"
       ],
       "layout": "IPY_MODEL_8841f3b5f6cf48cd8e65459c67727693"
      }
     },
     "09eec1fd8da94c7bb377721310afe082": {
      "model_module": "@jupyter-widgets/controls",
      "model_module_version": "2.0.0",
      "model_name": "HTMLModel",
      "state": {
       "layout": "IPY_MODEL_6532d33da6414eb6ac7b2848a0555db1",
       "style": "IPY_MODEL_9ff6d9f046da47b4a26dfc6b029e6ded",
       "value": " 22/22 [00:00&lt;00:00, 50.13it/s]"
      }
     },
     "09fd729b9275402ca70845a3aa97a183": {
      "model_module": "@jupyter-widgets/base",
      "model_module_version": "2.0.0",
      "model_name": "LayoutModel",
      "state": {}
     },
     "0a0e6bcc3f984af5bbbf133b41b9f0d8": {
      "model_module": "@jupyter-widgets/controls",
      "model_module_version": "2.0.0",
      "model_name": "HTMLModel",
      "state": {
       "layout": "IPY_MODEL_320f9f616e1743a5ad82a886d55e028a",
       "style": "IPY_MODEL_a4e64b37a5b04293bfb180e1d6ec2ab5",
       "value": "100%"
      }
     },
     "0a15bb5f4d1c44aeac9ad36d2ccdbfda": {
      "model_module": "@jupyter-widgets/controls",
      "model_module_version": "2.0.0",
      "model_name": "HBoxModel",
      "state": {
       "children": [
        "IPY_MODEL_1e603c6235854c1a8cbeea4631e21dd8",
        "IPY_MODEL_5bcd6f9339154afb88e4348e89d18dea",
        "IPY_MODEL_09088c61df57416f82929c95e9d34fe1"
       ],
       "layout": "IPY_MODEL_f7e83b0c32d249119844df85ed067818"
      }
     },
     "0a33a646947d4c8995056b13e682195e": {
      "model_module": "@jupyter-widgets/controls",
      "model_module_version": "2.0.0",
      "model_name": "HTMLStyleModel",
      "state": {
       "description_width": "",
       "font_size": null,
       "text_color": null
      }
     },
     "0a5df03225524b3c821c07a2b2fb764d": {
      "model_module": "@jupyter-widgets/base",
      "model_module_version": "2.0.0",
      "model_name": "LayoutModel",
      "state": {}
     },
     "0a63179a304a46aabf4fc426432ee609": {
      "model_module": "@jupyter-widgets/controls",
      "model_module_version": "2.0.0",
      "model_name": "ProgressStyleModel",
      "state": {
       "description_width": ""
      }
     },
     "0a6ef7fa58bc4866acc4aafec0046cf5": {
      "model_module": "@jupyter-widgets/controls",
      "model_module_version": "2.0.0",
      "model_name": "HBoxModel",
      "state": {
       "children": [
        "IPY_MODEL_b40627b55934487ab038e5d12e04e886",
        "IPY_MODEL_dea184ad638240b6a62e9c372042fbad",
        "IPY_MODEL_fbbebeb7257f45a4ad698c22b0767e30"
       ],
       "layout": "IPY_MODEL_f91348b76a574ff09e3568dd7cdf636d"
      }
     },
     "0a8b910ff7c74724b36e9e9484788a7b": {
      "model_module": "@jupyter-widgets/base",
      "model_module_version": "2.0.0",
      "model_name": "LayoutModel",
      "state": {}
     },
     "0a9285a1c65c4e1ca23b9acbb649dec7": {
      "model_module": "@jupyter-widgets/base",
      "model_module_version": "2.0.0",
      "model_name": "LayoutModel",
      "state": {}
     },
     "0aa5bed577984e27998d035a83c31b4f": {
      "model_module": "@jupyter-widgets/controls",
      "model_module_version": "2.0.0",
      "model_name": "HTMLModel",
      "state": {
       "layout": "IPY_MODEL_aabe5f4037f44d1f9e679d41e99b3bcd",
       "style": "IPY_MODEL_39b08ef4da404a289820ac0f754e8ad6",
       "value": " 23/23 [00:00&lt;00:00, 37.50it/s]"
      }
     },
     "0ac080b090e94dfa980872911a336b70": {
      "model_module": "@jupyter-widgets/base",
      "model_module_version": "2.0.0",
      "model_name": "LayoutModel",
      "state": {}
     },
     "0ac22b1fe11a498caf87da2f13a6a9f7": {
      "model_module": "@jupyter-widgets/controls",
      "model_module_version": "2.0.0",
      "model_name": "HTMLStyleModel",
      "state": {
       "description_width": "",
       "font_size": null,
       "text_color": null
      }
     },
     "0acb0c2eba2c4f9481b70d64018188e0": {
      "model_module": "@jupyter-widgets/base",
      "model_module_version": "2.0.0",
      "model_name": "LayoutModel",
      "state": {}
     },
     "0adda21ca6b8469e91d5feb055d55775": {
      "model_module": "@jupyter-widgets/controls",
      "model_module_version": "2.0.0",
      "model_name": "HBoxModel",
      "state": {
       "children": [
        "IPY_MODEL_23237d5f0b8549d68ec7170850455330",
        "IPY_MODEL_18ab2092fbd04fccb61b6b8d58deaa92",
        "IPY_MODEL_a6af429d7043425ca334f3ef1916d150"
       ],
       "layout": "IPY_MODEL_58633d6faa554579b5648694c591688a"
      }
     },
     "0ae38224951046d0976f96dc29179744": {
      "model_module": "@jupyter-widgets/base",
      "model_module_version": "2.0.0",
      "model_name": "LayoutModel",
      "state": {}
     },
     "0b3d157de13f4d0285f83e3a7a99d728": {
      "model_module": "@jupyter-widgets/controls",
      "model_module_version": "2.0.0",
      "model_name": "ProgressStyleModel",
      "state": {
       "description_width": ""
      }
     },
     "0b5512b6c03146a6aed7191353253196": {
      "model_module": "@jupyter-widgets/base",
      "model_module_version": "2.0.0",
      "model_name": "LayoutModel",
      "state": {}
     },
     "0b7451a508b74705983edea928f18aa4": {
      "model_module": "@jupyter-widgets/controls",
      "model_module_version": "2.0.0",
      "model_name": "HBoxModel",
      "state": {
       "children": [
        "IPY_MODEL_b4563065573c44ebaf27a027736b3ff3",
        "IPY_MODEL_38cae521a1de4648b8403c1d8726e63b",
        "IPY_MODEL_19261038b2364c598b5b0bd519753cbf"
       ],
       "layout": "IPY_MODEL_79bd934cfd684aad8fc55e23093665e6"
      }
     },
     "0b7ce94f42ff4f6896ac6f46ae11298e": {
      "model_module": "@jupyter-widgets/controls",
      "model_module_version": "2.0.0",
      "model_name": "HTMLStyleModel",
      "state": {
       "description_width": "",
       "font_size": null,
       "text_color": null
      }
     },
     "0bcd4215e5a1492f8fec6b40fda752b5": {
      "model_module": "@jupyter-widgets/controls",
      "model_module_version": "2.0.0",
      "model_name": "HTMLStyleModel",
      "state": {
       "description_width": "",
       "font_size": null,
       "text_color": null
      }
     },
     "0c019e88327b4c278508f26f224746ca": {
      "model_module": "@jupyter-widgets/controls",
      "model_module_version": "2.0.0",
      "model_name": "FloatProgressModel",
      "state": {
       "bar_style": "success",
       "layout": "IPY_MODEL_269b0553974b41bb9e9e4e186e6ebfcf",
       "max": 20,
       "style": "IPY_MODEL_12171c740e2e435997dca8f939ba2dcf",
       "value": 20
      }
     },
     "0c1a8398e59a4d03ae9b13da9f51debf": {
      "model_module": "@jupyter-widgets/controls",
      "model_module_version": "2.0.0",
      "model_name": "HTMLModel",
      "state": {
       "layout": "IPY_MODEL_c5aee72fb62943a995b911ea0f9fe506",
       "style": "IPY_MODEL_3e06592233d642cd920eafa84b5d7ad9",
       "value": " 21/21 [00:00&lt;00:00, 377.42it/s]"
      }
     },
     "0c28dcedfd89448581df44efe76a96f3": {
      "model_module": "@jupyter-widgets/controls",
      "model_module_version": "2.0.0",
      "model_name": "HTMLModel",
      "state": {
       "layout": "IPY_MODEL_2f655dcd27ba4d0f86b1db7e7460bc0d",
       "style": "IPY_MODEL_58be58be22e64dc49ef8ed4b657a619e",
       "value": "100%"
      }
     },
     "0c36ed2b049548b8877e91b59241e4ea": {
      "model_module": "@jupyter-widgets/base",
      "model_module_version": "2.0.0",
      "model_name": "LayoutModel",
      "state": {}
     },
     "0c525bef9b5a4767b630261ebcddecf9": {
      "model_module": "@jupyter-widgets/base",
      "model_module_version": "2.0.0",
      "model_name": "LayoutModel",
      "state": {}
     },
     "0c8b71ceb6b046e9afe303a6ff9dc2c7": {
      "model_module": "@jupyter-widgets/controls",
      "model_module_version": "2.0.0",
      "model_name": "FloatProgressModel",
      "state": {
       "bar_style": "success",
       "layout": "IPY_MODEL_4080750f3689451e864c68ac62bba192",
       "max": 23,
       "style": "IPY_MODEL_b280a8bc874c4ca284c237c858f247c9",
       "value": 23
      }
     },
     "0cbbdb0b697e4ad0a0f19a7ddc514638": {
      "model_module": "@jupyter-widgets/base",
      "model_module_version": "2.0.0",
      "model_name": "LayoutModel",
      "state": {}
     },
     "0cf5b09f8c0d4932ade1afd8c87962cb": {
      "model_module": "@jupyter-widgets/base",
      "model_module_version": "2.0.0",
      "model_name": "LayoutModel",
      "state": {}
     },
     "0cf62ee412f040b5bef3647f3e0aa49c": {
      "model_module": "@jupyter-widgets/controls",
      "model_module_version": "2.0.0",
      "model_name": "HTMLStyleModel",
      "state": {
       "description_width": "",
       "font_size": null,
       "text_color": null
      }
     },
     "0d41d968ea044d1189bd2bb0e563d016": {
      "model_module": "@jupyter-widgets/controls",
      "model_module_version": "2.0.0",
      "model_name": "HTMLModel",
      "state": {
       "layout": "IPY_MODEL_8919ae16b196487abad921ddd5625f1b",
       "style": "IPY_MODEL_8e9448f628f0426db3125a27d8835483",
       "value": "100%"
      }
     },
     "0d5cd2ae19cb4270a3b1e87e1ddf9b99": {
      "model_module": "@jupyter-widgets/controls",
      "model_module_version": "2.0.0",
      "model_name": "HTMLModel",
      "state": {
       "layout": "IPY_MODEL_bbbb7a8a800843969740639b07c8c5e7",
       "style": "IPY_MODEL_5b8251a86da740c6be504fe366f91e6d",
       "value": "100%"
      }
     },
     "0d6db134f1b4441cb3f03e30824700d9": {
      "model_module": "@jupyter-widgets/base",
      "model_module_version": "2.0.0",
      "model_name": "LayoutModel",
      "state": {}
     },
     "0dd77c7dc15944db8de8b61edf8bce51": {
      "model_module": "@jupyter-widgets/base",
      "model_module_version": "2.0.0",
      "model_name": "LayoutModel",
      "state": {}
     },
     "0e14b12075db4a6583f1e81d3c0767d3": {
      "model_module": "@jupyter-widgets/base",
      "model_module_version": "2.0.0",
      "model_name": "LayoutModel",
      "state": {}
     },
     "0e2be20d018f4a29b08e8060e1bd4e4f": {
      "model_module": "@jupyter-widgets/controls",
      "model_module_version": "2.0.0",
      "model_name": "HTMLStyleModel",
      "state": {
       "description_width": "",
       "font_size": null,
       "text_color": null
      }
     },
     "0e8bb9dd159b4a7d8f68f9a2449b45f0": {
      "model_module": "@jupyter-widgets/controls",
      "model_module_version": "2.0.0",
      "model_name": "FloatProgressModel",
      "state": {
       "bar_style": "success",
       "layout": "IPY_MODEL_5e881ba426d24eeab8bcd7762789210d",
       "max": 22,
       "style": "IPY_MODEL_0253610a17d447d494e6a221de8c391c",
       "value": 22
      }
     },
     "0ec8d3dabbbf4032b24247c104499676": {
      "model_module": "@jupyter-widgets/base",
      "model_module_version": "2.0.0",
      "model_name": "LayoutModel",
      "state": {}
     },
     "0eee42f5b88f467eb3b19c13e5966b13": {
      "model_module": "@jupyter-widgets/controls",
      "model_module_version": "2.0.0",
      "model_name": "FloatProgressModel",
      "state": {
       "bar_style": "success",
       "layout": "IPY_MODEL_9cf4530d8f1a4055a0eb96fe40986d6a",
       "max": 22,
       "style": "IPY_MODEL_d67b6652ad504953b1403ee884a49bf4",
       "value": 22
      }
     },
     "0eeea9d305644a5e8f4057b058c1b09f": {
      "model_module": "@jupyter-widgets/controls",
      "model_module_version": "2.0.0",
      "model_name": "HTMLModel",
      "state": {
       "layout": "IPY_MODEL_637fe1c612204b02b762818fb8c3d2a9",
       "style": "IPY_MODEL_69954deae58a42eb9fcbdcd3776256a2",
       "value": " 23/23 [00:00&lt;00:00, 44.73it/s]"
      }
     },
     "0f26151a36964550950306bd2bc41e40": {
      "model_module": "@jupyter-widgets/base",
      "model_module_version": "2.0.0",
      "model_name": "LayoutModel",
      "state": {}
     },
     "0f2a67340a3f41be9948b0042c103f73": {
      "model_module": "@jupyter-widgets/base",
      "model_module_version": "2.0.0",
      "model_name": "LayoutModel",
      "state": {}
     },
     "0f39ef4315344927ab789e7c4d5deb2e": {
      "model_module": "@jupyter-widgets/controls",
      "model_module_version": "2.0.0",
      "model_name": "HTMLModel",
      "state": {
       "layout": "IPY_MODEL_1eae64dcc80d4f1884d712650a6698b3",
       "style": "IPY_MODEL_07b76b8ead3f44b9b848083af25d0ab0",
       "value": " 21/21 [00:00&lt;00:00, 30.51it/s]"
      }
     },
     "0f643722c1744b4e8f8716f24cb42a36": {
      "model_module": "@jupyter-widgets/controls",
      "model_module_version": "2.0.0",
      "model_name": "HTMLModel",
      "state": {
       "layout": "IPY_MODEL_08f87d3b99bc4d2e9df4bb444fbd10e5",
       "style": "IPY_MODEL_2728aadae0ad4cf7b30300b8dd285639",
       "value": " 20/20 [00:00&lt;00:00, 45.23it/s]"
      }
     },
     "0fa9546a4ee942e29e83c9fd70997022": {
      "model_module": "@jupyter-widgets/controls",
      "model_module_version": "2.0.0",
      "model_name": "HTMLStyleModel",
      "state": {
       "description_width": "",
       "font_size": null,
       "text_color": null
      }
     },
     "0fb12a878c804028947399b5e9d95c19": {
      "model_module": "@jupyter-widgets/controls",
      "model_module_version": "2.0.0",
      "model_name": "FloatProgressModel",
      "state": {
       "bar_style": "success",
       "layout": "IPY_MODEL_a75e636a21a54d9e8214e8379bd484e3",
       "max": 20,
       "style": "IPY_MODEL_8d9dd6f09f664660878882932ce4e385",
       "value": 20
      }
     },
     "0fb6c75d4537484cae2d6dbd289b54f0": {
      "model_module": "@jupyter-widgets/controls",
      "model_module_version": "2.0.0",
      "model_name": "HTMLModel",
      "state": {
       "layout": "IPY_MODEL_69f6a3f75fe14155b95339b982b9b7c2",
       "style": "IPY_MODEL_a4013799a0e44c58aed6ee70600427fb",
       "value": " 20/20 [00:00&lt;00:00, 23.89it/s]"
      }
     },
     "0fbd65da911b4572a1dbee9009ed26d3": {
      "model_module": "@jupyter-widgets/controls",
      "model_module_version": "2.0.0",
      "model_name": "HBoxModel",
      "state": {
       "children": [
        "IPY_MODEL_b3e314d254b24927ab4891abd39fa323",
        "IPY_MODEL_ea9cd1d5250c4973ac03a3e1ed9855cb",
        "IPY_MODEL_0eeea9d305644a5e8f4057b058c1b09f"
       ],
       "layout": "IPY_MODEL_77ebbbfe7fc746e584b4d8a8de2cfb75"
      }
     },
     "0fdeecc09d4747558c3fb61a3b2202a6": {
      "model_module": "@jupyter-widgets/controls",
      "model_module_version": "2.0.0",
      "model_name": "FloatProgressModel",
      "state": {
       "bar_style": "success",
       "layout": "IPY_MODEL_df71687c013344b6b88e58e1037fbf14",
       "max": 23,
       "style": "IPY_MODEL_432a0c6699a143a3a843901f7c5403ef",
       "value": 23
      }
     },
     "0fea6c1c18cf4795bc15b46680a196bb": {
      "model_module": "@jupyter-widgets/controls",
      "model_module_version": "2.0.0",
      "model_name": "HTMLModel",
      "state": {
       "layout": "IPY_MODEL_4e48efad5bae45a79dcb7fe8e6ddb322",
       "style": "IPY_MODEL_5f0d03a60ebf4aff9c7d6d1a44862263",
       "value": "100%"
      }
     },
     "0ff198182e2542b38116e3533b91ff3c": {
      "model_module": "@jupyter-widgets/controls",
      "model_module_version": "2.0.0",
      "model_name": "HBoxModel",
      "state": {
       "children": [
        "IPY_MODEL_45b2a2e21c8f4676b84f9dedb5bb8b03",
        "IPY_MODEL_94641b521ae84b818ceea52a0d6bd06c",
        "IPY_MODEL_d2f3268cbb6d45678325145053ce013b"
       ],
       "layout": "IPY_MODEL_09fd729b9275402ca70845a3aa97a183"
      }
     },
     "0ffc42dd5f3745668bfb2fb9509fb195": {
      "model_module": "@jupyter-widgets/controls",
      "model_module_version": "2.0.0",
      "model_name": "ProgressStyleModel",
      "state": {
       "description_width": ""
      }
     },
     "0ffe3ae005c1445da912dc66428cd556": {
      "model_module": "@jupyter-widgets/controls",
      "model_module_version": "2.0.0",
      "model_name": "HBoxModel",
      "state": {
       "children": [
        "IPY_MODEL_ae3a70014e904ad9a48102ebd7479a19",
        "IPY_MODEL_b874f82dbcfa42caa18ddfe301650f53",
        "IPY_MODEL_ddd14570736948cf873ce964385db292"
       ],
       "layout": "IPY_MODEL_83a981de592e4883bd5253f674f615a7"
      }
     },
     "101bd38894d64ceda9c54af3bf7e4921": {
      "model_module": "@jupyter-widgets/base",
      "model_module_version": "2.0.0",
      "model_name": "LayoutModel",
      "state": {}
     },
     "10242568e2a0451c8b0cc88fe114d793": {
      "model_module": "@jupyter-widgets/controls",
      "model_module_version": "2.0.0",
      "model_name": "HTMLModel",
      "state": {
       "layout": "IPY_MODEL_fdab151465ac4557a9a8dcc5974e5a6d",
       "style": "IPY_MODEL_52aed54d1a2a4e6694f52cdddbf4ee21",
       "value": "100%"
      }
     },
     "1065de16cdff4fb0bf29eb100394818c": {
      "model_module": "@jupyter-widgets/base",
      "model_module_version": "2.0.0",
      "model_name": "LayoutModel",
      "state": {}
     },
     "10784411cec841d293346ddb6925727c": {
      "model_module": "@jupyter-widgets/controls",
      "model_module_version": "2.0.0",
      "model_name": "HBoxModel",
      "state": {
       "children": [
        "IPY_MODEL_197ac8b1852d4c3ca397f4c91519ab61",
        "IPY_MODEL_ce717cf558904c47b0b02435b9737cb8",
        "IPY_MODEL_684109ed8357483ab39421b767323599"
       ],
       "layout": "IPY_MODEL_73d599ed110d4b6ba90162edefedf627"
      }
     },
     "10edd921788a4ab19997296ba9389766": {
      "model_module": "@jupyter-widgets/controls",
      "model_module_version": "2.0.0",
      "model_name": "FloatProgressModel",
      "state": {
       "bar_style": "success",
       "layout": "IPY_MODEL_3fb1f07431bf4fe380e5df76ebbd5c81",
       "max": 23,
       "style": "IPY_MODEL_37052dc9b9104a538673d82a1df3f34c",
       "value": 23
      }
     },
     "11259d0481804a5abaf5db8f9f451a5a": {
      "model_module": "@jupyter-widgets/controls",
      "model_module_version": "2.0.0",
      "model_name": "HBoxModel",
      "state": {
       "children": [
        "IPY_MODEL_18f326827530469fb9acdbc59781686d",
        "IPY_MODEL_20d6feb3b234449d8ee8c8d00284c3bf",
        "IPY_MODEL_b61f1d24548b4470ba35925a0f96e8f4"
       ],
       "layout": "IPY_MODEL_c5e22b5629324c519d1f235de77417ff"
      }
     },
     "1140272f545642398399d4b783389f96": {
      "model_module": "@jupyter-widgets/controls",
      "model_module_version": "2.0.0",
      "model_name": "HTMLStyleModel",
      "state": {
       "description_width": "",
       "font_size": null,
       "text_color": null
      }
     },
     "1168b2944dae492ea14dcb25f99305d1": {
      "model_module": "@jupyter-widgets/base",
      "model_module_version": "2.0.0",
      "model_name": "LayoutModel",
      "state": {}
     },
     "11929bf187ec4ab39c7bb004dd849eaa": {
      "model_module": "@jupyter-widgets/base",
      "model_module_version": "2.0.0",
      "model_name": "LayoutModel",
      "state": {}
     },
     "11c613cc673145aa8f2b41ba1d59a11f": {
      "model_module": "@jupyter-widgets/base",
      "model_module_version": "2.0.0",
      "model_name": "LayoutModel",
      "state": {}
     },
     "11e459d74fc94af1b01c0d68eb6ea77b": {
      "model_module": "@jupyter-widgets/controls",
      "model_module_version": "2.0.0",
      "model_name": "HBoxModel",
      "state": {
       "children": [
        "IPY_MODEL_989e076f1eb24dd78c85ce59212264a4",
        "IPY_MODEL_609a1cb2d76e46c0aa90711419ef93e1",
        "IPY_MODEL_2b4df78879284157837d6668e6d38817"
       ],
       "layout": "IPY_MODEL_96bf1ed7296d4499a9fe823961d2ae5b"
      }
     },
     "11e4753db8b54ca890ac96f036ca3f44": {
      "model_module": "@jupyter-widgets/base",
      "model_module_version": "2.0.0",
      "model_name": "LayoutModel",
      "state": {}
     },
     "11e8eeb7777c4c8c822918ffe51879f7": {
      "model_module": "@jupyter-widgets/base",
      "model_module_version": "2.0.0",
      "model_name": "LayoutModel",
      "state": {}
     },
     "11f13fdf0fff4877b09ece4af06b83d9": {
      "model_module": "@jupyter-widgets/controls",
      "model_module_version": "2.0.0",
      "model_name": "HTMLStyleModel",
      "state": {
       "description_width": "",
       "font_size": null,
       "text_color": null
      }
     },
     "11f5254209a1402c8f15911de71a4ba5": {
      "model_module": "@jupyter-widgets/base",
      "model_module_version": "2.0.0",
      "model_name": "LayoutModel",
      "state": {}
     },
     "12171c740e2e435997dca8f939ba2dcf": {
      "model_module": "@jupyter-widgets/controls",
      "model_module_version": "2.0.0",
      "model_name": "ProgressStyleModel",
      "state": {
       "description_width": ""
      }
     },
     "12566a4bebaf4f5796616754c441bef8": {
      "model_module": "@jupyter-widgets/base",
      "model_module_version": "2.0.0",
      "model_name": "LayoutModel",
      "state": {}
     },
     "128ffc6327e74ba39032c5fde0a5d2c4": {
      "model_module": "@jupyter-widgets/controls",
      "model_module_version": "2.0.0",
      "model_name": "HTMLModel",
      "state": {
       "layout": "IPY_MODEL_45253d45f15f4fe4b76b0a647c870dd4",
       "style": "IPY_MODEL_d213ec9e971045f5b7d8b2cfed2d99d1",
       "value": " 22/22 [00:00&lt;00:00, 38.25it/s]"
      }
     },
     "12ae41f843f8406da8f61df751e50cf6": {
      "model_module": "@jupyter-widgets/controls",
      "model_module_version": "2.0.0",
      "model_name": "HBoxModel",
      "state": {
       "children": [
        "IPY_MODEL_ec5a3e1ad45a49f397149b9b6a92e16c",
        "IPY_MODEL_ed55c29993424d58a50ac39237e611da",
        "IPY_MODEL_e8e5eafcc9ed462f9599d977e10bdf5e"
       ],
       "layout": "IPY_MODEL_074954463b354b4d95e2591a6c6089c2"
      }
     },
     "12ae9f6f299045c8a193d3d7835f1b04": {
      "model_module": "@jupyter-widgets/controls",
      "model_module_version": "2.0.0",
      "model_name": "HTMLModel",
      "state": {
       "layout": "IPY_MODEL_af2a6e21cf644bada2b9f9e4dd989596",
       "style": "IPY_MODEL_ca450e0f813e4465a958ab192965bfee",
       "value": " 20/20 [00:00&lt;00:00, 23.19it/s]"
      }
     },
     "12bc4662b5d3419582aed2e9d36346cd": {
      "model_module": "@jupyter-widgets/controls",
      "model_module_version": "2.0.0",
      "model_name": "HBoxModel",
      "state": {
       "children": [
        "IPY_MODEL_a2202a3999bf474894c376766daf785b",
        "IPY_MODEL_d560de40daec4fd88daee3365fd0a662",
        "IPY_MODEL_bcb26cc761b74854b3bc2b16a1830558"
       ],
       "layout": "IPY_MODEL_9783a5dbdd20400bb184cb0c6fde2c16"
      }
     },
     "12dad0a4bdd042659472daf031125ed7": {
      "model_module": "@jupyter-widgets/base",
      "model_module_version": "2.0.0",
      "model_name": "LayoutModel",
      "state": {}
     },
     "12fa206b0b9549fb844a911dc3af172d": {
      "model_module": "@jupyter-widgets/controls",
      "model_module_version": "2.0.0",
      "model_name": "HTMLModel",
      "state": {
       "layout": "IPY_MODEL_21809c47f888475eb7c0ccee14f277ae",
       "style": "IPY_MODEL_8d5763e8c7c04534997c6da0524a7327",
       "value": "100%"
      }
     },
     "130e9b7b7ec442d98885d76d956527ff": {
      "model_module": "@jupyter-widgets/base",
      "model_module_version": "2.0.0",
      "model_name": "LayoutModel",
      "state": {}
     },
     "131eb2aedfe848dca5cf0beb3e0838d5": {
      "model_module": "@jupyter-widgets/base",
      "model_module_version": "2.0.0",
      "model_name": "LayoutModel",
      "state": {}
     },
     "131f6e696720479d8178c0da7f129fb1": {
      "model_module": "@jupyter-widgets/base",
      "model_module_version": "2.0.0",
      "model_name": "LayoutModel",
      "state": {}
     },
     "1320686d3c924bf394157a30256721fa": {
      "model_module": "@jupyter-widgets/controls",
      "model_module_version": "2.0.0",
      "model_name": "HTMLStyleModel",
      "state": {
       "description_width": "",
       "font_size": null,
       "text_color": null
      }
     },
     "132a859ba8cd40039df46259f81184e0": {
      "model_module": "@jupyter-widgets/controls",
      "model_module_version": "2.0.0",
      "model_name": "HTMLStyleModel",
      "state": {
       "description_width": "",
       "font_size": null,
       "text_color": null
      }
     },
     "13552444d6d94907b6f3b7b64d45f8ad": {
      "model_module": "@jupyter-widgets/base",
      "model_module_version": "2.0.0",
      "model_name": "LayoutModel",
      "state": {}
     },
     "1395248bd20b4dffb23745af26fbecf1": {
      "model_module": "@jupyter-widgets/controls",
      "model_module_version": "2.0.0",
      "model_name": "ProgressStyleModel",
      "state": {
       "description_width": ""
      }
     },
     "139a024e932a4a35b58477eac2585838": {
      "model_module": "@jupyter-widgets/base",
      "model_module_version": "2.0.0",
      "model_name": "LayoutModel",
      "state": {}
     },
     "13c183b6e7e94d0385058848fa21579d": {
      "model_module": "@jupyter-widgets/base",
      "model_module_version": "2.0.0",
      "model_name": "LayoutModel",
      "state": {}
     },
     "13c1ba9ca3a14056a5cd129aa1f236f7": {
      "model_module": "@jupyter-widgets/base",
      "model_module_version": "2.0.0",
      "model_name": "LayoutModel",
      "state": {}
     },
     "13e3ca4f385048f6bc708d238d4eb2ad": {
      "model_module": "@jupyter-widgets/controls",
      "model_module_version": "2.0.0",
      "model_name": "FloatProgressModel",
      "state": {
       "bar_style": "success",
       "layout": "IPY_MODEL_1fbe5a34f335492aa23500c8f3326f3d",
       "max": 22,
       "style": "IPY_MODEL_9ec423df39e444a2aa02c7e62d640079",
       "value": 22
      }
     },
     "13ee396fd12e4ea79191322020beb382": {
      "model_module": "@jupyter-widgets/base",
      "model_module_version": "2.0.0",
      "model_name": "LayoutModel",
      "state": {}
     },
     "1458c9ffa3ab4e3e84fd378ab35a4d45": {
      "model_module": "@jupyter-widgets/controls",
      "model_module_version": "2.0.0",
      "model_name": "HTMLStyleModel",
      "state": {
       "description_width": "",
       "font_size": null,
       "text_color": null
      }
     },
     "146b4cd9cad2439a949aebd98f9410ab": {
      "model_module": "@jupyter-widgets/controls",
      "model_module_version": "2.0.0",
      "model_name": "HTMLModel",
      "state": {
       "layout": "IPY_MODEL_f44be6b8a0ab4806ac4e54f310142918",
       "style": "IPY_MODEL_20c5135223344acf9b7367791d013d1f",
       "value": "100%"
      }
     },
     "146bc3d98c914892be57afb3f2befe43": {
      "model_module": "@jupyter-widgets/base",
      "model_module_version": "2.0.0",
      "model_name": "LayoutModel",
      "state": {}
     },
     "14712229d1404b23a2ed9a4e44e07c54": {
      "model_module": "@jupyter-widgets/base",
      "model_module_version": "2.0.0",
      "model_name": "LayoutModel",
      "state": {}
     },
     "1479a1a4bb6e4c8eb26dc205df833d3d": {
      "model_module": "@jupyter-widgets/controls",
      "model_module_version": "2.0.0",
      "model_name": "HTMLStyleModel",
      "state": {
       "description_width": "",
       "font_size": null,
       "text_color": null
      }
     },
     "14d1f5d4631e4d48b5ddceb7d850ad9b": {
      "model_module": "@jupyter-widgets/base",
      "model_module_version": "2.0.0",
      "model_name": "LayoutModel",
      "state": {}
     },
     "14d3612a6d6242608585dc7f2a4ff67b": {
      "model_module": "@jupyter-widgets/base",
      "model_module_version": "2.0.0",
      "model_name": "LayoutModel",
      "state": {}
     },
     "14de8ba4a1bc4edd8764d341f7cd20c1": {
      "model_module": "@jupyter-widgets/base",
      "model_module_version": "2.0.0",
      "model_name": "LayoutModel",
      "state": {}
     },
     "150a08375f794ce5a5968ac535923828": {
      "model_module": "@jupyter-widgets/controls",
      "model_module_version": "2.0.0",
      "model_name": "ProgressStyleModel",
      "state": {
       "description_width": ""
      }
     },
     "150f1ee70f9e4743a21628cfc8ca31be": {
      "model_module": "@jupyter-widgets/controls",
      "model_module_version": "2.0.0",
      "model_name": "FloatProgressModel",
      "state": {
       "bar_style": "success",
       "layout": "IPY_MODEL_a7d0b69486204e5087facbb888ae8d3b",
       "max": 23,
       "style": "IPY_MODEL_162affdb9ec74500a345d961a348c959",
       "value": 23
      }
     },
     "152d96e0e61d464eb3644f82b499b470": {
      "model_module": "@jupyter-widgets/controls",
      "model_module_version": "2.0.0",
      "model_name": "HBoxModel",
      "state": {
       "children": [
        "IPY_MODEL_3d4e2334452b44f0a178b4acdb992c5e",
        "IPY_MODEL_548ecb930d89485fb20464599d34a02f",
        "IPY_MODEL_0c1a8398e59a4d03ae9b13da9f51debf"
       ],
       "layout": "IPY_MODEL_a6c5791e48f344b1bdbe1a8eea5e0409"
      }
     },
     "152fff33ae5848378fefbd66081cf27a": {
      "model_module": "@jupyter-widgets/controls",
      "model_module_version": "2.0.0",
      "model_name": "HTMLModel",
      "state": {
       "layout": "IPY_MODEL_f1e27ed563ab4b29890969cfb75b715d",
       "style": "IPY_MODEL_365c4d2ecdef47ef90af6468fc98a328",
       "value": "100%"
      }
     },
     "15351a13fcf540cfa49d62a33220b1c1": {
      "model_module": "@jupyter-widgets/controls",
      "model_module_version": "2.0.0",
      "model_name": "FloatProgressModel",
      "state": {
       "bar_style": "success",
       "layout": "IPY_MODEL_cf7300aea50f4ebc8dae226af4f45ef7",
       "max": 22,
       "style": "IPY_MODEL_46364be0089b41fa98ffa36acc4453bb",
       "value": 22
      }
     },
     "1556e0e3bcbe489e951c02ba47c4dca7": {
      "model_module": "@jupyter-widgets/base",
      "model_module_version": "2.0.0",
      "model_name": "LayoutModel",
      "state": {}
     },
     "15573e3faee6448783c5d0b0285c4696": {
      "model_module": "@jupyter-widgets/base",
      "model_module_version": "2.0.0",
      "model_name": "LayoutModel",
      "state": {}
     },
     "1560cd38aadb46f6bee81d22816d595a": {
      "model_module": "@jupyter-widgets/controls",
      "model_module_version": "2.0.0",
      "model_name": "HTMLStyleModel",
      "state": {
       "description_width": "",
       "font_size": null,
       "text_color": null
      }
     },
     "1565f6260f0e42cab91fc148ae30fe26": {
      "model_module": "@jupyter-widgets/controls",
      "model_module_version": "2.0.0",
      "model_name": "HTMLStyleModel",
      "state": {
       "description_width": "",
       "font_size": null,
       "text_color": null
      }
     },
     "15adaee945134220a170c9d382def8a7": {
      "model_module": "@jupyter-widgets/controls",
      "model_module_version": "2.0.0",
      "model_name": "HBoxModel",
      "state": {
       "children": [
        "IPY_MODEL_152fff33ae5848378fefbd66081cf27a",
        "IPY_MODEL_f1716177d78347a6adc4086753cf6842",
        "IPY_MODEL_2a0853b6a78a4dc089d89cd3ef56b9da"
       ],
       "layout": "IPY_MODEL_e0abbd32b4db43b39f021a9b799b2a4a"
      }
     },
     "15ce87f884974346b22cf00cce1775d0": {
      "model_module": "@jupyter-widgets/controls",
      "model_module_version": "2.0.0",
      "model_name": "HTMLStyleModel",
      "state": {
       "description_width": "",
       "font_size": null,
       "text_color": null
      }
     },
     "15d834e96ebc43f7970c7d8aea560688": {
      "model_module": "@jupyter-widgets/controls",
      "model_module_version": "2.0.0",
      "model_name": "ProgressStyleModel",
      "state": {
       "description_width": ""
      }
     },
     "15d8883fa2e648799af858ae4e87cd41": {
      "model_module": "@jupyter-widgets/controls",
      "model_module_version": "2.0.0",
      "model_name": "HBoxModel",
      "state": {
       "children": [
        "IPY_MODEL_024a81a3800f445d93661817fe7e67b3",
        "IPY_MODEL_30f6ca2196864c549b38a67cd3899d25",
        "IPY_MODEL_f299340b66574c0bba41c72de17951f5"
       ],
       "layout": "IPY_MODEL_0c525bef9b5a4767b630261ebcddecf9"
      }
     },
     "15f5a83cbb9c4e12b3dc08369ecce480": {
      "model_module": "@jupyter-widgets/controls",
      "model_module_version": "2.0.0",
      "model_name": "ProgressStyleModel",
      "state": {
       "description_width": ""
      }
     },
     "15fb5077a39541009c71d2d68fdc99dd": {
      "model_module": "@jupyter-widgets/base",
      "model_module_version": "2.0.0",
      "model_name": "LayoutModel",
      "state": {}
     },
     "16291950f60449cab4a4b19794e43f27": {
      "model_module": "@jupyter-widgets/base",
      "model_module_version": "2.0.0",
      "model_name": "LayoutModel",
      "state": {}
     },
     "162a91ba43d345e5a3fdcea745afef8c": {
      "model_module": "@jupyter-widgets/base",
      "model_module_version": "2.0.0",
      "model_name": "LayoutModel",
      "state": {}
     },
     "162affdb9ec74500a345d961a348c959": {
      "model_module": "@jupyter-widgets/controls",
      "model_module_version": "2.0.0",
      "model_name": "ProgressStyleModel",
      "state": {
       "description_width": ""
      }
     },
     "166c73054a1e4ad1a4342bc5fd213c4c": {
      "model_module": "@jupyter-widgets/base",
      "model_module_version": "2.0.0",
      "model_name": "LayoutModel",
      "state": {}
     },
     "1686b9346a9d42b8a1b2273c0473a1cb": {
      "model_module": "@jupyter-widgets/controls",
      "model_module_version": "2.0.0",
      "model_name": "HTMLModel",
      "state": {
       "layout": "IPY_MODEL_733b9f6df8b5491d8e6dd82eb9bd468c",
       "style": "IPY_MODEL_f1faf9cdcaca4ea0b07fbaa07ebd1068",
       "value": "100%"
      }
     },
     "169136c79a464609ac9daa0a3f6659e4": {
      "model_module": "@jupyter-widgets/base",
      "model_module_version": "2.0.0",
      "model_name": "LayoutModel",
      "state": {}
     },
     "16923cc86371442f8d33e5d95eb31328": {
      "model_module": "@jupyter-widgets/base",
      "model_module_version": "2.0.0",
      "model_name": "LayoutModel",
      "state": {}
     },
     "169ca1f25bc441f881dca2a6dd67c714": {
      "model_module": "@jupyter-widgets/controls",
      "model_module_version": "2.0.0",
      "model_name": "FloatProgressModel",
      "state": {
       "bar_style": "success",
       "layout": "IPY_MODEL_be3bd91fb75d40e68cf2cbaa10f59aad",
       "max": 23,
       "style": "IPY_MODEL_1395248bd20b4dffb23745af26fbecf1",
       "value": 23
      }
     },
     "16ae653a82d74800895db08a5f0c8f59": {
      "model_module": "@jupyter-widgets/controls",
      "model_module_version": "2.0.0",
      "model_name": "ProgressStyleModel",
      "state": {
       "description_width": ""
      }
     },
     "16c85c31369240dda0887fbce07a5c8d": {
      "model_module": "@jupyter-widgets/controls",
      "model_module_version": "2.0.0",
      "model_name": "HTMLStyleModel",
      "state": {
       "description_width": "",
       "font_size": null,
       "text_color": null
      }
     },
     "16ee41c16a104c3281b3939298e07f4c": {
      "model_module": "@jupyter-widgets/controls",
      "model_module_version": "2.0.0",
      "model_name": "HTMLModel",
      "state": {
       "layout": "IPY_MODEL_e7d7f75cffe64d74846862b65a825508",
       "style": "IPY_MODEL_93f6e3f34a3e4665bad1559c5ec8f26c",
       "value": "100%"
      }
     },
     "170cf80247d140618279f3458317cb74": {
      "model_module": "@jupyter-widgets/base",
      "model_module_version": "2.0.0",
      "model_name": "LayoutModel",
      "state": {}
     },
     "175911add5ed49d48dd0ace80e0a806c": {
      "model_module": "@jupyter-widgets/controls",
      "model_module_version": "2.0.0",
      "model_name": "FloatProgressModel",
      "state": {
       "bar_style": "success",
       "layout": "IPY_MODEL_3cf35f99cd2d478fae974d4d887c2057",
       "max": 23,
       "style": "IPY_MODEL_fbcf1b5281f14db2a407cb048a3cb991",
       "value": 23
      }
     },
     "175c77a441154f9b80a20540fb019b4f": {
      "model_module": "@jupyter-widgets/base",
      "model_module_version": "2.0.0",
      "model_name": "LayoutModel",
      "state": {}
     },
     "177973c4c2ed4b7283c41ca9ce37fccc": {
      "model_module": "@jupyter-widgets/controls",
      "model_module_version": "2.0.0",
      "model_name": "HTMLModel",
      "state": {
       "layout": "IPY_MODEL_2f4cb9759c36458fbec7e1cf942cc029",
       "style": "IPY_MODEL_ae94d9011a1f47d1b139832232011519",
       "value": " 23/23 [00:00&lt;00:00, 37.47it/s]"
      }
     },
     "178eebdaeae94a1a8aab28e966d8c252": {
      "model_module": "@jupyter-widgets/base",
      "model_module_version": "2.0.0",
      "model_name": "LayoutModel",
      "state": {}
     },
     "179ad61ff44e4de78f9aff7f8023ad00": {
      "model_module": "@jupyter-widgets/base",
      "model_module_version": "2.0.0",
      "model_name": "LayoutModel",
      "state": {}
     },
     "17f236dd110144e988d9db20676c55ca": {
      "model_module": "@jupyter-widgets/base",
      "model_module_version": "2.0.0",
      "model_name": "LayoutModel",
      "state": {}
     },
     "180685eefe1146f58e651ff0950396ba": {
      "model_module": "@jupyter-widgets/controls",
      "model_module_version": "2.0.0",
      "model_name": "HTMLStyleModel",
      "state": {
       "description_width": "",
       "font_size": null,
       "text_color": null
      }
     },
     "18068a5019524980ae66cf076bba754f": {
      "model_module": "@jupyter-widgets/base",
      "model_module_version": "2.0.0",
      "model_name": "LayoutModel",
      "state": {}
     },
     "182b34637eec45079811e097777a6774": {
      "model_module": "@jupyter-widgets/controls",
      "model_module_version": "2.0.0",
      "model_name": "HTMLModel",
      "state": {
       "layout": "IPY_MODEL_bcb2729c751d4ba4a18c83274cf67280",
       "style": "IPY_MODEL_5e35c40ceec0405faf459fad7736e4ce",
       "value": " 20/20 [00:00&lt;00:00, 41.72it/s]"
      }
     },
     "18430a76b315498984e9348aa3446184": {
      "model_module": "@jupyter-widgets/controls",
      "model_module_version": "2.0.0",
      "model_name": "HBoxModel",
      "state": {
       "children": [
        "IPY_MODEL_290bf9aa3328457cb1013986b60b70cf",
        "IPY_MODEL_f549cc654aef4f0882d30e9b9269ada6",
        "IPY_MODEL_268fb139c417492da528dea013bee912"
       ],
       "layout": "IPY_MODEL_06626d855a4e4753aafe57e27df9beea"
      }
     },
     "187515023d1f4da59aa991cf9936abaf": {
      "model_module": "@jupyter-widgets/controls",
      "model_module_version": "2.0.0",
      "model_name": "HTMLModel",
      "state": {
       "layout": "IPY_MODEL_e93d257a211c409e9953820665c84f7d",
       "style": "IPY_MODEL_ab2f6e19e9404a8a8c4d89d0f599085b",
       "value": " 22/22 [00:00&lt;00:00, 429.26it/s]"
      }
     },
     "18835523fdd44dd8ad0cb50d49e7f95c": {
      "model_module": "@jupyter-widgets/controls",
      "model_module_version": "2.0.0",
      "model_name": "ProgressStyleModel",
      "state": {
       "description_width": ""
      }
     },
     "188879df589e425fa216a8d03a8777fd": {
      "model_module": "@jupyter-widgets/base",
      "model_module_version": "2.0.0",
      "model_name": "LayoutModel",
      "state": {}
     },
     "18ab2092fbd04fccb61b6b8d58deaa92": {
      "model_module": "@jupyter-widgets/controls",
      "model_module_version": "2.0.0",
      "model_name": "FloatProgressModel",
      "state": {
       "bar_style": "success",
       "layout": "IPY_MODEL_98f217c4b0c24b1eb822c23fe3ea374b",
       "max": 20,
       "style": "IPY_MODEL_1c3ef4a39f8940f0a5c67f6210d28bd9",
       "value": 20
      }
     },
     "18c6703d7f394f77bce649df69f59128": {
      "model_module": "@jupyter-widgets/controls",
      "model_module_version": "2.0.0",
      "model_name": "HTMLStyleModel",
      "state": {
       "description_width": "",
       "font_size": null,
       "text_color": null
      }
     },
     "18f326827530469fb9acdbc59781686d": {
      "model_module": "@jupyter-widgets/controls",
      "model_module_version": "2.0.0",
      "model_name": "HTMLModel",
      "state": {
       "layout": "IPY_MODEL_11f5254209a1402c8f15911de71a4ba5",
       "style": "IPY_MODEL_96c3de0ce44140f288a4acd206fa84c1",
       "value": "100%"
      }
     },
     "190fab0b79c2498fb813b57886628861": {
      "model_module": "@jupyter-widgets/controls",
      "model_module_version": "2.0.0",
      "model_name": "HTMLStyleModel",
      "state": {
       "description_width": "",
       "font_size": null,
       "text_color": null
      }
     },
     "191cd6de4a3f4d48b89354ae32bcc58a": {
      "model_module": "@jupyter-widgets/controls",
      "model_module_version": "2.0.0",
      "model_name": "HTMLModel",
      "state": {
       "layout": "IPY_MODEL_74625bed6e29446eb2893144b48dea3a",
       "style": "IPY_MODEL_e9f615a276e94d8cad6e195ae7d44ef1",
       "value": " 23/23 [00:00&lt;00:00, 438.26it/s]"
      }
     },
     "19261038b2364c598b5b0bd519753cbf": {
      "model_module": "@jupyter-widgets/controls",
      "model_module_version": "2.0.0",
      "model_name": "HTMLModel",
      "state": {
       "layout": "IPY_MODEL_a0f0d0c6adc743558c41ea313fd17ff2",
       "style": "IPY_MODEL_ef81633e0adb469b8875ba9d058f020d",
       "value": " 21/21 [00:00&lt;00:00, 44.38it/s]"
      }
     },
     "194a7705f4644844ba7414fddd7acd58": {
      "model_module": "@jupyter-widgets/base",
      "model_module_version": "2.0.0",
      "model_name": "LayoutModel",
      "state": {}
     },
     "197ac8b1852d4c3ca397f4c91519ab61": {
      "model_module": "@jupyter-widgets/controls",
      "model_module_version": "2.0.0",
      "model_name": "HTMLModel",
      "state": {
       "layout": "IPY_MODEL_11e8eeb7777c4c8c822918ffe51879f7",
       "style": "IPY_MODEL_ac4da90c4e184cf1bd1895d0647e9b3f",
       "value": "100%"
      }
     },
     "1988e68ef5364133aeb54b31d4a5b8a5": {
      "model_module": "@jupyter-widgets/controls",
      "model_module_version": "2.0.0",
      "model_name": "HBoxModel",
      "state": {
       "children": [
        "IPY_MODEL_5465a9791c4b4b22a75be3d5e93b725c",
        "IPY_MODEL_58995cd152d64371b759c324205c2fb6",
        "IPY_MODEL_bfcc6e9481b64d8098f43912f54d1f65"
       ],
       "layout": "IPY_MODEL_d9dad558d32a4a41a2ba8cf82018b9c7"
      }
     },
     "1995cf13df1a43eb8d763634ccf362a0": {
      "model_module": "@jupyter-widgets/controls",
      "model_module_version": "2.0.0",
      "model_name": "FloatProgressModel",
      "state": {
       "bar_style": "success",
       "layout": "IPY_MODEL_8413fc23d1aa47b1b52c61f73ef5f79f",
       "max": 21,
       "style": "IPY_MODEL_761869180e5a49e08f0ff203699c9d24",
       "value": 21
      }
     },
     "19a6e7716f074169a5e05ca1378bcdc5": {
      "model_module": "@jupyter-widgets/controls",
      "model_module_version": "2.0.0",
      "model_name": "HBoxModel",
      "state": {
       "children": [
        "IPY_MODEL_04a06792012d45e1b14d9c7740e1b70e",
        "IPY_MODEL_adf5d58b5d7c4a188e61869d34f42028",
        "IPY_MODEL_0f39ef4315344927ab789e7c4d5deb2e"
       ],
       "layout": "IPY_MODEL_3c66252fab80461ba8194c51a0a94fc6"
      }
     },
     "19b034fe1b2d4c3488de7bfe2e912e12": {
      "model_module": "@jupyter-widgets/controls",
      "model_module_version": "2.0.0",
      "model_name": "FloatProgressModel",
      "state": {
       "bar_style": "success",
       "layout": "IPY_MODEL_3a2123c1a1024b8586fa7b4010682f93",
       "max": 22,
       "style": "IPY_MODEL_40891e16a6aa46a6b1ba3250dcbfd465",
       "value": 22
      }
     },
     "19bac7c06e094427aef00630ced76e99": {
      "model_module": "@jupyter-widgets/base",
      "model_module_version": "2.0.0",
      "model_name": "LayoutModel",
      "state": {}
     },
     "1a007443ed134f0487af06696a0c0cd0": {
      "model_module": "@jupyter-widgets/base",
      "model_module_version": "2.0.0",
      "model_name": "LayoutModel",
      "state": {}
     },
     "1a426e57127b44338692ee0b59c5c80f": {
      "model_module": "@jupyter-widgets/base",
      "model_module_version": "2.0.0",
      "model_name": "LayoutModel",
      "state": {}
     },
     "1a54ab96916544358ba1f295508040c5": {
      "model_module": "@jupyter-widgets/controls",
      "model_module_version": "2.0.0",
      "model_name": "ProgressStyleModel",
      "state": {
       "description_width": ""
      }
     },
     "1a580f656f4340a2a56681bd08ead6f3": {
      "model_module": "@jupyter-widgets/controls",
      "model_module_version": "2.0.0",
      "model_name": "HTMLModel",
      "state": {
       "layout": "IPY_MODEL_464f684ad9c847ac9acd07412aa22e5c",
       "style": "IPY_MODEL_3be67cf5a0084fd3922df911d7d04c92",
       "value": " 22/22 [00:00&lt;00:00, 411.20it/s]"
      }
     },
     "1a635cee0814477bb8c09d775fcf5493": {
      "model_module": "@jupyter-widgets/base",
      "model_module_version": "2.0.0",
      "model_name": "LayoutModel",
      "state": {}
     },
     "1a6a09195e9e4a65ba177fc8e72b53c5": {
      "model_module": "@jupyter-widgets/controls",
      "model_module_version": "2.0.0",
      "model_name": "FloatProgressModel",
      "state": {
       "bar_style": "success",
       "layout": "IPY_MODEL_cd3bbefe1c0a42a9b0a617631547e1c0",
       "max": 21,
       "style": "IPY_MODEL_e8968b2502f2473f98da221251f39efe",
       "value": 21
      }
     },
     "1a78abecabb644adbca3251713876f84": {
      "model_module": "@jupyter-widgets/base",
      "model_module_version": "2.0.0",
      "model_name": "LayoutModel",
      "state": {}
     },
     "1a8896df7aa7452bb991eaaf2fa5de66": {
      "model_module": "@jupyter-widgets/base",
      "model_module_version": "2.0.0",
      "model_name": "LayoutModel",
      "state": {}
     },
     "1a8d4e864faf4d8595bb701c54c66cca": {
      "model_module": "@jupyter-widgets/controls",
      "model_module_version": "2.0.0",
      "model_name": "HTMLModel",
      "state": {
       "layout": "IPY_MODEL_75ee1bf58dd54f629c3aa9f39d64d8a0",
       "style": "IPY_MODEL_66a20dcd976c4cb1ada784d5a4bc0194",
       "value": "100%"
      }
     },
     "1aa352bffc914425befdebccd580bdf7": {
      "model_module": "@jupyter-widgets/controls",
      "model_module_version": "2.0.0",
      "model_name": "FloatProgressModel",
      "state": {
       "bar_style": "success",
       "layout": "IPY_MODEL_e4a1cbf7b8024185a12a27cc2a1a3e2d",
       "max": 23,
       "style": "IPY_MODEL_06e5dbe6b3404d81badf41f97812c1be",
       "value": 23
      }
     },
     "1ab7b447996646fc83013040a75391b6": {
      "model_module": "@jupyter-widgets/controls",
      "model_module_version": "2.0.0",
      "model_name": "HTMLModel",
      "state": {
       "layout": "IPY_MODEL_44371879289d4c5e9827fc1d6fd2839e",
       "style": "IPY_MODEL_007dc280d1414799b65e7549a51e7af2",
       "value": "100%"
      }
     },
     "1abcd142b8384537a96fadeacaab6f89": {
      "model_module": "@jupyter-widgets/base",
      "model_module_version": "2.0.0",
      "model_name": "LayoutModel",
      "state": {}
     },
     "1ace236b52454cddafc997829c58077e": {
      "model_module": "@jupyter-widgets/controls",
      "model_module_version": "2.0.0",
      "model_name": "ProgressStyleModel",
      "state": {
       "description_width": ""
      }
     },
     "1ad9f2dc893e4b68aba5b147da95dd6b": {
      "model_module": "@jupyter-widgets/base",
      "model_module_version": "2.0.0",
      "model_name": "LayoutModel",
      "state": {}
     },
     "1b6a46414cb94f949bb791eac1059881": {
      "model_module": "@jupyter-widgets/controls",
      "model_module_version": "2.0.0",
      "model_name": "HTMLStyleModel",
      "state": {
       "description_width": "",
       "font_size": null,
       "text_color": null
      }
     },
     "1b90456dcc624322a8468309fb5385de": {
      "model_module": "@jupyter-widgets/base",
      "model_module_version": "2.0.0",
      "model_name": "LayoutModel",
      "state": {}
     },
     "1bcd72171a8d4c18b66d6cc9a187cad7": {
      "model_module": "@jupyter-widgets/controls",
      "model_module_version": "2.0.0",
      "model_name": "HTMLStyleModel",
      "state": {
       "description_width": "",
       "font_size": null,
       "text_color": null
      }
     },
     "1be3dbb0e71b4b5bb1d8e71c08af0c47": {
      "model_module": "@jupyter-widgets/controls",
      "model_module_version": "2.0.0",
      "model_name": "HTMLStyleModel",
      "state": {
       "description_width": "",
       "font_size": null,
       "text_color": null
      }
     },
     "1be6a07919324789abe3c3e646e8b989": {
      "model_module": "@jupyter-widgets/controls",
      "model_module_version": "2.0.0",
      "model_name": "HBoxModel",
      "state": {
       "children": [
        "IPY_MODEL_41d5334dbba548d79ac8ee224d5e62d0",
        "IPY_MODEL_082eda71926c424dba8b2046caef8b35",
        "IPY_MODEL_6d3557a97f404dbe9308502ab5e52399"
       ],
       "layout": "IPY_MODEL_00e290e1a70043eaa52c61cf613ae1e9"
      }
     },
     "1bf1f9968a2a4eb2ae2368cde5bf91d4": {
      "model_module": "@jupyter-widgets/base",
      "model_module_version": "2.0.0",
      "model_name": "LayoutModel",
      "state": {}
     },
     "1c38ad5073f7427c8c66457d1063f39d": {
      "model_module": "@jupyter-widgets/controls",
      "model_module_version": "2.0.0",
      "model_name": "FloatProgressModel",
      "state": {
       "bar_style": "success",
       "layout": "IPY_MODEL_2559112aac4449e89cd8ee5fa390b0a4",
       "max": 23,
       "style": "IPY_MODEL_4518f9ce466c4b2c945283b9bbb78cfe",
       "value": 23
      }
     },
     "1c3ad425c4aa4a02a3773d1bc96a1fe8": {
      "model_module": "@jupyter-widgets/controls",
      "model_module_version": "2.0.0",
      "model_name": "HTMLModel",
      "state": {
       "layout": "IPY_MODEL_39f1b7899129481aa0ce06a3ae6615cf",
       "style": "IPY_MODEL_f10bc581697144c8a3f9f1bb7af21fcf",
       "value": " 23/23 [00:00&lt;00:00, 31.89it/s]"
      }
     },
     "1c3ef4a39f8940f0a5c67f6210d28bd9": {
      "model_module": "@jupyter-widgets/controls",
      "model_module_version": "2.0.0",
      "model_name": "ProgressStyleModel",
      "state": {
       "description_width": ""
      }
     },
     "1c5474c473194ba8bc6b0dcda9b3b45d": {
      "model_module": "@jupyter-widgets/controls",
      "model_module_version": "2.0.0",
      "model_name": "HTMLStyleModel",
      "state": {
       "description_width": "",
       "font_size": null,
       "text_color": null
      }
     },
     "1c5b14f98e9340728687350273447f4e": {
      "model_module": "@jupyter-widgets/controls",
      "model_module_version": "2.0.0",
      "model_name": "HTMLStyleModel",
      "state": {
       "description_width": "",
       "font_size": null,
       "text_color": null
      }
     },
     "1c6b03d117cc49e4860100fa845bbbb1": {
      "model_module": "@jupyter-widgets/base",
      "model_module_version": "2.0.0",
      "model_name": "LayoutModel",
      "state": {}
     },
     "1c97f5f5470b42108c7423cba18d1adf": {
      "model_module": "@jupyter-widgets/controls",
      "model_module_version": "2.0.0",
      "model_name": "HTMLStyleModel",
      "state": {
       "description_width": "",
       "font_size": null,
       "text_color": null
      }
     },
     "1cc6c7936fec48458ceb76cd901a5bb0": {
      "model_module": "@jupyter-widgets/controls",
      "model_module_version": "2.0.0",
      "model_name": "ProgressStyleModel",
      "state": {
       "description_width": ""
      }
     },
     "1ce44b5d9a414027b02c0351c10d4550": {
      "model_module": "@jupyter-widgets/controls",
      "model_module_version": "2.0.0",
      "model_name": "HTMLModel",
      "state": {
       "layout": "IPY_MODEL_30423afac4804c0688aa782b34e6ac53",
       "style": "IPY_MODEL_dc9f801a52784e0da7b24a7b43c3ef71",
       "value": "100%"
      }
     },
     "1cfeb3cd0a76473088501b8d7333c0db": {
      "model_module": "@jupyter-widgets/controls",
      "model_module_version": "2.0.0",
      "model_name": "FloatProgressModel",
      "state": {
       "bar_style": "success",
       "layout": "IPY_MODEL_68059ea725ed46d1aa3554123eb6c609",
       "max": 22,
       "style": "IPY_MODEL_bc292183d7b941aabce2de20a95518d4",
       "value": 22
      }
     },
     "1d075b6a06a84d5ab8c90a10a1b5de59": {
      "model_module": "@jupyter-widgets/controls",
      "model_module_version": "2.0.0",
      "model_name": "HTMLStyleModel",
      "state": {
       "description_width": "",
       "font_size": null,
       "text_color": null
      }
     },
     "1d194d7e4d4c48e2993fb4851c94a51e": {
      "model_module": "@jupyter-widgets/controls",
      "model_module_version": "2.0.0",
      "model_name": "ProgressStyleModel",
      "state": {
       "description_width": ""
      }
     },
     "1d1b5db7316445efb138952604fa4658": {
      "model_module": "@jupyter-widgets/base",
      "model_module_version": "2.0.0",
      "model_name": "LayoutModel",
      "state": {}
     },
     "1d3aff80dbd94a1287ac8cc99f5f94fb": {
      "model_module": "@jupyter-widgets/base",
      "model_module_version": "2.0.0",
      "model_name": "LayoutModel",
      "state": {}
     },
     "1d65e1489d7c4472be03af3c8019174c": {
      "model_module": "@jupyter-widgets/controls",
      "model_module_version": "2.0.0",
      "model_name": "HBoxModel",
      "state": {
       "children": [
        "IPY_MODEL_f8bbb4787d654713bb5a5c514557f83c",
        "IPY_MODEL_4e3594b872684dc0aeae88948499c122",
        "IPY_MODEL_4249a5396b5d42eea2aa3d87c7a1cd8d"
       ],
       "layout": "IPY_MODEL_9b0f5304347b4727906d71e943481369"
      }
     },
     "1d842cc84dc04184a13670f0c3814d4d": {
      "model_module": "@jupyter-widgets/base",
      "model_module_version": "2.0.0",
      "model_name": "LayoutModel",
      "state": {}
     },
     "1d8ef4e1f5184d52ae297192f557d0e8": {
      "model_module": "@jupyter-widgets/controls",
      "model_module_version": "2.0.0",
      "model_name": "HTMLModel",
      "state": {
       "layout": "IPY_MODEL_ba0df6914c7c4158bfcee74c8373e51a",
       "style": "IPY_MODEL_560f068ba8e74dc084dd94e44a34cb9d",
       "value": "100%"
      }
     },
     "1d96cf93207c40b0a72b104c63e3a0b7": {
      "model_module": "@jupyter-widgets/controls",
      "model_module_version": "2.0.0",
      "model_name": "ProgressStyleModel",
      "state": {
       "description_width": ""
      }
     },
     "1db2f443aa674361ac4bf971fa51749d": {
      "model_module": "@jupyter-widgets/controls",
      "model_module_version": "2.0.0",
      "model_name": "ProgressStyleModel",
      "state": {
       "description_width": ""
      }
     },
     "1e0d46ba1aac41d2ae47e642b1a3bd12": {
      "model_module": "@jupyter-widgets/base",
      "model_module_version": "2.0.0",
      "model_name": "LayoutModel",
      "state": {}
     },
     "1e37ec75873a465d800b47c066ea29d8": {
      "model_module": "@jupyter-widgets/controls",
      "model_module_version": "2.0.0",
      "model_name": "FloatProgressModel",
      "state": {
       "bar_style": "success",
       "layout": "IPY_MODEL_22422ab8e4d14971855ce226492146ea",
       "max": 21,
       "style": "IPY_MODEL_053ea62716054397b5d3d7812f3e4933",
       "value": 21
      }
     },
     "1e3bdc0d77da4a70a0e691e6a410cc3b": {
      "model_module": "@jupyter-widgets/controls",
      "model_module_version": "2.0.0",
      "model_name": "HTMLStyleModel",
      "state": {
       "description_width": "",
       "font_size": null,
       "text_color": null
      }
     },
     "1e52f3c243c1457a929d794a991f7c7d": {
      "model_module": "@jupyter-widgets/base",
      "model_module_version": "2.0.0",
      "model_name": "LayoutModel",
      "state": {}
     },
     "1e54dc14a2b24a4e8ab77bdb7951650d": {
      "model_module": "@jupyter-widgets/controls",
      "model_module_version": "2.0.0",
      "model_name": "HTMLModel",
      "state": {
       "layout": "IPY_MODEL_139a024e932a4a35b58477eac2585838",
       "style": "IPY_MODEL_dafb19c7ed264104a519c31add0ddcad",
       "value": " 20/20 [00:00&lt;00:00, 38.64it/s]"
      }
     },
     "1e603c6235854c1a8cbeea4631e21dd8": {
      "model_module": "@jupyter-widgets/controls",
      "model_module_version": "2.0.0",
      "model_name": "HTMLModel",
      "state": {
       "layout": "IPY_MODEL_e2e36d2bca484a978996b2de3e912343",
       "style": "IPY_MODEL_a946dbff17064854a03a7cf16b5704f0",
       "value": "100%"
      }
     },
     "1e6095ca3eed44cabaa60d17dbc1c85d": {
      "model_module": "@jupyter-widgets/controls",
      "model_module_version": "2.0.0",
      "model_name": "HTMLStyleModel",
      "state": {
       "description_width": "",
       "font_size": null,
       "text_color": null
      }
     },
     "1e642b053f6f44ac883e37dc569fc8fb": {
      "model_module": "@jupyter-widgets/controls",
      "model_module_version": "2.0.0",
      "model_name": "HTMLModel",
      "state": {
       "layout": "IPY_MODEL_67e5b48508474a0aa79f09a265430d94",
       "style": "IPY_MODEL_f6c2228499634ef897e7490efc1e731d",
       "value": "100%"
      }
     },
     "1e9b0cec58cf4e3eab255efcd030ea47": {
      "model_module": "@jupyter-widgets/controls",
      "model_module_version": "2.0.0",
      "model_name": "HTMLModel",
      "state": {
       "layout": "IPY_MODEL_5e354cf82552464eb3f3c3552a9879f9",
       "style": "IPY_MODEL_faef863c7d8842ffab78b4ebd78825da",
       "value": " 21/21 [00:00&lt;00:00, 22.75it/s]"
      }
     },
     "1eaddd627f9f4b5e86fe1dd98fe85924": {
      "model_module": "@jupyter-widgets/controls",
      "model_module_version": "2.0.0",
      "model_name": "HBoxModel",
      "state": {
       "children": [
        "IPY_MODEL_722f473caa6440fca151ff678f9658b0",
        "IPY_MODEL_9c6d9f2469fd4dffbb62e65fbd171922",
        "IPY_MODEL_6d7449422c1345199db47b13e078fbef"
       ],
       "layout": "IPY_MODEL_cf296ab57fe34924b4e433040b2fe0ec"
      }
     },
     "1eae64dcc80d4f1884d712650a6698b3": {
      "model_module": "@jupyter-widgets/base",
      "model_module_version": "2.0.0",
      "model_name": "LayoutModel",
      "state": {}
     },
     "1ecbd3b3348945c9a3723e0d1258c9b6": {
      "model_module": "@jupyter-widgets/base",
      "model_module_version": "2.0.0",
      "model_name": "LayoutModel",
      "state": {}
     },
     "1ed4d50beee34683bb6d42a83c674031": {
      "model_module": "@jupyter-widgets/controls",
      "model_module_version": "2.0.0",
      "model_name": "ProgressStyleModel",
      "state": {
       "description_width": ""
      }
     },
     "1ed7e98859d1438996b2258b35e12a5c": {
      "model_module": "@jupyter-widgets/controls",
      "model_module_version": "2.0.0",
      "model_name": "HTMLStyleModel",
      "state": {
       "description_width": "",
       "font_size": null,
       "text_color": null
      }
     },
     "1fa2092947734cd5bc4875c45b7aff15": {
      "model_module": "@jupyter-widgets/controls",
      "model_module_version": "2.0.0",
      "model_name": "FloatProgressModel",
      "state": {
       "bar_style": "success",
       "layout": "IPY_MODEL_e21c10b0a3c24f1a8ab2210a2645c688",
       "max": 22,
       "style": "IPY_MODEL_ce19648a5e8f47008376fb3b2e3c27bd",
       "value": 22
      }
     },
     "1fb7616bec4446cd95b13ddec69ebcbc": {
      "model_module": "@jupyter-widgets/controls",
      "model_module_version": "2.0.0",
      "model_name": "HTMLStyleModel",
      "state": {
       "description_width": "",
       "font_size": null,
       "text_color": null
      }
     },
     "1fbe5a34f335492aa23500c8f3326f3d": {
      "model_module": "@jupyter-widgets/base",
      "model_module_version": "2.0.0",
      "model_name": "LayoutModel",
      "state": {}
     },
     "1fc19463e1634da5b54545e2787be06c": {
      "model_module": "@jupyter-widgets/controls",
      "model_module_version": "2.0.0",
      "model_name": "HTMLStyleModel",
      "state": {
       "description_width": "",
       "font_size": null,
       "text_color": null
      }
     },
     "1fc3fb1d9a39450f99545c28698eb45a": {
      "model_module": "@jupyter-widgets/controls",
      "model_module_version": "2.0.0",
      "model_name": "FloatProgressModel",
      "state": {
       "bar_style": "success",
       "layout": "IPY_MODEL_d82f0bc144394192b8a0a583b6ed1ed6",
       "max": 23,
       "style": "IPY_MODEL_681297f0c0e14a1fb753baf45471210d",
       "value": 23
      }
     },
     "200920c55c494e6ea8d2843f5b98d5c8": {
      "model_module": "@jupyter-widgets/controls",
      "model_module_version": "2.0.0",
      "model_name": "HTMLStyleModel",
      "state": {
       "description_width": "",
       "font_size": null,
       "text_color": null
      }
     },
     "2012689350424aabb38627da89e0b45c": {
      "model_module": "@jupyter-widgets/controls",
      "model_module_version": "2.0.0",
      "model_name": "HBoxModel",
      "state": {
       "children": [
        "IPY_MODEL_392d8d9f26a4479691739af5c75f7eb8",
        "IPY_MODEL_1995cf13df1a43eb8d763634ccf362a0",
        "IPY_MODEL_271dcbf9709b427f94c10c491b2ad4d3"
       ],
       "layout": "IPY_MODEL_d754424d5d784a6081865728aca8778c"
      }
     },
     "202166b66f9c4b76b73bf8b23d2c5ebf": {
      "model_module": "@jupyter-widgets/controls",
      "model_module_version": "2.0.0",
      "model_name": "HTMLStyleModel",
      "state": {
       "description_width": "",
       "font_size": null,
       "text_color": null
      }
     },
     "202fa5479e8f43d9bcc3b3aa81cfdc18": {
      "model_module": "@jupyter-widgets/base",
      "model_module_version": "2.0.0",
      "model_name": "LayoutModel",
      "state": {}
     },
     "205262d0623e4b87bb07f0d24a8cb6e9": {
      "model_module": "@jupyter-widgets/base",
      "model_module_version": "2.0.0",
      "model_name": "LayoutModel",
      "state": {}
     },
     "2064059a48b64d6a8caeb6dd7016a4a7": {
      "model_module": "@jupyter-widgets/controls",
      "model_module_version": "2.0.0",
      "model_name": "HBoxModel",
      "state": {
       "children": [
        "IPY_MODEL_b5990050ff5b4cd7b248e7abee41fcea",
        "IPY_MODEL_eb8bbe638c4441a396afd159fe94c19e",
        "IPY_MODEL_d1fa1229992f436a94403c7897c1266b"
       ],
       "layout": "IPY_MODEL_79d5e80e733b45f2b2d45b47433c88b7"
      }
     },
     "2071c51b11384c97a1e766ce9f8e7db3": {
      "model_module": "@jupyter-widgets/controls",
      "model_module_version": "2.0.0",
      "model_name": "HTMLModel",
      "state": {
       "layout": "IPY_MODEL_b66dc1aba1544dada85484117874fbec",
       "style": "IPY_MODEL_8672a5be26c048869487eadfa4a95b24",
       "value": "100%"
      }
     },
     "20a8e318a96244018e8c0e32fd01815c": {
      "model_module": "@jupyter-widgets/base",
      "model_module_version": "2.0.0",
      "model_name": "LayoutModel",
      "state": {}
     },
     "20c5135223344acf9b7367791d013d1f": {
      "model_module": "@jupyter-widgets/controls",
      "model_module_version": "2.0.0",
      "model_name": "HTMLStyleModel",
      "state": {
       "description_width": "",
       "font_size": null,
       "text_color": null
      }
     },
     "20d6feb3b234449d8ee8c8d00284c3bf": {
      "model_module": "@jupyter-widgets/controls",
      "model_module_version": "2.0.0",
      "model_name": "FloatProgressModel",
      "state": {
       "bar_style": "success",
       "layout": "IPY_MODEL_e6d71da6799e4d8ba9f90a22fe6c2979",
       "max": 22,
       "style": "IPY_MODEL_78232267ffc541ee92b3e1a552ca9f45",
       "value": 22
      }
     },
     "20f0721376f04dc5a65deadc52bf431e": {
      "model_module": "@jupyter-widgets/controls",
      "model_module_version": "2.0.0",
      "model_name": "ProgressStyleModel",
      "state": {
       "description_width": ""
      }
     },
     "211e0d80b0534a4b9b645087d10b9760": {
      "model_module": "@jupyter-widgets/controls",
      "model_module_version": "2.0.0",
      "model_name": "HTMLStyleModel",
      "state": {
       "description_width": "",
       "font_size": null,
       "text_color": null
      }
     },
     "214ed7c7d59247fe9baf5a8688b00e6e": {
      "model_module": "@jupyter-widgets/controls",
      "model_module_version": "2.0.0",
      "model_name": "HTMLStyleModel",
      "state": {
       "description_width": "",
       "font_size": null,
       "text_color": null
      }
     },
     "21809c47f888475eb7c0ccee14f277ae": {
      "model_module": "@jupyter-widgets/base",
      "model_module_version": "2.0.0",
      "model_name": "LayoutModel",
      "state": {}
     },
     "21e457e1c1df4107bd93e1ee71ce877a": {
      "model_module": "@jupyter-widgets/base",
      "model_module_version": "2.0.0",
      "model_name": "LayoutModel",
      "state": {}
     },
     "21eaf9964a9c4d77829a6d830782a934": {
      "model_module": "@jupyter-widgets/controls",
      "model_module_version": "2.0.0",
      "model_name": "HTMLStyleModel",
      "state": {
       "description_width": "",
       "font_size": null,
       "text_color": null
      }
     },
     "21ed205483694fe8a3dcbfee4b650752": {
      "model_module": "@jupyter-widgets/controls",
      "model_module_version": "2.0.0",
      "model_name": "FloatProgressModel",
      "state": {
       "bar_style": "success",
       "layout": "IPY_MODEL_169136c79a464609ac9daa0a3f6659e4",
       "max": 21,
       "style": "IPY_MODEL_98c5767c4f8f497dbe6854e9956eaa33",
       "value": 21
      }
     },
     "220e12b6d04142928dd8bee3c102ac0d": {
      "model_module": "@jupyter-widgets/controls",
      "model_module_version": "2.0.0",
      "model_name": "FloatProgressModel",
      "state": {
       "bar_style": "success",
       "layout": "IPY_MODEL_8ca72801cdac4141a09f6e21509571af",
       "max": 22,
       "style": "IPY_MODEL_79239b85f7d64d1992d59def8661d03f",
       "value": 22
      }
     },
     "22378220dda248a386871f64a91eca9a": {
      "model_module": "@jupyter-widgets/controls",
      "model_module_version": "2.0.0",
      "model_name": "ProgressStyleModel",
      "state": {
       "description_width": ""
      }
     },
     "22422ab8e4d14971855ce226492146ea": {
      "model_module": "@jupyter-widgets/base",
      "model_module_version": "2.0.0",
      "model_name": "LayoutModel",
      "state": {}
     },
     "226fb175ffeb4ce78df62e0afe3f8666": {
      "model_module": "@jupyter-widgets/controls",
      "model_module_version": "2.0.0",
      "model_name": "FloatProgressModel",
      "state": {
       "bar_style": "success",
       "layout": "IPY_MODEL_e6423c45150f46268bd5f1eb63d5b106",
       "max": 22,
       "style": "IPY_MODEL_c070af4dbf09463a985c7c190714fb2e",
       "value": 22
      }
     },
     "22779b3c02fc49859b86635042195217": {
      "model_module": "@jupyter-widgets/base",
      "model_module_version": "2.0.0",
      "model_name": "LayoutModel",
      "state": {}
     },
     "22a6a75eac584cd4aefa4c0141002231": {
      "model_module": "@jupyter-widgets/controls",
      "model_module_version": "2.0.0",
      "model_name": "HTMLModel",
      "state": {
       "layout": "IPY_MODEL_fa46abc65e6e43e88c987e8036ab89d7",
       "style": "IPY_MODEL_1fc19463e1634da5b54545e2787be06c",
       "value": " 21/21 [00:00&lt;00:00, 22.50it/s]"
      }
     },
     "22ac41de224248dc8919620a8e93df68": {
      "model_module": "@jupyter-widgets/base",
      "model_module_version": "2.0.0",
      "model_name": "LayoutModel",
      "state": {}
     },
     "22e2719d0cc74eb39c838339bab633cd": {
      "model_module": "@jupyter-widgets/controls",
      "model_module_version": "2.0.0",
      "model_name": "HTMLModel",
      "state": {
       "layout": "IPY_MODEL_62251134d86340288f7e33bf9be06313",
       "style": "IPY_MODEL_1565f6260f0e42cab91fc148ae30fe26",
       "value": "100%"
      }
     },
     "230c0199cbda4a92b12b63b16f989f89": {
      "model_module": "@jupyter-widgets/base",
      "model_module_version": "2.0.0",
      "model_name": "LayoutModel",
      "state": {}
     },
     "2311d732fdfc41ad8c4e252f787fa36d": {
      "model_module": "@jupyter-widgets/controls",
      "model_module_version": "2.0.0",
      "model_name": "HTMLModel",
      "state": {
       "layout": "IPY_MODEL_3e0318a6afa14d6ea8340d903e18b018",
       "style": "IPY_MODEL_e5c1914a4a8946139054da5a59fc4996",
       "value": " 23/23 [00:00&lt;00:00, 42.52it/s]"
      }
     },
     "23237d5f0b8549d68ec7170850455330": {
      "model_module": "@jupyter-widgets/controls",
      "model_module_version": "2.0.0",
      "model_name": "HTMLModel",
      "state": {
       "layout": "IPY_MODEL_57634203f91b4358b0e71415381d93a7",
       "style": "IPY_MODEL_64e21179395647fa8815331b0a5f1eb6",
       "value": "100%"
      }
     },
     "234147959c3649d19fc58faa6a2a9308": {
      "model_module": "@jupyter-widgets/base",
      "model_module_version": "2.0.0",
      "model_name": "LayoutModel",
      "state": {}
     },
     "2395c98f435d4372b39a8db51aae6f1c": {
      "model_module": "@jupyter-widgets/controls",
      "model_module_version": "2.0.0",
      "model_name": "FloatProgressModel",
      "state": {
       "bar_style": "success",
       "layout": "IPY_MODEL_bae485b810ad43eab84c7b961b72e069",
       "max": 20,
       "style": "IPY_MODEL_8cbd61d62b6743ae9433f5eb57c70c80",
       "value": 20
      }
     },
     "23b15c59d8e34a89b81f8fa4fdadc256": {
      "model_module": "@jupyter-widgets/controls",
      "model_module_version": "2.0.0",
      "model_name": "HTMLStyleModel",
      "state": {
       "description_width": "",
       "font_size": null,
       "text_color": null
      }
     },
     "23cacd3f1d334093980c22e2449f0a9e": {
      "model_module": "@jupyter-widgets/base",
      "model_module_version": "2.0.0",
      "model_name": "LayoutModel",
      "state": {}
     },
     "23e2fe721fe046dea9085e18ce0eb640": {
      "model_module": "@jupyter-widgets/base",
      "model_module_version": "2.0.0",
      "model_name": "LayoutModel",
      "state": {}
     },
     "23e813598207428c908ad7caed58d18a": {
      "model_module": "@jupyter-widgets/controls",
      "model_module_version": "2.0.0",
      "model_name": "FloatProgressModel",
      "state": {
       "bar_style": "success",
       "layout": "IPY_MODEL_86f693820faf4bc9acc8ba181878be8f",
       "max": 22,
       "style": "IPY_MODEL_dfb378d1048149d9bf8609084a36ea88",
       "value": 22
      }
     },
     "23f728fa31d74ebb8923ec9fa8f73d1b": {
      "model_module": "@jupyter-widgets/base",
      "model_module_version": "2.0.0",
      "model_name": "LayoutModel",
      "state": {}
     },
     "2404f1cc107046e485b3eb3846c337e2": {
      "model_module": "@jupyter-widgets/controls",
      "model_module_version": "2.0.0",
      "model_name": "HTMLStyleModel",
      "state": {
       "description_width": "",
       "font_size": null,
       "text_color": null
      }
     },
     "2420a3d66abc4254a832dac6ef257ef4": {
      "model_module": "@jupyter-widgets/base",
      "model_module_version": "2.0.0",
      "model_name": "LayoutModel",
      "state": {}
     },
     "2428b6785f264f19bcbbfb51c3c491ed": {
      "model_module": "@jupyter-widgets/controls",
      "model_module_version": "2.0.0",
      "model_name": "HTMLModel",
      "state": {
       "layout": "IPY_MODEL_b256bbcdf3f844c5908aa155274fd721",
       "style": "IPY_MODEL_04b4931234f14fcebd1ee9f30bb34913",
       "value": "100%"
      }
     },
     "242b4b5944ac4dfc87ea3f409024c6cd": {
      "model_module": "@jupyter-widgets/controls",
      "model_module_version": "2.0.0",
      "model_name": "FloatProgressModel",
      "state": {
       "bar_style": "success",
       "layout": "IPY_MODEL_0f26151a36964550950306bd2bc41e40",
       "max": 21,
       "style": "IPY_MODEL_625c13172e9a45daadcec694b8e1599c",
       "value": 21
      }
     },
     "24303cb029404d4bb2cfa66f98727e65": {
      "model_module": "@jupyter-widgets/controls",
      "model_module_version": "2.0.0",
      "model_name": "FloatProgressModel",
      "state": {
       "bar_style": "success",
       "layout": "IPY_MODEL_5c7158cde83d40e6844db04bfe3d1354",
       "max": 23,
       "style": "IPY_MODEL_adbfa51b9109490fa5849fbe30f39f2a",
       "value": 23
      }
     },
     "245a664f3b0d45b08d65552a312f8110": {
      "model_module": "@jupyter-widgets/controls",
      "model_module_version": "2.0.0",
      "model_name": "HTMLStyleModel",
      "state": {
       "description_width": "",
       "font_size": null,
       "text_color": null
      }
     },
     "248a2038259e4fb09f5fd22357d2b3a0": {
      "model_module": "@jupyter-widgets/controls",
      "model_module_version": "2.0.0",
      "model_name": "ProgressStyleModel",
      "state": {
       "description_width": ""
      }
     },
     "2494398e8b9446df86c28edc3c88fab6": {
      "model_module": "@jupyter-widgets/controls",
      "model_module_version": "2.0.0",
      "model_name": "HTMLStyleModel",
      "state": {
       "description_width": "",
       "font_size": null,
       "text_color": null
      }
     },
     "24b1b566f85c44cab333a68cdb63932b": {
      "model_module": "@jupyter-widgets/base",
      "model_module_version": "2.0.0",
      "model_name": "LayoutModel",
      "state": {}
     },
     "24b6f2c6755c4461bf999057fe3f8101": {
      "model_module": "@jupyter-widgets/base",
      "model_module_version": "2.0.0",
      "model_name": "LayoutModel",
      "state": {}
     },
     "24cc2704eb824e14a855be58064c2bb1": {
      "model_module": "@jupyter-widgets/base",
      "model_module_version": "2.0.0",
      "model_name": "LayoutModel",
      "state": {}
     },
     "24f828fa9ea94d89b3abb5f41507f302": {
      "model_module": "@jupyter-widgets/controls",
      "model_module_version": "2.0.0",
      "model_name": "HBoxModel",
      "state": {
       "children": [
        "IPY_MODEL_625eb0fff88c4e4f94e212e4b3d0dec6",
        "IPY_MODEL_edc98d7e836c427d915fd1e6aa9a8a1e",
        "IPY_MODEL_8809fb5a5c6446d49455ee953fc7922f"
       ],
       "layout": "IPY_MODEL_3f35049ddf3f4759b96e2f752a3ed464"
      }
     },
     "2527c3c34c6f42da88ed8a37959c7c91": {
      "model_module": "@jupyter-widgets/base",
      "model_module_version": "2.0.0",
      "model_name": "LayoutModel",
      "state": {}
     },
     "25298271fbba47c2a6411040e7876e6a": {
      "model_module": "@jupyter-widgets/controls",
      "model_module_version": "2.0.0",
      "model_name": "HTMLModel",
      "state": {
       "layout": "IPY_MODEL_4632afcf396e4066ba46045b6f9ffaf5",
       "style": "IPY_MODEL_7b41abdf740641159813ca72a7734de8",
       "value": " 23/23 [00:00&lt;00:00, 354.68it/s]"
      }
     },
     "253ce0c79adb4f0a95cb0465751689c7": {
      "model_module": "@jupyter-widgets/controls",
      "model_module_version": "2.0.0",
      "model_name": "HTMLModel",
      "state": {
       "layout": "IPY_MODEL_7e587b6496d4485db4c54ee553a27966",
       "style": "IPY_MODEL_d03478846d414324978d6341d1519d13",
       "value": "100%"
      }
     },
     "254c3c939a1a4058afb9300d80498e85": {
      "model_module": "@jupyter-widgets/controls",
      "model_module_version": "2.0.0",
      "model_name": "HTMLModel",
      "state": {
       "layout": "IPY_MODEL_291029bd831d49b98ecc2882b08427dc",
       "style": "IPY_MODEL_2fbb772f812f434e957802b21fbc48b0",
       "value": " 20/20 [00:00&lt;00:00, 380.42it/s]"
      }
     },
     "2559112aac4449e89cd8ee5fa390b0a4": {
      "model_module": "@jupyter-widgets/base",
      "model_module_version": "2.0.0",
      "model_name": "LayoutModel",
      "state": {}
     },
     "25902813d1b84873b3fd4b41d358b4b8": {
      "model_module": "@jupyter-widgets/controls",
      "model_module_version": "2.0.0",
      "model_name": "HTMLModel",
      "state": {
       "layout": "IPY_MODEL_7ef1fb15031742e59587ebe3b3587efb",
       "style": "IPY_MODEL_58f899dadbd4484f890f75d8c7714776",
       "value": " 22/22 [00:00&lt;00:00, 43.12it/s]"
      }
     },
     "259f0f1c30794154902648aa029aad27": {
      "model_module": "@jupyter-widgets/base",
      "model_module_version": "2.0.0",
      "model_name": "LayoutModel",
      "state": {}
     },
     "25dd1f04ef364b1e8bfe190275f6793e": {
      "model_module": "@jupyter-widgets/base",
      "model_module_version": "2.0.0",
      "model_name": "LayoutModel",
      "state": {}
     },
     "264e3fb2f38e45c59f05b704be11aaee": {
      "model_module": "@jupyter-widgets/controls",
      "model_module_version": "2.0.0",
      "model_name": "HTMLStyleModel",
      "state": {
       "description_width": "",
       "font_size": null,
       "text_color": null
      }
     },
     "268fb139c417492da528dea013bee912": {
      "model_module": "@jupyter-widgets/controls",
      "model_module_version": "2.0.0",
      "model_name": "HTMLModel",
      "state": {
       "layout": "IPY_MODEL_492c7f555bac448d888bc5c28f85979e",
       "style": "IPY_MODEL_63e6dca9bfd447eabf5f6c986dcb1de6",
       "value": " 21/21 [00:00&lt;00:00, 42.38it/s]"
      }
     },
     "269b0553974b41bb9e9e4e186e6ebfcf": {
      "model_module": "@jupyter-widgets/base",
      "model_module_version": "2.0.0",
      "model_name": "LayoutModel",
      "state": {}
     },
     "26aab88ac980438eb75dfc54ddab5d6e": {
      "model_module": "@jupyter-widgets/base",
      "model_module_version": "2.0.0",
      "model_name": "LayoutModel",
      "state": {}
     },
     "26aad94e697f4c93a867b27881e523ea": {
      "model_module": "@jupyter-widgets/controls",
      "model_module_version": "2.0.0",
      "model_name": "ProgressStyleModel",
      "state": {
       "description_width": ""
      }
     },
     "26b0707570c946cca0a6517c3ecbee70": {
      "model_module": "@jupyter-widgets/controls",
      "model_module_version": "2.0.0",
      "model_name": "HBoxModel",
      "state": {
       "children": [
        "IPY_MODEL_6127ff8d0fc449ac895fb90f5c49ebf7",
        "IPY_MODEL_e9c419dbf4be4d99aa0157d5c8e14ed4",
        "IPY_MODEL_6715fc55786a4020ae3446e7bb3c4c80"
       ],
       "layout": "IPY_MODEL_2f18814ec7c746a2884fab2f9583eef6"
      }
     },
     "26e3d3b72d2d4813bbaf947f24aa93e6": {
      "model_module": "@jupyter-widgets/base",
      "model_module_version": "2.0.0",
      "model_name": "LayoutModel",
      "state": {}
     },
     "26e427b57b624d5eb6ccd2d57704f7bc": {
      "model_module": "@jupyter-widgets/base",
      "model_module_version": "2.0.0",
      "model_name": "LayoutModel",
      "state": {}
     },
     "26f66c59b39d4b6eaa6191fa3f7fd07e": {
      "model_module": "@jupyter-widgets/base",
      "model_module_version": "2.0.0",
      "model_name": "LayoutModel",
      "state": {}
     },
     "2718fc981859443d916ab29c585a3d91": {
      "model_module": "@jupyter-widgets/controls",
      "model_module_version": "2.0.0",
      "model_name": "HTMLModel",
      "state": {
       "layout": "IPY_MODEL_1168b2944dae492ea14dcb25f99305d1",
       "style": "IPY_MODEL_636f55247fd6454e84476183680117a5",
       "value": " 22/22 [00:00&lt;00:00, 20.73it/s]"
      }
     },
     "271dcbf9709b427f94c10c491b2ad4d3": {
      "model_module": "@jupyter-widgets/controls",
      "model_module_version": "2.0.0",
      "model_name": "HTMLModel",
      "state": {
       "layout": "IPY_MODEL_8af444070f9e4677a13b1d6d71a7372c",
       "style": "IPY_MODEL_8b0b2571e13e4be1b0ff38aff0325bb4",
       "value": " 21/21 [00:00&lt;00:00, 41.48it/s]"
      }
     },
     "2728aadae0ad4cf7b30300b8dd285639": {
      "model_module": "@jupyter-widgets/controls",
      "model_module_version": "2.0.0",
      "model_name": "HTMLStyleModel",
      "state": {
       "description_width": "",
       "font_size": null,
       "text_color": null
      }
     },
     "272934d428b44b43a5aa62c8d97d8a39": {
      "model_module": "@jupyter-widgets/base",
      "model_module_version": "2.0.0",
      "model_name": "LayoutModel",
      "state": {}
     },
     "274e66d1e6054b498744edc54c76f8b7": {
      "model_module": "@jupyter-widgets/controls",
      "model_module_version": "2.0.0",
      "model_name": "HTMLStyleModel",
      "state": {
       "description_width": "",
       "font_size": null,
       "text_color": null
      }
     },
     "276f70dc09564622b300ed49da4a5dd4": {
      "model_module": "@jupyter-widgets/base",
      "model_module_version": "2.0.0",
      "model_name": "LayoutModel",
      "state": {}
     },
     "277fd768d4dd4d28bf08a4229d69afec": {
      "model_module": "@jupyter-widgets/controls",
      "model_module_version": "2.0.0",
      "model_name": "FloatProgressModel",
      "state": {
       "bar_style": "success",
       "layout": "IPY_MODEL_a0b5d659e0f64bc69943d26f0b3edeea",
       "max": 20,
       "style": "IPY_MODEL_b51abdda638d47739fc0b877b3a76583",
       "value": 20
      }
     },
     "278503c0a89746beb0b80e7f31ad25c9": {
      "model_module": "@jupyter-widgets/base",
      "model_module_version": "2.0.0",
      "model_name": "LayoutModel",
      "state": {}
     },
     "2788bf64f5db4427af1fc97c18e5fea3": {
      "model_module": "@jupyter-widgets/controls",
      "model_module_version": "2.0.0",
      "model_name": "HTMLStyleModel",
      "state": {
       "description_width": "",
       "font_size": null,
       "text_color": null
      }
     },
     "278cd049a010471a9e939952c2d0495d": {
      "model_module": "@jupyter-widgets/controls",
      "model_module_version": "2.0.0",
      "model_name": "HTMLStyleModel",
      "state": {
       "description_width": "",
       "font_size": null,
       "text_color": null
      }
     },
     "2790f9a3c4b041b38902d225ce32d78c": {
      "model_module": "@jupyter-widgets/controls",
      "model_module_version": "2.0.0",
      "model_name": "HTMLStyleModel",
      "state": {
       "description_width": "",
       "font_size": null,
       "text_color": null
      }
     },
     "27c843d89df6434e9061770cf65ebe36": {
      "model_module": "@jupyter-widgets/base",
      "model_module_version": "2.0.0",
      "model_name": "LayoutModel",
      "state": {}
     },
     "27d7e7bd9bf34979ab28610706f6c319": {
      "model_module": "@jupyter-widgets/controls",
      "model_module_version": "2.0.0",
      "model_name": "FloatProgressModel",
      "state": {
       "bar_style": "success",
       "layout": "IPY_MODEL_9fb9b94c74e542a4b0a420d7cdc5eab9",
       "max": 23,
       "style": "IPY_MODEL_fe6312ff966f4db18942836f3e02b956",
       "value": 23
      }
     },
     "28187842747e457b83ea44c78c5484ea": {
      "model_module": "@jupyter-widgets/controls",
      "model_module_version": "2.0.0",
      "model_name": "ProgressStyleModel",
      "state": {
       "description_width": ""
      }
     },
     "286d870d211747db9ffdaad78e5cc115": {
      "model_module": "@jupyter-widgets/base",
      "model_module_version": "2.0.0",
      "model_name": "LayoutModel",
      "state": {}
     },
     "288902b6543a46af93a212dedd717ce1": {
      "model_module": "@jupyter-widgets/controls",
      "model_module_version": "2.0.0",
      "model_name": "FloatProgressModel",
      "state": {
       "bar_style": "success",
       "layout": "IPY_MODEL_0ec8d3dabbbf4032b24247c104499676",
       "max": 23,
       "style": "IPY_MODEL_5d87446a337a4b7bbbeec2ec29bb8321",
       "value": 23
      }
     },
     "2895c4f1570946c48dc2ac9ce641dd1c": {
      "model_module": "@jupyter-widgets/base",
      "model_module_version": "2.0.0",
      "model_name": "LayoutModel",
      "state": {}
     },
     "28e489c496004d9389f5b9739fa8e31c": {
      "model_module": "@jupyter-widgets/controls",
      "model_module_version": "2.0.0",
      "model_name": "FloatProgressModel",
      "state": {
       "bar_style": "success",
       "layout": "IPY_MODEL_fca18b381ce44c1ba3cab0248f77ad38",
       "max": 20,
       "style": "IPY_MODEL_6c7d831db0984c31b1998cde95446d7f",
       "value": 20
      }
     },
     "28fbe1d0d1464fbda7d91e3c361ddab4": {
      "model_module": "@jupyter-widgets/controls",
      "model_module_version": "2.0.0",
      "model_name": "HTMLModel",
      "state": {
       "layout": "IPY_MODEL_7b6e8252b3684278945e5c014aee1f3f",
       "style": "IPY_MODEL_1458c9ffa3ab4e3e84fd378ab35a4d45",
       "value": " 21/21 [00:00&lt;00:00, 38.43it/s]"
      }
     },
     "290bf9aa3328457cb1013986b60b70cf": {
      "model_module": "@jupyter-widgets/controls",
      "model_module_version": "2.0.0",
      "model_name": "HTMLModel",
      "state": {
       "layout": "IPY_MODEL_f5e3773c9be6401da61e21ad8435f17d",
       "style": "IPY_MODEL_adc621c584954ac7a2589c4827ac3d11",
       "value": "100%"
      }
     },
     "291029bd831d49b98ecc2882b08427dc": {
      "model_module": "@jupyter-widgets/base",
      "model_module_version": "2.0.0",
      "model_name": "LayoutModel",
      "state": {}
     },
     "2924bad531b74394b92c0bbbf3a07995": {
      "model_module": "@jupyter-widgets/base",
      "model_module_version": "2.0.0",
      "model_name": "LayoutModel",
      "state": {}
     },
     "293bcea711204559beca16fe4e3563e9": {
      "model_module": "@jupyter-widgets/base",
      "model_module_version": "2.0.0",
      "model_name": "LayoutModel",
      "state": {}
     },
     "29de47ac03104e11a2998fdecfe4a2a1": {
      "model_module": "@jupyter-widgets/controls",
      "model_module_version": "2.0.0",
      "model_name": "HTMLStyleModel",
      "state": {
       "description_width": "",
       "font_size": null,
       "text_color": null
      }
     },
     "29e109362e504af1874ad6d568acef62": {
      "model_module": "@jupyter-widgets/base",
      "model_module_version": "2.0.0",
      "model_name": "LayoutModel",
      "state": {}
     },
     "2a05a2df5a4f44a18cffd164de60e26a": {
      "model_module": "@jupyter-widgets/controls",
      "model_module_version": "2.0.0",
      "model_name": "HTMLStyleModel",
      "state": {
       "description_width": "",
       "font_size": null,
       "text_color": null
      }
     },
     "2a0853b6a78a4dc089d89cd3ef56b9da": {
      "model_module": "@jupyter-widgets/controls",
      "model_module_version": "2.0.0",
      "model_name": "HTMLModel",
      "state": {
       "layout": "IPY_MODEL_19bac7c06e094427aef00630ced76e99",
       "style": "IPY_MODEL_904da93be7a04bc6ab1542a9192b8c83",
       "value": " 22/22 [00:00&lt;00:00, 41.66it/s]"
      }
     },
     "2a11c4cdbcd0419db9f5bbb9e67a9139": {
      "model_module": "@jupyter-widgets/controls",
      "model_module_version": "2.0.0",
      "model_name": "HTMLModel",
      "state": {
       "layout": "IPY_MODEL_c99d3d1c6fc34119a7512b236b7ea1ae",
       "style": "IPY_MODEL_b60168d5b47a4425a45c4988a4549d71",
       "value": " 23/23 [00:00&lt;00:00, 23.98it/s]"
      }
     },
     "2a5602f52ab6421e830e22aed23b786d": {
      "model_module": "@jupyter-widgets/base",
      "model_module_version": "2.0.0",
      "model_name": "LayoutModel",
      "state": {}
     },
     "2a744f7939b64bb1a9d1673bb2da6661": {
      "model_module": "@jupyter-widgets/base",
      "model_module_version": "2.0.0",
      "model_name": "LayoutModel",
      "state": {}
     },
     "2a8ac54fe8eb46deb9342ec213f40cc7": {
      "model_module": "@jupyter-widgets/controls",
      "model_module_version": "2.0.0",
      "model_name": "FloatProgressModel",
      "state": {
       "bar_style": "success",
       "layout": "IPY_MODEL_fe01f133ef0b4fa8a39999eaddd11c40",
       "max": 22,
       "style": "IPY_MODEL_1ace236b52454cddafc997829c58077e",
       "value": 22
      }
     },
     "2aaa0284abf141c1a6f4647872a954a1": {
      "model_module": "@jupyter-widgets/controls",
      "model_module_version": "2.0.0",
      "model_name": "FloatProgressModel",
      "state": {
       "bar_style": "success",
       "layout": "IPY_MODEL_e7d963f6ad3b4aafaa3cde9abb5b4295",
       "max": 23,
       "style": "IPY_MODEL_691744b87ed542be93a63e29c08f8ea2",
       "value": 23
      }
     },
     "2aadf98a1bba4832a1d4833400723419": {
      "model_module": "@jupyter-widgets/controls",
      "model_module_version": "2.0.0",
      "model_name": "ProgressStyleModel",
      "state": {
       "description_width": ""
      }
     },
     "2af94bac476d4b4eb4be88ac8c057b8a": {
      "model_module": "@jupyter-widgets/base",
      "model_module_version": "2.0.0",
      "model_name": "LayoutModel",
      "state": {}
     },
     "2b138ca9bb154cd3a9a167ace66a538b": {
      "model_module": "@jupyter-widgets/base",
      "model_module_version": "2.0.0",
      "model_name": "LayoutModel",
      "state": {}
     },
     "2b1b33ee26f746a7b927b9ca47f25d38": {
      "model_module": "@jupyter-widgets/controls",
      "model_module_version": "2.0.0",
      "model_name": "FloatProgressModel",
      "state": {
       "bar_style": "success",
       "layout": "IPY_MODEL_f33774fa64ed4db3a2461cc01c1dfe34",
       "max": 22,
       "style": "IPY_MODEL_bfe84e6d850e4574b1b0cbef739d4989",
       "value": 22
      }
     },
     "2b2cca97df7e4230a8a2dbc1a075f7b9": {
      "model_module": "@jupyter-widgets/base",
      "model_module_version": "2.0.0",
      "model_name": "LayoutModel",
      "state": {}
     },
     "2b356b612bf048a6a0db28b239280a1c": {
      "model_module": "@jupyter-widgets/controls",
      "model_module_version": "2.0.0",
      "model_name": "HTMLModel",
      "state": {
       "layout": "IPY_MODEL_b95cc6902a0b439ab107e78723f8cab0",
       "style": "IPY_MODEL_e241f34130994c1297e3720ad6b56356",
       "value": " 22/22 [00:00&lt;00:00, 22.12it/s]"
      }
     },
     "2b4df78879284157837d6668e6d38817": {
      "model_module": "@jupyter-widgets/controls",
      "model_module_version": "2.0.0",
      "model_name": "HTMLModel",
      "state": {
       "layout": "IPY_MODEL_188879df589e425fa216a8d03a8777fd",
       "style": "IPY_MODEL_1c97f5f5470b42108c7423cba18d1adf",
       "value": " 20/20 [00:00&lt;00:00, 22.40it/s]"
      }
     },
     "2b6edf97a94e48499c7ac7fd08c0103a": {
      "model_module": "@jupyter-widgets/controls",
      "model_module_version": "2.0.0",
      "model_name": "HTMLModel",
      "state": {
       "layout": "IPY_MODEL_7a57274d0999487fa461b8dc35e06c31",
       "style": "IPY_MODEL_6bb0543c893d4445a2154cbf52960aac",
       "value": " 22/22 [00:01&lt;00:00, 20.97it/s]"
      }
     },
     "2b76cdb20cdc4f9ea0b04966b4e2c4c3": {
      "model_module": "@jupyter-widgets/base",
      "model_module_version": "2.0.0",
      "model_name": "LayoutModel",
      "state": {}
     },
     "2b7c983287644358a9ffbedee7719565": {
      "model_module": "@jupyter-widgets/base",
      "model_module_version": "2.0.0",
      "model_name": "LayoutModel",
      "state": {}
     },
     "2b8244731ae643d0af22d477958da78e": {
      "model_module": "@jupyter-widgets/controls",
      "model_module_version": "2.0.0",
      "model_name": "ProgressStyleModel",
      "state": {
       "description_width": ""
      }
     },
     "2b9667bdf8334bc3808bf2df16fb5fa1": {
      "model_module": "@jupyter-widgets/controls",
      "model_module_version": "2.0.0",
      "model_name": "HTMLModel",
      "state": {
       "layout": "IPY_MODEL_b866410b8e7342358c82bbd403b9daec",
       "style": "IPY_MODEL_02302431c9b54b868c851f01288f3230",
       "value": " 22/22 [00:00&lt;00:00, 47.82it/s]"
      }
     },
     "2bc7f21312714f9eacdbdf0c02a8e459": {
      "model_module": "@jupyter-widgets/base",
      "model_module_version": "2.0.0",
      "model_name": "LayoutModel",
      "state": {}
     },
     "2bceca44b32b4a4d9dd5529ac30091b0": {
      "model_module": "@jupyter-widgets/base",
      "model_module_version": "2.0.0",
      "model_name": "LayoutModel",
      "state": {}
     },
     "2c2c00d32b03477f95297f25e3bcfb36": {
      "model_module": "@jupyter-widgets/base",
      "model_module_version": "2.0.0",
      "model_name": "LayoutModel",
      "state": {}
     },
     "2c46e75b8e3045a99b4040dfe827bf57": {
      "model_module": "@jupyter-widgets/controls",
      "model_module_version": "2.0.0",
      "model_name": "FloatProgressModel",
      "state": {
       "bar_style": "success",
       "layout": "IPY_MODEL_5b08d77cb45544bca986008c8b1e9ab1",
       "max": 20,
       "style": "IPY_MODEL_79a9d3dd828846978371037357e27dd1",
       "value": 20
      }
     },
     "2c5583527ee0443592c2a2b8e35e2898": {
      "model_module": "@jupyter-widgets/controls",
      "model_module_version": "2.0.0",
      "model_name": "ProgressStyleModel",
      "state": {
       "description_width": ""
      }
     },
     "2c67d1b9383249de9148d6081c368016": {
      "model_module": "@jupyter-widgets/controls",
      "model_module_version": "2.0.0",
      "model_name": "ProgressStyleModel",
      "state": {
       "description_width": ""
      }
     },
     "2c7bd19b527c477c88416515f260adee": {
      "model_module": "@jupyter-widgets/controls",
      "model_module_version": "2.0.0",
      "model_name": "HTMLModel",
      "state": {
       "layout": "IPY_MODEL_e551a1f17afe4464853600e51dee603c",
       "style": "IPY_MODEL_54669186f1bb46e1b73d7f0479ba115f",
       "value": " 23/23 [00:00&lt;00:00, 39.22it/s]"
      }
     },
     "2c8bc3c4639042b0862eb8db8249c2e8": {
      "model_module": "@jupyter-widgets/controls",
      "model_module_version": "2.0.0",
      "model_name": "FloatProgressModel",
      "state": {
       "bar_style": "success",
       "layout": "IPY_MODEL_f9cf047e1b3448b583a0e2e91f035ba8",
       "max": 21,
       "style": "IPY_MODEL_e829ff3ad70249428b2a30806e40b277",
       "value": 21
      }
     },
     "2cb221b70db84f5c98d7be72dd880203": {
      "model_module": "@jupyter-widgets/controls",
      "model_module_version": "2.0.0",
      "model_name": "HTMLModel",
      "state": {
       "layout": "IPY_MODEL_23e2fe721fe046dea9085e18ce0eb640",
       "style": "IPY_MODEL_87441247a8f540dbbd72bde699ca789d",
       "value": " 22/22 [00:00&lt;00:00, 39.62it/s]"
      }
     },
     "2cc3f716007248679c6cf1752b70a32f": {
      "model_module": "@jupyter-widgets/controls",
      "model_module_version": "2.0.0",
      "model_name": "HTMLStyleModel",
      "state": {
       "description_width": "",
       "font_size": null,
       "text_color": null
      }
     },
     "2cc8de0eb04244f393663f5072a17e12": {
      "model_module": "@jupyter-widgets/base",
      "model_module_version": "2.0.0",
      "model_name": "LayoutModel",
      "state": {}
     },
     "2cd2409b9e8649e0a6bafd8bf26acc7d": {
      "model_module": "@jupyter-widgets/base",
      "model_module_version": "2.0.0",
      "model_name": "LayoutModel",
      "state": {}
     },
     "2cd635082d064fc29a6f6521446e7cb3": {
      "model_module": "@jupyter-widgets/controls",
      "model_module_version": "2.0.0",
      "model_name": "HBoxModel",
      "state": {
       "children": [
        "IPY_MODEL_5008e89ffecd4aa9975ff6f3fafbf39f",
        "IPY_MODEL_e24f2e9d024a4ff6bb7f5f09844398c7",
        "IPY_MODEL_7d20333e6bb248289b503579ddb05ebe"
       ],
       "layout": "IPY_MODEL_bdff4434e39b41debf64339d3b6d316c"
      }
     },
     "2cffd33ef3dc434fae208e9a63461291": {
      "model_module": "@jupyter-widgets/controls",
      "model_module_version": "2.0.0",
      "model_name": "HTMLStyleModel",
      "state": {
       "description_width": "",
       "font_size": null,
       "text_color": null
      }
     },
     "2d17bd480ffd485aaf03e7c81d5a1f1d": {
      "model_module": "@jupyter-widgets/base",
      "model_module_version": "2.0.0",
      "model_name": "LayoutModel",
      "state": {}
     },
     "2d2cab5db7f147f0845a2168bd4bc0fb": {
      "model_module": "@jupyter-widgets/controls",
      "model_module_version": "2.0.0",
      "model_name": "HTMLStyleModel",
      "state": {
       "description_width": "",
       "font_size": null,
       "text_color": null
      }
     },
     "2d2f10c19095429b8e7b1b1eac9000a9": {
      "model_module": "@jupyter-widgets/controls",
      "model_module_version": "2.0.0",
      "model_name": "HTMLStyleModel",
      "state": {
       "description_width": "",
       "font_size": null,
       "text_color": null
      }
     },
     "2d3af7b184a9470182b1229a39688b9f": {
      "model_module": "@jupyter-widgets/base",
      "model_module_version": "2.0.0",
      "model_name": "LayoutModel",
      "state": {}
     },
     "2d4a2875f9054168974104a4775b22b0": {
      "model_module": "@jupyter-widgets/controls",
      "model_module_version": "2.0.0",
      "model_name": "HBoxModel",
      "state": {
       "children": [
        "IPY_MODEL_0549261006184b4b9bab0817b8ffdff3",
        "IPY_MODEL_e66297a8308740d69043bdf70e1d0042",
        "IPY_MODEL_0276e2b9405e4ccf93a6b3206b69edd8"
       ],
       "layout": "IPY_MODEL_4e057feee5cf40c6b7f4f9478a15590a"
      }
     },
     "2d9d894500394c38a65522d78f88537a": {
      "model_module": "@jupyter-widgets/controls",
      "model_module_version": "2.0.0",
      "model_name": "HTMLStyleModel",
      "state": {
       "description_width": "",
       "font_size": null,
       "text_color": null
      }
     },
     "2dc49ee5923c4c659c8fa86c00f585c0": {
      "model_module": "@jupyter-widgets/base",
      "model_module_version": "2.0.0",
      "model_name": "LayoutModel",
      "state": {}
     },
     "2dd8dc965edd48759400dc236599ca8c": {
      "model_module": "@jupyter-widgets/controls",
      "model_module_version": "2.0.0",
      "model_name": "FloatProgressModel",
      "state": {
       "bar_style": "success",
       "layout": "IPY_MODEL_a521f1149af949c9ab07b93984e7a173",
       "max": 20,
       "style": "IPY_MODEL_efaa2b68aa3c4436b87354a5b6727da7",
       "value": 20
      }
     },
     "2e0fb1d936e4487a85a590795a398129": {
      "model_module": "@jupyter-widgets/base",
      "model_module_version": "2.0.0",
      "model_name": "LayoutModel",
      "state": {}
     },
     "2e4a21a9294146cfb78029d90850669a": {
      "model_module": "@jupyter-widgets/controls",
      "model_module_version": "2.0.0",
      "model_name": "FloatProgressModel",
      "state": {
       "bar_style": "success",
       "layout": "IPY_MODEL_a9d7bc77b6e54a5d989c9c9fd541037f",
       "max": 20,
       "style": "IPY_MODEL_bc44688cdea442e0b9870d89b44855ff",
       "value": 20
      }
     },
     "2e59bb1f9a9a4b03902ee70e298f3464": {
      "model_module": "@jupyter-widgets/controls",
      "model_module_version": "2.0.0",
      "model_name": "HBoxModel",
      "state": {
       "children": [
        "IPY_MODEL_b1a435b6b22940939d72481a49297a29",
        "IPY_MODEL_ce12e97dcb074032bf260b9a3500b88b",
        "IPY_MODEL_a574ac8839fe444a8c5dd5a4e6d19069"
       ],
       "layout": "IPY_MODEL_3708cfbe6c05488da224b5a05469013f"
      }
     },
     "2e7226db9c2442b4992140f6b6f2e83b": {
      "model_module": "@jupyter-widgets/controls",
      "model_module_version": "2.0.0",
      "model_name": "HTMLModel",
      "state": {
       "layout": "IPY_MODEL_e9fe1dd463e64ae49baee8a6982bdc89",
       "style": "IPY_MODEL_b78291b2e9d545ffb8b317a321e826e0",
       "value": "100%"
      }
     },
     "2e7806c5b8dc4a71b902bed92e34405a": {
      "model_module": "@jupyter-widgets/controls",
      "model_module_version": "2.0.0",
      "model_name": "HTMLModel",
      "state": {
       "layout": "IPY_MODEL_be74ff419f534b50886210c4594e0926",
       "style": "IPY_MODEL_3136be0352ef49d9b8cee861b297291b",
       "value": "100%"
      }
     },
     "2e803342475e4f1faf53e322ed962e89": {
      "model_module": "@jupyter-widgets/controls",
      "model_module_version": "2.0.0",
      "model_name": "HBoxModel",
      "state": {
       "children": [
        "IPY_MODEL_caf3bc0637024307b025e057b6b8c239",
        "IPY_MODEL_c26dd7ae64e24dc68b18adbaff47f34b",
        "IPY_MODEL_9b22a98683ca46d19a07f02e9f5b4931"
       ],
       "layout": "IPY_MODEL_2895c4f1570946c48dc2ac9ce641dd1c"
      }
     },
     "2e842587d9ae4fc08ecb99ed4b27f467": {
      "model_module": "@jupyter-widgets/controls",
      "model_module_version": "2.0.0",
      "model_name": "HTMLModel",
      "state": {
       "layout": "IPY_MODEL_230c0199cbda4a92b12b63b16f989f89",
       "style": "IPY_MODEL_99b94e1a350646e995cf705b371f494f",
       "value": "100%"
      }
     },
     "2eb016aae80d408a8a54c168ec2bfa8d": {
      "model_module": "@jupyter-widgets/controls",
      "model_module_version": "2.0.0",
      "model_name": "HTMLModel",
      "state": {
       "layout": "IPY_MODEL_660b02e20efe4b3db5be93c8da0e2e76",
       "style": "IPY_MODEL_fdedc53238a342799f8bb9e4609da232",
       "value": "100%"
      }
     },
     "2eb1ccf5e4d54c7f8ced73ed56cb589b": {
      "model_module": "@jupyter-widgets/base",
      "model_module_version": "2.0.0",
      "model_name": "LayoutModel",
      "state": {}
     },
     "2eb47d854c194a269862fb45ee86d1ab": {
      "model_module": "@jupyter-widgets/base",
      "model_module_version": "2.0.0",
      "model_name": "LayoutModel",
      "state": {}
     },
     "2eba5f3e468344f0b100374ca5ef106b": {
      "model_module": "@jupyter-widgets/base",
      "model_module_version": "2.0.0",
      "model_name": "LayoutModel",
      "state": {}
     },
     "2ee3ceba90194fae9f0b5c24043e07a4": {
      "model_module": "@jupyter-widgets/controls",
      "model_module_version": "2.0.0",
      "model_name": "HBoxModel",
      "state": {
       "children": [
        "IPY_MODEL_6cbd0cc893fe40b898dc0e8c7725e586",
        "IPY_MODEL_f783ffe10a834b079ab5359e60ee64c6",
        "IPY_MODEL_8ab5cfd4074f49f7ac826dbfb205badf"
       ],
       "layout": "IPY_MODEL_26e427b57b624d5eb6ccd2d57704f7bc"
      }
     },
     "2eedfb722ce44bcebd64be10387dda2d": {
      "model_module": "@jupyter-widgets/base",
      "model_module_version": "2.0.0",
      "model_name": "LayoutModel",
      "state": {}
     },
     "2f0cbd9973c6455d89559e82f4045d0f": {
      "model_module": "@jupyter-widgets/controls",
      "model_module_version": "2.0.0",
      "model_name": "HTMLModel",
      "state": {
       "layout": "IPY_MODEL_676c54e8d291462cbfe7b6b080ddf901",
       "style": "IPY_MODEL_65f23a0864b040bcadec7ccd9f5f263a",
       "value": "100%"
      }
     },
     "2f170ff4312f4e2db4d26d92e1864ecc": {
      "model_module": "@jupyter-widgets/controls",
      "model_module_version": "2.0.0",
      "model_name": "HBoxModel",
      "state": {
       "children": [
        "IPY_MODEL_3fe6e5a19b27446e90662a1880ed72bc",
        "IPY_MODEL_75e49d23613e45af9212d15479f2010b",
        "IPY_MODEL_03e626160cca464fa3a1b00bd91d6b4c"
       ],
       "layout": "IPY_MODEL_d1217ba7c17c43e7afdd0c6a6ac3ad91"
      }
     },
     "2f18814ec7c746a2884fab2f9583eef6": {
      "model_module": "@jupyter-widgets/base",
      "model_module_version": "2.0.0",
      "model_name": "LayoutModel",
      "state": {}
     },
     "2f2520c0149b4256b4cd2d7545e4c45e": {
      "model_module": "@jupyter-widgets/controls",
      "model_module_version": "2.0.0",
      "model_name": "ProgressStyleModel",
      "state": {
       "description_width": ""
      }
     },
     "2f33a54eda5743c3a231f16e4b91e3ef": {
      "model_module": "@jupyter-widgets/controls",
      "model_module_version": "2.0.0",
      "model_name": "HTMLStyleModel",
      "state": {
       "description_width": "",
       "font_size": null,
       "text_color": null
      }
     },
     "2f3b351ee777474789daadd92081c89b": {
      "model_module": "@jupyter-widgets/base",
      "model_module_version": "2.0.0",
      "model_name": "LayoutModel",
      "state": {}
     },
     "2f46ce41dd8943349035e906090f330b": {
      "model_module": "@jupyter-widgets/controls",
      "model_module_version": "2.0.0",
      "model_name": "HBoxModel",
      "state": {
       "children": [
        "IPY_MODEL_add3b4adedca40c48c2fd85b8158bdf6",
        "IPY_MODEL_5d780dc17b5549a4ac0e5af93e438ef8",
        "IPY_MODEL_816b2484490f4ae49d2f80d297d25609"
       ],
       "layout": "IPY_MODEL_f0f6ee2dd7f54c8c880d0961e0133754"
      }
     },
     "2f4cb9759c36458fbec7e1cf942cc029": {
      "model_module": "@jupyter-widgets/base",
      "model_module_version": "2.0.0",
      "model_name": "LayoutModel",
      "state": {}
     },
     "2f506f9ca344429990532d6da2565bc5": {
      "model_module": "@jupyter-widgets/controls",
      "model_module_version": "2.0.0",
      "model_name": "HTMLModel",
      "state": {
       "layout": "IPY_MODEL_868697c6ed4942ae8111bfb8f9bed218",
       "style": "IPY_MODEL_31b1de5f5cd740a7bc1e5c42d0bb0b5e",
       "value": "100%"
      }
     },
     "2f5797c93fa3412c8d0a8a83af424825": {
      "model_module": "@jupyter-widgets/controls",
      "model_module_version": "2.0.0",
      "model_name": "HTMLStyleModel",
      "state": {
       "description_width": "",
       "font_size": null,
       "text_color": null
      }
     },
     "2f64f6f681f64394bd66de93bfba2d73": {
      "model_module": "@jupyter-widgets/controls",
      "model_module_version": "2.0.0",
      "model_name": "HTMLStyleModel",
      "state": {
       "description_width": "",
       "font_size": null,
       "text_color": null
      }
     },
     "2f655dcd27ba4d0f86b1db7e7460bc0d": {
      "model_module": "@jupyter-widgets/base",
      "model_module_version": "2.0.0",
      "model_name": "LayoutModel",
      "state": {}
     },
     "2f6ba212298a45c9be0a6f23ef7fcd3a": {
      "model_module": "@jupyter-widgets/base",
      "model_module_version": "2.0.0",
      "model_name": "LayoutModel",
      "state": {}
     },
     "2f8d8a0a417d4e90878f14217209cadf": {
      "model_module": "@jupyter-widgets/controls",
      "model_module_version": "2.0.0",
      "model_name": "FloatProgressModel",
      "state": {
       "bar_style": "success",
       "layout": "IPY_MODEL_e1c9cdf19d10455489429fdb01ebe150",
       "max": 22,
       "style": "IPY_MODEL_064a7da9d5b547fdbb6adc0df6b52112",
       "value": 22
      }
     },
     "2fae89173ee64fe8af22585e12f08d23": {
      "model_module": "@jupyter-widgets/base",
      "model_module_version": "2.0.0",
      "model_name": "LayoutModel",
      "state": {}
     },
     "2fbb772f812f434e957802b21fbc48b0": {
      "model_module": "@jupyter-widgets/controls",
      "model_module_version": "2.0.0",
      "model_name": "HTMLStyleModel",
      "state": {
       "description_width": "",
       "font_size": null,
       "text_color": null
      }
     },
     "2ffbd650f937495eb609d4e12e216ede": {
      "model_module": "@jupyter-widgets/controls",
      "model_module_version": "2.0.0",
      "model_name": "HTMLStyleModel",
      "state": {
       "description_width": "",
       "font_size": null,
       "text_color": null
      }
     },
     "303733a842ea4fa59f252abf66e9ff17": {
      "model_module": "@jupyter-widgets/controls",
      "model_module_version": "2.0.0",
      "model_name": "ProgressStyleModel",
      "state": {
       "description_width": ""
      }
     },
     "30423afac4804c0688aa782b34e6ac53": {
      "model_module": "@jupyter-widgets/base",
      "model_module_version": "2.0.0",
      "model_name": "LayoutModel",
      "state": {}
     },
     "3047ce5d6a654f93ae964629b5d7febe": {
      "model_module": "@jupyter-widgets/base",
      "model_module_version": "2.0.0",
      "model_name": "LayoutModel",
      "state": {}
     },
     "307d95ecdc15474d952437fbf8df2e5e": {
      "model_module": "@jupyter-widgets/base",
      "model_module_version": "2.0.0",
      "model_name": "LayoutModel",
      "state": {}
     },
     "30942e9d470d4537838b99cbacbd86c5": {
      "model_module": "@jupyter-widgets/base",
      "model_module_version": "2.0.0",
      "model_name": "LayoutModel",
      "state": {}
     },
     "30c702949030458cb31203e41ea8f462": {
      "model_module": "@jupyter-widgets/controls",
      "model_module_version": "2.0.0",
      "model_name": "HTMLModel",
      "state": {
       "layout": "IPY_MODEL_4ecd5953d1414c6e8caf414dd8040cb2",
       "style": "IPY_MODEL_f3af5486fa0a4fbdb4bbcb0600d40aaf",
       "value": " 21/21 [00:00&lt;00:00, 21.24it/s]"
      }
     },
     "30d860d23de5421992c5dffa8a4e9b92": {
      "model_module": "@jupyter-widgets/controls",
      "model_module_version": "2.0.0",
      "model_name": "HTMLStyleModel",
      "state": {
       "description_width": "",
       "font_size": null,
       "text_color": null
      }
     },
     "30f51f00857041ada19bb6b6e0e9a7c3": {
      "model_module": "@jupyter-widgets/controls",
      "model_module_version": "2.0.0",
      "model_name": "FloatProgressModel",
      "state": {
       "bar_style": "success",
       "layout": "IPY_MODEL_caf7202020e54c9da7e85b8bf725bfcf",
       "max": 23,
       "style": "IPY_MODEL_0068ae2e0e32462e91bdda0b360fbc53",
       "value": 23
      }
     },
     "30f6ca2196864c549b38a67cd3899d25": {
      "model_module": "@jupyter-widgets/controls",
      "model_module_version": "2.0.0",
      "model_name": "FloatProgressModel",
      "state": {
       "bar_style": "success",
       "layout": "IPY_MODEL_62a91738869f4a03abb97f26f98d2d4a",
       "max": 23,
       "style": "IPY_MODEL_a064d0d5c4ef44859069c3f4ed4d1447",
       "value": 23
      }
     },
     "3114c589eda6419d9d17374ffac2baaf": {
      "model_module": "@jupyter-widgets/base",
      "model_module_version": "2.0.0",
      "model_name": "LayoutModel",
      "state": {}
     },
     "3136be0352ef49d9b8cee861b297291b": {
      "model_module": "@jupyter-widgets/controls",
      "model_module_version": "2.0.0",
      "model_name": "HTMLStyleModel",
      "state": {
       "description_width": "",
       "font_size": null,
       "text_color": null
      }
     },
     "3144aec586e84e819a5b684655596e10": {
      "model_module": "@jupyter-widgets/controls",
      "model_module_version": "2.0.0",
      "model_name": "HTMLStyleModel",
      "state": {
       "description_width": "",
       "font_size": null,
       "text_color": null
      }
     },
     "315cda70662b4cf39bf9cfaaf92e4f22": {
      "model_module": "@jupyter-widgets/base",
      "model_module_version": "2.0.0",
      "model_name": "LayoutModel",
      "state": {}
     },
     "317b16c9bbe043b0960efdd5fa6dfe32": {
      "model_module": "@jupyter-widgets/controls",
      "model_module_version": "2.0.0",
      "model_name": "HBoxModel",
      "state": {
       "children": [
        "IPY_MODEL_b73b5e0a6bac408692f48182c15ef9fb",
        "IPY_MODEL_2395c98f435d4372b39a8db51aae6f1c",
        "IPY_MODEL_9821a01e347f432da5d8d400098d005b"
       ],
       "layout": "IPY_MODEL_aea61b2e19fb44debef788ec70355451"
      }
     },
     "319506c09388492f9a598fa55a42e014": {
      "model_module": "@jupyter-widgets/controls",
      "model_module_version": "2.0.0",
      "model_name": "HTMLStyleModel",
      "state": {
       "description_width": "",
       "font_size": null,
       "text_color": null
      }
     },
     "31b1de5f5cd740a7bc1e5c42d0bb0b5e": {
      "model_module": "@jupyter-widgets/controls",
      "model_module_version": "2.0.0",
      "model_name": "HTMLStyleModel",
      "state": {
       "description_width": "",
       "font_size": null,
       "text_color": null
      }
     },
     "31d5ecc7b8a640feacb5b3db7c4ef534": {
      "model_module": "@jupyter-widgets/base",
      "model_module_version": "2.0.0",
      "model_name": "LayoutModel",
      "state": {}
     },
     "31ed9f7bf6144607a546892fec780b0b": {
      "model_module": "@jupyter-widgets/controls",
      "model_module_version": "2.0.0",
      "model_name": "FloatProgressModel",
      "state": {
       "bar_style": "success",
       "layout": "IPY_MODEL_5e9d6385a3ba48648e2678eeea261e7e",
       "max": 20,
       "style": "IPY_MODEL_ddf29e974c264552be827a634da3cbdb",
       "value": 20
      }
     },
     "320f9f616e1743a5ad82a886d55e028a": {
      "model_module": "@jupyter-widgets/base",
      "model_module_version": "2.0.0",
      "model_name": "LayoutModel",
      "state": {}
     },
     "32150b5212974ed1ad12a54cc927a35a": {
      "model_module": "@jupyter-widgets/controls",
      "model_module_version": "2.0.0",
      "model_name": "HTMLStyleModel",
      "state": {
       "description_width": "",
       "font_size": null,
       "text_color": null
      }
     },
     "32fb116632a54dac9691221f775062e4": {
      "model_module": "@jupyter-widgets/base",
      "model_module_version": "2.0.0",
      "model_name": "LayoutModel",
      "state": {}
     },
     "33094acb302446d1809afcc603b13986": {
      "model_module": "@jupyter-widgets/controls",
      "model_module_version": "2.0.0",
      "model_name": "HTMLModel",
      "state": {
       "layout": "IPY_MODEL_ca68ab32961d4f17868288544157d7e9",
       "style": "IPY_MODEL_fd3d7d83820a4ba3a728fd78ac740c91",
       "value": " 22/22 [00:00&lt;00:00, 314.54it/s]"
      }
     },
     "330f66d9b13447869974a130148292c7": {
      "model_module": "@jupyter-widgets/base",
      "model_module_version": "2.0.0",
      "model_name": "LayoutModel",
      "state": {}
     },
     "331cf018db724a5f8ab97c6d528fcfad": {
      "model_module": "@jupyter-widgets/base",
      "model_module_version": "2.0.0",
      "model_name": "LayoutModel",
      "state": {}
     },
     "331fc214ad1e4dcba062b535936c0c52": {
      "model_module": "@jupyter-widgets/base",
      "model_module_version": "2.0.0",
      "model_name": "LayoutModel",
      "state": {}
     },
     "332eae56d751480fb6ad36f39b247937": {
      "model_module": "@jupyter-widgets/controls",
      "model_module_version": "2.0.0",
      "model_name": "HTMLStyleModel",
      "state": {
       "description_width": "",
       "font_size": null,
       "text_color": null
      }
     },
     "3333a7b4ef554e0d806efc74512cc17a": {
      "model_module": "@jupyter-widgets/controls",
      "model_module_version": "2.0.0",
      "model_name": "HTMLStyleModel",
      "state": {
       "description_width": "",
       "font_size": null,
       "text_color": null
      }
     },
     "335a2bcb3db845909f583463bb7330bb": {
      "model_module": "@jupyter-widgets/controls",
      "model_module_version": "2.0.0",
      "model_name": "FloatProgressModel",
      "state": {
       "bar_style": "success",
       "layout": "IPY_MODEL_b07be7c9f7944fee869e2f0e9e8f7a72",
       "max": 20,
       "style": "IPY_MODEL_41d38c45ce1249e5a80dec20034046ee",
       "value": 20
      }
     },
     "3379fe1d04bc4051b9791702c3ee5a7c": {
      "model_module": "@jupyter-widgets/base",
      "model_module_version": "2.0.0",
      "model_name": "LayoutModel",
      "state": {}
     },
     "33817e843df84ed98920fa6d9f55ba88": {
      "model_module": "@jupyter-widgets/base",
      "model_module_version": "2.0.0",
      "model_name": "LayoutModel",
      "state": {}
     },
     "33a7376f2be345e3bd5df5525fb4f7c2": {
      "model_module": "@jupyter-widgets/controls",
      "model_module_version": "2.0.0",
      "model_name": "HTMLStyleModel",
      "state": {
       "description_width": "",
       "font_size": null,
       "text_color": null
      }
     },
     "33c41e14375740bf935752a67ef3af8b": {
      "model_module": "@jupyter-widgets/controls",
      "model_module_version": "2.0.0",
      "model_name": "HBoxModel",
      "state": {
       "children": [
        "IPY_MODEL_bda4f214c5214fab8b0d8a4be334713f",
        "IPY_MODEL_857ed340ffde4d709a37c433ec43763a",
        "IPY_MODEL_91da560d501647119e1f6ce0eba7d0af"
       ],
       "layout": "IPY_MODEL_13c183b6e7e94d0385058848fa21579d"
      }
     },
     "33cfb938280e44b49e905299e31704bf": {
      "model_module": "@jupyter-widgets/controls",
      "model_module_version": "2.0.0",
      "model_name": "HTMLStyleModel",
      "state": {
       "description_width": "",
       "font_size": null,
       "text_color": null
      }
     },
     "33f5c0a3a3f94db3b07b033f929c2623": {
      "model_module": "@jupyter-widgets/controls",
      "model_module_version": "2.0.0",
      "model_name": "HTMLModel",
      "state": {
       "layout": "IPY_MODEL_57d1d3a72b23465ab9705165fc2070f9",
       "style": "IPY_MODEL_a4110138471941e2afd61462fff11712",
       "value": " 20/20 [00:00&lt;00:00, 37.63it/s]"
      }
     },
     "33fcef211c714c239de5fd52add9fbcb": {
      "model_module": "@jupyter-widgets/controls",
      "model_module_version": "2.0.0",
      "model_name": "HBoxModel",
      "state": {
       "children": [
        "IPY_MODEL_541f835a44994ca0a479a80adabf5032",
        "IPY_MODEL_b0bf5766f4324a888267a735b43f727c",
        "IPY_MODEL_afa6a7ada5434afba01116d065500d6f"
       ],
       "layout": "IPY_MODEL_9b9219e91f4e4a41820d294400d0e8dd"
      }
     },
     "340d99245c8a4716975b40a642948188": {
      "model_module": "@jupyter-widgets/base",
      "model_module_version": "2.0.0",
      "model_name": "LayoutModel",
      "state": {}
     },
     "3464a7eaa93c4b808512e982821f4359": {
      "model_module": "@jupyter-widgets/base",
      "model_module_version": "2.0.0",
      "model_name": "LayoutModel",
      "state": {}
     },
     "349222d73cd746268b2271149ab2346d": {
      "model_module": "@jupyter-widgets/controls",
      "model_module_version": "2.0.0",
      "model_name": "HTMLModel",
      "state": {
       "layout": "IPY_MODEL_881fe5edb8ef4507ba3c8873e51c7abd",
       "style": "IPY_MODEL_7b90cc4aa84b45d5826473c00449b5a5",
       "value": " 23/23 [00:00&lt;00:00, 38.40it/s]"
      }
     },
     "34e07de7c354402f8a42c43eb9201993": {
      "model_module": "@jupyter-widgets/controls",
      "model_module_version": "2.0.0",
      "model_name": "HTMLModel",
      "state": {
       "layout": "IPY_MODEL_3a00561fb14d4c6fbfd3208d245839f5",
       "style": "IPY_MODEL_8f67506dd5034834a456fbe6c576d196",
       "value": " 22/22 [00:00&lt;00:00, 30.81it/s]"
      }
     },
     "35206c8c40cd4229a6f37cefd1ce33e9": {
      "model_module": "@jupyter-widgets/controls",
      "model_module_version": "2.0.0",
      "model_name": "HBoxModel",
      "state": {
       "children": [
        "IPY_MODEL_ce462fe15b01438ca06b5abb3d4af311",
        "IPY_MODEL_b91f346cf666409bbdcc06832221d1b5",
        "IPY_MODEL_254c3c939a1a4058afb9300d80498e85"
       ],
       "layout": "IPY_MODEL_9e294db0c05f402385a455b0b09ceaf3"
      }
     },
     "35375a6417fb4109b7afd4aca61794bf": {
      "model_module": "@jupyter-widgets/base",
      "model_module_version": "2.0.0",
      "model_name": "LayoutModel",
      "state": {}
     },
     "353acd54bb774df78cc40448e014daf7": {
      "model_module": "@jupyter-widgets/base",
      "model_module_version": "2.0.0",
      "model_name": "LayoutModel",
      "state": {}
     },
     "35450f8e8d664ad995970d4c93c472bf": {
      "model_module": "@jupyter-widgets/base",
      "model_module_version": "2.0.0",
      "model_name": "LayoutModel",
      "state": {}
     },
     "354dfbc0ca6f46b985999eb541ceea08": {
      "model_module": "@jupyter-widgets/base",
      "model_module_version": "2.0.0",
      "model_name": "LayoutModel",
      "state": {}
     },
     "35523bbce1024104844f52d208f64f8b": {
      "model_module": "@jupyter-widgets/base",
      "model_module_version": "2.0.0",
      "model_name": "LayoutModel",
      "state": {}
     },
     "35abd7d78ce243d39bb9bba64958ca02": {
      "model_module": "@jupyter-widgets/base",
      "model_module_version": "2.0.0",
      "model_name": "LayoutModel",
      "state": {}
     },
     "35b63cf947ed44b09bef885c616dfc62": {
      "model_module": "@jupyter-widgets/controls",
      "model_module_version": "2.0.0",
      "model_name": "ProgressStyleModel",
      "state": {
       "description_width": ""
      }
     },
     "360fc7d1a83f4daf813c7715879484a8": {
      "model_module": "@jupyter-widgets/controls",
      "model_module_version": "2.0.0",
      "model_name": "HTMLModel",
      "state": {
       "layout": "IPY_MODEL_3b96aa6e650d4e1781ef35ecd8d0e964",
       "style": "IPY_MODEL_3bdb7f8c14b74d41b3ba025ab7ff2483",
       "value": "100%"
      }
     },
     "36137b469e494b50925419caf8052483": {
      "model_module": "@jupyter-widgets/controls",
      "model_module_version": "2.0.0",
      "model_name": "HTMLModel",
      "state": {
       "layout": "IPY_MODEL_8211497e35b649f9aa14b2111803166f",
       "style": "IPY_MODEL_332eae56d751480fb6ad36f39b247937",
       "value": "100%"
      }
     },
     "36182aa08ff24d9998b086f55a43f85a": {
      "model_module": "@jupyter-widgets/controls",
      "model_module_version": "2.0.0",
      "model_name": "HTMLStyleModel",
      "state": {
       "description_width": "",
       "font_size": null,
       "text_color": null
      }
     },
     "36273ba04ca641948cdd739dc15af7d6": {
      "model_module": "@jupyter-widgets/controls",
      "model_module_version": "2.0.0",
      "model_name": "HTMLStyleModel",
      "state": {
       "description_width": "",
       "font_size": null,
       "text_color": null
      }
     },
     "365c4d2ecdef47ef90af6468fc98a328": {
      "model_module": "@jupyter-widgets/controls",
      "model_module_version": "2.0.0",
      "model_name": "HTMLStyleModel",
      "state": {
       "description_width": "",
       "font_size": null,
       "text_color": null
      }
     },
     "366ab4fd08914c00876e2815d38cb4af": {
      "model_module": "@jupyter-widgets/base",
      "model_module_version": "2.0.0",
      "model_name": "LayoutModel",
      "state": {}
     },
     "369105dedddc4209a395e30e8cac2650": {
      "model_module": "@jupyter-widgets/base",
      "model_module_version": "2.0.0",
      "model_name": "LayoutModel",
      "state": {}
     },
     "369fe8f248fc41b39719cf5b9ab89f0f": {
      "model_module": "@jupyter-widgets/controls",
      "model_module_version": "2.0.0",
      "model_name": "FloatProgressModel",
      "state": {
       "bar_style": "success",
       "layout": "IPY_MODEL_6abf3daa65ed43c6a22fe38e34914dd8",
       "max": 21,
       "style": "IPY_MODEL_15d834e96ebc43f7970c7d8aea560688",
       "value": 21
      }
     },
     "36bbbd2d6eec450e858900f56bdd4fc5": {
      "model_module": "@jupyter-widgets/controls",
      "model_module_version": "2.0.0",
      "model_name": "HTMLModel",
      "state": {
       "layout": "IPY_MODEL_2cd2409b9e8649e0a6bafd8bf26acc7d",
       "style": "IPY_MODEL_c9ac5d1388994c1e97b3b95991c0bbee",
       "value": "100%"
      }
     },
     "36cb1cdaba7c42aaa4eaa0fcad09103d": {
      "model_module": "@jupyter-widgets/controls",
      "model_module_version": "2.0.0",
      "model_name": "HTMLStyleModel",
      "state": {
       "description_width": "",
       "font_size": null,
       "text_color": null
      }
     },
     "36dbb91a9a794a67ad75269842693501": {
      "model_module": "@jupyter-widgets/base",
      "model_module_version": "2.0.0",
      "model_name": "LayoutModel",
      "state": {}
     },
     "36fb07bd699a43cbb113ea5288e26bee": {
      "model_module": "@jupyter-widgets/base",
      "model_module_version": "2.0.0",
      "model_name": "LayoutModel",
      "state": {}
     },
     "37052dc9b9104a538673d82a1df3f34c": {
      "model_module": "@jupyter-widgets/controls",
      "model_module_version": "2.0.0",
      "model_name": "ProgressStyleModel",
      "state": {
       "description_width": ""
      }
     },
     "3708cfbe6c05488da224b5a05469013f": {
      "model_module": "@jupyter-widgets/base",
      "model_module_version": "2.0.0",
      "model_name": "LayoutModel",
      "state": {}
     },
     "3713556cde0e4de1a9ee7e7d916baf9d": {
      "model_module": "@jupyter-widgets/base",
      "model_module_version": "2.0.0",
      "model_name": "LayoutModel",
      "state": {}
     },
     "3728c819b5bd4793ba79a51c6e79b9b6": {
      "model_module": "@jupyter-widgets/base",
      "model_module_version": "2.0.0",
      "model_name": "LayoutModel",
      "state": {}
     },
     "3751199d2db34fa8baf55cab77b0c065": {
      "model_module": "@jupyter-widgets/controls",
      "model_module_version": "2.0.0",
      "model_name": "HTMLModel",
      "state": {
       "layout": "IPY_MODEL_0a8b910ff7c74724b36e9e9484788a7b",
       "style": "IPY_MODEL_7e164952e09a4a93b5fce899f0128713",
       "value": "100%"
      }
     },
     "3769c7acfb5d41ec888461a159cf1731": {
      "model_module": "@jupyter-widgets/controls",
      "model_module_version": "2.0.0",
      "model_name": "HTMLModel",
      "state": {
       "layout": "IPY_MODEL_1d842cc84dc04184a13670f0c3814d4d",
       "style": "IPY_MODEL_80bcb6ee4a48463a91755952d1524370",
       "value": " 21/21 [00:00&lt;00:00, 36.68it/s]"
      }
     },
     "376b70d3bd524efe889518cdfe33ffa9": {
      "model_module": "@jupyter-widgets/controls",
      "model_module_version": "2.0.0",
      "model_name": "HBoxModel",
      "state": {
       "children": [
        "IPY_MODEL_f4ec66bc318044f29e2789d0c7fa66af",
        "IPY_MODEL_c09d29d760344fc8ae4d35b6ad2a8e3a",
        "IPY_MODEL_5272ffb41b5542b4a131c171dd351de7"
       ],
       "layout": "IPY_MODEL_056a98d8ef6f4543b1cfc5ffee6dded9"
      }
     },
     "3781a25ada984c60a0acb3aa65e8979d": {
      "model_module": "@jupyter-widgets/controls",
      "model_module_version": "2.0.0",
      "model_name": "HTMLModel",
      "state": {
       "layout": "IPY_MODEL_7786b2c3dce84427b43010447767820c",
       "style": "IPY_MODEL_3144aec586e84e819a5b684655596e10",
       "value": " 20/20 [00:00&lt;00:00, 23.05it/s]"
      }
     },
     "3784fc32766b4ca4b24b1fb44942d6e9": {
      "model_module": "@jupyter-widgets/controls",
      "model_module_version": "2.0.0",
      "model_name": "FloatProgressModel",
      "state": {
       "bar_style": "success",
       "layout": "IPY_MODEL_df25ce6a390541bc8e5cb7765d4c8134",
       "max": 22,
       "style": "IPY_MODEL_077403a3a3124fa0807924c7b1c65963",
       "value": 22
      }
     },
     "37de5f8518bc47b18ab41e251af998de": {
      "model_module": "@jupyter-widgets/controls",
      "model_module_version": "2.0.0",
      "model_name": "HTMLStyleModel",
      "state": {
       "description_width": "",
       "font_size": null,
       "text_color": null
      }
     },
     "38012d39565d44efae219dc1c92d309d": {
      "model_module": "@jupyter-widgets/base",
      "model_module_version": "2.0.0",
      "model_name": "LayoutModel",
      "state": {}
     },
     "380ae26d17ec4416baf42c24a9f2df5e": {
      "model_module": "@jupyter-widgets/base",
      "model_module_version": "2.0.0",
      "model_name": "LayoutModel",
      "state": {}
     },
     "3822d03f04864514ab8c860b80602f87": {
      "model_module": "@jupyter-widgets/controls",
      "model_module_version": "2.0.0",
      "model_name": "HTMLStyleModel",
      "state": {
       "description_width": "",
       "font_size": null,
       "text_color": null
      }
     },
     "3829a0cb1656496299c9227a5a9874d9": {
      "model_module": "@jupyter-widgets/controls",
      "model_module_version": "2.0.0",
      "model_name": "HTMLStyleModel",
      "state": {
       "description_width": "",
       "font_size": null,
       "text_color": null
      }
     },
     "3854cb36c3254f46ae1d49ee40eacc30": {
      "model_module": "@jupyter-widgets/base",
      "model_module_version": "2.0.0",
      "model_name": "LayoutModel",
      "state": {}
     },
     "386da31cede2476ea6887810b893f760": {
      "model_module": "@jupyter-widgets/controls",
      "model_module_version": "2.0.0",
      "model_name": "HBoxModel",
      "state": {
       "children": [
        "IPY_MODEL_3d17642828e0454b855445ec85930573",
        "IPY_MODEL_226fb175ffeb4ce78df62e0afe3f8666",
        "IPY_MODEL_2b9667bdf8334bc3808bf2df16fb5fa1"
       ],
       "layout": "IPY_MODEL_e03c0a35198d445d8582f3789d73a57c"
      }
     },
     "38acba8a87c140b4af55732437d1059a": {
      "model_module": "@jupyter-widgets/controls",
      "model_module_version": "2.0.0",
      "model_name": "ProgressStyleModel",
      "state": {
       "description_width": ""
      }
     },
     "38c8889fe2814d5ea213ac374384a610": {
      "model_module": "@jupyter-widgets/controls",
      "model_module_version": "2.0.0",
      "model_name": "HBoxModel",
      "state": {
       "children": [
        "IPY_MODEL_af00db0a011e426b893a2f8d9933711c",
        "IPY_MODEL_095134ca4f8c4592a0d064a163ae30f9",
        "IPY_MODEL_2b6edf97a94e48499c7ac7fd08c0103a"
       ],
       "layout": "IPY_MODEL_ce25cd9511b04731a638465c62ebeb24"
      }
     },
     "38cae521a1de4648b8403c1d8726e63b": {
      "model_module": "@jupyter-widgets/controls",
      "model_module_version": "2.0.0",
      "model_name": "FloatProgressModel",
      "state": {
       "bar_style": "success",
       "layout": "IPY_MODEL_a81a2f5c31434084a5e1796bbd758e0c",
       "max": 21,
       "style": "IPY_MODEL_0ffc42dd5f3745668bfb2fb9509fb195",
       "value": 21
      }
     },
     "39185e8fe94f4740b4aaef386f4b3600": {
      "model_module": "@jupyter-widgets/base",
      "model_module_version": "2.0.0",
      "model_name": "LayoutModel",
      "state": {}
     },
     "392d8d9f26a4479691739af5c75f7eb8": {
      "model_module": "@jupyter-widgets/controls",
      "model_module_version": "2.0.0",
      "model_name": "HTMLModel",
      "state": {
       "layout": "IPY_MODEL_46c74194e1a74f9fb5f4737aa316fdaf",
       "style": "IPY_MODEL_bf3630ba8cc747a9b176ec2949f1f356",
       "value": "100%"
      }
     },
     "3944f5f9148940cfa065133208561e8c": {
      "model_module": "@jupyter-widgets/controls",
      "model_module_version": "2.0.0",
      "model_name": "HTMLStyleModel",
      "state": {
       "description_width": "",
       "font_size": null,
       "text_color": null
      }
     },
     "39700e6e99f840b1a2c6f78e7a0c2cf3": {
      "model_module": "@jupyter-widgets/base",
      "model_module_version": "2.0.0",
      "model_name": "LayoutModel",
      "state": {}
     },
     "39714cac3df64e75807bf7b9ce22c367": {
      "model_module": "@jupyter-widgets/controls",
      "model_module_version": "2.0.0",
      "model_name": "HBoxModel",
      "state": {
       "children": [
        "IPY_MODEL_895f595c297945659befc0f69ba889ff",
        "IPY_MODEL_d3dab2fd2ce6498e8934d09bd8cce036",
        "IPY_MODEL_d7e597e91c0443aa95f4be736454c532"
       ],
       "layout": "IPY_MODEL_a19da192dcb346afbbffeae9a130ae06"
      }
     },
     "39b08ef4da404a289820ac0f754e8ad6": {
      "model_module": "@jupyter-widgets/controls",
      "model_module_version": "2.0.0",
      "model_name": "HTMLStyleModel",
      "state": {
       "description_width": "",
       "font_size": null,
       "text_color": null
      }
     },
     "39bfc79b61da45c8b7db033a2ae786b6": {
      "model_module": "@jupyter-widgets/base",
      "model_module_version": "2.0.0",
      "model_name": "LayoutModel",
      "state": {}
     },
     "39d85d677c99433eacedeab35df4a025": {
      "model_module": "@jupyter-widgets/controls",
      "model_module_version": "2.0.0",
      "model_name": "HTMLModel",
      "state": {
       "layout": "IPY_MODEL_90dfa49109444508b8b1a28bb75f2fba",
       "style": "IPY_MODEL_a55dfa629fee44d9b04657a644df516f",
       "value": " 20/20 [00:00&lt;00:00, 44.83it/s]"
      }
     },
     "39f1b7899129481aa0ce06a3ae6615cf": {
      "model_module": "@jupyter-widgets/base",
      "model_module_version": "2.0.0",
      "model_name": "LayoutModel",
      "state": {}
     },
     "3a00561fb14d4c6fbfd3208d245839f5": {
      "model_module": "@jupyter-widgets/base",
      "model_module_version": "2.0.0",
      "model_name": "LayoutModel",
      "state": {}
     },
     "3a026c1ca00a48ac9bfee7c14bce6566": {
      "model_module": "@jupyter-widgets/base",
      "model_module_version": "2.0.0",
      "model_name": "LayoutModel",
      "state": {}
     },
     "3a2123c1a1024b8586fa7b4010682f93": {
      "model_module": "@jupyter-widgets/base",
      "model_module_version": "2.0.0",
      "model_name": "LayoutModel",
      "state": {}
     },
     "3a34cb0ebc734b5f8e8ecf1b539cb595": {
      "model_module": "@jupyter-widgets/controls",
      "model_module_version": "2.0.0",
      "model_name": "HTMLStyleModel",
      "state": {
       "description_width": "",
       "font_size": null,
       "text_color": null
      }
     },
     "3a745db744a143168f5ad949c438f55f": {
      "model_module": "@jupyter-widgets/base",
      "model_module_version": "2.0.0",
      "model_name": "LayoutModel",
      "state": {}
     },
     "3a7f994af74447bcaa7e61fc2449013c": {
      "model_module": "@jupyter-widgets/base",
      "model_module_version": "2.0.0",
      "model_name": "LayoutModel",
      "state": {}
     },
     "3a8e72b6edd942b394b31e6f7aed942f": {
      "model_module": "@jupyter-widgets/base",
      "model_module_version": "2.0.0",
      "model_name": "LayoutModel",
      "state": {}
     },
     "3a995cf3c18642d7b4e699a8812ad7aa": {
      "model_module": "@jupyter-widgets/controls",
      "model_module_version": "2.0.0",
      "model_name": "HTMLModel",
      "state": {
       "layout": "IPY_MODEL_c6234e0f219c4be8bdd63f409d90f2cd",
       "style": "IPY_MODEL_2cc3f716007248679c6cf1752b70a32f",
       "value": " 22/22 [00:00&lt;00:00, 42.57it/s]"
      }
     },
     "3ada34a620c04815a81cf51134f9c769": {
      "model_module": "@jupyter-widgets/controls",
      "model_module_version": "2.0.0",
      "model_name": "FloatProgressModel",
      "state": {
       "bar_style": "success",
       "layout": "IPY_MODEL_b4e63c6df4fc422baf4ba18744ef2f09",
       "max": 21,
       "style": "IPY_MODEL_d8084c4f8f70401da849cf21a238f9e3",
       "value": 21
      }
     },
     "3b2c75f55b814f65954917b0c5b6b536": {
      "model_module": "@jupyter-widgets/controls",
      "model_module_version": "2.0.0",
      "model_name": "HTMLStyleModel",
      "state": {
       "description_width": "",
       "font_size": null,
       "text_color": null
      }
     },
     "3b34e1a60612404bab8d8dd7ed541ed5": {
      "model_module": "@jupyter-widgets/controls",
      "model_module_version": "2.0.0",
      "model_name": "HTMLStyleModel",
      "state": {
       "description_width": "",
       "font_size": null,
       "text_color": null
      }
     },
     "3b472179f536488ea00e8ef998c60942": {
      "model_module": "@jupyter-widgets/controls",
      "model_module_version": "2.0.0",
      "model_name": "ProgressStyleModel",
      "state": {
       "description_width": ""
      }
     },
     "3b6ba07a6aa540b3837b8d42ff4a6675": {
      "model_module": "@jupyter-widgets/base",
      "model_module_version": "2.0.0",
      "model_name": "LayoutModel",
      "state": {}
     },
     "3b913e5d94b146e7ba62bcd1ddbfe632": {
      "model_module": "@jupyter-widgets/controls",
      "model_module_version": "2.0.0",
      "model_name": "HTMLStyleModel",
      "state": {
       "description_width": "",
       "font_size": null,
       "text_color": null
      }
     },
     "3b96aa6e650d4e1781ef35ecd8d0e964": {
      "model_module": "@jupyter-widgets/base",
      "model_module_version": "2.0.0",
      "model_name": "LayoutModel",
      "state": {}
     },
     "3bdb7f8c14b74d41b3ba025ab7ff2483": {
      "model_module": "@jupyter-widgets/controls",
      "model_module_version": "2.0.0",
      "model_name": "HTMLStyleModel",
      "state": {
       "description_width": "",
       "font_size": null,
       "text_color": null
      }
     },
     "3be67cf5a0084fd3922df911d7d04c92": {
      "model_module": "@jupyter-widgets/controls",
      "model_module_version": "2.0.0",
      "model_name": "HTMLStyleModel",
      "state": {
       "description_width": "",
       "font_size": null,
       "text_color": null
      }
     },
     "3c1431eca7064bd4ba853d41c3159aa7": {
      "model_module": "@jupyter-widgets/controls",
      "model_module_version": "2.0.0",
      "model_name": "HTMLModel",
      "state": {
       "layout": "IPY_MODEL_a31661a2162241c9b7f1de315ffe3ee8",
       "style": "IPY_MODEL_77ed9e40c82240349cc513c31ae2c968",
       "value": "100%"
      }
     },
     "3c3f0c3b12184879b6c98fa2d0c69797": {
      "model_module": "@jupyter-widgets/controls",
      "model_module_version": "2.0.0",
      "model_name": "FloatProgressModel",
      "state": {
       "bar_style": "success",
       "layout": "IPY_MODEL_c9a81f46cadc4107938d60b7c5a64f58",
       "max": 20,
       "style": "IPY_MODEL_a736d9fdcb684a8c96f5a22b519c79d3",
       "value": 20
      }
     },
     "3c4c2fafd82347f3957d20b932926cf8": {
      "model_module": "@jupyter-widgets/controls",
      "model_module_version": "2.0.0",
      "model_name": "ProgressStyleModel",
      "state": {
       "description_width": ""
      }
     },
     "3c66252fab80461ba8194c51a0a94fc6": {
      "model_module": "@jupyter-widgets/base",
      "model_module_version": "2.0.0",
      "model_name": "LayoutModel",
      "state": {}
     },
     "3c7e5249ce2d47eeb387367ae79beedc": {
      "model_module": "@jupyter-widgets/base",
      "model_module_version": "2.0.0",
      "model_name": "LayoutModel",
      "state": {}
     },
     "3ca8099d865b495f95df94918b8f1c9b": {
      "model_module": "@jupyter-widgets/controls",
      "model_module_version": "2.0.0",
      "model_name": "HBoxModel",
      "state": {
       "children": [
        "IPY_MODEL_06e36aae196249958cc5e601e215773e",
        "IPY_MODEL_d7d64ca0d212493289d80a2265e1a8ee",
        "IPY_MODEL_ea70f6655a9c4c4d99e2828b079a757d"
       ],
       "layout": "IPY_MODEL_4492fe017eae4ae284604de10195e415"
      }
     },
     "3cc432f44b864dadb2052300cca83a86": {
      "model_module": "@jupyter-widgets/controls",
      "model_module_version": "2.0.0",
      "model_name": "HTMLStyleModel",
      "state": {
       "description_width": "",
       "font_size": null,
       "text_color": null
      }
     },
     "3cf35f99cd2d478fae974d4d887c2057": {
      "model_module": "@jupyter-widgets/base",
      "model_module_version": "2.0.0",
      "model_name": "LayoutModel",
      "state": {}
     },
     "3d17642828e0454b855445ec85930573": {
      "model_module": "@jupyter-widgets/controls",
      "model_module_version": "2.0.0",
      "model_name": "HTMLModel",
      "state": {
       "layout": "IPY_MODEL_33817e843df84ed98920fa6d9f55ba88",
       "style": "IPY_MODEL_1be3dbb0e71b4b5bb1d8e71c08af0c47",
       "value": "100%"
      }
     },
     "3d31be192faf4898b3754cdbfe22a751": {
      "model_module": "@jupyter-widgets/controls",
      "model_module_version": "2.0.0",
      "model_name": "ProgressStyleModel",
      "state": {
       "description_width": ""
      }
     },
     "3d36d9407d77485db169f094ace6d6b1": {
      "model_module": "@jupyter-widgets/base",
      "model_module_version": "2.0.0",
      "model_name": "LayoutModel",
      "state": {}
     },
     "3d4e2334452b44f0a178b4acdb992c5e": {
      "model_module": "@jupyter-widgets/controls",
      "model_module_version": "2.0.0",
      "model_name": "HTMLModel",
      "state": {
       "layout": "IPY_MODEL_9707746dfcd7400d990345501740bd68",
       "style": "IPY_MODEL_a3d1ade9e7f2435bb6b59dd5ecbb2cb3",
       "value": "100%"
      }
     },
     "3d5d150df7c54f41ac09aec51bbade88": {
      "model_module": "@jupyter-widgets/base",
      "model_module_version": "2.0.0",
      "model_name": "LayoutModel",
      "state": {}
     },
     "3d6e20ebea1b4e65a5982d41289a4323": {
      "model_module": "@jupyter-widgets/controls",
      "model_module_version": "2.0.0",
      "model_name": "HTMLStyleModel",
      "state": {
       "description_width": "",
       "font_size": null,
       "text_color": null
      }
     },
     "3da58a63acd943708899721591fd231c": {
      "model_module": "@jupyter-widgets/controls",
      "model_module_version": "2.0.0",
      "model_name": "FloatProgressModel",
      "state": {
       "bar_style": "success",
       "layout": "IPY_MODEL_22ac41de224248dc8919620a8e93df68",
       "max": 22,
       "style": "IPY_MODEL_9ac844a8147d4e48ae89ec3d3debb873",
       "value": 22
      }
     },
     "3da897c3a2c148eea610a346dfd03d89": {
      "model_module": "@jupyter-widgets/controls",
      "model_module_version": "2.0.0",
      "model_name": "ProgressStyleModel",
      "state": {
       "description_width": ""
      }
     },
     "3dc21eb3bab7423cbcc839c926d9ecbe": {
      "model_module": "@jupyter-widgets/controls",
      "model_module_version": "2.0.0",
      "model_name": "HTMLStyleModel",
      "state": {
       "description_width": "",
       "font_size": null,
       "text_color": null
      }
     },
     "3de1600c287d44ecb31f16b39c9b0174": {
      "model_module": "@jupyter-widgets/base",
      "model_module_version": "2.0.0",
      "model_name": "LayoutModel",
      "state": {}
     },
     "3e0318a6afa14d6ea8340d903e18b018": {
      "model_module": "@jupyter-widgets/base",
      "model_module_version": "2.0.0",
      "model_name": "LayoutModel",
      "state": {}
     },
     "3e06592233d642cd920eafa84b5d7ad9": {
      "model_module": "@jupyter-widgets/controls",
      "model_module_version": "2.0.0",
      "model_name": "HTMLStyleModel",
      "state": {
       "description_width": "",
       "font_size": null,
       "text_color": null
      }
     },
     "3e3f84a3f5b14f60ba4c90ffb307aef2": {
      "model_module": "@jupyter-widgets/controls",
      "model_module_version": "2.0.0",
      "model_name": "HBoxModel",
      "state": {
       "children": [
        "IPY_MODEL_77c262ba6ae346e09cead071757b0c19",
        "IPY_MODEL_486853e587b74c398b71cd3ccb0a0e1a",
        "IPY_MODEL_7906888e0a45499da6b62b801657d78c"
       ],
       "layout": "IPY_MODEL_dff7e5c052b0457f896c6735e3942d1c"
      }
     },
     "3e41ef261c2a4917862df20de78b0cdf": {
      "model_module": "@jupyter-widgets/base",
      "model_module_version": "2.0.0",
      "model_name": "LayoutModel",
      "state": {}
     },
     "3e42e6c9bddb459ebc956a363ad6c083": {
      "model_module": "@jupyter-widgets/controls",
      "model_module_version": "2.0.0",
      "model_name": "HTMLStyleModel",
      "state": {
       "description_width": "",
       "font_size": null,
       "text_color": null
      }
     },
     "3e7042d542314397aeb9e41837350645": {
      "model_module": "@jupyter-widgets/controls",
      "model_module_version": "2.0.0",
      "model_name": "FloatProgressModel",
      "state": {
       "bar_style": "success",
       "layout": "IPY_MODEL_b57bafa6467e4c879369cca2bd5902d0",
       "max": 23,
       "style": "IPY_MODEL_937e7374e399485faeefcc226ac84f87",
       "value": 23
      }
     },
     "3e994407d8ca4c9087eef77b37398b50": {
      "model_module": "@jupyter-widgets/controls",
      "model_module_version": "2.0.0",
      "model_name": "HTMLStyleModel",
      "state": {
       "description_width": "",
       "font_size": null,
       "text_color": null
      }
     },
     "3ea04705a3de49de9cc137f396177203": {
      "model_module": "@jupyter-widgets/controls",
      "model_module_version": "2.0.0",
      "model_name": "HBoxModel",
      "state": {
       "children": [
        "IPY_MODEL_10242568e2a0451c8b0cc88fe114d793",
        "IPY_MODEL_9a8f732191bb4fae9f98037a6404fad1",
        "IPY_MODEL_c9381c93fb2944c083aa6f6b1199cd9a"
       ],
       "layout": "IPY_MODEL_90b6a115c3464c39951f232e8067ef21"
      }
     },
     "3f35049ddf3f4759b96e2f752a3ed464": {
      "model_module": "@jupyter-widgets/base",
      "model_module_version": "2.0.0",
      "model_name": "LayoutModel",
      "state": {}
     },
     "3f3511bbadf84e6aa77ec07b45d538d8": {
      "model_module": "@jupyter-widgets/controls",
      "model_module_version": "2.0.0",
      "model_name": "FloatProgressModel",
      "state": {
       "bar_style": "success",
       "layout": "IPY_MODEL_4ae43d2d2459425ba89d712d270d637b",
       "max": 20,
       "style": "IPY_MODEL_5fdae6a5219c47429532f08eb3b232c1",
       "value": 20
      }
     },
     "3f40f61dffd94a08a9415bdd5fe5e962": {
      "model_module": "@jupyter-widgets/base",
      "model_module_version": "2.0.0",
      "model_name": "LayoutModel",
      "state": {}
     },
     "3f5ccda8148a464f8d88efbafa32c028": {
      "model_module": "@jupyter-widgets/base",
      "model_module_version": "2.0.0",
      "model_name": "LayoutModel",
      "state": {}
     },
     "3f642da100b9428b9dfb29b1ff362062": {
      "model_module": "@jupyter-widgets/base",
      "model_module_version": "2.0.0",
      "model_name": "LayoutModel",
      "state": {}
     },
     "3f827f9b459b4431afbb1b651f582bb0": {
      "model_module": "@jupyter-widgets/controls",
      "model_module_version": "2.0.0",
      "model_name": "HTMLModel",
      "state": {
       "layout": "IPY_MODEL_63afd53acb6948538d5f53aeccd52771",
       "style": "IPY_MODEL_2ffbd650f937495eb609d4e12e216ede",
       "value": " 22/22 [00:00&lt;00:00, 37.21it/s]"
      }
     },
     "3f86a5526fe9485ea005639ad9ab91d9": {
      "model_module": "@jupyter-widgets/controls",
      "model_module_version": "2.0.0",
      "model_name": "HTMLModel",
      "state": {
       "layout": "IPY_MODEL_4a7e2261317242b78d78d3a5a90e6d3f",
       "style": "IPY_MODEL_9e3d75d6b319457bbdc8e7dd7d16da69",
       "value": " 22/22 [00:00&lt;00:00, 36.59it/s]"
      }
     },
     "3fb1f07431bf4fe380e5df76ebbd5c81": {
      "model_module": "@jupyter-widgets/base",
      "model_module_version": "2.0.0",
      "model_name": "LayoutModel",
      "state": {}
     },
     "3fe6e5a19b27446e90662a1880ed72bc": {
      "model_module": "@jupyter-widgets/controls",
      "model_module_version": "2.0.0",
      "model_name": "HTMLModel",
      "state": {
       "layout": "IPY_MODEL_c422c983d4f74ed7a081623678cd2cc5",
       "style": "IPY_MODEL_d932e441d06448edb1d86f29c186bfd2",
       "value": "100%"
      }
     },
     "402fa078a0b746c6a9c1bf48e4443a89": {
      "model_module": "@jupyter-widgets/controls",
      "model_module_version": "2.0.0",
      "model_name": "HBoxModel",
      "state": {
       "children": [
        "IPY_MODEL_5be8a9c5ceae4810899029832e37032a",
        "IPY_MODEL_c956fe4050e941dba8e826bdb878743f",
        "IPY_MODEL_adbaf97a08a24ab986fb430f68ce7e95"
       ],
       "layout": "IPY_MODEL_eee8f546995e4de997d78d98e4bf0eb2"
      }
     },
     "403804bc7c30486dac1545dacbc0da37": {
      "model_module": "@jupyter-widgets/controls",
      "model_module_version": "2.0.0",
      "model_name": "ProgressStyleModel",
      "state": {
       "description_width": ""
      }
     },
     "4049ef89bdd042dcaceaab4af9332f60": {
      "model_module": "@jupyter-widgets/base",
      "model_module_version": "2.0.0",
      "model_name": "LayoutModel",
      "state": {}
     },
     "405aab00a12c459ebd1141765768dce3": {
      "model_module": "@jupyter-widgets/controls",
      "model_module_version": "2.0.0",
      "model_name": "HTMLStyleModel",
      "state": {
       "description_width": "",
       "font_size": null,
       "text_color": null
      }
     },
     "407c937f9963482ab9aff32e58ce95d4": {
      "model_module": "@jupyter-widgets/controls",
      "model_module_version": "2.0.0",
      "model_name": "ProgressStyleModel",
      "state": {
       "description_width": ""
      }
     },
     "4080750f3689451e864c68ac62bba192": {
      "model_module": "@jupyter-widgets/base",
      "model_module_version": "2.0.0",
      "model_name": "LayoutModel",
      "state": {}
     },
     "40891e16a6aa46a6b1ba3250dcbfd465": {
      "model_module": "@jupyter-widgets/controls",
      "model_module_version": "2.0.0",
      "model_name": "ProgressStyleModel",
      "state": {
       "description_width": ""
      }
     },
     "40c7d08ca37d4decb2ce34e839a3d1f2": {
      "model_module": "@jupyter-widgets/controls",
      "model_module_version": "2.0.0",
      "model_name": "FloatProgressModel",
      "state": {
       "bar_style": "success",
       "layout": "IPY_MODEL_2bceca44b32b4a4d9dd5529ac30091b0",
       "max": 20,
       "style": "IPY_MODEL_87dbb207807a424b96b04f5ede4ae5a4",
       "value": 20
      }
     },
     "415f36ff90cf4aafbb139cafef3cec4c": {
      "model_module": "@jupyter-widgets/controls",
      "model_module_version": "2.0.0",
      "model_name": "ProgressStyleModel",
      "state": {
       "description_width": ""
      }
     },
     "417b373a539243bcab65994e4af457f4": {
      "model_module": "@jupyter-widgets/controls",
      "model_module_version": "2.0.0",
      "model_name": "HTMLModel",
      "state": {
       "layout": "IPY_MODEL_202fa5479e8f43d9bcc3b3aa81cfdc18",
       "style": "IPY_MODEL_8ae9e44dc8324574a1bad40f47607dec",
       "value": " 22/22 [00:01&lt;00:00, 18.86it/s]"
      }
     },
     "41813387924d421ca3676a5820945e9d": {
      "model_module": "@jupyter-widgets/controls",
      "model_module_version": "2.0.0",
      "model_name": "HTMLStyleModel",
      "state": {
       "description_width": "",
       "font_size": null,
       "text_color": null
      }
     },
     "419e83656ae24daa9bcc5991a9dcb03a": {
      "model_module": "@jupyter-widgets/base",
      "model_module_version": "2.0.0",
      "model_name": "LayoutModel",
      "state": {}
     },
     "41d38c45ce1249e5a80dec20034046ee": {
      "model_module": "@jupyter-widgets/controls",
      "model_module_version": "2.0.0",
      "model_name": "ProgressStyleModel",
      "state": {
       "description_width": ""
      }
     },
     "41d5334dbba548d79ac8ee224d5e62d0": {
      "model_module": "@jupyter-widgets/controls",
      "model_module_version": "2.0.0",
      "model_name": "HTMLModel",
      "state": {
       "layout": "IPY_MODEL_67a309ac25334353bdf7ec103b4fc41f",
       "style": "IPY_MODEL_132a859ba8cd40039df46259f81184e0",
       "value": "100%"
      }
     },
     "41e01a533d10493d83ab30b060c61a85": {
      "model_module": "@jupyter-widgets/controls",
      "model_module_version": "2.0.0",
      "model_name": "HTMLStyleModel",
      "state": {
       "description_width": "",
       "font_size": null,
       "text_color": null
      }
     },
     "41ef7a1adb564842b9306ce0b65c11ae": {
      "model_module": "@jupyter-widgets/controls",
      "model_module_version": "2.0.0",
      "model_name": "HBoxModel",
      "state": {
       "children": [
        "IPY_MODEL_0739dc867072400fb3d5566e7fc61ee5",
        "IPY_MODEL_9c68de1868e943f6a0106459c042b9aa",
        "IPY_MODEL_e039c32337c7480f9304ecc2c72524f1"
       ],
       "layout": "IPY_MODEL_330f66d9b13447869974a130148292c7"
      }
     },
     "42240273abca47959d1e9606a2b3e2cc": {
      "model_module": "@jupyter-widgets/controls",
      "model_module_version": "2.0.0",
      "model_name": "HTMLModel",
      "state": {
       "layout": "IPY_MODEL_8f0e45108bac43e5bad8316f25408475",
       "style": "IPY_MODEL_8d2db5ffc3ac4b9497cfda441565865e",
       "value": " 20/20 [00:00&lt;00:00, 21.26it/s]"
      }
     },
     "4249a5396b5d42eea2aa3d87c7a1cd8d": {
      "model_module": "@jupyter-widgets/controls",
      "model_module_version": "2.0.0",
      "model_name": "HTMLModel",
      "state": {
       "layout": "IPY_MODEL_43cf70e2b0a9485a97e3af0fb91e41d7",
       "style": "IPY_MODEL_9e21a0bd92ae4be090de22d6d9066d07",
       "value": " 21/21 [00:00&lt;00:00, 38.83it/s]"
      }
     },
     "425713952bda4103ba37398982bb0ce2": {
      "model_module": "@jupyter-widgets/controls",
      "model_module_version": "2.0.0",
      "model_name": "HBoxModel",
      "state": {
       "children": [
        "IPY_MODEL_2e7806c5b8dc4a71b902bed92e34405a",
        "IPY_MODEL_b8144ca2091b4ffd93422668e9ee1f40",
        "IPY_MODEL_5ef4ff973def4aa484efafd404103160"
       ],
       "layout": "IPY_MODEL_e444b039d2704022a21676c69f91f33f"
      }
     },
     "42751f7865d1456fa5b233db8d0044b4": {
      "model_module": "@jupyter-widgets/controls",
      "model_module_version": "2.0.0",
      "model_name": "FloatProgressModel",
      "state": {
       "bar_style": "success",
       "layout": "IPY_MODEL_9150c9dae7d544e7a7e23d8b659375ca",
       "max": 21,
       "style": "IPY_MODEL_6ccf8d80498c40ce89384aa930d88b7e",
       "value": 21
      }
     },
     "427b492ed998419a897f709559c0be5c": {
      "model_module": "@jupyter-widgets/base",
      "model_module_version": "2.0.0",
      "model_name": "LayoutModel",
      "state": {}
     },
     "428846b7fe304669af5612fcb7c6a77a": {
      "model_module": "@jupyter-widgets/controls",
      "model_module_version": "2.0.0",
      "model_name": "FloatProgressModel",
      "state": {
       "bar_style": "success",
       "layout": "IPY_MODEL_611b63651fdb4102a4812db3cc444226",
       "max": 21,
       "style": "IPY_MODEL_0b3d157de13f4d0285f83e3a7a99d728",
       "value": 21
      }
     },
     "42bc073763d442fb9077a5f2859264f4": {
      "model_module": "@jupyter-widgets/controls",
      "model_module_version": "2.0.0",
      "model_name": "HBoxModel",
      "state": {
       "children": [
        "IPY_MODEL_d093aef5c7ea47d29ffc77ab60e265f7",
        "IPY_MODEL_1fa2092947734cd5bc4875c45b7aff15",
        "IPY_MODEL_187515023d1f4da59aa991cf9936abaf"
       ],
       "layout": "IPY_MODEL_034a76f06cab4a7e8bf0146f0c71fa8d"
      }
     },
     "42eca3ca9ff64b59979de5d53988e7da": {
      "model_module": "@jupyter-widgets/controls",
      "model_module_version": "2.0.0",
      "model_name": "HTMLModel",
      "state": {
       "layout": "IPY_MODEL_a3580d6a59274b639ac9ac5b271a6c31",
       "style": "IPY_MODEL_acd4213e63764d44a63a5b1057aec190",
       "value": "100%"
      }
     },
     "42ef2aa229ea42a8ab3d814084f404bc": {
      "model_module": "@jupyter-widgets/base",
      "model_module_version": "2.0.0",
      "model_name": "LayoutModel",
      "state": {}
     },
     "42fc8168124d4da1963a19880c75c33e": {
      "model_module": "@jupyter-widgets/base",
      "model_module_version": "2.0.0",
      "model_name": "LayoutModel",
      "state": {}
     },
     "430a1c8a2b304f3d81a2e796c3e10274": {
      "model_module": "@jupyter-widgets/controls",
      "model_module_version": "2.0.0",
      "model_name": "HTMLStyleModel",
      "state": {
       "description_width": "",
       "font_size": null,
       "text_color": null
      }
     },
     "432a0c6699a143a3a843901f7c5403ef": {
      "model_module": "@jupyter-widgets/controls",
      "model_module_version": "2.0.0",
      "model_name": "ProgressStyleModel",
      "state": {
       "description_width": ""
      }
     },
     "433cb87006f5469db39cc731de954363": {
      "model_module": "@jupyter-widgets/controls",
      "model_module_version": "2.0.0",
      "model_name": "HTMLStyleModel",
      "state": {
       "description_width": "",
       "font_size": null,
       "text_color": null
      }
     },
     "4372dc86539249a3bb69e58636de1cf2": {
      "model_module": "@jupyter-widgets/base",
      "model_module_version": "2.0.0",
      "model_name": "LayoutModel",
      "state": {}
     },
     "43b39e2d04a24f45857330838f6ad916": {
      "model_module": "@jupyter-widgets/controls",
      "model_module_version": "2.0.0",
      "model_name": "ProgressStyleModel",
      "state": {
       "description_width": ""
      }
     },
     "43cf70e2b0a9485a97e3af0fb91e41d7": {
      "model_module": "@jupyter-widgets/base",
      "model_module_version": "2.0.0",
      "model_name": "LayoutModel",
      "state": {}
     },
     "43d495de424e49c7ab5edcc32a576bf8": {
      "model_module": "@jupyter-widgets/base",
      "model_module_version": "2.0.0",
      "model_name": "LayoutModel",
      "state": {}
     },
     "43db610548284c8dba6de4a951cbbdf9": {
      "model_module": "@jupyter-widgets/controls",
      "model_module_version": "2.0.0",
      "model_name": "HTMLStyleModel",
      "state": {
       "description_width": "",
       "font_size": null,
       "text_color": null
      }
     },
     "43fb4510c3ea4dc9a1fa71380d3b62cb": {
      "model_module": "@jupyter-widgets/controls",
      "model_module_version": "2.0.0",
      "model_name": "HBoxModel",
      "state": {
       "children": [
        "IPY_MODEL_04ea98fa17394e6a852195ccaa31e6ce",
        "IPY_MODEL_c082a744a2164511a3a852c67c619a8b",
        "IPY_MODEL_8605a06121f14a2fbc07ec2b0b566399"
       ],
       "layout": "IPY_MODEL_d494696eab644308a98339f4e8817d4c"
      }
     },
     "440d8db6796f4ceeaeaf9b3cb3b32c2a": {
      "model_module": "@jupyter-widgets/controls",
      "model_module_version": "2.0.0",
      "model_name": "HTMLStyleModel",
      "state": {
       "description_width": "",
       "font_size": null,
       "text_color": null
      }
     },
     "44371879289d4c5e9827fc1d6fd2839e": {
      "model_module": "@jupyter-widgets/base",
      "model_module_version": "2.0.0",
      "model_name": "LayoutModel",
      "state": {}
     },
     "444da8da6eab4df8937cdc9856f29b01": {
      "model_module": "@jupyter-widgets/controls",
      "model_module_version": "2.0.0",
      "model_name": "HBoxModel",
      "state": {
       "children": [
        "IPY_MODEL_a6d6ad81f1c748fea8b710ba92ad7ef8",
        "IPY_MODEL_c710893d7efd4ce5a906a8e1df1740b1",
        "IPY_MODEL_349222d73cd746268b2271149ab2346d"
       ],
       "layout": "IPY_MODEL_175c77a441154f9b80a20540fb019b4f"
      }
     },
     "4492fe017eae4ae284604de10195e415": {
      "model_module": "@jupyter-widgets/base",
      "model_module_version": "2.0.0",
      "model_name": "LayoutModel",
      "state": {}
     },
     "44bd4bc86f214958aa71445ae2ba2449": {
      "model_module": "@jupyter-widgets/controls",
      "model_module_version": "2.0.0",
      "model_name": "HTMLStyleModel",
      "state": {
       "description_width": "",
       "font_size": null,
       "text_color": null
      }
     },
     "45046f8b4de44cbea3174f02437e97bf": {
      "model_module": "@jupyter-widgets/controls",
      "model_module_version": "2.0.0",
      "model_name": "FloatProgressModel",
      "state": {
       "bar_style": "success",
       "layout": "IPY_MODEL_1a007443ed134f0487af06696a0c0cd0",
       "max": 22,
       "style": "IPY_MODEL_91a4e0997c0149fcb383d882b3cfb078",
       "value": 22
      }
     },
     "4510049371194b1aaae5520e24f58526": {
      "model_module": "@jupyter-widgets/base",
      "model_module_version": "2.0.0",
      "model_name": "LayoutModel",
      "state": {}
     },
     "4518f9ce466c4b2c945283b9bbb78cfe": {
      "model_module": "@jupyter-widgets/controls",
      "model_module_version": "2.0.0",
      "model_name": "ProgressStyleModel",
      "state": {
       "description_width": ""
      }
     },
     "45253d45f15f4fe4b76b0a647c870dd4": {
      "model_module": "@jupyter-widgets/base",
      "model_module_version": "2.0.0",
      "model_name": "LayoutModel",
      "state": {}
     },
     "452b3ae666a443bfaaf0216a32f8ec92": {
      "model_module": "@jupyter-widgets/controls",
      "model_module_version": "2.0.0",
      "model_name": "HTMLStyleModel",
      "state": {
       "description_width": "",
       "font_size": null,
       "text_color": null
      }
     },
     "45308a69558b4fe0b0761d9b0907a144": {
      "model_module": "@jupyter-widgets/base",
      "model_module_version": "2.0.0",
      "model_name": "LayoutModel",
      "state": {}
     },
     "4538e3edf1b44c69b60c723e7073c9c2": {
      "model_module": "@jupyter-widgets/base",
      "model_module_version": "2.0.0",
      "model_name": "LayoutModel",
      "state": {}
     },
     "456e0045763a44439243aeaa7af400ba": {
      "model_module": "@jupyter-widgets/controls",
      "model_module_version": "2.0.0",
      "model_name": "HTMLModel",
      "state": {
       "layout": "IPY_MODEL_ae18629c631b4e83907a20b231e291b4",
       "style": "IPY_MODEL_98c811298f504be682393a4475eef9b3",
       "value": "100%"
      }
     },
     "4574c6d36d7747e989cfc293f6946955": {
      "model_module": "@jupyter-widgets/controls",
      "model_module_version": "2.0.0",
      "model_name": "HTMLModel",
      "state": {
       "layout": "IPY_MODEL_043749c03de7400a9f35fa091009527d",
       "style": "IPY_MODEL_f020878024644f12b6f324a8109ad078",
       "value": " 22/22 [00:00&lt;00:00, 315.13it/s]"
      }
     },
     "457ee0d68a1448dc94dbffe8bd8b0147": {
      "model_module": "@jupyter-widgets/base",
      "model_module_version": "2.0.0",
      "model_name": "LayoutModel",
      "state": {}
     },
     "4587fde258d947f6a835d2e5f3c0aebd": {
      "model_module": "@jupyter-widgets/controls",
      "model_module_version": "2.0.0",
      "model_name": "HTMLStyleModel",
      "state": {
       "description_width": "",
       "font_size": null,
       "text_color": null
      }
     },
     "458bdc1b65784d80bb01c69eba4dd9ad": {
      "model_module": "@jupyter-widgets/controls",
      "model_module_version": "2.0.0",
      "model_name": "FloatProgressModel",
      "state": {
       "bar_style": "success",
       "layout": "IPY_MODEL_ed29f56641ec4249b65861727a49e1f0",
       "max": 22,
       "style": "IPY_MODEL_85c30dd2e7904f5da6adcafd2518b15d",
       "value": 22
      }
     },
     "45a3cee3abd440baa78b409d55539485": {
      "model_module": "@jupyter-widgets/controls",
      "model_module_version": "2.0.0",
      "model_name": "HTMLModel",
      "state": {
       "layout": "IPY_MODEL_f6397a20560746a78652b3e327a84e95",
       "style": "IPY_MODEL_3829a0cb1656496299c9227a5a9874d9",
       "value": " 20/20 [00:00&lt;00:00, 380.40it/s]"
      }
     },
     "45b25127c3014cea9d2895c8b6b9e5e4": {
      "model_module": "@jupyter-widgets/base",
      "model_module_version": "2.0.0",
      "model_name": "LayoutModel",
      "state": {}
     },
     "45b2a2e21c8f4676b84f9dedb5bb8b03": {
      "model_module": "@jupyter-widgets/controls",
      "model_module_version": "2.0.0",
      "model_name": "HTMLModel",
      "state": {
       "layout": "IPY_MODEL_770454973f1d4ee991b5da75792527f1",
       "style": "IPY_MODEL_f6965043ea844a9f8b2d8bdc7fa1c489",
       "value": "100%"
      }
     },
     "45c2a2b2a3874c7982f677634adc1827": {
      "model_module": "@jupyter-widgets/controls",
      "model_module_version": "2.0.0",
      "model_name": "HBoxModel",
      "state": {
       "children": [
        "IPY_MODEL_b452b710099b468faa24e4f8beaa5e5a",
        "IPY_MODEL_3da58a63acd943708899721591fd231c",
        "IPY_MODEL_3a995cf3c18642d7b4e699a8812ad7aa"
       ],
       "layout": "IPY_MODEL_095ba8b14e8a4acf99b8e6b737bfc67b"
      }
     },
     "45fab827dcc94d83ad2427b95e9748c4": {
      "model_module": "@jupyter-widgets/controls",
      "model_module_version": "2.0.0",
      "model_name": "ProgressStyleModel",
      "state": {
       "description_width": ""
      }
     },
     "4632afcf396e4066ba46045b6f9ffaf5": {
      "model_module": "@jupyter-widgets/base",
      "model_module_version": "2.0.0",
      "model_name": "LayoutModel",
      "state": {}
     },
     "46364be0089b41fa98ffa36acc4453bb": {
      "model_module": "@jupyter-widgets/controls",
      "model_module_version": "2.0.0",
      "model_name": "ProgressStyleModel",
      "state": {
       "description_width": ""
      }
     },
     "463f04fa1777427ba2406f0144863557": {
      "model_module": "@jupyter-widgets/base",
      "model_module_version": "2.0.0",
      "model_name": "LayoutModel",
      "state": {}
     },
     "464f684ad9c847ac9acd07412aa22e5c": {
      "model_module": "@jupyter-widgets/base",
      "model_module_version": "2.0.0",
      "model_name": "LayoutModel",
      "state": {}
     },
     "467693aa4db34fc4afe68072c8b1c762": {
      "model_module": "@jupyter-widgets/controls",
      "model_module_version": "2.0.0",
      "model_name": "HBoxModel",
      "state": {
       "children": [
        "IPY_MODEL_8f3114df0fd54c8993838f26a4832455",
        "IPY_MODEL_2b1b33ee26f746a7b927b9ca47f25d38",
        "IPY_MODEL_c561855634e047948c3f6719881bdfa9"
       ],
       "layout": "IPY_MODEL_982a456da0ea492ca995d48ab28ff04f"
      }
     },
     "468f541b5238437faf27d77824cffe74": {
      "model_module": "@jupyter-widgets/controls",
      "model_module_version": "2.0.0",
      "model_name": "HTMLStyleModel",
      "state": {
       "description_width": "",
       "font_size": null,
       "text_color": null
      }
     },
     "4696e2c0f3b84af884ba79490cf963b9": {
      "model_module": "@jupyter-widgets/base",
      "model_module_version": "2.0.0",
      "model_name": "LayoutModel",
      "state": {}
     },
     "46c74194e1a74f9fb5f4737aa316fdaf": {
      "model_module": "@jupyter-widgets/base",
      "model_module_version": "2.0.0",
      "model_name": "LayoutModel",
      "state": {}
     },
     "46d8a12d3deb4eb687ebc603b59a511c": {
      "model_module": "@jupyter-widgets/controls",
      "model_module_version": "2.0.0",
      "model_name": "HBoxModel",
      "state": {
       "children": [
        "IPY_MODEL_f450869a79564e93bde00de113af5972",
        "IPY_MODEL_50655bad6a3945b683a28ed8dd2e3abb",
        "IPY_MODEL_a4b2e81c41a54c6185e3a6b566c3a206"
       ],
       "layout": "IPY_MODEL_91270933347f491e8fd9c9e2e2b162de"
      }
     },
     "46e1b229ddc346fe98505d41212bb831": {
      "model_module": "@jupyter-widgets/base",
      "model_module_version": "2.0.0",
      "model_name": "LayoutModel",
      "state": {}
     },
     "470268a3f3094d46b513736d0fb756f9": {
      "model_module": "@jupyter-widgets/controls",
      "model_module_version": "2.0.0",
      "model_name": "HTMLModel",
      "state": {
       "layout": "IPY_MODEL_ba5f6802381844ba94e279cd5fa044ab",
       "style": "IPY_MODEL_6ebd54311bf14fcb822d5ea68835fe34",
       "value": "100%"
      }
     },
     "47068c59475c4c74a253a6b0659b3534": {
      "model_module": "@jupyter-widgets/controls",
      "model_module_version": "2.0.0",
      "model_name": "HTMLStyleModel",
      "state": {
       "description_width": "",
       "font_size": null,
       "text_color": null
      }
     },
     "473dd1c545ef4898823286700de78451": {
      "model_module": "@jupyter-widgets/controls",
      "model_module_version": "2.0.0",
      "model_name": "HTMLModel",
      "state": {
       "layout": "IPY_MODEL_3d36d9407d77485db169f094ace6d6b1",
       "style": "IPY_MODEL_a04f8525c05d4fff8b81386adabebb7a",
       "value": " 20/20 [00:00&lt;00:00, 41.76it/s]"
      }
     },
     "47a4e4253417472486ac29a9fae9027a": {
      "model_module": "@jupyter-widgets/base",
      "model_module_version": "2.0.0",
      "model_name": "LayoutModel",
      "state": {}
     },
     "47b55db8f5944400be748f30f11a077a": {
      "model_module": "@jupyter-widgets/controls",
      "model_module_version": "2.0.0",
      "model_name": "HTMLStyleModel",
      "state": {
       "description_width": "",
       "font_size": null,
       "text_color": null
      }
     },
     "47c2391e9b614ef9b1986a7a1bf398f9": {
      "model_module": "@jupyter-widgets/controls",
      "model_module_version": "2.0.0",
      "model_name": "HTMLModel",
      "state": {
       "layout": "IPY_MODEL_4c22090a53794728be711fbdc11364b2",
       "style": "IPY_MODEL_8277d6bb110b48bf91d4dc318775eba7",
       "value": "100%"
      }
     },
     "47c9defac8a64825924d5492704312e0": {
      "model_module": "@jupyter-widgets/controls",
      "model_module_version": "2.0.0",
      "model_name": "ProgressStyleModel",
      "state": {
       "description_width": ""
      }
     },
     "47d62f01a8df4813b830f6467187fa6e": {
      "model_module": "@jupyter-widgets/base",
      "model_module_version": "2.0.0",
      "model_name": "LayoutModel",
      "state": {}
     },
     "47d8a32a818f44f7b1e15113eb5c663f": {
      "model_module": "@jupyter-widgets/controls",
      "model_module_version": "2.0.0",
      "model_name": "HTMLStyleModel",
      "state": {
       "description_width": "",
       "font_size": null,
       "text_color": null
      }
     },
     "47e9fbce9aa943118f09aa3a945f8d84": {
      "model_module": "@jupyter-widgets/controls",
      "model_module_version": "2.0.0",
      "model_name": "HTMLStyleModel",
      "state": {
       "description_width": "",
       "font_size": null,
       "text_color": null
      }
     },
     "47f30a383c5f408cb26c5431e7f7ff36": {
      "model_module": "@jupyter-widgets/controls",
      "model_module_version": "2.0.0",
      "model_name": "HBoxModel",
      "state": {
       "children": [
        "IPY_MODEL_2f0cbd9973c6455d89559e82f4045d0f",
        "IPY_MODEL_e500ce480f024bdca7a0207bfa2dfe3b",
        "IPY_MODEL_cdd729d293e64a308efbbfed25c6f9ab"
       ],
       "layout": "IPY_MODEL_c4b7fd21b8ff47efaeb4ae6ed3f965fe"
      }
     },
     "480d4b89c1f54bcaba05a4bb49a6f143": {
      "model_module": "@jupyter-widgets/controls",
      "model_module_version": "2.0.0",
      "model_name": "HTMLModel",
      "state": {
       "layout": "IPY_MODEL_b2dad00ad8664671811b34167f1a16d7",
       "style": "IPY_MODEL_a93fb769e2c6414eb5a6e58f03131f4f",
       "value": "100%"
      }
     },
     "486853e587b74c398b71cd3ccb0a0e1a": {
      "model_module": "@jupyter-widgets/controls",
      "model_module_version": "2.0.0",
      "model_name": "FloatProgressModel",
      "state": {
       "bar_style": "success",
       "layout": "IPY_MODEL_2924bad531b74394b92c0bbbf3a07995",
       "max": 23,
       "style": "IPY_MODEL_f70c53fe0b2b4a2ca64855107778a9d9",
       "value": 23
      }
     },
     "48aafbca53b14769bae158a0020bb400": {
      "model_module": "@jupyter-widgets/base",
      "model_module_version": "2.0.0",
      "model_name": "LayoutModel",
      "state": {}
     },
     "48ec66d867b0419b8d78cf90ea6edeed": {
      "model_module": "@jupyter-widgets/base",
      "model_module_version": "2.0.0",
      "model_name": "LayoutModel",
      "state": {}
     },
     "492c7f555bac448d888bc5c28f85979e": {
      "model_module": "@jupyter-widgets/base",
      "model_module_version": "2.0.0",
      "model_name": "LayoutModel",
      "state": {}
     },
     "4936239214dc4131978983869624a040": {
      "model_module": "@jupyter-widgets/base",
      "model_module_version": "2.0.0",
      "model_name": "LayoutModel",
      "state": {}
     },
     "4940234949d0457fb4fe830d1cc9d4a2": {
      "model_module": "@jupyter-widgets/controls",
      "model_module_version": "2.0.0",
      "model_name": "HTMLModel",
      "state": {
       "layout": "IPY_MODEL_05ea0051e72b4d7398a57d024ab57ff1",
       "style": "IPY_MODEL_3cc432f44b864dadb2052300cca83a86",
       "value": " 20/20 [00:01&lt;00:00, 18.29it/s]"
      }
     },
     "49ea81b07bd3434b92c134c50adfb7f5": {
      "model_module": "@jupyter-widgets/controls",
      "model_module_version": "2.0.0",
      "model_name": "HTMLStyleModel",
      "state": {
       "description_width": "",
       "font_size": null,
       "text_color": null
      }
     },
     "49f0f20778354236bfb1ee706ae5949e": {
      "model_module": "@jupyter-widgets/controls",
      "model_module_version": "2.0.0",
      "model_name": "FloatProgressModel",
      "state": {
       "bar_style": "success",
       "layout": "IPY_MODEL_a953c782920e4f129f9080f11f475bba",
       "max": 22,
       "style": "IPY_MODEL_16ae653a82d74800895db08a5f0c8f59",
       "value": 22
      }
     },
     "4a57178462c54887bed3d0fb79eae6eb": {
      "model_module": "@jupyter-widgets/controls",
      "model_module_version": "2.0.0",
      "model_name": "HTMLStyleModel",
      "state": {
       "description_width": "",
       "font_size": null,
       "text_color": null
      }
     },
     "4a7e2261317242b78d78d3a5a90e6d3f": {
      "model_module": "@jupyter-widgets/base",
      "model_module_version": "2.0.0",
      "model_name": "LayoutModel",
      "state": {}
     },
     "4a92966d181e44d782fdd2ccd85d5f47": {
      "model_module": "@jupyter-widgets/controls",
      "model_module_version": "2.0.0",
      "model_name": "FloatProgressModel",
      "state": {
       "bar_style": "success",
       "layout": "IPY_MODEL_8f1838d940744bd2af69c070606a9131",
       "max": 21,
       "style": "IPY_MODEL_b803f1abdebf402bb4b186111d84f78f",
       "value": 21
      }
     },
     "4ac3b5091fdb454ba09aba96c708873c": {
      "model_module": "@jupyter-widgets/controls",
      "model_module_version": "2.0.0",
      "model_name": "ProgressStyleModel",
      "state": {
       "description_width": ""
      }
     },
     "4ac6b8ed050f4cb6b8480d3fc6b64a45": {
      "model_module": "@jupyter-widgets/base",
      "model_module_version": "2.0.0",
      "model_name": "LayoutModel",
      "state": {}
     },
     "4aca157ffe074c7380ada91af4fe3751": {
      "model_module": "@jupyter-widgets/base",
      "model_module_version": "2.0.0",
      "model_name": "LayoutModel",
      "state": {}
     },
     "4ae43d2d2459425ba89d712d270d637b": {
      "model_module": "@jupyter-widgets/base",
      "model_module_version": "2.0.0",
      "model_name": "LayoutModel",
      "state": {}
     },
     "4b5a8af3e1bf46f2a657d2d4f829a4eb": {
      "model_module": "@jupyter-widgets/controls",
      "model_module_version": "2.0.0",
      "model_name": "HTMLModel",
      "state": {
       "layout": "IPY_MODEL_a0819a4ef9c348bfa6a4f05ad649cd3f",
       "style": "IPY_MODEL_4d20dd1e3f814b58811cf5b1dab4c190",
       "value": " 20/20 [00:00&lt;00:00, 370.68it/s]"
      }
     },
     "4b78114cf6df439a8a9633e8155ef7e1": {
      "model_module": "@jupyter-widgets/base",
      "model_module_version": "2.0.0",
      "model_name": "LayoutModel",
      "state": {}
     },
     "4b9c4e45e3aa4ce19567de7e8a207c7c": {
      "model_module": "@jupyter-widgets/controls",
      "model_module_version": "2.0.0",
      "model_name": "HTMLStyleModel",
      "state": {
       "description_width": "",
       "font_size": null,
       "text_color": null
      }
     },
     "4bc12391d6db4bb1914c601deda7baad": {
      "model_module": "@jupyter-widgets/controls",
      "model_module_version": "2.0.0",
      "model_name": "HTMLModel",
      "state": {
       "layout": "IPY_MODEL_d281cbbfe368460fab459945a943e148",
       "style": "IPY_MODEL_2788bf64f5db4427af1fc97c18e5fea3",
       "value": "100%"
      }
     },
     "4bd2914f6f3842de85860f210e53ac62": {
      "model_module": "@jupyter-widgets/controls",
      "model_module_version": "2.0.0",
      "model_name": "ProgressStyleModel",
      "state": {
       "description_width": ""
      }
     },
     "4be7aeb7f3ff4d7391a0694ada30c5f0": {
      "model_module": "@jupyter-widgets/base",
      "model_module_version": "2.0.0",
      "model_name": "LayoutModel",
      "state": {}
     },
     "4c0140d930e544ee810c3d5d310803c0": {
      "model_module": "@jupyter-widgets/controls",
      "model_module_version": "2.0.0",
      "model_name": "HTMLStyleModel",
      "state": {
       "description_width": "",
       "font_size": null,
       "text_color": null
      }
     },
     "4c22090a53794728be711fbdc11364b2": {
      "model_module": "@jupyter-widgets/base",
      "model_module_version": "2.0.0",
      "model_name": "LayoutModel",
      "state": {}
     },
     "4c320241c7704010a19c980bfe530bb5": {
      "model_module": "@jupyter-widgets/base",
      "model_module_version": "2.0.0",
      "model_name": "LayoutModel",
      "state": {}
     },
     "4c79a3f4db3b4b929597128dadf9388b": {
      "model_module": "@jupyter-widgets/controls",
      "model_module_version": "2.0.0",
      "model_name": "HBoxModel",
      "state": {
       "children": [
        "IPY_MODEL_e365fcaab8c84e2e98ababa062d31db9",
        "IPY_MODEL_1e37ec75873a465d800b47c066ea29d8",
        "IPY_MODEL_dd5bcaa4bef244029d650cf9f7668a75"
       ],
       "layout": "IPY_MODEL_c8c9ce18530e47d7a32ff240497b2966"
      }
     },
     "4c79d13a378c4eef9d138f3bed47ccfb": {
      "model_module": "@jupyter-widgets/controls",
      "model_module_version": "2.0.0",
      "model_name": "HTMLModel",
      "state": {
       "layout": "IPY_MODEL_55ecfe291082415c8996ff926031eb05",
       "style": "IPY_MODEL_200920c55c494e6ea8d2843f5b98d5c8",
       "value": "100%"
      }
     },
     "4c9be697f4634ba6921ac413894d0a17": {
      "model_module": "@jupyter-widgets/controls",
      "model_module_version": "2.0.0",
      "model_name": "HTMLModel",
      "state": {
       "layout": "IPY_MODEL_8e77570e00ba402190b4f23029e062c3",
       "style": "IPY_MODEL_3b34e1a60612404bab8d8dd7ed541ed5",
       "value": " 23/23 [00:00&lt;00:00, 44.84it/s]"
      }
     },
     "4ca4207470764fa5a80b866f9bf8f073": {
      "model_module": "@jupyter-widgets/controls",
      "model_module_version": "2.0.0",
      "model_name": "HTMLStyleModel",
      "state": {
       "description_width": "",
       "font_size": null,
       "text_color": null
      }
     },
     "4caa1d636370448583e71b58f44ddea2": {
      "model_module": "@jupyter-widgets/controls",
      "model_module_version": "2.0.0",
      "model_name": "HTMLModel",
      "state": {
       "layout": "IPY_MODEL_26aab88ac980438eb75dfc54ddab5d6e",
       "style": "IPY_MODEL_8d6b0570ce66459daf928c14fbb0aaf1",
       "value": "100%"
      }
     },
     "4cc1c009d6494957a3bb76cc2e78cf5c": {
      "model_module": "@jupyter-widgets/controls",
      "model_module_version": "2.0.0",
      "model_name": "HBoxModel",
      "state": {
       "children": [
        "IPY_MODEL_f443a3d127034e08908cc43e919e199d",
        "IPY_MODEL_90432266dd374283ba464ca7f2f2f98d",
        "IPY_MODEL_83fcc3ea46e54c3381956f4fcb5f8859"
       ],
       "layout": "IPY_MODEL_1e0d46ba1aac41d2ae47e642b1a3bd12"
      }
     },
     "4ceb4b2bcfcc44e686c99eeb8e43f517": {
      "model_module": "@jupyter-widgets/controls",
      "model_module_version": "2.0.0",
      "model_name": "HBoxModel",
      "state": {
       "children": [
        "IPY_MODEL_a646103af1584fcaa80aaf29a24a9599",
        "IPY_MODEL_0011ddaa97b64302ba2de606a1be9b02",
        "IPY_MODEL_cf1a0a393d334f2890b15654cf141f16"
       ],
       "layout": "IPY_MODEL_2eba5f3e468344f0b100374ca5ef106b"
      }
     },
     "4d20dd1e3f814b58811cf5b1dab4c190": {
      "model_module": "@jupyter-widgets/controls",
      "model_module_version": "2.0.0",
      "model_name": "HTMLStyleModel",
      "state": {
       "description_width": "",
       "font_size": null,
       "text_color": null
      }
     },
     "4d2a2a3ff3344cb3bff016a3cdfdb9d4": {
      "model_module": "@jupyter-widgets/controls",
      "model_module_version": "2.0.0",
      "model_name": "HTMLModel",
      "state": {
       "layout": "IPY_MODEL_633ced19f2b149f2ba19734a00e19ab0",
       "style": "IPY_MODEL_b2a8261e3f704f83a9643cf999d7629a",
       "value": " 22/22 [00:00&lt;00:00, 40.60it/s]"
      }
     },
     "4d3a8a55e1c1445ca3c30bb173f9ac0e": {
      "model_module": "@jupyter-widgets/base",
      "model_module_version": "2.0.0",
      "model_name": "LayoutModel",
      "state": {}
     },
     "4d50a9a469a84ff999b0dbb5860ee346": {
      "model_module": "@jupyter-widgets/base",
      "model_module_version": "2.0.0",
      "model_name": "LayoutModel",
      "state": {}
     },
     "4d54f1095b1046968ab4cde56b1b19bc": {
      "model_module": "@jupyter-widgets/controls",
      "model_module_version": "2.0.0",
      "model_name": "HTMLModel",
      "state": {
       "layout": "IPY_MODEL_b405cbef6797470594baf0fbd3abcdd2",
       "style": "IPY_MODEL_bde42adaa9fe4d79b0296f55c7e18922",
       "value": " 23/23 [00:00&lt;00:00, 297.58it/s]"
      }
     },
     "4d792e5f7f3e40d8b6309b27e1376ff3": {
      "model_module": "@jupyter-widgets/controls",
      "model_module_version": "2.0.0",
      "model_name": "HTMLModel",
      "state": {
       "layout": "IPY_MODEL_7262c3d3e8f94f9e871bc5f1543666f9",
       "style": "IPY_MODEL_ca849f46c29c4898b659c38f4eedf6dd",
       "value": " 22/22 [00:00&lt;00:00, 44.03it/s]"
      }
     },
     "4d8d7db7cac145baa9e68a2874e533cd": {
      "model_module": "@jupyter-widgets/controls",
      "model_module_version": "2.0.0",
      "model_name": "ProgressStyleModel",
      "state": {
       "description_width": ""
      }
     },
     "4da96c613152409398c40be405347421": {
      "model_module": "@jupyter-widgets/base",
      "model_module_version": "2.0.0",
      "model_name": "LayoutModel",
      "state": {}
     },
     "4dc70759a66849778be6c87b5bc2aca6": {
      "model_module": "@jupyter-widgets/controls",
      "model_module_version": "2.0.0",
      "model_name": "HTMLModel",
      "state": {
       "layout": "IPY_MODEL_cb2ade29e069444583ccdb5593034d8e",
       "style": "IPY_MODEL_f2c63f3d16b9405c93d8f2abe055e6a7",
       "value": " 21/21 [00:00&lt;00:00, 38.10it/s]"
      }
     },
     "4e057feee5cf40c6b7f4f9478a15590a": {
      "model_module": "@jupyter-widgets/base",
      "model_module_version": "2.0.0",
      "model_name": "LayoutModel",
      "state": {}
     },
     "4e329853adbf472789c6419722757d95": {
      "model_module": "@jupyter-widgets/controls",
      "model_module_version": "2.0.0",
      "model_name": "HTMLModel",
      "state": {
       "layout": "IPY_MODEL_7f888f2f869546d0b5cf52e387a91349",
       "style": "IPY_MODEL_6a5129b0fe5c4a5895c7426e2cbe666b",
       "value": "100%"
      }
     },
     "4e3594b872684dc0aeae88948499c122": {
      "model_module": "@jupyter-widgets/controls",
      "model_module_version": "2.0.0",
      "model_name": "FloatProgressModel",
      "state": {
       "bar_style": "success",
       "layout": "IPY_MODEL_a49c4a02872a463d85f90a2ba40727ee",
       "max": 21,
       "style": "IPY_MODEL_9f619d9dc7884680a4e8dc7e793abd08",
       "value": 21
      }
     },
     "4e48efad5bae45a79dcb7fe8e6ddb322": {
      "model_module": "@jupyter-widgets/base",
      "model_module_version": "2.0.0",
      "model_name": "LayoutModel",
      "state": {}
     },
     "4ecd5953d1414c6e8caf414dd8040cb2": {
      "model_module": "@jupyter-widgets/base",
      "model_module_version": "2.0.0",
      "model_name": "LayoutModel",
      "state": {}
     },
     "4f26ae7e30fb4c5f807cd8dc0ae9be62": {
      "model_module": "@jupyter-widgets/base",
      "model_module_version": "2.0.0",
      "model_name": "LayoutModel",
      "state": {}
     },
     "4f414c2348bd46038457289c2870c44a": {
      "model_module": "@jupyter-widgets/controls",
      "model_module_version": "2.0.0",
      "model_name": "HTMLModel",
      "state": {
       "layout": "IPY_MODEL_f77ac06c450948f3a2b2b13086e41c17",
       "style": "IPY_MODEL_b363a7cca2754b08af393065db81b111",
       "value": "100%"
      }
     },
     "4f4b60e1a1e94704ac6305e0d6b92f8b": {
      "model_module": "@jupyter-widgets/controls",
      "model_module_version": "2.0.0",
      "model_name": "HTMLStyleModel",
      "state": {
       "description_width": "",
       "font_size": null,
       "text_color": null
      }
     },
     "4f4e7165eb1f4b2ab66609da2d1002f0": {
      "model_module": "@jupyter-widgets/controls",
      "model_module_version": "2.0.0",
      "model_name": "HTMLStyleModel",
      "state": {
       "description_width": "",
       "font_size": null,
       "text_color": null
      }
     },
     "4f51e2683c4d427284c9cf0984906fe4": {
      "model_module": "@jupyter-widgets/controls",
      "model_module_version": "2.0.0",
      "model_name": "FloatProgressModel",
      "state": {
       "bar_style": "success",
       "layout": "IPY_MODEL_31d5ecc7b8a640feacb5b3db7c4ef534",
       "max": 22,
       "style": "IPY_MODEL_67c31a5a19b1471e88b72e23016ef4fb",
       "value": 22
      }
     },
     "4f5578282f294e1cbc6f1a5f6bda0120": {
      "model_module": "@jupyter-widgets/base",
      "model_module_version": "2.0.0",
      "model_name": "LayoutModel",
      "state": {}
     },
     "4fc6432bb2ce47c2995da19aaf95d7ff": {
      "model_module": "@jupyter-widgets/controls",
      "model_module_version": "2.0.0",
      "model_name": "ProgressStyleModel",
      "state": {
       "description_width": ""
      }
     },
     "4fca660c70fd4099bd8bf46f328f5027": {
      "model_module": "@jupyter-widgets/controls",
      "model_module_version": "2.0.0",
      "model_name": "ProgressStyleModel",
      "state": {
       "description_width": ""
      }
     },
     "4fdf1f0e052a43a39bb79aa4d3a0c312": {
      "model_module": "@jupyter-widgets/controls",
      "model_module_version": "2.0.0",
      "model_name": "HBoxModel",
      "state": {
       "children": [
        "IPY_MODEL_a56a4358d5bd49e1b9ec496971b2686b",
        "IPY_MODEL_b9203cd4cc554af187246c48a461905c",
        "IPY_MODEL_3f827f9b459b4431afbb1b651f582bb0"
       ],
       "layout": "IPY_MODEL_2b76cdb20cdc4f9ea0b04966b4e2c4c3"
      }
     },
     "4ff526bc67a54f499fb70f35d4dc10ce": {
      "model_module": "@jupyter-widgets/controls",
      "model_module_version": "2.0.0",
      "model_name": "ProgressStyleModel",
      "state": {
       "description_width": ""
      }
     },
     "5008e89ffecd4aa9975ff6f3fafbf39f": {
      "model_module": "@jupyter-widgets/controls",
      "model_module_version": "2.0.0",
      "model_name": "HTMLModel",
      "state": {
       "layout": "IPY_MODEL_47d62f01a8df4813b830f6467187fa6e",
       "style": "IPY_MODEL_a791bf24e8a14f57addcc36a78c900fc",
       "value": "100%"
      }
     },
     "501da67919e34c29b723c244c360bac6": {
      "model_module": "@jupyter-widgets/controls",
      "model_module_version": "2.0.0",
      "model_name": "HTMLStyleModel",
      "state": {
       "description_width": "",
       "font_size": null,
       "text_color": null
      }
     },
     "5055a2d54dd44270b32ad6cfcaaa10f6": {
      "model_module": "@jupyter-widgets/controls",
      "model_module_version": "2.0.0",
      "model_name": "HTMLStyleModel",
      "state": {
       "description_width": "",
       "font_size": null,
       "text_color": null
      }
     },
     "50655bad6a3945b683a28ed8dd2e3abb": {
      "model_module": "@jupyter-widgets/controls",
      "model_module_version": "2.0.0",
      "model_name": "FloatProgressModel",
      "state": {
       "bar_style": "success",
       "layout": "IPY_MODEL_a5c0238915d14373a665796cd4c18114",
       "max": 20,
       "style": "IPY_MODEL_1d96cf93207c40b0a72b104c63e3a0b7",
       "value": 20
      }
     },
     "506a03d63f8545b5908eda8e48e5708e": {
      "model_module": "@jupyter-widgets/controls",
      "model_module_version": "2.0.0",
      "model_name": "FloatProgressModel",
      "state": {
       "bar_style": "success",
       "layout": "IPY_MODEL_ce500505c88f4705a8bc38a591313cb4",
       "max": 22,
       "style": "IPY_MODEL_5a9ee338ffa044ddbd49914595ad977f",
       "value": 22
      }
     },
     "510283d8ce7e4dea8be3e62ede847948": {
      "model_module": "@jupyter-widgets/controls",
      "model_module_version": "2.0.0",
      "model_name": "HBoxModel",
      "state": {
       "children": [
        "IPY_MODEL_080ab066d4c14bb2bee7853b80068c26",
        "IPY_MODEL_1c38ad5073f7427c8c66457d1063f39d",
        "IPY_MODEL_4c9be697f4634ba6921ac413894d0a17"
       ],
       "layout": "IPY_MODEL_a2374264a0c94e819c280524df0fa89c"
      }
     },
     "514e06d9090e4815a40088493b8f5bd4": {
      "model_module": "@jupyter-widgets/base",
      "model_module_version": "2.0.0",
      "model_name": "LayoutModel",
      "state": {}
     },
     "515274eafee14adf8eb6986e07c9364a": {
      "model_module": "@jupyter-widgets/controls",
      "model_module_version": "2.0.0",
      "model_name": "HTMLStyleModel",
      "state": {
       "description_width": "",
       "font_size": null,
       "text_color": null
      }
     },
     "51a28a4f757441548ee19e5e0ecf79c8": {
      "model_module": "@jupyter-widgets/base",
      "model_module_version": "2.0.0",
      "model_name": "LayoutModel",
      "state": {}
     },
     "520e9419219d439a89436c98f6c480f1": {
      "model_module": "@jupyter-widgets/controls",
      "model_module_version": "2.0.0",
      "model_name": "HTMLStyleModel",
      "state": {
       "description_width": "",
       "font_size": null,
       "text_color": null
      }
     },
     "523a80b8801d4c7d8008088db65c1572": {
      "model_module": "@jupyter-widgets/base",
      "model_module_version": "2.0.0",
      "model_name": "LayoutModel",
      "state": {}
     },
     "524d9fef10dd4b69a6d57832a97d201f": {
      "model_module": "@jupyter-widgets/base",
      "model_module_version": "2.0.0",
      "model_name": "LayoutModel",
      "state": {}
     },
     "5272ffb41b5542b4a131c171dd351de7": {
      "model_module": "@jupyter-widgets/controls",
      "model_module_version": "2.0.0",
      "model_name": "HTMLModel",
      "state": {
       "layout": "IPY_MODEL_1e52f3c243c1457a929d794a991f7c7d",
       "style": "IPY_MODEL_f24b9ef3ef45490ab72f738546a4cdb7",
       "value": " 20/20 [00:00&lt;00:00, 21.30it/s]"
      }
     },
     "5294923ee8f7476daccb8beac3cfbd06": {
      "model_module": "@jupyter-widgets/controls",
      "model_module_version": "2.0.0",
      "model_name": "FloatProgressModel",
      "state": {
       "bar_style": "success",
       "layout": "IPY_MODEL_cccb165a02984602baf0eb6f18668ccd",
       "max": 22,
       "style": "IPY_MODEL_fd34c66e7ba24454bc17007ba8cf245c",
       "value": 22
      }
     },
     "52aed54d1a2a4e6694f52cdddbf4ee21": {
      "model_module": "@jupyter-widgets/controls",
      "model_module_version": "2.0.0",
      "model_name": "HTMLStyleModel",
      "state": {
       "description_width": "",
       "font_size": null,
       "text_color": null
      }
     },
     "52c6920acb7848ffb04b53a5f3f0c6c1": {
      "model_module": "@jupyter-widgets/controls",
      "model_module_version": "2.0.0",
      "model_name": "HBoxModel",
      "state": {
       "children": [
        "IPY_MODEL_6e416a28c8b141219e167ab053ebd945",
        "IPY_MODEL_03f104dd4fe44b0fb64b12f6fa9dff07",
        "IPY_MODEL_fdbc07e31a6343fcadbd4aa98095b367"
       ],
       "layout": "IPY_MODEL_38012d39565d44efae219dc1c92d309d"
      }
     },
     "5326595b21b54d549bbc885ced6c87d3": {
      "model_module": "@jupyter-widgets/controls",
      "model_module_version": "2.0.0",
      "model_name": "HTMLStyleModel",
      "state": {
       "description_width": "",
       "font_size": null,
       "text_color": null
      }
     },
     "53337c50271d47039b139cc34d576ee2": {
      "model_module": "@jupyter-widgets/controls",
      "model_module_version": "2.0.0",
      "model_name": "HTMLStyleModel",
      "state": {
       "description_width": "",
       "font_size": null,
       "text_color": null
      }
     },
     "5375d4dbfc1c4612beb904071dd15a63": {
      "model_module": "@jupyter-widgets/base",
      "model_module_version": "2.0.0",
      "model_name": "LayoutModel",
      "state": {}
     },
     "53daeb1726d64f04bfdda1743d1b66a7": {
      "model_module": "@jupyter-widgets/controls",
      "model_module_version": "2.0.0",
      "model_name": "FloatProgressModel",
      "state": {
       "bar_style": "success",
       "layout": "IPY_MODEL_e32dde91370a40d0b5c453e9df489dba",
       "max": 21,
       "style": "IPY_MODEL_d59071def17f4a0c876448be7ddce847",
       "value": 21
      }
     },
     "53dd5d7f423949ddaa6d75f3e00fd211": {
      "model_module": "@jupyter-widgets/controls",
      "model_module_version": "2.0.0",
      "model_name": "HTMLModel",
      "state": {
       "layout": "IPY_MODEL_ffc28872af1f4e018bebefe60f3e8bf1",
       "style": "IPY_MODEL_b25677b673e64e22ad24b726accdfe39",
       "value": " 22/22 [00:00&lt;00:00, 26.06it/s]"
      }
     },
     "541f835a44994ca0a479a80adabf5032": {
      "model_module": "@jupyter-widgets/controls",
      "model_module_version": "2.0.0",
      "model_name": "HTMLModel",
      "state": {
       "layout": "IPY_MODEL_24b1b566f85c44cab333a68cdb63932b",
       "style": "IPY_MODEL_fe60bf356ac0491dac5d41e056ef9167",
       "value": "100%"
      }
     },
     "542714a4b7fb4b058ccf659f2cc90d73": {
      "model_module": "@jupyter-widgets/controls",
      "model_module_version": "2.0.0",
      "model_name": "HTMLModel",
      "state": {
       "layout": "IPY_MODEL_bc6c7303961b45feae49e1e466af57e1",
       "style": "IPY_MODEL_bbd99c8681f742c5b824ca62570bab23",
       "value": " 21/21 [00:00&lt;00:00, 49.71it/s]"
      }
     },
     "5441cc3bf85d4ed0b87448d3817a14fb": {
      "model_module": "@jupyter-widgets/controls",
      "model_module_version": "2.0.0",
      "model_name": "HBoxModel",
      "state": {
       "children": [
        "IPY_MODEL_008420ba0d204b85b211dc34759f609d",
        "IPY_MODEL_19b034fe1b2d4c3488de7bfe2e912e12",
        "IPY_MODEL_64ede2c4656146db8f6dbaecefba6c2c"
       ],
       "layout": "IPY_MODEL_bd63ec01144b48b3b9fa3b276b682a0e"
      }
     },
     "544a356e3e0f49acade8e97f9b93e660": {
      "model_module": "@jupyter-widgets/controls",
      "model_module_version": "2.0.0",
      "model_name": "FloatProgressModel",
      "state": {
       "bar_style": "success",
       "layout": "IPY_MODEL_0762651c99b14e98a7e2d738404cec38",
       "max": 23,
       "style": "IPY_MODEL_38acba8a87c140b4af55732437d1059a",
       "value": 23
      }
     },
     "545acd327b304d54b7243fa00054bb5a": {
      "model_module": "@jupyter-widgets/controls",
      "model_module_version": "2.0.0",
      "model_name": "HBoxModel",
      "state": {
       "children": [
        "IPY_MODEL_767224d507e34d359f381bbebbadb786",
        "IPY_MODEL_15351a13fcf540cfa49d62a33220b1c1",
        "IPY_MODEL_cb264b25be1a4945ab9bc9ebef7adb07"
       ],
       "layout": "IPY_MODEL_d6ed2f57ef4a40859fe5edc5789c33b8"
      }
     },
     "5464794caf1b4abcbdc198d6119e0d57": {
      "model_module": "@jupyter-widgets/controls",
      "model_module_version": "2.0.0",
      "model_name": "HBoxModel",
      "state": {
       "children": [
        "IPY_MODEL_c3a92c35f7a845fd8561d9b6535f78c9",
        "IPY_MODEL_f6f9e388153c47968261e671832c44ea",
        "IPY_MODEL_2b356b612bf048a6a0db28b239280a1c"
       ],
       "layout": "IPY_MODEL_1bf1f9968a2a4eb2ae2368cde5bf91d4"
      }
     },
     "5465a9791c4b4b22a75be3d5e93b725c": {
      "model_module": "@jupyter-widgets/controls",
      "model_module_version": "2.0.0",
      "model_name": "HTMLModel",
      "state": {
       "layout": "IPY_MODEL_6672f601535f43f8b7ba2d250ba3abf1",
       "style": "IPY_MODEL_1fb7616bec4446cd95b13ddec69ebcbc",
       "value": "100%"
      }
     },
     "54669186f1bb46e1b73d7f0479ba115f": {
      "model_module": "@jupyter-widgets/controls",
      "model_module_version": "2.0.0",
      "model_name": "HTMLStyleModel",
      "state": {
       "description_width": "",
       "font_size": null,
       "text_color": null
      }
     },
     "54891800e28743a3afd521415414fc9e": {
      "model_module": "@jupyter-widgets/base",
      "model_module_version": "2.0.0",
      "model_name": "LayoutModel",
      "state": {}
     },
     "548ecb930d89485fb20464599d34a02f": {
      "model_module": "@jupyter-widgets/controls",
      "model_module_version": "2.0.0",
      "model_name": "FloatProgressModel",
      "state": {
       "bar_style": "success",
       "layout": "IPY_MODEL_fd1b9b6660b84cb7b7bdb038ed649c55",
       "max": 21,
       "style": "IPY_MODEL_c1887aaec10949b89732a9744119aeb9",
       "value": 21
      }
     },
     "550a4e462a534d48a73f0bcda0b88bde": {
      "model_module": "@jupyter-widgets/base",
      "model_module_version": "2.0.0",
      "model_name": "LayoutModel",
      "state": {}
     },
     "5541af9b25ab42dea6aa90368a7a195c": {
      "model_module": "@jupyter-widgets/base",
      "model_module_version": "2.0.0",
      "model_name": "LayoutModel",
      "state": {}
     },
     "556c251689864c769bce1c8774016f2e": {
      "model_module": "@jupyter-widgets/base",
      "model_module_version": "2.0.0",
      "model_name": "LayoutModel",
      "state": {}
     },
     "55c5a261424d437ba34bb042c85af78e": {
      "model_module": "@jupyter-widgets/base",
      "model_module_version": "2.0.0",
      "model_name": "LayoutModel",
      "state": {}
     },
     "55ecfe291082415c8996ff926031eb05": {
      "model_module": "@jupyter-widgets/base",
      "model_module_version": "2.0.0",
      "model_name": "LayoutModel",
      "state": {}
     },
     "560f068ba8e74dc084dd94e44a34cb9d": {
      "model_module": "@jupyter-widgets/controls",
      "model_module_version": "2.0.0",
      "model_name": "HTMLStyleModel",
      "state": {
       "description_width": "",
       "font_size": null,
       "text_color": null
      }
     },
     "560fbc5be7ad4a019b23739d437aa491": {
      "model_module": "@jupyter-widgets/base",
      "model_module_version": "2.0.0",
      "model_name": "LayoutModel",
      "state": {}
     },
     "5620cb0924fe43c9a5cad528bfef9751": {
      "model_module": "@jupyter-widgets/controls",
      "model_module_version": "2.0.0",
      "model_name": "HTMLModel",
      "state": {
       "layout": "IPY_MODEL_56c4dff74d1d4ae386ab85fa5b080120",
       "style": "IPY_MODEL_202166b66f9c4b76b73bf8b23d2c5ebf",
       "value": " 23/23 [00:00&lt;00:00, 309.93it/s]"
      }
     },
     "5625bf0098ba4ca8b82ca7653e873ce3": {
      "model_module": "@jupyter-widgets/controls",
      "model_module_version": "2.0.0",
      "model_name": "HTMLStyleModel",
      "state": {
       "description_width": "",
       "font_size": null,
       "text_color": null
      }
     },
     "568f0a3503f246908ce15f1d5296fda9": {
      "model_module": "@jupyter-widgets/controls",
      "model_module_version": "2.0.0",
      "model_name": "HTMLModel",
      "state": {
       "layout": "IPY_MODEL_16291950f60449cab4a4b19794e43f27",
       "style": "IPY_MODEL_db0f4a2524bb43a2ac06f64341875e38",
       "value": "100%"
      }
     },
     "5699ac95d3e341358fcad0e04762b0cc": {
      "model_module": "@jupyter-widgets/base",
      "model_module_version": "2.0.0",
      "model_name": "LayoutModel",
      "state": {}
     },
     "56ae06ecf20f43d1ab3f635e68371769": {
      "model_module": "@jupyter-widgets/controls",
      "model_module_version": "2.0.0",
      "model_name": "HBoxModel",
      "state": {
       "children": [
        "IPY_MODEL_3751199d2db34fa8baf55cab77b0c065",
        "IPY_MODEL_023f8bbcd94c47e6bf14f5ec6fb8e877",
        "IPY_MODEL_a12da522c93d44a7b583eace0fc654ba"
       ],
       "layout": "IPY_MODEL_e47ff61673b742ba9c3677ea3a27cc39"
      }
     },
     "56b09922e38d48f3aa473c9e8a1c58ea": {
      "model_module": "@jupyter-widgets/controls",
      "model_module_version": "2.0.0",
      "model_name": "HTMLStyleModel",
      "state": {
       "description_width": "",
       "font_size": null,
       "text_color": null
      }
     },
     "56c4dff74d1d4ae386ab85fa5b080120": {
      "model_module": "@jupyter-widgets/base",
      "model_module_version": "2.0.0",
      "model_name": "LayoutModel",
      "state": {}
     },
     "56e0926d753247a080127712e4ddbd2c": {
      "model_module": "@jupyter-widgets/controls",
      "model_module_version": "2.0.0",
      "model_name": "FloatProgressModel",
      "state": {
       "bar_style": "success",
       "layout": "IPY_MODEL_638e5ef34fb74989aa1ded7846a92328",
       "max": 23,
       "style": "IPY_MODEL_a259db4fc3944c88873752e3c3943947",
       "value": 23
      }
     },
     "5722deb4be0a41db8fcbd5a6f7aec12d": {
      "model_module": "@jupyter-widgets/controls",
      "model_module_version": "2.0.0",
      "model_name": "HBoxModel",
      "state": {
       "children": [
        "IPY_MODEL_59c4f5367b9d47e4a4767de855fa1bba",
        "IPY_MODEL_7b01ddce923e49e7ae0c892cbb1cdc62",
        "IPY_MODEL_8f0c2e12213f48b89ece9d81775c5854"
       ],
       "layout": "IPY_MODEL_f439888fb4964fe69ab2af8abd794eba"
      }
     },
     "573273ed61b54140a0f3dbead661b239": {
      "model_module": "@jupyter-widgets/controls",
      "model_module_version": "2.0.0",
      "model_name": "HTMLStyleModel",
      "state": {
       "description_width": "",
       "font_size": null,
       "text_color": null
      }
     },
     "57634203f91b4358b0e71415381d93a7": {
      "model_module": "@jupyter-widgets/base",
      "model_module_version": "2.0.0",
      "model_name": "LayoutModel",
      "state": {}
     },
     "5794030fca904d48b7d04738033a0d04": {
      "model_module": "@jupyter-widgets/controls",
      "model_module_version": "2.0.0",
      "model_name": "ProgressStyleModel",
      "state": {
       "description_width": ""
      }
     },
     "57be94c38d4143bfab172a2890b09134": {
      "model_module": "@jupyter-widgets/controls",
      "model_module_version": "2.0.0",
      "model_name": "HTMLStyleModel",
      "state": {
       "description_width": "",
       "font_size": null,
       "text_color": null
      }
     },
     "57d1d3a72b23465ab9705165fc2070f9": {
      "model_module": "@jupyter-widgets/base",
      "model_module_version": "2.0.0",
      "model_name": "LayoutModel",
      "state": {}
     },
     "57e32e0136b747098e9e3774de4b6a76": {
      "model_module": "@jupyter-widgets/controls",
      "model_module_version": "2.0.0",
      "model_name": "HTMLStyleModel",
      "state": {
       "description_width": "",
       "font_size": null,
       "text_color": null
      }
     },
     "5800fe23460c4f4b8d5b2413027e02b8": {
      "model_module": "@jupyter-widgets/controls",
      "model_module_version": "2.0.0",
      "model_name": "HTMLModel",
      "state": {
       "layout": "IPY_MODEL_1a8896df7aa7452bb991eaaf2fa5de66",
       "style": "IPY_MODEL_30d860d23de5421992c5dffa8a4e9b92",
       "value": " 23/23 [00:00&lt;00:00, 22.45it/s]"
      }
     },
     "58633d6faa554579b5648694c591688a": {
      "model_module": "@jupyter-widgets/base",
      "model_module_version": "2.0.0",
      "model_name": "LayoutModel",
      "state": {}
     },
     "58995cd152d64371b759c324205c2fb6": {
      "model_module": "@jupyter-widgets/controls",
      "model_module_version": "2.0.0",
      "model_name": "FloatProgressModel",
      "state": {
       "bar_style": "success",
       "layout": "IPY_MODEL_45b25127c3014cea9d2895c8b6b9e5e4",
       "max": 20,
       "style": "IPY_MODEL_c4d4471173c14975872df694c918810c",
       "value": 20
      }
     },
     "58a20280537e440488de80c1f6d24bd4": {
      "model_module": "@jupyter-widgets/base",
      "model_module_version": "2.0.0",
      "model_name": "LayoutModel",
      "state": {}
     },
     "58a6433c3d2d48dc8f059746469db7d1": {
      "model_module": "@jupyter-widgets/controls",
      "model_module_version": "2.0.0",
      "model_name": "HTMLModel",
      "state": {
       "layout": "IPY_MODEL_7bb113bea88a4f079e07214962cfbc54",
       "style": "IPY_MODEL_88ab9b68f66a44dbba4665f9d9ba24df",
       "value": "100%"
      }
     },
     "58be58be22e64dc49ef8ed4b657a619e": {
      "model_module": "@jupyter-widgets/controls",
      "model_module_version": "2.0.0",
      "model_name": "HTMLStyleModel",
      "state": {
       "description_width": "",
       "font_size": null,
       "text_color": null
      }
     },
     "58e1376f46bc48b5a00c0e2fc9f488c4": {
      "model_module": "@jupyter-widgets/base",
      "model_module_version": "2.0.0",
      "model_name": "LayoutModel",
      "state": {}
     },
     "58e5b010010546ad9dd67766d8c9735a": {
      "model_module": "@jupyter-widgets/controls",
      "model_module_version": "2.0.0",
      "model_name": "HTMLStyleModel",
      "state": {
       "description_width": "",
       "font_size": null,
       "text_color": null
      }
     },
     "58f6282bc6e04ae7a96bbdf5c040c93b": {
      "model_module": "@jupyter-widgets/base",
      "model_module_version": "2.0.0",
      "model_name": "LayoutModel",
      "state": {}
     },
     "58f899dadbd4484f890f75d8c7714776": {
      "model_module": "@jupyter-widgets/controls",
      "model_module_version": "2.0.0",
      "model_name": "HTMLStyleModel",
      "state": {
       "description_width": "",
       "font_size": null,
       "text_color": null
      }
     },
     "59178dc4adb74f84af048ffd3ac539af": {
      "model_module": "@jupyter-widgets/controls",
      "model_module_version": "2.0.0",
      "model_name": "HTMLModel",
      "state": {
       "layout": "IPY_MODEL_bdb42fc12aeb42e496fc8a84a0632252",
       "style": "IPY_MODEL_d193ebc3c58d4ed2b88ed3bf1833834b",
       "value": "100%"
      }
     },
     "59637d9568c34ce799dafc7002b91ad6": {
      "model_module": "@jupyter-widgets/controls",
      "model_module_version": "2.0.0",
      "model_name": "ProgressStyleModel",
      "state": {
       "description_width": ""
      }
     },
     "598af01fa3254f5da184c74e15440dc8": {
      "model_module": "@jupyter-widgets/controls",
      "model_module_version": "2.0.0",
      "model_name": "HTMLStyleModel",
      "state": {
       "description_width": "",
       "font_size": null,
       "text_color": null
      }
     },
     "598f71095a354dceae8b9f83877fdef3": {
      "model_module": "@jupyter-widgets/base",
      "model_module_version": "2.0.0",
      "model_name": "LayoutModel",
      "state": {}
     },
     "59c4f5367b9d47e4a4767de855fa1bba": {
      "model_module": "@jupyter-widgets/controls",
      "model_module_version": "2.0.0",
      "model_name": "HTMLModel",
      "state": {
       "layout": "IPY_MODEL_f20e0d75be104c7286e89f090fcb6090",
       "style": "IPY_MODEL_1d075b6a06a84d5ab8c90a10a1b5de59",
       "value": "100%"
      }
     },
     "5a217d7f017f4ef8a9590c8bbbbd7911": {
      "model_module": "@jupyter-widgets/controls",
      "model_module_version": "2.0.0",
      "model_name": "HTMLModel",
      "state": {
       "layout": "IPY_MODEL_13c1ba9ca3a14056a5cd129aa1f236f7",
       "style": "IPY_MODEL_1c5474c473194ba8bc6b0dcda9b3b45d",
       "value": "100%"
      }
     },
     "5a620e88c39f4eac84c8a402bce201fa": {
      "model_module": "@jupyter-widgets/controls",
      "model_module_version": "2.0.0",
      "model_name": "HTMLModel",
      "state": {
       "layout": "IPY_MODEL_998434ac7ef24df0a44b38b45f5795b7",
       "style": "IPY_MODEL_1560cd38aadb46f6bee81d22816d595a",
       "value": "100%"
      }
     },
     "5a65a178a0214229ae5223b206d92423": {
      "model_module": "@jupyter-widgets/controls",
      "model_module_version": "2.0.0",
      "model_name": "HTMLStyleModel",
      "state": {
       "description_width": "",
       "font_size": null,
       "text_color": null
      }
     },
     "5a9ee338ffa044ddbd49914595ad977f": {
      "model_module": "@jupyter-widgets/controls",
      "model_module_version": "2.0.0",
      "model_name": "ProgressStyleModel",
      "state": {
       "description_width": ""
      }
     },
     "5aae370b6e414d778bffb2913f7803af": {
      "model_module": "@jupyter-widgets/controls",
      "model_module_version": "2.0.0",
      "model_name": "FloatProgressModel",
      "state": {
       "bar_style": "success",
       "layout": "IPY_MODEL_13ee396fd12e4ea79191322020beb382",
       "max": 23,
       "style": "IPY_MODEL_85d3dd4c009f4109a69058b64eeb17cd",
       "value": 23
      }
     },
     "5b08d77cb45544bca986008c8b1e9ab1": {
      "model_module": "@jupyter-widgets/base",
      "model_module_version": "2.0.0",
      "model_name": "LayoutModel",
      "state": {}
     },
     "5b8251a86da740c6be504fe366f91e6d": {
      "model_module": "@jupyter-widgets/controls",
      "model_module_version": "2.0.0",
      "model_name": "HTMLStyleModel",
      "state": {
       "description_width": "",
       "font_size": null,
       "text_color": null
      }
     },
     "5b8506184ff74afa949e184d84461a78": {
      "model_module": "@jupyter-widgets/base",
      "model_module_version": "2.0.0",
      "model_name": "LayoutModel",
      "state": {}
     },
     "5bcd6f9339154afb88e4348e89d18dea": {
      "model_module": "@jupyter-widgets/controls",
      "model_module_version": "2.0.0",
      "model_name": "FloatProgressModel",
      "state": {
       "bar_style": "success",
       "layout": "IPY_MODEL_d8f1460e689b462b8a1c14e6a7e249e9",
       "max": 20,
       "style": "IPY_MODEL_03de9eed7ac74cd796ec052a0c5442b3",
       "value": 20
      }
     },
     "5be8a9c5ceae4810899029832e37032a": {
      "model_module": "@jupyter-widgets/controls",
      "model_module_version": "2.0.0",
      "model_name": "HTMLModel",
      "state": {
       "layout": "IPY_MODEL_61eb88cfa5d048dd8a20a2701ec7be70",
       "style": "IPY_MODEL_644a6763fd184a8186514e927955cae6",
       "value": "100%"
      }
     },
     "5c7158cde83d40e6844db04bfe3d1354": {
      "model_module": "@jupyter-widgets/base",
      "model_module_version": "2.0.0",
      "model_name": "LayoutModel",
      "state": {}
     },
     "5cd201bfb3d746298d161c30c97ead53": {
      "model_module": "@jupyter-widgets/controls",
      "model_module_version": "2.0.0",
      "model_name": "ProgressStyleModel",
      "state": {
       "description_width": ""
      }
     },
     "5cdef7c306b64a57a62513a1f119adf2": {
      "model_module": "@jupyter-widgets/base",
      "model_module_version": "2.0.0",
      "model_name": "LayoutModel",
      "state": {}
     },
     "5d20478d27ce4bbe8d8c7d30813d9fe9": {
      "model_module": "@jupyter-widgets/base",
      "model_module_version": "2.0.0",
      "model_name": "LayoutModel",
      "state": {}
     },
     "5d52765ba3d24239b2997288f6bce18b": {
      "model_module": "@jupyter-widgets/controls",
      "model_module_version": "2.0.0",
      "model_name": "HTMLModel",
      "state": {
       "layout": "IPY_MODEL_2d17bd480ffd485aaf03e7c81d5a1f1d",
       "style": "IPY_MODEL_501da67919e34c29b723c244c360bac6",
       "value": " 23/23 [00:00&lt;00:00, 40.44it/s]"
      }
     },
     "5d589b54b61a4ea88a2e78ff4fa5ad06": {
      "model_module": "@jupyter-widgets/controls",
      "model_module_version": "2.0.0",
      "model_name": "HBoxModel",
      "state": {
       "children": [
        "IPY_MODEL_1686b9346a9d42b8a1b2273c0473a1cb",
        "IPY_MODEL_5f2d6f007e894f11882f79e1ed956861",
        "IPY_MODEL_191cd6de4a3f4d48b89354ae32bcc58a"
       ],
       "layout": "IPY_MODEL_67427a240c5a4069842bee469e7a185d"
      }
     },
     "5d780dc17b5549a4ac0e5af93e438ef8": {
      "model_module": "@jupyter-widgets/controls",
      "model_module_version": "2.0.0",
      "model_name": "FloatProgressModel",
      "state": {
       "bar_style": "success",
       "layout": "IPY_MODEL_b6d9a15a162e45aeb0633c9084231272",
       "max": 21,
       "style": "IPY_MODEL_1db2f443aa674361ac4bf971fa51749d",
       "value": 21
      }
     },
     "5d7da02eebf548fb92979c7f23a8eadd": {
      "model_module": "@jupyter-widgets/base",
      "model_module_version": "2.0.0",
      "model_name": "LayoutModel",
      "state": {}
     },
     "5d801bb431914fceb0829e94c5fd71b0": {
      "model_module": "@jupyter-widgets/controls",
      "model_module_version": "2.0.0",
      "model_name": "HTMLModel",
      "state": {
       "layout": "IPY_MODEL_fdf3427e33f34434becac426dffe38da",
       "style": "IPY_MODEL_3944f5f9148940cfa065133208561e8c",
       "value": "100%"
      }
     },
     "5d87446a337a4b7bbbeec2ec29bb8321": {
      "model_module": "@jupyter-widgets/controls",
      "model_module_version": "2.0.0",
      "model_name": "ProgressStyleModel",
      "state": {
       "description_width": ""
      }
     },
     "5d95a55914d147c19ae1ae44a5aff663": {
      "model_module": "@jupyter-widgets/controls",
      "model_module_version": "2.0.0",
      "model_name": "HTMLStyleModel",
      "state": {
       "description_width": "",
       "font_size": null,
       "text_color": null
      }
     },
     "5d9903ba928f4b91b1e9780d68b328cf": {
      "model_module": "@jupyter-widgets/base",
      "model_module_version": "2.0.0",
      "model_name": "LayoutModel",
      "state": {}
     },
     "5dc9e8e4c8984fd89e9c1bba87f1bee9": {
      "model_module": "@jupyter-widgets/controls",
      "model_module_version": "2.0.0",
      "model_name": "HTMLStyleModel",
      "state": {
       "description_width": "",
       "font_size": null,
       "text_color": null
      }
     },
     "5de699c4ee2c4018b90ca7dbc429e8e0": {
      "model_module": "@jupyter-widgets/controls",
      "model_module_version": "2.0.0",
      "model_name": "HBoxModel",
      "state": {
       "children": [
        "IPY_MODEL_146b4cd9cad2439a949aebd98f9410ab",
        "IPY_MODEL_b630a596b21b4b53939e987e81140633",
        "IPY_MODEL_bf403161f73a4c6aafe7e7376dc55328"
       ],
       "layout": "IPY_MODEL_4049ef89bdd042dcaceaab4af9332f60"
      }
     },
     "5df1f770a02848dfb7da44d8555a3c98": {
      "model_module": "@jupyter-widgets/base",
      "model_module_version": "2.0.0",
      "model_name": "LayoutModel",
      "state": {}
     },
     "5e03f8767a10469bacc38cb20067eea9": {
      "model_module": "@jupyter-widgets/controls",
      "model_module_version": "2.0.0",
      "model_name": "HTMLStyleModel",
      "state": {
       "description_width": "",
       "font_size": null,
       "text_color": null
      }
     },
     "5e354cf82552464eb3f3c3552a9879f9": {
      "model_module": "@jupyter-widgets/base",
      "model_module_version": "2.0.0",
      "model_name": "LayoutModel",
      "state": {}
     },
     "5e35c40ceec0405faf459fad7736e4ce": {
      "model_module": "@jupyter-widgets/controls",
      "model_module_version": "2.0.0",
      "model_name": "HTMLStyleModel",
      "state": {
       "description_width": "",
       "font_size": null,
       "text_color": null
      }
     },
     "5e7ec7cc8f0b49e4aad401b348b8a1ad": {
      "model_module": "@jupyter-widgets/base",
      "model_module_version": "2.0.0",
      "model_name": "LayoutModel",
      "state": {}
     },
     "5e881ba426d24eeab8bcd7762789210d": {
      "model_module": "@jupyter-widgets/base",
      "model_module_version": "2.0.0",
      "model_name": "LayoutModel",
      "state": {}
     },
     "5e8feaf1e2594e4881daf695e08d6342": {
      "model_module": "@jupyter-widgets/controls",
      "model_module_version": "2.0.0",
      "model_name": "HTMLModel",
      "state": {
       "layout": "IPY_MODEL_21e457e1c1df4107bd93e1ee71ce877a",
       "style": "IPY_MODEL_9a8a471a7101490e947cd6a494e1395a",
       "value": "100%"
      }
     },
     "5e962c99abc1458996fed92a2c1c7507": {
      "model_module": "@jupyter-widgets/controls",
      "model_module_version": "2.0.0",
      "model_name": "HBoxModel",
      "state": {
       "children": [
        "IPY_MODEL_4bc12391d6db4bb1914c601deda7baad",
        "IPY_MODEL_c17aa12557274ec3984e9c458d2cdc96",
        "IPY_MODEL_2c7bd19b527c477c88416515f260adee"
       ],
       "layout": "IPY_MODEL_130e9b7b7ec442d98885d76d956527ff"
      }
     },
     "5e9d6385a3ba48648e2678eeea261e7e": {
      "model_module": "@jupyter-widgets/base",
      "model_module_version": "2.0.0",
      "model_name": "LayoutModel",
      "state": {}
     },
     "5ef4ff973def4aa484efafd404103160": {
      "model_module": "@jupyter-widgets/controls",
      "model_module_version": "2.0.0",
      "model_name": "HTMLModel",
      "state": {
       "layout": "IPY_MODEL_4f26ae7e30fb4c5f807cd8dc0ae9be62",
       "style": "IPY_MODEL_64663258f81a425fa292e8459579a40f",
       "value": " 22/22 [00:00&lt;00:00, 44.91it/s]"
      }
     },
     "5f0d03a60ebf4aff9c7d6d1a44862263": {
      "model_module": "@jupyter-widgets/controls",
      "model_module_version": "2.0.0",
      "model_name": "HTMLStyleModel",
      "state": {
       "description_width": "",
       "font_size": null,
       "text_color": null
      }
     },
     "5f19b8d498a24173a56b26cf28b08710": {
      "model_module": "@jupyter-widgets/controls",
      "model_module_version": "2.0.0",
      "model_name": "HBoxModel",
      "state": {
       "children": [
        "IPY_MODEL_9571b40808204254b0700917165b4e58",
        "IPY_MODEL_e194fb9a481c4e48b110861af2b48fd4",
        "IPY_MODEL_1e54dc14a2b24a4e8ab77bdb7951650d"
       ],
       "layout": "IPY_MODEL_9d85810642f242e598090fe8fad24e0c"
      }
     },
     "5f1c902f6d7f4e06b6ad72a79334a7cb": {
      "model_module": "@jupyter-widgets/controls",
      "model_module_version": "2.0.0",
      "model_name": "HBoxModel",
      "state": {
       "children": [
        "IPY_MODEL_0d41d968ea044d1189bd2bb0e563d016",
        "IPY_MODEL_8ab4db957e754381879183b04285263c",
        "IPY_MODEL_a856abe256a943e9ab48b7b074e18fda"
       ],
       "layout": "IPY_MODEL_6c9ff359862a4e5abde494649afe516d"
      }
     },
     "5f2d6f007e894f11882f79e1ed956861": {
      "model_module": "@jupyter-widgets/controls",
      "model_module_version": "2.0.0",
      "model_name": "FloatProgressModel",
      "state": {
       "bar_style": "success",
       "layout": "IPY_MODEL_e307aadd327a4b7e997da6e23ba74f29",
       "max": 23,
       "style": "IPY_MODEL_5cd201bfb3d746298d161c30c97ead53",
       "value": 23
      }
     },
     "5f6837e26b04493588a5daa6c4215df8": {
      "model_module": "@jupyter-widgets/controls",
      "model_module_version": "2.0.0",
      "model_name": "HBoxModel",
      "state": {
       "children": [
        "IPY_MODEL_647d2b9539e04a0e889fdb6b200d2873",
        "IPY_MODEL_b0a5ddf8d2ad4661ab929f84cdec0cb5",
        "IPY_MODEL_d3b3a4b3ca144e1e8dcc22e0922d4b20"
       ],
       "layout": "IPY_MODEL_ecbd223c666e46dd91323d43ebf09290"
      }
     },
     "5f7a21aebd674a5bbfb6ae455e790c9d": {
      "model_module": "@jupyter-widgets/base",
      "model_module_version": "2.0.0",
      "model_name": "LayoutModel",
      "state": {}
     },
     "5fc454dbff27464c8761b29787ca7317": {
      "model_module": "@jupyter-widgets/controls",
      "model_module_version": "2.0.0",
      "model_name": "HTMLModel",
      "state": {
       "layout": "IPY_MODEL_3c7e5249ce2d47eeb387367ae79beedc",
       "style": "IPY_MODEL_4587fde258d947f6a835d2e5f3c0aebd",
       "value": "100%"
      }
     },
     "5fdae6a5219c47429532f08eb3b232c1": {
      "model_module": "@jupyter-widgets/controls",
      "model_module_version": "2.0.0",
      "model_name": "ProgressStyleModel",
      "state": {
       "description_width": ""
      }
     },
     "60203ce724da4b5aa7b4fe9fb1625cca": {
      "model_module": "@jupyter-widgets/controls",
      "model_module_version": "2.0.0",
      "model_name": "FloatProgressModel",
      "state": {
       "bar_style": "success",
       "layout": "IPY_MODEL_8facf0b0ae874d0db5c4f1e4bae4e162",
       "max": 21,
       "style": "IPY_MODEL_e5f7bc02a9f9439aa40bda32e2616996",
       "value": 21
      }
     },
     "604abaf962ac42e38e26a86a8c556a94": {
      "model_module": "@jupyter-widgets/controls",
      "model_module_version": "2.0.0",
      "model_name": "HTMLStyleModel",
      "state": {
       "description_width": "",
       "font_size": null,
       "text_color": null
      }
     },
     "608908d8ecc54ff7b7a86b196af7a049": {
      "model_module": "@jupyter-widgets/base",
      "model_module_version": "2.0.0",
      "model_name": "LayoutModel",
      "state": {}
     },
     "609a1cb2d76e46c0aa90711419ef93e1": {
      "model_module": "@jupyter-widgets/controls",
      "model_module_version": "2.0.0",
      "model_name": "FloatProgressModel",
      "state": {
       "bar_style": "success",
       "layout": "IPY_MODEL_77a1c39e31ec412a940a04b403820167",
       "max": 20,
       "style": "IPY_MODEL_4d8d7db7cac145baa9e68a2874e533cd",
       "value": 20
      }
     },
     "60acd3c3eea1451280f6c8be549a6580": {
      "model_module": "@jupyter-widgets/base",
      "model_module_version": "2.0.0",
      "model_name": "LayoutModel",
      "state": {}
     },
     "60b985c6aaf54525b311489d23919026": {
      "model_module": "@jupyter-widgets/base",
      "model_module_version": "2.0.0",
      "model_name": "LayoutModel",
      "state": {}
     },
     "60c4546c923c4747975c65bb4befa463": {
      "model_module": "@jupyter-widgets/controls",
      "model_module_version": "2.0.0",
      "model_name": "HBoxModel",
      "state": {
       "children": [
        "IPY_MODEL_9454977a345a4a23bbe3328fdf5dde49",
        "IPY_MODEL_e8267784f396480ea1f3ae6d3a13ab2d",
        "IPY_MODEL_e5f0e67e6df541479b7878bbe568ae76"
       ],
       "layout": "IPY_MODEL_6c0248b9c9ce415d93b3d4fa3b6b324d"
      }
     },
     "611189d08e284f3389d6cfed6a043601": {
      "model_module": "@jupyter-widgets/base",
      "model_module_version": "2.0.0",
      "model_name": "LayoutModel",
      "state": {}
     },
     "611b63651fdb4102a4812db3cc444226": {
      "model_module": "@jupyter-widgets/base",
      "model_module_version": "2.0.0",
      "model_name": "LayoutModel",
      "state": {}
     },
     "6127ff8d0fc449ac895fb90f5c49ebf7": {
      "model_module": "@jupyter-widgets/controls",
      "model_module_version": "2.0.0",
      "model_name": "HTMLModel",
      "state": {
       "layout": "IPY_MODEL_034a804055474b3cba0447543e26024e",
       "style": "IPY_MODEL_211e0d80b0534a4b9b645087d10b9760",
       "value": "100%"
      }
     },
     "612ae8ec28b0464498031994295a11a8": {
      "model_module": "@jupyter-widgets/controls",
      "model_module_version": "2.0.0",
      "model_name": "HTMLModel",
      "state": {
       "layout": "IPY_MODEL_d54b6d8a30344af58d09b509a715ee90",
       "style": "IPY_MODEL_190fab0b79c2498fb813b57886628861",
       "value": " 20/20 [00:00&lt;00:00, 377.73it/s]"
      }
     },
     "61a582c474724dfaa2b4dbb62ff02bf7": {
      "model_module": "@jupyter-widgets/controls",
      "model_module_version": "2.0.0",
      "model_name": "HTMLStyleModel",
      "state": {
       "description_width": "",
       "font_size": null,
       "text_color": null
      }
     },
     "61c033a6e9a24d9682d64bdf4e81aa68": {
      "model_module": "@jupyter-widgets/controls",
      "model_module_version": "2.0.0",
      "model_name": "HTMLModel",
      "state": {
       "layout": "IPY_MODEL_2a5602f52ab6421e830e22aed23b786d",
       "style": "IPY_MODEL_03d3639933414e12922ad62caab58c5a",
       "value": " 21/21 [00:00&lt;00:00, 35.89it/s]"
      }
     },
     "61eb88cfa5d048dd8a20a2701ec7be70": {
      "model_module": "@jupyter-widgets/base",
      "model_module_version": "2.0.0",
      "model_name": "LayoutModel",
      "state": {}
     },
     "61fc7d1e3484465ca38a3791fb6d79d2": {
      "model_module": "@jupyter-widgets/base",
      "model_module_version": "2.0.0",
      "model_name": "LayoutModel",
      "state": {}
     },
     "62251134d86340288f7e33bf9be06313": {
      "model_module": "@jupyter-widgets/base",
      "model_module_version": "2.0.0",
      "model_name": "LayoutModel",
      "state": {}
     },
     "625c13172e9a45daadcec694b8e1599c": {
      "model_module": "@jupyter-widgets/controls",
      "model_module_version": "2.0.0",
      "model_name": "ProgressStyleModel",
      "state": {
       "description_width": ""
      }
     },
     "625eb0fff88c4e4f94e212e4b3d0dec6": {
      "model_module": "@jupyter-widgets/controls",
      "model_module_version": "2.0.0",
      "model_name": "HTMLModel",
      "state": {
       "layout": "IPY_MODEL_3854cb36c3254f46ae1d49ee40eacc30",
       "style": "IPY_MODEL_9b4e6bfb305843d48a2fe4e3a1bbbe94",
       "value": "100%"
      }
     },
     "6297fd5b723f4676a49b7eec2e451a38": {
      "model_module": "@jupyter-widgets/controls",
      "model_module_version": "2.0.0",
      "model_name": "HTMLStyleModel",
      "state": {
       "description_width": "",
       "font_size": null,
       "text_color": null
      }
     },
     "62a91738869f4a03abb97f26f98d2d4a": {
      "model_module": "@jupyter-widgets/base",
      "model_module_version": "2.0.0",
      "model_name": "LayoutModel",
      "state": {}
     },
     "62b9bde6d04f4520b1eac30fdbe7937e": {
      "model_module": "@jupyter-widgets/controls",
      "model_module_version": "2.0.0",
      "model_name": "HTMLStyleModel",
      "state": {
       "description_width": "",
       "font_size": null,
       "text_color": null
      }
     },
     "63251c15232b481984ec7728b5e577c8": {
      "model_module": "@jupyter-widgets/controls",
      "model_module_version": "2.0.0",
      "model_name": "HTMLStyleModel",
      "state": {
       "description_width": "",
       "font_size": null,
       "text_color": null
      }
     },
     "632c4aa15d914abea1b602c46b1c83ae": {
      "model_module": "@jupyter-widgets/controls",
      "model_module_version": "2.0.0",
      "model_name": "HTMLStyleModel",
      "state": {
       "description_width": "",
       "font_size": null,
       "text_color": null
      }
     },
     "633ced19f2b149f2ba19734a00e19ab0": {
      "model_module": "@jupyter-widgets/base",
      "model_module_version": "2.0.0",
      "model_name": "LayoutModel",
      "state": {}
     },
     "63478132e83942ec87ed705bb79a7ee1": {
      "model_module": "@jupyter-widgets/base",
      "model_module_version": "2.0.0",
      "model_name": "LayoutModel",
      "state": {}
     },
     "635caa5497ad4dac87d703626fff2e4e": {
      "model_module": "@jupyter-widgets/controls",
      "model_module_version": "2.0.0",
      "model_name": "HTMLModel",
      "state": {
       "layout": "IPY_MODEL_b42b5562503f4617b3b4d3efb89d6dc8",
       "style": "IPY_MODEL_5055a2d54dd44270b32ad6cfcaaa10f6",
       "value": "100%"
      }
     },
     "6368a5a0657646a9a3f554ab1fd38281": {
      "model_module": "@jupyter-widgets/controls",
      "model_module_version": "2.0.0",
      "model_name": "HBoxModel",
      "state": {
       "children": [
        "IPY_MODEL_4e329853adbf472789c6419722757d95",
        "IPY_MODEL_428846b7fe304669af5612fcb7c6a77a",
        "IPY_MODEL_f768d4c26e7f445ca114b2cd7ae6a39f"
       ],
       "layout": "IPY_MODEL_6e6340fc527d4f5fb4f5de05ed9948f7"
      }
     },
     "636f55247fd6454e84476183680117a5": {
      "model_module": "@jupyter-widgets/controls",
      "model_module_version": "2.0.0",
      "model_name": "HTMLStyleModel",
      "state": {
       "description_width": "",
       "font_size": null,
       "text_color": null
      }
     },
     "637fe1c612204b02b762818fb8c3d2a9": {
      "model_module": "@jupyter-widgets/base",
      "model_module_version": "2.0.0",
      "model_name": "LayoutModel",
      "state": {}
     },
     "638e5ef34fb74989aa1ded7846a92328": {
      "model_module": "@jupyter-widgets/base",
      "model_module_version": "2.0.0",
      "model_name": "LayoutModel",
      "state": {}
     },
     "6395abb733f443ddb4c9245b37bb9d71": {
      "model_module": "@jupyter-widgets/controls",
      "model_module_version": "2.0.0",
      "model_name": "HTMLModel",
      "state": {
       "layout": "IPY_MODEL_fede667b9ce44a298eaff8cbf1509ded",
       "style": "IPY_MODEL_79cb0a8efbe24b818768eee171c242b5",
       "value": "100%"
      }
     },
     "63afd53acb6948538d5f53aeccd52771": {
      "model_module": "@jupyter-widgets/base",
      "model_module_version": "2.0.0",
      "model_name": "LayoutModel",
      "state": {}
     },
     "63c4f24dd5874028b5409109892c2fac": {
      "model_module": "@jupyter-widgets/controls",
      "model_module_version": "2.0.0",
      "model_name": "ProgressStyleModel",
      "state": {
       "description_width": ""
      }
     },
     "63c75590c2524d42b6ff8406cbe1a6a7": {
      "model_module": "@jupyter-widgets/base",
      "model_module_version": "2.0.0",
      "model_name": "LayoutModel",
      "state": {}
     },
     "63cd4b1e357d41daa519b523495c5e67": {
      "model_module": "@jupyter-widgets/controls",
      "model_module_version": "2.0.0",
      "model_name": "HTMLModel",
      "state": {
       "layout": "IPY_MODEL_d939345545a845bbac7772057dde287f",
       "style": "IPY_MODEL_49ea81b07bd3434b92c134c50adfb7f5",
       "value": "100%"
      }
     },
     "63e6dca9bfd447eabf5f6c986dcb1de6": {
      "model_module": "@jupyter-widgets/controls",
      "model_module_version": "2.0.0",
      "model_name": "HTMLStyleModel",
      "state": {
       "description_width": "",
       "font_size": null,
       "text_color": null
      }
     },
     "63e7261bcc904e9a8e95ab9ae76399ec": {
      "model_module": "@jupyter-widgets/controls",
      "model_module_version": "2.0.0",
      "model_name": "HTMLStyleModel",
      "state": {
       "description_width": "",
       "font_size": null,
       "text_color": null
      }
     },
     "63e7c9455f3a4b80be418125508961da": {
      "model_module": "@jupyter-widgets/controls",
      "model_module_version": "2.0.0",
      "model_name": "HTMLStyleModel",
      "state": {
       "description_width": "",
       "font_size": null,
       "text_color": null
      }
     },
     "640eed6db627406eb885d6b2d57fc2dd": {
      "model_module": "@jupyter-widgets/base",
      "model_module_version": "2.0.0",
      "model_name": "LayoutModel",
      "state": {}
     },
     "6418f9018d6a42d89b468b6f93647e08": {
      "model_module": "@jupyter-widgets/base",
      "model_module_version": "2.0.0",
      "model_name": "LayoutModel",
      "state": {}
     },
     "641bec61acfe41739e8edb8c1b0ef22f": {
      "model_module": "@jupyter-widgets/base",
      "model_module_version": "2.0.0",
      "model_name": "LayoutModel",
      "state": {}
     },
     "6427bf91124f4e9bb6c6ccbbb04b2c3f": {
      "model_module": "@jupyter-widgets/base",
      "model_module_version": "2.0.0",
      "model_name": "LayoutModel",
      "state": {}
     },
     "644a6763fd184a8186514e927955cae6": {
      "model_module": "@jupyter-widgets/controls",
      "model_module_version": "2.0.0",
      "model_name": "HTMLStyleModel",
      "state": {
       "description_width": "",
       "font_size": null,
       "text_color": null
      }
     },
     "64547d40d4b34d2eb0527af4d71c71fe": {
      "model_module": "@jupyter-widgets/base",
      "model_module_version": "2.0.0",
      "model_name": "LayoutModel",
      "state": {}
     },
     "64663258f81a425fa292e8459579a40f": {
      "model_module": "@jupyter-widgets/controls",
      "model_module_version": "2.0.0",
      "model_name": "HTMLStyleModel",
      "state": {
       "description_width": "",
       "font_size": null,
       "text_color": null
      }
     },
     "647394b173dd4fbebf35170da102801a": {
      "model_module": "@jupyter-widgets/controls",
      "model_module_version": "2.0.0",
      "model_name": "HBoxModel",
      "state": {
       "children": [
        "IPY_MODEL_d35b594c8fdb45608556a5a854824976",
        "IPY_MODEL_169ca1f25bc441f881dca2a6dd67c714",
        "IPY_MODEL_eae3a1b74c7b4a90a6f8f6f133699610"
       ],
       "layout": "IPY_MODEL_523a80b8801d4c7d8008088db65c1572"
      }
     },
     "647d2b9539e04a0e889fdb6b200d2873": {
      "model_module": "@jupyter-widgets/controls",
      "model_module_version": "2.0.0",
      "model_name": "HTMLModel",
      "state": {
       "layout": "IPY_MODEL_f086b4034c5743e99d26acbef7217bc7",
       "style": "IPY_MODEL_15ce87f884974346b22cf00cce1775d0",
       "value": "100%"
      }
     },
     "649eca19297b47869c6de2aca0042794": {
      "model_module": "@jupyter-widgets/controls",
      "model_module_version": "2.0.0",
      "model_name": "HTMLModel",
      "state": {
       "layout": "IPY_MODEL_8efc04a87e874cfdaba18b3fe9ef95f6",
       "style": "IPY_MODEL_fca427c59e6b4667b67d7114fbdc1a5f",
       "value": " 20/20 [00:00&lt;00:00, 22.31it/s]"
      }
     },
     "64b4d7a782c04c1a8f972cc1089e8491": {
      "model_module": "@jupyter-widgets/controls",
      "model_module_version": "2.0.0",
      "model_name": "HTMLStyleModel",
      "state": {
       "description_width": "",
       "font_size": null,
       "text_color": null
      }
     },
     "64b583ba907d4181b1346e2ace35e5ec": {
      "model_module": "@jupyter-widgets/base",
      "model_module_version": "2.0.0",
      "model_name": "LayoutModel",
      "state": {}
     },
     "64d761bdfaa7479d9f5d99c6ebce7e58": {
      "model_module": "@jupyter-widgets/controls",
      "model_module_version": "2.0.0",
      "model_name": "FloatProgressModel",
      "state": {
       "bar_style": "success",
       "layout": "IPY_MODEL_1a635cee0814477bb8c09d775fcf5493",
       "max": 23,
       "style": "IPY_MODEL_814b120a4cdd4ab99248f6252d471f71",
       "value": 23
      }
     },
     "64e21179395647fa8815331b0a5f1eb6": {
      "model_module": "@jupyter-widgets/controls",
      "model_module_version": "2.0.0",
      "model_name": "HTMLStyleModel",
      "state": {
       "description_width": "",
       "font_size": null,
       "text_color": null
      }
     },
     "64ede2c4656146db8f6dbaecefba6c2c": {
      "model_module": "@jupyter-widgets/controls",
      "model_module_version": "2.0.0",
      "model_name": "HTMLModel",
      "state": {
       "layout": "IPY_MODEL_928f6fc23c0345e8bb2cfd2d5114c01a",
       "style": "IPY_MODEL_3dc21eb3bab7423cbcc839c926d9ecbe",
       "value": " 22/22 [00:01&lt;00:00, 20.34it/s]"
      }
     },
     "64fa7c18e664462886e9b21f24497728": {
      "model_module": "@jupyter-widgets/controls",
      "model_module_version": "2.0.0",
      "model_name": "HTMLModel",
      "state": {
       "layout": "IPY_MODEL_98aed56245584f9086fc54b3dcf4a203",
       "style": "IPY_MODEL_33cfb938280e44b49e905299e31704bf",
       "value": "100%"
      }
     },
     "6508344e4a6c415b9abde703a48f44e0": {
      "model_module": "@jupyter-widgets/base",
      "model_module_version": "2.0.0",
      "model_name": "LayoutModel",
      "state": {}
     },
     "6516b03659934626913d74090171a1ee": {
      "model_module": "@jupyter-widgets/controls",
      "model_module_version": "2.0.0",
      "model_name": "HBoxModel",
      "state": {
       "children": [
        "IPY_MODEL_12fa206b0b9549fb844a911dc3af172d",
        "IPY_MODEL_7086fa52890746d59a0dea3a52ed25ca",
        "IPY_MODEL_b5b5bac4cdfa4ccb896ab560aa87a9f7"
       ],
       "layout": "IPY_MODEL_4aca157ffe074c7380ada91af4fe3751"
      }
     },
     "6532d33da6414eb6ac7b2848a0555db1": {
      "model_module": "@jupyter-widgets/base",
      "model_module_version": "2.0.0",
      "model_name": "LayoutModel",
      "state": {}
     },
     "6595300ce9384087bb090514ed7b3835": {
      "model_module": "@jupyter-widgets/controls",
      "model_module_version": "2.0.0",
      "model_name": "HTMLStyleModel",
      "state": {
       "description_width": "",
       "font_size": null,
       "text_color": null
      }
     },
     "65b44b6d66c0422790c3fe970ab73133": {
      "model_module": "@jupyter-widgets/base",
      "model_module_version": "2.0.0",
      "model_name": "LayoutModel",
      "state": {}
     },
     "65e22c5b7ce74ebcb2c9d7f459fc34a9": {
      "model_module": "@jupyter-widgets/base",
      "model_module_version": "2.0.0",
      "model_name": "LayoutModel",
      "state": {}
     },
     "65f23a0864b040bcadec7ccd9f5f263a": {
      "model_module": "@jupyter-widgets/controls",
      "model_module_version": "2.0.0",
      "model_name": "HTMLStyleModel",
      "state": {
       "description_width": "",
       "font_size": null,
       "text_color": null
      }
     },
     "660b02e20efe4b3db5be93c8da0e2e76": {
      "model_module": "@jupyter-widgets/base",
      "model_module_version": "2.0.0",
      "model_name": "LayoutModel",
      "state": {}
     },
     "6672f601535f43f8b7ba2d250ba3abf1": {
      "model_module": "@jupyter-widgets/base",
      "model_module_version": "2.0.0",
      "model_name": "LayoutModel",
      "state": {}
     },
     "66774ce0633447c39eb133a132c30180": {
      "model_module": "@jupyter-widgets/controls",
      "model_module_version": "2.0.0",
      "model_name": "ProgressStyleModel",
      "state": {
       "description_width": ""
      }
     },
     "66792dafdec34ddcb719b3a2a50f884f": {
      "model_module": "@jupyter-widgets/controls",
      "model_module_version": "2.0.0",
      "model_name": "HTMLModel",
      "state": {
       "layout": "IPY_MODEL_0b5512b6c03146a6aed7191353253196",
       "style": "IPY_MODEL_d0e9628186764f9b8c3748266a2bb41c",
       "value": " 23/23 [00:00&lt;00:00, 41.65it/s]"
      }
     },
     "66a20dcd976c4cb1ada784d5a4bc0194": {
      "model_module": "@jupyter-widgets/controls",
      "model_module_version": "2.0.0",
      "model_name": "HTMLStyleModel",
      "state": {
       "description_width": "",
       "font_size": null,
       "text_color": null
      }
     },
     "66a92211f9f94325ae15e8777dc334f4": {
      "model_module": "@jupyter-widgets/base",
      "model_module_version": "2.0.0",
      "model_name": "LayoutModel",
      "state": {}
     },
     "66d88b215f5148479c5231348256afeb": {
      "model_module": "@jupyter-widgets/controls",
      "model_module_version": "2.0.0",
      "model_name": "HBoxModel",
      "state": {
       "children": [
        "IPY_MODEL_e00496bb873d442981035679edc8eb5a",
        "IPY_MODEL_d42df7de9e5a437cbd3ea2794149944f",
        "IPY_MODEL_61c033a6e9a24d9682d64bdf4e81aa68"
       ],
       "layout": "IPY_MODEL_2a744f7939b64bb1a9d1673bb2da6661"
      }
     },
     "66d88eaffbe548f481d8be600783cec4": {
      "model_module": "@jupyter-widgets/base",
      "model_module_version": "2.0.0",
      "model_name": "LayoutModel",
      "state": {}
     },
     "6715fc55786a4020ae3446e7bb3c4c80": {
      "model_module": "@jupyter-widgets/controls",
      "model_module_version": "2.0.0",
      "model_name": "HTMLModel",
      "state": {
       "layout": "IPY_MODEL_45308a69558b4fe0b0761d9b0907a144",
       "style": "IPY_MODEL_61a582c474724dfaa2b4dbb62ff02bf7",
       "value": " 20/20 [00:00&lt;00:00, 42.53it/s]"
      }
     },
     "67427a240c5a4069842bee469e7a185d": {
      "model_module": "@jupyter-widgets/base",
      "model_module_version": "2.0.0",
      "model_name": "LayoutModel",
      "state": {}
     },
     "674d2038e25547a0a931d492b3840cb3": {
      "model_module": "@jupyter-widgets/controls",
      "model_module_version": "2.0.0",
      "model_name": "FloatProgressModel",
      "state": {
       "bar_style": "success",
       "layout": "IPY_MODEL_2fae89173ee64fe8af22585e12f08d23",
       "max": 20,
       "style": "IPY_MODEL_817dea31184449c2934f4939814fa8d4",
       "value": 20
      }
     },
     "676c54e8d291462cbfe7b6b080ddf901": {
      "model_module": "@jupyter-widgets/base",
      "model_module_version": "2.0.0",
      "model_name": "LayoutModel",
      "state": {}
     },
     "67a309ac25334353bdf7ec103b4fc41f": {
      "model_module": "@jupyter-widgets/base",
      "model_module_version": "2.0.0",
      "model_name": "LayoutModel",
      "state": {}
     },
     "67b0d1061a0144c584e781c20e2ade80": {
      "model_module": "@jupyter-widgets/base",
      "model_module_version": "2.0.0",
      "model_name": "LayoutModel",
      "state": {}
     },
     "67c31a5a19b1471e88b72e23016ef4fb": {
      "model_module": "@jupyter-widgets/controls",
      "model_module_version": "2.0.0",
      "model_name": "ProgressStyleModel",
      "state": {
       "description_width": ""
      }
     },
     "67e5b48508474a0aa79f09a265430d94": {
      "model_module": "@jupyter-widgets/base",
      "model_module_version": "2.0.0",
      "model_name": "LayoutModel",
      "state": {}
     },
     "67ea0335d21b4edd854a47b92b530985": {
      "model_module": "@jupyter-widgets/controls",
      "model_module_version": "2.0.0",
      "model_name": "FloatProgressModel",
      "state": {
       "bar_style": "success",
       "layout": "IPY_MODEL_bb4ebd704edd4a87a278793eae70fb0b",
       "max": 21,
       "style": "IPY_MODEL_28187842747e457b83ea44c78c5484ea",
       "value": 21
      }
     },
     "67f03fe4e35e4bd0b3ac5d703c9bdd99": {
      "model_module": "@jupyter-widgets/controls",
      "model_module_version": "2.0.0",
      "model_name": "ProgressStyleModel",
      "state": {
       "description_width": ""
      }
     },
     "68059ea725ed46d1aa3554123eb6c609": {
      "model_module": "@jupyter-widgets/base",
      "model_module_version": "2.0.0",
      "model_name": "LayoutModel",
      "state": {}
     },
     "681297f0c0e14a1fb753baf45471210d": {
      "model_module": "@jupyter-widgets/controls",
      "model_module_version": "2.0.0",
      "model_name": "ProgressStyleModel",
      "state": {
       "description_width": ""
      }
     },
     "6830d940ebeb4ebd9bde2cb5cb6f3c55": {
      "model_module": "@jupyter-widgets/controls",
      "model_module_version": "2.0.0",
      "model_name": "ProgressStyleModel",
      "state": {
       "description_width": ""
      }
     },
     "684109ed8357483ab39421b767323599": {
      "model_module": "@jupyter-widgets/controls",
      "model_module_version": "2.0.0",
      "model_name": "HTMLModel",
      "state": {
       "layout": "IPY_MODEL_550a4e462a534d48a73f0bcda0b88bde",
       "style": "IPY_MODEL_440d8db6796f4ceeaeaf9b3cb3b32c2a",
       "value": " 22/22 [00:00&lt;00:00, 22.82it/s]"
      }
     },
     "687ffaf4cef048adaef4a7061ccebcea": {
      "model_module": "@jupyter-widgets/controls",
      "model_module_version": "2.0.0",
      "model_name": "HTMLModel",
      "state": {
       "layout": "IPY_MODEL_985b2e5d3d1942a6b34926d870593715",
       "style": "IPY_MODEL_63e7c9455f3a4b80be418125508961da",
       "value": "100%"
      }
     },
     "688ba0df7f314f32870a3ef5dbb18c93": {
      "model_module": "@jupyter-widgets/base",
      "model_module_version": "2.0.0",
      "model_name": "LayoutModel",
      "state": {}
     },
     "68c3a5c58d544c6180f0df3804ca7838": {
      "model_module": "@jupyter-widgets/controls",
      "model_module_version": "2.0.0",
      "model_name": "HTMLStyleModel",
      "state": {
       "description_width": "",
       "font_size": null,
       "text_color": null
      }
     },
     "6904e1dc033f49ba9e386e6499aa3f5c": {
      "model_module": "@jupyter-widgets/controls",
      "model_module_version": "2.0.0",
      "model_name": "ProgressStyleModel",
      "state": {
       "description_width": ""
      }
     },
     "691744b87ed542be93a63e29c08f8ea2": {
      "model_module": "@jupyter-widgets/controls",
      "model_module_version": "2.0.0",
      "model_name": "ProgressStyleModel",
      "state": {
       "description_width": ""
      }
     },
     "69408a522bdf46faa4a2074993109156": {
      "model_module": "@jupyter-widgets/controls",
      "model_module_version": "2.0.0",
      "model_name": "HTMLStyleModel",
      "state": {
       "description_width": "",
       "font_size": null,
       "text_color": null
      }
     },
     "69835db911994aadb7d5bed386728e9a": {
      "model_module": "@jupyter-widgets/controls",
      "model_module_version": "2.0.0",
      "model_name": "ProgressStyleModel",
      "state": {
       "description_width": ""
      }
     },
     "69954deae58a42eb9fcbdcd3776256a2": {
      "model_module": "@jupyter-widgets/controls",
      "model_module_version": "2.0.0",
      "model_name": "HTMLStyleModel",
      "state": {
       "description_width": "",
       "font_size": null,
       "text_color": null
      }
     },
     "69caa8b0708e44f997c0dff99fe8c482": {
      "model_module": "@jupyter-widgets/base",
      "model_module_version": "2.0.0",
      "model_name": "LayoutModel",
      "state": {}
     },
     "69d6faedcb1f4dbebd922fd2daaf0dc3": {
      "model_module": "@jupyter-widgets/controls",
      "model_module_version": "2.0.0",
      "model_name": "HTMLModel",
      "state": {
       "layout": "IPY_MODEL_27c843d89df6434e9061770cf65ebe36",
       "style": "IPY_MODEL_3d6e20ebea1b4e65a5982d41289a4323",
       "value": "100%"
      }
     },
     "69f6a3f75fe14155b95339b982b9b7c2": {
      "model_module": "@jupyter-widgets/base",
      "model_module_version": "2.0.0",
      "model_name": "LayoutModel",
      "state": {}
     },
     "6a1bcde08ee24c21a98adba8e766308f": {
      "model_module": "@jupyter-widgets/base",
      "model_module_version": "2.0.0",
      "model_name": "LayoutModel",
      "state": {}
     },
     "6a452d9e69cf470fbd5fc3ce9a6195d8": {
      "model_module": "@jupyter-widgets/base",
      "model_module_version": "2.0.0",
      "model_name": "LayoutModel",
      "state": {}
     },
     "6a453bbad58c42efb39182d15a8a0649": {
      "model_module": "@jupyter-widgets/base",
      "model_module_version": "2.0.0",
      "model_name": "LayoutModel",
      "state": {}
     },
     "6a5129b0fe5c4a5895c7426e2cbe666b": {
      "model_module": "@jupyter-widgets/controls",
      "model_module_version": "2.0.0",
      "model_name": "HTMLStyleModel",
      "state": {
       "description_width": "",
       "font_size": null,
       "text_color": null
      }
     },
     "6a5b5a96077b4abcaed1133913c48ef9": {
      "model_module": "@jupyter-widgets/base",
      "model_module_version": "2.0.0",
      "model_name": "LayoutModel",
      "state": {}
     },
     "6a85ea45963c493d8e48533da79d4d22": {
      "model_module": "@jupyter-widgets/controls",
      "model_module_version": "2.0.0",
      "model_name": "HBoxModel",
      "state": {
       "children": [
        "IPY_MODEL_c36bf1a76e924e5291df4012589594dd",
        "IPY_MODEL_2e4a21a9294146cfb78029d90850669a",
        "IPY_MODEL_ee6b0cafa95a40c487ce71dfe3293d88"
       ],
       "layout": "IPY_MODEL_e13d97833e8e4878b946b1fee101df13"
      }
     },
     "6abf3daa65ed43c6a22fe38e34914dd8": {
      "model_module": "@jupyter-widgets/base",
      "model_module_version": "2.0.0",
      "model_name": "LayoutModel",
      "state": {}
     },
     "6ad11165b4744925bce9b24b0e2d002a": {
      "model_module": "@jupyter-widgets/controls",
      "model_module_version": "2.0.0",
      "model_name": "HBoxModel",
      "state": {
       "children": [
        "IPY_MODEL_2428b6785f264f19bcbbfb51c3c491ed",
        "IPY_MODEL_fa4df15e7e4b4b2e984a542a8729c5dc",
        "IPY_MODEL_4d2a2a3ff3344cb3bff016a3cdfdb9d4"
       ],
       "layout": "IPY_MODEL_24b6f2c6755c4461bf999057fe3f8101"
      }
     },
     "6b4b8e8b5f1b4fc89060cc1d63cca530": {
      "model_module": "@jupyter-widgets/controls",
      "model_module_version": "2.0.0",
      "model_name": "HTMLModel",
      "state": {
       "layout": "IPY_MODEL_3d5d150df7c54f41ac09aec51bbade88",
       "style": "IPY_MODEL_430a1c8a2b304f3d81a2e796c3e10274",
       "value": "100%"
      }
     },
     "6b9ce04ded89456ca7c53448f80e8d0e": {
      "model_module": "@jupyter-widgets/base",
      "model_module_version": "2.0.0",
      "model_name": "LayoutModel",
      "state": {}
     },
     "6b9f7e6f37484a9e8b1ae5d6c548ceba": {
      "model_module": "@jupyter-widgets/base",
      "model_module_version": "2.0.0",
      "model_name": "LayoutModel",
      "state": {}
     },
     "6bb0543c893d4445a2154cbf52960aac": {
      "model_module": "@jupyter-widgets/controls",
      "model_module_version": "2.0.0",
      "model_name": "HTMLStyleModel",
      "state": {
       "description_width": "",
       "font_size": null,
       "text_color": null
      }
     },
     "6beb89ebcb3945d2a1430e802a19cf76": {
      "model_module": "@jupyter-widgets/base",
      "model_module_version": "2.0.0",
      "model_name": "LayoutModel",
      "state": {}
     },
     "6c0248b9c9ce415d93b3d4fa3b6b324d": {
      "model_module": "@jupyter-widgets/base",
      "model_module_version": "2.0.0",
      "model_name": "LayoutModel",
      "state": {}
     },
     "6c03e6f9a0f8432e89de1fe8797b90de": {
      "model_module": "@jupyter-widgets/base",
      "model_module_version": "2.0.0",
      "model_name": "LayoutModel",
      "state": {}
     },
     "6c0c8940a96a48319105daf86c48d0e7": {
      "model_module": "@jupyter-widgets/base",
      "model_module_version": "2.0.0",
      "model_name": "LayoutModel",
      "state": {}
     },
     "6c1628011d934f97ae5df88a42e39e66": {
      "model_module": "@jupyter-widgets/controls",
      "model_module_version": "2.0.0",
      "model_name": "HTMLStyleModel",
      "state": {
       "description_width": "",
       "font_size": null,
       "text_color": null
      }
     },
     "6c2ea4cddc394ca9aedcd20c28aa3768": {
      "model_module": "@jupyter-widgets/controls",
      "model_module_version": "2.0.0",
      "model_name": "HBoxModel",
      "state": {
       "children": [
        "IPY_MODEL_e4661501260d46a1bc67bf49d8e53d60",
        "IPY_MODEL_b482843c99324c6e90907b998d571af4",
        "IPY_MODEL_e2a552a1e05242e2be7115e39ab9bc2c"
       ],
       "layout": "IPY_MODEL_2b7c983287644358a9ffbedee7719565"
      }
     },
     "6c549435acba4e578c0c62f5fc2c3133": {
      "model_module": "@jupyter-widgets/controls",
      "model_module_version": "2.0.0",
      "model_name": "HTMLStyleModel",
      "state": {
       "description_width": "",
       "font_size": null,
       "text_color": null
      }
     },
     "6c6b4ce51e154b20a38e9ba751001b20": {
      "model_module": "@jupyter-widgets/controls",
      "model_module_version": "2.0.0",
      "model_name": "HTMLStyleModel",
      "state": {
       "description_width": "",
       "font_size": null,
       "text_color": null
      }
     },
     "6c7d831db0984c31b1998cde95446d7f": {
      "model_module": "@jupyter-widgets/controls",
      "model_module_version": "2.0.0",
      "model_name": "ProgressStyleModel",
      "state": {
       "description_width": ""
      }
     },
     "6c8d3ee76a554942bf4771aa9096f9b7": {
      "model_module": "@jupyter-widgets/controls",
      "model_module_version": "2.0.0",
      "model_name": "HTMLModel",
      "state": {
       "layout": "IPY_MODEL_76234c1c5c7e404486bc30bcbd4531ef",
       "style": "IPY_MODEL_f3b82663da564e9f9c0fdca85010b2fe",
       "value": " 20/20 [00:00&lt;00:00, 44.32it/s]"
      }
     },
     "6c94f2c4c38b4f388556e611f056d2cc": {
      "model_module": "@jupyter-widgets/controls",
      "model_module_version": "2.0.0",
      "model_name": "HTMLStyleModel",
      "state": {
       "description_width": "",
       "font_size": null,
       "text_color": null
      }
     },
     "6c9ff359862a4e5abde494649afe516d": {
      "model_module": "@jupyter-widgets/base",
      "model_module_version": "2.0.0",
      "model_name": "LayoutModel",
      "state": {}
     },
     "6cbd0cc893fe40b898dc0e8c7725e586": {
      "model_module": "@jupyter-widgets/controls",
      "model_module_version": "2.0.0",
      "model_name": "HTMLModel",
      "state": {
       "layout": "IPY_MODEL_8ab6449940014deb9f039e3b97554050",
       "style": "IPY_MODEL_6c1628011d934f97ae5df88a42e39e66",
       "value": "100%"
      }
     },
     "6ccf8d80498c40ce89384aa930d88b7e": {
      "model_module": "@jupyter-widgets/controls",
      "model_module_version": "2.0.0",
      "model_name": "ProgressStyleModel",
      "state": {
       "description_width": ""
      }
     },
     "6d3557a97f404dbe9308502ab5e52399": {
      "model_module": "@jupyter-widgets/controls",
      "model_module_version": "2.0.0",
      "model_name": "HTMLModel",
      "state": {
       "layout": "IPY_MODEL_5d20478d27ce4bbe8d8c7d30813d9fe9",
       "style": "IPY_MODEL_987985683dbc4c458c6a1ac271957734",
       "value": " 23/23 [00:00&lt;00:00, 23.10it/s]"
      }
     },
     "6d366232c5a04a5aac87ac51b8b823d0": {
      "model_module": "@jupyter-widgets/controls",
      "model_module_version": "2.0.0",
      "model_name": "HTMLStyleModel",
      "state": {
       "description_width": "",
       "font_size": null,
       "text_color": null
      }
     },
     "6d63d2c0004e4a1ca535bccd3b4bba07": {
      "model_module": "@jupyter-widgets/controls",
      "model_module_version": "2.0.0",
      "model_name": "HTMLModel",
      "state": {
       "layout": "IPY_MODEL_36fb07bd699a43cbb113ea5288e26bee",
       "style": "IPY_MODEL_c9077e5cb1ef42ab8ebb98da53ebf34c",
       "value": "100%"
      }
     },
     "6d7449422c1345199db47b13e078fbef": {
      "model_module": "@jupyter-widgets/controls",
      "model_module_version": "2.0.0",
      "model_name": "HTMLModel",
      "state": {
       "layout": "IPY_MODEL_fe9fbe7d65c34cfb88f5d20c244dec89",
       "style": "IPY_MODEL_e418f9ec231747e994be74b66066d4c8",
       "value": " 21/21 [00:00&lt;00:00, 386.62it/s]"
      }
     },
     "6dd3ade6c4af42e69c4a1a63f5c31436": {
      "model_module": "@jupyter-widgets/controls",
      "model_module_version": "2.0.0",
      "model_name": "HTMLStyleModel",
      "state": {
       "description_width": "",
       "font_size": null,
       "text_color": null
      }
     },
     "6ddb490ff9c04431ba8a9cbc9952774f": {
      "model_module": "@jupyter-widgets/controls",
      "model_module_version": "2.0.0",
      "model_name": "ProgressStyleModel",
      "state": {
       "description_width": ""
      }
     },
     "6e304ffaa4f34e5cb310257571c5b65c": {
      "model_module": "@jupyter-widgets/base",
      "model_module_version": "2.0.0",
      "model_name": "LayoutModel",
      "state": {}
     },
     "6e3743b532fe4bc9aa521e4ad5682710": {
      "model_module": "@jupyter-widgets/controls",
      "model_module_version": "2.0.0",
      "model_name": "HTMLStyleModel",
      "state": {
       "description_width": "",
       "font_size": null,
       "text_color": null
      }
     },
     "6e3dd6bfdb0940f38d51ed3c7cb30c97": {
      "model_module": "@jupyter-widgets/base",
      "model_module_version": "2.0.0",
      "model_name": "LayoutModel",
      "state": {}
     },
     "6e416a28c8b141219e167ab053ebd945": {
      "model_module": "@jupyter-widgets/controls",
      "model_module_version": "2.0.0",
      "model_name": "HTMLModel",
      "state": {
       "layout": "IPY_MODEL_b7f1fb05ee974aeeb4e0429770232746",
       "style": "IPY_MODEL_520e9419219d439a89436c98f6c480f1",
       "value": "100%"
      }
     },
     "6e4c48ca07bb4fe4be951caecf0bebcd": {
      "model_module": "@jupyter-widgets/controls",
      "model_module_version": "2.0.0",
      "model_name": "ProgressStyleModel",
      "state": {
       "description_width": ""
      }
     },
     "6e6340fc527d4f5fb4f5de05ed9948f7": {
      "model_module": "@jupyter-widgets/base",
      "model_module_version": "2.0.0",
      "model_name": "LayoutModel",
      "state": {}
     },
     "6e6af98318b74f328fed1cc87c09cb94": {
      "model_module": "@jupyter-widgets/controls",
      "model_module_version": "2.0.0",
      "model_name": "FloatProgressModel",
      "state": {
       "bar_style": "success",
       "layout": "IPY_MODEL_36dbb91a9a794a67ad75269842693501",
       "max": 20,
       "style": "IPY_MODEL_22378220dda248a386871f64a91eca9a",
       "value": 20
      }
     },
     "6ebbcceb9d4243d2a5f8c8edc7dd55df": {
      "model_module": "@jupyter-widgets/controls",
      "model_module_version": "2.0.0",
      "model_name": "HTMLStyleModel",
      "state": {
       "description_width": "",
       "font_size": null,
       "text_color": null
      }
     },
     "6ebd54311bf14fcb822d5ea68835fe34": {
      "model_module": "@jupyter-widgets/controls",
      "model_module_version": "2.0.0",
      "model_name": "HTMLStyleModel",
      "state": {
       "description_width": "",
       "font_size": null,
       "text_color": null
      }
     },
     "6f192b215e1049bfbcb530fc6dee56e6": {
      "model_module": "@jupyter-widgets/controls",
      "model_module_version": "2.0.0",
      "model_name": "HBoxModel",
      "state": {
       "children": [
        "IPY_MODEL_98785f4d4f524313a33df18a58e74e82",
        "IPY_MODEL_13e3ca4f385048f6bc708d238d4eb2ad",
        "IPY_MODEL_9738144e956349139ea0399303e0d392"
       ],
       "layout": "IPY_MODEL_8d602c4465654951a66ce6f0c168ee12"
      }
     },
     "6f407fd7148641c3a20dfda89f9144ed": {
      "model_module": "@jupyter-widgets/base",
      "model_module_version": "2.0.0",
      "model_name": "LayoutModel",
      "state": {}
     },
     "6f58db6e9e054b62b0a1f7983e46cd9e": {
      "model_module": "@jupyter-widgets/base",
      "model_module_version": "2.0.0",
      "model_name": "LayoutModel",
      "state": {}
     },
     "6f858d8a7dcb4821959dae0591223ee8": {
      "model_module": "@jupyter-widgets/base",
      "model_module_version": "2.0.0",
      "model_name": "LayoutModel",
      "state": {}
     },
     "6faf5b7496724232823546faa17ed928": {
      "model_module": "@jupyter-widgets/controls",
      "model_module_version": "2.0.0",
      "model_name": "HTMLModel",
      "state": {
       "layout": "IPY_MODEL_2dc49ee5923c4c659c8fa86c00f585c0",
       "style": "IPY_MODEL_071c9e9077504904ae457ef4fea4caa6",
       "value": "100%"
      }
     },
     "6fcd2ad80e1948c79519ebb6b6822d29": {
      "model_module": "@jupyter-widgets/controls",
      "model_module_version": "2.0.0",
      "model_name": "HBoxModel",
      "state": {
       "children": [
        "IPY_MODEL_7cd85eeac71745ff99f81f391387b17f",
        "IPY_MODEL_735bb235368c4bef9b2b3b7640c6ace5",
        "IPY_MODEL_3781a25ada984c60a0acb3aa65e8979d"
       ],
       "layout": "IPY_MODEL_4d50a9a469a84ff999b0dbb5860ee346"
      }
     },
     "6feebc5142914d48868ec294418b43d8": {
      "model_module": "@jupyter-widgets/controls",
      "model_module_version": "2.0.0",
      "model_name": "HBoxModel",
      "state": {
       "children": [
        "IPY_MODEL_743f64f6730741bebc87990bb56043f9",
        "IPY_MODEL_242b4b5944ac4dfc87ea3f409024c6cd",
        "IPY_MODEL_b9a7d73eacd044dc97f15c3385edb5e9"
       ],
       "layout": "IPY_MODEL_e9efd0738f104236ae77a69f6c448863"
      }
     },
     "70343590738a4c4bbde179c84aaec9ed": {
      "model_module": "@jupyter-widgets/controls",
      "model_module_version": "2.0.0",
      "model_name": "HBoxModel",
      "state": {
       "children": [
        "IPY_MODEL_1ce44b5d9a414027b02c0351c10d4550",
        "IPY_MODEL_88d2b24ce1214240a53da59d865be788",
        "IPY_MODEL_ec4c9545f1de4645a4093d01f29f5e48"
       ],
       "layout": "IPY_MODEL_8dab4374dc204fbe86cbd9bbaeb92700"
      }
     },
     "70380fd8da50458cac997265771d09cf": {
      "model_module": "@jupyter-widgets/base",
      "model_module_version": "2.0.0",
      "model_name": "LayoutModel",
      "state": {}
     },
     "7046e047657546349d28f7f18d04cbea": {
      "model_module": "@jupyter-widgets/base",
      "model_module_version": "2.0.0",
      "model_name": "LayoutModel",
      "state": {}
     },
     "7086fa52890746d59a0dea3a52ed25ca": {
      "model_module": "@jupyter-widgets/controls",
      "model_module_version": "2.0.0",
      "model_name": "FloatProgressModel",
      "state": {
       "bar_style": "success",
       "layout": "IPY_MODEL_85e618ac77fe446db544f8e7c5d99a7a",
       "max": 23,
       "style": "IPY_MODEL_b4abdf96491541a5bfb3ce8c2507a2d1",
       "value": 23
      }
     },
     "708b2ae93840497b9c27d4b78aa6c7ca": {
      "model_module": "@jupyter-widgets/controls",
      "model_module_version": "2.0.0",
      "model_name": "HTMLStyleModel",
      "state": {
       "description_width": "",
       "font_size": null,
       "text_color": null
      }
     },
     "712c6c5c13724e9c84e9d60880100983": {
      "model_module": "@jupyter-widgets/controls",
      "model_module_version": "2.0.0",
      "model_name": "HBoxModel",
      "state": {
       "children": [
        "IPY_MODEL_b77845b946d74b2da75f881860939955",
        "IPY_MODEL_40c7d08ca37d4decb2ce34e839a3d1f2",
        "IPY_MODEL_649eca19297b47869c6de2aca0042794"
       ],
       "layout": "IPY_MODEL_14712229d1404b23a2ed9a4e44e07c54"
      }
     },
     "71615f97d9f941639b1c3066e0fb6ce3": {
      "model_module": "@jupyter-widgets/controls",
      "model_module_version": "2.0.0",
      "model_name": "HTMLModel",
      "state": {
       "layout": "IPY_MODEL_97db0630cbd64a1790a7e58279be7fbd",
       "style": "IPY_MODEL_cb61536d0ae447838faea40cdf7988f8",
       "value": "100%"
      }
     },
     "717d5f6f453441e5ac567ea93dd93550": {
      "model_module": "@jupyter-widgets/base",
      "model_module_version": "2.0.0",
      "model_name": "LayoutModel",
      "state": {}
     },
     "71a3dc6115de43f19d4c99c890fddf61": {
      "model_module": "@jupyter-widgets/controls",
      "model_module_version": "2.0.0",
      "model_name": "ProgressStyleModel",
      "state": {
       "description_width": ""
      }
     },
     "71ab47becc054cd7affce89f49a130ca": {
      "model_module": "@jupyter-widgets/base",
      "model_module_version": "2.0.0",
      "model_name": "LayoutModel",
      "state": {}
     },
     "71d6f0e182d74327b47f5b7a51ba3bfd": {
      "model_module": "@jupyter-widgets/base",
      "model_module_version": "2.0.0",
      "model_name": "LayoutModel",
      "state": {}
     },
     "71fd74aa973646629e3e296432dcb312": {
      "model_module": "@jupyter-widgets/controls",
      "model_module_version": "2.0.0",
      "model_name": "HBoxModel",
      "state": {
       "children": [
        "IPY_MODEL_c078276f2825430dae484ebef3a8619e",
        "IPY_MODEL_cd25e5a8fd0c47ebb22faeaded10191f",
        "IPY_MODEL_004f440e1a654a61b834d9ec2668bea0"
       ],
       "layout": "IPY_MODEL_e33ca704d2264a2f9e2be61c5bb191c1"
      }
     },
     "721436c2a18e40c28abd5755035b9486": {
      "model_module": "@jupyter-widgets/controls",
      "model_module_version": "2.0.0",
      "model_name": "HTMLStyleModel",
      "state": {
       "description_width": "",
       "font_size": null,
       "text_color": null
      }
     },
     "72254d24dc2849fcb7f277135a1b9a77": {
      "model_module": "@jupyter-widgets/controls",
      "model_module_version": "2.0.0",
      "model_name": "HTMLModel",
      "state": {
       "layout": "IPY_MODEL_7c84c7d0545143e1a1d3cb547f9cd91f",
       "style": "IPY_MODEL_8a8eecc135d7465b82617b22a9d49b9a",
       "value": " 22/22 [00:00&lt;00:00, 32.12it/s]"
      }
     },
     "72284308c31f4466a4f1b38ffafd2879": {
      "model_module": "@jupyter-widgets/controls",
      "model_module_version": "2.0.0",
      "model_name": "FloatProgressModel",
      "state": {
       "bar_style": "success",
       "layout": "IPY_MODEL_c71c648d197243b3b55621530f556ff2",
       "max": 23,
       "style": "IPY_MODEL_09a1bea22b5b4af2a7056a909648fdb1",
       "value": 23
      }
     },
     "722f473caa6440fca151ff678f9658b0": {
      "model_module": "@jupyter-widgets/controls",
      "model_module_version": "2.0.0",
      "model_name": "HTMLModel",
      "state": {
       "layout": "IPY_MODEL_353acd54bb774df78cc40448e014daf7",
       "style": "IPY_MODEL_69408a522bdf46faa4a2074993109156",
       "value": "100%"
      }
     },
     "722fdb785de146af8d7817f246c54a46": {
      "model_module": "@jupyter-widgets/controls",
      "model_module_version": "2.0.0",
      "model_name": "HBoxModel",
      "state": {
       "children": [
        "IPY_MODEL_568f0a3503f246908ce15f1d5296fda9",
        "IPY_MODEL_49f0f20778354236bfb1ee706ae5949e",
        "IPY_MODEL_128ffc6327e74ba39032c5fde0a5d2c4"
       ],
       "layout": "IPY_MODEL_366ab4fd08914c00876e2815d38cb4af"
      }
     },
     "7230126f73b64ceb9080d498b7f89499": {
      "model_module": "@jupyter-widgets/controls",
      "model_module_version": "2.0.0",
      "model_name": "HBoxModel",
      "state": {
       "children": [
        "IPY_MODEL_64fa7c18e664462886e9b21f24497728",
        "IPY_MODEL_da3053c11e08464e8cd1e444a2b56b3e",
        "IPY_MODEL_6c8d3ee76a554942bf4771aa9096f9b7"
       ],
       "layout": "IPY_MODEL_a8c60b3eb1df4e2ca8df3e2b8939f70f"
      }
     },
     "7262c3d3e8f94f9e871bc5f1543666f9": {
      "model_module": "@jupyter-widgets/base",
      "model_module_version": "2.0.0",
      "model_name": "LayoutModel",
      "state": {}
     },
     "729720b6fe1944a5b8c6c4c3a50714a6": {
      "model_module": "@jupyter-widgets/controls",
      "model_module_version": "2.0.0",
      "model_name": "HTMLStyleModel",
      "state": {
       "description_width": "",
       "font_size": null,
       "text_color": null
      }
     },
     "73361594c9e74c9ca2e5f88cd9e4e822": {
      "model_module": "@jupyter-widgets/base",
      "model_module_version": "2.0.0",
      "model_name": "LayoutModel",
      "state": {}
     },
     "733b9f6df8b5491d8e6dd82eb9bd468c": {
      "model_module": "@jupyter-widgets/base",
      "model_module_version": "2.0.0",
      "model_name": "LayoutModel",
      "state": {}
     },
     "733e9db8581f417f9d13f49fad2c3f0c": {
      "model_module": "@jupyter-widgets/controls",
      "model_module_version": "2.0.0",
      "model_name": "FloatProgressModel",
      "state": {
       "bar_style": "success",
       "layout": "IPY_MODEL_15fb5077a39541009c71d2d68fdc99dd",
       "max": 20,
       "style": "IPY_MODEL_f86f6df354644e6e942652d6d1732ea8",
       "value": 20
      }
     },
     "7357181ef92f4108a69fd26f6bf2072b": {
      "model_module": "@jupyter-widgets/controls",
      "model_module_version": "2.0.0",
      "model_name": "HTMLModel",
      "state": {
       "layout": "IPY_MODEL_26f66c59b39d4b6eaa6191fa3f7fd07e",
       "style": "IPY_MODEL_4ca4207470764fa5a80b866f9bf8f073",
       "value": " 20/20 [00:00&lt;00:00, 43.56it/s]"
      }
     },
     "735bb235368c4bef9b2b3b7640c6ace5": {
      "model_module": "@jupyter-widgets/controls",
      "model_module_version": "2.0.0",
      "model_name": "FloatProgressModel",
      "state": {
       "bar_style": "success",
       "layout": "IPY_MODEL_c5836109050d42ad8aff29101b3bf17a",
       "max": 20,
       "style": "IPY_MODEL_8445b4a43ed64d1e84c8c5841cb3b2d9",
       "value": 20
      }
     },
     "735c53dde92b4a62bf8f7e3f5c629e04": {
      "model_module": "@jupyter-widgets/base",
      "model_module_version": "2.0.0",
      "model_name": "LayoutModel",
      "state": {}
     },
     "735f3d9532504d8f89003a76996c1663": {
      "model_module": "@jupyter-widgets/controls",
      "model_module_version": "2.0.0",
      "model_name": "HTMLModel",
      "state": {
       "layout": "IPY_MODEL_278503c0a89746beb0b80e7f31ad25c9",
       "style": "IPY_MODEL_bb512e3575d94a479c6d503584b4b8e4",
       "value": " 20/20 [00:00&lt;00:00, 47.47it/s]"
      }
     },
     "7378f5241138440facdfc2c78befbaa9": {
      "model_module": "@jupyter-widgets/controls",
      "model_module_version": "2.0.0",
      "model_name": "ProgressStyleModel",
      "state": {
       "description_width": ""
      }
     },
     "737a5159b8e44b16a5f0f04e4a836e39": {
      "model_module": "@jupyter-widgets/controls",
      "model_module_version": "2.0.0",
      "model_name": "HTMLModel",
      "state": {
       "layout": "IPY_MODEL_bc3d6967f1754e619c3e9a58a2cabfbc",
       "style": "IPY_MODEL_064885bf3f8041c4b9ec18aa586f1244",
       "value": "100%"
      }
     },
     "738b3a19dea54c7ab734c2eb2cfc1dd0": {
      "model_module": "@jupyter-widgets/controls",
      "model_module_version": "2.0.0",
      "model_name": "HBoxModel",
      "state": {
       "children": [
        "IPY_MODEL_b79e1f256f304ebc94a88c8255b179a8",
        "IPY_MODEL_9b2e4248289349e29e4ae267c730d6d1",
        "IPY_MODEL_1c3ad425c4aa4a02a3773d1bc96a1fe8"
       ],
       "layout": "IPY_MODEL_23f728fa31d74ebb8923ec9fa8f73d1b"
      }
     },
     "739b608e3e7849a8beb68db8db994aa8": {
      "model_module": "@jupyter-widgets/controls",
      "model_module_version": "2.0.0",
      "model_name": "HTMLModel",
      "state": {
       "layout": "IPY_MODEL_4510049371194b1aaae5520e24f58526",
       "style": "IPY_MODEL_04e427e5f8164e9b98552dbf9b0022bf",
       "value": " 21/21 [00:00&lt;00:00, 19.99it/s]"
      }
     },
     "73cfcf65319a4e3ab249bb952030db9c": {
      "model_module": "@jupyter-widgets/controls",
      "model_module_version": "2.0.0",
      "model_name": "HTMLModel",
      "state": {
       "layout": "IPY_MODEL_cf71de154bbb43919295cbba1177a130",
       "style": "IPY_MODEL_2f64f6f681f64394bd66de93bfba2d73",
       "value": " 20/20 [00:00&lt;00:00, 372.50it/s]"
      }
     },
     "73d599ed110d4b6ba90162edefedf627": {
      "model_module": "@jupyter-widgets/base",
      "model_module_version": "2.0.0",
      "model_name": "LayoutModel",
      "state": {}
     },
     "73f22001b0964d4598029fa0d4429bed": {
      "model_module": "@jupyter-widgets/controls",
      "model_module_version": "2.0.0",
      "model_name": "HTMLModel",
      "state": {
       "layout": "IPY_MODEL_b665406d31894f2e836b2a4ca71579a3",
       "style": "IPY_MODEL_7f27b0892dd045a4a3d4b8de470247ac",
       "value": "100%"
      }
     },
     "743f64f6730741bebc87990bb56043f9": {
      "model_module": "@jupyter-widgets/controls",
      "model_module_version": "2.0.0",
      "model_name": "HTMLModel",
      "state": {
       "layout": "IPY_MODEL_a84287fd30b84e028c81d58841a901b5",
       "style": "IPY_MODEL_f02a9a7d14954232bbc6ea6fcc75f4dd",
       "value": "100%"
      }
     },
     "74625bed6e29446eb2893144b48dea3a": {
      "model_module": "@jupyter-widgets/base",
      "model_module_version": "2.0.0",
      "model_name": "LayoutModel",
      "state": {}
     },
     "74dca37480e2484297c4343c80546d1c": {
      "model_module": "@jupyter-widgets/controls",
      "model_module_version": "2.0.0",
      "model_name": "HTMLStyleModel",
      "state": {
       "description_width": "",
       "font_size": null,
       "text_color": null
      }
     },
     "752bd5f7c56240a79d552ba4870fef5a": {
      "model_module": "@jupyter-widgets/controls",
      "model_module_version": "2.0.0",
      "model_name": "HBoxModel",
      "state": {
       "children": [
        "IPY_MODEL_9554280d95d64514ab91f132392c25c8",
        "IPY_MODEL_45046f8b4de44cbea3174f02437e97bf",
        "IPY_MODEL_8f0c49a71317452ab8537af4a385893a"
       ],
       "layout": "IPY_MODEL_7d933c5027da4b849ea4cbb17ba9ecad"
      }
     },
     "75383f7b189647369d84624931daec12": {
      "model_module": "@jupyter-widgets/controls",
      "model_module_version": "2.0.0",
      "model_name": "FloatProgressModel",
      "state": {
       "bar_style": "success",
       "layout": "IPY_MODEL_fce68373e12b41f1aafd947cea067d0f",
       "max": 23,
       "style": "IPY_MODEL_df47e1e897d244928386b9b9c162bb74",
       "value": 23
      }
     },
     "756ade0ef6bd4c1ab809ba1b91f1d982": {
      "model_module": "@jupyter-widgets/controls",
      "model_module_version": "2.0.0",
      "model_name": "FloatProgressModel",
      "state": {
       "bar_style": "success",
       "layout": "IPY_MODEL_be343fd865164cabb40906584cda3d71",
       "max": 22,
       "style": "IPY_MODEL_248a2038259e4fb09f5fd22357d2b3a0",
       "value": 22
      }
     },
     "75e49d23613e45af9212d15479f2010b": {
      "model_module": "@jupyter-widgets/controls",
      "model_module_version": "2.0.0",
      "model_name": "FloatProgressModel",
      "state": {
       "bar_style": "success",
       "layout": "IPY_MODEL_ea53c2db442e4fa593c86cfbaa08cb64",
       "max": 21,
       "style": "IPY_MODEL_8f21eda622424b91aed548deef324041",
       "value": 21
      }
     },
     "75ee1bf58dd54f629c3aa9f39d64d8a0": {
      "model_module": "@jupyter-widgets/base",
      "model_module_version": "2.0.0",
      "model_name": "LayoutModel",
      "state": {}
     },
     "75f1a9a0d31e4d29ab126e2a1eacb0ea": {
      "model_module": "@jupyter-widgets/base",
      "model_module_version": "2.0.0",
      "model_name": "LayoutModel",
      "state": {}
     },
     "761869180e5a49e08f0ff203699c9d24": {
      "model_module": "@jupyter-widgets/controls",
      "model_module_version": "2.0.0",
      "model_name": "ProgressStyleModel",
      "state": {
       "description_width": ""
      }
     },
     "76234c1c5c7e404486bc30bcbd4531ef": {
      "model_module": "@jupyter-widgets/base",
      "model_module_version": "2.0.0",
      "model_name": "LayoutModel",
      "state": {}
     },
     "76302512175148e5b485eed4f7caf66b": {
      "model_module": "@jupyter-widgets/controls",
      "model_module_version": "2.0.0",
      "model_name": "HTMLModel",
      "state": {
       "layout": "IPY_MODEL_cc4c20f5d2c6419a871903b3832198e2",
       "style": "IPY_MODEL_58e5b010010546ad9dd67766d8c9735a",
       "value": " 20/20 [00:00&lt;00:00, 32.22it/s]"
      }
     },
     "7645d55564644aa0acad72900aae71f5": {
      "model_module": "@jupyter-widgets/base",
      "model_module_version": "2.0.0",
      "model_name": "LayoutModel",
      "state": {}
     },
     "7648fcb6ae8d4e5d9e958a51c6ade6b7": {
      "model_module": "@jupyter-widgets/controls",
      "model_module_version": "2.0.0",
      "model_name": "ProgressStyleModel",
      "state": {
       "description_width": ""
      }
     },
     "7660200e72494ff3ba988b9b96a0e9ce": {
      "model_module": "@jupyter-widgets/controls",
      "model_module_version": "2.0.0",
      "model_name": "HTMLModel",
      "state": {
       "layout": "IPY_MODEL_6a452d9e69cf470fbd5fc3ce9a6195d8",
       "style": "IPY_MODEL_cfdefac9fee648bda0a029aedc32888a",
       "value": "100%"
      }
     },
     "767224d507e34d359f381bbebbadb786": {
      "model_module": "@jupyter-widgets/controls",
      "model_module_version": "2.0.0",
      "model_name": "HTMLModel",
      "state": {
       "layout": "IPY_MODEL_6a1bcde08ee24c21a98adba8e766308f",
       "style": "IPY_MODEL_94dbf30659484bb8a59227d09bf73193",
       "value": "100%"
      }
     },
     "76d1ebc8033442ab86208e359556855e": {
      "model_module": "@jupyter-widgets/controls",
      "model_module_version": "2.0.0",
      "model_name": "HTMLModel",
      "state": {
       "layout": "IPY_MODEL_2b2cca97df7e4230a8a2dbc1a075f7b9",
       "style": "IPY_MODEL_8bfc91ee6bdf4d33afb71bb59bca26ba",
       "value": "100%"
      }
     },
     "770454973f1d4ee991b5da75792527f1": {
      "model_module": "@jupyter-widgets/base",
      "model_module_version": "2.0.0",
      "model_name": "LayoutModel",
      "state": {}
     },
     "7786b2c3dce84427b43010447767820c": {
      "model_module": "@jupyter-widgets/base",
      "model_module_version": "2.0.0",
      "model_name": "LayoutModel",
      "state": {}
     },
     "77a1c39e31ec412a940a04b403820167": {
      "model_module": "@jupyter-widgets/base",
      "model_module_version": "2.0.0",
      "model_name": "LayoutModel",
      "state": {}
     },
     "77aa38a0e08743a68e8dda896b284f65": {
      "model_module": "@jupyter-widgets/controls",
      "model_module_version": "2.0.0",
      "model_name": "ProgressStyleModel",
      "state": {
       "description_width": ""
      }
     },
     "77c262ba6ae346e09cead071757b0c19": {
      "model_module": "@jupyter-widgets/controls",
      "model_module_version": "2.0.0",
      "model_name": "HTMLModel",
      "state": {
       "layout": "IPY_MODEL_9d5dca482b914b939ad0951489642441",
       "style": "IPY_MODEL_604abaf962ac42e38e26a86a8c556a94",
       "value": "100%"
      }
     },
     "77ebbbfe7fc746e584b4d8a8de2cfb75": {
      "model_module": "@jupyter-widgets/base",
      "model_module_version": "2.0.0",
      "model_name": "LayoutModel",
      "state": {}
     },
     "77ed9e40c82240349cc513c31ae2c968": {
      "model_module": "@jupyter-widgets/controls",
      "model_module_version": "2.0.0",
      "model_name": "HTMLStyleModel",
      "state": {
       "description_width": "",
       "font_size": null,
       "text_color": null
      }
     },
     "78232267ffc541ee92b3e1a552ca9f45": {
      "model_module": "@jupyter-widgets/controls",
      "model_module_version": "2.0.0",
      "model_name": "ProgressStyleModel",
      "state": {
       "description_width": ""
      }
     },
     "7844a12b815240deb5e74ec9504bdbaf": {
      "model_module": "@jupyter-widgets/controls",
      "model_module_version": "2.0.0",
      "model_name": "HTMLStyleModel",
      "state": {
       "description_width": "",
       "font_size": null,
       "text_color": null
      }
     },
     "784eb0450be148cea58d10cc14961bb0": {
      "model_module": "@jupyter-widgets/base",
      "model_module_version": "2.0.0",
      "model_name": "LayoutModel",
      "state": {}
     },
     "7853fc764c8046d4bb6502922ef964ce": {
      "model_module": "@jupyter-widgets/base",
      "model_module_version": "2.0.0",
      "model_name": "LayoutModel",
      "state": {}
     },
     "78a5330932234b1892a7114939ab8060": {
      "model_module": "@jupyter-widgets/controls",
      "model_module_version": "2.0.0",
      "model_name": "ProgressStyleModel",
      "state": {
       "description_width": ""
      }
     },
     "78b36b27d90547d983e758d47808f307": {
      "model_module": "@jupyter-widgets/controls",
      "model_module_version": "2.0.0",
      "model_name": "HBoxModel",
      "state": {
       "children": [
        "IPY_MODEL_e4eacc95841943a7b846d6839c64c0dc",
        "IPY_MODEL_0438179efe264daa8ac739d47aca0a60",
        "IPY_MODEL_ab2a7bedaa9142cda4c6fb48377912d4"
       ],
       "layout": "IPY_MODEL_d0a0e5bacf054512bde3363cefa7118f"
      }
     },
     "7906888e0a45499da6b62b801657d78c": {
      "model_module": "@jupyter-widgets/controls",
      "model_module_version": "2.0.0",
      "model_name": "HTMLModel",
      "state": {
       "layout": "IPY_MODEL_2af94bac476d4b4eb4be88ac8c057b8a",
       "style": "IPY_MODEL_85e8f1ef8e2e448eac745035d66ee779",
       "value": " 23/23 [00:00&lt;00:00, 42.16it/s]"
      }
     },
     "79239b85f7d64d1992d59def8661d03f": {
      "model_module": "@jupyter-widgets/controls",
      "model_module_version": "2.0.0",
      "model_name": "ProgressStyleModel",
      "state": {
       "description_width": ""
      }
     },
     "797b792e6a184121a7be0dc3afac9287": {
      "model_module": "@jupyter-widgets/controls",
      "model_module_version": "2.0.0",
      "model_name": "HTMLStyleModel",
      "state": {
       "description_width": "",
       "font_size": null,
       "text_color": null
      }
     },
     "7988f2126c95459dbf677c0601643a8f": {
      "model_module": "@jupyter-widgets/base",
      "model_module_version": "2.0.0",
      "model_name": "LayoutModel",
      "state": {}
     },
     "79a9d3dd828846978371037357e27dd1": {
      "model_module": "@jupyter-widgets/controls",
      "model_module_version": "2.0.0",
      "model_name": "ProgressStyleModel",
      "state": {
       "description_width": ""
      }
     },
     "79bd934cfd684aad8fc55e23093665e6": {
      "model_module": "@jupyter-widgets/base",
      "model_module_version": "2.0.0",
      "model_name": "LayoutModel",
      "state": {}
     },
     "79cb0a8efbe24b818768eee171c242b5": {
      "model_module": "@jupyter-widgets/controls",
      "model_module_version": "2.0.0",
      "model_name": "HTMLStyleModel",
      "state": {
       "description_width": "",
       "font_size": null,
       "text_color": null
      }
     },
     "79d5e80e733b45f2b2d45b47433c88b7": {
      "model_module": "@jupyter-widgets/base",
      "model_module_version": "2.0.0",
      "model_name": "LayoutModel",
      "state": {}
     },
     "7a57274d0999487fa461b8dc35e06c31": {
      "model_module": "@jupyter-widgets/base",
      "model_module_version": "2.0.0",
      "model_name": "LayoutModel",
      "state": {}
     },
     "7a5db0055d534f42afc79a325fe47be5": {
      "model_module": "@jupyter-widgets/controls",
      "model_module_version": "2.0.0",
      "model_name": "ProgressStyleModel",
      "state": {
       "description_width": ""
      }
     },
     "7aaf0ca60668498a80d876fbcdeddd96": {
      "model_module": "@jupyter-widgets/controls",
      "model_module_version": "2.0.0",
      "model_name": "HTMLModel",
      "state": {
       "layout": "IPY_MODEL_55c5a261424d437ba34bb042c85af78e",
       "style": "IPY_MODEL_433cb87006f5469db39cc731de954363",
       "value": " 23/23 [00:00&lt;00:00, 40.51it/s]"
      }
     },
     "7ab07e32ea864ba1b35355126c6138a5": {
      "model_module": "@jupyter-widgets/controls",
      "model_module_version": "2.0.0",
      "model_name": "ProgressStyleModel",
      "state": {
       "description_width": ""
      }
     },
     "7abbb86bffd24598b0c6422e1ae70d4f": {
      "model_module": "@jupyter-widgets/controls",
      "model_module_version": "2.0.0",
      "model_name": "HTMLModel",
      "state": {
       "layout": "IPY_MODEL_b9660ae2bd7c462983ae4450f244a237",
       "style": "IPY_MODEL_93d8ca1247574a76b4a749ac80ea88eb",
       "value": " 21/21 [00:00&lt;00:00, 20.54it/s]"
      }
     },
     "7ade40c5ce984632bec1a72ebceecb3d": {
      "model_module": "@jupyter-widgets/controls",
      "model_module_version": "2.0.0",
      "model_name": "FloatProgressModel",
      "state": {
       "bar_style": "success",
       "layout": "IPY_MODEL_2eb47d854c194a269862fb45ee86d1ab",
       "max": 23,
       "style": "IPY_MODEL_63c4f24dd5874028b5409109892c2fac",
       "value": 23
      }
     },
     "7af797975a254cd389c750d6e191a696": {
      "model_module": "@jupyter-widgets/base",
      "model_module_version": "2.0.0",
      "model_name": "LayoutModel",
      "state": {}
     },
     "7b01ddce923e49e7ae0c892cbb1cdc62": {
      "model_module": "@jupyter-widgets/controls",
      "model_module_version": "2.0.0",
      "model_name": "FloatProgressModel",
      "state": {
       "bar_style": "success",
       "layout": "IPY_MODEL_6beb89ebcb3945d2a1430e802a19cf76",
       "max": 21,
       "style": "IPY_MODEL_18835523fdd44dd8ad0cb50d49e7f95c",
       "value": 21
      }
     },
     "7b0edc9305c245ffa417570f691d1ea9": {
      "model_module": "@jupyter-widgets/controls",
      "model_module_version": "2.0.0",
      "model_name": "ProgressStyleModel",
      "state": {
       "description_width": ""
      }
     },
     "7b263df537af4db1a3fa2e2743a57c99": {
      "model_module": "@jupyter-widgets/controls",
      "model_module_version": "2.0.0",
      "model_name": "HTMLStyleModel",
      "state": {
       "description_width": "",
       "font_size": null,
       "text_color": null
      }
     },
     "7b41abdf740641159813ca72a7734de8": {
      "model_module": "@jupyter-widgets/controls",
      "model_module_version": "2.0.0",
      "model_name": "HTMLStyleModel",
      "state": {
       "description_width": "",
       "font_size": null,
       "text_color": null
      }
     },
     "7b5c0e3b00d246ccac155821102ea5c7": {
      "model_module": "@jupyter-widgets/base",
      "model_module_version": "2.0.0",
      "model_name": "LayoutModel",
      "state": {}
     },
     "7b699665fdb94f11aee7e0879a9b167e": {
      "model_module": "@jupyter-widgets/base",
      "model_module_version": "2.0.0",
      "model_name": "LayoutModel",
      "state": {}
     },
     "7b6a4126fdb245539e5b5301a3bc32c9": {
      "model_module": "@jupyter-widgets/controls",
      "model_module_version": "2.0.0",
      "model_name": "ProgressStyleModel",
      "state": {
       "description_width": ""
      }
     },
     "7b6e8252b3684278945e5c014aee1f3f": {
      "model_module": "@jupyter-widgets/base",
      "model_module_version": "2.0.0",
      "model_name": "LayoutModel",
      "state": {}
     },
     "7b90cc4aa84b45d5826473c00449b5a5": {
      "model_module": "@jupyter-widgets/controls",
      "model_module_version": "2.0.0",
      "model_name": "HTMLStyleModel",
      "state": {
       "description_width": "",
       "font_size": null,
       "text_color": null
      }
     },
     "7bb113bea88a4f079e07214962cfbc54": {
      "model_module": "@jupyter-widgets/base",
      "model_module_version": "2.0.0",
      "model_name": "LayoutModel",
      "state": {}
     },
     "7bb48779700c4aca91b21175ddf859f5": {
      "model_module": "@jupyter-widgets/base",
      "model_module_version": "2.0.0",
      "model_name": "LayoutModel",
      "state": {}
     },
     "7bc6f759d1334ca2830bb9f18322447d": {
      "model_module": "@jupyter-widgets/base",
      "model_module_version": "2.0.0",
      "model_name": "LayoutModel",
      "state": {}
     },
     "7bf663e93d774c3f873140c9bd7b1d4e": {
      "model_module": "@jupyter-widgets/base",
      "model_module_version": "2.0.0",
      "model_name": "LayoutModel",
      "state": {}
     },
     "7c244e7b2ce346069702a8534661e2f6": {
      "model_module": "@jupyter-widgets/base",
      "model_module_version": "2.0.0",
      "model_name": "LayoutModel",
      "state": {}
     },
     "7c2eeaee73d24f3f99528433f8d2eee2": {
      "model_module": "@jupyter-widgets/base",
      "model_module_version": "2.0.0",
      "model_name": "LayoutModel",
      "state": {}
     },
     "7c60991bb8974762bb026ba1426c6a02": {
      "model_module": "@jupyter-widgets/controls",
      "model_module_version": "2.0.0",
      "model_name": "HBoxModel",
      "state": {
       "children": [
        "IPY_MODEL_7660200e72494ff3ba988b9b96a0e9ce",
        "IPY_MODEL_0c019e88327b4c278508f26f224746ca",
        "IPY_MODEL_45a3cee3abd440baa78b409d55539485"
       ],
       "layout": "IPY_MODEL_a8c74ce2b0a14e5896eb729845960153"
      }
     },
     "7c84c7d0545143e1a1d3cb547f9cd91f": {
      "model_module": "@jupyter-widgets/base",
      "model_module_version": "2.0.0",
      "model_name": "LayoutModel",
      "state": {}
     },
     "7c856ea2d0a74275bcda2710018b1c3c": {
      "model_module": "@jupyter-widgets/base",
      "model_module_version": "2.0.0",
      "model_name": "LayoutModel",
      "state": {}
     },
     "7cd85eeac71745ff99f81f391387b17f": {
      "model_module": "@jupyter-widgets/controls",
      "model_module_version": "2.0.0",
      "model_name": "HTMLModel",
      "state": {
       "layout": "IPY_MODEL_e2e84ee7ce6741a194aff6a5fa8a8160",
       "style": "IPY_MODEL_fa168e088b734ba1847d594549d00df2",
       "value": "100%"
      }
     },
     "7ceacfc90ff3451dae33b196551d09e5": {
      "model_module": "@jupyter-widgets/controls",
      "model_module_version": "2.0.0",
      "model_name": "FloatProgressModel",
      "state": {
       "bar_style": "success",
       "layout": "IPY_MODEL_14d3612a6d6242608585dc7f2a4ff67b",
       "max": 20,
       "style": "IPY_MODEL_ac6f4f0a012246f18404f836dbcd1f1c",
       "value": 20
      }
     },
     "7d106493e684455eac4a18b993bd7b57": {
      "model_module": "@jupyter-widgets/controls",
      "model_module_version": "2.0.0",
      "model_name": "HBoxModel",
      "state": {
       "children": [
        "IPY_MODEL_b7af1231341e4050ba33a207049465c2",
        "IPY_MODEL_b40439ab19a04eb3b451dc9bcec42e3d",
        "IPY_MODEL_09eec1fd8da94c7bb377721310afe082"
       ],
       "layout": "IPY_MODEL_39700e6e99f840b1a2c6f78e7a0c2cf3"
      }
     },
     "7d20333e6bb248289b503579ddb05ebe": {
      "model_module": "@jupyter-widgets/controls",
      "model_module_version": "2.0.0",
      "model_name": "HTMLModel",
      "state": {
       "layout": "IPY_MODEL_9014fecd30614c6b9a9109d204cd38bb",
       "style": "IPY_MODEL_74dca37480e2484297c4343c80546d1c",
       "value": " 23/23 [00:00&lt;00:00, 434.08it/s]"
      }
     },
     "7d2c63285c3a4193b915680c9c544b79": {
      "model_module": "@jupyter-widgets/base",
      "model_module_version": "2.0.0",
      "model_name": "LayoutModel",
      "state": {}
     },
     "7d42b9d4e0774652ad03e55012a23ab4": {
      "model_module": "@jupyter-widgets/controls",
      "model_module_version": "2.0.0",
      "model_name": "ProgressStyleModel",
      "state": {
       "description_width": ""
      }
     },
     "7d4d5f8bd9a0477588d0efcbc5c17c82": {
      "model_module": "@jupyter-widgets/controls",
      "model_module_version": "2.0.0",
      "model_name": "HTMLModel",
      "state": {
       "layout": "IPY_MODEL_3f642da100b9428b9dfb29b1ff362062",
       "style": "IPY_MODEL_8040efcbafc94ca686cdd73bac724cbd",
       "value": " 21/21 [00:00&lt;00:00, 388.04it/s]"
      }
     },
     "7d933c5027da4b849ea4cbb17ba9ecad": {
      "model_module": "@jupyter-widgets/base",
      "model_module_version": "2.0.0",
      "model_name": "LayoutModel",
      "state": {}
     },
     "7df0859391fa484c9c9624a62555d896": {
      "model_module": "@jupyter-widgets/base",
      "model_module_version": "2.0.0",
      "model_name": "LayoutModel",
      "state": {}
     },
     "7e164952e09a4a93b5fce899f0128713": {
      "model_module": "@jupyter-widgets/controls",
      "model_module_version": "2.0.0",
      "model_name": "HTMLStyleModel",
      "state": {
       "description_width": "",
       "font_size": null,
       "text_color": null
      }
     },
     "7e587b6496d4485db4c54ee553a27966": {
      "model_module": "@jupyter-widgets/base",
      "model_module_version": "2.0.0",
      "model_name": "LayoutModel",
      "state": {}
     },
     "7e85ee935bbc4230a43f4105f3733dc6": {
      "model_module": "@jupyter-widgets/controls",
      "model_module_version": "2.0.0",
      "model_name": "HTMLModel",
      "state": {
       "layout": "IPY_MODEL_844c43dd120e4026853b36a61c5db18c",
       "style": "IPY_MODEL_1140272f545642398399d4b783389f96",
       "value": "100%"
      }
     },
     "7e873fd3c2d54b3997c63f01a658326a": {
      "model_module": "@jupyter-widgets/base",
      "model_module_version": "2.0.0",
      "model_name": "LayoutModel",
      "state": {}
     },
     "7ea0972b831945e8b01790667b3433a7": {
      "model_module": "@jupyter-widgets/base",
      "model_module_version": "2.0.0",
      "model_name": "LayoutModel",
      "state": {}
     },
     "7eb2955e10dc40d48b01335b334f1c2d": {
      "model_module": "@jupyter-widgets/controls",
      "model_module_version": "2.0.0",
      "model_name": "HTMLStyleModel",
      "state": {
       "description_width": "",
       "font_size": null,
       "text_color": null
      }
     },
     "7ec7a12caf984b0cadda6405ba62ba0e": {
      "model_module": "@jupyter-widgets/base",
      "model_module_version": "2.0.0",
      "model_name": "LayoutModel",
      "state": {}
     },
     "7eeb5ff8c2634f2d897bdb9504dd0126": {
      "model_module": "@jupyter-widgets/controls",
      "model_module_version": "2.0.0",
      "model_name": "HTMLModel",
      "state": {
       "layout": "IPY_MODEL_5df1f770a02848dfb7da44d8555a3c98",
       "style": "IPY_MODEL_0a33a646947d4c8995056b13e682195e",
       "value": " 21/21 [00:00&lt;00:00, 370.15it/s]"
      }
     },
     "7ef1fb15031742e59587ebe3b3587efb": {
      "model_module": "@jupyter-widgets/base",
      "model_module_version": "2.0.0",
      "model_name": "LayoutModel",
      "state": {}
     },
     "7f27b0892dd045a4a3d4b8de470247ac": {
      "model_module": "@jupyter-widgets/controls",
      "model_module_version": "2.0.0",
      "model_name": "HTMLStyleModel",
      "state": {
       "description_width": "",
       "font_size": null,
       "text_color": null
      }
     },
     "7f4bbd3d2dc848c68a0dd6a08109b31a": {
      "model_module": "@jupyter-widgets/base",
      "model_module_version": "2.0.0",
      "model_name": "LayoutModel",
      "state": {}
     },
     "7f50dc4d5bac473baac3be5ef01d38b6": {
      "model_module": "@jupyter-widgets/base",
      "model_module_version": "2.0.0",
      "model_name": "LayoutModel",
      "state": {}
     },
     "7f65f475a97b4918b4f43c20f4ff8cb1": {
      "model_module": "@jupyter-widgets/controls",
      "model_module_version": "2.0.0",
      "model_name": "ProgressStyleModel",
      "state": {
       "description_width": ""
      }
     },
     "7f888f2f869546d0b5cf52e387a91349": {
      "model_module": "@jupyter-widgets/base",
      "model_module_version": "2.0.0",
      "model_name": "LayoutModel",
      "state": {}
     },
     "7f9beae36d054688b6c99af93cd2ef33": {
      "model_module": "@jupyter-widgets/controls",
      "model_module_version": "2.0.0",
      "model_name": "HTMLStyleModel",
      "state": {
       "description_width": "",
       "font_size": null,
       "text_color": null
      }
     },
     "7fbaca2b4d994178ad8b9c663e71d297": {
      "model_module": "@jupyter-widgets/base",
      "model_module_version": "2.0.0",
      "model_name": "LayoutModel",
      "state": {}
     },
     "7fc5fcb2ba544ed98f48d78cc74a9af5": {
      "model_module": "@jupyter-widgets/base",
      "model_module_version": "2.0.0",
      "model_name": "LayoutModel",
      "state": {}
     },
     "801a6f060f73487cbdfd80d3a470bc42": {
      "model_module": "@jupyter-widgets/base",
      "model_module_version": "2.0.0",
      "model_name": "LayoutModel",
      "state": {}
     },
     "801f33324b6645feb6570350a8e711c6": {
      "model_module": "@jupyter-widgets/base",
      "model_module_version": "2.0.0",
      "model_name": "LayoutModel",
      "state": {}
     },
     "8040efcbafc94ca686cdd73bac724cbd": {
      "model_module": "@jupyter-widgets/controls",
      "model_module_version": "2.0.0",
      "model_name": "HTMLStyleModel",
      "state": {
       "description_width": "",
       "font_size": null,
       "text_color": null
      }
     },
     "8043064248254d1e996356af214180a5": {
      "model_module": "@jupyter-widgets/controls",
      "model_module_version": "2.0.0",
      "model_name": "HTMLModel",
      "state": {
       "layout": "IPY_MODEL_950637b973504457b15228352715a6c2",
       "style": "IPY_MODEL_d481f21dd37c47ab8f4ad1f4bf01b519",
       "value": " 20/20 [00:00&lt;00:00, 22.64it/s]"
      }
     },
     "8091cc5f99aa4cd6bf45a0b463728689": {
      "model_module": "@jupyter-widgets/controls",
      "model_module_version": "2.0.0",
      "model_name": "HTMLStyleModel",
      "state": {
       "description_width": "",
       "font_size": null,
       "text_color": null
      }
     },
     "80b63b41119c48a1bfd300480db69aa5": {
      "model_module": "@jupyter-widgets/controls",
      "model_module_version": "2.0.0",
      "model_name": "ProgressStyleModel",
      "state": {
       "description_width": ""
      }
     },
     "80bcb6ee4a48463a91755952d1524370": {
      "model_module": "@jupyter-widgets/controls",
      "model_module_version": "2.0.0",
      "model_name": "HTMLStyleModel",
      "state": {
       "description_width": "",
       "font_size": null,
       "text_color": null
      }
     },
     "8116cacc946744a9a09346c72747f27b": {
      "model_module": "@jupyter-widgets/base",
      "model_module_version": "2.0.0",
      "model_name": "LayoutModel",
      "state": {}
     },
     "8120a55d22f946c39d7eeeb42c253509": {
      "model_module": "@jupyter-widgets/base",
      "model_module_version": "2.0.0",
      "model_name": "LayoutModel",
      "state": {}
     },
     "8145c72566df4829a5a94d3b2957570f": {
      "model_module": "@jupyter-widgets/base",
      "model_module_version": "2.0.0",
      "model_name": "LayoutModel",
      "state": {}
     },
     "814b120a4cdd4ab99248f6252d471f71": {
      "model_module": "@jupyter-widgets/controls",
      "model_module_version": "2.0.0",
      "model_name": "ProgressStyleModel",
      "state": {
       "description_width": ""
      }
     },
     "8159e322ae4146af94c9d97d7ae033fa": {
      "model_module": "@jupyter-widgets/base",
      "model_module_version": "2.0.0",
      "model_name": "LayoutModel",
      "state": {}
     },
     "816b2484490f4ae49d2f80d297d25609": {
      "model_module": "@jupyter-widgets/controls",
      "model_module_version": "2.0.0",
      "model_name": "HTMLModel",
      "state": {
       "layout": "IPY_MODEL_1b90456dcc624322a8468309fb5385de",
       "style": "IPY_MODEL_06a88a3f7a804bbd81115cdeb9bef043",
       "value": " 21/21 [00:01&lt;00:00, 19.50it/s]"
      }
     },
     "816b83050c584b7e9d2118e5a245d747": {
      "model_module": "@jupyter-widgets/controls",
      "model_module_version": "2.0.0",
      "model_name": "HBoxModel",
      "state": {
       "children": [
        "IPY_MODEL_ffd91d9b403e430cb4b11ae02de4cbaf",
        "IPY_MODEL_1aa352bffc914425befdebccd580bdf7",
        "IPY_MODEL_9ba7b6bb3c724398a0e0de22d59cdf9b"
       ],
       "layout": "IPY_MODEL_101bd38894d64ceda9c54af3bf7e4921"
      }
     },
     "817dea31184449c2934f4939814fa8d4": {
      "model_module": "@jupyter-widgets/controls",
      "model_module_version": "2.0.0",
      "model_name": "ProgressStyleModel",
      "state": {
       "description_width": ""
      }
     },
     "81c777c57ccb4200b222add1b888edf6": {
      "model_module": "@jupyter-widgets/base",
      "model_module_version": "2.0.0",
      "model_name": "LayoutModel",
      "state": {}
     },
     "81ce04d208444252836e281969b81017": {
      "model_module": "@jupyter-widgets/controls",
      "model_module_version": "2.0.0",
      "model_name": "HBoxModel",
      "state": {
       "children": [
        "IPY_MODEL_360fc7d1a83f4daf813c7715879484a8",
        "IPY_MODEL_288902b6543a46af93a212dedd717ce1",
        "IPY_MODEL_ef6ad72f6f7641349623ddfb8ff6b894"
       ],
       "layout": "IPY_MODEL_f56bbf4d54ca424bac1abb9f46464e5a"
      }
     },
     "81dd603af1764e51b2f9ff7f7753e688": {
      "model_module": "@jupyter-widgets/base",
      "model_module_version": "2.0.0",
      "model_name": "LayoutModel",
      "state": {}
     },
     "81e5012ec9954dacad54ec093470161c": {
      "model_module": "@jupyter-widgets/base",
      "model_module_version": "2.0.0",
      "model_name": "LayoutModel",
      "state": {}
     },
     "82035724ecf74fa9aaa8d9fab08dd5da": {
      "model_module": "@jupyter-widgets/base",
      "model_module_version": "2.0.0",
      "model_name": "LayoutModel",
      "state": {}
     },
     "8211497e35b649f9aa14b2111803166f": {
      "model_module": "@jupyter-widgets/base",
      "model_module_version": "2.0.0",
      "model_name": "LayoutModel",
      "state": {}
     },
     "8277d6bb110b48bf91d4dc318775eba7": {
      "model_module": "@jupyter-widgets/controls",
      "model_module_version": "2.0.0",
      "model_name": "HTMLStyleModel",
      "state": {
       "description_width": "",
       "font_size": null,
       "text_color": null
      }
     },
     "82b08e02f50a4762a23f0ae92f740b80": {
      "model_module": "@jupyter-widgets/controls",
      "model_module_version": "2.0.0",
      "model_name": "HBoxModel",
      "state": {
       "children": [
        "IPY_MODEL_63cd4b1e357d41daa519b523495c5e67",
        "IPY_MODEL_f2ffa9bc425d4f64b1243faacbcdc8d8",
        "IPY_MODEL_735f3d9532504d8f89003a76996c1663"
       ],
       "layout": "IPY_MODEL_e9e71413a03f420a869c09daea101b92"
      }
     },
     "82bb6fd195cc4b1395bb7424d781c758": {
      "model_module": "@jupyter-widgets/controls",
      "model_module_version": "2.0.0",
      "model_name": "HTMLStyleModel",
      "state": {
       "description_width": "",
       "font_size": null,
       "text_color": null
      }
     },
     "82d049753d62469fab576be9a46d9c72": {
      "model_module": "@jupyter-widgets/controls",
      "model_module_version": "2.0.0",
      "model_name": "HTMLStyleModel",
      "state": {
       "description_width": "",
       "font_size": null,
       "text_color": null
      }
     },
     "82dad52fd2464489b59ffdc694d8a435": {
      "model_module": "@jupyter-widgets/base",
      "model_module_version": "2.0.0",
      "model_name": "LayoutModel",
      "state": {}
     },
     "833762af27da4540bbfeac84661395f7": {
      "model_module": "@jupyter-widgets/base",
      "model_module_version": "2.0.0",
      "model_name": "LayoutModel",
      "state": {}
     },
     "8362a40c9c6c46a0814d499e99713c33": {
      "model_module": "@jupyter-widgets/base",
      "model_module_version": "2.0.0",
      "model_name": "LayoutModel",
      "state": {}
     },
     "8366abc03d0246399b89d7f96fdd120f": {
      "model_module": "@jupyter-widgets/controls",
      "model_module_version": "2.0.0",
      "model_name": "ProgressStyleModel",
      "state": {
       "description_width": ""
      }
     },
     "83845608db724713bf5a1424cf1c28ec": {
      "model_module": "@jupyter-widgets/controls",
      "model_module_version": "2.0.0",
      "model_name": "HTMLModel",
      "state": {
       "layout": "IPY_MODEL_bd85102ab502423aabd23de1dce2caba",
       "style": "IPY_MODEL_56b09922e38d48f3aa473c9e8a1c58ea",
       "value": " 22/22 [00:00&lt;00:00, 417.11it/s]"
      }
     },
     "838cf254752f4fdd9187de8765a2a959": {
      "model_module": "@jupyter-widgets/controls",
      "model_module_version": "2.0.0",
      "model_name": "HTMLModel",
      "state": {
       "layout": "IPY_MODEL_3a745db744a143168f5ad949c438f55f",
       "style": "IPY_MODEL_16c85c31369240dda0887fbce07a5c8d",
       "value": "100%"
      }
     },
     "83a981de592e4883bd5253f674f615a7": {
      "model_module": "@jupyter-widgets/base",
      "model_module_version": "2.0.0",
      "model_name": "LayoutModel",
      "state": {}
     },
     "83b2e85a1ea442e58699773c5dcb5765": {
      "model_module": "@jupyter-widgets/controls",
      "model_module_version": "2.0.0",
      "model_name": "HTMLStyleModel",
      "state": {
       "description_width": "",
       "font_size": null,
       "text_color": null
      }
     },
     "83d37fffe2c64ddbae24679403e736c9": {
      "model_module": "@jupyter-widgets/base",
      "model_module_version": "2.0.0",
      "model_name": "LayoutModel",
      "state": {}
     },
     "83fcc3ea46e54c3381956f4fcb5f8859": {
      "model_module": "@jupyter-widgets/controls",
      "model_module_version": "2.0.0",
      "model_name": "HTMLModel",
      "state": {
       "layout": "IPY_MODEL_801a6f060f73487cbdfd80d3a470bc42",
       "style": "IPY_MODEL_9004310c06214ce7847a4eb1150312a7",
       "value": " 23/23 [00:01&lt;00:00, 17.78it/s]"
      }
     },
     "83fea680eaf44fc8b116f5310fc20b98": {
      "model_module": "@jupyter-widgets/base",
      "model_module_version": "2.0.0",
      "model_name": "LayoutModel",
      "state": {}
     },
     "8413fc23d1aa47b1b52c61f73ef5f79f": {
      "model_module": "@jupyter-widgets/base",
      "model_module_version": "2.0.0",
      "model_name": "LayoutModel",
      "state": {}
     },
     "84150dd3da8a42ffaa5f8252869829d9": {
      "model_module": "@jupyter-widgets/base",
      "model_module_version": "2.0.0",
      "model_name": "LayoutModel",
      "state": {}
     },
     "8445b4a43ed64d1e84c8c5841cb3b2d9": {
      "model_module": "@jupyter-widgets/controls",
      "model_module_version": "2.0.0",
      "model_name": "ProgressStyleModel",
      "state": {
       "description_width": ""
      }
     },
     "844c43dd120e4026853b36a61c5db18c": {
      "model_module": "@jupyter-widgets/base",
      "model_module_version": "2.0.0",
      "model_name": "LayoutModel",
      "state": {}
     },
     "84886b12bad44e2195cf2001b5c50eba": {
      "model_module": "@jupyter-widgets/base",
      "model_module_version": "2.0.0",
      "model_name": "LayoutModel",
      "state": {}
     },
     "84f782e7b2ab43aa80efd89ba98f6406": {
      "model_module": "@jupyter-widgets/controls",
      "model_module_version": "2.0.0",
      "model_name": "HTMLModel",
      "state": {
       "layout": "IPY_MODEL_293bcea711204559beca16fe4e3563e9",
       "style": "IPY_MODEL_11f13fdf0fff4877b09ece4af06b83d9",
       "value": "100%"
      }
     },
     "850281f751d649708843b219136624f8": {
      "model_module": "@jupyter-widgets/controls",
      "model_module_version": "2.0.0",
      "model_name": "HTMLModel",
      "state": {
       "layout": "IPY_MODEL_67b0d1061a0144c584e781c20e2ade80",
       "style": "IPY_MODEL_87075e8ef6814c508749579a521c18c0",
       "value": " 20/20 [00:00&lt;00:00, 291.22it/s]"
      }
     },
     "8558a0f027cd45b282f3160bed673e23": {
      "model_module": "@jupyter-widgets/base",
      "model_module_version": "2.0.0",
      "model_name": "LayoutModel",
      "state": {}
     },
     "856f2bc58ec84087bb324754c28362ca": {
      "model_module": "@jupyter-widgets/controls",
      "model_module_version": "2.0.0",
      "model_name": "HTMLModel",
      "state": {
       "layout": "IPY_MODEL_11929bf187ec4ab39c7bb004dd849eaa",
       "style": "IPY_MODEL_ae920ae3bb334f9d82f523e198eb9988",
       "value": "100%"
      }
     },
     "857ed340ffde4d709a37c433ec43763a": {
      "model_module": "@jupyter-widgets/controls",
      "model_module_version": "2.0.0",
      "model_name": "FloatProgressModel",
      "state": {
       "bar_style": "success",
       "layout": "IPY_MODEL_c605b428fd154a52b391674ff1caf588",
       "max": 22,
       "style": "IPY_MODEL_43b39e2d04a24f45857330838f6ad916",
       "value": 22
      }
     },
     "85c30dd2e7904f5da6adcafd2518b15d": {
      "model_module": "@jupyter-widgets/controls",
      "model_module_version": "2.0.0",
      "model_name": "ProgressStyleModel",
      "state": {
       "description_width": ""
      }
     },
     "85cdf573f65c4d8fa0e19083c6dc6dc1": {
      "model_module": "@jupyter-widgets/controls",
      "model_module_version": "2.0.0",
      "model_name": "HTMLModel",
      "state": {
       "layout": "IPY_MODEL_146bc3d98c914892be57afb3f2befe43",
       "style": "IPY_MODEL_bdebb425a83c49cdb1a60f70ed2f9b3e",
       "value": "100%"
      }
     },
     "85d3dd4c009f4109a69058b64eeb17cd": {
      "model_module": "@jupyter-widgets/controls",
      "model_module_version": "2.0.0",
      "model_name": "ProgressStyleModel",
      "state": {
       "description_width": ""
      }
     },
     "85d76baf7af74e06b97a5f86120b5067": {
      "model_module": "@jupyter-widgets/controls",
      "model_module_version": "2.0.0",
      "model_name": "HBoxModel",
      "state": {
       "children": [
        "IPY_MODEL_6d63d2c0004e4a1ca535bccd3b4bba07",
        "IPY_MODEL_b1058859426a4ddaa3d7852bb5647532",
        "IPY_MODEL_e95dce9509cf4c3a912d8a3c5e148ee4"
       ],
       "layout": "IPY_MODEL_ab46627223ba464595ccad563911c5a1"
      }
     },
     "85da582736a94e40843910098e4b6f29": {
      "model_module": "@jupyter-widgets/controls",
      "model_module_version": "2.0.0",
      "model_name": "HTMLStyleModel",
      "state": {
       "description_width": "",
       "font_size": null,
       "text_color": null
      }
     },
     "85e618ac77fe446db544f8e7c5d99a7a": {
      "model_module": "@jupyter-widgets/base",
      "model_module_version": "2.0.0",
      "model_name": "LayoutModel",
      "state": {}
     },
     "85e8f1ef8e2e448eac745035d66ee779": {
      "model_module": "@jupyter-widgets/controls",
      "model_module_version": "2.0.0",
      "model_name": "HTMLStyleModel",
      "state": {
       "description_width": "",
       "font_size": null,
       "text_color": null
      }
     },
     "8605a06121f14a2fbc07ec2b0b566399": {
      "model_module": "@jupyter-widgets/controls",
      "model_module_version": "2.0.0",
      "model_name": "HTMLModel",
      "state": {
       "layout": "IPY_MODEL_fe3622a0a45046308f4a5b77e633c802",
       "style": "IPY_MODEL_83b2e85a1ea442e58699773c5dcb5765",
       "value": " 21/21 [00:00&lt;00:00, 21.32it/s]"
      }
     },
     "860cf43cc6fa411b9fcab6ce2b6060a2": {
      "model_module": "@jupyter-widgets/controls",
      "model_module_version": "2.0.0",
      "model_name": "HTMLStyleModel",
      "state": {
       "description_width": "",
       "font_size": null,
       "text_color": null
      }
     },
     "861f16a1457a4000b14718d92669ff80": {
      "model_module": "@jupyter-widgets/controls",
      "model_module_version": "2.0.0",
      "model_name": "HBoxModel",
      "state": {
       "children": [
        "IPY_MODEL_f586fd9710b84721b01ab703e01c30f5",
        "IPY_MODEL_8a868d7175dc480685a0dfb12a4ada65",
        "IPY_MODEL_b54c5130afec441dbc8ba228c7ffe5ee"
       ],
       "layout": "IPY_MODEL_598f71095a354dceae8b9f83877fdef3"
      }
     },
     "862cb9f09ae64944ad7edaa2608283b3": {
      "model_module": "@jupyter-widgets/base",
      "model_module_version": "2.0.0",
      "model_name": "LayoutModel",
      "state": {}
     },
     "8672a5be26c048869487eadfa4a95b24": {
      "model_module": "@jupyter-widgets/controls",
      "model_module_version": "2.0.0",
      "model_name": "HTMLStyleModel",
      "state": {
       "description_width": "",
       "font_size": null,
       "text_color": null
      }
     },
     "868697c6ed4942ae8111bfb8f9bed218": {
      "model_module": "@jupyter-widgets/base",
      "model_module_version": "2.0.0",
      "model_name": "LayoutModel",
      "state": {}
     },
     "869eecef84c944f99c5b907dc9df89b4": {
      "model_module": "@jupyter-widgets/controls",
      "model_module_version": "2.0.0",
      "model_name": "HBoxModel",
      "state": {
       "children": [
        "IPY_MODEL_856f2bc58ec84087bb324754c28362ca",
        "IPY_MODEL_c246b5c2ab7e4a93b16d7772e4bef9b3",
        "IPY_MODEL_417b373a539243bcab65994e4af457f4"
       ],
       "layout": "IPY_MODEL_037d0d40cad44736b5eaa287484364ea"
      }
     },
     "869f3c0cae0848aaaed5e11e808fb290": {
      "model_module": "@jupyter-widgets/base",
      "model_module_version": "2.0.0",
      "model_name": "LayoutModel",
      "state": {}
     },
     "86d4a6466df64f00af04e926963dd99b": {
      "model_module": "@jupyter-widgets/controls",
      "model_module_version": "2.0.0",
      "model_name": "HBoxModel",
      "state": {
       "children": [
        "IPY_MODEL_4caa1d636370448583e71b58f44ddea2",
        "IPY_MODEL_30f51f00857041ada19bb6b6e0e9a7c3",
        "IPY_MODEL_b6553eddad7c4f30aa688945eacc6975"
       ],
       "layout": "IPY_MODEL_0e14b12075db4a6583f1e81d3c0767d3"
      }
     },
     "86f693820faf4bc9acc8ba181878be8f": {
      "model_module": "@jupyter-widgets/base",
      "model_module_version": "2.0.0",
      "model_name": "LayoutModel",
      "state": {}
     },
     "870301bd006d4bc8be983797aa02a038": {
      "model_module": "@jupyter-widgets/base",
      "model_module_version": "2.0.0",
      "model_name": "LayoutModel",
      "state": {}
     },
     "87075e8ef6814c508749579a521c18c0": {
      "model_module": "@jupyter-widgets/controls",
      "model_module_version": "2.0.0",
      "model_name": "HTMLStyleModel",
      "state": {
       "description_width": "",
       "font_size": null,
       "text_color": null
      }
     },
     "871d19c7c34948bd837c740de113c2d2": {
      "model_module": "@jupyter-widgets/controls",
      "model_module_version": "2.0.0",
      "model_name": "HTMLStyleModel",
      "state": {
       "description_width": "",
       "font_size": null,
       "text_color": null
      }
     },
     "87259aadeefe47aca688c433c3aeca2d": {
      "model_module": "@jupyter-widgets/base",
      "model_module_version": "2.0.0",
      "model_name": "LayoutModel",
      "state": {}
     },
     "8726000285ea48b0a08d0a086876dc1c": {
      "model_module": "@jupyter-widgets/base",
      "model_module_version": "2.0.0",
      "model_name": "LayoutModel",
      "state": {}
     },
     "873b6a1b31a74208ab72a97c31dfb74c": {
      "model_module": "@jupyter-widgets/controls",
      "model_module_version": "2.0.0",
      "model_name": "HTMLModel",
      "state": {
       "layout": "IPY_MODEL_ed671c747c8e4505a032d124271ee01e",
       "style": "IPY_MODEL_cd7f885c04d149a5846a46e93eb6d9c6",
       "value": "100%"
      }
     },
     "873bb2bfe62e46969c00dfde78002793": {
      "model_module": "@jupyter-widgets/controls",
      "model_module_version": "2.0.0",
      "model_name": "FloatProgressModel",
      "state": {
       "bar_style": "success",
       "layout": "IPY_MODEL_ee67c5b38cb4450a86dd1d7955a62d16",
       "max": 23,
       "style": "IPY_MODEL_7b6a4126fdb245539e5b5301a3bc32c9",
       "value": 23
      }
     },
     "87441247a8f540dbbd72bde699ca789d": {
      "model_module": "@jupyter-widgets/controls",
      "model_module_version": "2.0.0",
      "model_name": "HTMLStyleModel",
      "state": {
       "description_width": "",
       "font_size": null,
       "text_color": null
      }
     },
     "87718535e1ba49af8cfb01089acfc514": {
      "model_module": "@jupyter-widgets/base",
      "model_module_version": "2.0.0",
      "model_name": "LayoutModel",
      "state": {}
     },
     "879ad547f30a491cb72b3f84e12b614f": {
      "model_module": "@jupyter-widgets/controls",
      "model_module_version": "2.0.0",
      "model_name": "HTMLModel",
      "state": {
       "layout": "IPY_MODEL_ab749056a4114b7d834f17d5acad7ddf",
       "style": "IPY_MODEL_36182aa08ff24d9998b086f55a43f85a",
       "value": " 23/23 [00:00&lt;00:00, 432.76it/s]"
      }
     },
     "87bc9492a3c3440f8c077f4f5c3592fb": {
      "model_module": "@jupyter-widgets/controls",
      "model_module_version": "2.0.0",
      "model_name": "HTMLModel",
      "state": {
       "layout": "IPY_MODEL_48ec66d867b0419b8d78cf90ea6edeed",
       "style": "IPY_MODEL_cebb89dd7f9841b1a6f0554b735b1f58",
       "value": " 21/21 [00:00&lt;00:00, 42.36it/s]"
      }
     },
     "87dbb207807a424b96b04f5ede4ae5a4": {
      "model_module": "@jupyter-widgets/controls",
      "model_module_version": "2.0.0",
      "model_name": "ProgressStyleModel",
      "state": {
       "description_width": ""
      }
     },
     "88006ccbda614c9089c98c8c3b50ec5c": {
      "model_module": "@jupyter-widgets/base",
      "model_module_version": "2.0.0",
      "model_name": "LayoutModel",
      "state": {}
     },
     "8809fb5a5c6446d49455ee953fc7922f": {
      "model_module": "@jupyter-widgets/controls",
      "model_module_version": "2.0.0",
      "model_name": "HTMLModel",
      "state": {
       "layout": "IPY_MODEL_f2d5db61f9c746709829f7d27321c2c7",
       "style": "IPY_MODEL_64b4d7a782c04c1a8f972cc1089e8491",
       "value": " 22/22 [00:00&lt;00:00, 48.99it/s]"
      }
     },
     "881fe5edb8ef4507ba3c8873e51c7abd": {
      "model_module": "@jupyter-widgets/base",
      "model_module_version": "2.0.0",
      "model_name": "LayoutModel",
      "state": {}
     },
     "8841f3b5f6cf48cd8e65459c67727693": {
      "model_module": "@jupyter-widgets/base",
      "model_module_version": "2.0.0",
      "model_name": "LayoutModel",
      "state": {}
     },
     "88ab9b68f66a44dbba4665f9d9ba24df": {
      "model_module": "@jupyter-widgets/controls",
      "model_module_version": "2.0.0",
      "model_name": "HTMLStyleModel",
      "state": {
       "description_width": "",
       "font_size": null,
       "text_color": null
      }
     },
     "88d2b24ce1214240a53da59d865be788": {
      "model_module": "@jupyter-widgets/controls",
      "model_module_version": "2.0.0",
      "model_name": "FloatProgressModel",
      "state": {
       "bar_style": "success",
       "layout": "IPY_MODEL_f149fcf0d2844bb88a372fd0e39d8aec",
       "max": 21,
       "style": "IPY_MODEL_95023e2d566a4cfaa9d0ddae7fe53cfb",
       "value": 21
      }
     },
     "890d50ab038e47798f7bca66202d26a4": {
      "model_module": "@jupyter-widgets/base",
      "model_module_version": "2.0.0",
      "model_name": "LayoutModel",
      "state": {}
     },
     "8919ae16b196487abad921ddd5625f1b": {
      "model_module": "@jupyter-widgets/base",
      "model_module_version": "2.0.0",
      "model_name": "LayoutModel",
      "state": {}
     },
     "891e96b218b14a54b60e1f4ad3f5d283": {
      "model_module": "@jupyter-widgets/controls",
      "model_module_version": "2.0.0",
      "model_name": "HTMLStyleModel",
      "state": {
       "description_width": "",
       "font_size": null,
       "text_color": null
      }
     },
     "894e91d12e044941a6d0ea9e5a859086": {
      "model_module": "@jupyter-widgets/controls",
      "model_module_version": "2.0.0",
      "model_name": "FloatProgressModel",
      "state": {
       "bar_style": "success",
       "layout": "IPY_MODEL_9352df132f2047ecae3153af4f0c8891",
       "max": 21,
       "style": "IPY_MODEL_c083bb6c878e41adbd14a04c46f329cc",
       "value": 21
      }
     },
     "895f595c297945659befc0f69ba889ff": {
      "model_module": "@jupyter-widgets/controls",
      "model_module_version": "2.0.0",
      "model_name": "HTMLModel",
      "state": {
       "layout": "IPY_MODEL_982a48dc869043c3baf1b2ec6f8792c0",
       "style": "IPY_MODEL_af13416d999048b8be1df31659826c85",
       "value": "100%"
      }
     },
     "8969197b20e544a992e3be606d6206eb": {
      "model_module": "@jupyter-widgets/controls",
      "model_module_version": "2.0.0",
      "model_name": "HTMLStyleModel",
      "state": {
       "description_width": "",
       "font_size": null,
       "text_color": null
      }
     },
     "89712e2a70f442e1a239373e00b88ebd": {
      "model_module": "@jupyter-widgets/base",
      "model_module_version": "2.0.0",
      "model_name": "LayoutModel",
      "state": {}
     },
     "899ef48d5a014cd694c9c53250619787": {
      "model_module": "@jupyter-widgets/controls",
      "model_module_version": "2.0.0",
      "model_name": "HTMLStyleModel",
      "state": {
       "description_width": "",
       "font_size": null,
       "text_color": null
      }
     },
     "89a66f5522f0480ab61ffd68e8aa569a": {
      "model_module": "@jupyter-widgets/base",
      "model_module_version": "2.0.0",
      "model_name": "LayoutModel",
      "state": {}
     },
     "89fd6aedb48c454cb2e4990f10cd8644": {
      "model_module": "@jupyter-widgets/controls",
      "model_module_version": "2.0.0",
      "model_name": "HBoxModel",
      "state": {
       "children": [
        "IPY_MODEL_16ee41c16a104c3281b3939298e07f4c",
        "IPY_MODEL_24303cb029404d4bb2cfa66f98727e65",
        "IPY_MODEL_cbf6e4d18a80400f83facb78d1ca1920"
       ],
       "layout": "IPY_MODEL_641bec61acfe41739e8edb8c1b0ef22f"
      }
     },
     "8a2452bb64ff42b1969a82c3cc463dd8": {
      "model_module": "@jupyter-widgets/controls",
      "model_module_version": "2.0.0",
      "model_name": "HTMLModel",
      "state": {
       "layout": "IPY_MODEL_900e023ce48341c3b3fac05b4259c729",
       "style": "IPY_MODEL_e0110f8a97624430bbb810cf04e51368",
       "value": " 21/21 [00:00&lt;00:00, 20.83it/s]"
      }
     },
     "8a7d504f7b074a2583e7d5f7837797e0": {
      "model_module": "@jupyter-widgets/controls",
      "model_module_version": "2.0.0",
      "model_name": "HBoxModel",
      "state": {
       "children": [
        "IPY_MODEL_480d4b89c1f54bcaba05a4bb49a6f143",
        "IPY_MODEL_2a8ac54fe8eb46deb9342ec213f40cc7",
        "IPY_MODEL_53dd5d7f423949ddaa6d75f3e00fd211"
       ],
       "layout": "IPY_MODEL_e79cc4f9c94248d9ad96282cbf8941f1"
      }
     },
     "8a80e37b4da640168bd2af41fcd35983": {
      "model_module": "@jupyter-widgets/controls",
      "model_module_version": "2.0.0",
      "model_name": "FloatProgressModel",
      "state": {
       "bar_style": "success",
       "layout": "IPY_MODEL_83d37fffe2c64ddbae24679403e736c9",
       "max": 21,
       "style": "IPY_MODEL_c4a084c144da4ef89a07b6c21616a379",
       "value": 21
      }
     },
     "8a868d7175dc480685a0dfb12a4ada65": {
      "model_module": "@jupyter-widgets/controls",
      "model_module_version": "2.0.0",
      "model_name": "FloatProgressModel",
      "state": {
       "bar_style": "success",
       "layout": "IPY_MODEL_d3abd83d6625470a84fd7bedf1ff3969",
       "max": 20,
       "style": "IPY_MODEL_fef240f2e4894923b3637df5c979379c",
       "value": 20
      }
     },
     "8a8eecc135d7465b82617b22a9d49b9a": {
      "model_module": "@jupyter-widgets/controls",
      "model_module_version": "2.0.0",
      "model_name": "HTMLStyleModel",
      "state": {
       "description_width": "",
       "font_size": null,
       "text_color": null
      }
     },
     "8ab4db957e754381879183b04285263c": {
      "model_module": "@jupyter-widgets/controls",
      "model_module_version": "2.0.0",
      "model_name": "FloatProgressModel",
      "state": {
       "bar_style": "success",
       "layout": "IPY_MODEL_6a453bbad58c42efb39182d15a8a0649",
       "max": 23,
       "style": "IPY_MODEL_97dff542f38b4395ae3c9159a356fd99",
       "value": 23
      }
     },
     "8ab5cfd4074f49f7ac826dbfb205badf": {
      "model_module": "@jupyter-widgets/controls",
      "model_module_version": "2.0.0",
      "model_name": "HTMLModel",
      "state": {
       "layout": "IPY_MODEL_2f3b351ee777474789daadd92081c89b",
       "style": "IPY_MODEL_7844a12b815240deb5e74ec9504bdbaf",
       "value": " 21/21 [00:00&lt;00:00, 41.77it/s]"
      }
     },
     "8ab630feae364389b44bd73e1305f9d6": {
      "model_module": "@jupyter-widgets/controls",
      "model_module_version": "2.0.0",
      "model_name": "HTMLModel",
      "state": {
       "layout": "IPY_MODEL_c844c6268fa742d49321a695c26055bc",
       "style": "IPY_MODEL_d57b913422194d96ad2692a95ebc3024",
       "value": " 23/23 [00:00&lt;00:00, 49.91it/s]"
      }
     },
     "8ab6449940014deb9f039e3b97554050": {
      "model_module": "@jupyter-widgets/base",
      "model_module_version": "2.0.0",
      "model_name": "LayoutModel",
      "state": {}
     },
     "8ae9e44dc8324574a1bad40f47607dec": {
      "model_module": "@jupyter-widgets/controls",
      "model_module_version": "2.0.0",
      "model_name": "HTMLStyleModel",
      "state": {
       "description_width": "",
       "font_size": null,
       "text_color": null
      }
     },
     "8aed409d5b7646d5b7a01292b02281ee": {
      "model_module": "@jupyter-widgets/controls",
      "model_module_version": "2.0.0",
      "model_name": "HTMLModel",
      "state": {
       "layout": "IPY_MODEL_29e109362e504af1874ad6d568acef62",
       "style": "IPY_MODEL_0bcd4215e5a1492f8fec6b40fda752b5",
       "value": "100%"
      }
     },
     "8af444070f9e4677a13b1d6d71a7372c": {
      "model_module": "@jupyter-widgets/base",
      "model_module_version": "2.0.0",
      "model_name": "LayoutModel",
      "state": {}
     },
     "8af642a9df654b9b8dc889cee6e4174d": {
      "model_module": "@jupyter-widgets/controls",
      "model_module_version": "2.0.0",
      "model_name": "HTMLStyleModel",
      "state": {
       "description_width": "",
       "font_size": null,
       "text_color": null
      }
     },
     "8af7e42f95f344cba9034780ff80e9ee": {
      "model_module": "@jupyter-widgets/controls",
      "model_module_version": "2.0.0",
      "model_name": "HTMLModel",
      "state": {
       "layout": "IPY_MODEL_3e41ef261c2a4917862df20de78b0cdf",
       "style": "IPY_MODEL_e51c18b59f3546e597d92b7b756ac4d0",
       "value": " 21/21 [00:00&lt;00:00, 49.74it/s]"
      }
     },
     "8b0b2571e13e4be1b0ff38aff0325bb4": {
      "model_module": "@jupyter-widgets/controls",
      "model_module_version": "2.0.0",
      "model_name": "HTMLStyleModel",
      "state": {
       "description_width": "",
       "font_size": null,
       "text_color": null
      }
     },
     "8b17979ff32548edae3a91188e4044bf": {
      "model_module": "@jupyter-widgets/controls",
      "model_module_version": "2.0.0",
      "model_name": "HTMLModel",
      "state": {
       "layout": "IPY_MODEL_909222a70fb04d03baace899c996f5fa",
       "style": "IPY_MODEL_a91c2db87ba64ca48d1147636a626320",
       "value": "100%"
      }
     },
     "8b19a716251e4914bd0391d643297a6e": {
      "model_module": "@jupyter-widgets/controls",
      "model_module_version": "2.0.0",
      "model_name": "HTMLModel",
      "state": {
       "layout": "IPY_MODEL_089947d17cf04ea3b219f0e8070a4767",
       "style": "IPY_MODEL_07009820049b44a39bc747acda27ff4c",
       "value": " 21/21 [00:00&lt;00:00, 34.59it/s]"
      }
     },
     "8b1f919662bf4db2b9deabea98d9b91e": {
      "model_module": "@jupyter-widgets/controls",
      "model_module_version": "2.0.0",
      "model_name": "HBoxModel",
      "state": {
       "children": [
        "IPY_MODEL_e8a54cf467754faeb0880146347b64f6",
        "IPY_MODEL_93850d6a67424ae6a7039a9e6f6f9250",
        "IPY_MODEL_0f643722c1744b4e8f8716f24cb42a36"
       ],
       "layout": "IPY_MODEL_4da96c613152409398c40be405347421"
      }
     },
     "8b3a0d0bdcfa46bda8424a9216444ae0": {
      "model_module": "@jupyter-widgets/controls",
      "model_module_version": "2.0.0",
      "model_name": "ProgressStyleModel",
      "state": {
       "description_width": ""
      }
     },
     "8b83c27d0b124c168faa39238d9343ac": {
      "model_module": "@jupyter-widgets/controls",
      "model_module_version": "2.0.0",
      "model_name": "HTMLStyleModel",
      "state": {
       "description_width": "",
       "font_size": null,
       "text_color": null
      }
     },
     "8b958fffd1044d0583652b49a9a2a26d": {
      "model_module": "@jupyter-widgets/controls",
      "model_module_version": "2.0.0",
      "model_name": "HTMLModel",
      "state": {
       "layout": "IPY_MODEL_ab70a7d713d0452a9ac80069c603d9f7",
       "style": "IPY_MODEL_29de47ac03104e11a2998fdecfe4a2a1",
       "value": "100%"
      }
     },
     "8bcb496a14e1413f9045964575a9739b": {
      "model_module": "@jupyter-widgets/controls",
      "model_module_version": "2.0.0",
      "model_name": "HTMLStyleModel",
      "state": {
       "description_width": "",
       "font_size": null,
       "text_color": null
      }
     },
     "8bcd7a8687a341e6971262f0f6ffe4b6": {
      "model_module": "@jupyter-widgets/controls",
      "model_module_version": "2.0.0",
      "model_name": "HBoxModel",
      "state": {
       "children": [
        "IPY_MODEL_69d6faedcb1f4dbebd922fd2daaf0dc3",
        "IPY_MODEL_8a80e37b4da640168bd2af41fcd35983",
        "IPY_MODEL_f9b0a6f2f00f4e539f1277295bc58bad"
       ],
       "layout": "IPY_MODEL_315cda70662b4cf39bf9cfaaf92e4f22"
      }
     },
     "8bf43cffd3494fe58610913f04e08f0b": {
      "model_module": "@jupyter-widgets/controls",
      "model_module_version": "2.0.0",
      "model_name": "HTMLStyleModel",
      "state": {
       "description_width": "",
       "font_size": null,
       "text_color": null
      }
     },
     "8bfc91ee6bdf4d33afb71bb59bca26ba": {
      "model_module": "@jupyter-widgets/controls",
      "model_module_version": "2.0.0",
      "model_name": "HTMLStyleModel",
      "state": {
       "description_width": "",
       "font_size": null,
       "text_color": null
      }
     },
     "8ca72801cdac4141a09f6e21509571af": {
      "model_module": "@jupyter-widgets/base",
      "model_module_version": "2.0.0",
      "model_name": "LayoutModel",
      "state": {}
     },
     "8cbd61d62b6743ae9433f5eb57c70c80": {
      "model_module": "@jupyter-widgets/controls",
      "model_module_version": "2.0.0",
      "model_name": "ProgressStyleModel",
      "state": {
       "description_width": ""
      }
     },
     "8cd5733ec2bb465f83aa2e0ea84e8add": {
      "model_module": "@jupyter-widgets/controls",
      "model_module_version": "2.0.0",
      "model_name": "HTMLModel",
      "state": {
       "layout": "IPY_MODEL_9cade23f53ef4d75abda8b7d7d29094f",
       "style": "IPY_MODEL_4c0140d930e544ee810c3d5d310803c0",
       "value": "100%"
      }
     },
     "8cf1c6015e1d471094067f69c9357948": {
      "model_module": "@jupyter-widgets/base",
      "model_module_version": "2.0.0",
      "model_name": "LayoutModel",
      "state": {}
     },
     "8d14f93aad8842c5ab10c726e4c4f228": {
      "model_module": "@jupyter-widgets/base",
      "model_module_version": "2.0.0",
      "model_name": "LayoutModel",
      "state": {}
     },
     "8d2db5ffc3ac4b9497cfda441565865e": {
      "model_module": "@jupyter-widgets/controls",
      "model_module_version": "2.0.0",
      "model_name": "HTMLStyleModel",
      "state": {
       "description_width": "",
       "font_size": null,
       "text_color": null
      }
     },
     "8d39fd04608843f2b1e8fbbc83e633a4": {
      "model_module": "@jupyter-widgets/controls",
      "model_module_version": "2.0.0",
      "model_name": "HBoxModel",
      "state": {
       "children": [
        "IPY_MODEL_bd3b10cf12c14adca6fe380d94b656b6",
        "IPY_MODEL_010cd0528d1f4395bd5c9c33668823b8",
        "IPY_MODEL_9c0f00828708440ba0fc6341b216dce8"
       ],
       "layout": "IPY_MODEL_ee403c3b4f4e44cea2fb7d942e0cbb06"
      }
     },
     "8d5763e8c7c04534997c6da0524a7327": {
      "model_module": "@jupyter-widgets/controls",
      "model_module_version": "2.0.0",
      "model_name": "HTMLStyleModel",
      "state": {
       "description_width": "",
       "font_size": null,
       "text_color": null
      }
     },
     "8d602c4465654951a66ce6f0c168ee12": {
      "model_module": "@jupyter-widgets/base",
      "model_module_version": "2.0.0",
      "model_name": "LayoutModel",
      "state": {}
     },
     "8d6b0570ce66459daf928c14fbb0aaf1": {
      "model_module": "@jupyter-widgets/controls",
      "model_module_version": "2.0.0",
      "model_name": "HTMLStyleModel",
      "state": {
       "description_width": "",
       "font_size": null,
       "text_color": null
      }
     },
     "8d6f12b1d4e2402fb635094603f967f5": {
      "model_module": "@jupyter-widgets/base",
      "model_module_version": "2.0.0",
      "model_name": "LayoutModel",
      "state": {}
     },
     "8d6f8462b2454f009ccbd4857bae5a8d": {
      "model_module": "@jupyter-widgets/controls",
      "model_module_version": "2.0.0",
      "model_name": "HTMLStyleModel",
      "state": {
       "description_width": "",
       "font_size": null,
       "text_color": null
      }
     },
     "8d91a79530344ed1aa0a480193847cc7": {
      "model_module": "@jupyter-widgets/controls",
      "model_module_version": "2.0.0",
      "model_name": "HTMLStyleModel",
      "state": {
       "description_width": "",
       "font_size": null,
       "text_color": null
      }
     },
     "8d9dd6f09f664660878882932ce4e385": {
      "model_module": "@jupyter-widgets/controls",
      "model_module_version": "2.0.0",
      "model_name": "ProgressStyleModel",
      "state": {
       "description_width": ""
      }
     },
     "8dab4374dc204fbe86cbd9bbaeb92700": {
      "model_module": "@jupyter-widgets/base",
      "model_module_version": "2.0.0",
      "model_name": "LayoutModel",
      "state": {}
     },
     "8dc41fc499e64afba20aed3da13a40a2": {
      "model_module": "@jupyter-widgets/controls",
      "model_module_version": "2.0.0",
      "model_name": "HTMLStyleModel",
      "state": {
       "description_width": "",
       "font_size": null,
       "text_color": null
      }
     },
     "8e33a46b40e34c89a69d5b66c7c7bdf1": {
      "model_module": "@jupyter-widgets/controls",
      "model_module_version": "2.0.0",
      "model_name": "HTMLModel",
      "state": {
       "layout": "IPY_MODEL_0cf5b09f8c0d4932ade1afd8c87962cb",
       "style": "IPY_MODEL_2f5797c93fa3412c8d0a8a83af424825",
       "value": " 23/23 [00:00&lt;00:00, 41.78it/s]"
      }
     },
     "8e49b7af35b044f498b6ae195f47bee5": {
      "model_module": "@jupyter-widgets/base",
      "model_module_version": "2.0.0",
      "model_name": "LayoutModel",
      "state": {}
     },
     "8e77570e00ba402190b4f23029e062c3": {
      "model_module": "@jupyter-widgets/base",
      "model_module_version": "2.0.0",
      "model_name": "LayoutModel",
      "state": {}
     },
     "8e9448f628f0426db3125a27d8835483": {
      "model_module": "@jupyter-widgets/controls",
      "model_module_version": "2.0.0",
      "model_name": "HTMLStyleModel",
      "state": {
       "description_width": "",
       "font_size": null,
       "text_color": null
      }
     },
     "8e9c60b14bfa49afba21100a348ff599": {
      "model_module": "@jupyter-widgets/controls",
      "model_module_version": "2.0.0",
      "model_name": "FloatProgressModel",
      "state": {
       "bar_style": "success",
       "layout": "IPY_MODEL_d8074f56675d416d9ee1be2ffeac8775",
       "max": 23,
       "style": "IPY_MODEL_69835db911994aadb7d5bed386728e9a",
       "value": 23
      }
     },
     "8ee403302cd54149b225f3560ff7f365": {
      "model_module": "@jupyter-widgets/base",
      "model_module_version": "2.0.0",
      "model_name": "LayoutModel",
      "state": {}
     },
     "8efc04a87e874cfdaba18b3fe9ef95f6": {
      "model_module": "@jupyter-widgets/base",
      "model_module_version": "2.0.0",
      "model_name": "LayoutModel",
      "state": {}
     },
     "8f0c2e12213f48b89ece9d81775c5854": {
      "model_module": "@jupyter-widgets/controls",
      "model_module_version": "2.0.0",
      "model_name": "HTMLModel",
      "state": {
       "layout": "IPY_MODEL_179ad61ff44e4de78f9aff7f8023ad00",
       "style": "IPY_MODEL_db903f2d228744e395249040f38acf1b",
       "value": " 21/21 [00:00&lt;00:00, 45.09it/s]"
      }
     },
     "8f0c49a71317452ab8537af4a385893a": {
      "model_module": "@jupyter-widgets/controls",
      "model_module_version": "2.0.0",
      "model_name": "HTMLModel",
      "state": {
       "layout": "IPY_MODEL_8558a0f027cd45b282f3160bed673e23",
       "style": "IPY_MODEL_6dd3ade6c4af42e69c4a1a63f5c31436",
       "value": " 22/22 [00:01&lt;00:00, 20.60it/s]"
      }
     },
     "8f0e45108bac43e5bad8316f25408475": {
      "model_module": "@jupyter-widgets/base",
      "model_module_version": "2.0.0",
      "model_name": "LayoutModel",
      "state": {}
     },
     "8f1838d940744bd2af69c070606a9131": {
      "model_module": "@jupyter-widgets/base",
      "model_module_version": "2.0.0",
      "model_name": "LayoutModel",
      "state": {}
     },
     "8f21eda622424b91aed548deef324041": {
      "model_module": "@jupyter-widgets/controls",
      "model_module_version": "2.0.0",
      "model_name": "ProgressStyleModel",
      "state": {
       "description_width": ""
      }
     },
     "8f3114df0fd54c8993838f26a4832455": {
      "model_module": "@jupyter-widgets/controls",
      "model_module_version": "2.0.0",
      "model_name": "HTMLModel",
      "state": {
       "layout": "IPY_MODEL_4c320241c7704010a19c980bfe530bb5",
       "style": "IPY_MODEL_bda1e77698614636b756e0cf0dce1997",
       "value": "100%"
      }
     },
     "8f67506dd5034834a456fbe6c576d196": {
      "model_module": "@jupyter-widgets/controls",
      "model_module_version": "2.0.0",
      "model_name": "HTMLStyleModel",
      "state": {
       "description_width": "",
       "font_size": null,
       "text_color": null
      }
     },
     "8facf0b0ae874d0db5c4f1e4bae4e162": {
      "model_module": "@jupyter-widgets/base",
      "model_module_version": "2.0.0",
      "model_name": "LayoutModel",
      "state": {}
     },
     "8fc23118bd1a44e49b0a1fcf07068870": {
      "model_module": "@jupyter-widgets/base",
      "model_module_version": "2.0.0",
      "model_name": "LayoutModel",
      "state": {}
     },
     "8fd4d00ff45f4a2e8fe20fd31f287673": {
      "model_module": "@jupyter-widgets/base",
      "model_module_version": "2.0.0",
      "model_name": "LayoutModel",
      "state": {}
     },
     "8ff8c8c7c19e44a3b65bbfccdea6ae38": {
      "model_module": "@jupyter-widgets/controls",
      "model_module_version": "2.0.0",
      "model_name": "HTMLModel",
      "state": {
       "layout": "IPY_MODEL_0274cfa3f06840ad90bfac59982a68bd",
       "style": "IPY_MODEL_91bd797b33504a18b71ee912e8fc9900",
       "value": " 21/21 [00:00&lt;00:00, 42.02it/s]"
      }
     },
     "8ffa5c1ec49b42cf9d31b1553ec462b3": {
      "model_module": "@jupyter-widgets/controls",
      "model_module_version": "2.0.0",
      "model_name": "HTMLStyleModel",
      "state": {
       "description_width": "",
       "font_size": null,
       "text_color": null
      }
     },
     "9004310c06214ce7847a4eb1150312a7": {
      "model_module": "@jupyter-widgets/controls",
      "model_module_version": "2.0.0",
      "model_name": "HTMLStyleModel",
      "state": {
       "description_width": "",
       "font_size": null,
       "text_color": null
      }
     },
     "900e023ce48341c3b3fac05b4259c729": {
      "model_module": "@jupyter-widgets/base",
      "model_module_version": "2.0.0",
      "model_name": "LayoutModel",
      "state": {}
     },
     "9014fecd30614c6b9a9109d204cd38bb": {
      "model_module": "@jupyter-widgets/base",
      "model_module_version": "2.0.0",
      "model_name": "LayoutModel",
      "state": {}
     },
     "902c65f071794359ac5274cc6141f404": {
      "model_module": "@jupyter-widgets/controls",
      "model_module_version": "2.0.0",
      "model_name": "HTMLStyleModel",
      "state": {
       "description_width": "",
       "font_size": null,
       "text_color": null
      }
     },
     "902cfa639dc64d289204cb44cf6e845f": {
      "model_module": "@jupyter-widgets/base",
      "model_module_version": "2.0.0",
      "model_name": "LayoutModel",
      "state": {}
     },
     "90432266dd374283ba464ca7f2f2f98d": {
      "model_module": "@jupyter-widgets/controls",
      "model_module_version": "2.0.0",
      "model_name": "FloatProgressModel",
      "state": {
       "bar_style": "success",
       "layout": "IPY_MODEL_b4e323f679c3412b9b98ffd284d99ea3",
       "max": 23,
       "style": "IPY_MODEL_f9ee539f272e40b183569d9ca318c79f",
       "value": 23
      }
     },
     "904da93be7a04bc6ab1542a9192b8c83": {
      "model_module": "@jupyter-widgets/controls",
      "model_module_version": "2.0.0",
      "model_name": "HTMLStyleModel",
      "state": {
       "description_width": "",
       "font_size": null,
       "text_color": null
      }
     },
     "907eea4396004e7592555889595c0f8c": {
      "model_module": "@jupyter-widgets/controls",
      "model_module_version": "2.0.0",
      "model_name": "FloatProgressModel",
      "state": {
       "bar_style": "success",
       "layout": "IPY_MODEL_7fbaca2b4d994178ad8b9c663e71d297",
       "max": 20,
       "style": "IPY_MODEL_d0c50c5b511e42f3b2c8cc795d9019de",
       "value": 20
      }
     },
     "9081b13e72594893a387ab10e67b0960": {
      "model_module": "@jupyter-widgets/base",
      "model_module_version": "2.0.0",
      "model_name": "LayoutModel",
      "state": {}
     },
     "909222a70fb04d03baace899c996f5fa": {
      "model_module": "@jupyter-widgets/base",
      "model_module_version": "2.0.0",
      "model_name": "LayoutModel",
      "state": {}
     },
     "90b6a115c3464c39951f232e8067ef21": {
      "model_module": "@jupyter-widgets/base",
      "model_module_version": "2.0.0",
      "model_name": "LayoutModel",
      "state": {}
     },
     "90cd8551d4f54ec99c8e3304c780a041": {
      "model_module": "@jupyter-widgets/controls",
      "model_module_version": "2.0.0",
      "model_name": "HBoxModel",
      "state": {
       "children": [
        "IPY_MODEL_2f506f9ca344429990532d6da2565bc5",
        "IPY_MODEL_4a92966d181e44d782fdd2ccd85d5f47",
        "IPY_MODEL_0163c4c90573432fa0dbb6b26cf24532"
       ],
       "layout": "IPY_MODEL_0ac080b090e94dfa980872911a336b70"
      }
     },
     "90dfa49109444508b8b1a28bb75f2fba": {
      "model_module": "@jupyter-widgets/base",
      "model_module_version": "2.0.0",
      "model_name": "LayoutModel",
      "state": {}
     },
     "90fec0307e2e4f7f9edfcdb913e2cca4": {
      "model_module": "@jupyter-widgets/controls",
      "model_module_version": "2.0.0",
      "model_name": "HBoxModel",
      "state": {
       "children": [
        "IPY_MODEL_a5bfa92de6b440ad80df5d50de384937",
        "IPY_MODEL_0eee42f5b88f467eb3b19c13e5966b13",
        "IPY_MODEL_33094acb302446d1809afcc603b13986"
       ],
       "layout": "IPY_MODEL_d5cbce6c599c4e5586ae5d3b8ae50e02"
      }
     },
     "91270933347f491e8fd9c9e2e2b162de": {
      "model_module": "@jupyter-widgets/base",
      "model_module_version": "2.0.0",
      "model_name": "LayoutModel",
      "state": {}
     },
     "9144950f58e84f3798830e06116045dd": {
      "model_module": "@jupyter-widgets/base",
      "model_module_version": "2.0.0",
      "model_name": "LayoutModel",
      "state": {}
     },
     "9150c9dae7d544e7a7e23d8b659375ca": {
      "model_module": "@jupyter-widgets/base",
      "model_module_version": "2.0.0",
      "model_name": "LayoutModel",
      "state": {}
     },
     "9169544d2a8146668c27c72e59b9376e": {
      "model_module": "@jupyter-widgets/controls",
      "model_module_version": "2.0.0",
      "model_name": "HTMLStyleModel",
      "state": {
       "description_width": "",
       "font_size": null,
       "text_color": null
      }
     },
     "91860661530e42fc9aae1bd298d3cb37": {
      "model_module": "@jupyter-widgets/base",
      "model_module_version": "2.0.0",
      "model_name": "LayoutModel",
      "state": {}
     },
     "91961706157c472bb7b72fd0ac72bb18": {
      "model_module": "@jupyter-widgets/base",
      "model_module_version": "2.0.0",
      "model_name": "LayoutModel",
      "state": {}
     },
     "91a4e0997c0149fcb383d882b3cfb078": {
      "model_module": "@jupyter-widgets/controls",
      "model_module_version": "2.0.0",
      "model_name": "ProgressStyleModel",
      "state": {
       "description_width": ""
      }
     },
     "91a96d01873641eebf1edb24ccd826fd": {
      "model_module": "@jupyter-widgets/controls",
      "model_module_version": "2.0.0",
      "model_name": "HBoxModel",
      "state": {
       "children": [
        "IPY_MODEL_afd0f7b5da964544b4f6f950c182c797",
        "IPY_MODEL_458bdc1b65784d80bb01c69eba4dd9ad",
        "IPY_MODEL_096f1e8b95594d88b5e5750ab43ae546"
       ],
       "layout": "IPY_MODEL_6e3dd6bfdb0940f38d51ed3c7cb30c97"
      }
     },
     "91bd797b33504a18b71ee912e8fc9900": {
      "model_module": "@jupyter-widgets/controls",
      "model_module_version": "2.0.0",
      "model_name": "HTMLStyleModel",
      "state": {
       "description_width": "",
       "font_size": null,
       "text_color": null
      }
     },
     "91be18c5c34245738bbfd6c1894db605": {
      "model_module": "@jupyter-widgets/controls",
      "model_module_version": "2.0.0",
      "model_name": "HBoxModel",
      "state": {
       "children": [
        "IPY_MODEL_8b17979ff32548edae3a91188e4044bf",
        "IPY_MODEL_150f1ee70f9e4743a21628cfc8ca31be",
        "IPY_MODEL_7aaf0ca60668498a80d876fbcdeddd96"
       ],
       "layout": "IPY_MODEL_e64c89efcbb749d0ac04fe882b917094"
      }
     },
     "91da560d501647119e1f6ce0eba7d0af": {
      "model_module": "@jupyter-widgets/controls",
      "model_module_version": "2.0.0",
      "model_name": "HTMLModel",
      "state": {
       "layout": "IPY_MODEL_870301bd006d4bc8be983797aa02a038",
       "style": "IPY_MODEL_0790465c53d84d098d97d4ebf8d9532c",
       "value": " 22/22 [00:00&lt;00:00, 394.82it/s]"
      }
     },
     "92791acbca6f4b71a8167b34fa55fd71": {
      "model_module": "@jupyter-widgets/base",
      "model_module_version": "2.0.0",
      "model_name": "LayoutModel",
      "state": {}
     },
     "928f6fc23c0345e8bb2cfd2d5114c01a": {
      "model_module": "@jupyter-widgets/base",
      "model_module_version": "2.0.0",
      "model_name": "LayoutModel",
      "state": {}
     },
     "9352df132f2047ecae3153af4f0c8891": {
      "model_module": "@jupyter-widgets/base",
      "model_module_version": "2.0.0",
      "model_name": "LayoutModel",
      "state": {}
     },
     "93730e8d5dc64086849df0bef237a2ae": {
      "model_module": "@jupyter-widgets/controls",
      "model_module_version": "2.0.0",
      "model_name": "HTMLStyleModel",
      "state": {
       "description_width": "",
       "font_size": null,
       "text_color": null
      }
     },
     "937e7374e399485faeefcc226ac84f87": {
      "model_module": "@jupyter-widgets/controls",
      "model_module_version": "2.0.0",
      "model_name": "ProgressStyleModel",
      "state": {
       "description_width": ""
      }
     },
     "93850d6a67424ae6a7039a9e6f6f9250": {
      "model_module": "@jupyter-widgets/controls",
      "model_module_version": "2.0.0",
      "model_name": "FloatProgressModel",
      "state": {
       "bar_style": "success",
       "layout": "IPY_MODEL_2bc7f21312714f9eacdbdf0c02a8e459",
       "max": 20,
       "style": "IPY_MODEL_de59facb4fdb45c28aa6cd85e3d2c748",
       "value": 20
      }
     },
     "93b0ea82b62144b69fd97871784339dc": {
      "model_module": "@jupyter-widgets/controls",
      "model_module_version": "2.0.0",
      "model_name": "ProgressStyleModel",
      "state": {
       "description_width": ""
      }
     },
     "93b793c7b590428a8b773aeb8fd91155": {
      "model_module": "@jupyter-widgets/base",
      "model_module_version": "2.0.0",
      "model_name": "LayoutModel",
      "state": {}
     },
     "93bbf51c81e94704be10cb4207980df1": {
      "model_module": "@jupyter-widgets/base",
      "model_module_version": "2.0.0",
      "model_name": "LayoutModel",
      "state": {}
     },
     "93ce255720344174a9177ad75fcc543c": {
      "model_module": "@jupyter-widgets/controls",
      "model_module_version": "2.0.0",
      "model_name": "HTMLStyleModel",
      "state": {
       "description_width": "",
       "font_size": null,
       "text_color": null
      }
     },
     "93d8ca1247574a76b4a749ac80ea88eb": {
      "model_module": "@jupyter-widgets/controls",
      "model_module_version": "2.0.0",
      "model_name": "HTMLStyleModel",
      "state": {
       "description_width": "",
       "font_size": null,
       "text_color": null
      }
     },
     "93dd623c22ef43c3a7bf60152fc6619d": {
      "model_module": "@jupyter-widgets/base",
      "model_module_version": "2.0.0",
      "model_name": "LayoutModel",
      "state": {}
     },
     "93e730c31feb4b059100c92e75c8d08a": {
      "model_module": "@jupyter-widgets/base",
      "model_module_version": "2.0.0",
      "model_name": "LayoutModel",
      "state": {}
     },
     "93f6e3f34a3e4665bad1559c5ec8f26c": {
      "model_module": "@jupyter-widgets/controls",
      "model_module_version": "2.0.0",
      "model_name": "HTMLStyleModel",
      "state": {
       "description_width": "",
       "font_size": null,
       "text_color": null
      }
     },
     "944ad2c35da749d8a5e72a8ffa9878db": {
      "model_module": "@jupyter-widgets/controls",
      "model_module_version": "2.0.0",
      "model_name": "ProgressStyleModel",
      "state": {
       "description_width": ""
      }
     },
     "9454977a345a4a23bbe3328fdf5dde49": {
      "model_module": "@jupyter-widgets/controls",
      "model_module_version": "2.0.0",
      "model_name": "HTMLModel",
      "state": {
       "layout": "IPY_MODEL_205262d0623e4b87bb07f0d24a8cb6e9",
       "style": "IPY_MODEL_db874086dc5341799e7dfaf44cd3793c",
       "value": "100%"
      }
     },
     "945c81377b8d43d4b8fa3a9e6afa10f4": {
      "model_module": "@jupyter-widgets/controls",
      "model_module_version": "2.0.0",
      "model_name": "HTMLStyleModel",
      "state": {
       "description_width": "",
       "font_size": null,
       "text_color": null
      }
     },
     "94641b521ae84b818ceea52a0d6bd06c": {
      "model_module": "@jupyter-widgets/controls",
      "model_module_version": "2.0.0",
      "model_name": "FloatProgressModel",
      "state": {
       "bar_style": "success",
       "layout": "IPY_MODEL_419e83656ae24daa9bcc5991a9dcb03a",
       "max": 23,
       "style": "IPY_MODEL_2b8244731ae643d0af22d477958da78e",
       "value": 23
      }
     },
     "949671e1a0004b4ba92999dbf14f5293": {
      "model_module": "@jupyter-widgets/controls",
      "model_module_version": "2.0.0",
      "model_name": "HBoxModel",
      "state": {
       "children": [
        "IPY_MODEL_2eb016aae80d408a8a54c168ec2bfa8d",
        "IPY_MODEL_175911add5ed49d48dd0ace80e0a806c",
        "IPY_MODEL_177973c4c2ed4b7283c41ca9ce37fccc"
       ],
       "layout": "IPY_MODEL_ea27d2dc0c6b4fb2abcfec5998ee017f"
      }
     },
     "94dbf30659484bb8a59227d09bf73193": {
      "model_module": "@jupyter-widgets/controls",
      "model_module_version": "2.0.0",
      "model_name": "HTMLStyleModel",
      "state": {
       "description_width": "",
       "font_size": null,
       "text_color": null
      }
     },
     "94e106df10024b28a72030dbfa33f6f4": {
      "model_module": "@jupyter-widgets/base",
      "model_module_version": "2.0.0",
      "model_name": "LayoutModel",
      "state": {}
     },
     "94e43495343f41c3b3e981d7fc24b32e": {
      "model_module": "@jupyter-widgets/controls",
      "model_module_version": "2.0.0",
      "model_name": "ProgressStyleModel",
      "state": {
       "description_width": ""
      }
     },
     "95023e2d566a4cfaa9d0ddae7fe53cfb": {
      "model_module": "@jupyter-widgets/controls",
      "model_module_version": "2.0.0",
      "model_name": "ProgressStyleModel",
      "state": {
       "description_width": ""
      }
     },
     "950637b973504457b15228352715a6c2": {
      "model_module": "@jupyter-widgets/base",
      "model_module_version": "2.0.0",
      "model_name": "LayoutModel",
      "state": {}
     },
     "953f62765afb4b9fb8f3dac6df5682d2": {
      "model_module": "@jupyter-widgets/base",
      "model_module_version": "2.0.0",
      "model_name": "LayoutModel",
      "state": {}
     },
     "9554280d95d64514ab91f132392c25c8": {
      "model_module": "@jupyter-widgets/controls",
      "model_module_version": "2.0.0",
      "model_name": "HTMLModel",
      "state": {
       "layout": "IPY_MODEL_961fe07e011c49589a5026847327f464",
       "style": "IPY_MODEL_bfbab1568e2e4bb4a6bf35b6dde8f75d",
       "value": "100%"
      }
     },
     "9571b40808204254b0700917165b4e58": {
      "model_module": "@jupyter-widgets/controls",
      "model_module_version": "2.0.0",
      "model_name": "HTMLModel",
      "state": {
       "layout": "IPY_MODEL_60acd3c3eea1451280f6c8be549a6580",
       "style": "IPY_MODEL_9e0aec37e5d04672bbf770c0797c22da",
       "value": "100%"
      }
     },
     "95a64d2a05c249289cab7b480d46c948": {
      "model_module": "@jupyter-widgets/controls",
      "model_module_version": "2.0.0",
      "model_name": "HTMLStyleModel",
      "state": {
       "description_width": "",
       "font_size": null,
       "text_color": null
      }
     },
     "95fd6ce11be644068d6abaf3021219d5": {
      "model_module": "@jupyter-widgets/controls",
      "model_module_version": "2.0.0",
      "model_name": "HTMLModel",
      "state": {
       "layout": "IPY_MODEL_8ee403302cd54149b225f3560ff7f365",
       "style": "IPY_MODEL_c286de079a2c4b99b5b60423001262c8",
       "value": " 22/22 [00:00&lt;00:00, 428.97it/s]"
      }
     },
     "961fe07e011c49589a5026847327f464": {
      "model_module": "@jupyter-widgets/base",
      "model_module_version": "2.0.0",
      "model_name": "LayoutModel",
      "state": {}
     },
     "969faa04588f4676a8527436f31be139": {
      "model_module": "@jupyter-widgets/controls",
      "model_module_version": "2.0.0",
      "model_name": "ProgressStyleModel",
      "state": {
       "description_width": ""
      }
     },
     "96bf1ed7296d4499a9fe823961d2ae5b": {
      "model_module": "@jupyter-widgets/base",
      "model_module_version": "2.0.0",
      "model_name": "LayoutModel",
      "state": {}
     },
     "96bf9f00d282471a9da07deb7468c6c4": {
      "model_module": "@jupyter-widgets/controls",
      "model_module_version": "2.0.0",
      "model_name": "HBoxModel",
      "state": {
       "children": [
        "IPY_MODEL_873b6a1b31a74208ab72a97c31dfb74c",
        "IPY_MODEL_e7c6526fc8a8482b9a770414620b1d47",
        "IPY_MODEL_4d792e5f7f3e40d8b6309b27e1376ff3"
       ],
       "layout": "IPY_MODEL_d06b6c26a0f048709e614347b16f11d3"
      }
     },
     "96c3de0ce44140f288a4acd206fa84c1": {
      "model_module": "@jupyter-widgets/controls",
      "model_module_version": "2.0.0",
      "model_name": "HTMLStyleModel",
      "state": {
       "description_width": "",
       "font_size": null,
       "text_color": null
      }
     },
     "9707746dfcd7400d990345501740bd68": {
      "model_module": "@jupyter-widgets/base",
      "model_module_version": "2.0.0",
      "model_name": "LayoutModel",
      "state": {}
     },
     "9738144e956349139ea0399303e0d392": {
      "model_module": "@jupyter-widgets/controls",
      "model_module_version": "2.0.0",
      "model_name": "HTMLModel",
      "state": {
       "layout": "IPY_MODEL_dc03f1c044e34ade80c473ad1df52242",
       "style": "IPY_MODEL_53337c50271d47039b139cc34d576ee2",
       "value": " 22/22 [00:00&lt;00:00, 40.71it/s]"
      }
     },
     "97592e560d1d4ad3934558327034807c": {
      "model_module": "@jupyter-widgets/base",
      "model_module_version": "2.0.0",
      "model_name": "LayoutModel",
      "state": {}
     },
     "97619c4b13a34c2e96cc61eb55348d6d": {
      "model_module": "@jupyter-widgets/controls",
      "model_module_version": "2.0.0",
      "model_name": "HBoxModel",
      "state": {
       "children": [
        "IPY_MODEL_ab564aa147df4ee9855c9d5c9c301a4b",
        "IPY_MODEL_b25ffced2ffb4faba216392fcc07fcd1",
        "IPY_MODEL_25298271fbba47c2a6411040e7876e6a"
       ],
       "layout": "IPY_MODEL_15573e3faee6448783c5d0b0285c4696"
      }
     },
     "9783a5dbdd20400bb184cb0c6fde2c16": {
      "model_module": "@jupyter-widgets/base",
      "model_module_version": "2.0.0",
      "model_name": "LayoutModel",
      "state": {}
     },
     "97b943caf867456fb452508031491a75": {
      "model_module": "@jupyter-widgets/controls",
      "model_module_version": "2.0.0",
      "model_name": "HTMLModel",
      "state": {
       "layout": "IPY_MODEL_f543d2727f5f4991b80dea45c6a47771",
       "style": "IPY_MODEL_468f541b5238437faf27d77824cffe74",
       "value": "100%"
      }
     },
     "97c9606d7e5747ed9969c7fc9fb565ba": {
      "model_module": "@jupyter-widgets/controls",
      "model_module_version": "2.0.0",
      "model_name": "HBoxModel",
      "state": {
       "children": [
        "IPY_MODEL_f8291a10c4034cf2ba03e8444966c04f",
        "IPY_MODEL_ccd1272d9eb34c65baf7dbe662142c07",
        "IPY_MODEL_a93b04a5f8554478b8e3ca18121a6813"
       ],
       "layout": "IPY_MODEL_81dd603af1764e51b2f9ff7f7753e688"
      }
     },
     "97db0630cbd64a1790a7e58279be7fbd": {
      "model_module": "@jupyter-widgets/base",
      "model_module_version": "2.0.0",
      "model_name": "LayoutModel",
      "state": {}
     },
     "97dff542f38b4395ae3c9159a356fd99": {
      "model_module": "@jupyter-widgets/controls",
      "model_module_version": "2.0.0",
      "model_name": "ProgressStyleModel",
      "state": {
       "description_width": ""
      }
     },
     "97f71e88292e450789c0071ca1c9e757": {
      "model_module": "@jupyter-widgets/controls",
      "model_module_version": "2.0.0",
      "model_name": "FloatProgressModel",
      "state": {
       "bar_style": "success",
       "layout": "IPY_MODEL_369105dedddc4209a395e30e8cac2650",
       "max": 20,
       "style": "IPY_MODEL_03720eed3c02485dba3b708b85aa1fe5",
       "value": 20
      }
     },
     "9821a01e347f432da5d8d400098d005b": {
      "model_module": "@jupyter-widgets/controls",
      "model_module_version": "2.0.0",
      "model_name": "HTMLModel",
      "state": {
       "layout": "IPY_MODEL_1d1b5db7316445efb138952604fa4658",
       "style": "IPY_MODEL_1320686d3c924bf394157a30256721fa",
       "value": " 20/20 [00:00&lt;00:00, 386.52it/s]"
      }
     },
     "982a456da0ea492ca995d48ab28ff04f": {
      "model_module": "@jupyter-widgets/base",
      "model_module_version": "2.0.0",
      "model_name": "LayoutModel",
      "state": {}
     },
     "982a48dc869043c3baf1b2ec6f8792c0": {
      "model_module": "@jupyter-widgets/base",
      "model_module_version": "2.0.0",
      "model_name": "LayoutModel",
      "state": {}
     },
     "9853cf8bf3a54a9ebaae1b311ac869cd": {
      "model_module": "@jupyter-widgets/controls",
      "model_module_version": "2.0.0",
      "model_name": "HBoxModel",
      "state": {
       "children": [
        "IPY_MODEL_6faf5b7496724232823546faa17ed928",
        "IPY_MODEL_bc6c476b133d4f1ca6296359c614e762",
        "IPY_MODEL_95fd6ce11be644068d6abaf3021219d5"
       ],
       "layout": "IPY_MODEL_1c6b03d117cc49e4860100fa845bbbb1"
      }
     },
     "985b2e5d3d1942a6b34926d870593715": {
      "model_module": "@jupyter-widgets/base",
      "model_module_version": "2.0.0",
      "model_name": "LayoutModel",
      "state": {}
     },
     "98785f4d4f524313a33df18a58e74e82": {
      "model_module": "@jupyter-widgets/controls",
      "model_module_version": "2.0.0",
      "model_name": "HTMLModel",
      "state": {
       "layout": "IPY_MODEL_340d99245c8a4716975b40a642948188",
       "style": "IPY_MODEL_721436c2a18e40c28abd5755035b9486",
       "value": "100%"
      }
     },
     "987985683dbc4c458c6a1ac271957734": {
      "model_module": "@jupyter-widgets/controls",
      "model_module_version": "2.0.0",
      "model_name": "HTMLStyleModel",
      "state": {
       "description_width": "",
       "font_size": null,
       "text_color": null
      }
     },
     "989e076f1eb24dd78c85ce59212264a4": {
      "model_module": "@jupyter-widgets/controls",
      "model_module_version": "2.0.0",
      "model_name": "HTMLModel",
      "state": {
       "layout": "IPY_MODEL_7645d55564644aa0acad72900aae71f5",
       "style": "IPY_MODEL_2cffd33ef3dc434fae208e9a63461291",
       "value": "100%"
      }
     },
     "98a39e89a3bc4eacba13eea108bbe8e0": {
      "model_module": "@jupyter-widgets/base",
      "model_module_version": "2.0.0",
      "model_name": "LayoutModel",
      "state": {}
     },
     "98aed56245584f9086fc54b3dcf4a203": {
      "model_module": "@jupyter-widgets/base",
      "model_module_version": "2.0.0",
      "model_name": "LayoutModel",
      "state": {}
     },
     "98c5767c4f8f497dbe6854e9956eaa33": {
      "model_module": "@jupyter-widgets/controls",
      "model_module_version": "2.0.0",
      "model_name": "ProgressStyleModel",
      "state": {
       "description_width": ""
      }
     },
     "98c811298f504be682393a4475eef9b3": {
      "model_module": "@jupyter-widgets/controls",
      "model_module_version": "2.0.0",
      "model_name": "HTMLStyleModel",
      "state": {
       "description_width": "",
       "font_size": null,
       "text_color": null
      }
     },
     "98c96016c7124f8297b106fcd590d512": {
      "model_module": "@jupyter-widgets/controls",
      "model_module_version": "2.0.0",
      "model_name": "ProgressStyleModel",
      "state": {
       "description_width": ""
      }
     },
     "98edec0140d8416b861847498d73f37c": {
      "model_module": "@jupyter-widgets/controls",
      "model_module_version": "2.0.0",
      "model_name": "HBoxModel",
      "state": {
       "children": [
        "IPY_MODEL_1e642b053f6f44ac883e37dc569fc8fb",
        "IPY_MODEL_a8261e411ca6479b824fd751fc6f30fb",
        "IPY_MODEL_a84dbe70f1ca40dbb84844c21b6625d4"
       ],
       "layout": "IPY_MODEL_272934d428b44b43a5aa62c8d97d8a39"
      }
     },
     "98f217c4b0c24b1eb822c23fe3ea374b": {
      "model_module": "@jupyter-widgets/base",
      "model_module_version": "2.0.0",
      "model_name": "LayoutModel",
      "state": {}
     },
     "993ba1e4b196421fb0253020a1f88380": {
      "model_module": "@jupyter-widgets/controls",
      "model_module_version": "2.0.0",
      "model_name": "HTMLStyleModel",
      "state": {
       "description_width": "",
       "font_size": null,
       "text_color": null
      }
     },
     "998434ac7ef24df0a44b38b45f5795b7": {
      "model_module": "@jupyter-widgets/base",
      "model_module_version": "2.0.0",
      "model_name": "LayoutModel",
      "state": {}
     },
     "99b94e1a350646e995cf705b371f494f": {
      "model_module": "@jupyter-widgets/controls",
      "model_module_version": "2.0.0",
      "model_name": "HTMLStyleModel",
      "state": {
       "description_width": "",
       "font_size": null,
       "text_color": null
      }
     },
     "99b9a12f7f334a5bb28b791900879bcb": {
      "model_module": "@jupyter-widgets/controls",
      "model_module_version": "2.0.0",
      "model_name": "HBoxModel",
      "state": {
       "children": [
        "IPY_MODEL_36bbbd2d6eec450e858900f56bdd4fc5",
        "IPY_MODEL_074eb1bc9e344362bd0b478adeb8b469",
        "IPY_MODEL_76302512175148e5b485eed4f7caf66b"
       ],
       "layout": "IPY_MODEL_ad8d666e416f43feb5d695848759b3b8"
      }
     },
     "99d60acb6dc645c898842973a76b4123": {
      "model_module": "@jupyter-widgets/base",
      "model_module_version": "2.0.0",
      "model_name": "LayoutModel",
      "state": {}
     },
     "99e2b803f3cc4bef919bf5a95640e685": {
      "model_module": "@jupyter-widgets/controls",
      "model_module_version": "2.0.0",
      "model_name": "HBoxModel",
      "state": {
       "children": [
        "IPY_MODEL_85cdf573f65c4d8fa0e19083c6dc6dc1",
        "IPY_MODEL_db03117c0da148079d337c6f796ba2f9",
        "IPY_MODEL_42240273abca47959d1e9606a2b3e2cc"
       ],
       "layout": "IPY_MODEL_87259aadeefe47aca688c433c3aeca2d"
      }
     },
     "99e8fb6a2da049d2a41181ddea18221c": {
      "model_module": "@jupyter-widgets/controls",
      "model_module_version": "2.0.0",
      "model_name": "FloatProgressModel",
      "state": {
       "bar_style": "success",
       "layout": "IPY_MODEL_7af797975a254cd389c750d6e191a696",
       "max": 21,
       "style": "IPY_MODEL_db2f0094b2024e4cba22c8650a5af547",
       "value": 21
      }
     },
     "99f1fe958e404c3c8f559022ff54db6b": {
      "model_module": "@jupyter-widgets/controls",
      "model_module_version": "2.0.0",
      "model_name": "HBoxModel",
      "state": {
       "children": [
        "IPY_MODEL_d51b5229a1f04a6dbbbbf15fff866a07",
        "IPY_MODEL_0610c34be7354ef38e5499df40caba43",
        "IPY_MODEL_39d85d677c99433eacedeab35df4a025"
       ],
       "layout": "IPY_MODEL_e7b3eefc12f042fcb1b00227221f7f55"
      }
     },
     "99fb5ce728184c44aeeff279f781e078": {
      "model_module": "@jupyter-widgets/controls",
      "model_module_version": "2.0.0",
      "model_name": "HTMLStyleModel",
      "state": {
       "description_width": "",
       "font_size": null,
       "text_color": null
      }
     },
     "9a1332da5cbb41e0a51f6dcdf692f376": {
      "model_module": "@jupyter-widgets/base",
      "model_module_version": "2.0.0",
      "model_name": "LayoutModel",
      "state": {}
     },
     "9a7e947319e843f2a3cd1057b5246338": {
      "model_module": "@jupyter-widgets/base",
      "model_module_version": "2.0.0",
      "model_name": "LayoutModel",
      "state": {}
     },
     "9a8a471a7101490e947cd6a494e1395a": {
      "model_module": "@jupyter-widgets/controls",
      "model_module_version": "2.0.0",
      "model_name": "HTMLStyleModel",
      "state": {
       "description_width": "",
       "font_size": null,
       "text_color": null
      }
     },
     "9a8c068066f64a30b1e34c4840072799": {
      "model_module": "@jupyter-widgets/controls",
      "model_module_version": "2.0.0",
      "model_name": "FloatProgressModel",
      "state": {
       "bar_style": "success",
       "layout": "IPY_MODEL_d59c1a64a86847bda061a5a09356a649",
       "max": 23,
       "style": "IPY_MODEL_bef578ae348d45049408342be09c2986",
       "value": 23
      }
     },
     "9a8f732191bb4fae9f98037a6404fad1": {
      "model_module": "@jupyter-widgets/controls",
      "model_module_version": "2.0.0",
      "model_name": "FloatProgressModel",
      "state": {
       "bar_style": "success",
       "layout": "IPY_MODEL_869f3c0cae0848aaaed5e11e808fb290",
       "max": 20,
       "style": "IPY_MODEL_ab518e51ec99471882e3331fad59df67",
       "value": 20
      }
     },
     "9aa2e1bd3324463b86efb70fce512a7e": {
      "model_module": "@jupyter-widgets/controls",
      "model_module_version": "2.0.0",
      "model_name": "HBoxModel",
      "state": {
       "children": [
        "IPY_MODEL_635caa5497ad4dac87d703626fff2e4e",
        "IPY_MODEL_506a03d63f8545b5908eda8e48e5708e",
        "IPY_MODEL_dde15b3990cf4624af387fac50217a4d"
       ],
       "layout": "IPY_MODEL_60b985c6aaf54525b311489d23919026"
      }
     },
     "9ac844a8147d4e48ae89ec3d3debb873": {
      "model_module": "@jupyter-widgets/controls",
      "model_module_version": "2.0.0",
      "model_name": "ProgressStyleModel",
      "state": {
       "description_width": ""
      }
     },
     "9ace82690f8e4f33929572206eaa34d3": {
      "model_module": "@jupyter-widgets/base",
      "model_module_version": "2.0.0",
      "model_name": "LayoutModel",
      "state": {}
     },
     "9ae1ee9d417b4f7baba026c3da908fd0": {
      "model_module": "@jupyter-widgets/controls",
      "model_module_version": "2.0.0",
      "model_name": "HBoxModel",
      "state": {
       "children": [
        "IPY_MODEL_6395abb733f443ddb4c9245b37bb9d71",
        "IPY_MODEL_97f71e88292e450789c0071ca1c9e757",
        "IPY_MODEL_612ae8ec28b0464498031994295a11a8"
       ],
       "layout": "IPY_MODEL_234147959c3649d19fc58faa6a2a9308"
      }
     },
     "9aed91ed78f945e1ab5827b36f69fc30": {
      "model_module": "@jupyter-widgets/base",
      "model_module_version": "2.0.0",
      "model_name": "LayoutModel",
      "state": {}
     },
     "9b0f5304347b4727906d71e943481369": {
      "model_module": "@jupyter-widgets/base",
      "model_module_version": "2.0.0",
      "model_name": "LayoutModel",
      "state": {}
     },
     "9b202693968b4f60820bf285ffe504f1": {
      "model_module": "@jupyter-widgets/controls",
      "model_module_version": "2.0.0",
      "model_name": "HTMLModel",
      "state": {
       "layout": "IPY_MODEL_06f3d92149824e97a951c71879c5fbc5",
       "style": "IPY_MODEL_708b2ae93840497b9c27d4b78aa6c7ca",
       "value": "100%"
      }
     },
     "9b22a98683ca46d19a07f02e9f5b4931": {
      "model_module": "@jupyter-widgets/controls",
      "model_module_version": "2.0.0",
      "model_name": "HTMLModel",
      "state": {
       "layout": "IPY_MODEL_f80e9ac12f6f440b80ca85981de9ef54",
       "style": "IPY_MODEL_faab560ae8124b37bb028dddbc40464c",
       "value": " 22/22 [00:00&lt;00:00, 46.08it/s]"
      }
     },
     "9b2e4248289349e29e4ae267c730d6d1": {
      "model_module": "@jupyter-widgets/controls",
      "model_module_version": "2.0.0",
      "model_name": "FloatProgressModel",
      "state": {
       "bar_style": "success",
       "layout": "IPY_MODEL_f0760a1f65d048188387061bf9b4f175",
       "max": 23,
       "style": "IPY_MODEL_5794030fca904d48b7d04738033a0d04",
       "value": 23
      }
     },
     "9b3bc586fff2434ba3ae2b4b1c2fad7a": {
      "model_module": "@jupyter-widgets/controls",
      "model_module_version": "2.0.0",
      "model_name": "HTMLModel",
      "state": {
       "layout": "IPY_MODEL_47a4e4253417472486ac29a9fae9027a",
       "style": "IPY_MODEL_4a57178462c54887bed3d0fb79eae6eb",
       "value": "100%"
      }
     },
     "9b40b9d6a78941a1a3e8f708dae4df16": {
      "model_module": "@jupyter-widgets/base",
      "model_module_version": "2.0.0",
      "model_name": "LayoutModel",
      "state": {}
     },
     "9b4e6bfb305843d48a2fe4e3a1bbbe94": {
      "model_module": "@jupyter-widgets/controls",
      "model_module_version": "2.0.0",
      "model_name": "HTMLStyleModel",
      "state": {
       "description_width": "",
       "font_size": null,
       "text_color": null
      }
     },
     "9b9219e91f4e4a41820d294400d0e8dd": {
      "model_module": "@jupyter-widgets/base",
      "model_module_version": "2.0.0",
      "model_name": "LayoutModel",
      "state": {}
     },
     "9ba7b6bb3c724398a0e0de22d59cdf9b": {
      "model_module": "@jupyter-widgets/controls",
      "model_module_version": "2.0.0",
      "model_name": "HTMLModel",
      "state": {
       "layout": "IPY_MODEL_9cc208f8aeb2443ca7e15352c39de3bd",
       "style": "IPY_MODEL_2a05a2df5a4f44a18cffd164de60e26a",
       "value": " 23/23 [00:17&lt;00:00,  3.47it/s]"
      }
     },
     "9c0f00828708440ba0fc6341b216dce8": {
      "model_module": "@jupyter-widgets/controls",
      "model_module_version": "2.0.0",
      "model_name": "HTMLModel",
      "state": {
       "layout": "IPY_MODEL_24cc2704eb824e14a855be58064c2bb1",
       "style": "IPY_MODEL_6595300ce9384087bb090514ed7b3835",
       "value": " 22/22 [00:00&lt;00:00, 32.92it/s]"
      }
     },
     "9c39a6fc3bf44b0fa9f31aba61700212": {
      "model_module": "@jupyter-widgets/controls",
      "model_module_version": "2.0.0",
      "model_name": "HTMLModel",
      "state": {
       "layout": "IPY_MODEL_6a5b5a96077b4abcaed1133913c48ef9",
       "style": "IPY_MODEL_2f33a54eda5743c3a231f16e4b91e3ef",
       "value": " 22/22 [00:00&lt;00:00, 39.47it/s]"
      }
     },
     "9c68de1868e943f6a0106459c042b9aa": {
      "model_module": "@jupyter-widgets/controls",
      "model_module_version": "2.0.0",
      "model_name": "FloatProgressModel",
      "state": {
       "bar_style": "success",
       "layout": "IPY_MODEL_35523bbce1024104844f52d208f64f8b",
       "max": 20,
       "style": "IPY_MODEL_8b3a0d0bdcfa46bda8424a9216444ae0",
       "value": 20
      }
     },
     "9c6ac1f21300400aad6cdaf96206cbea": {
      "model_module": "@jupyter-widgets/controls",
      "model_module_version": "2.0.0",
      "model_name": "HBoxModel",
      "state": {
       "children": [
        "IPY_MODEL_f8ca58ef9c834b719edcca7926a5e11e",
        "IPY_MODEL_4f51e2683c4d427284c9cf0984906fe4",
        "IPY_MODEL_1a580f656f4340a2a56681bd08ead6f3"
       ],
       "layout": "IPY_MODEL_a1b7e9e3b22f4d2aaddcbcd7c0af3708"
      }
     },
     "9c6d9f2469fd4dffbb62e65fbd171922": {
      "model_module": "@jupyter-widgets/controls",
      "model_module_version": "2.0.0",
      "model_name": "FloatProgressModel",
      "state": {
       "bar_style": "success",
       "layout": "IPY_MODEL_a11095f733fe40368fda742c53a85244",
       "max": 21,
       "style": "IPY_MODEL_e80bf0ccb38049e3823a0caf64301206",
       "value": 21
      }
     },
     "9c7f519364b0463793d86e4b53386e31": {
      "model_module": "@jupyter-widgets/controls",
      "model_module_version": "2.0.0",
      "model_name": "HTMLModel",
      "state": {
       "layout": "IPY_MODEL_81c777c57ccb4200b222add1b888edf6",
       "style": "IPY_MODEL_a643c278a309480bb2af6b5bd6cebd56",
       "value": " 23/23 [00:00&lt;00:00, 38.74it/s]"
      }
     },
     "9caa29a0761d407b951963d0469fe422": {
      "model_module": "@jupyter-widgets/controls",
      "model_module_version": "2.0.0",
      "model_name": "FloatProgressModel",
      "state": {
       "bar_style": "success",
       "layout": "IPY_MODEL_d78614dc02bb42cdaa1f3415da8007d8",
       "max": 21,
       "style": "IPY_MODEL_aaa5d48b9435443f8f792345b096e877",
       "value": 21
      }
     },
     "9cade23f53ef4d75abda8b7d7d29094f": {
      "model_module": "@jupyter-widgets/base",
      "model_module_version": "2.0.0",
      "model_name": "LayoutModel",
      "state": {}
     },
     "9cb7236af5b248cb9297298b52c94625": {
      "model_module": "@jupyter-widgets/controls",
      "model_module_version": "2.0.0",
      "model_name": "HBoxModel",
      "state": {
       "children": [
        "IPY_MODEL_36137b469e494b50925419caf8052483",
        "IPY_MODEL_42751f7865d1456fa5b233db8d0044b4",
        "IPY_MODEL_30c702949030458cb31203e41ea8f462"
       ],
       "layout": "IPY_MODEL_6e304ffaa4f34e5cb310257571c5b65c"
      }
     },
     "9cbf5cdbe16a4eed9cff0c0665a6426b": {
      "model_module": "@jupyter-widgets/controls",
      "model_module_version": "2.0.0",
      "model_name": "FloatProgressModel",
      "state": {
       "bar_style": "success",
       "layout": "IPY_MODEL_01485f2c3bde47cd9f66055bf9faef28",
       "max": 20,
       "style": "IPY_MODEL_bff488f2b8664da9a0416c924275215f",
       "value": 20
      }
     },
     "9cc208f8aeb2443ca7e15352c39de3bd": {
      "model_module": "@jupyter-widgets/base",
      "model_module_version": "2.0.0",
      "model_name": "LayoutModel",
      "state": {}
     },
     "9ceedc28a2564b6d8d1537a53e8dd7b1": {
      "model_module": "@jupyter-widgets/base",
      "model_module_version": "2.0.0",
      "model_name": "LayoutModel",
      "state": {}
     },
     "9cf4530d8f1a4055a0eb96fe40986d6a": {
      "model_module": "@jupyter-widgets/base",
      "model_module_version": "2.0.0",
      "model_name": "LayoutModel",
      "state": {}
     },
     "9d55f9bbe2f848cbb2816fbb9e79e1db": {
      "model_module": "@jupyter-widgets/controls",
      "model_module_version": "2.0.0",
      "model_name": "FloatProgressModel",
      "state": {
       "bar_style": "success",
       "layout": "IPY_MODEL_cfb0b8b970ae42419bd0eb299b37ee4e",
       "max": 22,
       "style": "IPY_MODEL_4ff526bc67a54f499fb70f35d4dc10ce",
       "value": 22
      }
     },
     "9d5bd8dccc214b999ce9d4b3e220df3f": {
      "model_module": "@jupyter-widgets/controls",
      "model_module_version": "2.0.0",
      "model_name": "FloatProgressModel",
      "state": {
       "bar_style": "success",
       "layout": "IPY_MODEL_e6f3222df8df49b3a14be99ddd585e20",
       "max": 21,
       "style": "IPY_MODEL_6e4c48ca07bb4fe4be951caecf0bebcd",
       "value": 21
      }
     },
     "9d5cda367b5d4e37b028f8cebc8c19aa": {
      "model_module": "@jupyter-widgets/controls",
      "model_module_version": "2.0.0",
      "model_name": "HTMLModel",
      "state": {
       "layout": "IPY_MODEL_3f5ccda8148a464f8d88efbafa32c028",
       "style": "IPY_MODEL_ab927db6a4ed41bcac4bd3ac9c57ae82",
       "value": "100%"
      }
     },
     "9d5dca482b914b939ad0951489642441": {
      "model_module": "@jupyter-widgets/base",
      "model_module_version": "2.0.0",
      "model_name": "LayoutModel",
      "state": {}
     },
     "9d85810642f242e598090fe8fad24e0c": {
      "model_module": "@jupyter-widgets/base",
      "model_module_version": "2.0.0",
      "model_name": "LayoutModel",
      "state": {}
     },
     "9da085ea40114adb8da9290c4052ceb0": {
      "model_module": "@jupyter-widgets/controls",
      "model_module_version": "2.0.0",
      "model_name": "HTMLStyleModel",
      "state": {
       "description_width": "",
       "font_size": null,
       "text_color": null
      }
     },
     "9dd673c38c9f4dd584dde1f1b96cf112": {
      "model_module": "@jupyter-widgets/controls",
      "model_module_version": "2.0.0",
      "model_name": "HTMLStyleModel",
      "state": {
       "description_width": "",
       "font_size": null,
       "text_color": null
      }
     },
     "9e0aec37e5d04672bbf770c0797c22da": {
      "model_module": "@jupyter-widgets/controls",
      "model_module_version": "2.0.0",
      "model_name": "HTMLStyleModel",
      "state": {
       "description_width": "",
       "font_size": null,
       "text_color": null
      }
     },
     "9e21a0bd92ae4be090de22d6d9066d07": {
      "model_module": "@jupyter-widgets/controls",
      "model_module_version": "2.0.0",
      "model_name": "HTMLStyleModel",
      "state": {
       "description_width": "",
       "font_size": null,
       "text_color": null
      }
     },
     "9e294db0c05f402385a455b0b09ceaf3": {
      "model_module": "@jupyter-widgets/base",
      "model_module_version": "2.0.0",
      "model_name": "LayoutModel",
      "state": {}
     },
     "9e3d75d6b319457bbdc8e7dd7d16da69": {
      "model_module": "@jupyter-widgets/controls",
      "model_module_version": "2.0.0",
      "model_name": "HTMLStyleModel",
      "state": {
       "description_width": "",
       "font_size": null,
       "text_color": null
      }
     },
     "9e8f88a430304c4789aeca3985c5a45d": {
      "model_module": "@jupyter-widgets/controls",
      "model_module_version": "2.0.0",
      "model_name": "HBoxModel",
      "state": {
       "children": [
        "IPY_MODEL_47c2391e9b614ef9b1986a7a1bf398f9",
        "IPY_MODEL_a3956fc700b544bc827b6ad02d1b40a3",
        "IPY_MODEL_b052d9c0fbcb49be8fb557a514d03d82"
       ],
       "layout": "IPY_MODEL_7d2c63285c3a4193b915680c9c544b79"
      }
     },
     "9ec0871c4b334021beff8019f22e3054": {
      "model_module": "@jupyter-widgets/controls",
      "model_module_version": "2.0.0",
      "model_name": "ProgressStyleModel",
      "state": {
       "description_width": ""
      }
     },
     "9ec423df39e444a2aa02c7e62d640079": {
      "model_module": "@jupyter-widgets/controls",
      "model_module_version": "2.0.0",
      "model_name": "ProgressStyleModel",
      "state": {
       "description_width": ""
      }
     },
     "9ee99507f5a14ae38185dcf39da55e37": {
      "model_module": "@jupyter-widgets/controls",
      "model_module_version": "2.0.0",
      "model_name": "HTMLStyleModel",
      "state": {
       "description_width": "",
       "font_size": null,
       "text_color": null
      }
     },
     "9f2c777df8d5452f817863ee4b8ef544": {
      "model_module": "@jupyter-widgets/controls",
      "model_module_version": "2.0.0",
      "model_name": "ProgressStyleModel",
      "state": {
       "description_width": ""
      }
     },
     "9f4c986ee60844ff94da9ad36ffa6948": {
      "model_module": "@jupyter-widgets/base",
      "model_module_version": "2.0.0",
      "model_name": "LayoutModel",
      "state": {}
     },
     "9f5ef88dcde646989d541910d5be976b": {
      "model_module": "@jupyter-widgets/base",
      "model_module_version": "2.0.0",
      "model_name": "LayoutModel",
      "state": {}
     },
     "9f619d9dc7884680a4e8dc7e793abd08": {
      "model_module": "@jupyter-widgets/controls",
      "model_module_version": "2.0.0",
      "model_name": "ProgressStyleModel",
      "state": {
       "description_width": ""
      }
     },
     "9f649342273c44ee92773ca91d7048cd": {
      "model_module": "@jupyter-widgets/controls",
      "model_module_version": "2.0.0",
      "model_name": "HTMLStyleModel",
      "state": {
       "description_width": "",
       "font_size": null,
       "text_color": null
      }
     },
     "9fa2c72bd4934c94a87832c73b09c9f1": {
      "model_module": "@jupyter-widgets/base",
      "model_module_version": "2.0.0",
      "model_name": "LayoutModel",
      "state": {}
     },
     "9fb9b94c74e542a4b0a420d7cdc5eab9": {
      "model_module": "@jupyter-widgets/base",
      "model_module_version": "2.0.0",
      "model_name": "LayoutModel",
      "state": {}
     },
     "9fc10fe5b36b4ae8bb46723dfa72a0f5": {
      "model_module": "@jupyter-widgets/controls",
      "model_module_version": "2.0.0",
      "model_name": "HBoxModel",
      "state": {
       "children": [
        "IPY_MODEL_9d5cda367b5d4e37b028f8cebc8c19aa",
        "IPY_MODEL_0c8b71ceb6b046e9afe303a6ff9dc2c7",
        "IPY_MODEL_e3d7225bb6104c52bce7f2343901b8ff"
       ],
       "layout": "IPY_MODEL_0d6db134f1b4441cb3f03e30824700d9"
      }
     },
     "9ff6d9f046da47b4a26dfc6b029e6ded": {
      "model_module": "@jupyter-widgets/controls",
      "model_module_version": "2.0.0",
      "model_name": "HTMLStyleModel",
      "state": {
       "description_width": "",
       "font_size": null,
       "text_color": null
      }
     },
     "a01f6aa0bfe74c289304096b660a2233": {
      "model_module": "@jupyter-widgets/controls",
      "model_module_version": "2.0.0",
      "model_name": "HTMLStyleModel",
      "state": {
       "description_width": "",
       "font_size": null,
       "text_color": null
      }
     },
     "a0281d7df1dd4edeb845606b5a23d979": {
      "model_module": "@jupyter-widgets/controls",
      "model_module_version": "2.0.0",
      "model_name": "HTMLModel",
      "state": {
       "layout": "IPY_MODEL_2d3af7b184a9470182b1229a39688b9f",
       "style": "IPY_MODEL_214ed7c7d59247fe9baf5a8688b00e6e",
       "value": " 20/20 [00:00&lt;00:00, 45.86it/s]"
      }
     },
     "a042de3f21894cd9b9fd1b7eea88a2c8": {
      "model_module": "@jupyter-widgets/controls",
      "model_module_version": "2.0.0",
      "model_name": "HTMLModel",
      "state": {
       "layout": "IPY_MODEL_66a92211f9f94325ae15e8777dc334f4",
       "style": "IPY_MODEL_e64a0f5dbb67460694a80b89da61a09a",
       "value": "100%"
      }
     },
     "a0454abc31c946ccbc182acdbda1296b": {
      "model_module": "@jupyter-widgets/controls",
      "model_module_version": "2.0.0",
      "model_name": "ProgressStyleModel",
      "state": {
       "description_width": ""
      }
     },
     "a04f8525c05d4fff8b81386adabebb7a": {
      "model_module": "@jupyter-widgets/controls",
      "model_module_version": "2.0.0",
      "model_name": "HTMLStyleModel",
      "state": {
       "description_width": "",
       "font_size": null,
       "text_color": null
      }
     },
     "a064d0d5c4ef44859069c3f4ed4d1447": {
      "model_module": "@jupyter-widgets/controls",
      "model_module_version": "2.0.0",
      "model_name": "ProgressStyleModel",
      "state": {
       "description_width": ""
      }
     },
     "a0716a6c7bbb4356a03c1519be355ffe": {
      "model_module": "@jupyter-widgets/controls",
      "model_module_version": "2.0.0",
      "model_name": "HBoxModel",
      "state": {
       "children": [
        "IPY_MODEL_b659459f4e574a47a8b8573ca4cc3c0e",
        "IPY_MODEL_8e9c60b14bfa49afba21100a348ff599",
        "IPY_MODEL_8ab630feae364389b44bd73e1305f9d6"
       ],
       "layout": "IPY_MODEL_ee2686e2a70c49d0b4c64a692b91d7a7"
      }
     },
     "a0819a4ef9c348bfa6a4f05ad649cd3f": {
      "model_module": "@jupyter-widgets/base",
      "model_module_version": "2.0.0",
      "model_name": "LayoutModel",
      "state": {}
     },
     "a0ab586758f149ecbb2b0d60f790c42c": {
      "model_module": "@jupyter-widgets/base",
      "model_module_version": "2.0.0",
      "model_name": "LayoutModel",
      "state": {}
     },
     "a0b5d659e0f64bc69943d26f0b3edeea": {
      "model_module": "@jupyter-widgets/base",
      "model_module_version": "2.0.0",
      "model_name": "LayoutModel",
      "state": {}
     },
     "a0cafa8123d8445980b950b686fcdc6a": {
      "model_module": "@jupyter-widgets/controls",
      "model_module_version": "2.0.0",
      "model_name": "HTMLStyleModel",
      "state": {
       "description_width": "",
       "font_size": null,
       "text_color": null
      }
     },
     "a0d08db037074f9394b696d67f1b5342": {
      "model_module": "@jupyter-widgets/base",
      "model_module_version": "2.0.0",
      "model_name": "LayoutModel",
      "state": {}
     },
     "a0f0d0c6adc743558c41ea313fd17ff2": {
      "model_module": "@jupyter-widgets/base",
      "model_module_version": "2.0.0",
      "model_name": "LayoutModel",
      "state": {}
     },
     "a11095f733fe40368fda742c53a85244": {
      "model_module": "@jupyter-widgets/base",
      "model_module_version": "2.0.0",
      "model_name": "LayoutModel",
      "state": {}
     },
     "a12d9a629ec84043a9e54a27266576d3": {
      "model_module": "@jupyter-widgets/controls",
      "model_module_version": "2.0.0",
      "model_name": "HTMLModel",
      "state": {
       "layout": "IPY_MODEL_162a91ba43d345e5a3fdcea745afef8c",
       "style": "IPY_MODEL_a7fd6eab27ff46818592cf193196aca4",
       "value": " 22/22 [00:00&lt;00:00, 323.16it/s]"
      }
     },
     "a12da522c93d44a7b583eace0fc654ba": {
      "model_module": "@jupyter-widgets/controls",
      "model_module_version": "2.0.0",
      "model_name": "HTMLModel",
      "state": {
       "layout": "IPY_MODEL_65b44b6d66c0422790c3fe970ab73133",
       "style": "IPY_MODEL_c56a7825d3674506a3f63eafaaf4d6e3",
       "value": " 21/21 [00:00&lt;00:00, 40.60it/s]"
      }
     },
     "a19da192dcb346afbbffeae9a130ae06": {
      "model_module": "@jupyter-widgets/base",
      "model_module_version": "2.0.0",
      "model_name": "LayoutModel",
      "state": {}
     },
     "a1b7e9e3b22f4d2aaddcbcd7c0af3708": {
      "model_module": "@jupyter-widgets/base",
      "model_module_version": "2.0.0",
      "model_name": "LayoutModel",
      "state": {}
     },
     "a1deb65aa29542f0b5261784241c8179": {
      "model_module": "@jupyter-widgets/controls",
      "model_module_version": "2.0.0",
      "model_name": "HTMLStyleModel",
      "state": {
       "description_width": "",
       "font_size": null,
       "text_color": null
      }
     },
     "a2202a3999bf474894c376766daf785b": {
      "model_module": "@jupyter-widgets/controls",
      "model_module_version": "2.0.0",
      "model_name": "HTMLModel",
      "state": {
       "layout": "IPY_MODEL_afd4b882b85641258fd3aaf4d8a492f7",
       "style": "IPY_MODEL_274e66d1e6054b498744edc54c76f8b7",
       "value": "100%"
      }
     },
     "a2374264a0c94e819c280524df0fa89c": {
      "model_module": "@jupyter-widgets/base",
      "model_module_version": "2.0.0",
      "model_name": "LayoutModel",
      "state": {}
     },
     "a259db4fc3944c88873752e3c3943947": {
      "model_module": "@jupyter-widgets/controls",
      "model_module_version": "2.0.0",
      "model_name": "ProgressStyleModel",
      "state": {
       "description_width": ""
      }
     },
     "a28cf2f185624bce9d6657cd1e1da704": {
      "model_module": "@jupyter-widgets/base",
      "model_module_version": "2.0.0",
      "model_name": "LayoutModel",
      "state": {}
     },
     "a2fbf3c147274ba99ac62ebbb385e2a2": {
      "model_module": "@jupyter-widgets/base",
      "model_module_version": "2.0.0",
      "model_name": "LayoutModel",
      "state": {}
     },
     "a31661a2162241c9b7f1de315ffe3ee8": {
      "model_module": "@jupyter-widgets/base",
      "model_module_version": "2.0.0",
      "model_name": "LayoutModel",
      "state": {}
     },
     "a31bf4778bfa4a2397fd82a0e01caeac": {
      "model_module": "@jupyter-widgets/controls",
      "model_module_version": "2.0.0",
      "model_name": "HBoxModel",
      "state": {
       "children": [
        "IPY_MODEL_3c1431eca7064bd4ba853d41c3159aa7",
        "IPY_MODEL_debcfe29bd274f81b5ca80dd8c45e482",
        "IPY_MODEL_e8a59b4613b042e18f092514676ebc21"
       ],
       "layout": "IPY_MODEL_82dad52fd2464489b59ffdc694d8a435"
      }
     },
     "a3580d6a59274b639ac9ac5b271a6c31": {
      "model_module": "@jupyter-widgets/base",
      "model_module_version": "2.0.0",
      "model_name": "LayoutModel",
      "state": {}
     },
     "a36d6887355e4e34998357e6a7d1388c": {
      "model_module": "@jupyter-widgets/controls",
      "model_module_version": "2.0.0",
      "model_name": "HBoxModel",
      "state": {
       "children": [
        "IPY_MODEL_5a217d7f017f4ef8a9590c8bbbbd7911",
        "IPY_MODEL_1fc3fb1d9a39450f99545c28698eb45a",
        "IPY_MODEL_4d54f1095b1046968ab4cde56b1b19bc"
       ],
       "layout": "IPY_MODEL_ee6e9871d3eb4b8a8d26b514fa79d46b"
      }
     },
     "a37204f20cb64fbfa6ee423af83965eb": {
      "model_module": "@jupyter-widgets/controls",
      "model_module_version": "2.0.0",
      "model_name": "HTMLModel",
      "state": {
       "layout": "IPY_MODEL_194a7705f4644844ba7414fddd7acd58",
       "style": "IPY_MODEL_41e01a533d10493d83ab30b060c61a85",
       "value": "100%"
      }
     },
     "a3956fc700b544bc827b6ad02d1b40a3": {
      "model_module": "@jupyter-widgets/controls",
      "model_module_version": "2.0.0",
      "model_name": "FloatProgressModel",
      "state": {
       "bar_style": "success",
       "layout": "IPY_MODEL_13552444d6d94907b6f3b7b64d45f8ad",
       "max": 22,
       "style": "IPY_MODEL_15f5a83cbb9c4e12b3dc08369ecce480",
       "value": 22
      }
     },
     "a3d1ade9e7f2435bb6b59dd5ecbb2cb3": {
      "model_module": "@jupyter-widgets/controls",
      "model_module_version": "2.0.0",
      "model_name": "HTMLStyleModel",
      "state": {
       "description_width": "",
       "font_size": null,
       "text_color": null
      }
     },
     "a4013799a0e44c58aed6ee70600427fb": {
      "model_module": "@jupyter-widgets/controls",
      "model_module_version": "2.0.0",
      "model_name": "HTMLStyleModel",
      "state": {
       "description_width": "",
       "font_size": null,
       "text_color": null
      }
     },
     "a40620f4a9ad404a8a4c4404d8c49e15": {
      "model_module": "@jupyter-widgets/base",
      "model_module_version": "2.0.0",
      "model_name": "LayoutModel",
      "state": {}
     },
     "a4110138471941e2afd61462fff11712": {
      "model_module": "@jupyter-widgets/controls",
      "model_module_version": "2.0.0",
      "model_name": "HTMLStyleModel",
      "state": {
       "description_width": "",
       "font_size": null,
       "text_color": null
      }
     },
     "a49c4a02872a463d85f90a2ba40727ee": {
      "model_module": "@jupyter-widgets/base",
      "model_module_version": "2.0.0",
      "model_name": "LayoutModel",
      "state": {}
     },
     "a4b2e81c41a54c6185e3a6b566c3a206": {
      "model_module": "@jupyter-widgets/controls",
      "model_module_version": "2.0.0",
      "model_name": "HTMLModel",
      "state": {
       "layout": "IPY_MODEL_0c36ed2b049548b8877e91b59241e4ea",
       "style": "IPY_MODEL_278cd049a010471a9e939952c2d0495d",
       "value": " 20/20 [00:00&lt;00:00, 36.83it/s]"
      }
     },
     "a4e64b37a5b04293bfb180e1d6ec2ab5": {
      "model_module": "@jupyter-widgets/controls",
      "model_module_version": "2.0.0",
      "model_name": "HTMLStyleModel",
      "state": {
       "description_width": "",
       "font_size": null,
       "text_color": null
      }
     },
     "a521f1149af949c9ab07b93984e7a173": {
      "model_module": "@jupyter-widgets/base",
      "model_module_version": "2.0.0",
      "model_name": "LayoutModel",
      "state": {}
     },
     "a5452a6db68e4e0cac5bb00d853da2dc": {
      "model_module": "@jupyter-widgets/controls",
      "model_module_version": "2.0.0",
      "model_name": "HBoxModel",
      "state": {
       "children": [
        "IPY_MODEL_1d8ef4e1f5184d52ae297192f557d0e8",
        "IPY_MODEL_fc30e48630a44c1eb38b41be9bf60d37",
        "IPY_MODEL_7eeb5ff8c2634f2d897bdb9504dd0126"
       ],
       "layout": "IPY_MODEL_73361594c9e74c9ca2e5f88cd9e4e822"
      }
     },
     "a55dfa629fee44d9b04657a644df516f": {
      "model_module": "@jupyter-widgets/controls",
      "model_module_version": "2.0.0",
      "model_name": "HTMLStyleModel",
      "state": {
       "description_width": "",
       "font_size": null,
       "text_color": null
      }
     },
     "a56a4358d5bd49e1b9ec496971b2686b": {
      "model_module": "@jupyter-widgets/controls",
      "model_module_version": "2.0.0",
      "model_name": "HTMLModel",
      "state": {
       "layout": "IPY_MODEL_fe47d8d3294749469beb71f7071b90d0",
       "style": "IPY_MODEL_cadd6f939b08463d96195a01f0455c57",
       "value": "100%"
      }
     },
     "a574ac8839fe444a8c5dd5a4e6d19069": {
      "model_module": "@jupyter-widgets/controls",
      "model_module_version": "2.0.0",
      "model_name": "HTMLModel",
      "state": {
       "layout": "IPY_MODEL_a0ab586758f149ecbb2b0d60f790c42c",
       "style": "IPY_MODEL_c5ca08c4628d4a64ae5962a0b83e69b1",
       "value": " 21/21 [00:00&lt;00:00, 21.34it/s]"
      }
     },
     "a5a399f6fde445ff9bda2d803c1a6182": {
      "model_module": "@jupyter-widgets/controls",
      "model_module_version": "2.0.0",
      "model_name": "ProgressStyleModel",
      "state": {
       "description_width": ""
      }
     },
     "a5ae59cea4ab489a9908d802dede4712": {
      "model_module": "@jupyter-widgets/controls",
      "model_module_version": "2.0.0",
      "model_name": "HBoxModel",
      "state": {
       "children": [
        "IPY_MODEL_c1dc14becc5d488ea754266ed1195c51",
        "IPY_MODEL_544a356e3e0f49acade8e97f9b93e660",
        "IPY_MODEL_879ad547f30a491cb72b3f84e12b614f"
       ],
       "layout": "IPY_MODEL_7b699665fdb94f11aee7e0879a9b167e"
      }
     },
     "a5bfa92de6b440ad80df5d50de384937": {
      "model_module": "@jupyter-widgets/controls",
      "model_module_version": "2.0.0",
      "model_name": "HTMLModel",
      "state": {
       "layout": "IPY_MODEL_dd1b0f479dc24f3b84bb2283912dd74f",
       "style": "IPY_MODEL_8bf43cffd3494fe58610913f04e08f0b",
       "value": "100%"
      }
     },
     "a5c0238915d14373a665796cd4c18114": {
      "model_module": "@jupyter-widgets/base",
      "model_module_version": "2.0.0",
      "model_name": "LayoutModel",
      "state": {}
     },
     "a643c278a309480bb2af6b5bd6cebd56": {
      "model_module": "@jupyter-widgets/controls",
      "model_module_version": "2.0.0",
      "model_name": "HTMLStyleModel",
      "state": {
       "description_width": "",
       "font_size": null,
       "text_color": null
      }
     },
     "a646103af1584fcaa80aaf29a24a9599": {
      "model_module": "@jupyter-widgets/controls",
      "model_module_version": "2.0.0",
      "model_name": "HTMLModel",
      "state": {
       "layout": "IPY_MODEL_35abd7d78ce243d39bb9bba64958ca02",
       "style": "IPY_MODEL_23b15c59d8e34a89b81f8fa4fdadc256",
       "value": "100%"
      }
     },
     "a673ccaa0baf46aeb86602d8b8ee7b8f": {
      "model_module": "@jupyter-widgets/base",
      "model_module_version": "2.0.0",
      "model_name": "LayoutModel",
      "state": {}
     },
     "a675fc1987674812a192e00e3dc63001": {
      "model_module": "@jupyter-widgets/controls",
      "model_module_version": "2.0.0",
      "model_name": "HTMLStyleModel",
      "state": {
       "description_width": "",
       "font_size": null,
       "text_color": null
      }
     },
     "a6763706ca4842ca93761549c5810c23": {
      "model_module": "@jupyter-widgets/base",
      "model_module_version": "2.0.0",
      "model_name": "LayoutModel",
      "state": {}
     },
     "a6af429d7043425ca334f3ef1916d150": {
      "model_module": "@jupyter-widgets/controls",
      "model_module_version": "2.0.0",
      "model_name": "HTMLModel",
      "state": {
       "layout": "IPY_MODEL_2527c3c34c6f42da88ed8a37959c7c91",
       "style": "IPY_MODEL_9169544d2a8146668c27c72e59b9376e",
       "value": " 20/20 [00:00&lt;00:00, 388.07it/s]"
      }
     },
     "a6b1fcbfe7744685b6cb22c73771a58b": {
      "model_module": "@jupyter-widgets/controls",
      "model_module_version": "2.0.0",
      "model_name": "ProgressStyleModel",
      "state": {
       "description_width": ""
      }
     },
     "a6c5791e48f344b1bdbe1a8eea5e0409": {
      "model_module": "@jupyter-widgets/base",
      "model_module_version": "2.0.0",
      "model_name": "LayoutModel",
      "state": {}
     },
     "a6d6ad81f1c748fea8b710ba92ad7ef8": {
      "model_module": "@jupyter-widgets/controls",
      "model_module_version": "2.0.0",
      "model_name": "HTMLModel",
      "state": {
       "layout": "IPY_MODEL_01f53edf8d614a01bdb76623101b99ed",
       "style": "IPY_MODEL_0b7ce94f42ff4f6896ac6f46ae11298e",
       "value": "100%"
      }
     },
     "a6e64ce8473747609cd94d19168e4555": {
      "model_module": "@jupyter-widgets/controls",
      "model_module_version": "2.0.0",
      "model_name": "HBoxModel",
      "state": {
       "children": [
        "IPY_MODEL_e6f13347e69244daa66429ad7e7993f0",
        "IPY_MODEL_907eea4396004e7592555889595c0f8c",
        "IPY_MODEL_c5a31fab52fb48adb34da47959b715f8"
       ],
       "layout": "IPY_MODEL_7bb48779700c4aca91b21175ddf859f5"
      }
     },
     "a71262d56bb2455d8bf8817fbff0af74": {
      "model_module": "@jupyter-widgets/base",
      "model_module_version": "2.0.0",
      "model_name": "LayoutModel",
      "state": {}
     },
     "a71a57325ab340f6a1921282c490f3c6": {
      "model_module": "@jupyter-widgets/controls",
      "model_module_version": "2.0.0",
      "model_name": "HTMLModel",
      "state": {
       "layout": "IPY_MODEL_fa2de8937cdf48d3b766ced6ddf99e88",
       "style": "IPY_MODEL_f84c311ef0354785ab90d80417e1a9b0",
       "value": " 22/22 [00:00&lt;00:00, 416.38it/s]"
      }
     },
     "a736d9fdcb684a8c96f5a22b519c79d3": {
      "model_module": "@jupyter-widgets/controls",
      "model_module_version": "2.0.0",
      "model_name": "ProgressStyleModel",
      "state": {
       "description_width": ""
      }
     },
     "a74588e86fa241c58bc59443c90f7f58": {
      "model_module": "@jupyter-widgets/controls",
      "model_module_version": "2.0.0",
      "model_name": "ProgressStyleModel",
      "state": {
       "description_width": ""
      }
     },
     "a75e636a21a54d9e8214e8379bd484e3": {
      "model_module": "@jupyter-widgets/base",
      "model_module_version": "2.0.0",
      "model_name": "LayoutModel",
      "state": {}
     },
     "a791bf24e8a14f57addcc36a78c900fc": {
      "model_module": "@jupyter-widgets/controls",
      "model_module_version": "2.0.0",
      "model_name": "HTMLStyleModel",
      "state": {
       "description_width": "",
       "font_size": null,
       "text_color": null
      }
     },
     "a79a56a29e53482f8e6840e9ff4250e1": {
      "model_module": "@jupyter-widgets/controls",
      "model_module_version": "2.0.0",
      "model_name": "HTMLStyleModel",
      "state": {
       "description_width": "",
       "font_size": null,
       "text_color": null
      }
     },
     "a7b7ddbcef3848728843d408534b11f1": {
      "model_module": "@jupyter-widgets/controls",
      "model_module_version": "2.0.0",
      "model_name": "FloatProgressModel",
      "state": {
       "bar_style": "success",
       "layout": "IPY_MODEL_23cacd3f1d334093980c22e2449f0a9e",
       "max": 23,
       "style": "IPY_MODEL_a6b1fcbfe7744685b6cb22c73771a58b",
       "value": 23
      }
     },
     "a7d0b69486204e5087facbb888ae8d3b": {
      "model_module": "@jupyter-widgets/base",
      "model_module_version": "2.0.0",
      "model_name": "LayoutModel",
      "state": {}
     },
     "a7fd6eab27ff46818592cf193196aca4": {
      "model_module": "@jupyter-widgets/controls",
      "model_module_version": "2.0.0",
      "model_name": "HTMLStyleModel",
      "state": {
       "description_width": "",
       "font_size": null,
       "text_color": null
      }
     },
     "a81a2f5c31434084a5e1796bbd758e0c": {
      "model_module": "@jupyter-widgets/base",
      "model_module_version": "2.0.0",
      "model_name": "LayoutModel",
      "state": {}
     },
     "a8261e411ca6479b824fd751fc6f30fb": {
      "model_module": "@jupyter-widgets/controls",
      "model_module_version": "2.0.0",
      "model_name": "FloatProgressModel",
      "state": {
       "bar_style": "success",
       "layout": "IPY_MODEL_b59b2b6c11714d6bb3845614f095293a",
       "max": 23,
       "style": "IPY_MODEL_c0233fb9867643a9ad5d61024690dae5",
       "value": 23
      }
     },
     "a84287fd30b84e028c81d58841a901b5": {
      "model_module": "@jupyter-widgets/base",
      "model_module_version": "2.0.0",
      "model_name": "LayoutModel",
      "state": {}
     },
     "a8428da6eda340ddacd3d4be1e36f7ff": {
      "model_module": "@jupyter-widgets/base",
      "model_module_version": "2.0.0",
      "model_name": "LayoutModel",
      "state": {}
     },
     "a84dbe70f1ca40dbb84844c21b6625d4": {
      "model_module": "@jupyter-widgets/controls",
      "model_module_version": "2.0.0",
      "model_name": "HTMLModel",
      "state": {
       "layout": "IPY_MODEL_afde574ebc0045efab2fbc1247ea370d",
       "style": "IPY_MODEL_c4e0b4fc8d444955bd53b72581c26f8b",
       "value": " 23/23 [00:01&lt;00:00, 20.54it/s]"
      }
     },
     "a856abe256a943e9ab48b7b074e18fda": {
      "model_module": "@jupyter-widgets/controls",
      "model_module_version": "2.0.0",
      "model_name": "HTMLModel",
      "state": {
       "layout": "IPY_MODEL_1a426e57127b44338692ee0b59c5c80f",
       "style": "IPY_MODEL_1c5b14f98e9340728687350273447f4e",
       "value": " 23/23 [00:00&lt;00:00, 47.88it/s]"
      }
     },
     "a872ccb9d2194449838f5bb1b6402236": {
      "model_module": "@jupyter-widgets/controls",
      "model_module_version": "2.0.0",
      "model_name": "HTMLStyleModel",
      "state": {
       "description_width": "",
       "font_size": null,
       "text_color": null
      }
     },
     "a8bc33fc34324ee58939596ad02bc848": {
      "model_module": "@jupyter-widgets/controls",
      "model_module_version": "2.0.0",
      "model_name": "HTMLModel",
      "state": {
       "layout": "IPY_MODEL_7e873fd3c2d54b3997c63f01a658326a",
       "style": "IPY_MODEL_049da396c62246dcac8782430ebaed0a",
       "value": " 21/21 [00:00&lt;00:00, 43.26it/s]"
      }
     },
     "a8c60b3eb1df4e2ca8df3e2b8939f70f": {
      "model_module": "@jupyter-widgets/base",
      "model_module_version": "2.0.0",
      "model_name": "LayoutModel",
      "state": {}
     },
     "a8c74ce2b0a14e5896eb729845960153": {
      "model_module": "@jupyter-widgets/base",
      "model_module_version": "2.0.0",
      "model_name": "LayoutModel",
      "state": {}
     },
     "a907daebad7b4e919a08c16ba31912c6": {
      "model_module": "@jupyter-widgets/base",
      "model_module_version": "2.0.0",
      "model_name": "LayoutModel",
      "state": {}
     },
     "a91c2db87ba64ca48d1147636a626320": {
      "model_module": "@jupyter-widgets/controls",
      "model_module_version": "2.0.0",
      "model_name": "HTMLStyleModel",
      "state": {
       "description_width": "",
       "font_size": null,
       "text_color": null
      }
     },
     "a91c3bf3a62c4f3f95a92bf3f216e936": {
      "model_module": "@jupyter-widgets/controls",
      "model_module_version": "2.0.0",
      "model_name": "HTMLModel",
      "state": {
       "layout": "IPY_MODEL_99d60acb6dc645c898842973a76b4123",
       "style": "IPY_MODEL_1e3bdc0d77da4a70a0e691e6a410cc3b",
       "value": " 22/22 [00:00&lt;00:00, 43.38it/s]"
      }
     },
     "a93b04a5f8554478b8e3ca18121a6813": {
      "model_module": "@jupyter-widgets/controls",
      "model_module_version": "2.0.0",
      "model_name": "HTMLModel",
      "state": {
       "layout": "IPY_MODEL_1d3aff80dbd94a1287ac8cc99f5f94fb",
       "style": "IPY_MODEL_62b9bde6d04f4520b1eac30fdbe7937e",
       "value": " 20/20 [00:00&lt;00:00, 380.78it/s]"
      }
     },
     "a93cad7a26b9498ba22b9ef955f15464": {
      "model_module": "@jupyter-widgets/controls",
      "model_module_version": "2.0.0",
      "model_name": "ProgressStyleModel",
      "state": {
       "description_width": ""
      }
     },
     "a93fb769e2c6414eb5a6e58f03131f4f": {
      "model_module": "@jupyter-widgets/controls",
      "model_module_version": "2.0.0",
      "model_name": "HTMLStyleModel",
      "state": {
       "description_width": "",
       "font_size": null,
       "text_color": null
      }
     },
     "a946dbff17064854a03a7cf16b5704f0": {
      "model_module": "@jupyter-widgets/controls",
      "model_module_version": "2.0.0",
      "model_name": "HTMLStyleModel",
      "state": {
       "description_width": "",
       "font_size": null,
       "text_color": null
      }
     },
     "a953c782920e4f129f9080f11f475bba": {
      "model_module": "@jupyter-widgets/base",
      "model_module_version": "2.0.0",
      "model_name": "LayoutModel",
      "state": {}
     },
     "a9d7bc77b6e54a5d989c9c9fd541037f": {
      "model_module": "@jupyter-widgets/base",
      "model_module_version": "2.0.0",
      "model_name": "LayoutModel",
      "state": {}
     },
     "a9f122da71c64631851c9332013d4cad": {
      "model_module": "@jupyter-widgets/base",
      "model_module_version": "2.0.0",
      "model_name": "LayoutModel",
      "state": {}
     },
     "aa5c6c2c48964b95a628646c098a2b8f": {
      "model_module": "@jupyter-widgets/base",
      "model_module_version": "2.0.0",
      "model_name": "LayoutModel",
      "state": {}
     },
     "aaa5d48b9435443f8f792345b096e877": {
      "model_module": "@jupyter-widgets/controls",
      "model_module_version": "2.0.0",
      "model_name": "ProgressStyleModel",
      "state": {
       "description_width": ""
      }
     },
     "aaabf66406644d9287f618b52e1df2a8": {
      "model_module": "@jupyter-widgets/base",
      "model_module_version": "2.0.0",
      "model_name": "LayoutModel",
      "state": {}
     },
     "aabe5f4037f44d1f9e679d41e99b3bcd": {
      "model_module": "@jupyter-widgets/base",
      "model_module_version": "2.0.0",
      "model_name": "LayoutModel",
      "state": {}
     },
     "aad08c557e784a788518f5dfc5179c35": {
      "model_module": "@jupyter-widgets/controls",
      "model_module_version": "2.0.0",
      "model_name": "FloatProgressModel",
      "state": {
       "bar_style": "success",
       "layout": "IPY_MODEL_3f40f61dffd94a08a9415bdd5fe5e962",
       "max": 20,
       "style": "IPY_MODEL_eecc18dec55043b3ba256f4da1445f80",
       "value": 20
      }
     },
     "aaefeace89964e99abc01952c441f721": {
      "model_module": "@jupyter-widgets/controls",
      "model_module_version": "2.0.0",
      "model_name": "HBoxModel",
      "state": {
       "children": [
        "IPY_MODEL_b19deb44c6fd4ac088cc19dc0bef611d",
        "IPY_MODEL_1cfeb3cd0a76473088501b8d7333c0db",
        "IPY_MODEL_72254d24dc2849fcb7f277135a1b9a77"
       ],
       "layout": "IPY_MODEL_e9785e38b28d43f2b0b354d2d88ba674"
      }
     },
     "ab111839d4f1473ebab0a5ef08799bf1": {
      "model_module": "@jupyter-widgets/controls",
      "model_module_version": "2.0.0",
      "model_name": "HTMLModel",
      "state": {
       "layout": "IPY_MODEL_a9f122da71c64631851c9332013d4cad",
       "style": "IPY_MODEL_63e7261bcc904e9a8e95ab9ae76399ec",
       "value": "100%"
      }
     },
     "ab2a7bedaa9142cda4c6fb48377912d4": {
      "model_module": "@jupyter-widgets/controls",
      "model_module_version": "2.0.0",
      "model_name": "HTMLModel",
      "state": {
       "layout": "IPY_MODEL_f291bb1db3f34867915968c66fc78653",
       "style": "IPY_MODEL_e6adb155e6384ad29b26dd96e7df0276",
       "value": " 22/22 [00:00&lt;00:00, 414.50it/s]"
      }
     },
     "ab2f6e19e9404a8a8c4d89d0f599085b": {
      "model_module": "@jupyter-widgets/controls",
      "model_module_version": "2.0.0",
      "model_name": "HTMLStyleModel",
      "state": {
       "description_width": "",
       "font_size": null,
       "text_color": null
      }
     },
     "ab46627223ba464595ccad563911c5a1": {
      "model_module": "@jupyter-widgets/base",
      "model_module_version": "2.0.0",
      "model_name": "LayoutModel",
      "state": {}
     },
     "ab518e51ec99471882e3331fad59df67": {
      "model_module": "@jupyter-widgets/controls",
      "model_module_version": "2.0.0",
      "model_name": "ProgressStyleModel",
      "state": {
       "description_width": ""
      }
     },
     "ab5513cd17774dd680aab12f8a25db96": {
      "model_module": "@jupyter-widgets/base",
      "model_module_version": "2.0.0",
      "model_name": "LayoutModel",
      "state": {}
     },
     "ab564aa147df4ee9855c9d5c9c301a4b": {
      "model_module": "@jupyter-widgets/controls",
      "model_module_version": "2.0.0",
      "model_name": "HTMLModel",
      "state": {
       "layout": "IPY_MODEL_7c2eeaee73d24f3f99528433f8d2eee2",
       "style": "IPY_MODEL_452b3ae666a443bfaaf0216a32f8ec92",
       "value": "100%"
      }
     },
     "ab70a7d713d0452a9ac80069c603d9f7": {
      "model_module": "@jupyter-widgets/base",
      "model_module_version": "2.0.0",
      "model_name": "LayoutModel",
      "state": {}
     },
     "ab749056a4114b7d834f17d5acad7ddf": {
      "model_module": "@jupyter-widgets/base",
      "model_module_version": "2.0.0",
      "model_name": "LayoutModel",
      "state": {}
     },
     "ab927db6a4ed41bcac4bd3ac9c57ae82": {
      "model_module": "@jupyter-widgets/controls",
      "model_module_version": "2.0.0",
      "model_name": "HTMLStyleModel",
      "state": {
       "description_width": "",
       "font_size": null,
       "text_color": null
      }
     },
     "abaa85a96e794e19b30f977f0d072f03": {
      "model_module": "@jupyter-widgets/controls",
      "model_module_version": "2.0.0",
      "model_name": "HTMLModel",
      "state": {
       "layout": "IPY_MODEL_6f858d8a7dcb4821959dae0591223ee8",
       "style": "IPY_MODEL_a675fc1987674812a192e00e3dc63001",
       "value": "100%"
      }
     },
     "ac4da90c4e184cf1bd1895d0647e9b3f": {
      "model_module": "@jupyter-widgets/controls",
      "model_module_version": "2.0.0",
      "model_name": "HTMLStyleModel",
      "state": {
       "description_width": "",
       "font_size": null,
       "text_color": null
      }
     },
     "ac5440ad173543e7bcdf10d1beb4d21e": {
      "model_module": "@jupyter-widgets/controls",
      "model_module_version": "2.0.0",
      "model_name": "HBoxModel",
      "state": {
       "children": [
        "IPY_MODEL_59178dc4adb74f84af048ffd3ac539af",
        "IPY_MODEL_3f3511bbadf84e6aa77ec07b45d538d8",
        "IPY_MODEL_73cfcf65319a4e3ab249bb952030db9c"
       ],
       "layout": "IPY_MODEL_91961706157c472bb7b72fd0ac72bb18"
      }
     },
     "ac6f4f0a012246f18404f836dbcd1f1c": {
      "model_module": "@jupyter-widgets/controls",
      "model_module_version": "2.0.0",
      "model_name": "ProgressStyleModel",
      "state": {
       "description_width": ""
      }
     },
     "acd4213e63764d44a63a5b1057aec190": {
      "model_module": "@jupyter-widgets/controls",
      "model_module_version": "2.0.0",
      "model_name": "HTMLStyleModel",
      "state": {
       "description_width": "",
       "font_size": null,
       "text_color": null
      }
     },
     "acd7f2d5176f4bcbab7f5564a82a43c3": {
      "model_module": "@jupyter-widgets/base",
      "model_module_version": "2.0.0",
      "model_name": "LayoutModel",
      "state": {}
     },
     "ad8d666e416f43feb5d695848759b3b8": {
      "model_module": "@jupyter-widgets/base",
      "model_module_version": "2.0.0",
      "model_name": "LayoutModel",
      "state": {}
     },
     "adaa492b9f4f4323a683285430021d2f": {
      "model_module": "@jupyter-widgets/base",
      "model_module_version": "2.0.0",
      "model_name": "LayoutModel",
      "state": {}
     },
     "adbaf97a08a24ab986fb430f68ce7e95": {
      "model_module": "@jupyter-widgets/controls",
      "model_module_version": "2.0.0",
      "model_name": "HTMLModel",
      "state": {
       "layout": "IPY_MODEL_1a78abecabb644adbca3251713876f84",
       "style": "IPY_MODEL_efd5a629bbd249c4badd986352752f28",
       "value": " 22/22 [00:01&lt;00:00, 17.66it/s]"
      }
     },
     "adbfa51b9109490fa5849fbe30f39f2a": {
      "model_module": "@jupyter-widgets/controls",
      "model_module_version": "2.0.0",
      "model_name": "ProgressStyleModel",
      "state": {
       "description_width": ""
      }
     },
     "adc621c584954ac7a2589c4827ac3d11": {
      "model_module": "@jupyter-widgets/controls",
      "model_module_version": "2.0.0",
      "model_name": "HTMLStyleModel",
      "state": {
       "description_width": "",
       "font_size": null,
       "text_color": null
      }
     },
     "add3b4adedca40c48c2fd85b8158bdf6": {
      "model_module": "@jupyter-widgets/controls",
      "model_module_version": "2.0.0",
      "model_name": "HTMLModel",
      "state": {
       "layout": "IPY_MODEL_ccb3d8115a564efba3e7923d8ded49c1",
       "style": "IPY_MODEL_85da582736a94e40843910098e4b6f29",
       "value": "100%"
      }
     },
     "adf5d58b5d7c4a188e61869d34f42028": {
      "model_module": "@jupyter-widgets/controls",
      "model_module_version": "2.0.0",
      "model_name": "FloatProgressModel",
      "state": {
       "bar_style": "success",
       "layout": "IPY_MODEL_2e0fb1d936e4487a85a590795a398129",
       "max": 21,
       "style": "IPY_MODEL_4ac3b5091fdb454ba09aba96c708873c",
       "value": 21
      }
     },
     "ae05f2c3180345718f09c21760191c74": {
      "model_module": "@jupyter-widgets/controls",
      "model_module_version": "2.0.0",
      "model_name": "HTMLStyleModel",
      "state": {
       "description_width": "",
       "font_size": null,
       "text_color": null
      }
     },
     "ae18629c631b4e83907a20b231e291b4": {
      "model_module": "@jupyter-widgets/base",
      "model_module_version": "2.0.0",
      "model_name": "LayoutModel",
      "state": {}
     },
     "ae3a70014e904ad9a48102ebd7479a19": {
      "model_module": "@jupyter-widgets/controls",
      "model_module_version": "2.0.0",
      "model_name": "HTMLModel",
      "state": {
       "layout": "IPY_MODEL_331fc214ad1e4dcba062b535936c0c52",
       "style": "IPY_MODEL_2790f9a3c4b041b38902d225ce32d78c",
       "value": "100%"
      }
     },
     "ae43faecf9c042f48f00760a27cae376": {
      "model_module": "@jupyter-widgets/base",
      "model_module_version": "2.0.0",
      "model_name": "LayoutModel",
      "state": {}
     },
     "ae8d7ce1e3804400a45f79b9661d5b94": {
      "model_module": "@jupyter-widgets/base",
      "model_module_version": "2.0.0",
      "model_name": "LayoutModel",
      "state": {}
     },
     "ae920ae3bb334f9d82f523e198eb9988": {
      "model_module": "@jupyter-widgets/controls",
      "model_module_version": "2.0.0",
      "model_name": "HTMLStyleModel",
      "state": {
       "description_width": "",
       "font_size": null,
       "text_color": null
      }
     },
     "ae94d9011a1f47d1b139832232011519": {
      "model_module": "@jupyter-widgets/controls",
      "model_module_version": "2.0.0",
      "model_name": "HTMLStyleModel",
      "state": {
       "description_width": "",
       "font_size": null,
       "text_color": null
      }
     },
     "aea61b2e19fb44debef788ec70355451": {
      "model_module": "@jupyter-widgets/base",
      "model_module_version": "2.0.0",
      "model_name": "LayoutModel",
      "state": {}
     },
     "aebce8621c8a4c979db38bb31076a4dc": {
      "model_module": "@jupyter-widgets/controls",
      "model_module_version": "2.0.0",
      "model_name": "HTMLStyleModel",
      "state": {
       "description_width": "",
       "font_size": null,
       "text_color": null
      }
     },
     "aee12c2539ba42b9aefd04c5dbe605f1": {
      "model_module": "@jupyter-widgets/controls",
      "model_module_version": "2.0.0",
      "model_name": "HBoxModel",
      "state": {
       "children": [
        "IPY_MODEL_456e0045763a44439243aeaa7af400ba",
        "IPY_MODEL_733e9db8581f417f9d13f49fad2c3f0c",
        "IPY_MODEL_b3f12a77e6fb4327aaf364ef6d8edb13"
       ],
       "layout": "IPY_MODEL_5f7a21aebd674a5bbfb6ae455e790c9d"
      }
     },
     "af00db0a011e426b893a2f8d9933711c": {
      "model_module": "@jupyter-widgets/controls",
      "model_module_version": "2.0.0",
      "model_name": "HTMLModel",
      "state": {
       "layout": "IPY_MODEL_30942e9d470d4537838b99cbacbd86c5",
       "style": "IPY_MODEL_8969197b20e544a992e3be606d6206eb",
       "value": "100%"
      }
     },
     "af13416d999048b8be1df31659826c85": {
      "model_module": "@jupyter-widgets/controls",
      "model_module_version": "2.0.0",
      "model_name": "HTMLStyleModel",
      "state": {
       "description_width": "",
       "font_size": null,
       "text_color": null
      }
     },
     "af2a6e21cf644bada2b9f9e4dd989596": {
      "model_module": "@jupyter-widgets/base",
      "model_module_version": "2.0.0",
      "model_name": "LayoutModel",
      "state": {}
     },
     "af335d77e7b84386a39a355780faf0b4": {
      "model_module": "@jupyter-widgets/base",
      "model_module_version": "2.0.0",
      "model_name": "LayoutModel",
      "state": {}
     },
     "af63fdba135b4455873a9ae93e2a0b22": {
      "model_module": "@jupyter-widgets/controls",
      "model_module_version": "2.0.0",
      "model_name": "HTMLStyleModel",
      "state": {
       "description_width": "",
       "font_size": null,
       "text_color": null
      }
     },
     "afa6a7ada5434afba01116d065500d6f": {
      "model_module": "@jupyter-widgets/controls",
      "model_module_version": "2.0.0",
      "model_name": "HTMLModel",
      "state": {
       "layout": "IPY_MODEL_170cf80247d140618279f3458317cb74",
       "style": "IPY_MODEL_f0c70afc50e241d4a25ca034eed8d184",
       "value": " 22/22 [00:00&lt;00:00, 42.72it/s]"
      }
     },
     "afd0f7b5da964544b4f6f950c182c797": {
      "model_module": "@jupyter-widgets/controls",
      "model_module_version": "2.0.0",
      "model_name": "HTMLModel",
      "state": {
       "layout": "IPY_MODEL_a0d08db037074f9394b696d67f1b5342",
       "style": "IPY_MODEL_e619a174069d41c89534ac348f77e164",
       "value": "100%"
      }
     },
     "afd4b882b85641258fd3aaf4d8a492f7": {
      "model_module": "@jupyter-widgets/base",
      "model_module_version": "2.0.0",
      "model_name": "LayoutModel",
      "state": {}
     },
     "afde574ebc0045efab2fbc1247ea370d": {
      "model_module": "@jupyter-widgets/base",
      "model_module_version": "2.0.0",
      "model_name": "LayoutModel",
      "state": {}
     },
     "b052d9c0fbcb49be8fb557a514d03d82": {
      "model_module": "@jupyter-widgets/controls",
      "model_module_version": "2.0.0",
      "model_name": "HTMLModel",
      "state": {
       "layout": "IPY_MODEL_6f58db6e9e054b62b0a1f7983e46cd9e",
       "style": "IPY_MODEL_3b913e5d94b146e7ba62bcd1ddbfe632",
       "value": " 22/22 [00:00&lt;00:00, 39.52it/s]"
      }
     },
     "b07be7c9f7944fee869e2f0e9e8f7a72": {
      "model_module": "@jupyter-widgets/base",
      "model_module_version": "2.0.0",
      "model_name": "LayoutModel",
      "state": {}
     },
     "b08ca243c05a4ed7aa059ff6ea69829f": {
      "model_module": "@jupyter-widgets/controls",
      "model_module_version": "2.0.0",
      "model_name": "HBoxModel",
      "state": {
       "children": [
        "IPY_MODEL_01f8fd409b214479a6212e1fec7bbb48",
        "IPY_MODEL_ccad9403576f4da18404472b8feb6d1a",
        "IPY_MODEL_a91c3bf3a62c4f3f95a92bf3f216e936"
       ],
       "layout": "IPY_MODEL_ae8d7ce1e3804400a45f79b9661d5b94"
      }
     },
     "b08f5d3935634ccb80670d488309bdac": {
      "model_module": "@jupyter-widgets/controls",
      "model_module_version": "2.0.0",
      "model_name": "FloatProgressModel",
      "state": {
       "bar_style": "success",
       "layout": "IPY_MODEL_ca0f628924594b118407d956b8cade6d",
       "max": 22,
       "style": "IPY_MODEL_bfd11001df9041418ff325408b3ec3c9",
       "value": 22
      }
     },
     "b0a5ddf8d2ad4661ab929f84cdec0cb5": {
      "model_module": "@jupyter-widgets/controls",
      "model_module_version": "2.0.0",
      "model_name": "FloatProgressModel",
      "state": {
       "bar_style": "success",
       "layout": "IPY_MODEL_0a9285a1c65c4e1ca23b9acbb649dec7",
       "max": 23,
       "style": "IPY_MODEL_7b0edc9305c245ffa417570f691d1ea9",
       "value": 23
      }
     },
     "b0bf5766f4324a888267a735b43f727c": {
      "model_module": "@jupyter-widgets/controls",
      "model_module_version": "2.0.0",
      "model_name": "FloatProgressModel",
      "state": {
       "bar_style": "success",
       "layout": "IPY_MODEL_35375a6417fb4109b7afd4aca61794bf",
       "max": 22,
       "style": "IPY_MODEL_b9bc30ae598e4a22ac89676be57f9115",
       "value": 22
      }
     },
     "b0c1bd4afaa3493584231470d7396a6c": {
      "model_module": "@jupyter-widgets/controls",
      "model_module_version": "2.0.0",
      "model_name": "HTMLStyleModel",
      "state": {
       "description_width": "",
       "font_size": null,
       "text_color": null
      }
     },
     "b0e3ca3181f74b9aa61a07c244a021f7": {
      "model_module": "@jupyter-widgets/controls",
      "model_module_version": "2.0.0",
      "model_name": "HTMLModel",
      "state": {
       "layout": "IPY_MODEL_92791acbca6f4b71a8167b34fa55fd71",
       "style": "IPY_MODEL_598af01fa3254f5da184c74e15440dc8",
       "value": "100%"
      }
     },
     "b0e443c7bb5242fc8a0969ec947ad525": {
      "model_module": "@jupyter-widgets/base",
      "model_module_version": "2.0.0",
      "model_name": "LayoutModel",
      "state": {}
     },
     "b0fce52e9ba54972becc32772bb6d270": {
      "model_module": "@jupyter-widgets/base",
      "model_module_version": "2.0.0",
      "model_name": "LayoutModel",
      "state": {}
     },
     "b0fdf146670846429d19f0807f127340": {
      "model_module": "@jupyter-widgets/controls",
      "model_module_version": "2.0.0",
      "model_name": "FloatProgressModel",
      "state": {
       "bar_style": "success",
       "layout": "IPY_MODEL_8d6f12b1d4e2402fb635094603f967f5",
       "max": 20,
       "style": "IPY_MODEL_8366abc03d0246399b89d7f96fdd120f",
       "value": 20
      }
     },
     "b1058859426a4ddaa3d7852bb5647532": {
      "model_module": "@jupyter-widgets/controls",
      "model_module_version": "2.0.0",
      "model_name": "FloatProgressModel",
      "state": {
       "bar_style": "success",
       "layout": "IPY_MODEL_1abcd142b8384537a96fadeacaab6f89",
       "max": 21,
       "style": "IPY_MODEL_93b0ea82b62144b69fd97871784339dc",
       "value": 21
      }
     },
     "b135847e08ef4368afc263418f2ac043": {
      "model_module": "@jupyter-widgets/controls",
      "model_module_version": "2.0.0",
      "model_name": "HTMLModel",
      "state": {
       "layout": "IPY_MODEL_0ae38224951046d0976f96dc29179744",
       "style": "IPY_MODEL_eeff78f7f1c040cda0ad376418c6f22e",
       "value": " 20/20 [00:00&lt;00:00, 38.88it/s]"
      }
     },
     "b1582fea1d614dd695a83cc63d5c0959": {
      "model_module": "@jupyter-widgets/controls",
      "model_module_version": "2.0.0",
      "model_name": "ProgressStyleModel",
      "state": {
       "description_width": ""
      }
     },
     "b171083a752648459cf8e101e8308a08": {
      "model_module": "@jupyter-widgets/controls",
      "model_module_version": "2.0.0",
      "model_name": "FloatProgressModel",
      "state": {
       "bar_style": "success",
       "layout": "IPY_MODEL_8120a55d22f946c39d7eeeb42c253509",
       "max": 21,
       "style": "IPY_MODEL_26aad94e697f4c93a867b27881e523ea",
       "value": 21
      }
     },
     "b1878431828d4e34b3ded98163c9b733": {
      "model_module": "@jupyter-widgets/controls",
      "model_module_version": "2.0.0",
      "model_name": "HTMLStyleModel",
      "state": {
       "description_width": "",
       "font_size": null,
       "text_color": null
      }
     },
     "b19deb44c6fd4ac088cc19dc0bef611d": {
      "model_module": "@jupyter-widgets/controls",
      "model_module_version": "2.0.0",
      "model_name": "HTMLModel",
      "state": {
       "layout": "IPY_MODEL_12566a4bebaf4f5796616754c441bef8",
       "style": "IPY_MODEL_47068c59475c4c74a253a6b0659b3534",
       "value": "100%"
      }
     },
     "b1a435b6b22940939d72481a49297a29": {
      "model_module": "@jupyter-widgets/controls",
      "model_module_version": "2.0.0",
      "model_name": "HTMLModel",
      "state": {
       "layout": "IPY_MODEL_fb088b03a98d451fb79fe3bb8b2ec975",
       "style": "IPY_MODEL_eda9e49bf1e64481be40f379a1831326",
       "value": "100%"
      }
     },
     "b1f17fa5ca394500877b333d44b0266e": {
      "model_module": "@jupyter-widgets/controls",
      "model_module_version": "2.0.0",
      "model_name": "HTMLModel",
      "state": {
       "layout": "IPY_MODEL_6c0c8940a96a48319105daf86c48d0e7",
       "style": "IPY_MODEL_f2ab57154e8d43669a38d39991fd27a8",
       "value": "100%"
      }
     },
     "b1f55ed8433043e2ab957de8849a940f": {
      "model_module": "@jupyter-widgets/base",
      "model_module_version": "2.0.0",
      "model_name": "LayoutModel",
      "state": {}
     },
     "b21afe089245495b8b22ccadf0ff06ed": {
      "model_module": "@jupyter-widgets/base",
      "model_module_version": "2.0.0",
      "model_name": "LayoutModel",
      "state": {}
     },
     "b25677b673e64e22ad24b726accdfe39": {
      "model_module": "@jupyter-widgets/controls",
      "model_module_version": "2.0.0",
      "model_name": "HTMLStyleModel",
      "state": {
       "description_width": "",
       "font_size": null,
       "text_color": null
      }
     },
     "b256bbcdf3f844c5908aa155274fd721": {
      "model_module": "@jupyter-widgets/base",
      "model_module_version": "2.0.0",
      "model_name": "LayoutModel",
      "state": {}
     },
     "b25ffced2ffb4faba216392fcc07fcd1": {
      "model_module": "@jupyter-widgets/controls",
      "model_module_version": "2.0.0",
      "model_name": "FloatProgressModel",
      "state": {
       "bar_style": "success",
       "layout": "IPY_MODEL_25dd1f04ef364b1e8bfe190275f6793e",
       "max": 23,
       "style": "IPY_MODEL_45fab827dcc94d83ad2427b95e9748c4",
       "value": 23
      }
     },
     "b280a8bc874c4ca284c237c858f247c9": {
      "model_module": "@jupyter-widgets/controls",
      "model_module_version": "2.0.0",
      "model_name": "ProgressStyleModel",
      "state": {
       "description_width": ""
      }
     },
     "b29f8ea8ef464ae1a3eeac722d2463d6": {
      "model_module": "@jupyter-widgets/base",
      "model_module_version": "2.0.0",
      "model_name": "LayoutModel",
      "state": {}
     },
     "b2a8261e3f704f83a9643cf999d7629a": {
      "model_module": "@jupyter-widgets/controls",
      "model_module_version": "2.0.0",
      "model_name": "HTMLStyleModel",
      "state": {
       "description_width": "",
       "font_size": null,
       "text_color": null
      }
     },
     "b2dad00ad8664671811b34167f1a16d7": {
      "model_module": "@jupyter-widgets/base",
      "model_module_version": "2.0.0",
      "model_name": "LayoutModel",
      "state": {}
     },
     "b320f8d688a845f49e65e00de38d83b6": {
      "model_module": "@jupyter-widgets/controls",
      "model_module_version": "2.0.0",
      "model_name": "HTMLModel",
      "state": {
       "layout": "IPY_MODEL_6c03e6f9a0f8432e89de1fe8797b90de",
       "style": "IPY_MODEL_57be94c38d4143bfab172a2890b09134",
       "value": " 21/21 [00:00&lt;00:00, 391.54it/s]"
      }
     },
     "b3249e7419704f5e90f5982e551c1847": {
      "model_module": "@jupyter-widgets/controls",
      "model_module_version": "2.0.0",
      "model_name": "HTMLModel",
      "state": {
       "layout": "IPY_MODEL_8fc23118bd1a44e49b0a1fcf07068870",
       "style": "IPY_MODEL_0072cba209004332abb8c5f9ac52ffeb",
       "value": " 22/22 [00:00&lt;00:00, 31.33it/s]"
      }
     },
     "b363a7cca2754b08af393065db81b111": {
      "model_module": "@jupyter-widgets/controls",
      "model_module_version": "2.0.0",
      "model_name": "HTMLStyleModel",
      "state": {
       "description_width": "",
       "font_size": null,
       "text_color": null
      }
     },
     "b364459407dc44cba241c752e089aa7a": {
      "model_module": "@jupyter-widgets/controls",
      "model_module_version": "2.0.0",
      "model_name": "HBoxModel",
      "state": {
       "children": [
        "IPY_MODEL_1ab7b447996646fc83013040a75391b6",
        "IPY_MODEL_5aae370b6e414d778bffb2913f7803af",
        "IPY_MODEL_0aa5bed577984e27998d035a83c31b4f"
       ],
       "layout": "IPY_MODEL_7f4bbd3d2dc848c68a0dd6a08109b31a"
      }
     },
     "b377c109a1854af8acfe7831c41a801f": {
      "model_module": "@jupyter-widgets/controls",
      "model_module_version": "2.0.0",
      "model_name": "HTMLModel",
      "state": {
       "layout": "IPY_MODEL_5d9903ba928f4b91b1e9780d68b328cf",
       "style": "IPY_MODEL_0ac22b1fe11a498caf87da2f13a6a9f7",
       "value": " 23/23 [00:00&lt;00:00, 44.40it/s]"
      }
     },
     "b3789b09b21f4e32b99b22adbf3e0b73": {
      "model_module": "@jupyter-widgets/controls",
      "model_module_version": "2.0.0",
      "model_name": "HTMLModel",
      "state": {
       "layout": "IPY_MODEL_a71262d56bb2455d8bf8817fbff0af74",
       "style": "IPY_MODEL_ed401888d955414495bbf6b10387c5de",
       "value": " 21/21 [00:00&lt;00:00, 47.02it/s]"
      }
     },
     "b3c15c2daf0949248e2f13c7a123a0e0": {
      "model_module": "@jupyter-widgets/controls",
      "model_module_version": "2.0.0",
      "model_name": "FloatProgressModel",
      "state": {
       "bar_style": "success",
       "layout": "IPY_MODEL_ab5513cd17774dd680aab12f8a25db96",
       "max": 21,
       "style": "IPY_MODEL_fb75620466d243ccb86ef135e360bb4f",
       "value": 21
      }
     },
     "b3d359d903144a6eb42a3fab5263003a": {
      "model_module": "@jupyter-widgets/controls",
      "model_module_version": "2.0.0",
      "model_name": "HTMLModel",
      "state": {
       "layout": "IPY_MODEL_f4fdb52e656a4b7db8bd362b8efea474",
       "style": "IPY_MODEL_63251c15232b481984ec7728b5e577c8",
       "value": "100%"
      }
     },
     "b3e314d254b24927ab4891abd39fa323": {
      "model_module": "@jupyter-widgets/controls",
      "model_module_version": "2.0.0",
      "model_name": "HTMLModel",
      "state": {
       "layout": "IPY_MODEL_9144950f58e84f3798830e06116045dd",
       "style": "IPY_MODEL_efcd87365271432494706c5e9c2f9667",
       "value": "100%"
      }
     },
     "b3f12a77e6fb4327aaf364ef6d8edb13": {
      "model_module": "@jupyter-widgets/controls",
      "model_module_version": "2.0.0",
      "model_name": "HTMLModel",
      "state": {
       "layout": "IPY_MODEL_d195d3db5d1d47dcb80f69b3a4999d33",
       "style": "IPY_MODEL_4f4b60e1a1e94704ac6305e0d6b92f8b",
       "value": " 20/20 [00:00&lt;00:00, 39.79it/s]"
      }
     },
     "b40439ab19a04eb3b451dc9bcec42e3d": {
      "model_module": "@jupyter-widgets/controls",
      "model_module_version": "2.0.0",
      "model_name": "FloatProgressModel",
      "state": {
       "bar_style": "success",
       "layout": "IPY_MODEL_6f407fd7148641c3a20dfda89f9144ed",
       "max": 22,
       "style": "IPY_MODEL_98c96016c7124f8297b106fcd590d512",
       "value": 22
      }
     },
     "b405cbef6797470594baf0fbd3abcdd2": {
      "model_module": "@jupyter-widgets/base",
      "model_module_version": "2.0.0",
      "model_name": "LayoutModel",
      "state": {}
     },
     "b40627b55934487ab038e5d12e04e886": {
      "model_module": "@jupyter-widgets/controls",
      "model_module_version": "2.0.0",
      "model_name": "HTMLModel",
      "state": {
       "layout": "IPY_MODEL_4b78114cf6df439a8a9633e8155ef7e1",
       "style": "IPY_MODEL_8bcb496a14e1413f9045964575a9739b",
       "value": "100%"
      }
     },
     "b42b5562503f4617b3b4d3efb89d6dc8": {
      "model_module": "@jupyter-widgets/base",
      "model_module_version": "2.0.0",
      "model_name": "LayoutModel",
      "state": {}
     },
     "b443bc83de4d4dfd84ccd565449838ae": {
      "model_module": "@jupyter-widgets/controls",
      "model_module_version": "2.0.0",
      "model_name": "HBoxModel",
      "state": {
       "children": [
        "IPY_MODEL_fe3cf4332e524a98aed47dd555ccadfe",
        "IPY_MODEL_d5ba825016e747b9af4db942ddfa4d70",
        "IPY_MODEL_25902813d1b84873b3fd4b41d358b4b8"
       ],
       "layout": "IPY_MODEL_93dd623c22ef43c3a7bf60152fc6619d"
      }
     },
     "b452b710099b468faa24e4f8beaa5e5a": {
      "model_module": "@jupyter-widgets/controls",
      "model_module_version": "2.0.0",
      "model_name": "HTMLModel",
      "state": {
       "layout": "IPY_MODEL_4ac6b8ed050f4cb6b8480d3fc6b64a45",
       "style": "IPY_MODEL_993ba1e4b196421fb0253020a1f88380",
       "value": "100%"
      }
     },
     "b4563065573c44ebaf27a027736b3ff3": {
      "model_module": "@jupyter-widgets/controls",
      "model_module_version": "2.0.0",
      "model_name": "HTMLModel",
      "state": {
       "layout": "IPY_MODEL_524d9fef10dd4b69a6d57832a97d201f",
       "style": "IPY_MODEL_8b83c27d0b124c168faa39238d9343ac",
       "value": "100%"
      }
     },
     "b482843c99324c6e90907b998d571af4": {
      "model_module": "@jupyter-widgets/controls",
      "model_module_version": "2.0.0",
      "model_name": "FloatProgressModel",
      "state": {
       "bar_style": "success",
       "layout": "IPY_MODEL_131f6e696720479d8178c0da7f129fb1",
       "max": 23,
       "style": "IPY_MODEL_20f0721376f04dc5a65deadc52bf431e",
       "value": 23
      }
     },
     "b4abdf96491541a5bfb3ce8c2507a2d1": {
      "model_module": "@jupyter-widgets/controls",
      "model_module_version": "2.0.0",
      "model_name": "ProgressStyleModel",
      "state": {
       "description_width": ""
      }
     },
     "b4cb38d4cb044167932e92a0e752c097": {
      "model_module": "@jupyter-widgets/controls",
      "model_module_version": "2.0.0",
      "model_name": "HTMLModel",
      "state": {
       "layout": "IPY_MODEL_48aafbca53b14769bae158a0020bb400",
       "style": "IPY_MODEL_264e3fb2f38e45c59f05b704be11aaee",
       "value": " 23/23 [00:00&lt;00:00, 30.08it/s]"
      }
     },
     "b4e323f679c3412b9b98ffd284d99ea3": {
      "model_module": "@jupyter-widgets/base",
      "model_module_version": "2.0.0",
      "model_name": "LayoutModel",
      "state": {}
     },
     "b4e63c6df4fc422baf4ba18744ef2f09": {
      "model_module": "@jupyter-widgets/base",
      "model_module_version": "2.0.0",
      "model_name": "LayoutModel",
      "state": {}
     },
     "b51abdda638d47739fc0b877b3a76583": {
      "model_module": "@jupyter-widgets/controls",
      "model_module_version": "2.0.0",
      "model_name": "ProgressStyleModel",
      "state": {
       "description_width": ""
      }
     },
     "b54c5130afec441dbc8ba228c7ffe5ee": {
      "model_module": "@jupyter-widgets/controls",
      "model_module_version": "2.0.0",
      "model_name": "HTMLModel",
      "state": {
       "layout": "IPY_MODEL_04028b0b345d4df8a13af3fe2efd7b4a",
       "style": "IPY_MODEL_93730e8d5dc64086849df0bef237a2ae",
       "value": " 20/20 [00:00&lt;00:00, 22.62it/s]"
      }
     },
     "b57bafa6467e4c879369cca2bd5902d0": {
      "model_module": "@jupyter-widgets/base",
      "model_module_version": "2.0.0",
      "model_name": "LayoutModel",
      "state": {}
     },
     "b5990050ff5b4cd7b248e7abee41fcea": {
      "model_module": "@jupyter-widgets/controls",
      "model_module_version": "2.0.0",
      "model_name": "HTMLModel",
      "state": {
       "layout": "IPY_MODEL_54891800e28743a3afd521415414fc9e",
       "style": "IPY_MODEL_ae05f2c3180345718f09c21760191c74",
       "value": "100%"
      }
     },
     "b59b2b6c11714d6bb3845614f095293a": {
      "model_module": "@jupyter-widgets/base",
      "model_module_version": "2.0.0",
      "model_name": "LayoutModel",
      "state": {}
     },
     "b5b5bac4cdfa4ccb896ab560aa87a9f7": {
      "model_module": "@jupyter-widgets/controls",
      "model_module_version": "2.0.0",
      "model_name": "HTMLModel",
      "state": {
       "layout": "IPY_MODEL_af335d77e7b84386a39a355780faf0b4",
       "style": "IPY_MODEL_a872ccb9d2194449838f5bb1b6402236",
       "value": " 23/23 [00:00&lt;00:00, 424.82it/s]"
      }
     },
     "b5db432cd34042089953882499db75c2": {
      "model_module": "@jupyter-widgets/base",
      "model_module_version": "2.0.0",
      "model_name": "LayoutModel",
      "state": {}
     },
     "b60168d5b47a4425a45c4988a4549d71": {
      "model_module": "@jupyter-widgets/controls",
      "model_module_version": "2.0.0",
      "model_name": "HTMLStyleModel",
      "state": {
       "description_width": "",
       "font_size": null,
       "text_color": null
      }
     },
     "b60b06794f72443889bae233e577e017": {
      "model_module": "@jupyter-widgets/controls",
      "model_module_version": "2.0.0",
      "model_name": "HTMLStyleModel",
      "state": {
       "description_width": "",
       "font_size": null,
       "text_color": null
      }
     },
     "b61f1d24548b4470ba35925a0f96e8f4": {
      "model_module": "@jupyter-widgets/controls",
      "model_module_version": "2.0.0",
      "model_name": "HTMLModel",
      "state": {
       "layout": "IPY_MODEL_4538e3edf1b44c69b60c723e7073c9c2",
       "style": "IPY_MODEL_36273ba04ca641948cdd739dc15af7d6",
       "value": " 22/22 [00:00&lt;00:00, 22.94it/s]"
      }
     },
     "b630a596b21b4b53939e987e81140633": {
      "model_module": "@jupyter-widgets/controls",
      "model_module_version": "2.0.0",
      "model_name": "FloatProgressModel",
      "state": {
       "bar_style": "success",
       "layout": "IPY_MODEL_b1f55ed8433043e2ab957de8849a940f",
       "max": 23,
       "style": "IPY_MODEL_0a63179a304a46aabf4fc426432ee609",
       "value": 23
      }
     },
     "b6553eddad7c4f30aa688945eacc6975": {
      "model_module": "@jupyter-widgets/controls",
      "model_module_version": "2.0.0",
      "model_name": "HTMLModel",
      "state": {
       "layout": "IPY_MODEL_178eebdaeae94a1a8aab28e966d8c252",
       "style": "IPY_MODEL_1b6a46414cb94f949bb791eac1059881",
       "value": " 23/23 [00:01&lt;00:00, 19.98it/s]"
      }
     },
     "b659459f4e574a47a8b8573ca4cc3c0e": {
      "model_module": "@jupyter-widgets/controls",
      "model_module_version": "2.0.0",
      "model_name": "HTMLModel",
      "state": {
       "layout": "IPY_MODEL_bfb7f5b7bcf14286bdd532ece938d39f",
       "style": "IPY_MODEL_cfb0bd1b67744796a3fd0e9572ba1df9",
       "value": "100%"
      }
     },
     "b665406d31894f2e836b2a4ca71579a3": {
      "model_module": "@jupyter-widgets/base",
      "model_module_version": "2.0.0",
      "model_name": "LayoutModel",
      "state": {}
     },
     "b66dc1aba1544dada85484117874fbec": {
      "model_module": "@jupyter-widgets/base",
      "model_module_version": "2.0.0",
      "model_name": "LayoutModel",
      "state": {}
     },
     "b6b8979ded0e4d059ca089900b712900": {
      "model_module": "@jupyter-widgets/controls",
      "model_module_version": "2.0.0",
      "model_name": "ProgressStyleModel",
      "state": {
       "description_width": ""
      }
     },
     "b6d9a15a162e45aeb0633c9084231272": {
      "model_module": "@jupyter-widgets/base",
      "model_module_version": "2.0.0",
      "model_name": "LayoutModel",
      "state": {}
     },
     "b73b5e0a6bac408692f48182c15ef9fb": {
      "model_module": "@jupyter-widgets/controls",
      "model_module_version": "2.0.0",
      "model_name": "HTMLModel",
      "state": {
       "layout": "IPY_MODEL_7c244e7b2ce346069702a8534661e2f6",
       "style": "IPY_MODEL_7eb2955e10dc40d48b01335b334f1c2d",
       "value": "100%"
      }
     },
     "b76472c2642b4f9c8b4aa73e0eaaa644": {
      "model_module": "@jupyter-widgets/base",
      "model_module_version": "2.0.0",
      "model_name": "LayoutModel",
      "state": {}
     },
     "b77845b946d74b2da75f881860939955": {
      "model_module": "@jupyter-widgets/controls",
      "model_module_version": "2.0.0",
      "model_name": "HTMLModel",
      "state": {
       "layout": "IPY_MODEL_7ec7a12caf984b0cadda6405ba62ba0e",
       "style": "IPY_MODEL_08662451717b44edb69a32f103b2ee85",
       "value": "100%"
      }
     },
     "b78291b2e9d545ffb8b317a321e826e0": {
      "model_module": "@jupyter-widgets/controls",
      "model_module_version": "2.0.0",
      "model_name": "HTMLStyleModel",
      "state": {
       "description_width": "",
       "font_size": null,
       "text_color": null
      }
     },
     "b79e1f256f304ebc94a88c8255b179a8": {
      "model_module": "@jupyter-widgets/controls",
      "model_module_version": "2.0.0",
      "model_name": "HTMLModel",
      "state": {
       "layout": "IPY_MODEL_608908d8ecc54ff7b7a86b196af7a049",
       "style": "IPY_MODEL_1479a1a4bb6e4c8eb26dc205df833d3d",
       "value": "100%"
      }
     },
     "b7af1231341e4050ba33a207049465c2": {
      "model_module": "@jupyter-widgets/controls",
      "model_module_version": "2.0.0",
      "model_name": "HTMLModel",
      "state": {
       "layout": "IPY_MODEL_5b8506184ff74afa949e184d84461a78",
       "style": "IPY_MODEL_b1878431828d4e34b3ded98163c9b733",
       "value": "100%"
      }
     },
     "b7f1fb05ee974aeeb4e0429770232746": {
      "model_module": "@jupyter-widgets/base",
      "model_module_version": "2.0.0",
      "model_name": "LayoutModel",
      "state": {}
     },
     "b7fc57244d9d40e9a9010bb8307b0498": {
      "model_module": "@jupyter-widgets/controls",
      "model_module_version": "2.0.0",
      "model_name": "HTMLModel",
      "state": {
       "layout": "IPY_MODEL_71ab47becc054cd7affce89f49a130ca",
       "style": "IPY_MODEL_47b55db8f5944400be748f30f11a077a",
       "value": "100%"
      }
     },
     "b803f1abdebf402bb4b186111d84f78f": {
      "model_module": "@jupyter-widgets/controls",
      "model_module_version": "2.0.0",
      "model_name": "ProgressStyleModel",
      "state": {
       "description_width": ""
      }
     },
     "b8144ca2091b4ffd93422668e9ee1f40": {
      "model_module": "@jupyter-widgets/controls",
      "model_module_version": "2.0.0",
      "model_name": "FloatProgressModel",
      "state": {
       "bar_style": "success",
       "layout": "IPY_MODEL_4d3a8a55e1c1445ca3c30bb173f9ac0e",
       "max": 22,
       "style": "IPY_MODEL_b83a7971ca8e47b0a5a8eca47707b845",
       "value": 22
      }
     },
     "b83a7971ca8e47b0a5a8eca47707b845": {
      "model_module": "@jupyter-widgets/controls",
      "model_module_version": "2.0.0",
      "model_name": "ProgressStyleModel",
      "state": {
       "description_width": ""
      }
     },
     "b85524ee9a924ec8bc73cd1b705d8d7d": {
      "model_module": "@jupyter-widgets/controls",
      "model_module_version": "2.0.0",
      "model_name": "HBoxModel",
      "state": {
       "children": [
        "IPY_MODEL_d9a3100c54fa4973812faa5850183005",
        "IPY_MODEL_894e91d12e044941a6d0ea9e5a859086",
        "IPY_MODEL_22a6a75eac584cd4aefa4c0141002231"
       ],
       "layout": "IPY_MODEL_5375d4dbfc1c4612beb904071dd15a63"
      }
     },
     "b858f09f4f894730b0691148d57f818f": {
      "model_module": "@jupyter-widgets/controls",
      "model_module_version": "2.0.0",
      "model_name": "HBoxModel",
      "state": {
       "children": [
        "IPY_MODEL_97b943caf867456fb452508031491a75",
        "IPY_MODEL_2aaa0284abf141c1a6f4647872a954a1",
        "IPY_MODEL_fbc7bf301eaf40e488c22f8671876b71"
       ],
       "layout": "IPY_MODEL_fb2140dc3647409badd0662fa4e01be7"
      }
     },
     "b866410b8e7342358c82bbd403b9daec": {
      "model_module": "@jupyter-widgets/base",
      "model_module_version": "2.0.0",
      "model_name": "LayoutModel",
      "state": {}
     },
     "b874f82dbcfa42caa18ddfe301650f53": {
      "model_module": "@jupyter-widgets/controls",
      "model_module_version": "2.0.0",
      "model_name": "FloatProgressModel",
      "state": {
       "bar_style": "success",
       "layout": "IPY_MODEL_ffbc07e627e64946b757124202bd2f1b",
       "max": 20,
       "style": "IPY_MODEL_da9428c6702e484ea18b2d8d6e55423c",
       "value": 20
      }
     },
     "b8c8212600754dda86c7199883471e3e": {
      "model_module": "@jupyter-widgets/controls",
      "model_module_version": "2.0.0",
      "model_name": "HBoxModel",
      "state": {
       "children": [
        "IPY_MODEL_cb8b93b273fb439ca0df95e9a767fc43",
        "IPY_MODEL_9d55f9bbe2f848cbb2816fbb9e79e1db",
        "IPY_MODEL_34e07de7c354402f8a42c43eb9201993"
       ],
       "layout": "IPY_MODEL_5699ac95d3e341358fcad0e04762b0cc"
      }
     },
     "b90908a07c2548fa9fedeb94dae5fb04": {
      "model_module": "@jupyter-widgets/base",
      "model_module_version": "2.0.0",
      "model_name": "LayoutModel",
      "state": {}
     },
     "b91f346cf666409bbdcc06832221d1b5": {
      "model_module": "@jupyter-widgets/controls",
      "model_module_version": "2.0.0",
      "model_name": "FloatProgressModel",
      "state": {
       "bar_style": "success",
       "layout": "IPY_MODEL_0dd77c7dc15944db8de8b61edf8bce51",
       "max": 20,
       "style": "IPY_MODEL_80b63b41119c48a1bfd300480db69aa5",
       "value": 20
      }
     },
     "b9203cd4cc554af187246c48a461905c": {
      "model_module": "@jupyter-widgets/controls",
      "model_module_version": "2.0.0",
      "model_name": "FloatProgressModel",
      "state": {
       "bar_style": "success",
       "layout": "IPY_MODEL_6b9ce04ded89456ca7c53448f80e8d0e",
       "max": 22,
       "style": "IPY_MODEL_7648fcb6ae8d4e5d9e958a51c6ade6b7",
       "value": 22
      }
     },
     "b93afb95dfbf4ed4b4255009fff2d8ab": {
      "model_module": "@jupyter-widgets/controls",
      "model_module_version": "2.0.0",
      "model_name": "ProgressStyleModel",
      "state": {
       "description_width": ""
      }
     },
     "b95cc6902a0b439ab107e78723f8cab0": {
      "model_module": "@jupyter-widgets/base",
      "model_module_version": "2.0.0",
      "model_name": "LayoutModel",
      "state": {}
     },
     "b9660ae2bd7c462983ae4450f244a237": {
      "model_module": "@jupyter-widgets/base",
      "model_module_version": "2.0.0",
      "model_name": "LayoutModel",
      "state": {}
     },
     "b9a7d73eacd044dc97f15c3385edb5e9": {
      "model_module": "@jupyter-widgets/controls",
      "model_module_version": "2.0.0",
      "model_name": "HTMLModel",
      "state": {
       "layout": "IPY_MODEL_32fb116632a54dac9691221f775062e4",
       "style": "IPY_MODEL_1e6095ca3eed44cabaa60d17dbc1c85d",
       "value": " 21/21 [00:01&lt;00:00, 18.48it/s]"
      }
     },
     "b9bc30ae598e4a22ac89676be57f9115": {
      "model_module": "@jupyter-widgets/controls",
      "model_module_version": "2.0.0",
      "model_name": "ProgressStyleModel",
      "state": {
       "description_width": ""
      }
     },
     "b9c70539aede47f284d52b889e45b2de": {
      "model_module": "@jupyter-widgets/controls",
      "model_module_version": "2.0.0",
      "model_name": "ProgressStyleModel",
      "state": {
       "description_width": ""
      }
     },
     "ba0df6914c7c4158bfcee74c8373e51a": {
      "model_module": "@jupyter-widgets/base",
      "model_module_version": "2.0.0",
      "model_name": "LayoutModel",
      "state": {}
     },
     "ba5f6802381844ba94e279cd5fa044ab": {
      "model_module": "@jupyter-widgets/base",
      "model_module_version": "2.0.0",
      "model_name": "LayoutModel",
      "state": {}
     },
     "bad4d02384614cf48dd254c6520fb22a": {
      "model_module": "@jupyter-widgets/base",
      "model_module_version": "2.0.0",
      "model_name": "LayoutModel",
      "state": {}
     },
     "bad5881f0086472d9c03efff932bb774": {
      "model_module": "@jupyter-widgets/controls",
      "model_module_version": "2.0.0",
      "model_name": "FloatProgressModel",
      "state": {
       "bar_style": "success",
       "layout": "IPY_MODEL_ddd81f97881749989b2af2f5f3e8833c",
       "max": 21,
       "style": "IPY_MODEL_4bd2914f6f3842de85860f210e53ac62",
       "value": 21
      }
     },
     "bae485b810ad43eab84c7b961b72e069": {
      "model_module": "@jupyter-widgets/base",
      "model_module_version": "2.0.0",
      "model_name": "LayoutModel",
      "state": {}
     },
     "bb10d0d64b424d11875c02695a40be6f": {
      "model_module": "@jupyter-widgets/base",
      "model_module_version": "2.0.0",
      "model_name": "LayoutModel",
      "state": {}
     },
     "bb1c28ff30b14e55a6987a78f7d124a8": {
      "model_module": "@jupyter-widgets/base",
      "model_module_version": "2.0.0",
      "model_name": "LayoutModel",
      "state": {}
     },
     "bb4ebd704edd4a87a278793eae70fb0b": {
      "model_module": "@jupyter-widgets/base",
      "model_module_version": "2.0.0",
      "model_name": "LayoutModel",
      "state": {}
     },
     "bb512e3575d94a479c6d503584b4b8e4": {
      "model_module": "@jupyter-widgets/controls",
      "model_module_version": "2.0.0",
      "model_name": "HTMLStyleModel",
      "state": {
       "description_width": "",
       "font_size": null,
       "text_color": null
      }
     },
     "bbbb7a8a800843969740639b07c8c5e7": {
      "model_module": "@jupyter-widgets/base",
      "model_module_version": "2.0.0",
      "model_name": "LayoutModel",
      "state": {}
     },
     "bbd99c8681f742c5b824ca62570bab23": {
      "model_module": "@jupyter-widgets/controls",
      "model_module_version": "2.0.0",
      "model_name": "HTMLStyleModel",
      "state": {
       "description_width": "",
       "font_size": null,
       "text_color": null
      }
     },
     "bc292183d7b941aabce2de20a95518d4": {
      "model_module": "@jupyter-widgets/controls",
      "model_module_version": "2.0.0",
      "model_name": "ProgressStyleModel",
      "state": {
       "description_width": ""
      }
     },
     "bc3d6967f1754e619c3e9a58a2cabfbc": {
      "model_module": "@jupyter-widgets/base",
      "model_module_version": "2.0.0",
      "model_name": "LayoutModel",
      "state": {}
     },
     "bc44688cdea442e0b9870d89b44855ff": {
      "model_module": "@jupyter-widgets/controls",
      "model_module_version": "2.0.0",
      "model_name": "ProgressStyleModel",
      "state": {
       "description_width": ""
      }
     },
     "bc49b9e72caa4d09a8bd0329149447ab": {
      "model_module": "@jupyter-widgets/controls",
      "model_module_version": "2.0.0",
      "model_name": "ProgressStyleModel",
      "state": {
       "description_width": ""
      }
     },
     "bc6c476b133d4f1ca6296359c614e762": {
      "model_module": "@jupyter-widgets/controls",
      "model_module_version": "2.0.0",
      "model_name": "FloatProgressModel",
      "state": {
       "bar_style": "success",
       "layout": "IPY_MODEL_4f5578282f294e1cbc6f1a5f6bda0120",
       "max": 22,
       "style": "IPY_MODEL_66774ce0633447c39eb133a132c30180",
       "value": 22
      }
     },
     "bc6c7303961b45feae49e1e466af57e1": {
      "model_module": "@jupyter-widgets/base",
      "model_module_version": "2.0.0",
      "model_name": "LayoutModel",
      "state": {}
     },
     "bc6fdee64b614567be843bfae4ebd8c4": {
      "model_module": "@jupyter-widgets/base",
      "model_module_version": "2.0.0",
      "model_name": "LayoutModel",
      "state": {}
     },
     "bc8da392912d4f4bacb301ff9a10c55b": {
      "model_module": "@jupyter-widgets/controls",
      "model_module_version": "2.0.0",
      "model_name": "HTMLModel",
      "state": {
       "layout": "IPY_MODEL_93b793c7b590428a8b773aeb8fd91155",
       "style": "IPY_MODEL_3e994407d8ca4c9087eef77b37398b50",
       "value": " 20/20 [00:00&lt;00:00, 32.20it/s]"
      }
     },
     "bcb26cc761b74854b3bc2b16a1830558": {
      "model_module": "@jupyter-widgets/controls",
      "model_module_version": "2.0.0",
      "model_name": "HTMLModel",
      "state": {
       "layout": "IPY_MODEL_7ea0972b831945e8b01790667b3433a7",
       "style": "IPY_MODEL_e256a1cfe7c8408aa234cbc32f569b07",
       "value": " 21/21 [00:00&lt;00:00, 35.39it/s]"
      }
     },
     "bcb2729c751d4ba4a18c83274cf67280": {
      "model_module": "@jupyter-widgets/base",
      "model_module_version": "2.0.0",
      "model_name": "LayoutModel",
      "state": {}
     },
     "bd030434fbdf45f4aadbbd6a68c0ebce": {
      "model_module": "@jupyter-widgets/controls",
      "model_module_version": "2.0.0",
      "model_name": "HBoxModel",
      "state": {
       "children": [
        "IPY_MODEL_eeba004832b545d98d0c06c55d0d7710",
        "IPY_MODEL_9d5bd8dccc214b999ce9d4b3e220df3f",
        "IPY_MODEL_87bc9492a3c3440f8c077f4f5c3592fb"
       ],
       "layout": "IPY_MODEL_ecafc5bd25fa46fe8d629a818da97437"
      }
     },
     "bd193b6d82524508928eb6246d945b9f": {
      "model_module": "@jupyter-widgets/controls",
      "model_module_version": "2.0.0",
      "model_name": "HBoxModel",
      "state": {
       "children": [
        "IPY_MODEL_8aed409d5b7646d5b7a01292b02281ee",
        "IPY_MODEL_ec8236e65dc6400b842364e375d02f57",
        "IPY_MODEL_cd8ca46fd7a946528ebe1e5a5b7916ec"
       ],
       "layout": "IPY_MODEL_4936239214dc4131978983869624a040"
      }
     },
     "bd3b10cf12c14adca6fe380d94b656b6": {
      "model_module": "@jupyter-widgets/controls",
      "model_module_version": "2.0.0",
      "model_name": "HTMLModel",
      "state": {
       "layout": "IPY_MODEL_cdbbde38a63548a4a8bec23d3babb481",
       "style": "IPY_MODEL_db9af869077644c18970a65d81ebe381",
       "value": "100%"
      }
     },
     "bd5b5212a4cb4d07a3547405cb96aadd": {
      "model_module": "@jupyter-widgets/controls",
      "model_module_version": "2.0.0",
      "model_name": "HTMLModel",
      "state": {
       "layout": "IPY_MODEL_04cf976c61634c7ba5a9acfac7d352f6",
       "style": "IPY_MODEL_3e42e6c9bddb459ebc956a363ad6c083",
       "value": " 20/20 [00:00&lt;00:00, 49.30it/s]"
      }
     },
     "bd63ec01144b48b3b9fa3b276b682a0e": {
      "model_module": "@jupyter-widgets/base",
      "model_module_version": "2.0.0",
      "model_name": "LayoutModel",
      "state": {}
     },
     "bd85102ab502423aabd23de1dce2caba": {
      "model_module": "@jupyter-widgets/base",
      "model_module_version": "2.0.0",
      "model_name": "LayoutModel",
      "state": {}
     },
     "bda1e77698614636b756e0cf0dce1997": {
      "model_module": "@jupyter-widgets/controls",
      "model_module_version": "2.0.0",
      "model_name": "HTMLStyleModel",
      "state": {
       "description_width": "",
       "font_size": null,
       "text_color": null
      }
     },
     "bda4f214c5214fab8b0d8a4be334713f": {
      "model_module": "@jupyter-widgets/controls",
      "model_module_version": "2.0.0",
      "model_name": "HTMLModel",
      "state": {
       "layout": "IPY_MODEL_b76472c2642b4f9c8b4aa73e0eaaa644",
       "style": "IPY_MODEL_8dc41fc499e64afba20aed3da13a40a2",
       "value": "100%"
      }
     },
     "bdb42fc12aeb42e496fc8a84a0632252": {
      "model_module": "@jupyter-widgets/base",
      "model_module_version": "2.0.0",
      "model_name": "LayoutModel",
      "state": {}
     },
     "bde42adaa9fe4d79b0296f55c7e18922": {
      "model_module": "@jupyter-widgets/controls",
      "model_module_version": "2.0.0",
      "model_name": "HTMLStyleModel",
      "state": {
       "description_width": "",
       "font_size": null,
       "text_color": null
      }
     },
     "bdebb425a83c49cdb1a60f70ed2f9b3e": {
      "model_module": "@jupyter-widgets/controls",
      "model_module_version": "2.0.0",
      "model_name": "HTMLStyleModel",
      "state": {
       "description_width": "",
       "font_size": null,
       "text_color": null
      }
     },
     "bdff4434e39b41debf64339d3b6d316c": {
      "model_module": "@jupyter-widgets/base",
      "model_module_version": "2.0.0",
      "model_name": "LayoutModel",
      "state": {}
     },
     "be343fd865164cabb40906584cda3d71": {
      "model_module": "@jupyter-widgets/base",
      "model_module_version": "2.0.0",
      "model_name": "LayoutModel",
      "state": {}
     },
     "be3bd91fb75d40e68cf2cbaa10f59aad": {
      "model_module": "@jupyter-widgets/base",
      "model_module_version": "2.0.0",
      "model_name": "LayoutModel",
      "state": {}
     },
     "be52d4853a054bd5a458ecb823bfd944": {
      "model_module": "@jupyter-widgets/base",
      "model_module_version": "2.0.0",
      "model_name": "LayoutModel",
      "state": {}
     },
     "be74ff419f534b50886210c4594e0926": {
      "model_module": "@jupyter-widgets/base",
      "model_module_version": "2.0.0",
      "model_name": "LayoutModel",
      "state": {}
     },
     "be9a65c00e9f4e208cd481d444a97b4a": {
      "model_module": "@jupyter-widgets/controls",
      "model_module_version": "2.0.0",
      "model_name": "HBoxModel",
      "state": {
       "children": [
        "IPY_MODEL_057a3d9e7b2f48288a23db5722c7c3a0",
        "IPY_MODEL_1a6a09195e9e4a65ba177fc8e72b53c5",
        "IPY_MODEL_1e9b0cec58cf4e3eab255efcd030ea47"
       ],
       "layout": "IPY_MODEL_bf8e2263c5c0456b8c6f4c80e54051dc"
      }
     },
     "bef578ae348d45049408342be09c2986": {
      "model_module": "@jupyter-widgets/controls",
      "model_module_version": "2.0.0",
      "model_name": "ProgressStyleModel",
      "state": {
       "description_width": ""
      }
     },
     "bf1891d001884b6c86e7dc5710df0f71": {
      "model_module": "@jupyter-widgets/controls",
      "model_module_version": "2.0.0",
      "model_name": "HTMLModel",
      "state": {
       "layout": "IPY_MODEL_3047ce5d6a654f93ae964629b5d7febe",
       "style": "IPY_MODEL_ddf78b518aea42e39d2a1b2fb224610f",
       "value": " 23/23 [00:00&lt;00:00, 422.75it/s]"
      }
     },
     "bf3630ba8cc747a9b176ec2949f1f356": {
      "model_module": "@jupyter-widgets/controls",
      "model_module_version": "2.0.0",
      "model_name": "HTMLStyleModel",
      "state": {
       "description_width": "",
       "font_size": null,
       "text_color": null
      }
     },
     "bf403161f73a4c6aafe7e7376dc55328": {
      "model_module": "@jupyter-widgets/controls",
      "model_module_version": "2.0.0",
      "model_name": "HTMLModel",
      "state": {
       "layout": "IPY_MODEL_c894766df8164764a1c58ee7cc902b35",
       "style": "IPY_MODEL_6297fd5b723f4676a49b7eec2e451a38",
       "value": " 23/23 [00:00&lt;00:00, 43.37it/s]"
      }
     },
     "bf443af93efe494e8e8f164580c576ef": {
      "model_module": "@jupyter-widgets/controls",
      "model_module_version": "2.0.0",
      "model_name": "HTMLModel",
      "state": {
       "layout": "IPY_MODEL_d7aa1f1fbfff40f58fd6cbcaefac612b",
       "style": "IPY_MODEL_aebce8621c8a4c979db38bb31076a4dc",
       "value": " 23/23 [00:00&lt;00:00, 430.12it/s]"
      }
     },
     "bf8e2263c5c0456b8c6f4c80e54051dc": {
      "model_module": "@jupyter-widgets/base",
      "model_module_version": "2.0.0",
      "model_name": "LayoutModel",
      "state": {}
     },
     "bf9cff8f9650407b8c82e4feb29c2992": {
      "model_module": "@jupyter-widgets/base",
      "model_module_version": "2.0.0",
      "model_name": "LayoutModel",
      "state": {}
     },
     "bfb7f5b7bcf14286bdd532ece938d39f": {
      "model_module": "@jupyter-widgets/base",
      "model_module_version": "2.0.0",
      "model_name": "LayoutModel",
      "state": {}
     },
     "bfbab1568e2e4bb4a6bf35b6dde8f75d": {
      "model_module": "@jupyter-widgets/controls",
      "model_module_version": "2.0.0",
      "model_name": "HTMLStyleModel",
      "state": {
       "description_width": "",
       "font_size": null,
       "text_color": null
      }
     },
     "bfc0196b894a45d8b21002055a685be7": {
      "model_module": "@jupyter-widgets/controls",
      "model_module_version": "2.0.0",
      "model_name": "HTMLStyleModel",
      "state": {
       "description_width": "",
       "font_size": null,
       "text_color": null
      }
     },
     "bfcc6e9481b64d8098f43912f54d1f65": {
      "model_module": "@jupyter-widgets/controls",
      "model_module_version": "2.0.0",
      "model_name": "HTMLModel",
      "state": {
       "layout": "IPY_MODEL_286d870d211747db9ffdaad78e5cc115",
       "style": "IPY_MODEL_7f9beae36d054688b6c99af93cd2ef33",
       "value": " 20/20 [00:00&lt;00:00, 42.06it/s]"
      }
     },
     "bfd11001df9041418ff325408b3ec3c9": {
      "model_module": "@jupyter-widgets/controls",
      "model_module_version": "2.0.0",
      "model_name": "ProgressStyleModel",
      "state": {
       "description_width": ""
      }
     },
     "bfe84e6d850e4574b1b0cbef739d4989": {
      "model_module": "@jupyter-widgets/controls",
      "model_module_version": "2.0.0",
      "model_name": "ProgressStyleModel",
      "state": {
       "description_width": ""
      }
     },
     "bff3c8a4d0cb41b989b410a390c2d0dc": {
      "model_module": "@jupyter-widgets/controls",
      "model_module_version": "2.0.0",
      "model_name": "ProgressStyleModel",
      "state": {
       "description_width": ""
      }
     },
     "bff488f2b8664da9a0416c924275215f": {
      "model_module": "@jupyter-widgets/controls",
      "model_module_version": "2.0.0",
      "model_name": "ProgressStyleModel",
      "state": {
       "description_width": ""
      }
     },
     "c0233fb9867643a9ad5d61024690dae5": {
      "model_module": "@jupyter-widgets/controls",
      "model_module_version": "2.0.0",
      "model_name": "ProgressStyleModel",
      "state": {
       "description_width": ""
      }
     },
     "c03cd09c6d9c4406aaf2fbabceb38da4": {
      "model_module": "@jupyter-widgets/base",
      "model_module_version": "2.0.0",
      "model_name": "LayoutModel",
      "state": {}
     },
     "c052de7e76404fbcbe675c5eec4587c5": {
      "model_module": "@jupyter-widgets/base",
      "model_module_version": "2.0.0",
      "model_name": "LayoutModel",
      "state": {}
     },
     "c070af4dbf09463a985c7c190714fb2e": {
      "model_module": "@jupyter-widgets/controls",
      "model_module_version": "2.0.0",
      "model_name": "ProgressStyleModel",
      "state": {
       "description_width": ""
      }
     },
     "c070d38bfe3a45308755894580290f61": {
      "model_module": "@jupyter-widgets/controls",
      "model_module_version": "2.0.0",
      "model_name": "FloatProgressModel",
      "state": {
       "bar_style": "success",
       "layout": "IPY_MODEL_2420a3d66abc4254a832dac6ef257ef4",
       "max": 20,
       "style": "IPY_MODEL_2f2520c0149b4256b4cd2d7545e4c45e",
       "value": 20
      }
     },
     "c078276f2825430dae484ebef3a8619e": {
      "model_module": "@jupyter-widgets/controls",
      "model_module_version": "2.0.0",
      "model_name": "HTMLModel",
      "state": {
       "layout": "IPY_MODEL_ebc774950ffc4655b0b9735094891ecb",
       "style": "IPY_MODEL_319506c09388492f9a598fa55a42e014",
       "value": "100%"
      }
     },
     "c082a744a2164511a3a852c67c619a8b": {
      "model_module": "@jupyter-widgets/controls",
      "model_module_version": "2.0.0",
      "model_name": "FloatProgressModel",
      "state": {
       "bar_style": "success",
       "layout": "IPY_MODEL_380ae26d17ec4416baf42c24a9f2df5e",
       "max": 21,
       "style": "IPY_MODEL_dce01b2d6375485eb42290660e0c81fe",
       "value": 21
      }
     },
     "c083bb6c878e41adbd14a04c46f329cc": {
      "model_module": "@jupyter-widgets/controls",
      "model_module_version": "2.0.0",
      "model_name": "ProgressStyleModel",
      "state": {
       "description_width": ""
      }
     },
     "c0934f7a37724e4089ff8f6e5b00d7fa": {
      "model_module": "@jupyter-widgets/controls",
      "model_module_version": "2.0.0",
      "model_name": "HBoxModel",
      "state": {
       "children": [
        "IPY_MODEL_8cd5733ec2bb465f83aa2e0ea84e8add",
        "IPY_MODEL_e7922abb650e490f8c2bd801174b80e7",
        "IPY_MODEL_3f86a5526fe9485ea005639ad9ab91d9"
       ],
       "layout": "IPY_MODEL_0f2a67340a3f41be9948b0042c103f73"
      }
     },
     "c09d29d760344fc8ae4d35b6ad2a8e3a": {
      "model_module": "@jupyter-widgets/controls",
      "model_module_version": "2.0.0",
      "model_name": "FloatProgressModel",
      "state": {
       "bar_style": "success",
       "layout": "IPY_MODEL_42fc8168124d4da1963a19880c75c33e",
       "max": 20,
       "style": "IPY_MODEL_2c5583527ee0443592c2a2b8e35e2898",
       "value": 20
      }
     },
     "c0b06e16931d4e62a7e6e58f9d587a05": {
      "model_module": "@jupyter-widgets/controls",
      "model_module_version": "2.0.0",
      "model_name": "FloatProgressModel",
      "state": {
       "bar_style": "success",
       "layout": "IPY_MODEL_f4bd589eda8648c39469e1da42800ecf",
       "max": 21,
       "style": "IPY_MODEL_3c4c2fafd82347f3957d20b932926cf8",
       "value": 21
      }
     },
     "c104bed9ca1b44148aa8689793b6cd15": {
      "model_module": "@jupyter-widgets/controls",
      "model_module_version": "2.0.0",
      "model_name": "HBoxModel",
      "state": {
       "children": [
        "IPY_MODEL_5e8feaf1e2594e4881daf695e08d6342",
        "IPY_MODEL_3784fc32766b4ca4b24b1fb44942d6e9",
        "IPY_MODEL_fc69cdbb784b42498c66015f999d8421"
       ],
       "layout": "IPY_MODEL_3de1600c287d44ecb31f16b39c9b0174"
      }
     },
     "c14f7533183044569c356264542c5b9f": {
      "model_module": "@jupyter-widgets/controls",
      "model_module_version": "2.0.0",
      "model_name": "HBoxModel",
      "state": {
       "children": [
        "IPY_MODEL_253ce0c79adb4f0a95cb0465751689c7",
        "IPY_MODEL_60203ce724da4b5aa7b4fe9fb1625cca",
        "IPY_MODEL_542714a4b7fb4b058ccf659f2cc90d73"
       ],
       "layout": "IPY_MODEL_eff313a5dd75483ea1ad5e957853174a"
      }
     },
     "c17aa12557274ec3984e9c458d2cdc96": {
      "model_module": "@jupyter-widgets/controls",
      "model_module_version": "2.0.0",
      "model_name": "FloatProgressModel",
      "state": {
       "bar_style": "success",
       "layout": "IPY_MODEL_e6166501282348bc92e77025bd82a578",
       "max": 23,
       "style": "IPY_MODEL_e2446c63e0084ec5ad3e21532af417a1",
       "value": 23
      }
     },
     "c1887aaec10949b89732a9744119aeb9": {
      "model_module": "@jupyter-widgets/controls",
      "model_module_version": "2.0.0",
      "model_name": "ProgressStyleModel",
      "state": {
       "description_width": ""
      }
     },
     "c1b7a52136554b7b8232f48b1ab0d235": {
      "model_module": "@jupyter-widgets/base",
      "model_module_version": "2.0.0",
      "model_name": "LayoutModel",
      "state": {}
     },
     "c1c528e942164472bc1ed1c269f16513": {
      "model_module": "@jupyter-widgets/base",
      "model_module_version": "2.0.0",
      "model_name": "LayoutModel",
      "state": {}
     },
     "c1dc14becc5d488ea754266ed1195c51": {
      "model_module": "@jupyter-widgets/controls",
      "model_module_version": "2.0.0",
      "model_name": "HTMLModel",
      "state": {
       "layout": "IPY_MODEL_ae43faecf9c042f48f00760a27cae376",
       "style": "IPY_MODEL_82bb6fd195cc4b1395bb7424d781c758",
       "value": "100%"
      }
     },
     "c1fad77c481246e4a2a6e40cf248c351": {
      "model_module": "@jupyter-widgets/controls",
      "model_module_version": "2.0.0",
      "model_name": "HBoxModel",
      "state": {
       "children": [
        "IPY_MODEL_470268a3f3094d46b513736d0fb756f9",
        "IPY_MODEL_f8bd0cf45f4947b9988263afb729c7b1",
        "IPY_MODEL_8af7e42f95f344cba9034780ff80e9ee"
       ],
       "layout": "IPY_MODEL_b21afe089245495b8b22ccadf0ff06ed"
      }
     },
     "c246b5c2ab7e4a93b16d7772e4bef9b3": {
      "model_module": "@jupyter-widgets/controls",
      "model_module_version": "2.0.0",
      "model_name": "FloatProgressModel",
      "state": {
       "bar_style": "success",
       "layout": "IPY_MODEL_d80c9d38390044e5a8dbb4d684f82f76",
       "max": 22,
       "style": "IPY_MODEL_fc72f0765b544fb085d0939c8140c07f",
       "value": 22
      }
     },
     "c26dd7ae64e24dc68b18adbaff47f34b": {
      "model_module": "@jupyter-widgets/controls",
      "model_module_version": "2.0.0",
      "model_name": "FloatProgressModel",
      "state": {
       "bar_style": "success",
       "layout": "IPY_MODEL_63c75590c2524d42b6ff8406cbe1a6a7",
       "max": 22,
       "style": "IPY_MODEL_a74588e86fa241c58bc59443c90f7f58",
       "value": 22
      }
     },
     "c286de079a2c4b99b5b60423001262c8": {
      "model_module": "@jupyter-widgets/controls",
      "model_module_version": "2.0.0",
      "model_name": "HTMLStyleModel",
      "state": {
       "description_width": "",
       "font_size": null,
       "text_color": null
      }
     },
     "c2d2d0a5a4d64d7c81b7587229ba80e3": {
      "model_module": "@jupyter-widgets/controls",
      "model_module_version": "2.0.0",
      "model_name": "ProgressStyleModel",
      "state": {
       "description_width": ""
      }
     },
     "c2effb875d6944cb83c15ea689678413": {
      "model_module": "@jupyter-widgets/controls",
      "model_module_version": "2.0.0",
      "model_name": "HBoxModel",
      "state": {
       "children": [
        "IPY_MODEL_abaa85a96e794e19b30f977f0d072f03",
        "IPY_MODEL_2c8bc3c4639042b0862eb8db8249c2e8",
        "IPY_MODEL_4dc70759a66849778be6c87b5bc2aca6"
       ],
       "layout": "IPY_MODEL_c5f9880cec1c4f01b7c0f9143f13cffb"
      }
     },
     "c2f082928ff341b19b85b956bd0fd44e": {
      "model_module": "@jupyter-widgets/controls",
      "model_module_version": "2.0.0",
      "model_name": "HBoxModel",
      "state": {
       "children": [
        "IPY_MODEL_4c79d13a378c4eef9d138f3bed47ccfb",
        "IPY_MODEL_0fb12a878c804028947399b5e9d95c19",
        "IPY_MODEL_f6dabebd9db8447287cbedee9261184f"
       ],
       "layout": "IPY_MODEL_d64965388cb84aef8d35d5bc6b6475be"
      }
     },
     "c30db16f4be142368292d9ec9a69e384": {
      "model_module": "@jupyter-widgets/controls",
      "model_module_version": "2.0.0",
      "model_name": "HTMLStyleModel",
      "state": {
       "description_width": "",
       "font_size": null,
       "text_color": null
      }
     },
     "c36bf1a76e924e5291df4012589594dd": {
      "model_module": "@jupyter-widgets/controls",
      "model_module_version": "2.0.0",
      "model_name": "HTMLModel",
      "state": {
       "layout": "IPY_MODEL_e5ca295c82394737a7a2a869536d0be4",
       "style": "IPY_MODEL_f57369b8c02c4156a783b840501dd4a5",
       "value": "100%"
      }
     },
     "c37925316b4a48d5802631984b593132": {
      "model_module": "@jupyter-widgets/controls",
      "model_module_version": "2.0.0",
      "model_name": "HTMLModel",
      "state": {
       "layout": "IPY_MODEL_14de8ba4a1bc4edd8764d341f7cd20c1",
       "style": "IPY_MODEL_18c6703d7f394f77bce649df69f59128",
       "value": "100%"
      }
     },
     "c3a92c35f7a845fd8561d9b6535f78c9": {
      "model_module": "@jupyter-widgets/controls",
      "model_module_version": "2.0.0",
      "model_name": "HTMLModel",
      "state": {
       "layout": "IPY_MODEL_00f2ac40ebc047a889cb0ae3ca5011d9",
       "style": "IPY_MODEL_33a7376f2be345e3bd5df5525fb4f7c2",
       "value": "100%"
      }
     },
     "c3efea0322e94871a83025b837d69e80": {
      "model_module": "@jupyter-widgets/controls",
      "model_module_version": "2.0.0",
      "model_name": "HBoxModel",
      "state": {
       "children": [
        "IPY_MODEL_a042de3f21894cd9b9fd1b7eea88a2c8",
        "IPY_MODEL_bad5881f0086472d9c03efff932bb774",
        "IPY_MODEL_8ff8c8c7c19e44a3b65bbfccdea6ae38"
       ],
       "layout": "IPY_MODEL_7fc5fcb2ba544ed98f48d78cc74a9af5"
      }
     },
     "c3f6e716017c427d8872befabb14e7f7": {
      "model_module": "@jupyter-widgets/controls",
      "model_module_version": "2.0.0",
      "model_name": "HBoxModel",
      "state": {
       "children": [
        "IPY_MODEL_ef25352ee39541f4a66075de14a0960c",
        "IPY_MODEL_b3c15c2daf0949248e2f13c7a123a0e0",
        "IPY_MODEL_8a2452bb64ff42b1969a82c3cc463dd8"
       ],
       "layout": "IPY_MODEL_4372dc86539249a3bb69e58636de1cf2"
      }
     },
     "c422c983d4f74ed7a081623678cd2cc5": {
      "model_module": "@jupyter-widgets/base",
      "model_module_version": "2.0.0",
      "model_name": "LayoutModel",
      "state": {}
     },
     "c441d2423d1e491abe0e333ae7392387": {
      "model_module": "@jupyter-widgets/controls",
      "model_module_version": "2.0.0",
      "model_name": "HTMLStyleModel",
      "state": {
       "description_width": "",
       "font_size": null,
       "text_color": null
      }
     },
     "c4a084c144da4ef89a07b6c21616a379": {
      "model_module": "@jupyter-widgets/controls",
      "model_module_version": "2.0.0",
      "model_name": "ProgressStyleModel",
      "state": {
       "description_width": ""
      }
     },
     "c4b7fd21b8ff47efaeb4ae6ed3f965fe": {
      "model_module": "@jupyter-widgets/base",
      "model_module_version": "2.0.0",
      "model_name": "LayoutModel",
      "state": {}
     },
     "c4d4471173c14975872df694c918810c": {
      "model_module": "@jupyter-widgets/controls",
      "model_module_version": "2.0.0",
      "model_name": "ProgressStyleModel",
      "state": {
       "description_width": ""
      }
     },
     "c4e0b4fc8d444955bd53b72581c26f8b": {
      "model_module": "@jupyter-widgets/controls",
      "model_module_version": "2.0.0",
      "model_name": "HTMLStyleModel",
      "state": {
       "description_width": "",
       "font_size": null,
       "text_color": null
      }
     },
     "c561855634e047948c3f6719881bdfa9": {
      "model_module": "@jupyter-widgets/controls",
      "model_module_version": "2.0.0",
      "model_name": "HTMLModel",
      "state": {
       "layout": "IPY_MODEL_61fc7d1e3484465ca38a3791fb6d79d2",
       "style": "IPY_MODEL_32150b5212974ed1ad12a54cc927a35a",
       "value": " 22/22 [00:01&lt;00:00, 19.94it/s]"
      }
     },
     "c56a7825d3674506a3f63eafaaf4d6e3": {
      "model_module": "@jupyter-widgets/controls",
      "model_module_version": "2.0.0",
      "model_name": "HTMLStyleModel",
      "state": {
       "description_width": "",
       "font_size": null,
       "text_color": null
      }
     },
     "c57e062a726149b985881546894181e1": {
      "model_module": "@jupyter-widgets/base",
      "model_module_version": "2.0.0",
      "model_name": "LayoutModel",
      "state": {}
     },
     "c5836109050d42ad8aff29101b3bf17a": {
      "model_module": "@jupyter-widgets/base",
      "model_module_version": "2.0.0",
      "model_name": "LayoutModel",
      "state": {}
     },
     "c58c837f5d1e4124855478275bcea6cb": {
      "model_module": "@jupyter-widgets/base",
      "model_module_version": "2.0.0",
      "model_name": "LayoutModel",
      "state": {}
     },
     "c5a31fab52fb48adb34da47959b715f8": {
      "model_module": "@jupyter-widgets/controls",
      "model_module_version": "2.0.0",
      "model_name": "HTMLModel",
      "state": {
       "layout": "IPY_MODEL_eae7245a27414a7c96b3642c6b19efbc",
       "style": "IPY_MODEL_e8ad19a935284933bd7cdc1e20da21b8",
       "value": " 20/20 [00:00&lt;00:00, 37.28it/s]"
      }
     },
     "c5aee72fb62943a995b911ea0f9fe506": {
      "model_module": "@jupyter-widgets/base",
      "model_module_version": "2.0.0",
      "model_name": "LayoutModel",
      "state": {}
     },
     "c5ca08c4628d4a64ae5962a0b83e69b1": {
      "model_module": "@jupyter-widgets/controls",
      "model_module_version": "2.0.0",
      "model_name": "HTMLStyleModel",
      "state": {
       "description_width": "",
       "font_size": null,
       "text_color": null
      }
     },
     "c5e22b5629324c519d1f235de77417ff": {
      "model_module": "@jupyter-widgets/base",
      "model_module_version": "2.0.0",
      "model_name": "LayoutModel",
      "state": {}
     },
     "c5f9880cec1c4f01b7c0f9143f13cffb": {
      "model_module": "@jupyter-widgets/base",
      "model_module_version": "2.0.0",
      "model_name": "LayoutModel",
      "state": {}
     },
     "c605b428fd154a52b391674ff1caf588": {
      "model_module": "@jupyter-widgets/base",
      "model_module_version": "2.0.0",
      "model_name": "LayoutModel",
      "state": {}
     },
     "c6212faa3863494db1500bee7b3b5ec9": {
      "model_module": "@jupyter-widgets/controls",
      "model_module_version": "2.0.0",
      "model_name": "FloatProgressModel",
      "state": {
       "bar_style": "success",
       "layout": "IPY_MODEL_3464a7eaa93c4b808512e982821f4359",
       "max": 21,
       "style": "IPY_MODEL_944ad2c35da749d8a5e72a8ffa9878db",
       "value": 21
      }
     },
     "c6234e0f219c4be8bdd63f409d90f2cd": {
      "model_module": "@jupyter-widgets/base",
      "model_module_version": "2.0.0",
      "model_name": "LayoutModel",
      "state": {}
     },
     "c6b44e0a3ec04ebb8891f3b249daada1": {
      "model_module": "@jupyter-widgets/controls",
      "model_module_version": "2.0.0",
      "model_name": "ProgressStyleModel",
      "state": {
       "description_width": ""
      }
     },
     "c6f462a6cc2040859090feb1ea6e0e12": {
      "model_module": "@jupyter-widgets/controls",
      "model_module_version": "2.0.0",
      "model_name": "HTMLModel",
      "state": {
       "layout": "IPY_MODEL_c8ceff6b6a2a476aac2553c463557e11",
       "style": "IPY_MODEL_891e96b218b14a54b60e1f4ad3f5d283",
       "value": "100%"
      }
     },
     "c710893d7efd4ce5a906a8e1df1740b1": {
      "model_module": "@jupyter-widgets/controls",
      "model_module_version": "2.0.0",
      "model_name": "FloatProgressModel",
      "state": {
       "bar_style": "success",
       "layout": "IPY_MODEL_ca2110b6d9984b9e9848e943e55b185d",
       "max": 23,
       "style": "IPY_MODEL_7a5db0055d534f42afc79a325fe47be5",
       "value": 23
      }
     },
     "c71c648d197243b3b55621530f556ff2": {
      "model_module": "@jupyter-widgets/base",
      "model_module_version": "2.0.0",
      "model_name": "LayoutModel",
      "state": {}
     },
     "c7e19848026142aa89fcb51734f94828": {
      "model_module": "@jupyter-widgets/controls",
      "model_module_version": "2.0.0",
      "model_name": "HBoxModel",
      "state": {
       "children": [
        "IPY_MODEL_e94e0ae7a09f48d6a04dfc4d7a5087ba",
        "IPY_MODEL_b0fdf146670846429d19f0807f127340",
        "IPY_MODEL_7357181ef92f4108a69fd26f6bf2072b"
       ],
       "layout": "IPY_MODEL_8362a40c9c6c46a0814d499e99713c33"
      }
     },
     "c7e7b7a926e440dc9c67c2b52d7d0505": {
      "model_module": "@jupyter-widgets/controls",
      "model_module_version": "2.0.0",
      "model_name": "HTMLStyleModel",
      "state": {
       "description_width": "",
       "font_size": null,
       "text_color": null
      }
     },
     "c811b6963d59400e9d6494d1349123be": {
      "model_module": "@jupyter-widgets/base",
      "model_module_version": "2.0.0",
      "model_name": "LayoutModel",
      "state": {}
     },
     "c825016afcc24b018aa374bca04191cf": {
      "model_module": "@jupyter-widgets/controls",
      "model_module_version": "2.0.0",
      "model_name": "HTMLModel",
      "state": {
       "layout": "IPY_MODEL_bb10d0d64b424d11875c02695a40be6f",
       "style": "IPY_MODEL_d7ab4a6d3d714787b05aceadcc11eb4a",
       "value": "100%"
      }
     },
     "c844c6268fa742d49321a695c26055bc": {
      "model_module": "@jupyter-widgets/base",
      "model_module_version": "2.0.0",
      "model_name": "LayoutModel",
      "state": {}
     },
     "c86a9383d1114348ab62c5c29a674a51": {
      "model_module": "@jupyter-widgets/base",
      "model_module_version": "2.0.0",
      "model_name": "LayoutModel",
      "state": {}
     },
     "c884b061b79749f2852571fe342c9951": {
      "model_module": "@jupyter-widgets/controls",
      "model_module_version": "2.0.0",
      "model_name": "HTMLModel",
      "state": {
       "layout": "IPY_MODEL_b0e443c7bb5242fc8a0969ec947ad525",
       "style": "IPY_MODEL_dbc379450eb14e64a3d7c9274b744e75",
       "value": " 20/20 [00:00&lt;00:00, 21.60it/s]"
      }
     },
     "c894766df8164764a1c58ee7cc902b35": {
      "model_module": "@jupyter-widgets/base",
      "model_module_version": "2.0.0",
      "model_name": "LayoutModel",
      "state": {}
     },
     "c8a87e1ccda249189fb5c6f9feae2ca8": {
      "model_module": "@jupyter-widgets/controls",
      "model_module_version": "2.0.0",
      "model_name": "HBoxModel",
      "state": {
       "children": [
        "IPY_MODEL_e360bceb04184028ab08191e4a336514",
        "IPY_MODEL_9a8c068066f64a30b1e34c4840072799",
        "IPY_MODEL_5d52765ba3d24239b2997288f6bce18b"
       ],
       "layout": "IPY_MODEL_f099c22c1e5e414d98069c5b87c7d50e"
      }
     },
     "c8c6b6aa12d8448a877b27f6376efb54": {
      "model_module": "@jupyter-widgets/controls",
      "model_module_version": "2.0.0",
      "model_name": "HTMLStyleModel",
      "state": {
       "description_width": "",
       "font_size": null,
       "text_color": null
      }
     },
     "c8c9ce18530e47d7a32ff240497b2966": {
      "model_module": "@jupyter-widgets/base",
      "model_module_version": "2.0.0",
      "model_name": "LayoutModel",
      "state": {}
     },
     "c8ceff6b6a2a476aac2553c463557e11": {
      "model_module": "@jupyter-widgets/base",
      "model_module_version": "2.0.0",
      "model_name": "LayoutModel",
      "state": {}
     },
     "c8f13afd89eb4e49b023168808450726": {
      "model_module": "@jupyter-widgets/base",
      "model_module_version": "2.0.0",
      "model_name": "LayoutModel",
      "state": {}
     },
     "c9077e5cb1ef42ab8ebb98da53ebf34c": {
      "model_module": "@jupyter-widgets/controls",
      "model_module_version": "2.0.0",
      "model_name": "HTMLStyleModel",
      "state": {
       "description_width": "",
       "font_size": null,
       "text_color": null
      }
     },
     "c9381c93fb2944c083aa6f6b1199cd9a": {
      "model_module": "@jupyter-widgets/controls",
      "model_module_version": "2.0.0",
      "model_name": "HTMLModel",
      "state": {
       "layout": "IPY_MODEL_22779b3c02fc49859b86635042195217",
       "style": "IPY_MODEL_6c6b4ce51e154b20a38e9ba751001b20",
       "value": " 20/20 [00:00&lt;00:00, 33.54it/s]"
      }
     },
     "c956fe4050e941dba8e826bdb878743f": {
      "model_module": "@jupyter-widgets/controls",
      "model_module_version": "2.0.0",
      "model_name": "FloatProgressModel",
      "state": {
       "bar_style": "success",
       "layout": "IPY_MODEL_717d5f6f453441e5ac567ea93dd93550",
       "max": 22,
       "style": "IPY_MODEL_1d194d7e4d4c48e2993fb4851c94a51e",
       "value": 22
      }
     },
     "c958cc2797e34344859be5f548a8b45b": {
      "model_module": "@jupyter-widgets/controls",
      "model_module_version": "2.0.0",
      "model_name": "HBoxModel",
      "state": {
       "children": [
        "IPY_MODEL_838cf254752f4fdd9187de8765a2a959",
        "IPY_MODEL_6e6af98318b74f328fed1cc87c09cb94",
        "IPY_MODEL_8043064248254d1e996356af214180a5"
       ],
       "layout": "IPY_MODEL_e71f4a0d03e749b6a82e194e833b0371"
      }
     },
     "c99d3d1c6fc34119a7512b236b7ea1ae": {
      "model_module": "@jupyter-widgets/base",
      "model_module_version": "2.0.0",
      "model_name": "LayoutModel",
      "state": {}
     },
     "c99fd72679e6456cbd23c4c1a6143bdb": {
      "model_module": "@jupyter-widgets/controls",
      "model_module_version": "2.0.0",
      "model_name": "HBoxModel",
      "state": {
       "children": [
        "IPY_MODEL_0c28dcedfd89448581df44efe76a96f3",
        "IPY_MODEL_28e489c496004d9389f5b9739fa8e31c",
        "IPY_MODEL_4b5a8af3e1bf46f2a657d2d4f829a4eb"
       ],
       "layout": "IPY_MODEL_e62b1e3d917e487c91bb459376d940b8"
      }
     },
     "c9a81f46cadc4107938d60b7c5a64f58": {
      "model_module": "@jupyter-widgets/base",
      "model_module_version": "2.0.0",
      "model_name": "LayoutModel",
      "state": {}
     },
     "c9ac5d1388994c1e97b3b95991c0bbee": {
      "model_module": "@jupyter-widgets/controls",
      "model_module_version": "2.0.0",
      "model_name": "HTMLStyleModel",
      "state": {
       "description_width": "",
       "font_size": null,
       "text_color": null
      }
     },
     "c9e41782fe0a4ece875e1ab02327d3d5": {
      "model_module": "@jupyter-widgets/controls",
      "model_module_version": "2.0.0",
      "model_name": "HBoxModel",
      "state": {
       "children": [
        "IPY_MODEL_687ffaf4cef048adaef4a7061ccebcea",
        "IPY_MODEL_369fe8f248fc41b39719cf5b9ab89f0f",
        "IPY_MODEL_7d4d5f8bd9a0477588d0efcbc5c17c82"
       ],
       "layout": "IPY_MODEL_833762af27da4540bbfeac84661395f7"
      }
     },
     "c9f0dbd532b344d9beefdd3a7510cc0f": {
      "model_module": "@jupyter-widgets/base",
      "model_module_version": "2.0.0",
      "model_name": "LayoutModel",
      "state": {}
     },
     "ca0f628924594b118407d956b8cade6d": {
      "model_module": "@jupyter-widgets/base",
      "model_module_version": "2.0.0",
      "model_name": "LayoutModel",
      "state": {}
     },
     "ca2110b6d9984b9e9848e943e55b185d": {
      "model_module": "@jupyter-widgets/base",
      "model_module_version": "2.0.0",
      "model_name": "LayoutModel",
      "state": {}
     },
     "ca226345670149d6b48b92b8caa5ddb0": {
      "model_module": "@jupyter-widgets/base",
      "model_module_version": "2.0.0",
      "model_name": "LayoutModel",
      "state": {}
     },
     "ca450e0f813e4465a958ab192965bfee": {
      "model_module": "@jupyter-widgets/controls",
      "model_module_version": "2.0.0",
      "model_name": "HTMLStyleModel",
      "state": {
       "description_width": "",
       "font_size": null,
       "text_color": null
      }
     },
     "ca68ab32961d4f17868288544157d7e9": {
      "model_module": "@jupyter-widgets/base",
      "model_module_version": "2.0.0",
      "model_name": "LayoutModel",
      "state": {}
     },
     "ca849f46c29c4898b659c38f4eedf6dd": {
      "model_module": "@jupyter-widgets/controls",
      "model_module_version": "2.0.0",
      "model_name": "HTMLStyleModel",
      "state": {
       "description_width": "",
       "font_size": null,
       "text_color": null
      }
     },
     "cab2c41e7bb04556adc2f1a1bf3cf254": {
      "model_module": "@jupyter-widgets/base",
      "model_module_version": "2.0.0",
      "model_name": "LayoutModel",
      "state": {}
     },
     "cadd6f939b08463d96195a01f0455c57": {
      "model_module": "@jupyter-widgets/controls",
      "model_module_version": "2.0.0",
      "model_name": "HTMLStyleModel",
      "state": {
       "description_width": "",
       "font_size": null,
       "text_color": null
      }
     },
     "caf3bc0637024307b025e057b6b8c239": {
      "model_module": "@jupyter-widgets/controls",
      "model_module_version": "2.0.0",
      "model_name": "HTMLModel",
      "state": {
       "layout": "IPY_MODEL_7bf663e93d774c3f873140c9bd7b1d4e",
       "style": "IPY_MODEL_6e3743b532fe4bc9aa521e4ad5682710",
       "value": "100%"
      }
     },
     "caf7202020e54c9da7e85b8bf725bfcf": {
      "model_module": "@jupyter-widgets/base",
      "model_module_version": "2.0.0",
      "model_name": "LayoutModel",
      "state": {}
     },
     "cb264b25be1a4945ab9bc9ebef7adb07": {
      "model_module": "@jupyter-widgets/controls",
      "model_module_version": "2.0.0",
      "model_name": "HTMLModel",
      "state": {
       "layout": "IPY_MODEL_7bc6f759d1334ca2830bb9f18322447d",
       "style": "IPY_MODEL_82d049753d62469fab576be9a46d9c72",
       "value": " 22/22 [00:00&lt;00:00, 34.70it/s]"
      }
     },
     "cb2ade29e069444583ccdb5593034d8e": {
      "model_module": "@jupyter-widgets/base",
      "model_module_version": "2.0.0",
      "model_name": "LayoutModel",
      "state": {}
     },
     "cb3470b37aaf40ac85e5516b75437a84": {
      "model_module": "@jupyter-widgets/base",
      "model_module_version": "2.0.0",
      "model_name": "LayoutModel",
      "state": {}
     },
     "cb61536d0ae447838faea40cdf7988f8": {
      "model_module": "@jupyter-widgets/controls",
      "model_module_version": "2.0.0",
      "model_name": "HTMLStyleModel",
      "state": {
       "description_width": "",
       "font_size": null,
       "text_color": null
      }
     },
     "cb8b93b273fb439ca0df95e9a767fc43": {
      "model_module": "@jupyter-widgets/controls",
      "model_module_version": "2.0.0",
      "model_name": "HTMLModel",
      "state": {
       "layout": "IPY_MODEL_81e5012ec9954dacad54ec093470161c",
       "style": "IPY_MODEL_9ee99507f5a14ae38185dcf39da55e37",
       "value": "100%"
      }
     },
     "cb8c3f0012c44575a826cd43fb6b9eff": {
      "model_module": "@jupyter-widgets/base",
      "model_module_version": "2.0.0",
      "model_name": "LayoutModel",
      "state": {}
     },
     "cbf6e4d18a80400f83facb78d1ca1920": {
      "model_module": "@jupyter-widgets/controls",
      "model_module_version": "2.0.0",
      "model_name": "HTMLModel",
      "state": {
       "layout": "IPY_MODEL_7046e047657546349d28f7f18d04cbea",
       "style": "IPY_MODEL_36cb1cdaba7c42aaa4eaa0fcad09103d",
       "value": " 23/23 [00:00&lt;00:00, 43.86it/s]"
      }
     },
     "cc4c20f5d2c6419a871903b3832198e2": {
      "model_module": "@jupyter-widgets/base",
      "model_module_version": "2.0.0",
      "model_name": "LayoutModel",
      "state": {}
     },
     "cc6050fb7d6d450aa7379859bea391af": {
      "model_module": "@jupyter-widgets/base",
      "model_module_version": "2.0.0",
      "model_name": "LayoutModel",
      "state": {}
     },
     "cc64a24bcd3f4cf1a4035cd6e42e4ea0": {
      "model_module": "@jupyter-widgets/controls",
      "model_module_version": "2.0.0",
      "model_name": "HBoxModel",
      "state": {
       "children": [
        "IPY_MODEL_0196334d7f014848b99e0d1e077a0357",
        "IPY_MODEL_ea48e09b52414b0cb90bdf46e19fee48",
        "IPY_MODEL_a71a57325ab340f6a1921282c490f3c6"
       ],
       "layout": "IPY_MODEL_8159e322ae4146af94c9d97d7ae033fa"
      }
     },
     "cca0367920094340b8e352fedec5eacf": {
      "model_module": "@jupyter-widgets/controls",
      "model_module_version": "2.0.0",
      "model_name": "HTMLStyleModel",
      "state": {
       "description_width": "",
       "font_size": null,
       "text_color": null
      }
     },
     "ccad9403576f4da18404472b8feb6d1a": {
      "model_module": "@jupyter-widgets/controls",
      "model_module_version": "2.0.0",
      "model_name": "FloatProgressModel",
      "state": {
       "bar_style": "success",
       "layout": "IPY_MODEL_00bcb1fee720405b83dad4e68f104bb0",
       "max": 22,
       "style": "IPY_MODEL_67f03fe4e35e4bd0b3ac5d703c9bdd99",
       "value": 22
      }
     },
     "ccb3d8115a564efba3e7923d8ded49c1": {
      "model_module": "@jupyter-widgets/base",
      "model_module_version": "2.0.0",
      "model_name": "LayoutModel",
      "state": {}
     },
     "ccc82680464841f8bebbd09f523dd5e2": {
      "model_module": "@jupyter-widgets/base",
      "model_module_version": "2.0.0",
      "model_name": "LayoutModel",
      "state": {}
     },
     "cccb165a02984602baf0eb6f18668ccd": {
      "model_module": "@jupyter-widgets/base",
      "model_module_version": "2.0.0",
      "model_name": "LayoutModel",
      "state": {}
     },
     "ccd1272d9eb34c65baf7dbe662142c07": {
      "model_module": "@jupyter-widgets/controls",
      "model_module_version": "2.0.0",
      "model_name": "FloatProgressModel",
      "state": {
       "bar_style": "success",
       "layout": "IPY_MODEL_ecf61d11201e470cb0c578090e6b89bf",
       "max": 20,
       "style": "IPY_MODEL_1cc6c7936fec48458ceb76cd901a5bb0",
       "value": 20
      }
     },
     "cd25e5a8fd0c47ebb22faeaded10191f": {
      "model_module": "@jupyter-widgets/controls",
      "model_module_version": "2.0.0",
      "model_name": "FloatProgressModel",
      "state": {
       "bar_style": "success",
       "layout": "IPY_MODEL_d4a44efc09464ab7a636bf4f14616c0a",
       "max": 20,
       "style": "IPY_MODEL_4fc6432bb2ce47c2995da19aaf95d7ff",
       "value": 20
      }
     },
     "cd3bbefe1c0a42a9b0a617631547e1c0": {
      "model_module": "@jupyter-widgets/base",
      "model_module_version": "2.0.0",
      "model_name": "LayoutModel",
      "state": {}
     },
     "cd7f885c04d149a5846a46e93eb6d9c6": {
      "model_module": "@jupyter-widgets/controls",
      "model_module_version": "2.0.0",
      "model_name": "HTMLStyleModel",
      "state": {
       "description_width": "",
       "font_size": null,
       "text_color": null
      }
     },
     "cd8ca46fd7a946528ebe1e5a5b7916ec": {
      "model_module": "@jupyter-widgets/controls",
      "model_module_version": "2.0.0",
      "model_name": "HTMLModel",
      "state": {
       "layout": "IPY_MODEL_095d8bfb50f74ad2b49a108a2f5ca083",
       "style": "IPY_MODEL_c441d2423d1e491abe0e333ae7392387",
       "value": " 21/21 [00:00&lt;00:00, 46.69it/s]"
      }
     },
     "cd8edc7dc9f84e638f0613d0b46fca27": {
      "model_module": "@jupyter-widgets/base",
      "model_module_version": "2.0.0",
      "model_name": "LayoutModel",
      "state": {}
     },
     "cdb85b49b365439783f38c523c297621": {
      "model_module": "@jupyter-widgets/controls",
      "model_module_version": "2.0.0",
      "model_name": "HBoxModel",
      "state": {
       "children": [
        "IPY_MODEL_5d801bb431914fceb0829e94c5fd71b0",
        "IPY_MODEL_335a2bcb3db845909f583463bb7330bb",
        "IPY_MODEL_182b34637eec45079811e097777a6774"
       ],
       "layout": "IPY_MODEL_acd7f2d5176f4bcbab7f5564a82a43c3"
      }
     },
     "cdbbde38a63548a4a8bec23d3babb481": {
      "model_module": "@jupyter-widgets/base",
      "model_module_version": "2.0.0",
      "model_name": "LayoutModel",
      "state": {}
     },
     "cdd729d293e64a308efbbfed25c6f9ab": {
      "model_module": "@jupyter-widgets/controls",
      "model_module_version": "2.0.0",
      "model_name": "HTMLModel",
      "state": {
       "layout": "IPY_MODEL_784eb0450be148cea58d10cc14961bb0",
       "style": "IPY_MODEL_860cf43cc6fa411b9fcab6ce2b6060a2",
       "value": " 21/21 [00:00&lt;00:00, 380.07it/s]"
      }
     },
     "ce12e97dcb074032bf260b9a3500b88b": {
      "model_module": "@jupyter-widgets/controls",
      "model_module_version": "2.0.0",
      "model_name": "FloatProgressModel",
      "state": {
       "bar_style": "success",
       "layout": "IPY_MODEL_7853fc764c8046d4bb6502922ef964ce",
       "max": 21,
       "style": "IPY_MODEL_407c937f9963482ab9aff32e58ce95d4",
       "value": 21
      }
     },
     "ce190df962d04ea5b093b17d77e8eef1": {
      "model_module": "@jupyter-widgets/base",
      "model_module_version": "2.0.0",
      "model_name": "LayoutModel",
      "state": {}
     },
     "ce19648a5e8f47008376fb3b2e3c27bd": {
      "model_module": "@jupyter-widgets/controls",
      "model_module_version": "2.0.0",
      "model_name": "ProgressStyleModel",
      "state": {
       "description_width": ""
      }
     },
     "ce25cd9511b04731a638465c62ebeb24": {
      "model_module": "@jupyter-widgets/base",
      "model_module_version": "2.0.0",
      "model_name": "LayoutModel",
      "state": {}
     },
     "ce462fe15b01438ca06b5abb3d4af311": {
      "model_module": "@jupyter-widgets/controls",
      "model_module_version": "2.0.0",
      "model_name": "HTMLModel",
      "state": {
       "layout": "IPY_MODEL_3379fe1d04bc4051b9791702c3ee5a7c",
       "style": "IPY_MODEL_245a664f3b0d45b08d65552a312f8110",
       "value": "100%"
      }
     },
     "ce500505c88f4705a8bc38a591313cb4": {
      "model_module": "@jupyter-widgets/base",
      "model_module_version": "2.0.0",
      "model_name": "LayoutModel",
      "state": {}
     },
     "ce717cf558904c47b0b02435b9737cb8": {
      "model_module": "@jupyter-widgets/controls",
      "model_module_version": "2.0.0",
      "model_name": "FloatProgressModel",
      "state": {
       "bar_style": "success",
       "layout": "IPY_MODEL_8e49b7af35b044f498b6ae195f47bee5",
       "max": 22,
       "style": "IPY_MODEL_7d42b9d4e0774652ad03e55012a23ab4",
       "value": 22
      }
     },
     "cebb89dd7f9841b1a6f0554b735b1f58": {
      "model_module": "@jupyter-widgets/controls",
      "model_module_version": "2.0.0",
      "model_name": "HTMLStyleModel",
      "state": {
       "description_width": "",
       "font_size": null,
       "text_color": null
      }
     },
     "cf1a0a393d334f2890b15654cf141f16": {
      "model_module": "@jupyter-widgets/controls",
      "model_module_version": "2.0.0",
      "model_name": "HTMLModel",
      "state": {
       "layout": "IPY_MODEL_83fea680eaf44fc8b116f5310fc20b98",
       "style": "IPY_MODEL_d4df672675d445e5b13ede20cd5208cb",
       "value": " 20/20 [00:00&lt;00:00, 45.54it/s]"
      }
     },
     "cf296ab57fe34924b4e433040b2fe0ec": {
      "model_module": "@jupyter-widgets/base",
      "model_module_version": "2.0.0",
      "model_name": "LayoutModel",
      "state": {}
     },
     "cf503ca9e8a64db9b33f409b1287bd02": {
      "model_module": "@jupyter-widgets/controls",
      "model_module_version": "2.0.0",
      "model_name": "HBoxModel",
      "state": {
       "children": [
        "IPY_MODEL_f28f54f9bd1c45a699b039717bbe7bc8",
        "IPY_MODEL_c070d38bfe3a45308755894580290f61",
        "IPY_MODEL_b135847e08ef4368afc263418f2ac043"
       ],
       "layout": "IPY_MODEL_64547d40d4b34d2eb0527af4d71c71fe"
      }
     },
     "cf71de154bbb43919295cbba1177a130": {
      "model_module": "@jupyter-widgets/base",
      "model_module_version": "2.0.0",
      "model_name": "LayoutModel",
      "state": {}
     },
     "cf7300aea50f4ebc8dae226af4f45ef7": {
      "model_module": "@jupyter-widgets/base",
      "model_module_version": "2.0.0",
      "model_name": "LayoutModel",
      "state": {}
     },
     "cfb0b8b970ae42419bd0eb299b37ee4e": {
      "model_module": "@jupyter-widgets/base",
      "model_module_version": "2.0.0",
      "model_name": "LayoutModel",
      "state": {}
     },
     "cfb0bd1b67744796a3fd0e9572ba1df9": {
      "model_module": "@jupyter-widgets/controls",
      "model_module_version": "2.0.0",
      "model_name": "HTMLStyleModel",
      "state": {
       "description_width": "",
       "font_size": null,
       "text_color": null
      }
     },
     "cfb7a7542c1e4897817d01324595d101": {
      "model_module": "@jupyter-widgets/base",
      "model_module_version": "2.0.0",
      "model_name": "LayoutModel",
      "state": {}
     },
     "cfdefac9fee648bda0a029aedc32888a": {
      "model_module": "@jupyter-widgets/controls",
      "model_module_version": "2.0.0",
      "model_name": "HTMLStyleModel",
      "state": {
       "description_width": "",
       "font_size": null,
       "text_color": null
      }
     },
     "d03478846d414324978d6341d1519d13": {
      "model_module": "@jupyter-widgets/controls",
      "model_module_version": "2.0.0",
      "model_name": "HTMLStyleModel",
      "state": {
       "description_width": "",
       "font_size": null,
       "text_color": null
      }
     },
     "d0463ed3ab9e44df8085db1c141315d1": {
      "model_module": "@jupyter-widgets/controls",
      "model_module_version": "2.0.0",
      "model_name": "HTMLModel",
      "state": {
       "layout": "IPY_MODEL_14d1f5d4631e4d48b5ddceb7d850ad9b",
       "style": "IPY_MODEL_3333a7b4ef554e0d806efc74512cc17a",
       "value": " 21/21 [00:00&lt;00:00, 44.38it/s]"
      }
     },
     "d06259c01e88429d9479ad0289738c6e": {
      "model_module": "@jupyter-widgets/controls",
      "model_module_version": "2.0.0",
      "model_name": "HBoxModel",
      "state": {
       "children": [
        "IPY_MODEL_edb0b0df204c41dba8ece472d110ef31",
        "IPY_MODEL_7ade40c5ce984632bec1a72ebceecb3d",
        "IPY_MODEL_2a11c4cdbcd0419db9f5bbb9e67a9139"
       ],
       "layout": "IPY_MODEL_611189d08e284f3389d6cfed6a043601"
      }
     },
     "d064686a1cae4d26929d013714355606": {
      "model_module": "@jupyter-widgets/controls",
      "model_module_version": "2.0.0",
      "model_name": "HBoxModel",
      "state": {
       "children": [
        "IPY_MODEL_5a620e88c39f4eac84c8a402bce201fa",
        "IPY_MODEL_72284308c31f4466a4f1b38ffafd2879",
        "IPY_MODEL_b377c109a1854af8acfe7831c41a801f"
       ],
       "layout": "IPY_MODEL_ebdb99d81ed643ff8573c18108bf42ce"
      }
     },
     "d06b6c26a0f048709e614347b16f11d3": {
      "model_module": "@jupyter-widgets/base",
      "model_module_version": "2.0.0",
      "model_name": "LayoutModel",
      "state": {}
     },
     "d08cdcb2c5dd4caeaa3d7b779d9e2941": {
      "model_module": "@jupyter-widgets/base",
      "model_module_version": "2.0.0",
      "model_name": "LayoutModel",
      "state": {}
     },
     "d093aef5c7ea47d29ffc77ab60e265f7": {
      "model_module": "@jupyter-widgets/controls",
      "model_module_version": "2.0.0",
      "model_name": "HTMLModel",
      "state": {
       "layout": "IPY_MODEL_75f1a9a0d31e4d29ab126e2a1eacb0ea",
       "style": "IPY_MODEL_e9312bd89710412bb008c41acf0c499b",
       "value": "100%"
      }
     },
     "d0a0e5bacf054512bde3363cefa7118f": {
      "model_module": "@jupyter-widgets/base",
      "model_module_version": "2.0.0",
      "model_name": "LayoutModel",
      "state": {}
     },
     "d0c50c5b511e42f3b2c8cc795d9019de": {
      "model_module": "@jupyter-widgets/controls",
      "model_module_version": "2.0.0",
      "model_name": "ProgressStyleModel",
      "state": {
       "description_width": ""
      }
     },
     "d0e9628186764f9b8c3748266a2bb41c": {
      "model_module": "@jupyter-widgets/controls",
      "model_module_version": "2.0.0",
      "model_name": "HTMLStyleModel",
      "state": {
       "description_width": "",
       "font_size": null,
       "text_color": null
      }
     },
     "d1217ba7c17c43e7afdd0c6a6ac3ad91": {
      "model_module": "@jupyter-widgets/base",
      "model_module_version": "2.0.0",
      "model_name": "LayoutModel",
      "state": {}
     },
     "d12729ffdff7461fb103eb45507eb251": {
      "model_module": "@jupyter-widgets/controls",
      "model_module_version": "2.0.0",
      "model_name": "HBoxModel",
      "state": {
       "children": [
        "IPY_MODEL_ed78e121eb3640f6a02c18b9afdaab14",
        "IPY_MODEL_873bb2bfe62e46969c00dfde78002793",
        "IPY_MODEL_d82cf099837f4fe7b27b9d2e38435098"
       ],
       "layout": "IPY_MODEL_c86a9383d1114348ab62c5c29a674a51"
      }
     },
     "d18bd97d418e4407ae2a74c8175f6885": {
      "model_module": "@jupyter-widgets/controls",
      "model_module_version": "2.0.0",
      "model_name": "HBoxModel",
      "state": {
       "children": [
        "IPY_MODEL_8b958fffd1044d0583652b49a9a2a26d",
        "IPY_MODEL_75383f7b189647369d84624931daec12",
        "IPY_MODEL_bf443af93efe494e8e8f164580c576ef"
       ],
       "layout": "IPY_MODEL_cd8edc7dc9f84e638f0613d0b46fca27"
      }
     },
     "d193ebc3c58d4ed2b88ed3bf1833834b": {
      "model_module": "@jupyter-widgets/controls",
      "model_module_version": "2.0.0",
      "model_name": "HTMLStyleModel",
      "state": {
       "description_width": "",
       "font_size": null,
       "text_color": null
      }
     },
     "d195d3db5d1d47dcb80f69b3a4999d33": {
      "model_module": "@jupyter-widgets/base",
      "model_module_version": "2.0.0",
      "model_name": "LayoutModel",
      "state": {}
     },
     "d1a057b739584120bcd36ab35ff821c8": {
      "model_module": "@jupyter-widgets/controls",
      "model_module_version": "2.0.0",
      "model_name": "ProgressStyleModel",
      "state": {
       "description_width": ""
      }
     },
     "d1fa1229992f436a94403c7897c1266b": {
      "model_module": "@jupyter-widgets/controls",
      "model_module_version": "2.0.0",
      "model_name": "HTMLModel",
      "state": {
       "layout": "IPY_MODEL_adaa492b9f4f4323a683285430021d2f",
       "style": "IPY_MODEL_573273ed61b54140a0f3dbead661b239",
       "value": " 23/23 [00:00&lt;00:00, 40.29it/s]"
      }
     },
     "d2008ac2b9c04a158aafcc3eed5c9e02": {
      "model_module": "@jupyter-widgets/base",
      "model_module_version": "2.0.0",
      "model_name": "LayoutModel",
      "state": {}
     },
     "d213ec9e971045f5b7d8b2cfed2d99d1": {
      "model_module": "@jupyter-widgets/controls",
      "model_module_version": "2.0.0",
      "model_name": "HTMLStyleModel",
      "state": {
       "description_width": "",
       "font_size": null,
       "text_color": null
      }
     },
     "d281cbbfe368460fab459945a943e148": {
      "model_module": "@jupyter-widgets/base",
      "model_module_version": "2.0.0",
      "model_name": "LayoutModel",
      "state": {}
     },
     "d2a084bd44c341f5847c5af920853204": {
      "model_module": "@jupyter-widgets/controls",
      "model_module_version": "2.0.0",
      "model_name": "HBoxModel",
      "state": {
       "children": [
        "IPY_MODEL_fabe4e8e28c540b8880342dfb25a485f",
        "IPY_MODEL_3c3f0c3b12184879b6c98fa2d0c69797",
        "IPY_MODEL_0fb6c75d4537484cae2d6dbd289b54f0"
       ],
       "layout": "IPY_MODEL_39185e8fe94f4740b4aaef386f4b3600"
      }
     },
     "d2a2948157af4736acc5a91a4809f2ce": {
      "model_module": "@jupyter-widgets/controls",
      "model_module_version": "2.0.0",
      "model_name": "HBoxModel",
      "state": {
       "children": [
        "IPY_MODEL_e018e9dc22794197afcb8d2a7b75ee6c",
        "IPY_MODEL_64d761bdfaa7479d9f5d99c6ebce7e58",
        "IPY_MODEL_049b581696e443d1b44ef6c8a61afbc8"
       ],
       "layout": "IPY_MODEL_e610aac91a5d4e8da7e96582f154c9ba"
      }
     },
     "d2e85995571740bc87e8436aef48f49f": {
      "model_module": "@jupyter-widgets/controls",
      "model_module_version": "2.0.0",
      "model_name": "HTMLModel",
      "state": {
       "layout": "IPY_MODEL_43d495de424e49c7ab5edcc32a576bf8",
       "style": "IPY_MODEL_d5c94337d0d641068f673a55b02db83a",
       "value": "100%"
      }
     },
     "d2f3268cbb6d45678325145053ce013b": {
      "model_module": "@jupyter-widgets/controls",
      "model_module_version": "2.0.0",
      "model_name": "HTMLModel",
      "state": {
       "layout": "IPY_MODEL_000d0556840e4a3d87689bc3251a3d3c",
       "style": "IPY_MODEL_871d19c7c34948bd837c740de113c2d2",
       "value": " 23/23 [00:00&lt;00:00, 38.42it/s]"
      }
     },
     "d323ac8aea0448979d305fbcaf2f9143": {
      "model_module": "@jupyter-widgets/controls",
      "model_module_version": "2.0.0",
      "model_name": "ProgressStyleModel",
      "state": {
       "description_width": ""
      }
     },
     "d35b594c8fdb45608556a5a854824976": {
      "model_module": "@jupyter-widgets/controls",
      "model_module_version": "2.0.0",
      "model_name": "HTMLModel",
      "state": {
       "layout": "IPY_MODEL_8d14f93aad8842c5ab10c726e4c4f228",
       "style": "IPY_MODEL_8af642a9df654b9b8dc889cee6e4174d",
       "value": "100%"
      }
     },
     "d3abd83d6625470a84fd7bedf1ff3969": {
      "model_module": "@jupyter-widgets/base",
      "model_module_version": "2.0.0",
      "model_name": "LayoutModel",
      "state": {}
     },
     "d3b3a4b3ca144e1e8dcc22e0922d4b20": {
      "model_module": "@jupyter-widgets/controls",
      "model_module_version": "2.0.0",
      "model_name": "HTMLModel",
      "state": {
       "layout": "IPY_MODEL_307d95ecdc15474d952437fbf8df2e5e",
       "style": "IPY_MODEL_6ebbcceb9d4243d2a5f8c8edc7dd55df",
       "value": " 23/23 [00:01&lt;00:00, 20.82it/s]"
      }
     },
     "d3dab2fd2ce6498e8934d09bd8cce036": {
      "model_module": "@jupyter-widgets/controls",
      "model_module_version": "2.0.0",
      "model_name": "FloatProgressModel",
      "state": {
       "bar_style": "success",
       "layout": "IPY_MODEL_8116cacc946744a9a09346c72747f27b",
       "max": 20,
       "style": "IPY_MODEL_7f65f475a97b4918b4f43c20f4ff8cb1",
       "value": 20
      }
     },
     "d41281c30ef448c8b4ea20b8dce20ad6": {
      "model_module": "@jupyter-widgets/controls",
      "model_module_version": "2.0.0",
      "model_name": "ProgressStyleModel",
      "state": {
       "description_width": ""
      }
     },
     "d415c15781f04988bd763cde1e88130f": {
      "model_module": "@jupyter-widgets/controls",
      "model_module_version": "2.0.0",
      "model_name": "HTMLStyleModel",
      "state": {
       "description_width": "",
       "font_size": null,
       "text_color": null
      }
     },
     "d42df7de9e5a437cbd3ea2794149944f": {
      "model_module": "@jupyter-widgets/controls",
      "model_module_version": "2.0.0",
      "model_name": "FloatProgressModel",
      "state": {
       "bar_style": "success",
       "layout": "IPY_MODEL_bc6fdee64b614567be843bfae4ebd8c4",
       "max": 21,
       "style": "IPY_MODEL_7ab07e32ea864ba1b35355126c6138a5",
       "value": 21
      }
     },
     "d4715e6de0ce43e88c1e694f103ce207": {
      "model_module": "@jupyter-widgets/base",
      "model_module_version": "2.0.0",
      "model_name": "LayoutModel",
      "state": {}
     },
     "d481f21dd37c47ab8f4ad1f4bf01b519": {
      "model_module": "@jupyter-widgets/controls",
      "model_module_version": "2.0.0",
      "model_name": "HTMLStyleModel",
      "state": {
       "description_width": "",
       "font_size": null,
       "text_color": null
      }
     },
     "d494696eab644308a98339f4e8817d4c": {
      "model_module": "@jupyter-widgets/base",
      "model_module_version": "2.0.0",
      "model_name": "LayoutModel",
      "state": {}
     },
     "d4a44efc09464ab7a636bf4f14616c0a": {
      "model_module": "@jupyter-widgets/base",
      "model_module_version": "2.0.0",
      "model_name": "LayoutModel",
      "state": {}
     },
     "d4df672675d445e5b13ede20cd5208cb": {
      "model_module": "@jupyter-widgets/controls",
      "model_module_version": "2.0.0",
      "model_name": "HTMLStyleModel",
      "state": {
       "description_width": "",
       "font_size": null,
       "text_color": null
      }
     },
     "d500f6727b3349df9afbdced3e29616b": {
      "model_module": "@jupyter-widgets/controls",
      "model_module_version": "2.0.0",
      "model_name": "HBoxModel",
      "state": {
       "children": [
        "IPY_MODEL_f5a8ea111b2b49738a2563cdecba96ca",
        "IPY_MODEL_2c46e75b8e3045a99b4040dfe827bf57",
        "IPY_MODEL_12ae9f6f299045c8a193d3d7835f1b04"
       ],
       "layout": "IPY_MODEL_6508344e4a6c415b9abde703a48f44e0"
      }
     },
     "d51b5229a1f04a6dbbbbf15fff866a07": {
      "model_module": "@jupyter-widgets/controls",
      "model_module_version": "2.0.0",
      "model_name": "HTMLModel",
      "state": {
       "layout": "IPY_MODEL_c1b7a52136554b7b8232f48b1ab0d235",
       "style": "IPY_MODEL_5625bf0098ba4ca8b82ca7653e873ce3",
       "value": "100%"
      }
     },
     "d52de0ef0d3d4e6995916429cd20dd49": {
      "model_module": "@jupyter-widgets/base",
      "model_module_version": "2.0.0",
      "model_name": "LayoutModel",
      "state": {}
     },
     "d53fcb63706a403093a2d8d8e448a713": {
      "model_module": "@jupyter-widgets/controls",
      "model_module_version": "2.0.0",
      "model_name": "ProgressStyleModel",
      "state": {
       "description_width": ""
      }
     },
     "d54b6d8a30344af58d09b509a715ee90": {
      "model_module": "@jupyter-widgets/base",
      "model_module_version": "2.0.0",
      "model_name": "LayoutModel",
      "state": {}
     },
     "d553a4489954465a96a1cd8b28738f84": {
      "model_module": "@jupyter-widgets/controls",
      "model_module_version": "2.0.0",
      "model_name": "HTMLModel",
      "state": {
       "layout": "IPY_MODEL_ce190df962d04ea5b093b17d77e8eef1",
       "style": "IPY_MODEL_fa5e549581ee4339b4a5523cdd6ba0fa",
       "value": " 21/21 [00:00&lt;00:00, 22.24it/s]"
      }
     },
     "d560de40daec4fd88daee3365fd0a662": {
      "model_module": "@jupyter-widgets/controls",
      "model_module_version": "2.0.0",
      "model_name": "FloatProgressModel",
      "state": {
       "bar_style": "success",
       "layout": "IPY_MODEL_064d4244f2144ed4b6f31694865cd8bc",
       "max": 21,
       "style": "IPY_MODEL_3b472179f536488ea00e8ef998c60942",
       "value": 21
      }
     },
     "d57b913422194d96ad2692a95ebc3024": {
      "model_module": "@jupyter-widgets/controls",
      "model_module_version": "2.0.0",
      "model_name": "HTMLStyleModel",
      "state": {
       "description_width": "",
       "font_size": null,
       "text_color": null
      }
     },
     "d59071def17f4a0c876448be7ddce847": {
      "model_module": "@jupyter-widgets/controls",
      "model_module_version": "2.0.0",
      "model_name": "ProgressStyleModel",
      "state": {
       "description_width": ""
      }
     },
     "d59c1a64a86847bda061a5a09356a649": {
      "model_module": "@jupyter-widgets/base",
      "model_module_version": "2.0.0",
      "model_name": "LayoutModel",
      "state": {}
     },
     "d5ba825016e747b9af4db942ddfa4d70": {
      "model_module": "@jupyter-widgets/controls",
      "model_module_version": "2.0.0",
      "model_name": "FloatProgressModel",
      "state": {
       "bar_style": "success",
       "layout": "IPY_MODEL_2b138ca9bb154cd3a9a167ace66a538b",
       "max": 22,
       "style": "IPY_MODEL_c6b44e0a3ec04ebb8891f3b249daada1",
       "value": 22
      }
     },
     "d5bb9ce8806e4bfc90592b147804372b": {
      "model_module": "@jupyter-widgets/controls",
      "model_module_version": "2.0.0",
      "model_name": "HBoxModel",
      "state": {
       "children": [
        "IPY_MODEL_42eca3ca9ff64b59979de5d53988e7da",
        "IPY_MODEL_c0b06e16931d4e62a7e6e58f9d587a05",
        "IPY_MODEL_7abbb86bffd24598b0c6422e1ae70d4f"
       ],
       "layout": "IPY_MODEL_5cdef7c306b64a57a62513a1f119adf2"
      }
     },
     "d5c94337d0d641068f673a55b02db83a": {
      "model_module": "@jupyter-widgets/controls",
      "model_module_version": "2.0.0",
      "model_name": "HTMLStyleModel",
      "state": {
       "description_width": "",
       "font_size": null,
       "text_color": null
      }
     },
     "d5cbce6c599c4e5586ae5d3b8ae50e02": {
      "model_module": "@jupyter-widgets/base",
      "model_module_version": "2.0.0",
      "model_name": "LayoutModel",
      "state": {}
     },
     "d64965388cb84aef8d35d5bc6b6475be": {
      "model_module": "@jupyter-widgets/base",
      "model_module_version": "2.0.0",
      "model_name": "LayoutModel",
      "state": {}
     },
     "d67b6652ad504953b1403ee884a49bf4": {
      "model_module": "@jupyter-widgets/controls",
      "model_module_version": "2.0.0",
      "model_name": "ProgressStyleModel",
      "state": {
       "description_width": ""
      }
     },
     "d6b68b9443b8454188ac0bffce79d235": {
      "model_module": "@jupyter-widgets/controls",
      "model_module_version": "2.0.0",
      "model_name": "HTMLStyleModel",
      "state": {
       "description_width": "",
       "font_size": null,
       "text_color": null
      }
     },
     "d6ed2f57ef4a40859fe5edc5789c33b8": {
      "model_module": "@jupyter-widgets/base",
      "model_module_version": "2.0.0",
      "model_name": "LayoutModel",
      "state": {}
     },
     "d6eef81982374180a09cf381b44ecd1a": {
      "model_module": "@jupyter-widgets/base",
      "model_module_version": "2.0.0",
      "model_name": "LayoutModel",
      "state": {}
     },
     "d75048f0f4bf4c7eae39871d7a52d5f2": {
      "model_module": "@jupyter-widgets/controls",
      "model_module_version": "2.0.0",
      "model_name": "HBoxModel",
      "state": {
       "children": [
        "IPY_MODEL_2e7226db9c2442b4992140f6b6f2e83b",
        "IPY_MODEL_277fd768d4dd4d28bf08a4229d69afec",
        "IPY_MODEL_850281f751d649708843b219136624f8"
       ],
       "layout": "IPY_MODEL_801f33324b6645feb6570350a8e711c6"
      }
     },
     "d754424d5d784a6081865728aca8778c": {
      "model_module": "@jupyter-widgets/base",
      "model_module_version": "2.0.0",
      "model_name": "LayoutModel",
      "state": {}
     },
     "d78614dc02bb42cdaa1f3415da8007d8": {
      "model_module": "@jupyter-widgets/base",
      "model_module_version": "2.0.0",
      "model_name": "LayoutModel",
      "state": {}
     },
     "d79f9891e5bd424da8b9b4465fbdbedb": {
      "model_module": "@jupyter-widgets/controls",
      "model_module_version": "2.0.0",
      "model_name": "HTMLStyleModel",
      "state": {
       "description_width": "",
       "font_size": null,
       "text_color": null
      }
     },
     "d7aa1f1fbfff40f58fd6cbcaefac612b": {
      "model_module": "@jupyter-widgets/base",
      "model_module_version": "2.0.0",
      "model_name": "LayoutModel",
      "state": {}
     },
     "d7ab4a6d3d714787b05aceadcc11eb4a": {
      "model_module": "@jupyter-widgets/controls",
      "model_module_version": "2.0.0",
      "model_name": "HTMLStyleModel",
      "state": {
       "description_width": "",
       "font_size": null,
       "text_color": null
      }
     },
     "d7d422ea9fef455e9940f3db7974f531": {
      "model_module": "@jupyter-widgets/controls",
      "model_module_version": "2.0.0",
      "model_name": "HBoxModel",
      "state": {
       "children": [
        "IPY_MODEL_0fea6c1c18cf4795bc15b46680a196bb",
        "IPY_MODEL_0e8bb9dd159b4a7d8f68f9a2449b45f0",
        "IPY_MODEL_9c39a6fc3bf44b0fa9f31aba61700212"
       ],
       "layout": "IPY_MODEL_a8428da6eda340ddacd3d4be1e36f7ff"
      }
     },
     "d7d64ca0d212493289d80a2265e1a8ee": {
      "model_module": "@jupyter-widgets/controls",
      "model_module_version": "2.0.0",
      "model_name": "FloatProgressModel",
      "state": {
       "bar_style": "success",
       "layout": "IPY_MODEL_a673ccaa0baf46aeb86602d8b8ee7b8f",
       "max": 23,
       "style": "IPY_MODEL_1ed4d50beee34683bb6d42a83c674031",
       "value": 23
      }
     },
     "d7e597e91c0443aa95f4be736454c532": {
      "model_module": "@jupyter-widgets/controls",
      "model_module_version": "2.0.0",
      "model_name": "HTMLModel",
      "state": {
       "layout": "IPY_MODEL_a40620f4a9ad404a8a4c4404d8c49e15",
       "style": "IPY_MODEL_c8c6b6aa12d8448a877b27f6376efb54",
       "value": " 20/20 [00:00&lt;00:00, 372.56it/s]"
      }
     },
     "d8074f56675d416d9ee1be2ffeac8775": {
      "model_module": "@jupyter-widgets/base",
      "model_module_version": "2.0.0",
      "model_name": "LayoutModel",
      "state": {}
     },
     "d8084c4f8f70401da849cf21a238f9e3": {
      "model_module": "@jupyter-widgets/controls",
      "model_module_version": "2.0.0",
      "model_name": "ProgressStyleModel",
      "state": {
       "description_width": ""
      }
     },
     "d80c9d38390044e5a8dbb4d684f82f76": {
      "model_module": "@jupyter-widgets/base",
      "model_module_version": "2.0.0",
      "model_name": "LayoutModel",
      "state": {}
     },
     "d82cf099837f4fe7b27b9d2e38435098": {
      "model_module": "@jupyter-widgets/controls",
      "model_module_version": "2.0.0",
      "model_name": "HTMLModel",
      "state": {
       "layout": "IPY_MODEL_97592e560d1d4ad3934558327034807c",
       "style": "IPY_MODEL_0fa9546a4ee942e29e83c9fd70997022",
       "value": " 23/23 [00:00&lt;00:00, 440.10it/s]"
      }
     },
     "d82f0bc144394192b8a0a583b6ed1ed6": {
      "model_module": "@jupyter-widgets/base",
      "model_module_version": "2.0.0",
      "model_name": "LayoutModel",
      "state": {}
     },
     "d87c9c8c30e44d3489102b891464354d": {
      "model_module": "@jupyter-widgets/base",
      "model_module_version": "2.0.0",
      "model_name": "LayoutModel",
      "state": {}
     },
     "d8f1460e689b462b8a1c14e6a7e249e9": {
      "model_module": "@jupyter-widgets/base",
      "model_module_version": "2.0.0",
      "model_name": "LayoutModel",
      "state": {}
     },
     "d932e441d06448edb1d86f29c186bfd2": {
      "model_module": "@jupyter-widgets/controls",
      "model_module_version": "2.0.0",
      "model_name": "HTMLStyleModel",
      "state": {
       "description_width": "",
       "font_size": null,
       "text_color": null
      }
     },
     "d939345545a845bbac7772057dde287f": {
      "model_module": "@jupyter-widgets/base",
      "model_module_version": "2.0.0",
      "model_name": "LayoutModel",
      "state": {}
     },
     "d9880c9932da41c6855c3f0f2c22b978": {
      "model_module": "@jupyter-widgets/controls",
      "model_module_version": "2.0.0",
      "model_name": "ProgressStyleModel",
      "state": {
       "description_width": ""
      }
     },
     "d9a3100c54fa4973812faa5850183005": {
      "model_module": "@jupyter-widgets/controls",
      "model_module_version": "2.0.0",
      "model_name": "HTMLModel",
      "state": {
       "layout": "IPY_MODEL_65e22c5b7ce74ebcb2c9d7f459fc34a9",
       "style": "IPY_MODEL_6d366232c5a04a5aac87ac51b8b823d0",
       "value": "100%"
      }
     },
     "d9b293ce0e764b37900a2ebff871f1be": {
      "model_module": "@jupyter-widgets/controls",
      "model_module_version": "2.0.0",
      "model_name": "HBoxModel",
      "state": {
       "children": [
        "IPY_MODEL_2e842587d9ae4fc08ecb99ed4b27f467",
        "IPY_MODEL_5294923ee8f7476daccb8beac3cfbd06",
        "IPY_MODEL_2718fc981859443d916ab29c585a3d91"
       ],
       "layout": "IPY_MODEL_be52d4853a054bd5a458ecb823bfd944"
      }
     },
     "d9dad558d32a4a41a2ba8cf82018b9c7": {
      "model_module": "@jupyter-widgets/base",
      "model_module_version": "2.0.0",
      "model_name": "LayoutModel",
      "state": {}
     },
     "da3053c11e08464e8cd1e444a2b56b3e": {
      "model_module": "@jupyter-widgets/controls",
      "model_module_version": "2.0.0",
      "model_name": "FloatProgressModel",
      "state": {
       "bar_style": "success",
       "layout": "IPY_MODEL_35450f8e8d664ad995970d4c93c472bf",
       "max": 20,
       "style": "IPY_MODEL_47c9defac8a64825924d5492704312e0",
       "value": 20
      }
     },
     "da5aa7f750874ee79368cde4740e7131": {
      "model_module": "@jupyter-widgets/controls",
      "model_module_version": "2.0.0",
      "model_name": "HBoxModel",
      "state": {
       "children": [
        "IPY_MODEL_c6f462a6cc2040859090feb1ea6e0e12",
        "IPY_MODEL_67ea0335d21b4edd854a47b92b530985",
        "IPY_MODEL_057be9bb1404438ba024b15f91f147af"
       ],
       "layout": "IPY_MODEL_0a5df03225524b3c821c07a2b2fb764d"
      }
     },
     "da9428c6702e484ea18b2d8d6e55423c": {
      "model_module": "@jupyter-widgets/controls",
      "model_module_version": "2.0.0",
      "model_name": "ProgressStyleModel",
      "state": {
       "description_width": ""
      }
     },
     "dab8e334b6e140a7aa8ae10e644db9fb": {
      "model_module": "@jupyter-widgets/base",
      "model_module_version": "2.0.0",
      "model_name": "LayoutModel",
      "state": {}
     },
     "dabed0f9a3f3428eb6d5302c183c2eb8": {
      "model_module": "@jupyter-widgets/controls",
      "model_module_version": "2.0.0",
      "model_name": "HTMLStyleModel",
      "state": {
       "description_width": "",
       "font_size": null,
       "text_color": null
      }
     },
     "dafb19c7ed264104a519c31add0ddcad": {
      "model_module": "@jupyter-widgets/controls",
      "model_module_version": "2.0.0",
      "model_name": "HTMLStyleModel",
      "state": {
       "description_width": "",
       "font_size": null,
       "text_color": null
      }
     },
     "db03117c0da148079d337c6f796ba2f9": {
      "model_module": "@jupyter-widgets/controls",
      "model_module_version": "2.0.0",
      "model_name": "FloatProgressModel",
      "state": {
       "bar_style": "success",
       "layout": "IPY_MODEL_2c2c00d32b03477f95297f25e3bcfb36",
       "max": 20,
       "style": "IPY_MODEL_dfdeba0ea20349f8854d39b98a7885c5",
       "value": 20
      }
     },
     "db0f4a2524bb43a2ac06f64341875e38": {
      "model_module": "@jupyter-widgets/controls",
      "model_module_version": "2.0.0",
      "model_name": "HTMLStyleModel",
      "state": {
       "description_width": "",
       "font_size": null,
       "text_color": null
      }
     },
     "db2f0094b2024e4cba22c8650a5af547": {
      "model_module": "@jupyter-widgets/controls",
      "model_module_version": "2.0.0",
      "model_name": "ProgressStyleModel",
      "state": {
       "description_width": ""
      }
     },
     "db874086dc5341799e7dfaf44cd3793c": {
      "model_module": "@jupyter-widgets/controls",
      "model_module_version": "2.0.0",
      "model_name": "HTMLStyleModel",
      "state": {
       "description_width": "",
       "font_size": null,
       "text_color": null
      }
     },
     "db903f2d228744e395249040f38acf1b": {
      "model_module": "@jupyter-widgets/controls",
      "model_module_version": "2.0.0",
      "model_name": "HTMLStyleModel",
      "state": {
       "description_width": "",
       "font_size": null,
       "text_color": null
      }
     },
     "db9af869077644c18970a65d81ebe381": {
      "model_module": "@jupyter-widgets/controls",
      "model_module_version": "2.0.0",
      "model_name": "HTMLStyleModel",
      "state": {
       "description_width": "",
       "font_size": null,
       "text_color": null
      }
     },
     "dbc379450eb14e64a3d7c9274b744e75": {
      "model_module": "@jupyter-widgets/controls",
      "model_module_version": "2.0.0",
      "model_name": "HTMLStyleModel",
      "state": {
       "description_width": "",
       "font_size": null,
       "text_color": null
      }
     },
     "dc03f1c044e34ade80c473ad1df52242": {
      "model_module": "@jupyter-widgets/base",
      "model_module_version": "2.0.0",
      "model_name": "LayoutModel",
      "state": {}
     },
     "dc14618f61f1469385d1ca7e8fc64b95": {
      "model_module": "@jupyter-widgets/base",
      "model_module_version": "2.0.0",
      "model_name": "LayoutModel",
      "state": {}
     },
     "dc9f801a52784e0da7b24a7b43c3ef71": {
      "model_module": "@jupyter-widgets/controls",
      "model_module_version": "2.0.0",
      "model_name": "HTMLStyleModel",
      "state": {
       "description_width": "",
       "font_size": null,
       "text_color": null
      }
     },
     "dcb94a01ad5e4dde98c645d5dec65d35": {
      "model_module": "@jupyter-widgets/base",
      "model_module_version": "2.0.0",
      "model_name": "LayoutModel",
      "state": {}
     },
     "dce01b2d6375485eb42290660e0c81fe": {
      "model_module": "@jupyter-widgets/controls",
      "model_module_version": "2.0.0",
      "model_name": "ProgressStyleModel",
      "state": {
       "description_width": ""
      }
     },
     "dd1b0f479dc24f3b84bb2283912dd74f": {
      "model_module": "@jupyter-widgets/base",
      "model_module_version": "2.0.0",
      "model_name": "LayoutModel",
      "state": {}
     },
     "dd5bcaa4bef244029d650cf9f7668a75": {
      "model_module": "@jupyter-widgets/controls",
      "model_module_version": "2.0.0",
      "model_name": "HTMLModel",
      "state": {
       "layout": "IPY_MODEL_58f6282bc6e04ae7a96bbdf5c040c93b",
       "style": "IPY_MODEL_ed24a9a1169045dcac76dcc88593a1a9",
       "value": " 21/21 [00:00&lt;00:00, 42.62it/s]"
      }
     },
     "ddd14570736948cf873ce964385db292": {
      "model_module": "@jupyter-widgets/controls",
      "model_module_version": "2.0.0",
      "model_name": "HTMLModel",
      "state": {
       "layout": "IPY_MODEL_7b5c0e3b00d246ccac155821102ea5c7",
       "style": "IPY_MODEL_1ed7e98859d1438996b2258b35e12a5c",
       "value": " 20/20 [00:00&lt;00:00, 49.08it/s]"
      }
     },
     "ddd81f97881749989b2af2f5f3e8833c": {
      "model_module": "@jupyter-widgets/base",
      "model_module_version": "2.0.0",
      "model_name": "LayoutModel",
      "state": {}
     },
     "dde15b3990cf4624af387fac50217a4d": {
      "model_module": "@jupyter-widgets/controls",
      "model_module_version": "2.0.0",
      "model_name": "HTMLModel",
      "state": {
       "layout": "IPY_MODEL_fb0d83ae23f04d859eb555b28e5451d7",
       "style": "IPY_MODEL_5326595b21b54d549bbc885ced6c87d3",
       "value": " 22/22 [00:00&lt;00:00, 22.57it/s]"
      }
     },
     "ddf29e974c264552be827a634da3cbdb": {
      "model_module": "@jupyter-widgets/controls",
      "model_module_version": "2.0.0",
      "model_name": "ProgressStyleModel",
      "state": {
       "description_width": ""
      }
     },
     "ddf78b518aea42e39d2a1b2fb224610f": {
      "model_module": "@jupyter-widgets/controls",
      "model_module_version": "2.0.0",
      "model_name": "HTMLStyleModel",
      "state": {
       "description_width": "",
       "font_size": null,
       "text_color": null
      }
     },
     "de59facb4fdb45c28aa6cd85e3d2c748": {
      "model_module": "@jupyter-widgets/controls",
      "model_module_version": "2.0.0",
      "model_name": "ProgressStyleModel",
      "state": {
       "description_width": ""
      }
     },
     "de95fa24313d4aeb8de2cc26fd53daf9": {
      "model_module": "@jupyter-widgets/controls",
      "model_module_version": "2.0.0",
      "model_name": "HBoxModel",
      "state": {
       "children": [
        "IPY_MODEL_c37925316b4a48d5802631984b593132",
        "IPY_MODEL_c6212faa3863494db1500bee7b3b5ec9",
        "IPY_MODEL_b3789b09b21f4e32b99b22adbf3e0b73"
       ],
       "layout": "IPY_MODEL_c1c528e942164472bc1ed1c269f16513"
      }
     },
     "dea184ad638240b6a62e9c372042fbad": {
      "model_module": "@jupyter-widgets/controls",
      "model_module_version": "2.0.0",
      "model_name": "FloatProgressModel",
      "state": {
       "bar_style": "success",
       "layout": "IPY_MODEL_8726000285ea48b0a08d0a086876dc1c",
       "max": 22,
       "style": "IPY_MODEL_6ddb490ff9c04431ba8a9cbc9952774f",
       "value": 22
      }
     },
     "debcfe29bd274f81b5ca80dd8c45e482": {
      "model_module": "@jupyter-widgets/controls",
      "model_module_version": "2.0.0",
      "model_name": "FloatProgressModel",
      "state": {
       "bar_style": "success",
       "layout": "IPY_MODEL_e45b6b98c1584350aa799d39b36f37c1",
       "max": 21,
       "style": "IPY_MODEL_b9c70539aede47f284d52b889e45b2de",
       "value": 21
      }
     },
     "df2211170faf4cdf846bcb676183d8a0": {
      "model_module": "@jupyter-widgets/controls",
      "model_module_version": "2.0.0",
      "model_name": "HBoxModel",
      "state": {
       "children": [
        "IPY_MODEL_e2f545e16173495fb8dcf133a9ba6614",
        "IPY_MODEL_53daeb1726d64f04bfdda1743d1b66a7",
        "IPY_MODEL_a8bc33fc34324ee58939596ad02bc848"
       ],
       "layout": "IPY_MODEL_276f70dc09564622b300ed49da4a5dd4"
      }
     },
     "df25ce6a390541bc8e5cb7765d4c8134": {
      "model_module": "@jupyter-widgets/base",
      "model_module_version": "2.0.0",
      "model_name": "LayoutModel",
      "state": {}
     },
     "df47e1e897d244928386b9b9c162bb74": {
      "model_module": "@jupyter-widgets/controls",
      "model_module_version": "2.0.0",
      "model_name": "ProgressStyleModel",
      "state": {
       "description_width": ""
      }
     },
     "df5dfdaf8fe943f383ac25c03eb14bc4": {
      "model_module": "@jupyter-widgets/controls",
      "model_module_version": "2.0.0",
      "model_name": "HTMLModel",
      "state": {
       "layout": "IPY_MODEL_cb8c3f0012c44575a826cd43fb6b9eff",
       "style": "IPY_MODEL_5dc9e8e4c8984fd89e9c1bba87f1bee9",
       "value": " 20/20 [00:00&lt;00:00, 19.86it/s]"
      }
     },
     "df71687c013344b6b88e58e1037fbf14": {
      "model_module": "@jupyter-widgets/base",
      "model_module_version": "2.0.0",
      "model_name": "LayoutModel",
      "state": {}
     },
     "dfb378d1048149d9bf8609084a36ea88": {
      "model_module": "@jupyter-widgets/controls",
      "model_module_version": "2.0.0",
      "model_name": "ProgressStyleModel",
      "state": {
       "description_width": ""
      }
     },
     "dfdeba0ea20349f8854d39b98a7885c5": {
      "model_module": "@jupyter-widgets/controls",
      "model_module_version": "2.0.0",
      "model_name": "ProgressStyleModel",
      "state": {
       "description_width": ""
      }
     },
     "dff7e5c052b0457f896c6735e3942d1c": {
      "model_module": "@jupyter-widgets/base",
      "model_module_version": "2.0.0",
      "model_name": "LayoutModel",
      "state": {}
     },
     "dffd0d61eeb54070a340df219964134e": {
      "model_module": "@jupyter-widgets/controls",
      "model_module_version": "2.0.0",
      "model_name": "HTMLStyleModel",
      "state": {
       "description_width": "",
       "font_size": null,
       "text_color": null
      }
     },
     "e00496bb873d442981035679edc8eb5a": {
      "model_module": "@jupyter-widgets/controls",
      "model_module_version": "2.0.0",
      "model_name": "HTMLModel",
      "state": {
       "layout": "IPY_MODEL_457ee0d68a1448dc94dbffe8bd8b0147",
       "style": "IPY_MODEL_d79f9891e5bd424da8b9b4465fbdbedb",
       "value": "100%"
      }
     },
     "e0110f8a97624430bbb810cf04e51368": {
      "model_module": "@jupyter-widgets/controls",
      "model_module_version": "2.0.0",
      "model_name": "HTMLStyleModel",
      "state": {
       "description_width": "",
       "font_size": null,
       "text_color": null
      }
     },
     "e018e9dc22794197afcb8d2a7b75ee6c": {
      "model_module": "@jupyter-widgets/controls",
      "model_module_version": "2.0.0",
      "model_name": "HTMLModel",
      "state": {
       "layout": "IPY_MODEL_735c53dde92b4a62bf8f7e3f5c629e04",
       "style": "IPY_MODEL_68c3a5c58d544c6180f0df3804ca7838",
       "value": "100%"
      }
     },
     "e039c32337c7480f9304ecc2c72524f1": {
      "model_module": "@jupyter-widgets/controls",
      "model_module_version": "2.0.0",
      "model_name": "HTMLModel",
      "state": {
       "layout": "IPY_MODEL_dc14618f61f1469385d1ca7e8fc64b95",
       "style": "IPY_MODEL_729720b6fe1944a5b8c6c4c3a50714a6",
       "value": " 20/20 [00:00&lt;00:00, 37.55it/s]"
      }
     },
     "e03c0a35198d445d8582f3789d73a57c": {
      "model_module": "@jupyter-widgets/base",
      "model_module_version": "2.0.0",
      "model_name": "LayoutModel",
      "state": {}
     },
     "e059dbb9258749f2a76166ca3b274dbb": {
      "model_module": "@jupyter-widgets/controls",
      "model_module_version": "2.0.0",
      "model_name": "FloatProgressModel",
      "state": {
       "bar_style": "success",
       "layout": "IPY_MODEL_427b492ed998419a897f709559c0be5c",
       "max": 23,
       "style": "IPY_MODEL_a0454abc31c946ccbc182acdbda1296b",
       "value": 23
      }
     },
     "e08cbe741ad84811b4696c4b1a272203": {
      "model_module": "@jupyter-widgets/controls",
      "model_module_version": "2.0.0",
      "model_name": "ProgressStyleModel",
      "state": {
       "description_width": ""
      }
     },
     "e0abbd32b4db43b39f021a9b799b2a4a": {
      "model_module": "@jupyter-widgets/base",
      "model_module_version": "2.0.0",
      "model_name": "LayoutModel",
      "state": {}
     },
     "e1006102acb245a2990e45e1ccc8199f": {
      "model_module": "@jupyter-widgets/controls",
      "model_module_version": "2.0.0",
      "model_name": "FloatProgressModel",
      "state": {
       "bar_style": "success",
       "layout": "IPY_MODEL_d52de0ef0d3d4e6995916429cd20dd49",
       "max": 21,
       "style": "IPY_MODEL_bc49b9e72caa4d09a8bd0329149447ab",
       "value": 21
      }
     },
     "e13d97833e8e4878b946b1fee101df13": {
      "model_module": "@jupyter-widgets/base",
      "model_module_version": "2.0.0",
      "model_name": "LayoutModel",
      "state": {}
     },
     "e1886a0aec90456c99178c03277f7ab7": {
      "model_module": "@jupyter-widgets/controls",
      "model_module_version": "2.0.0",
      "model_name": "FloatProgressModel",
      "state": {
       "bar_style": "success",
       "layout": "IPY_MODEL_9fa2c72bd4934c94a87832c73b09c9f1",
       "max": 21,
       "style": "IPY_MODEL_c2d2d0a5a4d64d7c81b7587229ba80e3",
       "value": 21
      }
     },
     "e194fb9a481c4e48b110861af2b48fd4": {
      "model_module": "@jupyter-widgets/controls",
      "model_module_version": "2.0.0",
      "model_name": "FloatProgressModel",
      "state": {
       "bar_style": "success",
       "layout": "IPY_MODEL_2cc8de0eb04244f393663f5072a17e12",
       "max": 20,
       "style": "IPY_MODEL_d53fcb63706a403093a2d8d8e448a713",
       "value": 20
      }
     },
     "e1c9cdf19d10455489429fdb01ebe150": {
      "model_module": "@jupyter-widgets/base",
      "model_module_version": "2.0.0",
      "model_name": "LayoutModel",
      "state": {}
     },
     "e206e0949bec42cb8b0327a840c73349": {
      "model_module": "@jupyter-widgets/controls",
      "model_module_version": "2.0.0",
      "model_name": "HBoxModel",
      "state": {
       "children": [
        "IPY_MODEL_b7fc57244d9d40e9a9010bb8307b0498",
        "IPY_MODEL_b08f5d3935634ccb80670d488309bdac",
        "IPY_MODEL_f747cc769a2a43a4865333ff0e707796"
       ],
       "layout": "IPY_MODEL_69caa8b0708e44f997c0dff99fe8c482"
      }
     },
     "e21c10b0a3c24f1a8ab2210a2645c688": {
      "model_module": "@jupyter-widgets/base",
      "model_module_version": "2.0.0",
      "model_name": "LayoutModel",
      "state": {}
     },
     "e241f34130994c1297e3720ad6b56356": {
      "model_module": "@jupyter-widgets/controls",
      "model_module_version": "2.0.0",
      "model_name": "HTMLStyleModel",
      "state": {
       "description_width": "",
       "font_size": null,
       "text_color": null
      }
     },
     "e2446c63e0084ec5ad3e21532af417a1": {
      "model_module": "@jupyter-widgets/controls",
      "model_module_version": "2.0.0",
      "model_name": "ProgressStyleModel",
      "state": {
       "description_width": ""
      }
     },
     "e24f2e9d024a4ff6bb7f5f09844398c7": {
      "model_module": "@jupyter-widgets/controls",
      "model_module_version": "2.0.0",
      "model_name": "FloatProgressModel",
      "state": {
       "bar_style": "success",
       "layout": "IPY_MODEL_5541af9b25ab42dea6aa90368a7a195c",
       "max": 23,
       "style": "IPY_MODEL_6904e1dc033f49ba9e386e6499aa3f5c",
       "value": 23
      }
     },
     "e256a1cfe7c8408aa234cbc32f569b07": {
      "model_module": "@jupyter-widgets/controls",
      "model_module_version": "2.0.0",
      "model_name": "HTMLStyleModel",
      "state": {
       "description_width": "",
       "font_size": null,
       "text_color": null
      }
     },
     "e2a552a1e05242e2be7115e39ab9bc2c": {
      "model_module": "@jupyter-widgets/controls",
      "model_module_version": "2.0.0",
      "model_name": "HTMLModel",
      "state": {
       "layout": "IPY_MODEL_ee6ca5d942214b848dc9122fc03c62a6",
       "style": "IPY_MODEL_44bd4bc86f214958aa71445ae2ba2449",
       "value": " 23/23 [00:00&lt;00:00, 29.51it/s]"
      }
     },
     "e2e36d2bca484a978996b2de3e912343": {
      "model_module": "@jupyter-widgets/base",
      "model_module_version": "2.0.0",
      "model_name": "LayoutModel",
      "state": {}
     },
     "e2e84ee7ce6741a194aff6a5fa8a8160": {
      "model_module": "@jupyter-widgets/base",
      "model_module_version": "2.0.0",
      "model_name": "LayoutModel",
      "state": {}
     },
     "e2f545e16173495fb8dcf133a9ba6614": {
      "model_module": "@jupyter-widgets/controls",
      "model_module_version": "2.0.0",
      "model_name": "HTMLModel",
      "state": {
       "layout": "IPY_MODEL_1556e0e3bcbe489e951c02ba47c4dca7",
       "style": "IPY_MODEL_f70319aedc354821be73d39a60d91835",
       "value": "100%"
      }
     },
     "e307aadd327a4b7e997da6e23ba74f29": {
      "model_module": "@jupyter-widgets/base",
      "model_module_version": "2.0.0",
      "model_name": "LayoutModel",
      "state": {}
     },
     "e30e6d119f05498384bd9eeaff9ad4ba": {
      "model_module": "@jupyter-widgets/base",
      "model_module_version": "2.0.0",
      "model_name": "LayoutModel",
      "state": {}
     },
     "e32b1b23cbfc4949a536f52bbfc9d416": {
      "model_module": "@jupyter-widgets/base",
      "model_module_version": "2.0.0",
      "model_name": "LayoutModel",
      "state": {}
     },
     "e32dde91370a40d0b5c453e9df489dba": {
      "model_module": "@jupyter-widgets/base",
      "model_module_version": "2.0.0",
      "model_name": "LayoutModel",
      "state": {}
     },
     "e33ca704d2264a2f9e2be61c5bb191c1": {
      "model_module": "@jupyter-widgets/base",
      "model_module_version": "2.0.0",
      "model_name": "LayoutModel",
      "state": {}
     },
     "e360bceb04184028ab08191e4a336514": {
      "model_module": "@jupyter-widgets/controls",
      "model_module_version": "2.0.0",
      "model_name": "HTMLModel",
      "state": {
       "layout": "IPY_MODEL_8fd4d00ff45f4a2e8fe20fd31f287673",
       "style": "IPY_MODEL_2494398e8b9446df86c28edc3c88fab6",
       "value": "100%"
      }
     },
     "e365fcaab8c84e2e98ababa062d31db9": {
      "model_module": "@jupyter-widgets/controls",
      "model_module_version": "2.0.0",
      "model_name": "HTMLModel",
      "state": {
       "layout": "IPY_MODEL_a2fbf3c147274ba99ac62ebbb385e2a2",
       "style": "IPY_MODEL_9da085ea40114adb8da9290c4052ceb0",
       "value": "100%"
      }
     },
     "e3d7225bb6104c52bce7f2343901b8ff": {
      "model_module": "@jupyter-widgets/controls",
      "model_module_version": "2.0.0",
      "model_name": "HTMLModel",
      "state": {
       "layout": "IPY_MODEL_bb1c28ff30b14e55a6987a78f7d124a8",
       "style": "IPY_MODEL_080ba726b39e475ba6e1b34dce1230fe",
       "value": " 23/23 [00:00&lt;00:00, 22.56it/s]"
      }
     },
     "e3ec668863734599b4871a1847b9a428": {
      "model_module": "@jupyter-widgets/controls",
      "model_module_version": "2.0.0",
      "model_name": "HBoxModel",
      "state": {
       "children": [
        "IPY_MODEL_22e2719d0cc74eb39c838339bab633cd",
        "IPY_MODEL_10edd921788a4ab19997296ba9389766",
        "IPY_MODEL_b4cb38d4cb044167932e92a0e752c097"
       ],
       "layout": "IPY_MODEL_0cbbdb0b697e4ad0a0f19a7ddc514638"
      }
     },
     "e418f9ec231747e994be74b66066d4c8": {
      "model_module": "@jupyter-widgets/controls",
      "model_module_version": "2.0.0",
      "model_name": "HTMLStyleModel",
      "state": {
       "description_width": "",
       "font_size": null,
       "text_color": null
      }
     },
     "e444b039d2704022a21676c69f91f33f": {
      "model_module": "@jupyter-widgets/base",
      "model_module_version": "2.0.0",
      "model_name": "LayoutModel",
      "state": {}
     },
     "e45b6b98c1584350aa799d39b36f37c1": {
      "model_module": "@jupyter-widgets/base",
      "model_module_version": "2.0.0",
      "model_name": "LayoutModel",
      "state": {}
     },
     "e4661501260d46a1bc67bf49d8e53d60": {
      "model_module": "@jupyter-widgets/controls",
      "model_module_version": "2.0.0",
      "model_name": "HTMLModel",
      "state": {
       "layout": "IPY_MODEL_c811b6963d59400e9d6494d1349123be",
       "style": "IPY_MODEL_43db610548284c8dba6de4a951cbbdf9",
       "value": "100%"
      }
     },
     "e46fb90c0ec04a639addad209a0dbb44": {
      "model_module": "@jupyter-widgets/controls",
      "model_module_version": "2.0.0",
      "model_name": "HTMLStyleModel",
      "state": {
       "description_width": "",
       "font_size": null,
       "text_color": null
      }
     },
     "e47ff61673b742ba9c3677ea3a27cc39": {
      "model_module": "@jupyter-widgets/base",
      "model_module_version": "2.0.0",
      "model_name": "LayoutModel",
      "state": {}
     },
     "e4a1cbf7b8024185a12a27cc2a1a3e2d": {
      "model_module": "@jupyter-widgets/base",
      "model_module_version": "2.0.0",
      "model_name": "LayoutModel",
      "state": {}
     },
     "e4eacc95841943a7b846d6839c64c0dc": {
      "model_module": "@jupyter-widgets/controls",
      "model_module_version": "2.0.0",
      "model_name": "HTMLModel",
      "state": {
       "layout": "IPY_MODEL_074d2bd510ed46b68b6d24fe9ebde7a5",
       "style": "IPY_MODEL_95a64d2a05c249289cab7b480d46c948",
       "value": "100%"
      }
     },
     "e4ff13e0cd7e478f83adc5336466840a": {
      "model_module": "@jupyter-widgets/controls",
      "model_module_version": "2.0.0",
      "model_name": "HBoxModel",
      "state": {
       "children": [
        "IPY_MODEL_4f414c2348bd46038457289c2870c44a",
        "IPY_MODEL_e1886a0aec90456c99178c03277f7ab7",
        "IPY_MODEL_064626868d7448f39a6952f3b4396585"
       ],
       "layout": "IPY_MODEL_3a8e72b6edd942b394b31e6f7aed942f"
      }
     },
     "e500ce480f024bdca7a0207bfa2dfe3b": {
      "model_module": "@jupyter-widgets/controls",
      "model_module_version": "2.0.0",
      "model_name": "FloatProgressModel",
      "state": {
       "bar_style": "success",
       "layout": "IPY_MODEL_688ba0df7f314f32870a3ef5dbb18c93",
       "max": 21,
       "style": "IPY_MODEL_d323ac8aea0448979d305fbcaf2f9143",
       "value": 21
      }
     },
     "e5195b4b9d8b4444b83b4183a9f7bca8": {
      "model_module": "@jupyter-widgets/base",
      "model_module_version": "2.0.0",
      "model_name": "LayoutModel",
      "state": {}
     },
     "e51c18b59f3546e597d92b7b756ac4d0": {
      "model_module": "@jupyter-widgets/controls",
      "model_module_version": "2.0.0",
      "model_name": "HTMLStyleModel",
      "state": {
       "description_width": "",
       "font_size": null,
       "text_color": null
      }
     },
     "e551a1f17afe4464853600e51dee603c": {
      "model_module": "@jupyter-widgets/base",
      "model_module_version": "2.0.0",
      "model_name": "LayoutModel",
      "state": {}
     },
     "e5c1914a4a8946139054da5a59fc4996": {
      "model_module": "@jupyter-widgets/controls",
      "model_module_version": "2.0.0",
      "model_name": "HTMLStyleModel",
      "state": {
       "description_width": "",
       "font_size": null,
       "text_color": null
      }
     },
     "e5ca295c82394737a7a2a869536d0be4": {
      "model_module": "@jupyter-widgets/base",
      "model_module_version": "2.0.0",
      "model_name": "LayoutModel",
      "state": {}
     },
     "e5ec457789fe4e878a89f1c0a96c7620": {
      "model_module": "@jupyter-widgets/controls",
      "model_module_version": "2.0.0",
      "model_name": "ProgressStyleModel",
      "state": {
       "description_width": ""
      }
     },
     "e5f0e67e6df541479b7878bbe568ae76": {
      "model_module": "@jupyter-widgets/controls",
      "model_module_version": "2.0.0",
      "model_name": "HTMLModel",
      "state": {
       "layout": "IPY_MODEL_1065de16cdff4fb0bf29eb100394818c",
       "style": "IPY_MODEL_d6b68b9443b8454188ac0bffce79d235",
       "value": " 23/23 [00:00&lt;00:00, 40.17it/s]"
      }
     },
     "e5f7bc02a9f9439aa40bda32e2616996": {
      "model_module": "@jupyter-widgets/controls",
      "model_module_version": "2.0.0",
      "model_name": "ProgressStyleModel",
      "state": {
       "description_width": ""
      }
     },
     "e610aac91a5d4e8da7e96582f154c9ba": {
      "model_module": "@jupyter-widgets/base",
      "model_module_version": "2.0.0",
      "model_name": "LayoutModel",
      "state": {}
     },
     "e6166501282348bc92e77025bd82a578": {
      "model_module": "@jupyter-widgets/base",
      "model_module_version": "2.0.0",
      "model_name": "LayoutModel",
      "state": {}
     },
     "e619a174069d41c89534ac348f77e164": {
      "model_module": "@jupyter-widgets/controls",
      "model_module_version": "2.0.0",
      "model_name": "HTMLStyleModel",
      "state": {
       "description_width": "",
       "font_size": null,
       "text_color": null
      }
     },
     "e62b1e3d917e487c91bb459376d940b8": {
      "model_module": "@jupyter-widgets/base",
      "model_module_version": "2.0.0",
      "model_name": "LayoutModel",
      "state": {}
     },
     "e6423c45150f46268bd5f1eb63d5b106": {
      "model_module": "@jupyter-widgets/base",
      "model_module_version": "2.0.0",
      "model_name": "LayoutModel",
      "state": {}
     },
     "e64a0f5dbb67460694a80b89da61a09a": {
      "model_module": "@jupyter-widgets/controls",
      "model_module_version": "2.0.0",
      "model_name": "HTMLStyleModel",
      "state": {
       "description_width": "",
       "font_size": null,
       "text_color": null
      }
     },
     "e64c89efcbb749d0ac04fe882b917094": {
      "model_module": "@jupyter-widgets/base",
      "model_module_version": "2.0.0",
      "model_name": "LayoutModel",
      "state": {}
     },
     "e66297a8308740d69043bdf70e1d0042": {
      "model_module": "@jupyter-widgets/controls",
      "model_module_version": "2.0.0",
      "model_name": "FloatProgressModel",
      "state": {
       "bar_style": "success",
       "layout": "IPY_MODEL_514e06d9090e4815a40088493b8f5bd4",
       "max": 21,
       "style": "IPY_MODEL_d1a057b739584120bcd36ab35ff821c8",
       "value": 21
      }
     },
     "e6adb155e6384ad29b26dd96e7df0276": {
      "model_module": "@jupyter-widgets/controls",
      "model_module_version": "2.0.0",
      "model_name": "HTMLStyleModel",
      "state": {
       "description_width": "",
       "font_size": null,
       "text_color": null
      }
     },
     "e6d71da6799e4d8ba9f90a22fe6c2979": {
      "model_module": "@jupyter-widgets/base",
      "model_module_version": "2.0.0",
      "model_name": "LayoutModel",
      "state": {}
     },
     "e6f13347e69244daa66429ad7e7993f0": {
      "model_module": "@jupyter-widgets/controls",
      "model_module_version": "2.0.0",
      "model_name": "HTMLModel",
      "state": {
       "layout": "IPY_MODEL_26e3d3b72d2d4813bbaf947f24aa93e6",
       "style": "IPY_MODEL_cca0367920094340b8e352fedec5eacf",
       "value": "100%"
      }
     },
     "e6f3222df8df49b3a14be99ddd585e20": {
      "model_module": "@jupyter-widgets/base",
      "model_module_version": "2.0.0",
      "model_name": "LayoutModel",
      "state": {}
     },
     "e71f4a0d03e749b6a82e194e833b0371": {
      "model_module": "@jupyter-widgets/base",
      "model_module_version": "2.0.0",
      "model_name": "LayoutModel",
      "state": {}
     },
     "e7922abb650e490f8c2bd801174b80e7": {
      "model_module": "@jupyter-widgets/controls",
      "model_module_version": "2.0.0",
      "model_name": "FloatProgressModel",
      "state": {
       "bar_style": "success",
       "layout": "IPY_MODEL_d2008ac2b9c04a158aafcc3eed5c9e02",
       "max": 22,
       "style": "IPY_MODEL_e5ec457789fe4e878a89f1c0a96c7620",
       "value": 22
      }
     },
     "e79cc4f9c94248d9ad96282cbf8941f1": {
      "model_module": "@jupyter-widgets/base",
      "model_module_version": "2.0.0",
      "model_name": "LayoutModel",
      "state": {}
     },
     "e7b3eefc12f042fcb1b00227221f7f55": {
      "model_module": "@jupyter-widgets/base",
      "model_module_version": "2.0.0",
      "model_name": "LayoutModel",
      "state": {}
     },
     "e7c38797f5dd49f1bb370877bf82d3cb": {
      "model_module": "@jupyter-widgets/base",
      "model_module_version": "2.0.0",
      "model_name": "LayoutModel",
      "state": {}
     },
     "e7c6526fc8a8482b9a770414620b1d47": {
      "model_module": "@jupyter-widgets/controls",
      "model_module_version": "2.0.0",
      "model_name": "FloatProgressModel",
      "state": {
       "bar_style": "success",
       "layout": "IPY_MODEL_072baf0ce18c490da90418a30d834709",
       "max": 22,
       "style": "IPY_MODEL_6830d940ebeb4ebd9bde2cb5cb6f3c55",
       "value": 22
      }
     },
     "e7d4ed3204a7474298b1077e88da9388": {
      "model_module": "@jupyter-widgets/controls",
      "model_module_version": "2.0.0",
      "model_name": "HTMLModel",
      "state": {
       "layout": "IPY_MODEL_11e4753db8b54ca890ac96f036ca3f44",
       "style": "IPY_MODEL_a0cafa8123d8445980b950b686fcdc6a",
       "value": "100%"
      }
     },
     "e7d7f75cffe64d74846862b65a825508": {
      "model_module": "@jupyter-widgets/base",
      "model_module_version": "2.0.0",
      "model_name": "LayoutModel",
      "state": {}
     },
     "e7d963f6ad3b4aafaa3cde9abb5b4295": {
      "model_module": "@jupyter-widgets/base",
      "model_module_version": "2.0.0",
      "model_name": "LayoutModel",
      "state": {}
     },
     "e80bf0ccb38049e3823a0caf64301206": {
      "model_module": "@jupyter-widgets/controls",
      "model_module_version": "2.0.0",
      "model_name": "ProgressStyleModel",
      "state": {
       "description_width": ""
      }
     },
     "e8267784f396480ea1f3ae6d3a13ab2d": {
      "model_module": "@jupyter-widgets/controls",
      "model_module_version": "2.0.0",
      "model_name": "FloatProgressModel",
      "state": {
       "bar_style": "success",
       "layout": "IPY_MODEL_63478132e83942ec87ed705bb79a7ee1",
       "max": 23,
       "style": "IPY_MODEL_71a3dc6115de43f19d4c99c890fddf61",
       "value": 23
      }
     },
     "e829ff3ad70249428b2a30806e40b277": {
      "model_module": "@jupyter-widgets/controls",
      "model_module_version": "2.0.0",
      "model_name": "ProgressStyleModel",
      "state": {
       "description_width": ""
      }
     },
     "e8968b2502f2473f98da221251f39efe": {
      "model_module": "@jupyter-widgets/controls",
      "model_module_version": "2.0.0",
      "model_name": "ProgressStyleModel",
      "state": {
       "description_width": ""
      }
     },
     "e8a54cf467754faeb0880146347b64f6": {
      "model_module": "@jupyter-widgets/controls",
      "model_module_version": "2.0.0",
      "model_name": "HTMLModel",
      "state": {
       "layout": "IPY_MODEL_0acb0c2eba2c4f9481b70d64018188e0",
       "style": "IPY_MODEL_5d95a55914d147c19ae1ae44a5aff663",
       "value": "100%"
      }
     },
     "e8a59b4613b042e18f092514676ebc21": {
      "model_module": "@jupyter-widgets/controls",
      "model_module_version": "2.0.0",
      "model_name": "HTMLModel",
      "state": {
       "layout": "IPY_MODEL_a6763706ca4842ca93761549c5810c23",
       "style": "IPY_MODEL_2404f1cc107046e485b3eb3846c337e2",
       "value": " 21/21 [00:00&lt;00:00, 382.67it/s]"
      }
     },
     "e8ad19a935284933bd7cdc1e20da21b8": {
      "model_module": "@jupyter-widgets/controls",
      "model_module_version": "2.0.0",
      "model_name": "HTMLStyleModel",
      "state": {
       "description_width": "",
       "font_size": null,
       "text_color": null
      }
     },
     "e8cf9b52b13e465b958db47a59930821": {
      "model_module": "@jupyter-widgets/controls",
      "model_module_version": "2.0.0",
      "model_name": "HBoxModel",
      "state": {
       "children": [
        "IPY_MODEL_84f782e7b2ab43aa80efd89ba98f6406",
        "IPY_MODEL_56e0926d753247a080127712e4ddbd2c",
        "IPY_MODEL_66792dafdec34ddcb719b3a2a50f884f"
       ],
       "layout": "IPY_MODEL_9f5ef88dcde646989d541910d5be976b"
      }
     },
     "e8e5eafcc9ed462f9599d977e10bdf5e": {
      "model_module": "@jupyter-widgets/controls",
      "model_module_version": "2.0.0",
      "model_name": "HTMLModel",
      "state": {
       "layout": "IPY_MODEL_3a7f994af74447bcaa7e61fc2449013c",
       "style": "IPY_MODEL_3822d03f04864514ab8c860b80602f87",
       "value": " 20/20 [00:00&lt;00:00, 41.67it/s]"
      }
     },
     "e9312bd89710412bb008c41acf0c499b": {
      "model_module": "@jupyter-widgets/controls",
      "model_module_version": "2.0.0",
      "model_name": "HTMLStyleModel",
      "state": {
       "description_width": "",
       "font_size": null,
       "text_color": null
      }
     },
     "e93d257a211c409e9953820665c84f7d": {
      "model_module": "@jupyter-widgets/base",
      "model_module_version": "2.0.0",
      "model_name": "LayoutModel",
      "state": {}
     },
     "e94e0ae7a09f48d6a04dfc4d7a5087ba": {
      "model_module": "@jupyter-widgets/controls",
      "model_module_version": "2.0.0",
      "model_name": "HTMLModel",
      "state": {
       "layout": "IPY_MODEL_331cf018db724a5f8ab97c6d528fcfad",
       "style": "IPY_MODEL_4b9c4e45e3aa4ce19567de7e8a207c7c",
       "value": "100%"
      }
     },
     "e95dce9509cf4c3a912d8a3c5e148ee4": {
      "model_module": "@jupyter-widgets/controls",
      "model_module_version": "2.0.0",
      "model_name": "HTMLModel",
      "state": {
       "layout": "IPY_MODEL_d08cdcb2c5dd4caeaa3d7b779d9e2941",
       "style": "IPY_MODEL_899ef48d5a014cd694c9c53250619787",
       "value": " 21/21 [00:00&lt;00:00, 298.26it/s]"
      }
     },
     "e9785e38b28d43f2b0b354d2d88ba674": {
      "model_module": "@jupyter-widgets/base",
      "model_module_version": "2.0.0",
      "model_name": "LayoutModel",
      "state": {}
     },
     "e991e90ab42840a5ade2ac872f6e01bc": {
      "model_module": "@jupyter-widgets/controls",
      "model_module_version": "2.0.0",
      "model_name": "FloatProgressModel",
      "state": {
       "bar_style": "success",
       "layout": "IPY_MODEL_166c73054a1e4ad1a4342bc5fd213c4c",
       "max": 23,
       "style": "IPY_MODEL_150a08375f794ce5a5968ac535923828",
       "value": 23
      }
     },
     "e9c419dbf4be4d99aa0157d5c8e14ed4": {
      "model_module": "@jupyter-widgets/controls",
      "model_module_version": "2.0.0",
      "model_name": "FloatProgressModel",
      "state": {
       "bar_style": "success",
       "layout": "IPY_MODEL_259f0f1c30794154902648aa029aad27",
       "max": 20,
       "style": "IPY_MODEL_303733a842ea4fa59f252abf66e9ff17",
       "value": 20
      }
     },
     "e9c9ad80a0ed406884ab1c5c0e8cbf26": {
      "model_module": "@jupyter-widgets/controls",
      "model_module_version": "2.0.0",
      "model_name": "HBoxModel",
      "state": {
       "children": [
        "IPY_MODEL_58a6433c3d2d48dc8f059746469db7d1",
        "IPY_MODEL_f521c6a276ce48a0b4f6129956647cf6",
        "IPY_MODEL_83845608db724713bf5a1424cf1c28ec"
       ],
       "layout": "IPY_MODEL_39bfc79b61da45c8b7db033a2ae786b6"
      }
     },
     "e9e71413a03f420a869c09daea101b92": {
      "model_module": "@jupyter-widgets/base",
      "model_module_version": "2.0.0",
      "model_name": "LayoutModel",
      "state": {}
     },
     "e9efd0738f104236ae77a69f6c448863": {
      "model_module": "@jupyter-widgets/base",
      "model_module_version": "2.0.0",
      "model_name": "LayoutModel",
      "state": {}
     },
     "e9f615a276e94d8cad6e195ae7d44ef1": {
      "model_module": "@jupyter-widgets/controls",
      "model_module_version": "2.0.0",
      "model_name": "HTMLStyleModel",
      "state": {
       "description_width": "",
       "font_size": null,
       "text_color": null
      }
     },
     "e9fe1dd463e64ae49baee8a6982bdc89": {
      "model_module": "@jupyter-widgets/base",
      "model_module_version": "2.0.0",
      "model_name": "LayoutModel",
      "state": {}
     },
     "ea27d2dc0c6b4fb2abcfec5998ee017f": {
      "model_module": "@jupyter-widgets/base",
      "model_module_version": "2.0.0",
      "model_name": "LayoutModel",
      "state": {}
     },
     "ea48e09b52414b0cb90bdf46e19fee48": {
      "model_module": "@jupyter-widgets/controls",
      "model_module_version": "2.0.0",
      "model_name": "FloatProgressModel",
      "state": {
       "bar_style": "success",
       "layout": "IPY_MODEL_2f6ba212298a45c9be0a6f23ef7fcd3a",
       "max": 22,
       "style": "IPY_MODEL_a5a399f6fde445ff9bda2d803c1a6182",
       "value": 22
      }
     },
     "ea4e13ddd4504d04ba003d6cb12c16cf": {
      "model_module": "@jupyter-widgets/controls",
      "model_module_version": "2.0.0",
      "model_name": "HTMLModel",
      "state": {
       "layout": "IPY_MODEL_ff7962d6838e4b55937c9fd2375f980a",
       "style": "IPY_MODEL_41813387924d421ca3676a5820945e9d",
       "value": "100%"
      }
     },
     "ea53c2db442e4fa593c86cfbaa08cb64": {
      "model_module": "@jupyter-widgets/base",
      "model_module_version": "2.0.0",
      "model_name": "LayoutModel",
      "state": {}
     },
     "ea641abb800843cfb23fccb6585c45da": {
      "model_module": "@jupyter-widgets/controls",
      "model_module_version": "2.0.0",
      "model_name": "HBoxModel",
      "state": {
       "children": [
        "IPY_MODEL_2071c51b11384c97a1e766ce9f8e7db3",
        "IPY_MODEL_220e12b6d04142928dd8bee3c102ac0d",
        "IPY_MODEL_a12d9a629ec84043a9e54a27266576d3"
       ],
       "layout": "IPY_MODEL_89a66f5522f0480ab61ffd68e8aa569a"
      }
     },
     "ea70f6655a9c4c4d99e2828b079a757d": {
      "model_module": "@jupyter-widgets/controls",
      "model_module_version": "2.0.0",
      "model_name": "HTMLModel",
      "state": {
       "layout": "IPY_MODEL_cfb7a7542c1e4897817d01324595d101",
       "style": "IPY_MODEL_dabed0f9a3f3428eb6d5302c183c2eb8",
       "value": " 23/23 [00:01&lt;00:00, 21.63it/s]"
      }
     },
     "ea9cd1d5250c4973ac03a3e1ed9855cb": {
      "model_module": "@jupyter-widgets/controls",
      "model_module_version": "2.0.0",
      "model_name": "FloatProgressModel",
      "state": {
       "bar_style": "success",
       "layout": "IPY_MODEL_66d88eaffbe548f481d8be600783cec4",
       "max": 23,
       "style": "IPY_MODEL_d41281c30ef448c8b4ea20b8dce20ad6",
       "value": 23
      }
     },
     "eae3a1b74c7b4a90a6f8f6f133699610": {
      "model_module": "@jupyter-widgets/controls",
      "model_module_version": "2.0.0",
      "model_name": "HTMLModel",
      "state": {
       "layout": "IPY_MODEL_84150dd3da8a42ffaa5f8252869829d9",
       "style": "IPY_MODEL_632c4aa15d914abea1b602c46b1c83ae",
       "value": " 23/23 [00:01&lt;00:00, 17.93it/s]"
      }
     },
     "eae7245a27414a7c96b3642c6b19efbc": {
      "model_module": "@jupyter-widgets/base",
      "model_module_version": "2.0.0",
      "model_name": "LayoutModel",
      "state": {}
     },
     "eb648ad8994e4e29b1f16198e42cd415": {
      "model_module": "@jupyter-widgets/controls",
      "model_module_version": "2.0.0",
      "model_name": "HBoxModel",
      "state": {
       "children": [
        "IPY_MODEL_737a5159b8e44b16a5f0f04e4a836e39",
        "IPY_MODEL_2dd8dc965edd48759400dc236599ca8c",
        "IPY_MODEL_df5dfdaf8fe943f383ac25c03eb14bc4"
       ],
       "layout": "IPY_MODEL_dab8e334b6e140a7aa8ae10e644db9fb"
      }
     },
     "eb8bbe638c4441a396afd159fe94c19e": {
      "model_module": "@jupyter-widgets/controls",
      "model_module_version": "2.0.0",
      "model_name": "FloatProgressModel",
      "state": {
       "bar_style": "success",
       "layout": "IPY_MODEL_82035724ecf74fa9aaa8d9fab08dd5da",
       "max": 23,
       "style": "IPY_MODEL_b1582fea1d614dd695a83cc63d5c0959",
       "value": 23
      }
     },
     "ebc774950ffc4655b0b9735094891ecb": {
      "model_module": "@jupyter-widgets/base",
      "model_module_version": "2.0.0",
      "model_name": "LayoutModel",
      "state": {}
     },
     "ebdb99d81ed643ff8573c18108bf42ce": {
      "model_module": "@jupyter-widgets/base",
      "model_module_version": "2.0.0",
      "model_name": "LayoutModel",
      "state": {}
     },
     "ec1760d8b8a44060a55625f8cd361151": {
      "model_module": "@jupyter-widgets/base",
      "model_module_version": "2.0.0",
      "model_name": "LayoutModel",
      "state": {}
     },
     "ec4c9545f1de4645a4093d01f29f5e48": {
      "model_module": "@jupyter-widgets/controls",
      "model_module_version": "2.0.0",
      "model_name": "HTMLModel",
      "state": {
       "layout": "IPY_MODEL_71d6f0e182d74327b47f5b7a51ba3bfd",
       "style": "IPY_MODEL_93ce255720344174a9177ad75fcc543c",
       "value": " 21/21 [00:00&lt;00:00, 31.61it/s]"
      }
     },
     "ec5a3e1ad45a49f397149b9b6a92e16c": {
      "model_module": "@jupyter-widgets/controls",
      "model_module_version": "2.0.0",
      "model_name": "HTMLModel",
      "state": {
       "layout": "IPY_MODEL_5d7da02eebf548fb92979c7f23a8eadd",
       "style": "IPY_MODEL_0e2be20d018f4a29b08e8060e1bd4e4f",
       "value": "100%"
      }
     },
     "ec8236e65dc6400b842364e375d02f57": {
      "model_module": "@jupyter-widgets/controls",
      "model_module_version": "2.0.0",
      "model_name": "FloatProgressModel",
      "state": {
       "bar_style": "success",
       "layout": "IPY_MODEL_58e1376f46bc48b5a00c0e2fc9f488c4",
       "max": 21,
       "style": "IPY_MODEL_2aadf98a1bba4832a1d4833400723419",
       "value": 21
      }
     },
     "ecafc5bd25fa46fe8d629a818da97437": {
      "model_module": "@jupyter-widgets/base",
      "model_module_version": "2.0.0",
      "model_name": "LayoutModel",
      "state": {}
     },
     "ecbd223c666e46dd91323d43ebf09290": {
      "model_module": "@jupyter-widgets/base",
      "model_module_version": "2.0.0",
      "model_name": "LayoutModel",
      "state": {}
     },
     "ecf61d11201e470cb0c578090e6b89bf": {
      "model_module": "@jupyter-widgets/base",
      "model_module_version": "2.0.0",
      "model_name": "LayoutModel",
      "state": {}
     },
     "ecf9d64bc56c49f183603d39dcbf2caa": {
      "model_module": "@jupyter-widgets/controls",
      "model_module_version": "2.0.0",
      "model_name": "HBoxModel",
      "state": {
       "children": [
        "IPY_MODEL_1a8d4e864faf4d8595bb701c54c66cca",
        "IPY_MODEL_aad08c557e784a788518f5dfc5179c35",
        "IPY_MODEL_4940234949d0457fb4fe830d1cc9d4a2"
       ],
       "layout": "IPY_MODEL_16923cc86371442f8d33e5d95eb31328"
      }
     },
     "ed24a9a1169045dcac76dcc88593a1a9": {
      "model_module": "@jupyter-widgets/controls",
      "model_module_version": "2.0.0",
      "model_name": "HTMLStyleModel",
      "state": {
       "description_width": "",
       "font_size": null,
       "text_color": null
      }
     },
     "ed29f56641ec4249b65861727a49e1f0": {
      "model_module": "@jupyter-widgets/base",
      "model_module_version": "2.0.0",
      "model_name": "LayoutModel",
      "state": {}
     },
     "ed401888d955414495bbf6b10387c5de": {
      "model_module": "@jupyter-widgets/controls",
      "model_module_version": "2.0.0",
      "model_name": "HTMLStyleModel",
      "state": {
       "description_width": "",
       "font_size": null,
       "text_color": null
      }
     },
     "ed4e05609fc2485393d19475281a989f": {
      "model_module": "@jupyter-widgets/controls",
      "model_module_version": "2.0.0",
      "model_name": "HTMLStyleModel",
      "state": {
       "description_width": "",
       "font_size": null,
       "text_color": null
      }
     },
     "ed55c29993424d58a50ac39237e611da": {
      "model_module": "@jupyter-widgets/controls",
      "model_module_version": "2.0.0",
      "model_name": "FloatProgressModel",
      "state": {
       "bar_style": "success",
       "layout": "IPY_MODEL_d4715e6de0ce43e88c1e694f103ce207",
       "max": 20,
       "style": "IPY_MODEL_2c67d1b9383249de9148d6081c368016",
       "value": 20
      }
     },
     "ed671c747c8e4505a032d124271ee01e": {
      "model_module": "@jupyter-widgets/base",
      "model_module_version": "2.0.0",
      "model_name": "LayoutModel",
      "state": {}
     },
     "ed78e121eb3640f6a02c18b9afdaab14": {
      "model_module": "@jupyter-widgets/controls",
      "model_module_version": "2.0.0",
      "model_name": "HTMLModel",
      "state": {
       "layout": "IPY_MODEL_93bbf51c81e94704be10cb4207980df1",
       "style": "IPY_MODEL_ed4e05609fc2485393d19475281a989f",
       "value": "100%"
      }
     },
     "ed8fc477480646d9b2e3eee12659b80b": {
      "model_module": "@jupyter-widgets/base",
      "model_module_version": "2.0.0",
      "model_name": "LayoutModel",
      "state": {}
     },
     "eda9e49bf1e64481be40f379a1831326": {
      "model_module": "@jupyter-widgets/controls",
      "model_module_version": "2.0.0",
      "model_name": "HTMLStyleModel",
      "state": {
       "description_width": "",
       "font_size": null,
       "text_color": null
      }
     },
     "edb0b0df204c41dba8ece472d110ef31": {
      "model_module": "@jupyter-widgets/controls",
      "model_module_version": "2.0.0",
      "model_name": "HTMLModel",
      "state": {
       "layout": "IPY_MODEL_17f236dd110144e988d9db20676c55ca",
       "style": "IPY_MODEL_a01f6aa0bfe74c289304096b660a2233",
       "value": "100%"
      }
     },
     "edc98d7e836c427d915fd1e6aa9a8a1e": {
      "model_module": "@jupyter-widgets/controls",
      "model_module_version": "2.0.0",
      "model_name": "FloatProgressModel",
      "state": {
       "bar_style": "success",
       "layout": "IPY_MODEL_3a026c1ca00a48ac9bfee7c14bce6566",
       "max": 22,
       "style": "IPY_MODEL_35b63cf947ed44b09bef885c616dfc62",
       "value": 22
      }
     },
     "ee2686e2a70c49d0b4c64a692b91d7a7": {
      "model_module": "@jupyter-widgets/base",
      "model_module_version": "2.0.0",
      "model_name": "LayoutModel",
      "state": {}
     },
     "ee403c3b4f4e44cea2fb7d942e0cbb06": {
      "model_module": "@jupyter-widgets/base",
      "model_module_version": "2.0.0",
      "model_name": "LayoutModel",
      "state": {}
     },
     "ee67c5b38cb4450a86dd1d7955a62d16": {
      "model_module": "@jupyter-widgets/base",
      "model_module_version": "2.0.0",
      "model_name": "LayoutModel",
      "state": {}
     },
     "ee6b0cafa95a40c487ce71dfe3293d88": {
      "model_module": "@jupyter-widgets/controls",
      "model_module_version": "2.0.0",
      "model_name": "HTMLModel",
      "state": {
       "layout": "IPY_MODEL_4be7aeb7f3ff4d7391a0694ada30c5f0",
       "style": "IPY_MODEL_b0c1bd4afaa3493584231470d7396a6c",
       "value": " 20/20 [00:00&lt;00:00, 38.59it/s]"
      }
     },
     "ee6ca5d942214b848dc9122fc03c62a6": {
      "model_module": "@jupyter-widgets/base",
      "model_module_version": "2.0.0",
      "model_name": "LayoutModel",
      "state": {}
     },
     "ee6e9871d3eb4b8a8d26b514fa79d46b": {
      "model_module": "@jupyter-widgets/base",
      "model_module_version": "2.0.0",
      "model_name": "LayoutModel",
      "state": {}
     },
     "ee982804246743b48d94f068127e741e": {
      "model_module": "@jupyter-widgets/controls",
      "model_module_version": "2.0.0",
      "model_name": "HTMLStyleModel",
      "state": {
       "description_width": "",
       "font_size": null,
       "text_color": null
      }
     },
     "eeba004832b545d98d0c06c55d0d7710": {
      "model_module": "@jupyter-widgets/controls",
      "model_module_version": "2.0.0",
      "model_name": "HTMLModel",
      "state": {
       "layout": "IPY_MODEL_ed8fc477480646d9b2e3eee12659b80b",
       "style": "IPY_MODEL_3b2c75f55b814f65954917b0c5b6b536",
       "value": "100%"
      }
     },
     "eecc18dec55043b3ba256f4da1445f80": {
      "model_module": "@jupyter-widgets/controls",
      "model_module_version": "2.0.0",
      "model_name": "ProgressStyleModel",
      "state": {
       "description_width": ""
      }
     },
     "eee8f546995e4de997d78d98e4bf0eb2": {
      "model_module": "@jupyter-widgets/base",
      "model_module_version": "2.0.0",
      "model_name": "LayoutModel",
      "state": {}
     },
     "eeff78f7f1c040cda0ad376418c6f22e": {
      "model_module": "@jupyter-widgets/controls",
      "model_module_version": "2.0.0",
      "model_name": "HTMLStyleModel",
      "state": {
       "description_width": "",
       "font_size": null,
       "text_color": null
      }
     },
     "ef25352ee39541f4a66075de14a0960c": {
      "model_module": "@jupyter-widgets/controls",
      "model_module_version": "2.0.0",
      "model_name": "HTMLModel",
      "state": {
       "layout": "IPY_MODEL_12dad0a4bdd042659472daf031125ed7",
       "style": "IPY_MODEL_03683941087b4ec6af359f8b30b82e18",
       "value": "100%"
      }
     },
     "ef6ad72f6f7641349623ddfb8ff6b894": {
      "model_module": "@jupyter-widgets/controls",
      "model_module_version": "2.0.0",
      "model_name": "HTMLModel",
      "state": {
       "layout": "IPY_MODEL_42ef2aa229ea42a8ab3d814084f404bc",
       "style": "IPY_MODEL_c30db16f4be142368292d9ec9a69e384",
       "value": " 23/23 [00:00&lt;00:00, 49.21it/s]"
      }
     },
     "ef81633e0adb469b8875ba9d058f020d": {
      "model_module": "@jupyter-widgets/controls",
      "model_module_version": "2.0.0",
      "model_name": "HTMLStyleModel",
      "state": {
       "description_width": "",
       "font_size": null,
       "text_color": null
      }
     },
     "ef8a91b7b87b4fe2847be6f936223d58": {
      "model_module": "@jupyter-widgets/controls",
      "model_module_version": "2.0.0",
      "model_name": "ProgressStyleModel",
      "state": {
       "description_width": ""
      }
     },
     "efaa2b68aa3c4436b87354a5b6727da7": {
      "model_module": "@jupyter-widgets/controls",
      "model_module_version": "2.0.0",
      "model_name": "ProgressStyleModel",
      "state": {
       "description_width": ""
      }
     },
     "efbd2d9efa434aa1b4b89c951fd5fec5": {
      "model_module": "@jupyter-widgets/controls",
      "model_module_version": "2.0.0",
      "model_name": "HBoxModel",
      "state": {
       "children": [
        "IPY_MODEL_ff03fd7a9393427894e39c6a9e2e7ff3",
        "IPY_MODEL_674d2038e25547a0a931d492b3840cb3",
        "IPY_MODEL_33f5c0a3a3f94db3b07b033f929c2623"
       ],
       "layout": "IPY_MODEL_cab2c41e7bb04556adc2f1a1bf3cf254"
      }
     },
     "efc66f708d4d4948943db215081ef38d": {
      "model_module": "@jupyter-widgets/controls",
      "model_module_version": "2.0.0",
      "model_name": "FloatProgressModel",
      "state": {
       "bar_style": "success",
       "layout": "IPY_MODEL_640eed6db627406eb885d6b2d57fc2dd",
       "max": 20,
       "style": "IPY_MODEL_a93cad7a26b9498ba22b9ef955f15464",
       "value": 20
      }
     },
     "efcd87365271432494706c5e9c2f9667": {
      "model_module": "@jupyter-widgets/controls",
      "model_module_version": "2.0.0",
      "model_name": "HTMLStyleModel",
      "state": {
       "description_width": "",
       "font_size": null,
       "text_color": null
      }
     },
     "efd0dbb5e5e34bc1870695da3afe00c9": {
      "model_module": "@jupyter-widgets/controls",
      "model_module_version": "2.0.0",
      "model_name": "HBoxModel",
      "state": {
       "children": [
        "IPY_MODEL_f9e1f279691e4b8086ad02a594f635ac",
        "IPY_MODEL_23e813598207428c908ad7caed58d18a",
        "IPY_MODEL_b3249e7419704f5e90f5982e551c1847"
       ],
       "layout": "IPY_MODEL_06167b66760c44f1a15203f35c4832a0"
      }
     },
     "efd5a629bbd249c4badd986352752f28": {
      "model_module": "@jupyter-widgets/controls",
      "model_module_version": "2.0.0",
      "model_name": "HTMLStyleModel",
      "state": {
       "description_width": "",
       "font_size": null,
       "text_color": null
      }
     },
     "efea27aaef8b4b379269d7b5ac769d0f": {
      "model_module": "@jupyter-widgets/controls",
      "model_module_version": "2.0.0",
      "model_name": "HBoxModel",
      "state": {
       "children": [
        "IPY_MODEL_a37204f20cb64fbfa6ee423af83965eb",
        "IPY_MODEL_99e8fb6a2da049d2a41181ddea18221c",
        "IPY_MODEL_d553a4489954465a96a1cd8b28738f84"
       ],
       "layout": "IPY_MODEL_f5021293942744b291276d6a7c07f10e"
      }
     },
     "eff313a5dd75483ea1ad5e957853174a": {
      "model_module": "@jupyter-widgets/base",
      "model_module_version": "2.0.0",
      "model_name": "LayoutModel",
      "state": {}
     },
     "f0178f5ea5124d30a17d83085caea48a": {
      "model_module": "@jupyter-widgets/controls",
      "model_module_version": "2.0.0",
      "model_name": "HTMLModel",
      "state": {
       "layout": "IPY_MODEL_58a20280537e440488de80c1f6d24bd4",
       "style": "IPY_MODEL_4f4e7165eb1f4b2ab66609da2d1002f0",
       "value": "100%"
      }
     },
     "f020878024644f12b6f324a8109ad078": {
      "model_module": "@jupyter-widgets/controls",
      "model_module_version": "2.0.0",
      "model_name": "HTMLStyleModel",
      "state": {
       "description_width": "",
       "font_size": null,
       "text_color": null
      }
     },
     "f02a9a7d14954232bbc6ea6fcc75f4dd": {
      "model_module": "@jupyter-widgets/controls",
      "model_module_version": "2.0.0",
      "model_name": "HTMLStyleModel",
      "state": {
       "description_width": "",
       "font_size": null,
       "text_color": null
      }
     },
     "f03505623137483ab5203a9f7d444693": {
      "model_module": "@jupyter-widgets/base",
      "model_module_version": "2.0.0",
      "model_name": "LayoutModel",
      "state": {}
     },
     "f0760a1f65d048188387061bf9b4f175": {
      "model_module": "@jupyter-widgets/base",
      "model_module_version": "2.0.0",
      "model_name": "LayoutModel",
      "state": {}
     },
     "f086b4034c5743e99d26acbef7217bc7": {
      "model_module": "@jupyter-widgets/base",
      "model_module_version": "2.0.0",
      "model_name": "LayoutModel",
      "state": {}
     },
     "f099c22c1e5e414d98069c5b87c7d50e": {
      "model_module": "@jupyter-widgets/base",
      "model_module_version": "2.0.0",
      "model_name": "LayoutModel",
      "state": {}
     },
     "f0b65571fbdd4fa6aef373d866b305e9": {
      "model_module": "@jupyter-widgets/controls",
      "model_module_version": "2.0.0",
      "model_name": "HBoxModel",
      "state": {
       "children": [
        "IPY_MODEL_7e85ee935bbc4230a43f4105f3733dc6",
        "IPY_MODEL_f1120d39ddcb4c1986e9bb9c45ec8977",
        "IPY_MODEL_8b19a716251e4914bd0391d643297a6e"
       ],
       "layout": "IPY_MODEL_2eb1ccf5e4d54c7f8ced73ed56cb589b"
      }
     },
     "f0c70afc50e241d4a25ca034eed8d184": {
      "model_module": "@jupyter-widgets/controls",
      "model_module_version": "2.0.0",
      "model_name": "HTMLStyleModel",
      "state": {
       "description_width": "",
       "font_size": null,
       "text_color": null
      }
     },
     "f0f2e20e24404edcb84869046e2fdfe6": {
      "model_module": "@jupyter-widgets/controls",
      "model_module_version": "2.0.0",
      "model_name": "HBoxModel",
      "state": {
       "children": [
        "IPY_MODEL_e7d4ed3204a7474298b1077e88da9388",
        "IPY_MODEL_02ebeffee60d4fea8a810aa20e64682b",
        "IPY_MODEL_bf1891d001884b6c86e7dc5710df0f71"
       ],
       "layout": "IPY_MODEL_84886b12bad44e2195cf2001b5c50eba"
      }
     },
     "f0f6ee2dd7f54c8c880d0961e0133754": {
      "model_module": "@jupyter-widgets/base",
      "model_module_version": "2.0.0",
      "model_name": "LayoutModel",
      "state": {}
     },
     "f10bc581697144c8a3f9f1bb7af21fcf": {
      "model_module": "@jupyter-widgets/controls",
      "model_module_version": "2.0.0",
      "model_name": "HTMLStyleModel",
      "state": {
       "description_width": "",
       "font_size": null,
       "text_color": null
      }
     },
     "f1120d39ddcb4c1986e9bb9c45ec8977": {
      "model_module": "@jupyter-widgets/controls",
      "model_module_version": "2.0.0",
      "model_name": "FloatProgressModel",
      "state": {
       "bar_style": "success",
       "layout": "IPY_MODEL_98a39e89a3bc4eacba13eea108bbe8e0",
       "max": 21,
       "style": "IPY_MODEL_4fca660c70fd4099bd8bf46f328f5027",
       "value": 21
      }
     },
     "f149fcf0d2844bb88a372fd0e39d8aec": {
      "model_module": "@jupyter-widgets/base",
      "model_module_version": "2.0.0",
      "model_name": "LayoutModel",
      "state": {}
     },
     "f1716177d78347a6adc4086753cf6842": {
      "model_module": "@jupyter-widgets/controls",
      "model_module_version": "2.0.0",
      "model_name": "FloatProgressModel",
      "state": {
       "bar_style": "success",
       "layout": "IPY_MODEL_e5195b4b9d8b4444b83b4183a9f7bca8",
       "max": 22,
       "style": "IPY_MODEL_9f2c777df8d5452f817863ee4b8ef544",
       "value": 22
      }
     },
     "f1ba2db291c04c9eac1a9f87e92efbb9": {
      "model_module": "@jupyter-widgets/controls",
      "model_module_version": "2.0.0",
      "model_name": "FloatProgressModel",
      "state": {
       "bar_style": "success",
       "layout": "IPY_MODEL_5e7ec7cc8f0b49e4aad401b348b8a1ad",
       "max": 20,
       "style": "IPY_MODEL_f5de00e091a54cbca484ce171dcc8eac",
       "value": 20
      }
     },
     "f1e27ed563ab4b29890969cfb75b715d": {
      "model_module": "@jupyter-widgets/base",
      "model_module_version": "2.0.0",
      "model_name": "LayoutModel",
      "state": {}
     },
     "f1faf9cdcaca4ea0b07fbaa07ebd1068": {
      "model_module": "@jupyter-widgets/controls",
      "model_module_version": "2.0.0",
      "model_name": "HTMLStyleModel",
      "state": {
       "description_width": "",
       "font_size": null,
       "text_color": null
      }
     },
     "f20e0d75be104c7286e89f090fcb6090": {
      "model_module": "@jupyter-widgets/base",
      "model_module_version": "2.0.0",
      "model_name": "LayoutModel",
      "state": {}
     },
     "f24b9ef3ef45490ab72f738546a4cdb7": {
      "model_module": "@jupyter-widgets/controls",
      "model_module_version": "2.0.0",
      "model_name": "HTMLStyleModel",
      "state": {
       "description_width": "",
       "font_size": null,
       "text_color": null
      }
     },
     "f28f54f9bd1c45a699b039717bbe7bc8": {
      "model_module": "@jupyter-widgets/controls",
      "model_module_version": "2.0.0",
      "model_name": "HTMLModel",
      "state": {
       "layout": "IPY_MODEL_dcb94a01ad5e4dde98c645d5dec65d35",
       "style": "IPY_MODEL_405aab00a12c459ebd1141765768dce3",
       "value": "100%"
      }
     },
     "f291bb1db3f34867915968c66fc78653": {
      "model_module": "@jupyter-widgets/base",
      "model_module_version": "2.0.0",
      "model_name": "LayoutModel",
      "state": {}
     },
     "f299340b66574c0bba41c72de17951f5": {
      "model_module": "@jupyter-widgets/controls",
      "model_module_version": "2.0.0",
      "model_name": "HTMLModel",
      "state": {
       "layout": "IPY_MODEL_354dfbc0ca6f46b985999eb541ceea08",
       "style": "IPY_MODEL_6c549435acba4e578c0c62f5fc2c3133",
       "value": " 23/23 [00:00&lt;00:00, 35.13it/s]"
      }
     },
     "f2ab57154e8d43669a38d39991fd27a8": {
      "model_module": "@jupyter-widgets/controls",
      "model_module_version": "2.0.0",
      "model_name": "HTMLStyleModel",
      "state": {
       "description_width": "",
       "font_size": null,
       "text_color": null
      }
     },
     "f2c63f3d16b9405c93d8f2abe055e6a7": {
      "model_module": "@jupyter-widgets/controls",
      "model_module_version": "2.0.0",
      "model_name": "HTMLStyleModel",
      "state": {
       "description_width": "",
       "font_size": null,
       "text_color": null
      }
     },
     "f2d5db61f9c746709829f7d27321c2c7": {
      "model_module": "@jupyter-widgets/base",
      "model_module_version": "2.0.0",
      "model_name": "LayoutModel",
      "state": {}
     },
     "f2ffa9bc425d4f64b1243faacbcdc8d8": {
      "model_module": "@jupyter-widgets/controls",
      "model_module_version": "2.0.0",
      "model_name": "FloatProgressModel",
      "state": {
       "bar_style": "success",
       "layout": "IPY_MODEL_6b9f7e6f37484a9e8b1ae5d6c548ceba",
       "max": 20,
       "style": "IPY_MODEL_59637d9568c34ce799dafc7002b91ad6",
       "value": 20
      }
     },
     "f330829739ee4571824040e8e169dd98": {
      "model_module": "@jupyter-widgets/base",
      "model_module_version": "2.0.0",
      "model_name": "LayoutModel",
      "state": {}
     },
     "f33774fa64ed4db3a2461cc01c1dfe34": {
      "model_module": "@jupyter-widgets/base",
      "model_module_version": "2.0.0",
      "model_name": "LayoutModel",
      "state": {}
     },
     "f35bd80a23904f9b8f1b44a1e8c273e0": {
      "model_module": "@jupyter-widgets/controls",
      "model_module_version": "2.0.0",
      "model_name": "HTMLStyleModel",
      "state": {
       "description_width": "",
       "font_size": null,
       "text_color": null
      }
     },
     "f3af5486fa0a4fbdb4bbcb0600d40aaf": {
      "model_module": "@jupyter-widgets/controls",
      "model_module_version": "2.0.0",
      "model_name": "HTMLStyleModel",
      "state": {
       "description_width": "",
       "font_size": null,
       "text_color": null
      }
     },
     "f3b82663da564e9f9c0fdca85010b2fe": {
      "model_module": "@jupyter-widgets/controls",
      "model_module_version": "2.0.0",
      "model_name": "HTMLStyleModel",
      "state": {
       "description_width": "",
       "font_size": null,
       "text_color": null
      }
     },
     "f439888fb4964fe69ab2af8abd794eba": {
      "model_module": "@jupyter-widgets/base",
      "model_module_version": "2.0.0",
      "model_name": "LayoutModel",
      "state": {}
     },
     "f443a3d127034e08908cc43e919e199d": {
      "model_module": "@jupyter-widgets/controls",
      "model_module_version": "2.0.0",
      "model_name": "HTMLModel",
      "state": {
       "layout": "IPY_MODEL_aaabf66406644d9287f618b52e1df2a8",
       "style": "IPY_MODEL_945c81377b8d43d4b8fa3a9e6afa10f4",
       "value": "100%"
      }
     },
     "f44be6b8a0ab4806ac4e54f310142918": {
      "model_module": "@jupyter-widgets/base",
      "model_module_version": "2.0.0",
      "model_name": "LayoutModel",
      "state": {}
     },
     "f450869a79564e93bde00de113af5972": {
      "model_module": "@jupyter-widgets/controls",
      "model_module_version": "2.0.0",
      "model_name": "HTMLModel",
      "state": {
       "layout": "IPY_MODEL_e32b1b23cbfc4949a536f52bbfc9d416",
       "style": "IPY_MODEL_2d9d894500394c38a65522d78f88537a",
       "value": "100%"
      }
     },
     "f4bd589eda8648c39469e1da42800ecf": {
      "model_module": "@jupyter-widgets/base",
      "model_module_version": "2.0.0",
      "model_name": "LayoutModel",
      "state": {}
     },
     "f4dc73cb059b4133835a2dd6f6a2f49a": {
      "model_module": "@jupyter-widgets/controls",
      "model_module_version": "2.0.0",
      "model_name": "HBoxModel",
      "state": {
       "children": [
        "IPY_MODEL_f0178f5ea5124d30a17d83085caea48a",
        "IPY_MODEL_0fdeecc09d4747558c3fb61a3b2202a6",
        "IPY_MODEL_fd1cc2ee5b444239abadc960158a1910"
       ],
       "layout": "IPY_MODEL_9b40b9d6a78941a1a3e8f708dae4df16"
      }
     },
     "f4ec66bc318044f29e2789d0c7fa66af": {
      "model_module": "@jupyter-widgets/controls",
      "model_module_version": "2.0.0",
      "model_name": "HTMLModel",
      "state": {
       "layout": "IPY_MODEL_3114c589eda6419d9d17374ffac2baaf",
       "style": "IPY_MODEL_d415c15781f04988bd763cde1e88130f",
       "value": "100%"
      }
     },
     "f4fdb52e656a4b7db8bd362b8efea474": {
      "model_module": "@jupyter-widgets/base",
      "model_module_version": "2.0.0",
      "model_name": "LayoutModel",
      "state": {}
     },
     "f5021293942744b291276d6a7c07f10e": {
      "model_module": "@jupyter-widgets/base",
      "model_module_version": "2.0.0",
      "model_name": "LayoutModel",
      "state": {}
     },
     "f521c6a276ce48a0b4f6129956647cf6": {
      "model_module": "@jupyter-widgets/controls",
      "model_module_version": "2.0.0",
      "model_name": "FloatProgressModel",
      "state": {
       "bar_style": "success",
       "layout": "IPY_MODEL_b5db432cd34042089953882499db75c2",
       "max": 22,
       "style": "IPY_MODEL_b6b8979ded0e4d059ca089900b712900",
       "value": 22
      }
     },
     "f543d2727f5f4991b80dea45c6a47771": {
      "model_module": "@jupyter-widgets/base",
      "model_module_version": "2.0.0",
      "model_name": "LayoutModel",
      "state": {}
     },
     "f549cc654aef4f0882d30e9b9269ada6": {
      "model_module": "@jupyter-widgets/controls",
      "model_module_version": "2.0.0",
      "model_name": "FloatProgressModel",
      "state": {
       "bar_style": "success",
       "layout": "IPY_MODEL_cc6050fb7d6d450aa7379859bea391af",
       "max": 21,
       "style": "IPY_MODEL_3d31be192faf4898b3754cdbfe22a751",
       "value": 21
      }
     },
     "f56bbf4d54ca424bac1abb9f46464e5a": {
      "model_module": "@jupyter-widgets/base",
      "model_module_version": "2.0.0",
      "model_name": "LayoutModel",
      "state": {}
     },
     "f57369b8c02c4156a783b840501dd4a5": {
      "model_module": "@jupyter-widgets/controls",
      "model_module_version": "2.0.0",
      "model_name": "HTMLStyleModel",
      "state": {
       "description_width": "",
       "font_size": null,
       "text_color": null
      }
     },
     "f586fd9710b84721b01ab703e01c30f5": {
      "model_module": "@jupyter-widgets/controls",
      "model_module_version": "2.0.0",
      "model_name": "HTMLModel",
      "state": {
       "layout": "IPY_MODEL_c052de7e76404fbcbe675c5eec4587c5",
       "style": "IPY_MODEL_7b263df537af4db1a3fa2e2743a57c99",
       "value": "100%"
      }
     },
     "f5a8ea111b2b49738a2563cdecba96ca": {
      "model_module": "@jupyter-widgets/controls",
      "model_module_version": "2.0.0",
      "model_name": "HTMLModel",
      "state": {
       "layout": "IPY_MODEL_9f4c986ee60844ff94da9ad36ffa6948",
       "style": "IPY_MODEL_5a65a178a0214229ae5223b206d92423",
       "value": "100%"
      }
     },
     "f5de00e091a54cbca484ce171dcc8eac": {
      "model_module": "@jupyter-widgets/controls",
      "model_module_version": "2.0.0",
      "model_name": "ProgressStyleModel",
      "state": {
       "description_width": ""
      }
     },
     "f5e3773c9be6401da61e21ad8435f17d": {
      "model_module": "@jupyter-widgets/base",
      "model_module_version": "2.0.0",
      "model_name": "LayoutModel",
      "state": {}
     },
     "f6397a20560746a78652b3e327a84e95": {
      "model_module": "@jupyter-widgets/base",
      "model_module_version": "2.0.0",
      "model_name": "LayoutModel",
      "state": {}
     },
     "f6965043ea844a9f8b2d8bdc7fa1c489": {
      "model_module": "@jupyter-widgets/controls",
      "model_module_version": "2.0.0",
      "model_name": "HTMLStyleModel",
      "state": {
       "description_width": "",
       "font_size": null,
       "text_color": null
      }
     },
     "f6c2228499634ef897e7490efc1e731d": {
      "model_module": "@jupyter-widgets/controls",
      "model_module_version": "2.0.0",
      "model_name": "HTMLStyleModel",
      "state": {
       "description_width": "",
       "font_size": null,
       "text_color": null
      }
     },
     "f6dabebd9db8447287cbedee9261184f": {
      "model_module": "@jupyter-widgets/controls",
      "model_module_version": "2.0.0",
      "model_name": "HTMLModel",
      "state": {
       "layout": "IPY_MODEL_87718535e1ba49af8cfb01089acfc514",
       "style": "IPY_MODEL_3a34cb0ebc734b5f8e8ecf1b539cb595",
       "value": " 20/20 [00:00&lt;00:00, 22.05it/s]"
      }
     },
     "f6f9e388153c47968261e671832c44ea": {
      "model_module": "@jupyter-widgets/controls",
      "model_module_version": "2.0.0",
      "model_name": "FloatProgressModel",
      "state": {
       "bar_style": "success",
       "layout": "IPY_MODEL_560fbc5be7ad4a019b23739d437aa491",
       "max": 22,
       "style": "IPY_MODEL_b93afb95dfbf4ed4b4255009fff2d8ab",
       "value": 22
      }
     },
     "f70319aedc354821be73d39a60d91835": {
      "model_module": "@jupyter-widgets/controls",
      "model_module_version": "2.0.0",
      "model_name": "HTMLStyleModel",
      "state": {
       "description_width": "",
       "font_size": null,
       "text_color": null
      }
     },
     "f70c53fe0b2b4a2ca64855107778a9d9": {
      "model_module": "@jupyter-widgets/controls",
      "model_module_version": "2.0.0",
      "model_name": "ProgressStyleModel",
      "state": {
       "description_width": ""
      }
     },
     "f714407a48db46219dda98dd02b4f464": {
      "model_module": "@jupyter-widgets/controls",
      "model_module_version": "2.0.0",
      "model_name": "HBoxModel",
      "state": {
       "children": [
        "IPY_MODEL_9b202693968b4f60820bf285ffe504f1",
        "IPY_MODEL_efc66f708d4d4948943db215081ef38d",
        "IPY_MODEL_a0281d7df1dd4edeb845606b5a23d979"
       ],
       "layout": "IPY_MODEL_6418f9018d6a42d89b468b6f93647e08"
      }
     },
     "f747cc769a2a43a4865333ff0e707796": {
      "model_module": "@jupyter-widgets/controls",
      "model_module_version": "2.0.0",
      "model_name": "HTMLModel",
      "state": {
       "layout": "IPY_MODEL_9a1332da5cbb41e0a51f6dcdf692f376",
       "style": "IPY_MODEL_e46fb90c0ec04a639addad209a0dbb44",
       "value": " 22/22 [00:00&lt;00:00, 21.63it/s]"
      }
     },
     "f768d4c26e7f445ca114b2cd7ae6a39f": {
      "model_module": "@jupyter-widgets/controls",
      "model_module_version": "2.0.0",
      "model_name": "HTMLModel",
      "state": {
       "layout": "IPY_MODEL_64b583ba907d4181b1346e2ace35e5ec",
       "style": "IPY_MODEL_515274eafee14adf8eb6986e07c9364a",
       "value": " 21/21 [00:00&lt;00:00, 32.64it/s]"
      }
     },
     "f77ac06c450948f3a2b2b13086e41c17": {
      "model_module": "@jupyter-widgets/base",
      "model_module_version": "2.0.0",
      "model_name": "LayoutModel",
      "state": {}
     },
     "f783ffe10a834b079ab5359e60ee64c6": {
      "model_module": "@jupyter-widgets/controls",
      "model_module_version": "2.0.0",
      "model_name": "FloatProgressModel",
      "state": {
       "bar_style": "success",
       "layout": "IPY_MODEL_f330829739ee4571824040e8e169dd98",
       "max": 21,
       "style": "IPY_MODEL_969faa04588f4676a8527436f31be139",
       "value": 21
      }
     },
     "f7e83b0c32d249119844df85ed067818": {
      "model_module": "@jupyter-widgets/base",
      "model_module_version": "2.0.0",
      "model_name": "LayoutModel",
      "state": {}
     },
     "f80e9ac12f6f440b80ca85981de9ef54": {
      "model_module": "@jupyter-widgets/base",
      "model_module_version": "2.0.0",
      "model_name": "LayoutModel",
      "state": {}
     },
     "f8291a10c4034cf2ba03e8444966c04f": {
      "model_module": "@jupyter-widgets/controls",
      "model_module_version": "2.0.0",
      "model_name": "HTMLModel",
      "state": {
       "layout": "IPY_MODEL_3713556cde0e4de1a9ee7e7d916baf9d",
       "style": "IPY_MODEL_c7e7b7a926e440dc9c67c2b52d7d0505",
       "value": "100%"
      }
     },
     "f83e52406eca423f9c398a48b454d975": {
      "model_module": "@jupyter-widgets/base",
      "model_module_version": "2.0.0",
      "model_name": "LayoutModel",
      "state": {}
     },
     "f84c311ef0354785ab90d80417e1a9b0": {
      "model_module": "@jupyter-widgets/controls",
      "model_module_version": "2.0.0",
      "model_name": "HTMLStyleModel",
      "state": {
       "description_width": "",
       "font_size": null,
       "text_color": null
      }
     },
     "f86f6df354644e6e942652d6d1732ea8": {
      "model_module": "@jupyter-widgets/controls",
      "model_module_version": "2.0.0",
      "model_name": "ProgressStyleModel",
      "state": {
       "description_width": ""
      }
     },
     "f8bbb4787d654713bb5a5c514557f83c": {
      "model_module": "@jupyter-widgets/controls",
      "model_module_version": "2.0.0",
      "model_name": "HTMLModel",
      "state": {
       "layout": "IPY_MODEL_46e1b229ddc346fe98505d41212bb831",
       "style": "IPY_MODEL_6c94f2c4c38b4f388556e611f056d2cc",
       "value": "100%"
      }
     },
     "f8bd0cf45f4947b9988263afb729c7b1": {
      "model_module": "@jupyter-widgets/controls",
      "model_module_version": "2.0.0",
      "model_name": "FloatProgressModel",
      "state": {
       "bar_style": "success",
       "layout": "IPY_MODEL_18068a5019524980ae66cf076bba754f",
       "max": 21,
       "style": "IPY_MODEL_403804bc7c30486dac1545dacbc0da37",
       "value": 21
      }
     },
     "f8ca58ef9c834b719edcca7926a5e11e": {
      "model_module": "@jupyter-widgets/controls",
      "model_module_version": "2.0.0",
      "model_name": "HTMLModel",
      "state": {
       "layout": "IPY_MODEL_93e730c31feb4b059100c92e75c8d08a",
       "style": "IPY_MODEL_045e45d858a44b7cad99642dc632d4c7",
       "value": "100%"
      }
     },
     "f91348b76a574ff09e3568dd7cdf636d": {
      "model_module": "@jupyter-widgets/base",
      "model_module_version": "2.0.0",
      "model_name": "LayoutModel",
      "state": {}
     },
     "f93c21176bb14db29e2f3d7c3244e9b3": {
      "model_module": "@jupyter-widgets/controls",
      "model_module_version": "2.0.0",
      "model_name": "HBoxModel",
      "state": {
       "children": [
        "IPY_MODEL_c825016afcc24b018aa374bca04191cf",
        "IPY_MODEL_756ade0ef6bd4c1ab809ba1b91f1d982",
        "IPY_MODEL_4574c6d36d7747e989cfc293f6946955"
       ],
       "layout": "IPY_MODEL_d87c9c8c30e44d3489102b891464354d"
      }
     },
     "f98e416e34424f7da3884b344bd7f13d": {
      "model_module": "@jupyter-widgets/base",
      "model_module_version": "2.0.0",
      "model_name": "LayoutModel",
      "state": {}
     },
     "f9b0a6f2f00f4e539f1277295bc58bad": {
      "model_module": "@jupyter-widgets/controls",
      "model_module_version": "2.0.0",
      "model_name": "HTMLModel",
      "state": {
       "layout": "IPY_MODEL_bad4d02384614cf48dd254c6520fb22a",
       "style": "IPY_MODEL_9dd673c38c9f4dd584dde1f1b96cf112",
       "value": " 21/21 [00:01&lt;00:00, 17.54it/s]"
      }
     },
     "f9cf047e1b3448b583a0e2e91f035ba8": {
      "model_module": "@jupyter-widgets/base",
      "model_module_version": "2.0.0",
      "model_name": "LayoutModel",
      "state": {}
     },
     "f9e1f279691e4b8086ad02a594f635ac": {
      "model_module": "@jupyter-widgets/controls",
      "model_module_version": "2.0.0",
      "model_name": "HTMLModel",
      "state": {
       "layout": "IPY_MODEL_953f62765afb4b9fb8f3dac6df5682d2",
       "style": "IPY_MODEL_fa23c3989c15425390532c020e8bb9e6",
       "value": "100%"
      }
     },
     "f9ee539f272e40b183569d9ca318c79f": {
      "model_module": "@jupyter-widgets/controls",
      "model_module_version": "2.0.0",
      "model_name": "ProgressStyleModel",
      "state": {
       "description_width": ""
      }
     },
     "fa168e088b734ba1847d594549d00df2": {
      "model_module": "@jupyter-widgets/controls",
      "model_module_version": "2.0.0",
      "model_name": "HTMLStyleModel",
      "state": {
       "description_width": "",
       "font_size": null,
       "text_color": null
      }
     },
     "fa23c3989c15425390532c020e8bb9e6": {
      "model_module": "@jupyter-widgets/controls",
      "model_module_version": "2.0.0",
      "model_name": "HTMLStyleModel",
      "state": {
       "description_width": "",
       "font_size": null,
       "text_color": null
      }
     },
     "fa2de8937cdf48d3b766ced6ddf99e88": {
      "model_module": "@jupyter-widgets/base",
      "model_module_version": "2.0.0",
      "model_name": "LayoutModel",
      "state": {}
     },
     "fa46abc65e6e43e88c987e8036ab89d7": {
      "model_module": "@jupyter-widgets/base",
      "model_module_version": "2.0.0",
      "model_name": "LayoutModel",
      "state": {}
     },
     "fa4df15e7e4b4b2e984a542a8729c5dc": {
      "model_module": "@jupyter-widgets/controls",
      "model_module_version": "2.0.0",
      "model_name": "FloatProgressModel",
      "state": {
       "bar_style": "success",
       "layout": "IPY_MODEL_aa5c6c2c48964b95a628646c098a2b8f",
       "max": 22,
       "style": "IPY_MODEL_77aa38a0e08743a68e8dda896b284f65",
       "value": 22
      }
     },
     "fa5e549581ee4339b4a5523cdd6ba0fa": {
      "model_module": "@jupyter-widgets/controls",
      "model_module_version": "2.0.0",
      "model_name": "HTMLStyleModel",
      "state": {
       "description_width": "",
       "font_size": null,
       "text_color": null
      }
     },
     "fa85338aaa3b45a2bd3532cdaf853599": {
      "model_module": "@jupyter-widgets/controls",
      "model_module_version": "2.0.0",
      "model_name": "HBoxModel",
      "state": {
       "children": [
        "IPY_MODEL_71615f97d9f941639b1c3066e0fb6ce3",
        "IPY_MODEL_e1006102acb245a2990e45e1ccc8199f",
        "IPY_MODEL_3769c7acfb5d41ec888461a159cf1731"
       ],
       "layout": "IPY_MODEL_ccc82680464841f8bebbd09f523dd5e2"
      }
     },
     "faab560ae8124b37bb028dddbc40464c": {
      "model_module": "@jupyter-widgets/controls",
      "model_module_version": "2.0.0",
      "model_name": "HTMLStyleModel",
      "state": {
       "description_width": "",
       "font_size": null,
       "text_color": null
      }
     },
     "fabe4e8e28c540b8880342dfb25a485f": {
      "model_module": "@jupyter-widgets/controls",
      "model_module_version": "2.0.0",
      "model_name": "HTMLModel",
      "state": {
       "layout": "IPY_MODEL_9aed91ed78f945e1ab5827b36f69fc30",
       "style": "IPY_MODEL_a79a56a29e53482f8e6840e9ff4250e1",
       "value": "100%"
      }
     },
     "facd61ed08e1484e80450b373c8433df": {
      "model_module": "@jupyter-widgets/controls",
      "model_module_version": "2.0.0",
      "model_name": "HTMLStyleModel",
      "state": {
       "description_width": "",
       "font_size": null,
       "text_color": null
      }
     },
     "faef863c7d8842ffab78b4ebd78825da": {
      "model_module": "@jupyter-widgets/controls",
      "model_module_version": "2.0.0",
      "model_name": "HTMLStyleModel",
      "state": {
       "description_width": "",
       "font_size": null,
       "text_color": null
      }
     },
     "fb088b03a98d451fb79fe3bb8b2ec975": {
      "model_module": "@jupyter-widgets/base",
      "model_module_version": "2.0.0",
      "model_name": "LayoutModel",
      "state": {}
     },
     "fb0d83ae23f04d859eb555b28e5451d7": {
      "model_module": "@jupyter-widgets/base",
      "model_module_version": "2.0.0",
      "model_name": "LayoutModel",
      "state": {}
     },
     "fb2140dc3647409badd0662fa4e01be7": {
      "model_module": "@jupyter-widgets/base",
      "model_module_version": "2.0.0",
      "model_name": "LayoutModel",
      "state": {}
     },
     "fb54cf9857704ff4897a74857f3d27c1": {
      "model_module": "@jupyter-widgets/controls",
      "model_module_version": "2.0.0",
      "model_name": "HBoxModel",
      "state": {
       "children": [
        "IPY_MODEL_d2e85995571740bc87e8436aef48f49f",
        "IPY_MODEL_9caa29a0761d407b951963d0469fe422",
        "IPY_MODEL_b320f8d688a845f49e65e00de38d83b6"
       ],
       "layout": "IPY_MODEL_b0fce52e9ba54972becc32772bb6d270"
      }
     },
     "fb75620466d243ccb86ef135e360bb4f": {
      "model_module": "@jupyter-widgets/controls",
      "model_module_version": "2.0.0",
      "model_name": "ProgressStyleModel",
      "state": {
       "description_width": ""
      }
     },
     "fbbebeb7257f45a4ad698c22b0767e30": {
      "model_module": "@jupyter-widgets/controls",
      "model_module_version": "2.0.0",
      "model_name": "HTMLModel",
      "state": {
       "layout": "IPY_MODEL_11c613cc673145aa8f2b41ba1d59a11f",
       "style": "IPY_MODEL_dffd0d61eeb54070a340df219964134e",
       "value": " 22/22 [00:00&lt;00:00, 30.70it/s]"
      }
     },
     "fbc5feeb984e4509a92d39852d14408a": {
      "model_module": "@jupyter-widgets/controls",
      "model_module_version": "2.0.0",
      "model_name": "HBoxModel",
      "state": {
       "children": [
        "IPY_MODEL_6b4b8e8b5f1b4fc89060cc1d63cca530",
        "IPY_MODEL_e991e90ab42840a5ade2ac872f6e01bc",
        "IPY_MODEL_8e33a46b40e34c89a69d5b66c7c7bdf1"
       ],
       "layout": "IPY_MODEL_7df0859391fa484c9c9624a62555d896"
      }
     },
     "fbc7bf301eaf40e488c22f8671876b71": {
      "model_module": "@jupyter-widgets/controls",
      "model_module_version": "2.0.0",
      "model_name": "HTMLModel",
      "state": {
       "layout": "IPY_MODEL_a907daebad7b4e919a08c16ba31912c6",
       "style": "IPY_MODEL_8091cc5f99aa4cd6bf45a0b463728689",
       "value": " 23/23 [00:01&lt;00:00, 21.27it/s]"
      }
     },
     "fbcf1b5281f14db2a407cb048a3cb991": {
      "model_module": "@jupyter-widgets/controls",
      "model_module_version": "2.0.0",
      "model_name": "ProgressStyleModel",
      "state": {
       "description_width": ""
      }
     },
     "fc12080a2ca042949015e25e0d384345": {
      "model_module": "@jupyter-widgets/controls",
      "model_module_version": "2.0.0",
      "model_name": "HBoxModel",
      "state": {
       "children": [
        "IPY_MODEL_0d5cd2ae19cb4270a3b1e87e1ddf9b99",
        "IPY_MODEL_3e7042d542314397aeb9e41837350645",
        "IPY_MODEL_5620cb0924fe43c9a5cad528bfef9751"
       ],
       "layout": "IPY_MODEL_20a8e318a96244018e8c0e32fd01815c"
      }
     },
     "fc22bb46d7024a30a91c287409f5997b": {
      "model_module": "@jupyter-widgets/controls",
      "model_module_version": "2.0.0",
      "model_name": "HBoxModel",
      "state": {
       "children": [
        "IPY_MODEL_76d1ebc8033442ab86208e359556855e",
        "IPY_MODEL_b171083a752648459cf8e101e8308a08",
        "IPY_MODEL_28fbe1d0d1464fbda7d91e3c361ddab4"
       ],
       "layout": "IPY_MODEL_4696e2c0f3b84af884ba79490cf963b9"
      }
     },
     "fc30e48630a44c1eb38b41be9bf60d37": {
      "model_module": "@jupyter-widgets/controls",
      "model_module_version": "2.0.0",
      "model_name": "FloatProgressModel",
      "state": {
       "bar_style": "success",
       "layout": "IPY_MODEL_b90908a07c2548fa9fedeb94dae5fb04",
       "max": 21,
       "style": "IPY_MODEL_d9880c9932da41c6855c3f0f2c22b978",
       "value": 21
      }
     },
     "fc69cdbb784b42498c66015f999d8421": {
      "model_module": "@jupyter-widgets/controls",
      "model_module_version": "2.0.0",
      "model_name": "HTMLModel",
      "state": {
       "layout": "IPY_MODEL_131eb2aedfe848dca5cf0beb3e0838d5",
       "style": "IPY_MODEL_47d8a32a818f44f7b1e15113eb5c663f",
       "value": " 22/22 [00:00&lt;00:00, 47.74it/s]"
      }
     },
     "fc72f0765b544fb085d0939c8140c07f": {
      "model_module": "@jupyter-widgets/controls",
      "model_module_version": "2.0.0",
      "model_name": "ProgressStyleModel",
      "state": {
       "description_width": ""
      }
     },
     "fca18b381ce44c1ba3cab0248f77ad38": {
      "model_module": "@jupyter-widgets/base",
      "model_module_version": "2.0.0",
      "model_name": "LayoutModel",
      "state": {}
     },
     "fca427c59e6b4667b67d7114fbdc1a5f": {
      "model_module": "@jupyter-widgets/controls",
      "model_module_version": "2.0.0",
      "model_name": "HTMLStyleModel",
      "state": {
       "description_width": "",
       "font_size": null,
       "text_color": null
      }
     },
     "fce68373e12b41f1aafd947cea067d0f": {
      "model_module": "@jupyter-widgets/base",
      "model_module_version": "2.0.0",
      "model_name": "LayoutModel",
      "state": {}
     },
     "fd1b9b6660b84cb7b7bdb038ed649c55": {
      "model_module": "@jupyter-widgets/base",
      "model_module_version": "2.0.0",
      "model_name": "LayoutModel",
      "state": {}
     },
     "fd1cc2ee5b444239abadc960158a1910": {
      "model_module": "@jupyter-widgets/controls",
      "model_module_version": "2.0.0",
      "model_name": "HTMLModel",
      "state": {
       "layout": "IPY_MODEL_8145c72566df4829a5a94d3b2957570f",
       "style": "IPY_MODEL_00b89261dfc84854945dcab9da85345c",
       "value": " 23/23 [00:01&lt;00:00, 18.07it/s]"
      }
     },
     "fd34c66e7ba24454bc17007ba8cf245c": {
      "model_module": "@jupyter-widgets/controls",
      "model_module_version": "2.0.0",
      "model_name": "ProgressStyleModel",
      "state": {
       "description_width": ""
      }
     },
     "fd3d7d83820a4ba3a728fd78ac740c91": {
      "model_module": "@jupyter-widgets/controls",
      "model_module_version": "2.0.0",
      "model_name": "HTMLStyleModel",
      "state": {
       "description_width": "",
       "font_size": null,
       "text_color": null
      }
     },
     "fdab151465ac4557a9a8dcc5974e5a6d": {
      "model_module": "@jupyter-widgets/base",
      "model_module_version": "2.0.0",
      "model_name": "LayoutModel",
      "state": {}
     },
     "fdbc07e31a6343fcadbd4aa98095b367": {
      "model_module": "@jupyter-widgets/controls",
      "model_module_version": "2.0.0",
      "model_name": "HTMLModel",
      "state": {
       "layout": "IPY_MODEL_3728c819b5bd4793ba79a51c6e79b9b6",
       "style": "IPY_MODEL_21eaf9964a9c4d77829a6d830782a934",
       "value": " 20/20 [00:00&lt;00:00, 49.17it/s]"
      }
     },
     "fdedc53238a342799f8bb9e4609da232": {
      "model_module": "@jupyter-widgets/controls",
      "model_module_version": "2.0.0",
      "model_name": "HTMLStyleModel",
      "state": {
       "description_width": "",
       "font_size": null,
       "text_color": null
      }
     },
     "fdf3427e33f34434becac426dffe38da": {
      "model_module": "@jupyter-widgets/base",
      "model_module_version": "2.0.0",
      "model_name": "LayoutModel",
      "state": {}
     },
     "fe01f133ef0b4fa8a39999eaddd11c40": {
      "model_module": "@jupyter-widgets/base",
      "model_module_version": "2.0.0",
      "model_name": "LayoutModel",
      "state": {}
     },
     "fe3622a0a45046308f4a5b77e633c802": {
      "model_module": "@jupyter-widgets/base",
      "model_module_version": "2.0.0",
      "model_name": "LayoutModel",
      "state": {}
     },
     "fe3cf4332e524a98aed47dd555ccadfe": {
      "model_module": "@jupyter-widgets/controls",
      "model_module_version": "2.0.0",
      "model_name": "HTMLModel",
      "state": {
       "layout": "IPY_MODEL_1ecbd3b3348945c9a3723e0d1258c9b6",
       "style": "IPY_MODEL_03be1f89a3a149dea4f3bb019cbf174b",
       "value": "100%"
      }
     },
     "fe47d8d3294749469beb71f7071b90d0": {
      "model_module": "@jupyter-widgets/base",
      "model_module_version": "2.0.0",
      "model_name": "LayoutModel",
      "state": {}
     },
     "fe60bf356ac0491dac5d41e056ef9167": {
      "model_module": "@jupyter-widgets/controls",
      "model_module_version": "2.0.0",
      "model_name": "HTMLStyleModel",
      "state": {
       "description_width": "",
       "font_size": null,
       "text_color": null
      }
     },
     "fe6312ff966f4db18942836f3e02b956": {
      "model_module": "@jupyter-widgets/controls",
      "model_module_version": "2.0.0",
      "model_name": "ProgressStyleModel",
      "state": {
       "description_width": ""
      }
     },
     "fe69ef6164de4e2284f9715c03a0daea": {
      "model_module": "@jupyter-widgets/base",
      "model_module_version": "2.0.0",
      "model_name": "LayoutModel",
      "state": {}
     },
     "fe9fbe7d65c34cfb88f5d20c244dec89": {
      "model_module": "@jupyter-widgets/base",
      "model_module_version": "2.0.0",
      "model_name": "LayoutModel",
      "state": {}
     },
     "feaad5a0e78d48a58e17f54c4f0a2ef4": {
      "model_module": "@jupyter-widgets/controls",
      "model_module_version": "2.0.0",
      "model_name": "HBoxModel",
      "state": {
       "children": [
        "IPY_MODEL_b1f17fa5ca394500877b333d44b0266e",
        "IPY_MODEL_a7b7ddbcef3848728843d408534b11f1",
        "IPY_MODEL_5800fe23460c4f4b8d5b2413027e02b8"
       ],
       "layout": "IPY_MODEL_6427bf91124f4e9bb6c6ccbbb04b2c3f"
      }
     },
     "fede667b9ce44a298eaff8cbf1509ded": {
      "model_module": "@jupyter-widgets/base",
      "model_module_version": "2.0.0",
      "model_name": "LayoutModel",
      "state": {}
     },
     "fef240f2e4894923b3637df5c979379c": {
      "model_module": "@jupyter-widgets/controls",
      "model_module_version": "2.0.0",
      "model_name": "ProgressStyleModel",
      "state": {
       "description_width": ""
      }
     },
     "ff03fd7a9393427894e39c6a9e2e7ff3": {
      "model_module": "@jupyter-widgets/controls",
      "model_module_version": "2.0.0",
      "model_name": "HTMLModel",
      "state": {
       "layout": "IPY_MODEL_7988f2126c95459dbf677c0601643a8f",
       "style": "IPY_MODEL_1bcd72171a8d4c18b66d6cc9a187cad7",
       "value": "100%"
      }
     },
     "ff7962d6838e4b55937c9fd2375f980a": {
      "model_module": "@jupyter-widgets/base",
      "model_module_version": "2.0.0",
      "model_name": "LayoutModel",
      "state": {}
     },
     "ffbc07e627e64946b757124202bd2f1b": {
      "model_module": "@jupyter-widgets/base",
      "model_module_version": "2.0.0",
      "model_name": "LayoutModel",
      "state": {}
     },
     "ffc28872af1f4e018bebefe60f3e8bf1": {
      "model_module": "@jupyter-widgets/base",
      "model_module_version": "2.0.0",
      "model_name": "LayoutModel",
      "state": {}
     },
     "ffd91d9b403e430cb4b11ae02de4cbaf": {
      "model_module": "@jupyter-widgets/controls",
      "model_module_version": "2.0.0",
      "model_name": "HTMLModel",
      "state": {
       "layout": "IPY_MODEL_a28cf2f185624bce9d6657cd1e1da704",
       "style": "IPY_MODEL_902c65f071794359ac5274cc6141f404",
       "value": "100%"
      }
     }
    },
    "version_major": 2,
    "version_minor": 0
   }
  }
 },
 "nbformat": 4,
 "nbformat_minor": 4
}
